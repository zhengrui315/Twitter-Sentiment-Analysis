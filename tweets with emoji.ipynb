{
 "cells": [
  {
   "cell_type": "code",
   "execution_count": 399,
   "metadata": {},
   "outputs": [],
   "source": [
    "import pandas as pd\n",
    "import numpy as np\n",
    "import matplotlib.pyplot as plt"
   ]
  },
  {
   "cell_type": "markdown",
   "metadata": {},
   "source": [
    "## 1 - Twitter API Authorization"
   ]
  },
  {
   "cell_type": "code",
   "execution_count": null,
   "metadata": {},
   "outputs": [],
   "source": [
    "import tweepy\n",
    "import sys\n",
    "import csv\n",
    "import time"
   ]
  },
  {
   "cell_type": "code",
   "execution_count": 2,
   "metadata": {},
   "outputs": [],
   "source": [
    "consumer_key = \"uUD5gEyrQx0CDfQ7pjzsrABjb\"\n",
    "consumer_secret = \"Gmz3gNv5FG52Y2f2xE9Nmx1cU5EZZJrxXwr03RyVphyw4DLavl\"\n",
    "access_token = \"1547323880-ESPqufpNIBRIbJayqtGoFhkbD2TVeC1OfsWc7fU\"\n",
    "access_token_secret = \"30XYAnJbesYSYT6hehQzJLLRRhz2OU5BO7eTz8YJeqm7C\"\n",
    "\n",
    "auth = tweepy.OAuthHandler(consumer_key, consumer_secret)\n",
    "auth.set_access_token(access_token, access_token_secret)"
   ]
  },
  {
   "cell_type": "markdown",
   "metadata": {},
   "source": [
    "check [tweepy API](http://tweepy.readthedocs.io/en/v3.5.0/api.html).\n",
    "\n",
    "- `api.user_timeline`: return my tweets\n",
    "- `api.home_timeline`: return tweets on my home page\n",
    "- `items()`, `pages()`: are iterable. "
   ]
  },
  {
   "cell_type": "code",
   "execution_count": null,
   "metadata": {},
   "outputs": [],
   "source": [
    "for status in tweepy.Cursor(api.home_timeline).items():\n",
    "    # Process a single status\n",
    "    print(status.text)"
   ]
  },
  {
   "cell_type": "markdown",
   "metadata": {},
   "source": [
    "## 2 - Data Scraping"
   ]
  },
  {
   "cell_type": "markdown",
   "metadata": {},
   "source": [
    "According to [Top Emojis of World Emoji Day](https://blog.emojipedia.org/top-emojis-of-world-emoji-day/), we will only search for tweets with the top 9 emojis. If there are two emojis, we will .... Refer to [here](https://unicode.org/emoji/charts/full-emoji-list.html) for unicode.\n",
    "- 😂 Face With Tears Of Joy:     $\\qquad$ `0` - U+1F602\n",
    "- 😍 Smiling Face With Heart-Eyes: \n",
    "- ❤️ Red heart\n",
    "- 😀 Grinning Face: $\\quad$ `1` - U+1F600\n",
    "- 😎 Smiling Face With Sunglasses\n",
    "- 🎉 Party Popper: $\\qquad$ `2` - U+1F389\n",
    "- 😊 Smiling Face With Smiling Eyes\n",
    "- 👍 Thumbs Up: $\\qquad$ `3` - U+1F44D\n",
    "- 💩 Pile Of Poo: $\\quad$ `4` - U+1F4A9\n",
    "\n",
    "I could also extract tweets for bigger categories of emoji, but the procedure is very similar. In this project I will select the above five emojis with the labels in shaded fonts for a test run of the sentiment analysis."
   ]
  },
  {
   "cell_type": "markdown",
   "metadata": {},
   "source": [
    "### 2.1 - No stream"
   ]
  },
  {
   "cell_type": "code",
   "execution_count": null,
   "metadata": {},
   "outputs": [],
   "source": [
    "query = [u\"\\U0001F602\",u\"\\U0001F600\",u\"\\U0001F389\",u\"\\U0001F44D\",u\"\\U0001F4A9\"]\n",
    "\n",
    "idx = 1\n",
    "\n",
    "api = tweepy.API(auth)\n",
    "search = tweepy.Cursor(api.search, q=query[idx],lang = 'en').items()\n",
    "filename = 'emoji_nostream_' + str(idx) + '.csv'\n",
    "\n",
    "with open(filename,'a',newline='\\n') as f:\n",
    "    writer = csv.DictWriter(f,fieldnames=['tweet','label'])\n",
    "    writer.writeheader()\n",
    "    for tweet in search:\n",
    "        text = tweet.text        \n",
    "        if query[idx] in text and (not tweet.retweeted):# and ('RT @' not in tweet.text):\n",
    "            writer.writerow({'tweet':text,'label':idx}) "
   ]
  },
  {
   "cell_type": "markdown",
   "metadata": {},
   "source": [
    "#query = 'quantum'\n",
    "query = [u\"\\U0001F602\",u\"\\U0001F600\",u\"\\U0001F389\",u\"\\U0001F44D\",u\"\\U0001F4A9\"]\n",
    "\n",
    "idx = 1\n",
    "\n",
    "api = tweepy.API(auth)\n",
    "search = tweepy.Cursor(api.search, q=query[idx],lang = 'en').items()\n",
    "filename = 'emoji_nostream_' + str(idx) + '.csv'\n",
    "\n",
    "with open(filename,'a',newline='\\n') as f:\n",
    "    writer = csv.DictWriter(f,fieldnames=['tweet','label'])\n",
    "    writer.writeheader()\n",
    "    for tweet in search:\n",
    "        text = tweet.text        \n",
    "        if query[idx] in text and (not tweet.retweeted):# and ('RT @' not in tweet.text):\n",
    "            writer.writerow({'tweet':text,'label':idx}) "
   ]
  },
  {
   "cell_type": "code",
   "execution_count": 68,
   "metadata": {},
   "outputs": [
    {
     "data": {
      "text/html": [
       "<div>\n",
       "<style scoped>\n",
       "    .dataframe tbody tr th:only-of-type {\n",
       "        vertical-align: middle;\n",
       "    }\n",
       "\n",
       "    .dataframe tbody tr th {\n",
       "        vertical-align: top;\n",
       "    }\n",
       "\n",
       "    .dataframe thead th {\n",
       "        text-align: right;\n",
       "    }\n",
       "</style>\n",
       "<table border=\"1\" class=\"dataframe\">\n",
       "  <thead>\n",
       "    <tr style=\"text-align: right;\">\n",
       "      <th></th>\n",
       "      <th>tweet</th>\n",
       "      <th>label</th>\n",
       "    </tr>\n",
       "  </thead>\n",
       "  <tbody>\n",
       "    <tr>\n",
       "      <th>0</th>\n",
       "      <td>@JensenAckles \\n😀HAPPY 14 !!!!!!!!!!!!!!!!!!👍👌...</td>\n",
       "      <td>1</td>\n",
       "    </tr>\n",
       "    <tr>\n",
       "      <th>1</th>\n",
       "      <td>Puppy sitting Rumi tonight! Great way to end a...</td>\n",
       "      <td>1</td>\n",
       "    </tr>\n",
       "    <tr>\n",
       "      <th>2</th>\n",
       "      <td>RT @20KD18: Good Day Everyone 😀 May I ask a li...</td>\n",
       "      <td>1</td>\n",
       "    </tr>\n",
       "    <tr>\n",
       "      <th>3</th>\n",
       "      <td>Habby Birzday @Pali_Mudda 🤓 thanks for sharing...</td>\n",
       "      <td>1</td>\n",
       "    </tr>\n",
       "    <tr>\n",
       "      <th>4</th>\n",
       "      <td>RT @Rohandinho_: Barca, Real, Bayern, Man City...</td>\n",
       "      <td>1</td>\n",
       "    </tr>\n",
       "  </tbody>\n",
       "</table>\n",
       "</div>"
      ],
      "text/plain": [
       "                                               tweet  label\n",
       "0  @JensenAckles \\n😀HAPPY 14 !!!!!!!!!!!!!!!!!!👍👌...      1\n",
       "1  Puppy sitting Rumi tonight! Great way to end a...      1\n",
       "2  RT @20KD18: Good Day Everyone 😀 May I ask a li...      1\n",
       "3  Habby Birzday @Pali_Mudda 🤓 thanks for sharing...      1\n",
       "4  RT @Rohandinho_: Barca, Real, Bayern, Man City...      1"
      ]
     },
     "execution_count": 68,
     "metadata": {},
     "output_type": "execute_result"
    }
   ],
   "source": [
    "df = pd.read_csv(filename)\n",
    "df.head()"
   ]
  },
  {
   "cell_type": "code",
   "execution_count": 60,
   "metadata": {},
   "outputs": [
    {
     "data": {
      "text/plain": [
       "(2132, 2)"
      ]
     },
     "execution_count": 60,
     "metadata": {},
     "output_type": "execute_result"
    }
   ],
   "source": [
    "df.shape"
   ]
  },
  {
   "cell_type": "markdown",
   "metadata": {},
   "source": [
    "### 2.2 - Stream"
   ]
  },
  {
   "cell_type": "markdown",
   "metadata": {},
   "source": [
    "Click [here](https://developer.twitter.com/en/docs/tweets/filter-realtime/guides/basic-stream-parameters) for Standard streaming API request parameters. The github is [here](https://github.com/tweepy/tweepy/blob/v3.4.0/tweepy/streaming.py)."
   ]
  },
  {
   "cell_type": "markdown",
   "metadata": {},
   "source": [
    "### 2.3 - Concatenation"
   ]
  },
  {
   "cell_type": "code",
   "execution_count": 85,
   "metadata": {
    "scrolled": true
   },
   "outputs": [
    {
     "name": "stdout",
     "output_type": "stream",
     "text": [
      "df0.shape=  (2376, 2)\n",
      "df1.shape=  (1886, 2)\n",
      "df2.shape=  (4607, 2)\n",
      "df3.shape=  (1860, 2)\n",
      "df4.shape=  (2132, 2)\n"
     ]
    }
   ],
   "source": [
    "filenames = ['emoji_nostream_' + str(idx) + '.csv' for idx in range(5)]\n",
    "dfs = [pd.read_csv(filename) for filename in filenames]\n",
    "for i in range(5):\n",
    "    print('df{}.shape= '.format(i), dfs[i].shape)"
   ]
  },
  {
   "cell_type": "markdown",
   "metadata": {},
   "source": [
    "[DataFrame.reset_index](https://pandas.pydata.org/pandas-docs/stable/generated/pandas.DataFrame.reset_index.html). I set drop=True to remove the old index. [DataFrame.sample](https://pandas.pydata.org/pandas-docs/stable/generated/pandas.DataFrame.sample.html)."
   ]
  },
  {
   "cell_type": "code",
   "execution_count": 86,
   "metadata": {},
   "outputs": [
    {
     "name": "stdout",
     "output_type": "stream",
     "text": [
      "length of df0 = 2376\n",
      "length of df1 = 1886\n",
      "length of df2 = 2304\n",
      "length of df3 = 1860\n",
      "length of df4 = 2132\n"
     ]
    }
   ],
   "source": [
    "dfs[2] = dfs[2].sample(frac=0.5,random_state=99).reset_index(drop=True)\n",
    "for i in range(5):\n",
    "    print('length of df{} ='.format(i),len(dfs[i]))"
   ]
  },
  {
   "cell_type": "markdown",
   "metadata": {},
   "source": [
    "Now the four categories have similar size. We are good to go."
   ]
  },
  {
   "cell_type": "code",
   "execution_count": 145,
   "metadata": {},
   "outputs": [
    {
     "data": {
      "text/html": [
       "<div>\n",
       "<style scoped>\n",
       "    .dataframe tbody tr th:only-of-type {\n",
       "        vertical-align: middle;\n",
       "    }\n",
       "\n",
       "    .dataframe tbody tr th {\n",
       "        vertical-align: top;\n",
       "    }\n",
       "\n",
       "    .dataframe thead th {\n",
       "        text-align: right;\n",
       "    }\n",
       "</style>\n",
       "<table border=\"1\" class=\"dataframe\">\n",
       "  <thead>\n",
       "    <tr style=\"text-align: right;\">\n",
       "      <th></th>\n",
       "      <th>tweet</th>\n",
       "      <th>label</th>\n",
       "    </tr>\n",
       "  </thead>\n",
       "  <tbody>\n",
       "    <tr>\n",
       "      <th>0</th>\n",
       "      <td>RT @denmatai190: | 👑411K FOLLOWERS!!!👑\\n|∧∧\"\"\\...</td>\n",
       "      <td>3</td>\n",
       "    </tr>\n",
       "    <tr>\n",
       "      <th>1</th>\n",
       "      <td>@6CentsRose My nieces and nephews were young, ...</td>\n",
       "      <td>1</td>\n",
       "    </tr>\n",
       "    <tr>\n",
       "      <th>2</th>\n",
       "      <td>@HobiLove94 Happy Birthday 🎉🎈</td>\n",
       "      <td>2</td>\n",
       "    </tr>\n",
       "    <tr>\n",
       "      <th>3</th>\n",
       "      <td>@bravoholclique Me! I never get a chance to wa...</td>\n",
       "      <td>1</td>\n",
       "    </tr>\n",
       "    <tr>\n",
       "      <th>4</th>\n",
       "      <td>RT @RoanhorseBex: 🎉ANNOUNCEMENT🎉That Anasazi-i...</td>\n",
       "      <td>2</td>\n",
       "    </tr>\n",
       "  </tbody>\n",
       "</table>\n",
       "</div>"
      ],
      "text/plain": [
       "                                               tweet label\n",
       "0  RT @denmatai190: | 👑411K FOLLOWERS!!!👑\\n|∧∧\"\"\\...     3\n",
       "1  @6CentsRose My nieces and nephews were young, ...     1\n",
       "2                      @HobiLove94 Happy Birthday 🎉🎈     2\n",
       "3  @bravoholclique Me! I never get a chance to wa...     1\n",
       "4  RT @RoanhorseBex: 🎉ANNOUNCEMENT🎉That Anasazi-i...     2"
      ]
     },
     "execution_count": 145,
     "metadata": {},
     "output_type": "execute_result"
    }
   ],
   "source": [
    "df_raw = pd.concat(dfs)\n",
    "\n",
    "#shuffle the row to mix the five categories\n",
    "df_raw = df_raw.sample(frac=1,random_state=99).reset_index(drop=True)\n",
    "df_raw.head()"
   ]
  },
  {
   "cell_type": "code",
   "execution_count": 146,
   "metadata": {},
   "outputs": [
    {
     "data": {
      "text/plain": [
       "(10558, 2)"
      ]
     },
     "execution_count": 146,
     "metadata": {},
     "output_type": "execute_result"
    }
   ],
   "source": [
    "df_raw.shape"
   ]
  },
  {
   "cell_type": "code",
   "execution_count": 147,
   "metadata": {},
   "outputs": [
    {
     "data": {
      "text/plain": [
       "'RT @denmatai190: | 👑411K FOLLOWERS!!!👑\\n|∧∧\"\"\\n| * ¯ ³¯)Chu💕Makina Yui🎥💘\\n|⊂ノ\\u3000\\u3000\\u3000\\u3000  \\n \\nTHANK YOU GUYS SO MUCH😉👍\\n\\n👏WeAllLovePorn👏 https://t.co/P…'"
      ]
     },
     "execution_count": 147,
     "metadata": {},
     "output_type": "execute_result"
    }
   ],
   "source": [
    "df_raw.iloc[0].tweet"
   ]
  },
  {
   "cell_type": "markdown",
   "metadata": {},
   "source": [
    "## 3 - data cleaning"
   ]
  },
  {
   "cell_type": "markdown",
   "metadata": {},
   "source": [
    "**to-do list:**\n",
    "- `duplicates`: there should be some tweets with more than one emoji, I will drop them all duplicate occurences. \n",
    "- `#hashtag`: I will keep them because it's likely they convey useful messages. **I have delete them below, take them back?**\n",
    "- `@username`, `emoji`, `punctuations`, `r'https?://'`: drop all non-alphanumeric symbols `\\W`\n",
    "- convert to `lowercase`\n",
    "- `tense`, `plurals`\n",
    "- deal with words such as 'sooooo'\n",
    "- get rid of 'an','the', etc\n",
    "\n",
    "I will be using python3 [regex](https://docs.python.org/3.4/library/re.html)."
   ]
  },
  {
   "cell_type": "markdown",
   "metadata": {},
   "source": [
    "https://web.stanford.edu/~jesszhao/files/twitterSentiment.pdf\n",
    "\n",
    "https://towardsdatascience.com/another-twitter-sentiment-analysis-bb5b01ebad90"
   ]
  },
  {
   "cell_type": "code",
   "execution_count": 204,
   "metadata": {},
   "outputs": [
    {
     "data": {
      "text/html": [
       "<div>\n",
       "<style scoped>\n",
       "    .dataframe tbody tr th:only-of-type {\n",
       "        vertical-align: middle;\n",
       "    }\n",
       "\n",
       "    .dataframe tbody tr th {\n",
       "        vertical-align: top;\n",
       "    }\n",
       "\n",
       "    .dataframe thead th {\n",
       "        text-align: right;\n",
       "    }\n",
       "</style>\n",
       "<table border=\"1\" class=\"dataframe\">\n",
       "  <thead>\n",
       "    <tr style=\"text-align: right;\">\n",
       "      <th></th>\n",
       "      <th>tweet</th>\n",
       "      <th>label</th>\n",
       "    </tr>\n",
       "  </thead>\n",
       "  <tbody>\n",
       "    <tr>\n",
       "      <th>0</th>\n",
       "      <td>RT @denmatai190: | 👑411K FOLLOWERS!!!👑\\n|∧∧\"\"\\...</td>\n",
       "      <td>3</td>\n",
       "    </tr>\n",
       "    <tr>\n",
       "      <th>1</th>\n",
       "      <td>@6CentsRose My nieces and nephews were young, ...</td>\n",
       "      <td>1</td>\n",
       "    </tr>\n",
       "    <tr>\n",
       "      <th>2</th>\n",
       "      <td>@HobiLove94 Happy Birthday 🎉🎈</td>\n",
       "      <td>2</td>\n",
       "    </tr>\n",
       "    <tr>\n",
       "      <th>3</th>\n",
       "      <td>@bravoholclique Me! I never get a chance to wa...</td>\n",
       "      <td>1</td>\n",
       "    </tr>\n",
       "    <tr>\n",
       "      <th>4</th>\n",
       "      <td>RT @RoanhorseBex: 🎉ANNOUNCEMENT🎉That Anasazi-i...</td>\n",
       "      <td>2</td>\n",
       "    </tr>\n",
       "    <tr>\n",
       "      <th>5</th>\n",
       "      <td>@bankkroll_ 😂😂😂 you shoulda got footage</td>\n",
       "      <td>0</td>\n",
       "    </tr>\n",
       "    <tr>\n",
       "      <th>6</th>\n",
       "      <td>RT @Monica_Sheehan: @AtxJecklinx happy birthda...</td>\n",
       "      <td>2</td>\n",
       "    </tr>\n",
       "    <tr>\n",
       "      <th>7</th>\n",
       "      <td>RT @YuhboyYsn: New shit 🔥🔥🔥🔥 or 💩💩💩💩? https://...</td>\n",
       "      <td>4</td>\n",
       "    </tr>\n",
       "    <tr>\n",
       "      <th>8</th>\n",
       "      <td>@yaboy_jody I just had to know that 💩 look sus...</td>\n",
       "      <td>4</td>\n",
       "    </tr>\n",
       "    <tr>\n",
       "      <th>9</th>\n",
       "      <td>@BroadwayBillLee @WCBSFM Absolute class 👍 👍 👍</td>\n",
       "      <td>3</td>\n",
       "    </tr>\n",
       "  </tbody>\n",
       "</table>\n",
       "</div>"
      ],
      "text/plain": [
       "                                               tweet label\n",
       "0  RT @denmatai190: | 👑411K FOLLOWERS!!!👑\\n|∧∧\"\"\\...     3\n",
       "1  @6CentsRose My nieces and nephews were young, ...     1\n",
       "2                      @HobiLove94 Happy Birthday 🎉🎈     2\n",
       "3  @bravoholclique Me! I never get a chance to wa...     1\n",
       "4  RT @RoanhorseBex: 🎉ANNOUNCEMENT🎉That Anasazi-i...     2\n",
       "5            @bankkroll_ 😂😂😂 you shoulda got footage     0\n",
       "6  RT @Monica_Sheehan: @AtxJecklinx happy birthda...     2\n",
       "7  RT @YuhboyYsn: New shit 🔥🔥🔥🔥 or 💩💩💩💩? https://...     4\n",
       "8  @yaboy_jody I just had to know that 💩 look sus...     4\n",
       "9      @BroadwayBillLee @WCBSFM Absolute class 👍 👍 👍     3"
      ]
     },
     "execution_count": 204,
     "metadata": {},
     "output_type": "execute_result"
    }
   ],
   "source": [
    "df_raw.head(10)"
   ]
  },
  {
   "cell_type": "markdown",
   "metadata": {},
   "source": [
    "### 3.1 - Duplicates"
   ]
  },
  {
   "cell_type": "code",
   "execution_count": 283,
   "metadata": {},
   "outputs": [
    {
     "data": {
      "text/plain": [
       "False    7666\n",
       "True     2892\n",
       "Name: tweet, dtype: int64"
      ]
     },
     "execution_count": 283,
     "metadata": {},
     "output_type": "execute_result"
    }
   ],
   "source": [
    "# check duplicates\n",
    "df_raw.tweet.duplicated().value_counts()"
   ]
  },
  {
   "cell_type": "markdown",
   "metadata": {},
   "source": [
    "[DataFrame.drop_duplicates](http://pandas.pydata.org/pandas-docs/version/0.17/generated/pandas.DataFrame.drop_duplicates.html): the default for `keep` is `'first'`, which means drop duplicates except the first occurence. I will drop all occurences, so `keep=False`. "
   ]
  },
  {
   "cell_type": "code",
   "execution_count": 284,
   "metadata": {},
   "outputs": [
    {
     "name": "stdout",
     "output_type": "stream",
     "text": [
      "False    7066\n",
      "Name: tweet, dtype: int64\n"
     ]
    },
    {
     "data": {
      "text/plain": [
       "0    0.236202\n",
       "4    0.221059\n",
       "1    0.207897\n",
       "3    0.173224\n",
       "2    0.161619\n",
       "Name: label, dtype: float64"
      ]
     },
     "execution_count": 284,
     "metadata": {},
     "output_type": "execute_result"
    }
   ],
   "source": [
    "df = df_raw.drop_duplicates(['tweet'],keep=False)\n",
    "\n",
    "print(df.tweet.duplicated().value_counts())\n",
    "df.label.value_counts(normalize=True)"
   ]
  },
  {
   "cell_type": "markdown",
   "metadata": {},
   "source": [
    "### 3.1 - hashtag, @, 'http://'"
   ]
  },
  {
   "cell_type": "code",
   "execution_count": 285,
   "metadata": {},
   "outputs": [],
   "source": [
    "df1 = df.copy()"
   ]
  },
  {
   "cell_type": "code",
   "execution_count": 297,
   "metadata": {},
   "outputs": [
    {
     "data": {
      "text/plain": [
       "4858"
      ]
     },
     "execution_count": 297,
     "metadata": {},
     "output_type": "execute_result"
    }
   ],
   "source": [
    "df_raw['tweet'].str.count(r'#\\S*').sum()"
   ]
  },
  {
   "cell_type": "code",
   "execution_count": 164,
   "metadata": {},
   "outputs": [
    {
     "data": {
      "text/plain": [
       "5124"
      ]
     },
     "execution_count": 164,
     "metadata": {},
     "output_type": "execute_result"
    }
   ],
   "source": [
    "df_raw['tweet'].str.count(r'https://').sum()"
   ]
  },
  {
   "cell_type": "code",
   "execution_count": 166,
   "metadata": {},
   "outputs": [
    {
     "data": {
      "text/plain": [
       "4"
      ]
     },
     "execution_count": 166,
     "metadata": {},
     "output_type": "execute_result"
    }
   ],
   "source": [
    "df_raw['tweet'].str.count(r'http://').sum()"
   ]
  },
  {
   "cell_type": "code",
   "execution_count": 167,
   "metadata": {},
   "outputs": [
    {
     "data": {
      "text/plain": [
       "5249"
      ]
     },
     "execution_count": 167,
     "metadata": {},
     "output_type": "execute_result"
    }
   ],
   "source": [
    "df_raw['tweet'].str.count(r'^ *RT').sum()"
   ]
  },
  {
   "cell_type": "code",
   "execution_count": 168,
   "metadata": {},
   "outputs": [
    {
     "data": {
      "text/plain": [
       "13638"
      ]
     },
     "execution_count": 168,
     "metadata": {},
     "output_type": "execute_result"
    }
   ],
   "source": [
    "df_raw['tweet'].str.count(r'@[a-zA-Z0-9_]+').sum()"
   ]
  },
  {
   "cell_type": "code",
   "execution_count": 286,
   "metadata": {},
   "outputs": [
    {
     "name": "stdout",
     "output_type": "stream",
     "text": [
      "0\n"
     ]
    },
    {
     "data": {
      "text/html": [
       "<div>\n",
       "<style scoped>\n",
       "    .dataframe tbody tr th:only-of-type {\n",
       "        vertical-align: middle;\n",
       "    }\n",
       "\n",
       "    .dataframe tbody tr th {\n",
       "        vertical-align: top;\n",
       "    }\n",
       "\n",
       "    .dataframe thead th {\n",
       "        text-align: right;\n",
       "    }\n",
       "</style>\n",
       "<table border=\"1\" class=\"dataframe\">\n",
       "  <thead>\n",
       "    <tr style=\"text-align: right;\">\n",
       "      <th></th>\n",
       "      <th>tweet</th>\n",
       "      <th>label</th>\n",
       "    </tr>\n",
       "  </thead>\n",
       "  <tbody>\n",
       "    <tr>\n",
       "      <th>0</th>\n",
       "      <td>@denmatai190: | 👑411K FOLLOWERS!!!👑\\n|∧∧\"\"\\n|...</td>\n",
       "      <td>3</td>\n",
       "    </tr>\n",
       "    <tr>\n",
       "      <th>1</th>\n",
       "      <td>@6CentsRose My nieces and nephews were young, ...</td>\n",
       "      <td>1</td>\n",
       "    </tr>\n",
       "    <tr>\n",
       "      <th>2</th>\n",
       "      <td>@HobiLove94 Happy Birthday 🎉🎈</td>\n",
       "      <td>2</td>\n",
       "    </tr>\n",
       "    <tr>\n",
       "      <th>3</th>\n",
       "      <td>@bravoholclique Me! I never get a chance to wa...</td>\n",
       "      <td>1</td>\n",
       "    </tr>\n",
       "    <tr>\n",
       "      <th>4</th>\n",
       "      <td>@RoanhorseBex: 🎉ANNOUNCEMENT🎉That Anasazi-ins...</td>\n",
       "      <td>2</td>\n",
       "    </tr>\n",
       "  </tbody>\n",
       "</table>\n",
       "</div>"
      ],
      "text/plain": [
       "                                               tweet label\n",
       "0   @denmatai190: | 👑411K FOLLOWERS!!!👑\\n|∧∧\"\"\\n|...     3\n",
       "1  @6CentsRose My nieces and nephews were young, ...     1\n",
       "2                      @HobiLove94 Happy Birthday 🎉🎈     2\n",
       "3  @bravoholclique Me! I never get a chance to wa...     1\n",
       "4   @RoanhorseBex: 🎉ANNOUNCEMENT🎉That Anasazi-ins...     2"
      ]
     },
     "execution_count": 286,
     "metadata": {},
     "output_type": "execute_result"
    }
   ],
   "source": [
    "# remove the leading 'RT'\n",
    "df1['tweet'] = df['tweet'].str.replace(r'^ *RT ', ' ')\n",
    "print(df1['tweet'].str.count(r'^ *RT').sum())\n",
    "df1.head()"
   ]
  },
  {
   "cell_type": "code",
   "execution_count": 287,
   "metadata": {},
   "outputs": [
    {
     "name": "stdout",
     "output_type": "stream",
     "text": [
      "0\n"
     ]
    },
    {
     "data": {
      "text/html": [
       "<div>\n",
       "<style scoped>\n",
       "    .dataframe tbody tr th:only-of-type {\n",
       "        vertical-align: middle;\n",
       "    }\n",
       "\n",
       "    .dataframe tbody tr th {\n",
       "        vertical-align: top;\n",
       "    }\n",
       "\n",
       "    .dataframe thead th {\n",
       "        text-align: right;\n",
       "    }\n",
       "</style>\n",
       "<table border=\"1\" class=\"dataframe\">\n",
       "  <thead>\n",
       "    <tr style=\"text-align: right;\">\n",
       "      <th></th>\n",
       "      <th>tweet</th>\n",
       "      <th>label</th>\n",
       "    </tr>\n",
       "  </thead>\n",
       "  <tbody>\n",
       "    <tr>\n",
       "      <th>0</th>\n",
       "      <td>: | 👑411K FOLLOWERS!!!👑\\n|∧∧\"\"\\n| * ¯ ³¯)Chu...</td>\n",
       "      <td>3</td>\n",
       "    </tr>\n",
       "    <tr>\n",
       "      <th>1</th>\n",
       "      <td>My nieces and nephews were young, so it was ...</td>\n",
       "      <td>1</td>\n",
       "    </tr>\n",
       "    <tr>\n",
       "      <th>2</th>\n",
       "      <td>Happy Birthday 🎉🎈</td>\n",
       "      <td>2</td>\n",
       "    </tr>\n",
       "    <tr>\n",
       "      <th>3</th>\n",
       "      <td>Me! I never get a chance to watch it live! 😀</td>\n",
       "      <td>1</td>\n",
       "    </tr>\n",
       "    <tr>\n",
       "      <th>4</th>\n",
       "      <td>: 🎉ANNOUNCEMENT🎉That Anasazi-inspired epic f...</td>\n",
       "      <td>2</td>\n",
       "    </tr>\n",
       "  </tbody>\n",
       "</table>\n",
       "</div>"
      ],
      "text/plain": [
       "                                               tweet label\n",
       "0    : | 👑411K FOLLOWERS!!!👑\\n|∧∧\"\"\\n| * ¯ ³¯)Chu...     3\n",
       "1    My nieces and nephews were young, so it was ...     1\n",
       "2                                  Happy Birthday 🎉🎈     2\n",
       "3       Me! I never get a chance to watch it live! 😀     1\n",
       "4    : 🎉ANNOUNCEMENT🎉That Anasazi-inspired epic f...     2"
      ]
     },
     "execution_count": 287,
     "metadata": {},
     "output_type": "execute_result"
    }
   ],
   "source": [
    "# remove @\n",
    "df1['tweet'] = df1['tweet'].str.replace(r'@[a-zA-Z0-9_]+', ' ')\n",
    "print(df1.tweet.str.count(r'@[a-zA-Z0-9_]+').sum())\n",
    "df1.head()"
   ]
  },
  {
   "cell_type": "code",
   "execution_count": 294,
   "metadata": {},
   "outputs": [
    {
     "name": "stdout",
     "output_type": "stream",
     "text": [
      "0\n"
     ]
    },
    {
     "data": {
      "text/html": [
       "<div>\n",
       "<style scoped>\n",
       "    .dataframe tbody tr th:only-of-type {\n",
       "        vertical-align: middle;\n",
       "    }\n",
       "\n",
       "    .dataframe tbody tr th {\n",
       "        vertical-align: top;\n",
       "    }\n",
       "\n",
       "    .dataframe thead th {\n",
       "        text-align: right;\n",
       "    }\n",
       "</style>\n",
       "<table border=\"1\" class=\"dataframe\">\n",
       "  <thead>\n",
       "    <tr style=\"text-align: right;\">\n",
       "      <th></th>\n",
       "      <th>tweet</th>\n",
       "      <th>label</th>\n",
       "    </tr>\n",
       "  </thead>\n",
       "  <tbody>\n",
       "    <tr>\n",
       "      <th>0</th>\n",
       "      <td>411k followers                    chu m...</td>\n",
       "      <td>3</td>\n",
       "    </tr>\n",
       "    <tr>\n",
       "      <th>1</th>\n",
       "      <td>my nieces and nephews were young  so it was ...</td>\n",
       "      <td>1</td>\n",
       "    </tr>\n",
       "    <tr>\n",
       "      <th>2</th>\n",
       "      <td>happy birthday</td>\n",
       "      <td>2</td>\n",
       "    </tr>\n",
       "    <tr>\n",
       "      <th>3</th>\n",
       "      <td>me  i never get a chance to watch it live</td>\n",
       "      <td>1</td>\n",
       "    </tr>\n",
       "    <tr>\n",
       "      <th>4</th>\n",
       "      <td>announcement that anasazi inspired epic f...</td>\n",
       "      <td>2</td>\n",
       "    </tr>\n",
       "  </tbody>\n",
       "</table>\n",
       "</div>"
      ],
      "text/plain": [
       "                                               tweet label\n",
       "0         411k followers                    chu m...     3\n",
       "1    my nieces and nephews were young  so it was ...     1\n",
       "2                                   happy birthday       2\n",
       "3       me  i never get a chance to watch it live        1\n",
       "4       announcement that anasazi inspired epic f...     2"
      ]
     },
     "execution_count": 294,
     "metadata": {},
     "output_type": "execute_result"
    }
   ],
   "source": [
    "# remove hashtag\n",
    "df1['tweet'] = df1['tweet'].str.replace(r'#\\S*', ' ')\n",
    "print(df1.tweet.str.count(r'@[a-zA-Z0-9_]+').sum())\n",
    "df1.head()"
   ]
  },
  {
   "cell_type": "code",
   "execution_count": 288,
   "metadata": {},
   "outputs": [
    {
     "name": "stdout",
     "output_type": "stream",
     "text": [
      "0\n"
     ]
    },
    {
     "data": {
      "text/plain": [
       "0       : | 👑411K FOLLOWERS!!!👑\\n|∧∧\"\"\\n| * ¯ ³¯)Chu...\n",
       "1       My nieces and nephews were young, so it was ...\n",
       "2                                     Happy Birthday 🎉🎈\n",
       "3          Me! I never get a chance to watch it live! 😀\n",
       "4       : 🎉ANNOUNCEMENT🎉That Anasazi-inspired epic f...\n",
       "5                           😂😂😂 you shoulda got footage\n",
       "6                              :   happy birthday!!!🎉🎂🎁\n",
       "8         I just had to know that 💩 look sus as hell 😂😂\n",
       "9                                  Absolute class 👍 👍 👍\n",
       "10    The CW officially renewed Supernatural! There’...\n",
       "Name: tweet, dtype: object"
      ]
     },
     "execution_count": 288,
     "metadata": {},
     "output_type": "execute_result"
    }
   ],
   "source": [
    "# remove http:// and https://\n",
    "df1['tweet'] = df1['tweet'].str.replace(r'https?://[a-zA-Z0-9/\\.]*', ' ')\n",
    "print(df1['tweet'].str.count(r'https://[a-zA-Z0-9_]*').sum())\n",
    "df1.tweet.head(10)"
   ]
  },
  {
   "cell_type": "code",
   "execution_count": 289,
   "metadata": {},
   "outputs": [
    {
     "data": {
      "text/html": [
       "<div>\n",
       "<style scoped>\n",
       "    .dataframe tbody tr th:only-of-type {\n",
       "        vertical-align: middle;\n",
       "    }\n",
       "\n",
       "    .dataframe tbody tr th {\n",
       "        vertical-align: top;\n",
       "    }\n",
       "\n",
       "    .dataframe thead th {\n",
       "        text-align: right;\n",
       "    }\n",
       "</style>\n",
       "<table border=\"1\" class=\"dataframe\">\n",
       "  <thead>\n",
       "    <tr style=\"text-align: right;\">\n",
       "      <th></th>\n",
       "      <th>tweet</th>\n",
       "      <th>label</th>\n",
       "    </tr>\n",
       "  </thead>\n",
       "  <tbody>\n",
       "    <tr>\n",
       "      <th>0</th>\n",
       "      <td>: |  411K FOLLOWERS!!! \\n|∧∧\"\"\\n| * ¯ ³¯)Chu...</td>\n",
       "      <td>3</td>\n",
       "    </tr>\n",
       "    <tr>\n",
       "      <th>1</th>\n",
       "      <td>My nieces and nephews were young, so it was ...</td>\n",
       "      <td>1</td>\n",
       "    </tr>\n",
       "    <tr>\n",
       "      <th>2</th>\n",
       "      <td>Happy Birthday</td>\n",
       "      <td>2</td>\n",
       "    </tr>\n",
       "    <tr>\n",
       "      <th>3</th>\n",
       "      <td>Me! I never get a chance to watch it live!</td>\n",
       "      <td>1</td>\n",
       "    </tr>\n",
       "    <tr>\n",
       "      <th>4</th>\n",
       "      <td>:  ANNOUNCEMENT That Anasazi-inspired epic f...</td>\n",
       "      <td>2</td>\n",
       "    </tr>\n",
       "    <tr>\n",
       "      <th>5</th>\n",
       "      <td>you shoulda got footage</td>\n",
       "      <td>0</td>\n",
       "    </tr>\n",
       "    <tr>\n",
       "      <th>6</th>\n",
       "      <td>:   happy birthday!!!</td>\n",
       "      <td>2</td>\n",
       "    </tr>\n",
       "    <tr>\n",
       "      <th>8</th>\n",
       "      <td>I just had to know that   look sus as hell</td>\n",
       "      <td>4</td>\n",
       "    </tr>\n",
       "    <tr>\n",
       "      <th>9</th>\n",
       "      <td>Absolute class</td>\n",
       "      <td>3</td>\n",
       "    </tr>\n",
       "    <tr>\n",
       "      <th>10</th>\n",
       "      <td>The CW officially renewed Supernatural! There’...</td>\n",
       "      <td>2</td>\n",
       "    </tr>\n",
       "  </tbody>\n",
       "</table>\n",
       "</div>"
      ],
      "text/plain": [
       "                                                tweet label\n",
       "0     : |  411K FOLLOWERS!!! \\n|∧∧\"\"\\n| * ¯ ³¯)Chu...     3\n",
       "1     My nieces and nephews were young, so it was ...     1\n",
       "2                                    Happy Birthday       2\n",
       "3        Me! I never get a chance to watch it live!       1\n",
       "4     :  ANNOUNCEMENT That Anasazi-inspired epic f...     2\n",
       "5                             you shoulda got footage     0\n",
       "6                              :   happy birthday!!!      2\n",
       "8        I just had to know that   look sus as hell       4\n",
       "9                                Absolute class           3\n",
       "10  The CW officially renewed Supernatural! There’...     2"
      ]
     },
     "execution_count": 289,
     "metadata": {},
     "output_type": "execute_result"
    }
   ],
   "source": [
    "# remove emoji\n",
    "\n",
    "# https://stackoverflow.com/questions/33404752/removing-emojis-from-a-string-in-python\n",
    "pattern = \"[\"u\"\\U0001F600-\\U0001F64F\"u\"\\U0001F300-\\U0001F5FF\"u\"\\U0001F680-\\U0001F6FF\"u\"\\U0001F1E0-\\U0001F1FF\"\"]+\"\n",
    "df1['tweet']= df1['tweet'].str.replace(pattern,' ')\n",
    "df1.head(10)"
   ]
  },
  {
   "cell_type": "code",
   "execution_count": 290,
   "metadata": {},
   "outputs": [
    {
     "data": {
      "text/plain": [
       "0            411K FOLLOWERS                    Chu M...\n",
       "1       My nieces and nephews were young  so it was ...\n",
       "2                                      Happy Birthday  \n",
       "3          Me  I never get a chance to watch it live   \n",
       "4          ANNOUNCEMENT That Anasazi inspired epic f...\n",
       "5                               you shoulda got footage\n",
       "6                                    happy birthday    \n",
       "8          I just had to know that   look sus as hell  \n",
       "9                                  Absolute class      \n",
       "10    The CW officially renewed Supernatural  There ...\n",
       "Name: tweet, dtype: object"
      ]
     },
     "execution_count": 290,
     "metadata": {},
     "output_type": "execute_result"
    }
   ],
   "source": [
    "# I decide to remove all non alphanumeric characters\n",
    "\n",
    "df1['tweet']= df1['tweet'].str.replace(r'[^a-zA-Z0-9]',' ')\n",
    "df1.tweet.head(10)"
   ]
  },
  {
   "cell_type": "code",
   "execution_count": 291,
   "metadata": {},
   "outputs": [
    {
     "data": {
      "text/plain": [
       "0            411k followers                    chu m...\n",
       "1       my nieces and nephews were young  so it was ...\n",
       "2                                      happy birthday  \n",
       "3          me  i never get a chance to watch it live   \n",
       "4          announcement that anasazi inspired epic f...\n",
       "5                               you shoulda got footage\n",
       "6                                    happy birthday    \n",
       "8          i just had to know that   look sus as hell  \n",
       "9                                  absolute class      \n",
       "10    the cw officially renewed supernatural  there ...\n",
       "Name: tweet, dtype: object"
      ]
     },
     "execution_count": 291,
     "metadata": {},
     "output_type": "execute_result"
    }
   ],
   "source": [
    "# convert to lowercase\n",
    "\n",
    "df1['tweet']= df1['tweet'].str.lower()\n",
    "df1.tweet.head(10)"
   ]
  },
  {
   "cell_type": "code",
   "execution_count": 304,
   "metadata": {},
   "outputs": [
    {
     "data": {
      "text/plain": [
       "0    411k followers chu makina yui thank you guys s...\n",
       "1    my nieces and nephews were young so it was my ...\n",
       "2                                       happy birthday\n",
       "3             me i never get a chance to watch it live\n",
       "4    announcement that anasazi inspired epic fantas...\n",
       "Name: tweet, dtype: object"
      ]
     },
     "execution_count": 304,
     "metadata": {},
     "output_type": "execute_result"
    }
   ],
   "source": [
    "# remove extra white space characters\n",
    "\n",
    "df1['tweet'] = df1['tweet'].apply(lambda x: ' '.join(x.split()))\n",
    "df1['tweet'].head()"
   ]
  },
  {
   "cell_type": "code",
   "execution_count": 310,
   "metadata": {},
   "outputs": [
    {
     "name": "stdout",
     "output_type": "stream",
     "text": [
      "RT @mozilla: Twenty years! 🎂 🎉\n",
      "\n",
      "It’s been two decades since we first logged on as the Mozilla project and got started bringing together the… \n",
      " twenty years it s been two decades since we first logged on as the mozilla project and got started bringing together the \n",
      " LABEL=  2\n"
     ]
    }
   ],
   "source": [
    "idx = 99\n",
    "print(df_raw.tweet[idx],'\\n',df1.tweet[idx], '\\n','LABEL= ',df1.label[idx])"
   ]
  },
  {
   "cell_type": "code",
   "execution_count": 320,
   "metadata": {},
   "outputs": [
    {
     "name": "stdout",
     "output_type": "stream",
     "text": [
      "['😂', '😀', '🎉', '👍', '💩']\n"
     ]
    },
    {
     "data": {
      "text/html": [
       "<div>\n",
       "<style scoped>\n",
       "    .dataframe tbody tr th:only-of-type {\n",
       "        vertical-align: middle;\n",
       "    }\n",
       "\n",
       "    .dataframe tbody tr th {\n",
       "        vertical-align: top;\n",
       "    }\n",
       "\n",
       "    .dataframe thead th {\n",
       "        text-align: right;\n",
       "    }\n",
       "</style>\n",
       "<table border=\"1\" class=\"dataframe\">\n",
       "  <thead>\n",
       "    <tr style=\"text-align: right;\">\n",
       "      <th></th>\n",
       "      <th>tweet</th>\n",
       "      <th>label</th>\n",
       "      <th>emoji</th>\n",
       "    </tr>\n",
       "  </thead>\n",
       "  <tbody>\n",
       "    <tr>\n",
       "      <th>0</th>\n",
       "      <td>411k followers chu makina yui thank you guys s...</td>\n",
       "      <td>3</td>\n",
       "      <td>👍</td>\n",
       "    </tr>\n",
       "    <tr>\n",
       "      <th>1</th>\n",
       "      <td>my nieces and nephews were young so it was my ...</td>\n",
       "      <td>1</td>\n",
       "      <td>😀</td>\n",
       "    </tr>\n",
       "    <tr>\n",
       "      <th>2</th>\n",
       "      <td>happy birthday</td>\n",
       "      <td>2</td>\n",
       "      <td>🎉</td>\n",
       "    </tr>\n",
       "    <tr>\n",
       "      <th>3</th>\n",
       "      <td>me i never get a chance to watch it live</td>\n",
       "      <td>1</td>\n",
       "      <td>😀</td>\n",
       "    </tr>\n",
       "    <tr>\n",
       "      <th>4</th>\n",
       "      <td>announcement that anasazi inspired epic fantas...</td>\n",
       "      <td>2</td>\n",
       "      <td>🎉</td>\n",
       "    </tr>\n",
       "  </tbody>\n",
       "</table>\n",
       "</div>"
      ],
      "text/plain": [
       "                                               tweet label emoji\n",
       "0  411k followers chu makina yui thank you guys s...     3     👍\n",
       "1  my nieces and nephews were young so it was my ...     1     😀\n",
       "2                                     happy birthday     2     🎉\n",
       "3           me i never get a chance to watch it live     1     😀\n",
       "4  announcement that anasazi inspired epic fantas...     2     🎉"
      ]
     },
     "execution_count": 320,
     "metadata": {},
     "output_type": "execute_result"
    }
   ],
   "source": [
    "query = [u\"\\U0001F602\",u\"\\U0001F600\",u\"\\U0001F389\",u\"\\U0001F44D\",u\"\\U0001F4A9\"]\n",
    "print(query)\n",
    "df1['emoji'] = df1['label'].apply(lambda i: query[int(i)])\n",
    "df1.head()"
   ]
  },
  {
   "cell_type": "code",
   "execution_count": null,
   "metadata": {},
   "outputs": [],
   "source": []
  },
  {
   "cell_type": "code",
   "execution_count": 330,
   "metadata": {},
   "outputs": [],
   "source": [
    "df1['label'] = df1['label'].apply(lambda i: int(i))"
   ]
  },
  {
   "cell_type": "code",
   "execution_count": 331,
   "metadata": {},
   "outputs": [],
   "source": [
    "df1.to_csv('emoji.csv')"
   ]
  },
  {
   "cell_type": "markdown",
   "metadata": {},
   "source": [
    "## 4 - Model"
   ]
  },
  {
   "cell_type": "code",
   "execution_count": 332,
   "metadata": {},
   "outputs": [
    {
     "data": {
      "text/plain": [
       "(5652, 3)"
      ]
     },
     "execution_count": 332,
     "metadata": {},
     "output_type": "execute_result"
    }
   ],
   "source": [
    "# train test split\n",
    "from sklearn.model_selection import train_test_split\n",
    "train, test = train_test_split(df1,test_size=0.2,random_state=99)\n",
    "train.shape"
   ]
  },
  {
   "cell_type": "code",
   "execution_count": 333,
   "metadata": {},
   "outputs": [],
   "source": [
    "trainX, trainY = train['tweet'], train['label']\n",
    "testX, testY = test['tweet'], test['label']"
   ]
  },
  {
   "cell_type": "markdown",
   "metadata": {},
   "source": [
    "### 4.x - kNN"
   ]
  },
  {
   "cell_type": "markdown",
   "metadata": {},
   "source": [
    "In this subsection, I will use TF-IDF to implement a kNN alogrithm for our text classification, as introduced in [Procedia Engineering 69 (2014) 1356](https://www.sciencedirect.com/science/article/pii/S1877705814003750)."
   ]
  },
  {
   "cell_type": "code",
   "execution_count": 368,
   "metadata": {},
   "outputs": [],
   "source": [
    "from sklearn.neighbors import KNeighborsClassifier\n",
    "from sklearn.feature_extraction.text import TfidfVectorizer\n",
    "from sklearn.metrics import accuracy_score,classification_report,confusion_matrix"
   ]
  },
  {
   "cell_type": "code",
   "execution_count": 370,
   "metadata": {},
   "outputs": [],
   "source": [
    "vect = TfidfVectorizer(\n",
    "#                ngram_range = (1,4),\n",
    "                stop_words = 'english',\n",
    "                smooth_idf = 1,\n",
    "            )\n",
    "\n",
    "# sparse matrix for NB Classifier\n",
    "train_matrix = vect.fit_transform(trainX)\n",
    "test_matrix = vect.transform(testX)"
   ]
  },
  {
   "cell_type": "code",
   "execution_count": 376,
   "metadata": {},
   "outputs": [],
   "source": [
    "knn = KNeighborsClassifier(n_neighbors=k)\n",
    "knn.fit(train_matrix,trainY)\n",
    "train_pred = knn.predict(train_matrix)\n",
    "test_pred = knn.predict(test_matrix)"
   ]
  },
  {
   "cell_type": "code",
   "execution_count": 378,
   "metadata": {},
   "outputs": [
    {
     "name": "stdout",
     "output_type": "stream",
     "text": [
      "True     0.973284\n",
      "False    0.026716\n",
      "Name: label, dtype: float64\n",
      "False    0.628713\n",
      "True     0.371287\n",
      "Name: label, dtype: float64\n"
     ]
    }
   ],
   "source": [
    "print((train_pred == trainY).value_counts(normalize=True))\n",
    "print((test_pred == testY).value_counts(normalize=True))"
   ]
  },
  {
   "cell_type": "code",
   "execution_count": 395,
   "metadata": {},
   "outputs": [
    {
     "name": "stdout",
     "output_type": "stream",
     "text": [
      "k = 1 begin \n",
      "Complete time: 0.08072710037231445 Secs.\n",
      "k = 2 begin \n",
      "Complete time: 0.0893869400024414 Secs.\n",
      "k = 3 begin \n",
      "Complete time: 0.0896751880645752 Secs.\n",
      "k = 4 begin \n",
      "Complete time: 0.13209295272827148 Secs.\n",
      "k = 5 begin \n",
      "Complete time: 0.12654685974121094 Secs.\n",
      "k = 6 begin \n",
      "Complete time: 0.13172221183776855 Secs.\n",
      "k = 7 begin \n",
      "Complete time: 0.13521790504455566 Secs.\n",
      "k = 8 begin \n",
      "Complete time: 0.13333773612976074 Secs.\n",
      "k = 9 begin \n",
      "Complete time: 0.1436319351196289 Secs.\n",
      "k = 10 begin \n",
      "Complete time: 0.13260579109191895 Secs.\n",
      "k = 11 begin \n",
      "Complete time: 0.1292128562927246 Secs.\n",
      "k = 12 begin \n",
      "Complete time: 0.1297762393951416 Secs.\n",
      "k = 13 begin \n",
      "Complete time: 0.1320171356201172 Secs.\n",
      "k = 14 begin \n",
      "Complete time: 0.13101410865783691 Secs.\n",
      "k = 15 begin \n",
      "Complete time: 0.1387951374053955 Secs.\n",
      "k = 16 begin \n",
      "Complete time: 0.13049721717834473 Secs.\n",
      "k = 17 begin \n",
      "Complete time: 0.1322188377380371 Secs.\n",
      "k = 18 begin \n",
      "Complete time: 0.13017487525939941 Secs.\n",
      "k = 19 begin \n",
      "Complete time: 0.1344010829925537 Secs.\n"
     ]
    }
   ],
   "source": [
    "k_range = range(1,20)\n",
    "scores = []\n",
    "\n",
    "# find the best k value in k_range\n",
    "for k in k_range:\n",
    "    print(\"k = \" + str(k) + \" begin \")\n",
    "    start = time.time()\n",
    "    knn = KNeighborsClassifier(n_neighbors=k)\n",
    "    knn.fit(train_matrix,trainY)\n",
    "    test_pred = knn.predict(test_matrix)\n",
    "    acc = (test_pred == testY).value_counts(normalize=True)\n",
    "    accuracy = acc.loc[True]\n",
    "    scores.append(accuracy)\n",
    "    end = time.time()\n",
    "    print(\"Complete time: \" + str(end-start) + \" Secs.\")"
   ]
  },
  {
   "cell_type": "code",
   "execution_count": 403,
   "metadata": {},
   "outputs": [
    {
     "data": {
      "image/png": "[encoded data removed]",
      "text/plain": [
       "<matplotlib.figure.Figure at 0x15629a3c8>"
      ]
     },
     "metadata": {},
     "output_type": "display_data"
    }
   ],
   "source": [
    "k_range = range(1,20)\n",
    "plt.figure(figsize=(8,4))\n",
    "plt.plot(k_range,scores)\n",
    "plt.xlabel('k')\n",
    "plt.ylabel('accuracy')\n",
    "plt.show()"
   ]
  },
  {
   "cell_type": "markdown",
   "metadata": {},
   "source": [
    "Using kNN, the accuracy on test set can reaches **34%**."
   ]
  },
  {
   "cell_type": "markdown",
   "metadata": {},
   "source": [
    "### 4.1 - Naive Bayes\n",
    "why multinomial NB?"
   ]
  },
  {
   "cell_type": "code",
   "execution_count": null,
   "metadata": {},
   "outputs": [],
   "source": [
    "from sklearn.naive_bayes import MultinomialNB \n",
    "from sklearn.metrics import confusion_matrix\n",
    "from sklearn.model_selection import cross_val_score"
   ]
  },
  {
   "cell_type": "code",
   "execution_count": 341,
   "metadata": {},
   "outputs": [
    {
     "name": "stdout",
     "output_type": "stream",
     "text": [
      "{'likewise': 4671, 'bro': 1277, 'happy': 3638, 'birthday': 1063, 'hope': 3864, 'good': 3436, 'day': 2164, 'vintage': 8417, 'board': 1129, 'games': 3287, 'vinyl': 8418, 'record': 6469, 'albums': 499, 'middle': 5115, 'finger': 3056, 'looks': 4773, 'like': 4667, 'sausage': 6834, 'yo': 8860, 'porto': 6107, 'really': 6452, 'lost': 4791, 'belenenses': 981, 'beat': 951, 'luz': 4853, 'rumoaopenta': 6753, 'abenfica': 350, 'love': 4803, 'guys': 3572, 'btw': 1319, 'new': 5451, 'england': 2714, 'narragansett': 5372, 'rhode': 6635, 'island': 4180, 'ya': 8791, 'gal': 3278, 'bagged': 857, 'hersen': 3763, 'job': 4285, 'trial': 8111, 'crap': 1994, 'people': 5910, 'little': 4703, 'dramatic': 2496, 'yeah': 8823, 'picked': 5972, 'duke': 2553, 'nova': 5556, 'kansas': 4362, 'got': 3462, 'blown': 1118, 'foh': 3118, 'real': 6444, 'pc': 5878, 'casually': 1492, 'meet': 5036, 'joe': 4287, 'morgan': 5239, 'elevator': 2655, 'hotel': 3885, 'staying': 7484, 'looool': 4775, 'thought': 7924, 'slick': 7200, 'praying': 6157, 'did': 2329, 'wasn': 8532, 'vain': 8353, 'just': 4345, 'pick': 5971, 'pace': 5768, 'maga': 4882, 'trump2020': 8146, 'blindeye': 1095, 'http': 3909, 'oh': 5628, 'awesome': 804, 'week': 8574, 'twitter': 8211, 'likes': 4670, 'know': 4465, 'goodwillhunting': 3446, 'article': 709, 'lies': 4650, 'shaved': 7023, 'watch': 8538, 'periscope': 5921, 'follower': 3126, 'thank': 7861, '33': 180, 'scope': 6867, 'garage': 3291, 'https': 3910, 'black': 1084, 'white': 8623, 'slides': 7201, 'nelsons': 5430, 'column': 1790, 'deleted': 2231, 'tweet': 8200, 'cool': 1917, 'dramas': 2495, 'complaining': 1830, 'coz': 1979, 'saying': 6846, 'won': 8697, 'haha': 3586, 'thanks': 7865, 'reply': 6558, 'nicely': 5474, 'played': 6034, 'cf': 1544, 'runaway': 6757, 'lmfaooo': 4734, 'nigga': 5488, 'gonna': 3434, 'happily': 3635, 'marriage': 4968, 'hate': 3678, 'gone': 3432, 'wait': 8480, 'crackdown': 1986, 'yeahhhhhhh': 8825, 'supernatural': 7646, 'spnfamily': 7383, 'spn': 7382, 'boban': 1133, 'lit': 4700, 'corporate': 1932, 'america': 557, 'mfs': 5101, 'breath': 1251, 'smelling': 7226, 'time': 7967, 'surrender': 7673, 'says': 6847, 'great': 3503, 'depression': 2274, 'tbh': 7785, 'don': 2440, 'fuck': 3232, 'bearthdayshenanigans': 949, 'flags': 3079, 'ga': 3267, 'feel': 2987, 'goodness': 3442, 'amazing': 549, 'proud': 6257, 'need': 5413, 'volunteers': 8450, 'want': 8503, 'ill': 4006, 'stain': 7436, 'ted': 7818, 'nugent': 5575, 'reinforce': 6507, 'failure': 2903, 'obj': 5597, '2018': 119, 'isn': 4183, 'funny': 3254, 'jim': 4275, 'acosta': 380, 'locked': 4747, 'account': 370, 'big': 1029, 'pile': 5988, 'hey': 3769, 'ur': 8320, 'welcome': 8585, 'hear': 3721, 'look': 4767, 'gooood': 3451, 'help': 3751, 'mexican': 5097, 'pack': 5769, 'morning': 5240, 'night': 5494, 'lrt': 4825, 'world': 8724, 'mcm': 5015, 'fight': 3027, 'place': 6015, 'finally': 3047, 'yessss': 8846, 'sunday': 7632, 'omgg': 5652, 'figure': 3031, 'parents': 5818, 'going': 3422, 'fucking': 3236, 'mins': 5153, 'fr': 3179, 'em': 2670, 'friend': 3213, 'forget': 3154, 'war': 8511, 'bounce': 1203, 'catch': 1495, 'basketball': 919, 'court': 1964, 'immigrants': 4034, 'facing': 2897, 'deportation': 2271, 'california': 1403, 'pardoned': 5814, 'governor': 3472, 'jerry': 4259, 'brown': 1297, 'pestilence': 5940, 'trump': 8144, 'sigh': 7114, 'ok': 5633, 'send': 6938, 'woman': 8694, 'mf': 5099, 'grinding': 3523, 'looking': 4771, 'doing': 2428, 'come': 1795, 'dear': 2183, 'mr': 5283, 'roy': 6731, 'making': 4908, 'special': 7351, 'aye': 818, 'lemme': 4606, 'rappin': 6409, 'excited': 2833, 'segment': 6922, 'setting': 6972, 'timer': 7969, 'tomorrow': 8021, 'wake': 8483, 'tome': 8020, 'say': 6844, 'better': 1012, '80': 306, 'girls': 3381, 'decade': 2191, 'younger': 8874, 'fair': 2904, '15': 58, 'minutes': 5156, 'left': 4588, 'grab': 3477, 'hot': 3884, 'deal': 2178, 'sexy': 6985, 'eyes': 2876, 'area': 677, 'expertise': 2857, 'phd': 5951, 'decades': 2192, 'ago': 464, 'deliver': 2237, 'anyday': 624, 'anytime': 626, 'ready': 6441, 'lifejapan': 4654, 'sir': 7155, 'bollocks': 1150, 'shut': 7098, 'moron': 5242, 'nighter': 5495, 'watching': 8542, 'live': 4709, 'enjoyin': 2720, 'football': 3144, 'problem': 6221, 'hitting': 3798, 'doctors': 2413, 've': 8370, 'months': 5231, 'hahah': 3587, 'stuff': 7582, 'wrote': 8764, 'course': 1963, 'note': 5546, 'overnight': 5742, 'worth': 8741, 'guess': 3550, 'discover': 2373, 'volpe': 8449, 'nera': 5434, 'quartz': 6335, 'save': 6836, 'discount': 2372, 'code': 1757, 'springsale': 7411, 'wow': 8746, 'thats': 7871, 'best': 998, 'option': 5696, 'bring': 1272, 'scott': 6871, 'foster': 3172, 'hell': 3745, 'arse': 702, 'gotta': 3468, 'hang': 3619, 'jersey': 4260, 'forever': 3152, 'play': 6032, 'taray': 7762, 'ni': 5468, 'tatay': 7771, '512k': 240, 'views': 8409, 'thankyoumaine': 7868, 'mainefortaraynitatay': 4895, 'tummy': 8178, 'rumbling': 6751, 'hungry': 3931, 'mystery': 5342, 'novel': 5558, 'body': 1139, 'dudes': 2547, 'make': 4902, 'turn': 8184, 'trust': 8157, 'comedicvalue': 1796, 'game': 3283, '162': 72, 'likely': 4669, 'terrible': 7843, 'happybirthdayparkjungmin': 3644, 'happyjungminday': 3648, 'happybirthdayjungmin': 3643, 'happybirthdaypjm': 3645, 'oyster': 5760, 'tigers': 7958, 'virtual': 8426, 'meeting': 5038, 'check': 1604, 'intro': 4145, 'theme': 7886, 'music': 5320, 'respectthet': 6590, 'stucostrong': 7574, 'remember': 6530, 'car': 1453, 'choice': 1653, 'teacher': 7794, 'tech': 7815, 'll': 4721, 'scene': 6857, 'forward': 3168, 'seeing': 6916, 'update': 8306, 'video': 8400, 'barbarian': 897, 'stomped': 7520, 'concrete': 1849, 'cheers': 1613, 'feels': 2991, 'bad': 847, 'spent': 7363, 'easter': 2593, 'promise': 6244, 'fully': 3244, 'enjoy': 2717, 'hanging': 3620, 'duty': 2569, 'estas': 2780, 'team': 7798, 'borehamsolid': 1185, 'vocals': 8440, 'dead': 2173, 'lmao': 4726, 'everyday': 2811, 'home': 3835, 'teaching': 7796, 'outside': 5734, 'homes': 3840, 'church': 1676, 'aligned': 516, 'routine': 6728, 'let': 4616, 'stand': 7443, 'way': 8550, 'moving': 5271, 'fyi': 3265, 'flip': 3092, 'camera': 1415, 'immediate': 4031, 'pose': 6111, 'youre': 8878, 'pussey': 6318, 'puusay': 6325, 'boi': 1145, 'ftm': 3229, 'cried': 2027, 'inside': 4106, 'ass': 730, 'bout': 1206, 'chic': 1625, 'liked': 4668, 'picture': 5975, 'nah': 5356, 'older': 5644, 'lol': 4759, 'insulted': 4122, 'tonight': 8025, 'compliment': 1839, 'happybirthday': 3642, 'star': 7449, 'linda': 4679, 'hunt': 3933, 'academy': 359, 'award': 799, 'winner': 8666, 'turns': 8187, '73': 288, 'years': 8827, 'old': 5642, 'today': 8003, 'ow': 5750, 'wanna': 8501, 'birthdaaaaaayyyyyy': 1061, 'april': 664, '3rd': 199, 'yea': 8819, 'holloway': 3829, 'stepped': 7493, 'maniya': 4936, 'mad': 4869, 'low': 4815, 'favorite': 2961, 'lightskin': 4665, 'geocaching': 3333, 'trail': 8076, 'lead': 4572, 'open': 5682, 'field': 3022, 'billo': 1051, 'idc': 3973, 'hard': 3651, 'life': 4651, 'lil': 4673, 'money': 5218, 'owe': 5751, 'savage': 6835, 'asf': 715, 'tamya': 7754, 'deserve': 2281, 'bts': 1315, 'giveaway': 3383, 'includes': 4057, 'album': 498, 'version': 8383, 'photocard': 5963, 'brand': 1236, 'sweater': 7693, 'size': 7169, 'medium': 5031, 'rules': 6750, 'follow': 3124, 'tell': 7831, 'surprised': 7671, 'piling': 5990, 'university': 8287, 'actually': 396, 'degree': 2224, 'chop': 1658, 'suey': 7620, 'comes': 1798, 'fun': 3245, 'tag': 7728, 'boing': 1147, 'application': 648, 'message': 5081, 'bee': 964, 'tho': 7918, 'limited': 4676, 'releases': 6521, 'ol': 5641, 'waiting': 8482, 'harrystylesliveontourmilan': 3669, 'guy': 3571, 'ugly': 8234, 'fat': 2951, 'street': 7554, 'needs': 5418, 'emergency': 2681, 'dental': 2261, 'care': 1460, 'oml': 5655, 'happened': 3629, 'hour': 3892, '16': 70, 'mentions': 5069, '47': 219, '4k': 225, 'mention': 5067, 'reach': 6430, '27': 152, 'retweets': 6620, '14': 54, 'retweet': 6617, 'pictures': 5978, 'arseholes': 704, 'poor': 6095, 'animals': 590, 'trophies': 8132, 'ricky': 6645, 'bear': 947, 'truly': 8143, 'loves': 4811, 'men': 5061, 'chose': 1663, 'spend': 7361, 'spring': 7408, 'break': 1247, 'justin': 4348, 'women': 8696, 'texter': 7852, 'eminem': 2684, 'eagles': 2579, 'airheads': 483, 'underground': 8257, 'king': 4431, 'spaceghostpurrp': 7334, 'man': 4920, 'responsible': 6599, 'greatest': 3504, 'assembly': 733, 'hip': 3791, 'hop': 3863, 'talent': 7738, 'role': 6700, 'model': 5197, 'dont': 2449, 'knowing': 4466, 'dog': 2424, 'follows': 3129, 'jozi': 4319, 'bree': 1257, 'taxi': 7781, 'rank': 6405, '50': 231, 'gig': 3365, 'ntwana': 5568, 'usb': 8326, 'r10': 6360, 'nje': 5510, 'definition': 2221, 'scumbag': 6886, 'mxm': 5334, 'annoying': 602, 'hai': 3594, 'oooh': 5674, 'pink': 5999, 'fave': 2957, 'color': 1780, 'idk': 3986, 'certain': 1540, 'ain': 479, 'suppose': 7660, '78': 297, 'degrees': 2225, 'pm': 6057, 'laying': 4564, 'backyard': 845, 'bikini': 1045, 'ilovespring': 4013, 'chance': 1567, 'think': 7911, 'telling': 7832, 'fit': 3071, 'moment': 5204, 'ran': 6398, '10k': 27, 'runr': 6761, 'ukrunchat': 8243, 'groom': 3526, 'extra': 2869, 'cali': 1401, 'eat': 2602, 'cake': 1396, 'sure': 7666, 'far': 2934, 'cough': 1947, 'hbd': 3697, 'allah': 519, 'bless': 1093, 'nice': 5473, 'nowadays': 5561, 'ander': 577, 'se': 6890, 'tatti': 7774, 'uper': 8308, 'phool': 5960, 'yasss': 8808, 'georgeratcliffe': 3337, 'omg': 5651, 'featureme': 2979, 'lisa': 4690, 'learned': 4581, 'clone': 1731, 'capability': 1440, 'sharing': 7018, 'chris': 1665, 'cillizza': 1682, 'bed': 960, 'usual': 8337, 'hahaha': 3588, 'thing': 7908, 'quite': 6354, 'round': 6727, 'believe': 983, 'ma': 4865, 'main': 4892, 'shen': 7033, 'bible': 1027, 'misprinted': 5167, 'cuz': 2100, 'line': 4680, 'dawg': 2163, 'nae': 5355, 'long': 4764, 'short': 7078, 'bitcoin': 1078, 'moves': 5268, '100x': 22, 'leverage': 4627, 'bitmex': 1080, '10': 15, 'fee': 2983, 'police': 6077, 'amp': 565, 'things': 7909, 'grateful': 3498, 'safecommunities': 6786, 'wish': 8678, 'safe': 6785, 'travels': 8099, 'marsacrossamerica': 4970, 'true': 8141, 'self': 6927, 'smg': 7228, 'level': 4626, 'party': 5835, 'bringing': 1274, 'bops': 1182, 'heat': 3729, 'looked': 4768, 'mirror': 5161, 'started': 7459, 'honest': 3846, 'haven': 3688, 'april6th': 665, 'fromboytoman': 3222, 'beautiful': 955, 'moon': 5233, 'able': 352, 'nakalimutan': 5359, 'ko': 4470, 'waste': 8533, 'trash': 8092, 'god': 3413, 'piece': 5980, 'grade': 3479, 'shit': 7051, 'congratulations': 1868, 'automatic': 784, 'weapon': 8559, 'damned': 2131, 'expensive': 2853, 'feed': 2984, 'congrats': 1866, 'join': 4296, 'louis': 4799, 'ua': 8225, 'crew': 2024, 'missyoustreamingparty': 5176, 'stream': 7551, 'missyou': 5175, 'pr': 6145, 'awhile': 810, 'posted': 6122, 'edit': 2621, 'cute': 2096, 'bump': 1351, 'tv': 8191, 'episode': 2750, 'harujion': 3673, 'pv': 6326, 'zaddy': 8904, 'bday': 941, 'todayyy': 8004, 'quavo': 6337, '40': 201, 'click': 1723, 'link': 4682, 'helixstudios': 3744, 'gorgeous': 3458, 'sleep': 7193, 'dream': 2507, 'lurve': 4847, '55th': 251, 'gh': 3352, 'gh55': 3353, 'honor': 3851, 'sedin': 6912, 'twins': 8209, 'retiring': 6610, 'present': 6177, 'commercials': 1811, 'bett': 1011, 'il': 4003, 'hit': 3794, 'goofy': 3447, 'goober': 3435, 'gov': 3470, 'sooner': 7294, 'does': 2421, 'matter': 4998, 'woooooow': 8710, 'sooooo': 7299, 'fantastic': 2932, 'work': 8716, 'bit': 1073, 'friday': 3209, 'relaxing': 6518, 'weekend': 8575, 'enjoyed': 2719, 'lee': 4586, 'early': 2582, 'celebrated': 1525, 'instantaneous': 4118, 'celebrations': 1529, 'magazine': 4884, 'shhhh': 7037, 'emily': 2683, 'blunt': 1124, 'john': 4290, 'krasinski': 4487, 'trying': 8163, 'pop': 6098, 'sugar': 7623, 'lolololol': 4760, 'ian': 3964, 'fw': 3261, 'hmu': 3807, 'head': 3704, 'smile': 7230, 'neslihanatag': 5438, 'pre': 6159, 'marital': 4958, 'expenses': 2852, 'sex': 6981, 'expected': 2849, 'weak': 8557, 'bomb': 1151, 'stan': 7442, 'block': 1098, 'button': 1374, 'blockparty': 1104, 'manager': 4923, 'wont': 8702, 'regret': 6502, 'baby': 836, 'goooooooooo': 3452, 'win': 8656, 'dogs': 2426, 'lover': 4810, 'dying': 2575, 'happyanniversary': 3640, 'bog': 1144, 'artist': 710, 'drops': 2528, 'stillstandingchallenge': 7507, 'hows': 3899, 'sounding': 7318, 'quit': 6353, 'casey': 1485, 'pizza': 6010, 'er': 2757, '5am': 258, 'ban': 879, 'standees': 7444, 'posters': 6124, 'shipped': 7047, 'centers': 1536, 'bharatanenenu': 1023, 'kristopher': 4491, 'suicide': 7626, 'nct': 5399, 'empathy': 2694, 'following': 3128, 'enter': 2728, 'fan': 2925, 'multi': 5303, 'dinners': 2350, 'chowder': 1664, 'salad': 6796, 'clam': 1700, 'cakes': 1397, 'david': 2161, 'hogg': 3816, 'wash': 8526, 'legend': 4594, 'mind': 5142, 'ask': 722, 'scrape': 6874, 'isabrother': 4174, 'laziness': 4567, 'kind': 4426, 'lazy': 4568, 'style': 7588, 'defending': 2217, 'mark': 4959, 'dice': 2323, 'caught': 1507, 'spooo': 7394, 'youtube': 8883, 'yep': 8840, 'conspiracy': 1890, 'garbage': 3292, 'map': 4944, 'racist': 6373, 'drugs': 2533, 'tn': 7999, 'fucked': 3233, 'rui': 6745, 'called': 1406, 'tape': 7760, 'collection': 1775, 'martinimonday': 4975, 'martha': 4972, 'kicking': 4413, 'butt': 1369, 'monday': 5214, 'knows': 4469, 'guitar': 3558, 'players': 6036, 'kill': 4417, 'song': 7285, 'working': 8719, 'app': 641, 'wasting': 8535, 'fix': 3074, 'capitalizing': 1444, 'btc': 1314, 'volatility': 8447, 'kcs': 4384, 'knc': 4457, 'pay': 5868, 'gets': 3344, 'hoping': 3869, 'mick': 5111, 'sorry': 7309, 'maybe': 5004, 'opportunity': 5691, 'try': 8162, 'hi': 3771, 'slush': 7216, 'conference': 1855, 'held': 3741, 'tokyo': 8016, 'blockch': 1100, 'ftw': 3230, 'crypto': 2054, 'losing': 4789, 'completely': 1834, 'babies': 834, 'fixed': 3075, 'simple': 7133, 'site': 7162, 'designed': 2286, 'built': 1339, 'end': 2701, 'wishing': 8680, 'ajaydevgn': 492, 'realize': 6449, 'deep': 2209, 'yoursel': 8881, 'generation': 3323, 'atten': 765, 'involved': 4154, 'kids': 4416, 'impossible': 4044, 'rnwn': 6677, 'gtaonline': 3541, 'gtaphotographers': 3542, 'aspire': 729, 'happen': 3628, 'person': 5930, 'bonehead': 1156, 'single': 7147, 'permitted': 5926, 'grounds': 3529, 'poo': 6088, 'rage': 6381, 'kevin': 4400, 'lma': 4723, 'cap': 1439, 'cutest': 2098, 'yehundinonkibaathai': 8832, 'folks': 3122, 'resident': 6581, 'evil': 2816, 'pro': 6217, 'mode': 5196, 'karlmarx': 4369, 'aynrand': 821, 'bar': 894, 'ahhk': 475, 'gives': 3386, 'flying': 3111, 'corn': 1929, 'filled': 3040, 'irrelevant': 4170, '32': 177, 'million': 5135, 'dollar': 2432, 'creep': 2021, 'spin': 7372, 'universe': 8286, 'disappeared': 2369, 'season': 6897, 'premiere': 6170, 'buddy': 1326, 'shows': 7092, 'nights': 5497, 'ou': 5720, 'campus': 1421, 'south': 7324, 'oval': 5738, 'listen': 4693, 'preaching': 6160, 'sins': 7152, 'laugh': 4546, 'meatloaf': 5026, 'swishers': 7704, 'city': 1694, 'senators': 6937, 'vote': 8455, 'repressive': 6569, 'douglamalfa': 2479, 'larrywahl': 4533, 'buttecounty': 1370, 'chico': 1629, 'vote2018': 8456, 'girl': 3374, 'naturally': 5387, 'mean': 5017, 'cheating': 1602, 'talented': 7739, 'soul': 7314, 'destined': 2298, 'greatness': 3506, 'ultimate': 8244, 'bias': 1025, 'mucho': 5297, 'fea': 2973, 'guru': 3565, 'validate': 8358, 'pretty': 6190, 'tweets': 8203, 'killing': 4421, 'bestfriend': 1000, 'females': 3005, 'lipstick': 4689, 'direction': 2358, 'response': 6597, 'shall': 7005, 'refrain': 6493, 'mon': 5210, 'allemand': 521, 'bright': 1269, 'lighthouses': 4662, 'use': 8328, 'ships': 7048, 'shore': 7076, 'psst': 6272, 'walls': 8495, 'holes': 3823, 'absolutely': 354, 'support': 7653, 'laura': 4556, 'ingraham': 4090, 'agree': 465, 'msm': 5290, 'darling': 2150, 'ho': 3809, 'stupid': 7585, 'date': 2154, 'thanksfor': 7866, 'joining': 4298, 'class': 1705, 'cancer': 1431, 'nnt': 5511, 'buat': 1321, 'chemo': 1617, 'tao': 7758, 'daniel': 2139, 'add': 401, 'sent': 6948, 'lots': 4793, 'messages': 5082, 'getting': 3345, 'facebook': 2891, 'videos': 8402, 'hamilton': 3605, 'peraza': 5912, 'blog': 1106, 'movle': 5272, 'whats': 8607, 'schedule': 6861, 'revenge': 6623, 'dish': 2381, 'served': 6964, 'high': 3776, 'velocity': 8374, 'gogetemtiger': 3417, 'windfall': 8658, 'reports': 6564, 'mccabe': 5009, 'emerge': 2680, 'liberals': 4642, 'donate': 2442, 'nearly': 5408, '550': 249, '000': 1, 'legal': 4593, 'defense': 2218, 'fund': 3246, 'said': 6791, 'couldn': 1949, 'die': 2332, 'pubg': 6279, 'console': 1888, 'straight': 7540, 'boys': 1223, 'beef': 965, 'ting': 7975, 'fortnite': 3165, 'vs': 8466, 'cover': 1969, 'month': 5229, 'silas': 7124, 'kane': 4360, 'scrolls': 6883, 'sales': 6799, 'casio': 1487, 'dual': 2542, 'normal': 5536, 'price': 6195, 'rm110': 6673, 'rm80': 6674, 'whatsapp': 8608, '014': 4, '6287785': 269, 'details': 2302, 'htt': 3908, 'statusupdate': 7476, 'featured': 2978, 'itunes': 4205, 'comedy': 1797, 'noteworthy': 5549, 'section': 6909, 'statusupdatemovie': 7477, '415': 207, '51': 237, '17': 78, '52': 242, '9k': 335, 'winston': 8671, 'moose': 5235, 'secretly': 6908, 'crush': 2050, 'updated': 8307, 'psa': 6270, 'goodwill': 3445, 'moscow': 5248, 'id': 3972, 'college': 1777, 'students': 7577, '20': 109, 'student': 7576, 'lesson': 4613, 'nevvvveeeerrr': 5450, 'headphones': 3713, 'riding': 6652, 'transit': 8089, 'nd': 5401, 'away': 802, 'republicans': 6570, 'votes': 8462, 'privilege': 6213, 'lou': 4796, 'remembers': 6532, 'interesting': 4132, 'leeds': 4587, 'stag': 7434, 'newcastle': 5452, 'kid': 4414, 'einstein': 2643, 'thankful': 7863, 'magic': 4885, 'cut': 2095, 'notice': 5551, 'payback': 5869, 'bigger': 1033, 'tires': 7983, 'rims': 6658, 'wheel': 8610, 'heart': 3724, 'attached': 762, 'daddy': 2113, 'ehrenfelser': 2639, 'organic': 5705, 'wine': 8661, 'sale': 6798, 'winery': 8662, 'bottles': 1200, 'march': 4948, 'madness': 4877, 'saddle': 6783, 'pad': 5771, 'series': 6960, 'champions': 1563, 'earnings': 2585, 'rattle': 6421, 'tap': 7759, 'friendly': 3214, 'reminder': 6534, 'starts': 7462, 'thursday': 7944, 'jerseyshorefamilyvacation': 4261, 'ong': 5663, 'acting': 385, 'stops': 7530, 'knife': 4460, 'gun': 3560, 'headshot': 3715, 'unlucky': 8293, 'ig': 3993, 'zackksterr': 8903, '200': 110, 'scat': 6856, 'online': 5665, 'novanation': 5557, 'letsmarchnova': 4621, 'broke': 1285, 'disrespect': 2386, 'mondaymotivation': 5216, 'fuckyeah': 3239, 'perfect': 5914, 'happiest': 3634, 'birthdays': 1066, 'inspiration': 4109, 'speak': 7348, 'spanish': 7341, 'mom': 5203, 'son': 7283, 'certainly': 1541, 'worse': 8737, 'strowman': 7566, 'partner': 5834, 'second': 6904, 'dedicated': 2206, 'shanatic': 7010, 'sashalicious': 6823, 'year': 8826, 'soon': 7293, 'twitters': 8213, 'zari': 8905, 'eating': 2604, 'magnificent': 4887, 'democrats': 2255, 'idiot': 3983, 'alan': 495, 'tons': 8027, 'luck': 4833, 'minute': 5155, 'shoot': 7070, 'dm': 2409, 'questions': 6343, 'weather': 8563, 'wetter': 8600, 'mermaids': 5077, 'minge': 5150, 'uk': 8241, 'finished': 3059, 'peter': 5943, 'ep': 2747, 'mentioned': 5068, 'probably': 6220, 'right': 6654, 'pleeeeeaaaassssseeee': 6046, 'boo': 1160, 'movie': 5269, 'hilarious': 3784, 'carrey': 1470, 'rino': 6661, 'paintings': 5786, 'irra': 4169, 'talking': 7745, 'ugg': 8232, 'mug': 5301, 'lyn': 4859, 'leia': 4602, 'chat': 1592, 'kellen': 4395, 'theroyals': 7899, 'west': 8596, 'coast': 1752, 'totally': 8046, 'understandable': 8260, 'act': 384, 'scared': 6853, 'curious': 2082, 'load': 4739, 'joins': 4299, 'military': 5129, 'learn': 4580, 'respect': 6588, 'assault': 731, 'young': 8873, 'ots': 5718, 'motha': 5249, 'fuckin': 3235, 'holiday': 3824, 'jeff': 4249, 'bezos': 1017, 'buy': 1376, 'congress': 1870, 'impeach': 4037, 'inners': 4097, 'broda': 1283, 'usher': 8332, 'rai': 6384, 'bbnaija': 935, 'rico': 6646, 'dance': 2135, 'having': 3691, 'spittrailsgoldcoast': 7379, '3mins': 198, 'pic': 5969, 'andrewstallingimagery': 580, 'face': 2890, 'stuck': 7573, 'north': 5538, 'yellowknife': 8837, 'northwest': 5542, 'prevail': 6191, 'rid': 6647, 'family': 2923, 'drowning': 2529, 'phelan': 5952, 'floats': 3096, 'pat': 5846, 'wa': 8470, 'tact': 7724, 'whatsoever': 8609, 'rude': 6741, 'ridiculous': 6650, 'spam': 7338, 'email': 2671, 'dictionary': 2328, 'wipe': 8674, 'heckling': 3733, 'president': 6180, 'sun': 7631, 'audacity': 773, 'social': 7266, 'thosfansbts3a': 7922, 'trading': 8073, 'begin': 971, 'wrong': 8763, 'copy': 1925, 'paste': 5843, 'woke': 8692, 'blue': 1120, 'pips': 6002, 'days': 2169, 'tour': 8054, 'begins': 975, 'weeks': 8578, 'keit': 4394, 'lick': 4646, 'read': 6437, '10mill': 28, 'rt': 6736, 'bunny': 1354, 'mouth': 5264, 'agape': 454, 'ha': 3578, 'watchin': 8541, 'rn': 6675, 'swear': 7690, 'doooooo': 2461, 'protest': 6255, 'got7justright200m': 3464, 'official': 5618, 'hashtag': 3675, 'trend': 8108, 'spread': 7405, 'got7': 3463, 'thinks': 7914, 'elected': 2650, 'specialreport': 7352, 'ambassador': 553, 'stopthecaravan': 7531, 'stoptheinvasion': 7532, 'excellent': 2829, 'point': 6070, 'wonderful': 8699, 'draaag': 2485, '25': 144, '583': 256, 'partly': 5833, 'momma': 5207, 'im': 4016, 'es': 2769, 'mi': 5103, 'nueva': 5572, 'cancion': 1432, 'favorita': 2960, 'illgiveathumbsup': 4010, 'post': 6121, 'saw': 6842, 'local': 4743, 'grocery': 3524, 'store': 7533, 'loss': 4790, 'believing': 984, 'bull': 1342, 'socal': 7265, 'adjustment': 410, 'snake': 7244, 'worst': 8739, 'tmgs': 7996, 'flavor': 3084, 'doodoo': 2457, 'mixture': 5184, '641k': 273, 'followers': 3127, 'dude': 2546, 'wtf': 8765, 'grown': 3535, 'okay': 5634, 'pregnant': 6168, 'gateway': 3300, 'drug': 2531, 'closing': 1736, 'opioid': 5690, 'door': 2463, 'movies': 5270, 'gremlins': 3513, 'happens': 3631, '90': 323, 'plans': 6027, 'dey': 2310, 'pain': 5779, '180402': 90, 'lay': 4561, 'studio': 7578, 'weibo': 8579, 'yixing': 8858, 'exo': 2844, 'stomper': 7521, 'letsgooakland': 4620, 'weekly': 8576, 'maintenance': 4898, 'wayyy': 8552, 'fixing': 3076, 'kings': 4434, 'queens': 6341, 'streamer': 7552, 'channel': 1574, 'loved': 4806, 'yahh': 8798, 'dis': 2365, 'kristen': 4489, 'raining': 6389, 'easy': 2600, 'melting': 5047, 'orange': 5698, 'summer': 7630, 'santa': 6818, 'suit': 7627, 'daca': 2111, 'extremely': 2872, 'urgent': 8323, 'titions': 7986, 'texas': 7850, 'depends': 2266, 'office': 5616, 'gop': 3453, 'hasn': 3676, 'raised': 6392, 'objections': 5598, 'chumps': 1674, 'emotions': 2693, 'thiscountry': 7916, 'dontdothattome': 2450, 'brian': 1264, 'winning': 8669, 'sick': 7105, 'everybody': 2809, 'patriots': 5857, 'declare': 2203, 'mexico': 5098, 'pull': 6286, '3000': 171, 'imaginary': 4019, 'friends': 3215, 'fact': 2898, 'yes': 8843, 'surprising': 7672, 'killer': 4419, 'absolute': 353, 'jejely': 4252, 'na': 5350, 'web': 8565, 'bow': 1208, 'june': 4338, 'calendars': 1400, 'fieldofability': 3023, 'quinte': 6351, 'challengerbaseball': 1557, 'literally': 4701, 'phone': 5958, 'battery': 928, 'ignore': 3997, 'alerts': 508, 'shocked': 7065, 'pissed': 6006, 'dies': 2334, 'colourful': 1788, 'metaphor': 5090, 'aside': 719, 'egg': 2632, 'secure': 6910, 'lovely': 4808, 'soft': 7271, 'red': 6474, 'chili': 1638, 'peppers': 5911, 'gt': 3539, 'lt': 4827, 'yay': 8814, 'eve': 2802, 'coxx': 1978, 'balls': 875, 'recognize': 6467, 'dem': 2242, 'masses': 4983, 'dependant': 2265, 'insecure': 4103, 'order': 5701, 'security': 6911, 'fav': 2956, 'film': 3041, 'apparently': 643, 'diarrhea': 2321, 'running': 6760, 'fired': 3064, 'reality': 6448, 'payed': 5872, 'thug': 7940, 'youngster': 8876, 'dick': 2324, 'sucked': 7611, 'hole': 3821, 'rimmed': 6657, 'youngsters': 8877, 'alm': 533, 'repost': 6565, 'adventurous': 429, 'canyoneering': 1438, 'kawasan': 4378, 'falls': 2917, 'cto': 2065, 'sammilby': 6805, 'vacationmode': 8350, 'holy': 3834, 'batman': 926, 'nohedidnt': 5515, 'kidding': 4415, 'rose': 6720, 'miles': 5126, 'meathead': 5025, 'mental': 5065, 'stability': 7428, 'causing': 1510, 'shithole': 7057, 'destruction': 2301, 'goes': 3416, 'tr': 8064, 'start': 7458, 'calling': 1407, 'horror': 3876, 'wants': 8507, 'punish': 6294, 'enemy': 2709, 'asks': 727, 'cane': 1436, 'bihh': 1041, 'wig': 8643, 'hush': 3947, 'baddest': 850, 'bitch': 1074, 'relate': 6511, 'tough': 8051, 'unsuspecting': 8298, 'humans': 3921, 'dez': 2312, 'werey': 8595, 'a1': 341, 'chache': 1548, 'ild': 4005, '115': 35, 'jokers': 4302, 'costing': 1943, 'taxpayer': 7783, 'dollars': 2433, 'administration': 411, 'sues': 7619, 'subpoena': 7595, 'income': 4059, 'tax': 7780, 'returns': 6615, 'uw': 8344, 'doesn': 2422, 'websites': 8568, 'aren': 678, 'okemah': 5636, 'baseball': 909, 'school': 6863, '4965927': 222, 'brother': 1294, 'jolly': 4304, 'scream': 6875, 'nuggets': 5576, 'profile': 6236, 'spankbang': 7342, 'porn': 6105, 'lizvicious': 4719, 'exist': 2842, 'startin': 7460, 'bobbin': 1134, 'beatiful': 952, 'princes': 6202, 'given': 3385, 'complete': 1832, 'faith': 2905, 'crying': 2052, 'teamwork': 7811, 'seen': 6919, 'lot': 4792, 'affirmative': 445, 'sunset': 7639, 'appreciation': 655, 'required': 6574, 'ny': 5588, 'bnai': 1125, 'cousins': 1968, 'battle': 929, 'case': 1483, 'planet': 6023, 'research': 6577, 'paper': 5803, 'upset': 8316, 'leaving': 4585, 'eu': 2793, 'helpful': 3753, 'hopefully': 3866, 'isp': 4186, 'atm': 760, 'near': 5406, 'pitch': 6008, 'tieing': 7955, 'haid': 3595, 'frem': 3203, 'thaem': 7858, 'succesfuul': 7606, 'hubby': 3911, 'napa': 5371, 'puro': 6306, 'pinche': 5996, 'brb': 1245, 'learning': 4582, 'practicing': 6151, 'debut': 2190, 'ac': 358, 'assure': 745, 'writing': 8761, 'ing': 4089, 'xd': 8778, 'misaw': 5163, 'plenty': 6047, 'lame': 4525, 'jokes': 4303, 'eza': 2884, 'hek': 3739, 'reportedly': 6560, 'fox': 3177, 'personalities': 5933, 'house': 3894, 'meetings': 5039, 'vox': 8465, 'alright': 537, 'screen': 6878, 'eastenders': 2592, 'officially': 5619, 'gotten': 3469, 'katmoonishome': 4376, 'spinner': 7374, 'hahahah': 3589, 'confidence': 1858, 'booster': 1174, 'rin': 6659, 'boy': 1215, 'tellinggggggg': 7833, 'taylor': 7784, 'grainger': 3485, 'duggary': 2549, 'ferguson': 3009, 'horsfield': 3878, 'late': 4540, 'faaark': 2887, 'knew': 4459, 'shouldve': 7085, 'eaten': 2603, 'pie': 5979, 'daaaaaaays': 2107, 'dump': 2557, 'latest': 4543, 'folding': 3120, 'lips': 4688, 'orchestra': 5699, 'playing': 6037, 'zelda': 8908, 'lullaby': 4842, 'custom': 2093, 'chocolate': 1651, 'zee': 8906, 'cherry': 1621, 'blossom': 1113, 'niece': 5484, 'allie': 523, 'miflavour': 5119, 'che': 1597, 'trips': 8124, 'sucker': 7612, 'punches': 6292, 'kurt': 4501, 'raw': 6425, 'asking': 725, 'analyzing': 572, 'tally': 7749, 'charts': 1589, 'apply': 650, 'xi': 8782, 'reads': 6440, 'sweet': 7697, 'ta': 7721, 'riffing': 6653, 'trumpy': 8156, 'clubs': 1742, 'wishes': 8679, 'helen': 3743, 'daniels': 2141, 'tai': 7729, 'chi': 1624, 'signature': 7118, 'privately': 6212, 'owned': 5754, 'snopes': 7257, 'liberal': 4638, 'wet': 8597, 'dreams': 2509, 'crazy': 2004, 'happiness': 3636, 'penis': 5902, 'advertisement': 431, 'semen': 6933, 'tits': 7989, 'irony': 4168, 'fake': 2906, 'news': 5459, 'congressman': 1872, 'sessions': 6969, 'wall': 8492, 'funded': 3247, 'creating': 2010, 'apart': 630, 'dvd': 2571, 'different': 2338, 'number': 5579, 'monbebes': 5212, 'jealousydeservesbetter': 4246, 'monsta': 5226, 'dejavu': 2227, 'jealousy': 4245, 'fast': 2948, 'recovery': 6472, 'ineded': 4080, 'stone': 7522, 'complexion': 1837, 'coiff': 1762, 'combo': 1794, 'distinct': 2393, 'phillies': 5955, 'decent': 2196, 'theirs': 7882, 'takes': 7734, 'seriously': 6961, 'sing': 7145, 'peep': 5893, 'avi': 792, 'yall': 8799, 'drawings': 2501, 'careful': 1462, 'study': 7580, 'photos': 5966, 'hes': 3764, 'hotter': 3891, 'products': 6232, 'mouse': 5263, 'pads': 5776, 'shaker': 7001, 'cups': 2080, 'coming': 1803, 'rejects': 6508, 'daily': 2119, 'random': 6399, 'times': 7970, 'bored': 1184, 'talk': 7740, 'bs': 1313, 'crenshaw': 2023, 'earth': 2586, 'aggie': 460, 'respeck': 6587, 'dat': 2152, 'shame': 7007, 'didn': 2330, 'fastly': 2950, 'cloudflare': 1738, 'cdn': 1518, 'urls': 8324, 'pity': 6009, 'regional': 6499, 'mirrors': 5162, 'poop': 6089, 'missing': 5171, 'free': 3194, 'tokens': 8014, 'camgirls': 1417, 'signup': 7122, 'ended': 2702, 'mong': 5220, 'happening': 3630, 'sa': 6774, 'omfsm': 5650, 'claire': 1699, 'miss': 5169, 'chatting': 1595, 'inspired': 4111, 'stormi': 7536, 'emma': 2685, 'autocorrect': 782, 'slowly': 7214, 'jess': 4262, 'anniversary': 597, 'set': 6970, 'iron': 4164, 'tony': 8028, 'stickers': 7502, 'givin': 3387, 'fails': 2902, '50rt': 236, '2nd': 164, 'vicfabe': 8394, 'vicfabebabies': 8395, 'hur': 3936, 'din': 2347, 'cardi': 1458, 'redeem': 6476, 'drop': 2525, 'signed': 7119, 'semester': 6934, 'classes': 1706, 'graduate': 3482, 'double': 2470, 'springer': 7409, 'neversettle': 5449, 'shittttt': 7061, 'favorited': 2962, 'assume': 744, 'dressed': 2512, 'vest': 8384, 'fandom': 2927, 'stfu': 7498, 'ohh': 5629, '45': 214, 'lauren': 4558, 'ruin': 6746, 'whoop': 8628, 'husbands': 3946, 'competitive': 1827, 'mrandmrslewis': 5285, 'mariokart': 4955, 'al': 494, 'rock': 6690, 'dearest': 2184, 'lisi': 4691, 'joy': 4318, 'hours': 3893, 'using': 8333, 'mouthwash': 5265, 'tickled': 7950, 'shahid': 6998, 'kapoor': 4364, 'samsung': 6807, 'galaxy': 3279, 'dad': 2112, 'pankaj': 5798, 'johny': 4295, 'fridays': 3211, 'rated': 6417, 'listening': 4695, 'deport': 2270, 'kiss': 4439, 'wcw': 8555, 'youuu': 8887, 'chopchop': 1659, 'monkeys': 5221, 'ones': 5662, 'throw': 7934, 'angry': 584, 'ther': 7894, 'fools': 3141, 'mo': 5191, 'york': 8869, 'metropolitan': 5095, 'spokespersons': 7388, 'hoodies': 3857, 'sweat': 7692, 'shirts': 7050, 'movement': 5267, 'battleofmoet': 930, 'used': 8329, 'wax': 8549, 'niggas': 5489, 'conceal': 1844, 'para': 5809, 'dvo': 2573, 'later': 4542, 'paddy': 5772, 'pirates': 6003, 'food': 3131, 'delivery': 2240, 'mercy': 5072, 'hospital': 3879, 'joplin': 4308, 'iam': 3962, 'janethevirgin': 4228, 'renewed': 6545, 'coffee': 1761, 'ripped': 6665, 'pants': 5801, 'cheek': 1610, 'cellphone': 1532, 'ure': 8322, 'went': 8593, 'looters': 4779, 'list': 4692, 'personal': 5932, 'names': 5363, 'political': 6081, 'parties': 5832, 'pdp': 5883, 'apga': 634, 'lp': 4823, 'sdp': 6889, 'puts': 6321, 'trade': 8071, 'poopy': 6094, 'plunger': 6052, 'plumbinggimmick': 6051, 'madrid': 4879, 'thirstorder': 7915, 'ashley': 718, 'hay': 3693, 'word': 8714, 'dobbs': 2411, 'hannity': 3626, 'aka': 493, 'laurel': 4557, 'hardy': 3657, 'points': 6071, 'mother': 5250, 'nature': 5388, 'ocean': 5606, 'direct': 2356, 'unit': 8282, 'rent': 6548, 'la': 4510, 'gorce': 3455, 'newly': 5457, 'renovated': 6547, 'river': 6668, 'slimeball': 7207, 'wimpass': 8655, 'acostacrap': 381, 'redesign': 6478, 'review': 6624, 'smiley': 7233, 'bend': 993, 'der': 2275, 'soloist': 7276, 'hwangchiyeol': 3950, 'confirmed': 1861, 'release': 6519, 'mini': 5152, 'bemyself': 992, '24th': 143, 'naaaaaah': 5351, 'bruh': 1304, 'natural': 5386, 'fakenewsmsm': 2910, 'want2': 8504, 'destroy': 2299, 'bring2': 1273, 'behave': 976, 'roseanne': 6721, 'dripping': 2520, 'buying': 1378, 'designer': 2287, 'grow': 3533, 'yeezy': 8831, 'feeling': 2989, 'road': 6680, 'trip': 8121, 'cryptocurrency': 2055, 'powerlaunch': 6141, 'iefun': 3990, 'shoutout': 7087, 'honcholee': 3844, '7th': 305, 'performing': 5919, 'san': 6808, 'antonio': 618, 'sharon': 7019, 'glad': 3389, 'competitor': 1828, 'simplest': 7135, 'cancel': 1427, 'fella': 2999, 'arrested': 697, 'cop': 1920, 'knocked': 4464, 'outta': 5735, 'nexxxxxxt': 5460, 'hero': 3759, '39': 192, 'kot': 4482, 'gila': 3367, 'tak': 7730, 'panas': 5793, 'emmbarradment': 2686, 'country': 1955, 'worthless': 8742, 'sit': 7161, 'relax': 6516, 'snacks': 7243, 'bet': 1006, 'teach': 7793, 'heard': 3722, 'outrageous': 5730, 'liars': 4635, 'canberra': 1426, 'rw': 6770, 'dredge': 2510, 'ancient': 576, 'ice': 3968, '11th': 40, 'mummy': 5309, 'equally': 2754, 'jealous': 4244, 'kisses': 4441, 'giving': 3388, 'streaming': 7553, 'tools': 8033, 'laxative': 4560, 'smiles': 7231, 'mhmmm': 5102, 'marley': 4966, 'colossal': 1784, 'cunt': 2075, 'accounts': 372, 'private': 6211, 'mayores': 5006, 'arrive': 698, 'soonest': 7295, 'pure': 6304, 'awesomeness': 806, 'nikki': 5499, 'wonder': 8698, 'romans': 6706, 'generous': 3325, 'pakvwi': 5790, '28th': 155, 'react': 6434, 'wouldn': 8745, 'gay': 3305, 'realised': 6446, '4th': 230, 'july': 4334, 'mega': 5040, 'exciting': 2834, 'matt': 4997, 'thread': 7927, 'funniest': 3253, 'recent': 6462, 'backing': 841, 'wide': 8638, 'form': 3159, 'bitches': 1076, 'aint': 480, 'examine': 2826, 'homie': 3843, 'worries': 8734, 'mate': 4992, 'vod': 8441, 'ups': 8315, 'dailylifedrawing': 2120, 'sketch': 7174, '598': 257, 'selection': 6924, 'starbuckscoffee': 7451, 'figuredrawing': 3033, 'cubs': 2068, 'offense': 5613, 'run': 6756, 'understand': 8259, 'nina': 5501, 'senses': 6947, 'eonline': 2745, 'key': 4402, 'selena': 6926, 'gomez': 3430, 'stop': 7526, 'wearing': 8562, '1st': 108, 'ttg': 8172, 'wuth': 8771, '2ndly': 166, 'expose': 2863, 'comp': 1820, 'underrated': 8258, 'sh': 6989, 'mondaynight': 5217, 'lifeisgood': 4653, 'chapter': 1576, 'sponsor': 7390, 'colace': 1769, 'creator': 2013, 'oxycontin': 5759, 'griffin': 3517, 'tucker': 8176, 'shower': 7090, 'amen': 555, 'overprotective': 5744, 'mines': 5149, 'ion': 4156, 'unpopular': 8296, 'democratic': 2254, 'candidate': 1433, 'modern': 5199, 'history': 3793, 'gotcha': 3465, 'goal': 3408, 'manofthematch': 4939, 'celebration': 1528, 'codarmy': 1756, 'reachout': 6433, 'togethe': 8008, 'equals': 2755, 'cuddles': 2069, 'freddy': 3193, 'germs': 3341, 'spreads': 7407, 'multiple': 5304, 'stinks': 7509, 'birds': 1058, 'feather': 2976, 'flock': 3097, 'birthdaaay': 1062, 'unique': 8281, 'emojidoll': 2689, 'goodluck': 3439, 'wannaoneipucom': 8502, 'sundays': 7634, 'fooled': 3139, 'kaleb': 4357, 'investigation': 4150, 'stanley': 7448, 'realistically': 6447, 'putting': 6324, 'content': 1898, 'dc': 2170, 'dang': 2137, '900': 324, 'replays': 6555, 'obviously': 5605, 'wo': 8690, 'bullshit': 1349, 'bigotry': 1038, 'snide': 7253, 'rem': 6525, 'horizon': 3873, 'prod': 6227, 'dolla': 2431, 'purchase': 6301, 'bio': 1055, 'notifications': 5554, 'comment': 1808, 'purchasebeats': 6302, '19': 96, 'dublin': 2544, 'mah': 4888, 'lousy': 4801, 'enderguy': 2703, '17k': 85, 'hahahha': 3592, 'havent': 3689, 'story': 7538, 'npc': 5563, 'idiots': 3985, 'midfield': 5116, 'magician': 4886, '28': 154, 'forzajuve': 3169, 'imagine': 4020, 'room': 6715, 'chick': 1627, 'stays': 7485, 'event': 2805, 'runs': 6762, 'trap': 8091, 'economy': 2615, 'appropriate': 656, 'awwwww': 815, 'sis': 7157, 'warmer': 8516, 'laptop': 4531, 'pumped': 6289, 'kacey': 4353, 'musgraves': 5318, 'slow': 7212, 'burn': 1359, 'entry': 2740, 'foodies': 3136, 'fwd': 3263, 'settle': 6974, 'tae': 7726, 'debate': 2187, 'lovelife': 4807, 'violet': 8420, 'notebook': 5547, 'youth': 8882, 'fest': 3012, 'ravetz': 6424, 'screaming': 6877, 'shoe': 7066, 'plugs': 6050, 'wantyouback': 8508, 'reached': 6431, '21': 126, 'radio': 6377, 'shout': 7086, 'nicole': 5482, 'came': 1414, 'wanted': 8505, 'helped': 3752, 'options': 5697, 'mana': 4921, 'piss': 6005, 'treat': 8102, 'lying': 4857, 'biggest': 1034, 'paul': 5861, 'ince': 4054, 'jinbei': 4280, 'practice': 6150, 'drawing': 2500, 'mueller': 5299, 'hiding': 3775, 'covers': 1971, 'awaiting': 797, 'trailer': 8077, 'jessica': 4264, 'maine': 4893, 'advocacy': 434, 'po': 6058, 'somebody': 7280, 'unveiling': 8301, 'competition': 1826, 'celebrating': 1527, 'hartbeeps': 3672, 'kent': 4398, 'turd': 8181, 'definitely': 2220, 'suffering': 7621, 'senile': 6941, 'dementia': 2249, '95k': 329, 'hbdadorablealluayaan': 3698, 'gwe': 3574, 'giant': 3360, 'kim': 4423, 'foul': 3174, 'sense': 6946, 'rhoa': 6633, 'carter': 1479, 'ba': 827, 'kissing': 4442, 'bev': 1014, 'bants': 893, 'felt': 3003, 'slime': 7206, 'ball': 871, 'apologise': 636, 'yikes': 8855, 'means': 5019, 'advantage': 425, 'design': 2285, 'pk': 6013, 'itsok': 4204, 'stilllovehim': 7506, 'sara': 6819, 'performance': 5918, 'superb': 7643, 'makes': 4905, 'era': 2758, 'horse': 3877, 'arguments': 683, 'ruled': 6749, 'flynn': 3112, 'cas': 1481, 'count': 1951, 'hangouts': 3622, 'cancelled': 1429, 'entire': 2735, 'bryce': 1312, 'harper': 3664, 'immediately': 4032, 'followed': 3125, 'aww': 812, 'unbelievable': 8252, 'fu': 3231, 'kedup': 4388, 'sob': 7263, 'sexton': 6983, 'idea': 3974, 'flyers': 3110, 'outs': 5732, 'insult': 4121, 'malaysian': 4910, 'malaysians': 4911, 'patriotic': 5855, 'fights': 3030, 'especially': 2774, 'malik': 4913, 'taste': 7768, 'favorites': 2963, 'band': 880, 'group': 3530, 'seven': 6978, 'amazingly': 550, 'pabus': 5767, 'graveyard': 3500, 'instead': 4120, 'shift': 7039, 'classic': 1707, 'lamborghini': 4524, 'miura': 5180, 'sv': 7682, 'international': 4134, 'auto': 781, 'v12s': 8346, 'roku': 6699, 'pray': 6154, 'ifb': 3991, 'majix': 4899, 'yelling': 8835, 'whiny': 8616, 'female': 3004, 'major': 4900, 'defeated': 2213, 'supp': 7648, 'moved': 5266, '6mil': 281, 'mans': 4940, 'fkn': 3078, 'stank': 7447, 'fmoig': 3114, 'astroo': 750, 'nonsense': 5526, 'p8nt': 5763, 'launching': 4554, 'timcook': 7966, 'rocks': 6694, 'zuckerberg': 8924, 'growup': 3536, 'ppl': 6144, 'plane': 6022, 'asked': 723, 'weight': 8580, 'babe': 832, 'heartbreak': 3725, 'sickkkkkkk': 7109, 'som': 7279, 'submit': 7593, 'coaching': 1751, 'discord': 2371, 'honestly': 3847, 'classmates': 1709, 'written': 8762, 'loads': 4741, 'experience': 2856, 'digging': 2342, 'ways': 8551, 'pod': 6062, 'tides': 7952, 'unnecessary': 8294, 'painter': 5784, 'yr': 8892, 'voice': 8442, 'needed': 5415, 'omfg': 5649, 'forgot': 3157, 'koreaaaa': 4479, 'yoo': 8866, 'yum': 8897, 'fundraiser': 3249, 'offset': 5623, 'cost': 1942, 'icdc': 3967, 'subway': 7604, 'tryna': 8165, 'laid': 4520, 'luxxball2018': 4852, 'globe': 3399, 'theatre': 7873, 'bird': 1056, 'electricity': 2652, 'heading': 3712, 'providers': 6264, 'patients': 5853, 'beefin': 966, 'abt': 355, 'hoes': 3814, 'lookin': 4770, 'cans': 1437, 'lockie': 4748, 'rocked': 6691, 'dressing': 2514, 'gown': 3474, 'myles': 5336, 'littleboys': 4706, 'towie': 8057, 'booty': 1178, 'remembering': 6531, 'blac': 1083, 'youngsta': 8875, 'explaining': 2860, 'toot': 8036, 'tooooooot': 8035, 'riverdale': 6669, 'bughead': 1333, 'varchie': 8366, 'choni': 1655, 'falice': 2913, 'bestfriends': 1001, 'jerking': 4258, 'hott': 3890, 'fam': 2919, 'yesterday': 8849, 'evening': 2803, 'shook': 7069, 'chapel': 1575, 'range': 6403, 'que': 6338, 'quieres': 6347, 'lograr': 4757, 'este': 2783, 'mes': 5079, 'goaloftheday': 3409, 'share': 7014, 'knowledge': 4467, 'romcom': 6707, 'duck': 2545, 'romance': 6705, 'wedding': 8569, 'bells': 987, '99p': 333, 'tired': 7981, 'girlfriends': 3377, 'trynna': 8166, 'leave': 4584, 'snitch': 7255, 'choose': 1657, 'awaited': 796, 'twitterpolls': 8212, 'kaala': 4352, 'thalapathy62': 7860, 'bagga': 856, 'medal': 5027, 'pon': 6087, 'enuh': 2741, 'vashaun': 8368, 'vascianna': 8367, 'flowcarifta': 3102, '110m': 34, 'hurdles': 3937, 'final': 3045, 'ay': 816, 'durban': 2567, 'small': 7218, 'bobby': 1135, 'limitless': 4677, 'explain': 2859, 'vinnie': 8415, 'johnson': 4293, 'yah': 8797, 'appears': 645, 'mess': 5080, 'kit': 4443, 'bunch': 1352, 'children': 1634, 'col': 1768, 'jimin': 4278, 'namjin': 5366, 'scolding': 6866, 'hyungs': 3961, 'exposes': 2864, 'secret': 6907, 'jesus': 4265, 'lord': 4780, 'fornicating': 3162, 'spirit': 7375, 'portion': 6106, 'ds': 2537, 'oo': 5669, 'reset': 6580, 'icloud': 3969, 'hittin': 3797, 'hoe': 3813, 'sucks': 7614, 'obligation': 5599, 'dodgy': 2419, 'leader': 4573, 'chill': 1639, 'dah': 2117, 'mimi': 5140, 'gossiped': 3461, 'sms': 7240, 'saturday': 6826, 'anal': 570, 'cometh': 1799, 'shot': 7081, 'fb': 2968, 'damn': 2130, 'unfollow': 8270, 'cause': 1509, 'stupidity': 7587, 'clingy': 1726, 'enjoyable': 2718, 'hand': 3609, 'teachwrite': 7797, '19th': 100, 'sligo': 7205, 'gaol': 3289, 'organised': 5706, 'association': 743, 'wi': 8635, 'swollen': 7709, 'pimple': 5994, 'gong': 3433, 'tom': 8018, 'cold': 1771, 'unzip': 8302, 'trousers': 8137, 'nervous': 5437, 'woohoo': 8705, 'hannah': 3625, 'foolish': 3140, 'stunning': 7583, 'overseeing': 5746, 'cpcshame': 1981, 'aeroplan': 436, 'wigs': 8646, 'alia': 513, 'plz': 6055, 'italian': 4198, 'fans': 2931, '16th': 77, 'skyler': 7182, 'spending': 7362, 'disney': 2382, 'typhoon': 8221, 'lagoon': 4519, 'anyways': 627, 'esther': 2785, 'highway': 3780, 'bevin': 1015, 'superman': 7645, 'rul82': 6748, 'ends': 2708, '04': 8, '18': 87, 'worl': 8723, 'mankell': 4937, 'wallander': 8493, 'mysteryweek': 5343, 'hits': 3795, 'book': 1166, 'yourr': 8880, 'tickets': 7949, 'thee': 7877, 'pastt': 5845, 'seventies': 6980, 'booking': 1169, 'ramos': 6396, 'cards': 1459, 'messi': 5084, 'fault': 2955, 'according': 368, 'ahead': 473, 'autumn': 785, 'pursue': 6308, 'example': 2827, 'nga': 5464, 'heartwarmingly': 3728, 'meng': 5063, 'iq': 4159, 'amigas': 562, 'rivales': 6666, 'humor': 3925, 'subtle': 7603, 'mount': 5259, 'vesuvius': 8385, 'retrogaming': 6612, 'memory': 5059, 'ninja': 5503, 'pcengine': 5879, 'retrogamelovers': 6611, 'fellow': 3001, 'tequila': 7839, 'fiend': 3024, 'nose': 5543, 'ring': 6660, 'freaking': 3187, 'songs': 7286, 'straightening': 7541, '04k': 10, 'instastory': 4119, 'bessyful': 997, '1month': 107, 'ka': 4351, 'pa': 5764, 'faces': 2892, 'snowing': 7259, 'enjoyyyyy': 2722, '256': 147, 'half': 3600, 'offended': 5612, 'obama': 5595, 'told': 8017, 'stayed': 7483, 'supported': 7654, 'infectious': 4082, 'cures': 2081, 'colored': 1782, 'fresh': 3205, 'boss': 1190, 'majority': 4901, 'drive': 2521, 'carpool': 1469, 'lane': 4527, 'graduation': 3483, 'rasa': 6414, 'expression': 2866, 'damon': 2133, 'shop': 7072, 'items': 4201, 'bank': 887, 'bailed': 861, 'erin': 2763, 'tonys': 8030, 'eringance': 2764, 'ruined': 6747, 'evicted': 2814, 'teen': 7821, 'dooooooo': 2462, 'doooo': 2459, 'farrah': 2939, 'botox': 1197, 'robotic': 6687, 'sat': 6824, 'spot': 7398, 'beach': 943, 'taehyung': 7727, 'bangtan': 886, 'vmin': 8438, 'vine': 8414, 'relationship': 6514, 'status': 7475, 'confused': 1863, 'dating': 2156, 'chivscin': 1648, 'proudofjinyoung': 6260, 'eyesonyou': 2880, 'eyesonigot7': 2878, 'eyesonyougot7': 2881, 'candy': 1435, 'lowered': 4818, 'happier': 3633, 'super': 7641, 'calls': 1408, 'daaaaaaddy': 2108, 'hands': 3616, 'gif': 3361, 'fruit': 3225, 'ironsight': 4167, 'catching': 1498, 'hahn': 3593, 'aired': 482, 'loving': 4813, 'sister': 7159, 'lovvvvveeeeee': 4814, 'recording': 6470, 'kurds': 4499, 'turkey': 8183, 'eye': 2873, 'hooray': 3862, 'adulting': 422, 'windy': 8660, 'sunny': 7636, 'appreciated': 654, 'proactive': 6218, 'community': 1818, 'gents': 3331, 'raped': 6406, 'arkansas': 688, 'twice': 8205, 'spelt': 7360, 'hates': 3681, 'arsenal': 705, 'supporters': 7655, 'lower': 4817, 'voices': 8445, 'condoms': 1853, 'awe': 803, 'countdown': 1952, 'continues': 1903, 'selling': 6931, 'seats': 6901, 'yoruba': 8871, 'member': 5049, 'trio': 8120, 'quav': 6336, 'alive': 518, 'touching': 8050, 'kinda': 4427, 'brought': 1296, 'tear': 7812, 'welp': 8590, 'pinned': 6000, 'trouble': 8134, 'match': 4990, 'confusing': 1864, 'productive': 6231, 'crock': 2035, 'opinion': 5688, '65': 275, 'american': 558, 'citizens': 1693, 'rooster': 6717, 'painted': 5783, 'kitchen': 4444, 'acrylic': 383, 'vids': 8403, 'tremehumiliation': 8107, 'strap': 7544, 'ballbusting': 872, 'teas': 7814, 'thosfansbts2a': 7921, 'vit': 8432, 'cat': 1493, 'shape': 7012, 'plant': 6028, 'oops': 5679, 'stay': 7480, 'mersal': 5078, 'blockbuster': 1099, 'success': 7607, 'bop': 1181, 'freshen': 3206, 'remind': 6533, 'deserves': 2283, 'energy': 2710, 'una': 8250, 'thicc': 7904, 'ooty': 5680, 'tooty': 8038, 'improved': 4047, '56': 252, '26': 150, 'national': 5381, 'championship': 1564, 'discussing': 2376, 'chats': 1593, 'af': 438, 'associate': 741, 'coach': 1749, 'dumbass': 2555, 'hctib': 3702, 'uoy': 8304, 'nisahc': 5508, 'yoka': 8864, 'complimented': 1840, 'pics': 5974, 'calm': 1409, 'protect': 6253, 'environment': 2742, 'fossil': 3170, 'fuel': 3241, 'indust': 4078, 'exhausted': 2841, 'art': 706, 'livestream': 4715, 'source': 7322, 'fraud': 3183, 'courtesy': 1965, 'corrupt': 1937, 'dems': 2258, 'feign': 2994, 'shock': 7064, 'gasp': 3299, 'eyesore': 2882, 'sake': 6794, 'gc': 3311, 'score': 6868, 'bombscare': 1153, 'boulder': 1202, 'mortgage': 5247, 'vacation': 8348, 'shaming': 7009, 'peak': 5888, 'afternoon': 453, 'brilliant': 1271, 'evolution': 2818, 'seo': 6951, 'hyperlocal': 3956, 'tiny': 7976, 'moppet': 5236, 'catches': 1497, 'hoodwink': 3858, 'chauffeur': 1596, '12': 41, 'zoocci': 8921, 'coke': 1767, 'dope': 2464, 'previews': 6193, 'arranged': 695, 'fetch': 3016, 'damaging': 2129, 'reader': 6438, 'player': 6035, 'instant': 4117, 'boots': 1177, 'keeptexasred': 4392, 'imwithabbott': 4049, 'israel': 4187, 'imajoo': 4023, 'pihu': 5985, 'worked': 8717, 'dms': 2410, 'bested': 999, 'irresistible': 4172, 'cracking': 1989, 'james': 4223, 'pete': 5942, 'mp': 5277, 'grammer': 3486, 'mistakes': 5178, 'fool': 3138, 'intelijent': 4124, 'possible': 6119, 'penal': 5897, 'battalions': 927, 'flu': 3105, 'october': 5607, 'brudda': 1303, 'scenes': 6858, 'epic': 2749, 'caption': 1450, 'famous': 2924, 'lordy': 4781, 'league': 4577, 'wafflethewonderdog': 8475, 'ace': 377, 'waaaaffledoggggggaaaaaaaay': 8471, 'allow': 526, 'intimidated': 4143, 'shortie': 7079, 'twat': 8194, 'oshi': 5716, 'weee': 8573, 'tighten': 7960, 'smash': 7221, 'baller': 873, 'headache': 3705, 'nfl': 5461, 'prom': 6243, 'agregenme': 467, 'feet': 2993, 'smelled': 7225, 'powerofthepen': 6142, 'gave': 3302, 'christmas': 1668, 'ar': 671, 'pistol': 6007, 'arizona': 687, 'christmasgift': 1669, '2ndame': 165, 'panchavarnathatha': 5794, 'releasing': 6522, 'vishu': 8429, 'kunchakobob': 4497, 'jime': 4277, 'en': 2698, 'miracle': 5157, 'stress': 7556, 'george': 3335, 'broken': 1286, 'glass': 3393, 'legs': 4601, 'judges': 4326, 'responding': 6595, 'escape': 2771, 'worlddownsyndromeday': 8727, 'wtftumi': 8766, 'ksazobalit': 4493, 'uzalo': 8345, 'skeemsaam': 7171, 'thequeen': 7893, 'awww': 813, 'lasting': 4537, 'sign': 7116, 'declaring': 2204, 'affection': 441, 'donkey': 2447, 'kong': 4475, 'recap': 6458, 'tried': 8117, 'accept': 361, 'paypal': 5876, 'unfortunately': 8272, 'fortunately': 3166, 'intelligent': 4127, 'admire': 412, 'haii': 3596, 'ini': 4093, 'breathalise': 1252, 'walas': 8485, 'rest': 6600, 'canceled': 1428, 'subscriptions': 7601, 'facts': 2900, 'syd': 7712, 'fetus': 3018, 'breeches': 1258, 'thedifference': 7876, 'added': 402, 'armys': 694, 'weird': 8581, 'total': 8045, 'wear': 8560, 'hurley': 3939, 'hats': 3684, 'teamaries': 7799, 'birthdayboy': 1064, 'oldandtired': 5643, 'unplugged': 8295, 'soniyedilnayilagda': 7289, 'baaghi2': 828, 'wth': 8768, 'outsid': 5733, 'brothers': 1295, 'sisters': 7160, 'tim': 7963, 'pushin': 6315, 'daisies': 2122, 'favourite': 2965, 'actors': 394, 'comic': 1801, 'consider': 1885, 'pledging': 6045, '159k': 66, '64': 272, '29': 156, '2k': 161, 'accurate': 376, 'prime': 6199, 'ah': 468, 'tweeting': 8202, 'sinclair': 7142, 'state': 7465, 'media': 5028, 'cnn': 1748, 'msnbc': 5291, 'gettting': 3347, 'mood': 5232, 'congratulationz': 1869, 'oneofourawardees': 5661, 'juniorhighschoolrecognition': 4342, 'pos': 6110, 'muslim': 5325, 'refill': 6492, 'nyc': 5590, 'simply': 7137, 'clicking': 1725, 'holidays': 3825, 'curve': 2090, 'bankholidaymonday': 889, 'tanned': 7757, 'marswithalden': 4971, 'tf': 7855, 'ke': 4386, 'kopa': 4477, 'di': 2316, 'tips': 7978, 'tlhemma': 7994, 'hela': 3740, 'soy': 7328, 'siniestro': 7149, 'lucha': 4831, 'scraggy': 6873, 'invited': 4153, 'plan': 6021, 'overseas': 5745, 'pennylane': 5904, 'provide': 6263, 'flowers': 3104, 'huncho': 3929, 'alas': 496, 'neighbors': 5426, 'benefit': 994, '3448': 183, '3395': 181, 'birth': 1059, 'reading': 6439, 'childrensbookday': 1636, 'bookday': 1167, 'childrensbook': 1635, 'card': 1456, 'carrying': 1474, 'nancy': 5367, 'spector': 7355, 'forgive': 3156, 'princess': 6203, 'marines': 4953, 'vets': 8388, 'qanon': 6328, 'liza': 4718, 'met': 5087, 'vidcon': 8399, 'ilysm': 4015, 'sanam': 6809, 'fax': 2967, 'motivation': 5256, 'grindin': 3522, 'career': 1461, 'species': 7353, 'wild': 8648, 'butterflies': 1372, '100': 16, 'acre': 382, 'habitat': 3581, 'trails': 8078, 'gardens': 3295, 'pavilion': 5865, 'ngl': 5465, 'daughters': 2158, 'savior': 6841, 'spill': 7371, 'tea': 7792, 'mission': 5172, '50k': 234, 'thankyou': 7867, 'retweeet': 6616, 'webcam': 8566, 'miami': 5105, 'steffi': 7489, 'charleston': 1583, 'debu': 2189, 'nba': 5397, 'stopped': 7528, 'growing': 3534, 'thoughts': 7925, 'cardboard': 1457, 'bigbang': 1030, 'vips': 8421, 'flowerroad': 3103, 'melon': 5046, 'popularity': 6103, 'consecutive': 1881, 'grief': 3516, 'silliest': 7127, 'gillian': 3368, 'anderson': 578, 'beer': 967, 'dong': 2444, 'dfsarmy': 2313, 'donuts': 2453, 'sheetdong': 7030, 'lady': 4517, 'hurry': 3942, 'retweeting': 6619, 'thanking': 7864, 'embracing': 2677, 'dirty': 2363, 'service': 6967, 'recognition': 6466, 'leaders': 4574, 'nationwide': 5384, 'celebrate': 1524, 'impact': 4036, 'cowardly': 1974, 'chicken': 1628, 'stockport': 7515, 'county': 1957, 'shares': 7016, 'sony': 7290, 'xbox': 8777, 'exposing': 2865, 'bush': 1362, 'championsleague': 1565, 'aporla13': 640, 'halamadridynadam': 3599, 'vamos': 8361, 'hov': 3898, 'hog': 3815, 'maniacup': 4932, 'polls': 6086, 'wwe': 8772, 'figured': 3032, 'dinnae': 2348, 'rayzor': 6426, 'replied': 6556, 'childish': 1633, 'answer': 608, 'sounds': 7319, 'seattle': 6902, 'bestseatsentry': 1005, 'sip': 7154, 'champagne': 1561, 'ndtv': 5404, 'studios': 7579, 'carbuncle': 1455, 'bath': 924, 'meanti': 5021, 'rejoice': 6509, '411k': 206, 'chu': 1671, 'makina': 4907, 'yui': 8896, 'weallloveporn': 8558, 'm0rning': 4861, 'eiji': 2641, 'health': 3717, 'luc': 4828, 'eric': 2761, 'bailly': 862, 'offfffff': 5615, 'mufc': 5300, 'neta': 5442, 'tune': 8179, 'unfollowing': 8271, 'lught': 4840, 'silly': 7128, 'jc': 4242, 'fees': 2992, 'cush': 2091, 'armon': 690, 'forreal': 3164, 'dookie': 2458, '11': 33, 'replies': 6557, 'exact': 2823, 'honda': 3845, '54': 246, '25th': 148, 'land': 4526, 'british': 1276, 'americans': 560, 'sound': 7316, 'arthur': 708, 'harim': 3660, 'non': 5524, 'fighters': 3028, 'saved': 6837, 'existential': 2843, 'lifetimes': 4656, 'ab': 346, 'wars': 8524, 'clock': 1730, 'harder': 3653, 'race3': 6371, 'celebrates': 1526, 'remodsouza': 6537, 'salmankhan': 6801, 'jacquelinefe': 4213, 'kuya': 4504, 'butley': 1368, 'bret': 1261, 'lie': 4647, 'challenge': 1556, 'thnx': 7917, 'mike': 5122, 'apologize': 637, 'judging': 4327, 'hurt': 3943, 'practically': 6149, 'invulnerable': 4155, 'mee': 5032, 'soo': 7291, 'readyy': 6443, 'marchmadness': 4950, 'letz': 4625, 'fellerz': 3000, 'gotmyfaith': 3467, 'pizzapizza': 6011, 'access': 364, 'nfltotalaccess': 5462, 'fine': 3053, 'drink': 2518, 'knee': 4458, 'cowards': 1975, 'laughing': 4548, 'understands': 8262, 'twin': 8206, 'edm': 2624, 'agreed': 466, 'flea': 3087, 'ofcus': 5611, 'shitty': 7062, 'eh': 2637, 'transfer': 8086, 'cash': 1486, 'bc': 936, 'chunderful': 1675, 'upper': 8312, 'respiratory': 6591, 'infection': 4081, 'antibiotics': 614, 'steroids': 7496, 'whale': 8605, 'ugh': 8233, 'eew': 2626, 'aldubxpatmeng': 505, 'astrology': 749, 'xx': 8790, 'european': 2797, '7k': 303, 'journey': 4317, 'tetti': 7849, 'floating': 3095, 'nebula': 5409, 'unsee': 8297, 'reaction': 6435, 'priceless': 6196, 'toothbrush': 8037, 'clean': 1714, 'baking': 865, 'soda': 7270, 'water': 8543, 'increased': 4063, '7065': 285, 'eth': 2789, 'neo': 5431, 'dgb': 2315, 'dash': 2151, 'strat': 7545, 'eos': 2746, 'xrp': 8788, 'xmr': 8785, 'gas': 3297, 'adoptable': 415, 'pearl': 5889, 'ccstca': 1517, 'walking': 8490, 'bag': 855, 'coward': 1973, 'trumpass': 8147, 'troia': 8126, 'sell': 6930, 'smells': 7227, 'answered': 609, 'question': 6342, 'loud': 4797, 'finish': 3058, 'possibly': 6120, 'title': 7987, 'mcfc': 5013, 'smug': 7241, 'poppas': 6099, 'asshat': 736, 'foot': 3142, 'disrespectful': 2387, 'dirait': 2355, 'sawyer': 6843, 'visit': 8430, 'greenville': 3509, 'liking': 4672, 'mra': 5284, 'toyota': 8061, 'yaris': 8806, 'ad': 398, 'happppy': 3637, 'sooon': 7297, 'whys': 8633, 'raging': 6382, 'disgraced': 2379, 'checks': 1608, 'correction': 1934, 'belated': 980, 'toby': 8002, 'asshole': 737, 'stock': 7512, 'affidavits': 443, 'letter': 4622, 'madonsela': 4878, 'van': 8363, 'rooi': 6714, 'steph': 7491, 'desk': 2290, 'layer': 4563, 'introduced': 4146, 'titanium': 7985, 'skull': 7179, 'gold': 3424, 'teeth': 7824, 'husband': 3945, 'checker': 1606, 'vutsek': 8469, 'referring': 6491, 'illegal': 4008, 'aliens': 515, 'rainbow': 6388, 'groups': 3531, 'wing': 8663, 'politics': 6083, 'stocking': 7513, 'sendbeats': 6939, 'beats': 954, 'freebeats': 3195, 'buybeats': 1377, 'goodammydrpalz': 3437, 'incase': 4053, 'laughed': 4547, 'yess': 8844, 'jane': 4226, 'virgin': 8424, 'x1': 8775, '1000': 17, 'bucks': 1323, 'starting': 7461, 'fetish': 3017, 'pens': 5905, 'train': 8079, 'trudging': 8140, 'slower': 7213, 'lets': 4617, 'nongnong': 5525, 'opening': 5685, 'fourth': 3176, 'gift': 3362, 'longer': 4765, 'champ': 1560, 'jones': 4307, 'wife': 8641, 'immigrant': 4033, 'trumpisamoron': 8150, 'trumpisaracist': 8151, '2005': 112, 'changmin': 1573, 'nope': 5532, 'ths': 7939, 'conversation': 1909, 'roger': 6696, 'past': 5842, 'spewing': 7364, 'theories': 7890, 'smear': 7223, 'ntrsbirthdayin50days': 5567, 'haters': 3680, 'ntr': 5566, 'bees': 968, 'birthay': 1060, 'park': 5822, 'adventure': 426, 'awwww': 814, 'hair': 3597, 'wknd': 8686, 'thx': 7945, 'tireless': 7982, 'sponsors': 7392, 'destroys': 2300, 'xhosa': 8781, 'tribe': 8112, '1k': 105, '54k': 247, 'meee': 5033, 'noregretsep': 5533, 'madetobe': 4874, 'goodmorning': 3440, 'december': 2195, 'avenue': 790, 'ilang': 4004, 'daus': 2159, 'nalang': 5361, 'eno': 2724, 'lad': 4515, '5times': 261, 'olu': 5648, 'craaappppp': 1984, 'experian': 2854, 'darkweb': 2149, 'ohnoihcked': 5632, 'whatevershallido': 8606, 'mutual': 5330, 'oomf': 5672, 'cousin': 1967, 'ft': 3227, 'aunt': 775, 'talkin': 7743, 'cuhz': 2071, 'library': 4643, 'charlotte': 1585, 'royal': 6732, 'target': 7764, 'receipt': 6459, 'cli': 1722, 'spurs': 7415, 'pause': 5864, 'replay': 6554, 'hearing': 3723, 'shell': 7031, 'gummy': 3559, 'worm': 8730, 'shreya': 7095, 'nostalgia': 5544, 'wrestlemania': 8753, 'babyy': 839, 'reward': 6627, 'criminal': 2029, 'behavior': 977, 'allowed': 527, '18th': 95, 'tambokikoy': 7751, 'ng': 5463, 'leyte': 4631, 'messenger': 5083, 'daemon': 2116, 'gear': 3315, 'write': 8757, 'mythology': 5346, 'bathroom': 925, 'fytb': 3266, 'sarah': 6820, 'sanders': 6810, 'robot': 6686, 'spouts': 7403, 'brah': 1230, 'whaaar': 8604, 'prototype': 6256, 'gamedev': 3284, 'unity': 8285, 'madewithunity': 4875, 'screenshotsaturday': 6879, 'indiedevhour': 4072, 'indiedev': 4071, 'cow': 1972, 'revolution': 6625, 'bra': 1225, '70': 284, 'afff': 442, '44': 213, '81k': 310, 'popped': 6100, 'marilyn': 4952, 'lmaooo': 4728, 'employees': 2696, 'paptingafool': 5807, 'buko': 1341, 'pockets': 6061, 'disgusting': 2380, 'lmfaooooooo': 4737, 'ps4': 6269, 'victims': 8397, 'mannnnn': 4938, 'trivia': 8125, 'pubfun': 6278, 'comments': 1810, 'opinions': 5689, 'dumb': 2554, 'memories': 5058, 'creative': 2011, 'showing': 7091, 'ft2': 3228, 'regina': 6498, 'micro': 5112, 'exam': 2825, 'stare': 7452, 'bizimhikaye': 1082, 'barfi': 902, 'filiz': 3039, 'baris': 905, 'hulya': 3919, 'minhyun': 5151, 'jihoon': 4274, 'jinyoung': 4283, 'confetti': 1857, 'lucky': 4835, 'receive': 6460, 'prizes': 6216, 'pretending': 6189, 'pilot': 5993, 'runners': 6759, 'snow': 7258, 'anstruther': 607, 'wormit': 8731, '117': 36, 'reminds': 6536, 'potluck': 6129, 'period': 5920, 'hs': 3903, 'pleasant': 6042, 'alden': 503, 'easily': 2589, 'richards': 6644, 'requested': 6573, '9th': 338, 'vlog003': 8436, 'albzzy': 500, 'selects': 6925, 'instalment': 4116, 'vlogs': 8437, 'showcasing': 7088, 'hosted': 3881, 'bi': 1024, 'leicester': 4603, 'u16': 8224, 'squad': 7416, 'previewing': 6192, '1920': 97, 'dank': 2144, 'parise': 5821, 'unassisted': 8251, 'beauty': 957, 'bamteddy': 878, 'psssssssst': 6271, 'hype': 3953, 'clark': 1703, 'corrie': 1935, 'pur': 6300, 'descriptive': 2279, 'corner': 1930, 'settings': 6973, 'privacy': 6210, 'log': 4751, 'bluetsunami': 1122, 'theresistance': 7897, 'cmon': 1746, 'verse': 8381, 'allan': 520, 'brace': 1226, 'elimination': 2660, 'hearts': 3727, 'courage': 1962, 'changing': 1572, 'guards': 3547, 'bash': 913, 'ate': 754, 'pussy': 6319, 'est': 2779, 'teams': 7807, 'mat': 4988, 'friendship': 3217, 'thingspeopletaketooseriously': 7910, 'shits': 7058, 'lighten': 4660, 'swearing': 7691, 'packed': 5770, 'sportstour2018': 7397, 'brain': 1231, 'fart': 2940, 'fakepresident': 2911, 'bf': 1018, 'kenny': 4397, 'treasure': 8101, 'valentine': 8354, 'poem': 6065, 'halsey': 3604, 'gus': 3566, 'niall': 5469, 'horan': 3871, 'town': 8058, 'master': 4985, 'wtg': 8767, 'lib': 4636, 'advertisers': 432, 'ingrahamangle': 4091, 'foxnews': 3178, '7pm': 304, 'cst': 2063, 'theheartofcaring': 7881, 'toidymat': 8009, 'disposible': 2384, 'contour': 1904, 'mats': 4996, 'cia': 1680, 'troll': 8127, 'envy': 2743, 'sandstorms': 6812, 'sandpaper': 6811, 'engine': 2712, 'h0es': 3577, 'ap': 629, 'century': 1538, 'londoners': 4763, 'latin': 4544, 'words': 8715, 'cacus': 1388, 'merda': 5073, 'stercus': 7494, 'lutum': 4849, 'coenum': 1759, 'unhealthy': 8275, 'reminding': 6535, 'cats': 1505, 'noises': 5517, 'commotion': 1816, 'overstimulation': 5747, 'biggavel': 1032, 'spirits': 7376, 'brutha': 1309, 'wave': 8547, 'ov': 5737, 'btsglitchparty': 1317, 'didnt': 2331, 'kbs': 4382, 'emphasising': 2695, 'jun': 4337, 'concept': 1846, 'beginning': 974, 'change': 1568, 'dab': 2109, '481k': 221, 'leigha': 4604, 'tongue': 8023, 'punch': 6291, 'bootyhole': 1179, 'lmaoooo': 4729, 'imagining': 4022, 'chameleons': 1559, 'flies': 3089, 'satan': 6825, 'manically': 4933, 'busy': 1366, 'breathe': 1253, 'plus': 6054, 'huge': 3913, 'shirt': 7049, 'till': 7962, 'manila': 4934, 'harrystylesliveontour': 3668, 'harrystylesmnl': 3670, 'guetta': 3554, 'stole': 7519, 'hoy': 3900, 'el': 2646, 'cumplea': 2074, 'os': 5714, 'spain': 7337, 'motived': 5258, 'cares': 1463, 'cred': 2015, 'nigger': 5492, 'uppercuts': 8313, 'hooks': 3860, 'seconds': 6906, 'theriver1magic': 7898, 'fail': 2901, 'homeboy': 3836, 'stoked': 7518, 'switch': 7706, 'zzz': 8926, 'travel': 8096, 'doubletree': 2473, 'hilton': 3786, 'resort': 6585, 'spa': 7332, 'reserva': 6578, 'del': 2228, 'higueron': 3781, 'managed': 4922, 'capture': 1451, 'removed': 6540, 'finest': 3054, 'versatile': 8380, 'actor': 393, 'blessed': 1094, 'spell': 7358, 'incorrect': 4062, 'original': 5709, 'poster': 6123, 'ebay': 2607, '350': 185, '00': 0, 'filters': 3044, 'similar': 7132, 'craze': 2002, 'yeahh': 8824, 'gf': 3348, 'idkkk': 3987, 'imma': 4030, 'ish': 4176, 'watermelon': 8544, 'paragraph': 5811, 'newest': 5454, 'workers': 8718, 'celebratory': 1530, 'fbr': 2970, 'favotire': 2964, 'resisters': 6584, 'invite': 4152, 'prince': 6201, 'alluayaan': 531, 'future': 3260, 'stylish': 7590, 'icon': 3971, 'adorable': 416, 'brains': 1233, 'emails': 2673, 'jobs': 4286, 'dive': 2398, 'listings': 4699, 'grind': 3521, 'constitution': 1892, 'merhaba': 5075, 'easysnackrecipecontest': 2601, 'participate': 5830, 'rs': 6734, 'hampers': 3607, 'partic': 5829, 'leaked': 4579, 'nudes': 5571, 'viral': 8422, 'layout': 4565, 'smiletaehyung': 7232, 'moments': 5205, 'kyle': 4508, 'fighting': 3029, 'sickest': 7107, 'wk2d8': 8685, 'core': 1927, 'force': 3146, 'mma': 5188, 'speed': 7357, 'kinetics': 4430, 'workout': 8720, 'wrapped': 8750, 'rubber': 6739, 'delicious': 2235, 'backup': 843, 'boom': 1172, 'ayeeee': 819, 'monnnnnthhhhhh': 5223, 'traitor': 8082, 'russian': 6766, 'puppet': 6297, 'colluder': 1779, 'bedtime': 963, 'abbott': 347, 'rename': 6543, 'deplorables': 2268, 'bots': 1198, '16k': 76, 'suggest': 7625, 'radnor': 6378, 'greasing': 3502, 'light': 4659, 'poles': 6076, 'jacket': 4211, 'cowboy': 1976, 'hank': 3623, 'gsd': 3538, 'rescue': 6576, 'professor': 6234, 'maryanne': 4978, 'gilligan': 3369, 'bluewave2018': 1123, 'lincoln': 4678, 'depot': 2272, 'voa365': 8439, '93': 327, 'district': 2395, 'dou': 2469, 'tennessee': 7837, 'vacationwellneeded': 8351, 'thefear': 7878, 'hated': 3679, 'fab': 2888, 'ending': 2704, 'vibrations': 8393, 'niceness': 5475, 'ecclesiastical': 2612, 'path': 5849, 'peacefulwaters': 5886, 'praisejah': 6152, '74': 290, '183': 91, '172': 82, 'whoooooo': 8627, 'fridayyy': 3212, 'niccccceee': 5472, 'retirement': 6609, 'wett': 8599, 'creamy': 2007, 'sloppy': 7210, 'teddy': 7819, 'draft': 2486, 'physical': 5968, 'anti': 613, 'survive': 7675, 'yankees': 8802, 'playoffs': 6039, 'bryan': 1311, 'adams': 400, 'bruce': 1302, 'springsteen': 7412, 'badlands': 852, 'rogue': 6697, 'situation': 7165, 'illustrates': 4012, 'madden': 4871, 'stands': 7446, 'hny2016': 3808, 'mumbai': 5307, 'indians': 4069, 'vet': 8386, 'kingof': 4433, 'diamonds': 2319, 'lvl': 4854, 'promo': 6246, 'lottery': 4795, 'evettt': 2813, 'loser': 4786, 'exactly': 2824, 'ajatt': 490, 'handful': 3611, 'father': 2953, 'soldier': 7274, 'guns': 3563, 'whips': 8620, 'belt': 989, 'rip': 6664, 'ck': 1695, 'amazon': 552, 'touches': 8049, 'doodle': 2455, 'bob': 1132, 'tattooed': 7777, 'whileeeee': 8612, 'dealers': 2179, 'brainwashed': 1235, 'sheep': 7027, 'zzzuckerberg': 8927, 'turned': 8185, '31': 176, 'close': 1732, '150': 59, 'human': 3920, 'uso': 8335, 'sierra': 7112, 'freaky': 3190, 'kinky': 4435, 'hyg': 3952, 'jeez': 4248, 'ordeal': 5700, 'tou': 8048, 'inherited': 4092, 'decision': 2200, 'whoopsies': 8629, 'fantasy': 2933, 'commies': 1812, 'shred': 7094, 'evidence': 2815, 'docume': 2414, 'trumper': 8148, 'upload': 8310, 'wifi': 8642, 'paying': 5873, 'mobile': 5194, 'hotspot': 3889, 'amoshine': 564, 'hypeman': 3955, 'accolades': 367, 'usually': 8338, 'anymore': 625, 'shearer': 7025, 'soz': 7330, 'gazza': 3309, 'towels': 8056, 'dryer': 2536, 'fold': 3119, 'jinkx': 4282, 'den': 2259, 'vampire': 8362, 'stated': 7466, 'publicity': 6281, 'accelerate': 360, 'sum': 7629, 'quick': 6345, 'boycott': 1216, 'alls': 530, 'biiiiiiih': 1043, 'hollered': 3828, 'dsgt': 2538, 'longs': 4766, 'goblue': 3412, 'michigan': 5110, '57': 253, 'notifs': 5555, 'noted': 5548, 'babes': 833, 'tr8i3a': 8065, 'chan': 1566, 'seungkwan': 6976, 'recently': 6463, 'elevenses': 2656, 'baker': 864, 'sonar': 7284, 'downhill': 2480, 'rumours': 6755, 'ashby': 717, 'fingers': 3057, 'crossed': 2040, 'elf': 2657, 'smoov': 7239, 'bruv': 1310, 'toss': 8044, 'ratehishead': 6418, 'espn': 2775, 'reporting': 6563, 'villanova': 8412, 'jfc': 4269, 'booing': 1165, 'ruthless': 6769, 'notification': 5553, 'conner': 1876, 'boyfriends': 1222, 'featuring': 2980, 'marcus': 4951, 'mariota': 4956, 'london': 4762, 'manchester': 4925, 'passer': 5838, 'sim': 7130, 'roo': 6712, 'endorse': 2706, 'issajoke': 4192, 'tuesday': 8177, 'eternally': 2788, '3k': 196, '102': 24, '36': 186, '223k': 130, 'kayla': 4381, 'strange': 7542, 'idol': 3989, 'soooo': 7298, 'ribe': 6639, '30': 169, 'iptv': 4158, '2017': 118, 'fame': 2920, 'brotha': 1293, 'filecoin': 3036, 'shitcoins': 7054, 'translation': 8090, '885': 317, 'hijab': 3782, 'servant': 6962, 'pride': 6198, 'gals': 3282, 'helping': 3754, 'army': 693, 'premiosmtvmiaw': 6171, 'mtvbrkpopbts': 5293, 'otw': 5719, 'relevant': 6523, 'deterred': 2303, 'push': 6312, 'hurled': 3938, 'wag': 8476, 'nieces': 5485, 'nephews': 5433, 'excuse': 2835, 'earlier': 2581, 'passport': 5841, 'hella': 3746, 'fitted': 3072, 'remate': 6529, 'impress': 4045, '5x10': 262, '15k': 67, 'aswell': 753, 'overwatch': 5749, 'youtubegaming': 8884, 'pharrah': 5949, 'pcgamer': 5880, 'pcgaming': 5881, 'subscr': 7597, 'patch': 5847, 'chief': 1630, 'stec': 7488, 'ladies': 4516, 'gentlemen': 3330, 'iknoww': 4000, 'stud': 7575, 'puppy': 6298, 'chyna': 1679, 'toy': 8060, 'threw': 7930, 'yaaaaas': 8793, 'heaping': 3720, 'smith': 7235, 'aaron': 345, 'killed': 4418, 'uuu': 8342, 'linjani': 4681, 'ndebele': 5402, 'baffo': 854, 'taking': 7735, 'power': 6138, 'nap': 5370, 'nyana': 5589, 'sibaya': 7102, 'states': 7467, 'sue': 7618, 'dictatorship': 2327, 'parliament': 5826, 'lion': 4684, 'mice': 5107, 'apologies': 635, 'coolest': 1918, 'kpop': 4484, 'mv': 5331, 'meaningful': 5018, 'issss': 4193, 'litty': 4707, 'lights': 4664, '4real': 228, 'krazy': 4488, 'effiqass': 2629, 'ngot': 5466, 'batgot': 923, 'cackled': 1387, 'reason': 6455, 'pillow': 5991, 'background': 840, 'photo': 5962, 'realized': 6450, 'dirt': 2362, 'supercoach': 7644, 'teaml': 7802, 'tekashi': 7827, '69': 278, 'promises': 6245, '6th': 282, 'billboard': 1047, 'charting': 1588, 'tooooooooooooooo': 8034, 'contest': 1899, 'listeningto': 4696, 'skyfall': 7181, '2012': 116, 'adele': 408, 'nehru': 5425, 'spontaneous': 7393, 'piercing': 5981, 'idem': 3976, 'glupppp': 3402, 'martin': 4974, 'meant': 5020, 'alex': 510, 'paid': 5778, 'bought': 1201, 'acid': 379, 'grain': 3484, 'dropped': 2526, 'reallly': 6451, 'wooow': 8712, 'lyk': 4858, 'coat': 1753, 'gesso': 3342, 'priming': 6200, 'colour': 1786, 'dola': 2430, 'runna': 6758, 'jus': 4344, 'shorty': 7080, 'freebreezihoe': 3198, 'steal': 7487, 'delivering': 2239, 'dynamic': 2576, 'duo': 2563, 'effort': 2630, 'shill': 7042, 'fish': 3070, 'lipped': 4687, 'plate': 6029, 'sus': 7678, 'og': 5624, 'handshake': 3617, 'queen': 6340, 'shoulda': 7082, 'footage': 3143, 'estate': 2781, 'safest': 6788, 'investment': 4151, 'illegals': 4009, 'thinking': 7913, 'doodlebob': 2456, 'tattoo': 7776, 'asscheek': 732, 'memes': 5054, 'decentralized': 2197, 'beatings': 953, 'kick': 4410, 'drudge': 2530, 'ahhh': 474, 'chs': 1670, 'calma': 1410, 'demonic': 2257, 'manteb': 4942, 'cak': 1395, 'mama': 4916, 'themiraclewemet': 7887, 'firstbroadcast': 3067, 'istrending': 4197, 'korea': 4478, 'ls': 4826, 'twee': 8199, 'troops': 8131, 'deployed': 2269, 'border': 1183, 'woth': 8744, 'gucci': 3548, 'flops': 3100, 'gta': 3540, 'pokemon': 6074, 'designs': 2288, 'digimon': 2343, 'monsters': 5228, 'bling': 1096, 'wip': 8673, 'eastermonday': 2596, 'dedicacation': 2205, '170': 79, 'versio': 8382, 'whoohoo': 8626, 'season14': 6898, 'hating': 3682, 'shutting': 7099, 'gee': 3317, 'rhyme': 6636, 'doubt': 2474, 'worldwide': 8729, 'uniforms': 8280, 'wearepartofbangtan': 8561, 'cussing': 2092, 'muthafuckin': 5329, '20th': 125, 'ariesgang': 686, '20gang': 124, 'mfc': 5100, 'logging': 4754, '2309': 136, 'pathetic': 5850, 'sicking': 7108, 'azzholes': 825, 'screwed': 6880, 'alert': 507, 'vegas': 8372, 'embarrassing': 2675, 'jimaccosta': 4276, 'wha': 8603, 'aya': 817, 'necessary': 5410, 'morpinoybiga10': 5244, 'tala': 7736, 'maris': 4957, 'racal': 6369, 'vibrant': 8392, 'yellow': 8836, 'forgetting': 3155, 'wdyt': 8556, 'cast': 1489, 'winchesterforever': 8657, 'jaspin': 4233, 'drew': 2515, 'difference': 2337, 'sam': 6804, 'couple': 1958, 'losers': 4787, 'afc': 439, 'leopards': 4609, 'shittiest': 7059, 'defence': 2214, 'naona': 5369, 'hizi': 3799, 'mabao': 4866, 'walifungwa': 8486, 'machos': 4867, 'tu': 8173, '5th': 260, 'blocking': 1103, 'scum': 6885, 'libturds': 4645, 'erentil': 2760, 'fr4': 3180, 'received': 6461, 'currently': 2084, 'return': 6614, 'swat': 7689, 'goaaaals': 3407, 'sooo': 7296, 'hollywoodlife': 3832, 'vanessa': 8364, 'donald': 2441, 'jr': 4320, 'weirdly': 8582, 'cozy': 1980, 'roll': 6702, 'divorce': 2402, 'grin': 3520, 'btsarmy': 1316, 'botmys': 1196, 'catmys': 1504, 'glitchmys': 3396, 'evenly': 2804, 'represented': 6568, 'lose': 4785, 'situations': 7166, 'mami': 4919, 'lotta': 4794, 'wander': 8500, 'outdoor': 5722, 'milf': 5128, 'lefties': 4589, 'globalists': 3398, 'respect2dagod': 6589, 'kindly': 4429, 'jerk': 4257, 'gord': 3456, 'millers': 5133, 'babble': 830, 'chittar': 1647, 'nawaz': 5393, 'sharif': 7017, 'von': 8453, 'rich': 6643, 'doe': 2420, 'doo': 2454, 'bcpoli': 939, 'active': 388, 'usmc': 8334, 'retired': 6608, 'helland': 3747, 'lowkey': 4820, 'habit': 3580, 'presentation': 6178, 'chad': 1549, 'ceec': 1521, 'joke': 4301, 'katia': 4375, 'temkin': 7835, 'clearly': 1720, 'incredible': 4064, 'leftist': 4590, 'democraps': 2252, 'sunk': 7635, 'e3': 2578, 'badge': 851, 'approved': 659, 'los': 4784, 'angeles': 583, 'pillows': 5992, 'gross': 3528, 'fbrparty': 2971, 'shakes': 7002, 'georgemichael': 3336, 'zer0': 8909, 'disappoint': 2370, 'uhm': 8238, 'oooow': 5678, 'subs': 7596, 'tito': 7988, 'guest': 3552, 'twba': 8195, 'teambnn': 7801, 'roadtoaffiliate': 6682, 'suppo': 7652, 'voting': 8463, 'submitted': 7594, 'writers': 8758, 'nullll': 5578, 'fxkd': 3264, 'slang': 7187, 'collins': 1778, 'beg': 970, 'upwards': 8319, 'junk': 4343, 'excuseme': 2836, 'keepthat': 4393, 'electric': 2651, 'forest': 3151, 'cleared': 1718, 'typed': 8219, 'smart': 7219, 'motivated': 5254, 'payday': 5871, 'vhope': 8390, 'thugs': 7941, 'passive': 5840, 'aggressive': 463, 'blow': 1115, 'charge': 1579, 'coulson': 1950, 'weloveyou': 8589, 'squirrel': 7421, 'weatherfield': 8564, 'hat': 3677, 'ima': 4017, 'shake': 6999, 'errythang': 2766, '16387': 73, 'afford': 447, 'easier': 2587, 'str8': 7539, 'stars': 7457, 'wowow': 8747, 'sheepdog': 7028, 'fridaymood': 3210, 'pet': 5941, 'toks': 8015, 'tiffany': 7956, 'pickups': 5973, 'saucy': 6832, 'common': 1815, 'monster': 5227, 'revord': 6626, 'meltmein2words': 5048, 'homemade': 3839, 'brownies': 1298, 'diana': 2320, 'appreciate': 653, 'glitches': 3395, 'morons': 5243, 'society': 7267, 'worship': 8738, 'grimm': 3519, 'ecc': 2611, 'detroit': 2304, '14th': 57, 'nibbles': 5470, 'stu': 7571, 'surely': 7667, '21st': 128, 'malaia': 4909, 'emotional': 2692, 'sad': 6782, '1201admremix': 43, 'preorder': 6172, 'girllll': 3379, 'girlll': 3378, 'bugheads': 1334, 'yir': 8857, 'patter': 5858, 'happy19daniel': 3639, 'danielseaveybirthday': 2143, 'danielseavey': 2142, 'surprise': 7670, 'discreetly': 2375, 'connect': 1873, 'attitude': 770, 'thatttt': 7872, 'actual': 395, 'whoa': 8625, 'firstlady': 3069, 'rockin': 6693, 'eggroll2018': 2633, 'sayin': 6845, 'christian': 1667, 'died': 2333, 'authority': 779, 'judge': 4323, 'lest': 4615, 'ye': 8818, 'judged': 4324, 'philly': 5957, 'russia': 6765, 'sosad': 7312, 'watched': 8539, 'sens': 6945, 'drains': 2491, 'yhe': 8852, 'hesitate': 3765, 'confam': 1854, 'ooo': 5673, 'tix': 7991, 'chaifetz': 1551, 'arena': 679, 'guard': 3546, 'edge': 2620, 'bladdered': 1088, 'diplomat': 2353, 'heaven': 3731, 'boyfriend': 1221, 'corny': 1931, 'yawn': 8813, 'prefer': 6165, 'arms': 692, 'loveamuslimday': 4804, 'headed': 3709, 'golfer': 3429, 'works': 8721, 'twinning': 8208, 'ads': 418, 'removes': 6541, 'monopoly': 5225, 'congressional': 1871, 'glob': 3397, 'beyonders': 1016, 'awesomee': 805, 'seeeee': 6914, 'progressssss': 6241, 'guessing': 3551, 'tougher': 8052, 'dinner': 2349, 'rate': 6416, 'sandwich': 6813, 'neep': 5420, 'plain': 6020, 'permeates': 5924, 'types': 8220, 'tasha': 7766, 'pretend': 6187, 'dugonggie': 2550, 'chalk': 1555, 'evoke': 2817, 'nationaldefenseactof1916': 5383, 'ajay': 491, 'control': 1906, 'whistle': 8622, 'dropping': 2527, 'grades': 3481, 'base': 908, 'dunno': 2562, 'winners': 8668, 'teambamteddy': 7800, 'a0914161': 340, '01': 3, 'interested': 4131, 'rada': 6375, 'reaching': 6432, 'pleasure': 6043, 'adrian': 417, 'serves': 6966, 'switching': 7708, 'feeds': 2986, 'ama': 545, 'noon': 5529, 'pst': 6273, 'askheranything': 724, 'fi': 3020, 'wey': 8601, 'wan': 8498, 'dre': 2502, 'somethin': 7281, 'realquicc': 6453, 'personally': 5935, 'attacked': 764, 'swank': 7687, 'grats': 3499, 'mates': 4993, 'instagram': 4115, 'whores': 8630, 'lug': 4839, 'heavy': 3732, 'sibling': 7103, 'friendships': 3218, 'fall': 2915, 'age': 455, 'hustler': 3949, 'walmart': 8496, 'las': 4535, 'eastern': 2597, 'ave': 789, 'tall': 7747, 'teenage': 7822, 'comatose': 1793, 'hold': 3818, 'inning': 4098, 'letsgo': 4618, 'everybodyin': 2810, 'substance': 7602, 'solved': 7278, 'ancestors': 574, 'shaku': 7004, 'julia': 4333, 'naughty': 5389, 'namjihyun': 5365, 'soompi': 7292, 'bandwagon': 884, 'sha': 6990, 'hahahaha': 3590, 'breadsticks': 1246, 'cinnamon': 1686, 'sticks': 7504, 'cookies': 1915, 'nacho': 5352, 'fries': 3219, 'purty': 6309, 'uni': 8276, 'python': 6327, 'carried': 1471, '9yearsforstylishbilla': 339, '39k': 193, 'mixer': 5182, 'swag': 7684, 'hoodie': 3856, 'peop': 5908, 'jin': 4279, 'foodie': 3133, 'pushed': 6313, 'quote': 6356, 'lex': 4630, 'sylvester': 7714, 'jumped': 4336, 'stallone': 7441, 'cheds': 1609, 'bullish': 1346, 'chonis': 1656, 'bearish': 948, 'hello': 3748, 'okert': 5637, 'bies': 1028, 'smh': 7229, 'business': 1363, 'wat': 8536, 'wit': 8681, 'effect': 2627, 'cam': 1412, 'percent': 5913, 'claim': 1698, 'independent': 4066, 'anybody': 623, 'strangers': 7543, '511': 238, '6k': 280, '185': 92, '46': 215, 'elementary': 2653, 'bowing': 1211, 'apologizing': 638, 'michaelfassbender': 5108, 'nycc': 5591, 'ceased': 1519, 'amaze': 547, 'falcon': 2912, 'scoring': 6870, 'jax': 4237, 'lilli': 4674, 'milo': 5139, 'paw': 5866, 'waves': 8548, 'biscuit': 1071, 'adult': 419, 'suckkkkkksssssss': 7613, '8k': 321, '137k': 51, 'lmaoooooo': 4730, 'wuda': 8769, 'kilt': 4422, 'cras': 1998, 'sitting': 7164, 'rumi': 6752, 'harmony': 3663, 'supper': 7649, 'playlist': 6038, 'madi': 4876, 'havin': 3690, 'musicmonday': 5322, 'tracks': 8068, 'distance': 2392, 'sars': 6822, 'benefits': 995, 'sided': 7111, 'strings': 7558, 'atta': 761, 'taken': 7732, 'holding': 3819, 'ewwww': 2821, '99': 332, 'lives': 4714, 'caring': 1464, 'amaz': 546, 'hugh': 3915, 'hewitt': 3768, 'balanced': 869, 'jail': 4219, 'smell': 7224, 'compassion': 1824, 'homeless': 3838, 'veterans': 8387, 'americanidol': 559, 'anthony': 611, 'davis': 2162, 'unibrow': 8277, 'anthonydavis': 612, 'aprilfools': 667, 'laughswithpayne': 4550, 'kkd': 4452, 'rangastalam': 6401, 'day4': 2165, '02': 6, '530': 245, '24': 139, '4days': 224, '72': 287, '525': 243, 'badasses': 848, 'spiderman': 7368, 'spidermanhomecoming': 7369, 'marvelcomics': 4976, 'nevaaaa': 5447, 'showusurcurvesladies': 7093, 'afraid': 449, 'niggato': 5490, 'lightskinato': 4666, 'drained': 2490, 'therapeutic': 7895, 'embarrassment': 2676, 'donnie': 2448, 'alyson': 544, 'keeping': 4390, 'hoopin': 3861, 'sexygrannies': 6987, 'hotmilf': 3888, 'oldsex': 5645, 'branded': 1237, 'shoo': 7068, 'canada': 1423, 'holepotus': 3822, 'uglyyy': 8235, 'girlfriend': 3376, 'muscles': 5317, 'spotting': 7401, 'dave': 2160, 'thief': 7905, 'labone': 4511, 'hide': 3774, 'tree': 8105, 'catapult': 1494, 'collab': 1773, 'starbucks': 7450, 'giftcard': 3363, 'moxee': 5273, 'eyeshadow': 2877, 'crossbow': 2039, 'sniper': 7254, 'v2': 8347, 'saver': 6838, 'jenna': 4254, 'ghetto': 3354, 'feelin': 2988, 'pesticides': 5939, 'poison': 6072, 'tampons': 7753, 'wht': 8632, 'yup': 8900, 'ovarian': 5739, 'current': 2083, 'kitkat': 4445, 'project': 6242, 'industry': 4079, 'employment': 2697, 'eggs': 2634, 'eastereggs': 2595, 'happyeaster': 3646, 'kinder': 4428, 'chocolateeggs': 1652, 'barca': 899, 'bayern': 931, 'semi': 6935, 'finals': 3049, 'liv': 4708, 'cracker': 1988, 'specia': 7350, 'nation': 5379, 'fulfilled': 3242, 'india': 4067, 'lifted': 4658, 'cup': 2077, 'japanese': 4231, 'exceptional': 2830, 'sites': 7163, 'scentsy': 6859, 'sprays': 7404, 'contact': 1896, 'roles': 6701, 'ecactly': 2610, 'omggggg': 5654, 'listing': 4698, 'tatiana': 7772, 'classy': 1711, 'velveta': 8376, 'cheese': 1614, 'recruiters': 6473, 'cruel': 2048, 'traded': 8072, 'fed': 2982, 'problems': 6222, 'taco': 7723, 'bell': 985, 'ew': 2819, 'pocketbook': 6060, 'bud': 1324, 'strip': 7559, 'club': 1740, 'chairs': 1553, 'patriot': 5854, 'redeeming': 6477, 'qualities': 6332, 'pooping': 6093, 'peeing': 5892, 'action': 386, 'affiliate': 444, 'marketing': 4962, 'beginners': 973, 'announced': 600, 'snobs': 7256, 'defiantly': 2219, 'shallow': 7006, 'theisland': 7883, 'jamaica': 4221, 'jays': 4240, 'chicago': 1626, 'sox': 7327, 'toronto': 8040, 'stew': 7497, 'chase': 1590, 'geeeettttem': 3318, 'chizzy': 1650, 'letsgochamp': 4619, 'angrybirds': 585, 'angrychamp': 586, 'exams': 2828, 'hardly': 3655, 'californiasmells': 1404, 'step': 7490, 'needles': 5416, 'nut': 5583, 'indian': 4068, 'warren': 8521, 'cha': 1547, 'shopping': 7075, 'naked': 5360, 'allllll': 525, 'titan': 7984, 'filme': 3042, 'truth': 8159, 'miranda': 5160, 'confuse': 1862, 'ily': 4014, 'blackpink': 1087, 'stay100m': 7481, 'china': 1641, 'booze': 1180, 'collect': 1774, 'ken': 4396, 'kickass': 4411, 'ton': 8022, 'accumulating': 375, 'loaded': 4740, 'space': 7333, 'marks': 4963, 'opened': 5683, 'downtown': 2482, 'fresno': 3208, 'bucket': 1322, 'shady': 6996, 'jagoff': 4215, 'st': 7426, 'decided': 2199, 'pok': 6073, 'sobering': 7264, 'chuffed': 1673, 'launch': 4552, 'issue': 4194, 'digital': 2344, 'mag': 4881, 'brill': 1270, 'lptx': 4824, 'vktx': 8434, 'eod': 2744, 'shaken': 7000, 'jeffrey': 4251, 'toobin': 8031, 'hysterical': 3959, '1540': 63, 'gran': 3487, 'yaw': 8812, 'needa': 5414, 'burb': 1356, 'moan': 5192, 'crappy': 1996, 'funnies': 3252, 'nug': 5574, 'utter': 8340, 'gts': 3545, 'useful': 8330, 'info': 4084, 'deontay': 2263, 'wilder': 8649, 'joshua': 4314, 'asap': 713, 'explanation': 2861, 'creepy': 2022, 'kushner': 4502, 'barack': 895, 'hussein': 3948, 'broodal': 1288, 'mario': 4954, 'odyssey': 5609, 'favor': 2959, 'harriet': 3665, 'blocked': 1102, 'posting': 6125, 'bodie': 1137, 'basic': 915, 'sending': 6940, 'hugs': 3917, 'interaction': 4130, 'jadis': 4214, 'diagnosis': 2318, 'cracked': 1987, 'wena': 8592, 'r20': 6362, 'haircut': 3598, 'facial': 2896, 'refusing': 6496, 'ruff': 6743, 'skin': 7176, 'fucker': 3234, 'pannari': 5799, 'flute': 3108, 'flavour': 3085, 'draw': 2498, 'cookie': 1914, 'dough': 2478, 'nailed': 5357, 'ms': 5287, 'soydan': 7329, 'situvieraquedecirte': 7167, 'uh': 8236, 'squirt': 7422, 'pass': 5837, 'istandwithlaura': 4195, 'coached': 1750, 'handlers': 3614, 'goodnight': 3443, 'reactions': 6436, '97': 331, 'guilty': 3557, 'padron': 5775, 'jake': 4220, 'oooooo': 5676, 'whitehouse': 8624, 'paulie': 5863, 'unicode': 8278, 'consortium': 1889, 'honored': 3853, 'emoji': 2688, 'yaaay': 8795, 'csnt': 2062, 'positive': 6116, 'purchased': 6303, 'senior': 6942, 'math': 4994, 'press': 6183, 'supposed': 7661, 'report': 6559, 'sling': 7208, 'tapes': 7761, 'dvds': 2572, 'charm': 1586, 'bully': 1350, 'rappers': 6408, 'sc': 6848, 'nada': 5353, 'niet': 5486, 'unh': 8274, 'yalla': 8800, 'positively': 6117, 'delusional': 2241, 'suck': 7610, 'television': 7830, 'transfered': 8088, 'files': 3038, 'infrared': 4087, 'ht': 3904, 'shared': 7015, 'retail': 6607, 'showed': 7089, 'track': 8066, 'kylie': 4509, 'riley': 6656, 'fooking': 3137, 'goat': 3411, 'signs': 7121, 'capital': 1441, 'oklahomateacherwalkout': 5639, 'humansofbarangay': 3922, 'mainemendoza': 4896, 'maineformac': 4894, 'united': 8284, 'chattin': 1594, 'toine': 8012, 'gaza': 3308, 'wid': 8637, 'syria': 7716, 'yemen': 8839, 'ignorant': 3996, 'artists': 712, '55': 248, '159': 65, '53': 244, '224k': 131, 'warise': 8515, 'data': 2153, 'general': 3322, 'ninokuni2': 5504, 'ordere': 5702, 'softcap': 7272, 'token': 8013, 'owens': 5752, 'bruinfamily': 1305, 'motivating': 5255, 'floor': 3098, 'mozlems': 5276, 'expelled': 2851, 'east': 2590, 'ldn': 4570, 'inshaallah': 4105, 'jihad': 4273, 'essex': 2777, 'eastersowetopicnic': 2598, 'ogogo': 5627, 'nomkhulu': 5523, 'bakithi': 866, 'pensioners': 5906, 'r80': 6364, 'fwa': 3262, 'canadian': 1424, 'spelling': 7359, 'mads': 4880, 'outfit': 5723, 'hm': 3801, 'siwon': 7168, 'heechul': 3735, 'hyukjae': 3960, 'bitchass': 1075, 'broom': 1290, 'legitimate': 4599, 'spouce': 7402, 'citizen': 1692, 'opener': 5684, 'box': 1214, 'leg': 4592, 'torture': 8041, 'happer': 3632, 'walk': 8487, 'awake': 798, 'charleneee': 1581, 'spite': 7378, 'sphincter': 7366, 'clown': 1739, 'owner': 5755, 'owns': 5758, 'washingtonpost': 8531, 'hodl': 3812, 'spotted': 7400, 'marchforourlives': 4949, '123': 44, 'sims': 7139, 'thumbnail': 7942, 'valiant': 8356, 'leaf': 4575, 'blower': 1116, 'spoiler': 7386, 'escaping': 2772, 'cs': 2057, 'catherine': 1501, 'cream': 2006, 'karaoke': 4367, 'clash': 1704, 'housemate': 3896, 'gaf': 3270, 'scare': 6852, 'oooo': 5675, 'honey': 3849, 'whiskey': 8621, 'vicky': 8396, 'skelton': 7172, 'nuts': 5584, 'lock': 4746, '23': 135, 'contagious': 1897, 'garden': 3294, 'ariana': 684, 'grande': 3489, 'charles': 1582, 'diss': 2391, 'ludicrous': 4838, 'slam': 7185, 'clear': 1717, 'flex': 3088, 'implore': 4040, '180328': 88, 'hkg': 3800, '73k': 289, 'vise': 8428, 'versa': 8379, 'freddie': 3192, 'wethepeople': 8598, 'voted': 8457, 'draintheswamp': 2492, 'rats': 6420, 'andre': 579, 'omggg': 5653, 'tube': 8174, 'tycoon': 8217, 'caroline': 1468, 'prayers': 6156, 'klaroliner': 4454, 'klaroline': 4453, 'nasty': 5375, 'veehrry': 8371, 'clever': 1721, 'chippy': 1645, 'lunch': 4844, 'itching': 4200, 'dk': 2407, '2000s': 111, 'mania': 4930, 'wednesday': 8571, 'approximately': 660, 'wrestling': 8754, 'tt4f': 8171, 'teamstallion': 7808, '1ddrive': 102, 'weeknd': 8577, 'higher': 3777, 'crude': 2047, 'throwback': 7935, 'fifa': 3026, '94': 328, 'ref': 6487, 'wmaakvideo': 8688, 'mix': 5181, 'breddah': 1256, 'lien': 4649, 'thomas': 7919, 'walsh': 8497, '60': 263, 'arcona': 676, 'paris': 5820, 'blockchain': 1101, 'ai': 476, 'wise': 8677, 'internet': 4135, 'matisse': 4995, 'gogh': 3418, 'doj': 2429, 'fbi': 2969, 'funding': 3248, 'attack': 763, 'corey': 1928, 'apartment': 631, 'doesnt': 2423, 'thumbs': 7943, 'buffalo': 1329, 'wondering': 8700, 'hugest': 3914, 'luxury': 4851, 'nay': 5394, '200k': 114, 'doh': 2427, 'bong': 1157, 'brad': 1227, 'parscale': 5827, '2020': 122, 'campaign': 1419, 'suspended': 7680, 'sadly': 6784, 'billion': 1049, 'joint': 4300, 'kashmir': 4370, '13': 48, 'terrorists': 7845, 'captured': 1452, 'apprecia': 652, 'demand': 2244, 'redo': 6481, 'r180': 6361, 'dummy': 2556, 'acct': 374, 'pandastory': 5795, 'frosting': 3224, 'healthy': 3719, 'ping': 5997, 'changes': 1570, 'boost': 1173, 'pensions': 5907, 'divya': 2404, 'spandana': 7340, 'frequently': 3204, 'handles': 3615, 'pappu': 5805, 'fakenewsmedia': 2909, 'fakenewscnn': 2908, '79': 299, 'eastersunday': 2599, 'pasqua2018': 5836, 'noooo': 5531, 'chucky': 1672, 'todd': 8005, 'communist': 1817, 'network': 5445, 'unjaded': 8288, 'vlog': 8435, 'probs': 6223, 'dealing': 2180, 'ward': 8512, 'mary': 4977, 'ann': 593, 'correct': 1933, 'masters': 4987, 'pal': 5791, 'onmyblock': 5667, 'ruby': 6740, 'mackenzie': 4868, 'papers': 5804, 'shackalaka': 6991, 'ride': 6649, 'company': 1822, 'troublemakers': 8136, 'founder': 3175, 'teens': 7823, 'cringe': 2030, 'xoxo': 8786, 'connections': 1875, 'duhh': 2552, '420': 210, 'renewal': 6544, 'legendsoftomorrow': 4597, 'herocz': 3760, 'wcc': 8554, 'poll': 6084, 'raci': 6372, 'dan': 2134, 'shes': 7036, 'passes': 5839, 'potna': 6130, 'clutching': 1745, 'nil': 5500, 'row': 6729, 'named': 5362, '100bestcos': 19, 'wallet': 8494, 'naw': 5391, '4km': 226, 'jump': 4335, 'lunges': 4846, 'squats': 7418, 'medicine': 5030, 'exercises': 2839, 'kno': 4461, 'danielle': 2140, 'rocket': 6692, 'information': 4086, 'trolls': 8128, 'dubious': 2543, 'sources': 7323, 'credence': 2016, 'gain': 3274, 'tight': 7959, 'cleaning': 1716, 'green': 3508, 'purple': 6307, 'psychobilly': 6275, 'copensen': 1921, 'easiest': 2588, 'cams': 1422, 'damnnnn': 2132, 'columbia': 1789, 'superstar': 7647, 'grand': 3488, 'audio': 774, 'lb': 4569, 'stadium': 7432, 'hyderabad': 3951, 'bharatanenen': 1022, 'breed': 1259, 'aquatic': 670, 'center': 1535, 'tweak': 8197, 'bcs': 940, 'psycho': 6274, 'arielle': 685, 'uhhh': 8237, 'station': 7470, 'conservatives': 1884, 'tonite': 8026, 'raaaaaaaaaaaaaaaaaaaaaaaaaaaaaaaaaaaaaaa': 6365, 'fusions': 3259, 'belying': 991, 'triple': 8122, 'penetrated': 5901, 'harden': 3652, 'dunk': 2561, '90th': 326, 'sergegainsbourg': 6957, 'harvey': 3674, 'ex': 2822, 'cameron': 1416, 'interacted': 4129, 'ironically': 4165, 'rabbi': 6367, 'dean': 2182, 'hester': 3766, 'elhs': 2659, 'brum': 1308, 'distracting': 2394, 'events': 2806, 'attend': 766, 'based': 911, 'da': 2106, 'produced': 6228, 'anchored': 575, 'forecast': 3150, 'sack': 6779, 'tds': 7790, 'patient': 5852, 'aggrandizing': 461, 'activist': 392, 'hack': 3582, 'ment': 5064, 'seavey': 6903, 'stood': 7524, 'reasons': 6456, 'brainless': 1232, 'worried': 8733, 'punishmuslimday': 6295, 'milk': 5130, 'sugars': 7624, 'cw': 2101, 'luv': 4850, 'saudi': 6833, 'crown': 2044, 'israelis': 4188, 'starehe': 7453, 'dodged': 2416, 'bullet': 1344, 'pedal': 5890, 'sza': 7719, 'bukalabanda': 1340, 'false': 2918, 'stories': 7534, 'washingtondc': 8530, 'hughhewitt': 3916, 'wh': 8602, 'foodiechats': 3134, 'foodiefriends': 3135, 'phones': 5959, 'cheeky': 1611, 'sorted': 7311, 'newmusic': 5458, 'bargainprice': 904, 'habby': 3579, 'birzday': 1069, 'lays': 4566, 'chips': 1646, 'strawberry': 7547, 'kiwi': 4451, 'juice': 4331, 'restock': 6603, 'enchants': 2700, 'worldofwarcraft': 8728, 'goldmaking': 3428, 'intense': 4128, 'headaches': 3706, 'disappear': 2368, 'asleep': 728, 'challenges': 1558, 'harry': 3667, 'styles': 7589, 'sold': 7273, '400k': 204, 'copies': 1922, 'estimated': 2786, 'sps': 7414, 'riaa': 6638, '800k': 308, 'petrifying': 5944, 'covered': 1970, 'calif': 1402, 'senate': 6936, 'cruz': 2051, 'maddie': 4872, 'yctuvyiojp': 8817, 'nonstop': 5527, 'zolu': 8918, 'blackness': 1085, 'gmims': 3404, 'dontforgetthedollarsign': 2451, 'optimistic': 5695, 'anoto': 606, 'keyboard': 4403, 'basement': 912, 'orwell': 5713, 'basically': 916, 'ju': 4322, 'ne': 5405, 'poetjunhoeday': 6068, '03': 7, 'ikon': 4001, 'jawn': 4235, 'diggg': 2341, 'sexier': 6982, 'stephen': 7492, 'seein': 6915, 'mince': 5141, 'meat': 5023, 'sophomore': 7303, 'midfielder': 5117, 'ryan': 6771, 'connor': 1877, 'goheels': 3419, 'noiiice': 5516, 'cooking': 1916, 'patriotism': 5856, 'rom': 6704, 'pen': 5896, 'owl': 5753, 'boobies': 1161, 'toxic': 8059, 'demacrat': 2243, 'reylo': 6630, 'au': 771, 'spawned': 7347, 'antis': 616, 'hopping': 3870, 'tl': 7993, 'preciate': 6162, 'dodger': 2417, 'internally': 4133, 'suddenly': 7616, 'nismonation': 5509, 'beast': 950, 'readyplayerone': 6442, 'prefiero': 6167, 'taxify': 7782, 'stacey': 7430, 'rhocheshire': 6634, 'til': 7961, 'aaaaa': 343, 'renalpath': 6542, 'ultrastructure': 8245, 'tma': 7995, 'allowing': 528, 'meters': 5091, 'property': 6252, 'gon': 3431, 'demon': 2256, 'driver': 2522, '612': 267, 'jordan': 4310, 'septic': 6955, 'tank': 7756, 'pumper': 6290, 'legit': 4598, 'giveaways': 3384, 'durk': 2568, 'anime': 592, 'announce': 599, 'prints': 6207, 'greeting': 3511, 'families': 2922, 'graders': 3480, 'upcoming': 8305, 'parent': 5815, 'eastbound': 2591, '202': 121, 'rush': 6764, 'traffic': 8074, 'puke': 6284, 'gosh': 3460, 'lack': 4513, 'intelligence': 4126, 'technology': 7816, 'girly': 3382, 'creativebizhour': 2012, 'conversations': 1910, 'texts': 7854, 'snapchat': 7246, 'invasion': 4148, 'defend': 2215, 'themselve': 7889, 'belong': 988, 'guuul': 3569, 'robert': 6684, 'surveys': 7674, 'crazeme': 2003, 'part2': 5828, 'laws': 4559, 'individuals': 4076, 'government': 3471, 'furious': 3256, 'kinna': 4436, 'th': 7856, 'communityisourmiddlename': 1819, 'scares': 6854, 'bullpen': 1347, 'aowa': 628, 'kgane': 4405, 'le': 4571, 'jeopardy': 4255, 'teachers': 7795, 'shaping': 7013, 'switched': 7707, 'netset': 5444, 'xplornet': 8787, 'tragic': 8075, 'poos': 6097, 'air': 481, 'repen': 6551, 'domino': 2439, 'karamay': 4366, 'pooped': 6091, 'ccri': 1516, 'crime': 2028, 'ronda': 6709, 'tan': 7755, 'dry': 2535, 'bulls': 1348, 'mtvbrkpopexo': 5294, 'additional': 404, 'manipulation': 4935, 'mahi': 4890, 'unknowingly': 8290, 'strength': 7555, 'zoya': 8923, 'adi': 409, 'intimidates': 4144, 'lift': 4657, 'cabin': 1384, 'bestiesforlife': 1004, 'nico': 5480, 'niii': 5498, 'motherfucker': 5251, 'clip': 1728, 'bot': 1194, 'sp': 7331, 'feelings': 2990, 'warmup': 8517, 'confident': 1859, 'race': 6370, 'tammy': 7752, 'charlie': 1584, 'rosen': 6724, 'repugnican': 6571, 'seat': 6900, 'evaporates': 2801, 'facetattoos': 2893, 'timing': 7971, 'honesty': 3848, 'slight': 7203, 'inconsistencies': 4060, 'pardon': 5813, 'normaal': 5535, 'llgive': 4722, 'driving': 2523, 'maniac': 4931, 'deuce': 2305, 'dr': 2484, 'seuss': 6977, 'edition': 2622, 'migos': 5121, 'microwave': 5114, 'burnt': 1360, 'lasted': 4536, 'thou': 7923, 'freaks': 3189, 'butterfly': 1373, 'swirl': 7703, 'tripping': 8123, 'cuban': 2067, 'desperate': 2291, 'libbies': 4637, 'pristin': 6209, 'roa': 6678, 'yuha': 8895, 'xiyeon': 8784, 'invest': 4149, 'urban': 8321, 'sanitation': 6817, 'ensure': 2727, 'toilets': 8011, 'rio': 6663, 'pikachu': 5986, 'panera': 5796, 'heroes': 3761, 'miraculous': 5159, 'ladybug': 4518, 'dogging': 2425, 'stating': 7469, 'boat': 1131, 'koko': 4474, 'throwing': 7936, 'fly': 3109, 'september': 6954, 'outlets': 5727, 'facetimed': 2895, 'bye': 1382, 'clicked': 1724, 'convinced': 1911, 'seconded': 6905, 'adventures': 427, 'gir': 3373, 'expressions': 2867, 'outnumber': 5729, 'tejas': 7825, 'jukebox': 4332, '78k': 298, '118': 37, 'nz': 5593, 'decide': 2198, 'rangers': 6404, 'islanders': 4181, 'derby': 2276, 'walker': 8489, 'honour': 3854, 'casuallly': 1491, 'tasting': 7770, 'barossa': 906, 'valley': 8359, 'doubled': 2471, 'veggies': 8373, 'avocado': 793, 'goodmorningggg': 3441, 'toys': 8062, 'pooparoos': 6090, 'nothankyou': 5550, 'quiet': 6349, 'agenda': 457, 'cineworldunlimited': 1685, 'mischievous': 5164, 'handle': 3612, 'gtlive': 3544, 'masterpiece': 4986, 'painting': 5785, 'yoga': 8862, 'text': 7851, 'graphic': 3495, 'youve': 8889, 'warnee': 8518, 'quarter': 6334, 'gpa': 3475, 'hyped': 3954, 'wrestlemaina': 8752, 'taker': 7733, 'uo': 8303, 'sur': 7665, 'jel': 4253, 'turtle': 8188, 'helmet': 3750, 'minecraftpe': 5147, 'obvi': 5603, 'actively': 389, 'artistic': 711, 'freedom': 3200, 'fakenews': 2907, 'brainwash': 1234, 'viewers': 8407, 'viewing': 8408, 'alternate': 540, 'hotlight': 3887, 'henry': 3758, 'max': 5001, 'tvxq': 8192, 'goi': 3420, 'annalaan': 595, 'gym': 3576, 'birdman': 1057, 'tears': 7813, 'gurl': 3564, 'broccoli': 1281, 'tinfoil': 7974, 'inanimateinsanity': 4051, 'strong': 7563, 'boise': 1148, 'trashed': 8095, 'brandon': 1239, 'formal': 3160, 'emojis': 2690, 'acceptable': 362, 'theorists': 7891, 'stauffer': 7478, 'officers': 5617, 'child': 1631, 'internetbillofrights': 4136, 'wristband': 8756, 'senpai': 6944, 'warframe': 8514, 'counting': 1953, 'shat': 7020, 'delicate': 2234, 'sabrina': 6776, 'stayblessed': 7482, 'essie': 2778, '43': 211, 'gallery': 3281, 'saturdays': 6828, 'cheer': 1612, 'wanting': 8506, 'nails': 5358, 'australia': 778, 'sid': 7110, '6581': 276, 'chip': 1643, 'ei': 2640, 'liberalismisamentaldisorder': 4641, 'progressivepropaganda': 6239, 'eugene': 2794, 'ncu': 5400, 'guidance': 3555, 'launched': 4553, 'rehabilitation': 6505, 'widow': 8639, 'divorcee': 2403, 'married': 4969, 'willing': 8654, 'gr8': 3476, 'castle': 1490, 'zuckface': 8925, 'took': 8032, 'dome': 2436, 'fecesbook': 2981, 'critter': 2034, 'criticalrole': 2032, 'hte': 3906, 'heads': 3714, 'squidward': 7420, 'krabby': 4486, 'patties': 5860, 'everly': 2808, 'devastating': 2306, 'dresses': 2513, 'kassius': 4371, 'ohno': 5631, 'smackdown': 7217, 'weis': 8584, 'miraclemets': 5158, 'goood': 3450, 'crooks': 2037, 'scamcoin': 6850, 'youu': 8886, 'melania': 5044, 'dip': 2352, 'hun': 3928, 'djt': 2406, 'nazi': 5395, 'morals': 5238, 'adulterer': 420, 'dodging': 2418, 'corru': 1936, 'abeg': 349, 'firewood': 3065, 'yaaaay': 8794, 'hmmm': 3804, 'baha': 860, 'namhla': 5364, 'lucy': 4837, 'cosmo': 1939, 'whipped': 8619, 'pus': 6310, 'shitting': 7060, 'thath': 7870, 'shrinks': 7096, 'ordered': 5703, 'large': 4532, 'mu': 5295, 'phil': 5953, 'meme': 5053, 'burger': 1358, 'simba': 7131, 'insert': 4104, 'swift': 7699, '22': 129, 'lyric': 4860, 'brasil': 1241, 'seaotters': 6894, 'lmaoo': 4727, 'rican': 6642, 'throws': 7938, 'yee': 8828, 'haw': 3692, 'hattiesburg': 3685, 'wiggins': 8645, 'ed': 2617, 'identify': 3978, 'calvin': 1411, 'cambridge': 1413, 'tracy': 8070, 'reynolds': 6631, 'halftime': 3601, 'hook': 3859, 'sinker': 7150, 'protective': 6254, 'eardrums': 2580, 'root': 6718, 'canals': 1425, 'indica': 4070, 'wombat': 8695, 'htownstop8at8': 3907, 'biggestpartyoftheyear': 1035, 'htctryouts2018': 3905, 'tactic': 7725, 'stormy': 7537, 'ect': 2616, 'deeply': 2210, 'fucks': 3238, '90s': 325, 'pirince': 6004, 'bel': 979, 'caps': 1447, 'hhay': 3770, 'fandalism': 2926, 'page': 5777, 'goodies': 3438, 'relaxation': 6517, 'arrow': 701, 'demented': 2248, 'egomaniac': 2636, 'conscience': 1880, 'liam': 4633, 'payne': 5874, 'shiver': 7063, 'timbers': 7964, '298': 158, '48': 220, 'clue': 1743, 'character': 1577, 'yaaaaaaaasssss': 8792, 'socks': 7269, 'desiigner': 2289, 'hanzi': 3627, 'gabby': 3268, 'smokin': 7236, 'keeps': 4391, 'staring': 7455, 'farting': 2943, 'hangout': 3621, 'spongebob': 7389, 'duh': 2551, 'buzzing': 1380, 'tracksuit': 8069, 'applications': 649, 'closed': 1733, 'kalinga': 4358, 'kingdom': 4432, 'stitches': 7511, 'leathered': 4583, 'bruise': 1306, 'slice': 7199, '13tour': 53, 'indochinenantes': 4077, 'mylittleconfession': 5337, 'mistress': 5179, 'estelle': 2784, 'spoil': 7384, 'serve': 6963, 'hamilton68': 3606, 'kristol': 4490, 'nuff': 5573, 'stink': 7508, 'tallest': 7748, 'rivershark': 6670, 'alumni': 542, 'ive': 4206, 'elucidated': 2669, 'hbo': 3701, 'nickelodeon': 5479, 'remote': 6538, 'preseason': 6175, 'mixtape': 5183, 'drooping': 2524, 'skyrocket': 7184, 'loizza': 4758, 'champion': 1562, 'mentalhealth': 5066, 'hele': 3742, 'peersupport': 5895, 'africa': 450, 'develop': 2307, 'armpits': 691, '519k': 241, '154': 62, '62': 268, 'weirdo': 8583, 'timeline': 7968, 'dress': 2511, 'food4less': 3132, 'potus': 6132, 'eastereggroll': 2594, 'flith': 3094, 'govt': 3473, '3m': 197, 'kst': 4494, 'imfact': 4027, 'jian': 4272, 'jeup': 4268, 'sports': 7396, 'putthepadson': 6323, 'athletes': 756, 'safet': 6789, 'kaya': 4380, 'kung': 4498, 'gusto': 3567, 'gawin': 3304, 'granted': 3493, 'forgotten': 3158, 'tought': 8053, 'dread': 2503, 'toppy': 8039, 'ckin': 1697, 'computer': 1842, 'blame': 1090, 'goldberg': 3425, 'exploring': 2862, 'usdlearns': 8327, 'animal': 589, 'crossing': 2041, 'compelling': 1825, 'argument': 682, 'ape': 633, 'carnivorous': 1467, 'monolith': 5224, 'clearl': 1719, 'methods': 5094, 'islam': 4178, 'qur': 6359, 'arabic': 673, 'lessons': 4614, 'suspects': 7679, 'ght': 3357, 'wins': 8670, 'finning': 3063, 'trusted': 8158, 'monnie': 5222, 'ordinary': 5704, 'janelle': 4227, 'guuuurrrl': 3570, 'fiyah': 3077, 'stawp': 7479, 'shiiii': 7041, '20180401': 120, 'kimmon': 4424, 'kimmonwolfboyparty': 4425, 'checked': 1605, 'fosta': 3171, 'fa': 2886, 'puss': 6317, 'lemans': 4605, 'jaguarmax': 4216, 'gvfeeling': 3573, 'tcrwp': 7789, 'picturebookchallenge': 5976, 'boyyy': 1224, 'spammed': 7339, 'death': 2186, 'alces': 502, 'rb': 6427, 'talks': 7746, 'filming': 3043, 'thekingsavatar': 7884, 'yangyang': 8801, 'yexiu': 8851, 'ava': 787, 'chevann': 1623, 'pots': 6131, 'fanfics': 2928, 'sef': 6921, 'scrubbed': 6884, 'daughter': 2157, 'buttt': 1375, 'mommas': 5208, 'chale': 1554, 'rapping': 6410, '2m': 163, 'subscribers': 7599, 'jinhwan': 4281, 'yunhyeong': 8899, 'hanbin': 3608, 'donghyuk': 2446, 'junhoe': 4341, 'hint': 3790, 'selly': 6932, 'quality': 6333, 'assured': 746, 'forms': 3161, 'refuse': 6495, 'interview': 4141, 'jett': 4267, 'bof': 1143, '171204': 81, 'olive': 5647, 'islandtrio': 4182, 'ep29': 2748, 'yonghwa': 8865, 'cnblue': 1747, 'dork': 2467, 'bulletproof': 1345, 'backwards': 844, 'cra': 1983, 'interpretation': 4137, 'swamp': 7686, 'kitties': 4448, '124k': 45, 'jd': 4243, 'agent': 458, 'mejo': 5042, 'pricey': 6197, 'btswingsconceptbook': 1318, 'notch': 5545, 'witness': 8682, 'ers': 2767, 'expect': 2847, 'mikelindell': 5123, 'sponsored': 7391, 'silence': 7125, 'lifelong': 4655, 'bff': 1019, 'welly': 8587, 'yassssssssssssssss': 8811, 'reworking': 6628, 'ninth': 5505, 'circuit': 1689, 'deadass': 2174, 'yasmine': 8807, 'hobgoblin': 3810, 'hollyoaks': 3830, 'podcasting': 6064, 'chin': 1640, 'persona': 5931, 'airing': 484, 'membership': 5051, 'taurus': 7779, 'comey': 1800, 'brennan': 1260, 'sleazy': 7192, 'grass': 3497, 'traitors': 8083, 'tmx': 7998, 'askmarkruss': 726, 'silica': 7126, 'windows': 8659, 'pushes': 6314, 'freed': 3199, 'slaves': 7190, 'episodes': 2751, 'fabulous': 2889, 'mum': 5306, 'website': 8567, 'glory': 3400, 'lk': 4720, 'yayyyy': 8815, '217': 127, '778': 295, '143k': 56, 'robots': 6688, 'autograph': 783, 'marked': 4960, 'impressed': 4046, 'lightning': 4663, 'kudos': 4496, 'training': 8081, 'def': 2211, 'gayle': 3306, 'chutiyas': 1678, 'comparing': 1823, 'virat': 8423, 'babar': 829, 'azam': 823, 'chesney': 1622, 'credited': 2020, 'nats': 5385, 'mcdavid': 5012, 'puck': 6283, 'shoots': 7071, 'scores': 6869, 'soretes': 7308, 'cave': 1512, 'punk': 6296, 'mil': 5125, 'cutie': 2099, 'peace': 5884, 'facetime': 2894, 'relatable': 6510, 'peaceful': 5885, 'crawfish': 2000, 'leafs': 4576, 'aid': 477, 'historic': 3792, 'locations': 4745, 'alcatra': 501, 'appointments': 651, '4pm': 227, '8pm': 322, '0490744812': 9, 'tittytuesday': 7990, 'rupenzael': 6763, 'redheads': 6479, 'glasses': 3394, 'pouches': 6134, 'massive': 4984, 'piles': 5989, 'slightly': 7204, '24hrs': 141, 'gen': 3320, 'boiled': 1146, 'barbecue': 898, 'nun': 5581, 'spoken': 7387, 'iz': 4209, 'haz': 3696, 'bin': 1054, 'charming': 1587, 'umgowo': 8247, 'yho': 8853, 'hayi': 3695, 'talkative': 7741, 'finallyyyyyy': 3048, 'toilet': 8010, 'lmfao': 4733, 'yeeeeaaaaaahhhh': 8829, 'songsong': 7287, 'neurologist': 5446, 'kangaroos': 4361, 'louisa': 4800, 'proof': 6248, 'equality': 2753, 'tipsy': 7979, 'ibu': 3966, 'dun': 2558, 'gainst': 3275, 'billlionaire': 1050, 'sleepz': 7196, 'factory': 2899, 'goin': 3421, 'ghost': 3355, 'mob': 5193, 'dimple': 2346, 'mp100': 5278, 'lmaooooooo': 4731, 'eith': 2644, 'healthwise': 3718, 'vietnam': 8405, 'snap': 7245, 'reeks': 6485, 'particular': 5831, 'type': 8218, 'desperation': 2292, 'cheeto': 1615, 'remark': 6527, 'despise': 2293, 'mindless': 5145, 'babbling': 831, 'wasted': 8534, 'madddddddd': 4870, 'conormcgregor': 1879, 'tonyferguson': 8029, 'injured': 4094, 'ahahahaha': 471, 'ufc223': 8231, 'themmahour': 7888, 'khabib': 4406, 'candles': 1434, 'uko': 8242, 'msimamizi': 5289, 'shitassperformer': 7052, 'peacock': 5887, 'spider': 7367, 'courtship': 1966, 'category': 1500, 'noticed': 5552, 'mnwild': 5190, 'repeat': 6550, 'achieve': 378, 'harianque': 3659, 'rhfox951': 6632, 'cunts': 2076, 'edgar': 2619, 'wright': 8755, '608': 265, '254': 146, '10mins': 29, 'household': 3895, 'ts4': 8167, 'thesims4': 7900, 'm34nismind': 4862, 'tusexyboy': 8189, 'lovebychanceseries': 4805, 'awareness': 801, 'concert': 1848, 'europe': 2796, 'makeing': 4903, 'meer': 5035, 'sings': 7148, 'chileeeeee': 1637, 'idhudhana': 3982, 'bean': 945, 'animated': 591, 'oky': 5640, 'bighit10m': 1036, 'hotfix': 3886, 'illustrated': 4011, 'dsu': 2539, 'smooth': 7238, 'splash': 7380, 'brigade': 1268, 'loose': 4778, 'stalking': 7439, 'huh': 3918, '17days': 84, 'ohmygod': 5630, 'atf': 755, 'doctor': 2412, 'valid': 8357, 'oklahoma': 5638, 'writes': 8760, '35': 184, 'normally': 5537, 'heather': 3730, 'enjoying': 2721, 'endless': 2705, 'italians': 4199, 'lifedoneright': 4652, 'dp2017': 2483, 'togeth': 8007, 'disprove': 2385, 'countries': 1954, '11k': 39, 'boot': 1175, 'camp': 1418, 'exercising': 2840, 'minds': 5146, 'bodies': 1138, 'strongwriters': 7565, 'destinationexcellence': 2297, 'texting': 7853, 'poorest': 6096, 'continent': 1901, 'nyweh': 5592, 'murdered': 5311, 'jou': 4315, 'decisions': 2201, 'vety': 8389, 'living': 4717, 'thebeatles': 7875, 'yer': 8841, 'awfully': 808, 'comics': 1802, 'iamtheresistance': 3963, 'sinclairstrike': 7144, 'christ': 1666, 'renews': 6546, 'understood': 8263, 'pushing': 6316, 'folk': 3121, 'colorado': 1781, 'mountains': 5261, 'mayflower': 5005, 'available': 788, 'cellent': 1531, 'pups': 6299, 'flash': 3082, 'upped': 8311, 'thegoodplac': 7880, 'ensconsed': 2726, 'dopemans': 2465, 'tch': 7788, 'wildly': 8650, 'rails': 6386, 'demo': 2250, 'amine': 563, 'cryptaldash': 2053, 'exchange': 2832, 'tvxqifficial': 8193, 'pusb': 6311, 'skyblues': 7180, 'larwd': 4534, 'bobrisky': 1136, 'commentators': 1809, 'propaganda': 6249, 'stations': 7471, 'carsy': 1476, 'conservative': 1883, 'jack': 4210, 'poshmark': 6113, 'beachfounder': 944, 'coupons': 1960, 'freebies': 3197, 'freestuff': 3201, 'deals': 2181, 'bastard': 920, 'square': 7417, 'potw': 6133, 'nbalivemobile': 5398, 'gladio': 3390, 'laughter': 4551, 'noodle': 5528, 'soundtracks': 7320, 'fullest': 3243, 'slapping': 7189, 'volvooceanrace': 8451, 'teamtom': 7810, 'finalist': 3046, 'onw': 5668, 'taught': 7778, 'stack': 7431, 'results': 6606, 'necmmiiiiiiiiii': 5412, 'wateva': 8546, 'truuu': 8160, 'reham': 6506, 'khan': 4407, 'grew': 3514, 'gluten': 3403, 'tasted': 7769, 'craig': 1992, 'hurray': 3940, 'cleaned': 1715, 'bowled': 1213, 'padmaawards': 5773, 'padmabhushan': 5774, 'msdhoni': 5288, 'presidentkovind': 6182, 'cee': 1520, 'nominated': 5520, 'persons': 5937, 'sees': 6920, 'threat': 7929, 'hatred': 3683, 'mahal': 4889, 'forevs': 3153, 'diversity': 2399, 'shouldnt': 7084, 'turds': 8182, 'rts': 6738, '300': 170, 'entries': 2739, 'fo': 3115, 'announcement': 601, 'anasazi': 573, 'mumbling': 5308, 'ser': 6956, 'sleeping': 7194, '2pm': 167, '8am': 320, 'iyke': 4208, 'ogini': 5625, 'kwanu': 4505, 'tenure': 7838, 'bloated': 1097, 'importance': 4041, 'mrs': 5286, 'funnyjoke': 3255, 'pardew': 5812, 'loses': 4788, 'insanity': 4102, 'entertaining': 2732, 'kat': 4372, 'yumi': 8898, 'supplies': 7650, 'capitol': 1445, 'hill': 3785, 'blocks': 1105, 'bound': 1204, '800': 307, 'ishouldhaveleftit': 4177, 'honorable': 3852, 'resign': 6582, 'auspol': 777, 'girllllll': 3380, 'commend': 1807, 'standing': 7445, 'approval': 657, 'eternal': 2787, 'arsehole': 703, 'shitbag': 7053, 'cyrus': 2104, 'eyebrows': 2874, 'travelled': 8098, 'warriors': 8523, 'amazed': 548, 'perform': 5917, 'dolly': 2434, 'niceview': 5477, 'dollyfox': 2435, 'pot': 6127, 'known': 4468, 'twtr': 8214, 'pint': 6001, 'bombs': 1152, 'ver': 8377, 'consist': 1886, 'polished': 6078, 'blowout': 1119, 'surpise': 7669, 'momlife': 5206, 'parentlife': 5817, 'inappropriate': 4052, 'dirtydishonestdonny': 2364, 'moonbeam': 5234, 'entertainment': 2733, 'breakfast': 1248, 'brezeale': 1263, 'molina': 5202, '37': 188, 'klitscko': 4455, '41': 205, 'takam': 7731, 'parker': 5823, 'povetkin': 6137, 'rusty': 6767, 'impeachtrumpnow': 4039, '25thamendmentnow': 149, 'newelection': 5453, 'regrann': 6501, 'jungmin': 4339, 'parkjungmin': 5825, 'ss501': 7424, 'singer': 7146, 'koreanartist': 4481, 'tha': 7857, 'analyst': 571, 'survived': 7676, 'looongg': 4774, 'lush': 4848, '9pm': 336, 'tip': 7977, 'logo': 4756, 'identifiable': 3977, 'cathyandcourtneyshim': 1502, 'yesus': 8850, 'sies': 7113, 'uncle': 8254, 'finna': 3062, 'cuh': 2070, 'mazy': 5007, 'ly': 4855, 'rahi': 6383, 'thi': 7903, 'iris': 4163, 'quotes': 6357, 'ir': 4160, 'adog': 414, 'snaps': 7248, 'fatherhood': 2954, 'yourock': 8879, 'mvhs': 5332, 'genno': 3328, 'wapo': 8510, 'amy': 569, 'deadd': 2175, 'bacon': 846, 'prank': 6153, 'places': 6017, 'calendar': 1399, 'dates': 2155, 'transferable': 8087, 'stall': 7440, 'nb': 5396, 'shoreline': 7077, 'irt': 4173, 'rams': 6397, 'moncarataprilfoolsday': 5213, 'essential': 2776, 'equipment': 2756, 'whilst': 8613, 'roblox': 6685, 'royale': 6733, 'talked': 7742, 'caravan': 1454, 'arrives': 700, 'ch': 1546, 'cruise': 2049, 'joethecop': 4288, 'gotham': 3466, 'gcpd': 3312, 'kia': 4409, 'circus': 1690, 'familamers': 2921, '1hund': 103, 'issagodsplan': 4191, 'credit': 2019, 'murderer': 5312, 'prez': 6194, 'choices': 1654, 'supremacist': 7663, 'nra': 5564, 'flunky': 3106, 'staff': 7433, 'caves': 1513, 'farm': 2935, 'mainly': 4897, 'bostonterrier': 1192, 'pets': 5945, 'antics': 615, 'meredith': 5074, 'gary': 3296, 'jogging': 4289, 'fascinating': 2945, 'science': 6865, 'cosmos': 1940, 'chelsea': 1616, 'babylon': 837, 'preparations': 6173, 'europa': 2795, 'osteoporosis': 5717, 'fc': 2972, 'booked': 1168, 'friendsfest': 3216, 'tells': 7834, 'threads': 7928, 'yoi': 8863, 'desrve': 2295, 'jeremy': 4256, 'sang': 6816, '10jam': 26, 'jams': 4224, 'selca': 6923, 'revealed': 6622, 'hbdprabhudheva': 3700, 'prabhudheva': 6147, 'pddancing': 5882, 'alec': 506, 'convincing': 1912, 'dabbles': 2110, 'dent': 2260, 'lmaoooooooooo': 4732, 'clap': 1702, 'backs': 842, 'wen': 8591, 'trashcan': 8094, 'jeffree': 4250, 'sunshine': 7640, 'ooooooh': 5677, 'denver': 2262, 'reporter': 6561, 'catcher': 1496, 'goodtime': 3444, '01k': 5, '290': 157, '66': 277, '118k': 38, 'humming': 3924, 'tam': 7750, 'nerd': 5435, 'frogloons': 3220, 'jon': 4306, 'sliding': 7202, 'woo': 8703, 'hoo': 3855, 'restful': 6602, 'reh': 6504, 'yasssss': 8810, 'lmfaooooo': 4736, 'knock': 4463, 'skp': 7178, 'greet': 3510, 'presence': 6176, 'kisse': 4440, 'rumors': 6754, 'screamed': 6876, 'shoes': 7067, 'pair': 5787, 'uv': 8343, 'glowinthedark': 3401, 'terminusvox': 7842, 'mailcall': 4891, 'slug': 7215, 'lov': 4802, 'mass': 4982, 'pike': 5987, 'athol': 758, 'barak': 896, 'certificate': 1542, 'infonya': 4085, 'sist': 7158, 'stalker': 7438, 'hopi': 3868, 'fate': 2952, 'issa38': 4190, 'outttt': 5736, 'watches': 8540, 'highlight': 3778, 'thrilled': 7931, 'include': 4056, 'sneak': 7251, '22nd': 134, 'annual': 603, 'nominees': 5522, 'clattenburg': 1712, 'officiating': 5622, 'lent': 4608, 'broski': 1292, 'android': 581, 'youtuber': 8885, '32k': 179, 'bihhh': 1042, 'heartless': 3726, 'fell': 2998, 'podcast': 6063, 'waheeeeey': 8479, '1200': 42, 'raffle': 6379, 'prize': 6215, 'bo': 1126, 'earned': 2584, 'craptastic': 1997, 'baseballiscoming': 910, 'gameofthrones': 3285, 'bowl': 1212, 'insider': 4107, 'lmfaoooo': 4735, 'stray': 7548, 'woojin': 8707, 'deadline': 2176, 'straykids': 7549, 'stunt': 7584, 'tux': 8190, 'mymixtapez': 5339, 'drake': 2493, 'micheal': 5109, 'jackson': 4212, 'degrassi': 2223, 'nadine': 5354, 'mikey': 5124, 'muller': 5302, 'handcuffs': 3610, 'incredibly': 4065, 'responses': 6598, 'mixup': 5185, 'blast': 1091, 'tory': 8042, 'pig': 5982, '12th': 47, 'convention': 1908, 'qt': 6330, 'ts7boonn': 8168, '5000': 233, 'amwriting': 568, 'officials': 5621, 'stoopid': 7525, 'gimme': 3370, 'sleeves': 7198, '131': 49, 'coluzzi': 1791, 'professional': 6233, 'shagger': 6997, 'shadowverse': 6995, 'dailies': 2118, 'completed': 1833, 'homecoming': 3837, 'redneck': 6480, 'outlook': 5728, 'socil': 7268, 'betis': 1008, 'gud': 3549, 'heh': 3737, 'repostsave': 6566, 'nathanfilliongifs': 5378, 'repostsaveapp': 6567, 'avoid': 794, 'sticking': 7503, 'totals': 8047, 'deplorable': 2267, 'yorkers': 8870, 'hollywood': 3831, 'restaurant': 6601, 'listers': 4697, 'allows': 529, 'continue': 1902, 'buffoonery': 1330, 'experts': 2858, 'alba': 497, 'gaskets': 3298, 'assetintegrity': 735, 'anxiety': 621, 'stiff': 7505, 'kewl': 4401, 'marble': 4946, 'dalit': 2126, 'jahan': 4217, 'kare': 4368, 'waha': 8478, 'ghus': 3358, 'jao': 4230, 'slink': 7209, 'shadows': 6994, 'overcast': 5741, 'rain': 6387, 'sight': 7115, 'shuffle': 7097, 'accordingly': 369, 'blogging': 1108, 'airwaves': 488, '15th': 69, 'bowelmovement': 1210, 'result': 6605, 'dare': 2146, '6et': 279, 'prunes': 6268, 'paycheck': 5870, 'bonus': 1159, 'stick': 7500, 'drama': 2494, 'voiceknockouts': 8443, 'thevoice': 7901, 'genuinely': 3332, 'supportive': 7657, 'pakistan': 5789, 'islamabad': 4179, 'logic': 4755, 'responded': 6594, '10000': 18, 'mysticmessenger': 5344, 'kate': 4373, 'upgraded': 8309, 'flights': 3091, 'orlando': 5711, 'obvious': 5604, 'description': 2278, 'optics': 5694, 'maker': 4904, 'disrupted': 2389, 'brick': 1265, 'mortar': 5246, 'bravo': 1243, 'capitalism': 1442, 'aeternumico': 437, 'telegram': 7828, 'members': 5050, 'xddd': 8779, 'broooo': 1291, 'tiger': 7957, 'deshalb': 2284, 'multitasking': 5305, 'finds': 3052, 'gamertag': 3286, 'useless': 8331, 'nodaca': 5512, 'ek': 2645, 'johnston': 4294, 'ethan': 2790, 'starwars': 7464, 'ole': 5646, 'progressives': 6240, 'muslims': 5326, 'bloody': 1110, 'imessage': 4026, 'beetow': 969, 'exols': 2846, 'powerful': 6140, 'arabian': 672, 'exol': 2845, 'gail': 3273, 'managers': 4924, 'upto': 8317, 'neck': 5411, 'marcella': 4947, 'shanti': 7011, 'rsl': 6735, 'yc': 8816, 'umm': 8248, 'nephew': 5432, 'manheim': 4929, 'megan': 5041, 'priz': 6214, 'nunberg': 5582, 'realise': 6445, 'dayah': 2166, 'bunting': 1355, 'leaguer': 4578, 'scab': 6849, 'disgrace': 2378, 'murtagh': 5315, 'grumpy': 3537, 'outlander': 5726, 'murtaghmonday': 5316, '9pmroutine': 337, 'grilled': 3518, 'pinged': 5998, 'wee': 8572, 'kept': 4399, 'bu': 1320, 'gyampo': 3575, 'trending': 8109, 'freestyle': 3202, 'closet': 1735, 'cherokee': 1620, 'capris': 1446, 'jeans': 4247, 'sz': 7718, 'shopmycloset': 7073, 'bbb': 932, 'bars': 907, 'blair': 1089, 'bastards': 921, 'professors': 6235, 'assignment': 738, 'hrs': 3902, 'cursive': 2088, 'ideology': 3980, 'schools': 6864, 'gearmeout': 3316, 'a6': 342, 'hiking': 3783, 'ntf': 5565, 'pl': 6014, 'counts': 1956, 'pp': 6143, 'supreme': 7664, 'gag': 3271, 'appeal': 644, 'undercover': 8255, 'insane': 4101, 'spotify': 7399, 'google': 3448, 'supporting': 7656, 'sneaking': 7252, 'wheels': 8611, 'references': 6489, 'himym': 3788, 'crc': 2005, 'january': 4229, 'finding': 3050, 'cafeteria': 1391, 'print': 6205, 'ire': 4161, 'wung': 8770, 'wong': 8701, 'evangelicals': 2800, 'mata': 4989, 'perfectly': 5916, 'asskisser': 740, 'cracklicker': 1990, 'deadt': 2177, 'gainwithjnshine': 3277, 'gainwith9jabigboy': 3276, 'cz': 2105, 'seniorphotos': 6943, 'lacy': 4514, 'cincinnati': 1683, 'seeking': 6918, 'connection': 1874, 'wikileaks': 8647, '883': 316, 'certified': 1543, 'bamf': 877, 'granting': 3494, 'request': 6572, 'colleen': 1776, 'rattled': 6422, 'cage': 1393, 'curse': 2086, 'littlebigtownfan': 4705, 'seek': 6917, 'yie': 8854, 'chores': 1662, 'angel': 582, 'obinim': 5596, 'sticker': 7501, 'placed': 6016, 'calculator': 1398, 'siri': 7156, 'kicked': 4412, 'undo': 8266, 'progressive': 6238, 'diving': 2400, 'headfirst': 3711, 'girlboss': 3375, 'wereback': 8594, 'lions': 4685, 'males': 4912, 'sealed': 6892, 'delivered': 2238, 'putt': 6322, 'businesswomen': 1364, 'coping': 1923, 'unto': 8299, 'erm': 2765, 'dancing': 2136, 'actions': 387, 'justtoclarify': 4350, 'tobi': 8001, 'nominating': 5521, 'advance': 424, 'pj': 6012, 'cici': 1681, 'firstdates': 3068, '10pm': 30, 'mask': 4981, 'defaulted11': 2212, 'dl': 2408, 'kaia': 4355, 'trump01k': 8145, 'stockmarket': 7514, 'trumptariffeffect': 8154, 'donthecon': 2452, 'resist': 6583, 'yeaah': 8822, 'wingkink': 8665, 'lucifer': 4832, 'deckerstar': 2202, 'kojo': 4473, 'antwi': 620, 'discovered': 2374, 'voucher': 8464, 'mt3wda': 5292, 'daymn': 2168, 'shatta': 7022, 'enti': 2734, '101': 23, 'volcano': 8448, 'developed': 2308, 'laughs': 4549, 'bite': 1079, 'thanx': 7869, 'ungrateful': 8273, 'statue': 7474, 'dessert': 2296, 'aprilfoolsday': 668, 'fanned': 2929, 'hodakotb': 3811, 'instafitness': 4114, 'important': 4042, 'owners': 5756, 'shelter': 7032, 'prob': 6219, 'development': 2309, 'pogo': 6069, 'tire': 7980, 'walked': 8488, 'precious': 6163, 'drinks': 2519, 'wor': 8713, 'test': 7846, 'hitters': 3796, 'thousand': 7926, 'completing': 1835, 'cheated': 1600, 'cheater': 1601, 'tomato': 8019, 'potato': 6128, 'greysanatomy': 3515, 'maddy': 4873, 'cook': 1913, 'poured': 6136, 'cereal': 1539, 'inspirational': 4110, '43rd': 212, 'sets': 6971, 'dung': 2560, 'typical': 8222, 'bankholiday': 888, 'kittyloafmonday': 4450, 'catsoftwitter': 1506, 'catlife': 1503, 'delish': 2236, 'welovemarklee': 8588, 'relation': 6513, 'wisdom': 8676, 'focus': 3117, 'welfa': 8586, 'strongest': 7564, 'fascist': 2946, 'bigoted': 1037, 'conor': 1878, 'mcgregor': 5014, 'handsome': 3618, 'related': 6512, 'nawalelzoghbi': 5392, 'pictureoftheday': 5977, 'behbo': 978, 'ktir': 4495, '322': 178, '633k': 270, 'boris': 1187, 'boring': 1186, 'horde': 3872, 'heroic': 3762, 'antorus': 619, 'raid': 6385, 'plzzzz': 6056, 'abby': 348, 'lesbian': 4611, 'struggles': 7568, 'jason': 4232, 'measuring': 5022, 'calipers': 1405, 'sdf': 6887, 'mmc': 5189, 'ypg': 8890, 'ypj': 8891, 'ethereal': 2791, 'ahahaha': 470, 'maxine': 5003, 'prison': 6208, 'fiesta': 3025, 'tweeted': 8201, 'barely': 901, 'viewed': 8406, '196': 98, '235': 137, 'planning': 6026, 'festivities': 3015, 'bandana': 881, 'cancelroseanne': 1430, 'boycottabc': 1217, 'boycottroseanneshow': 1219, 'lunes': 4845, 'negritud': 5424, 'maravillosa': 4945, 'fing': 3055, 'shawt': 7024, 'shatner': 7021, 'wrath': 8751, 'thegoldbergs': 7879, 'birthdayboysig': 1065, 'dallas': 2127, 'offer': 5614, '1500': 60, 'dreads': 2506, 'soooooo': 7300, 'iso': 4185, 'dd': 2171, 'supply': 7651, 'clubcuppartner': 1741, '41k': 208, '77k': 296, 'philadelphia': 5954, '76ers': 294, 'waffles': 8474, 'svu': 7683, 'recommend': 6468, 'broads': 1280, 'activism': 391, 'guests': 3553, 'includ': 4055, 'fue': 3240, 'buen': 1328, 'brooklyn': 1289, 'butch': 1367, 'typing': 8223, 'boobs': 1162, 'bigtits': 1039, 'bigboobs': 1031, 'sexygirl': 6986, 'wom': 8693, 'colin': 1772, 'kaepernick': 4354, 'handled': 3613, 'fashion': 2947, 'arrest': 696, 'ca': 1383, 'politicians': 6082, 'felony': 3002, 'harboring': 3650, 'matthias': 4999, 'williams': 8653, 'kooda': 4476, 'daddyman': 2114, 'newestyoungin': 5455, 'vibes': 8391, 'lake': 4521, 'tekapo': 7826, 'travelbugsworld': 8097, 'goldeneye': 3427, 'characters': 1578, 'playthrough': 6040, 'aidan': 478, 'litte': 4702, 'eventually': 2807, 'apple': 647, 'jos': 4312, 'meade': 5016, 'kuribre': 4500, 'quoting': 6358, 'bugging': 1332, 'boogie': 1163, 'powerbank': 6139, 'customer': 2094, 'sort': 7310, 'stead': 7486, 'pigs': 5984, 'earn': 2583, 'rare': 6412, 'costumes': 1945, 'farmville2countryescape': 2937, 'sundaymorning': 7633, 'sacramento': 6781, 'voter': 8459, 'engineering': 2713, 'building': 1336, 'sucia': 7609, 'laudable': 4545, 'spades': 7335, 'complicit': 1838, 'bankrupt': 890, 'pawpaw': 5867, 'emailing': 2672, '461': 216, '178': 83, '855k': 314, 'greg': 3512, 'csk': 2061, 'supports': 7658, 'chennaisuperkings': 1618, 'soupy': 7321, 'spaghetti': 7336, 'negative': 5422, 'curry': 2085, 'replacement': 6553, 'selfie': 6928, 'emehahahaha': 2678, 'heeed': 3736, 'navy': 5390, 'nationa': 5380, 'kitty': 4449, 'born': 1188, 'sea': 6891, 'poleng': 6075, 'hmm': 3803, 'amused': 566, 'yodeling': 8861, 'deserved': 2282, 'mvp': 5333, 'mountin': 5262, 'circled': 1688, '2thamendment': 168, 'treated': 8103, 'crisis': 2031, 'yapping': 8804, 'dark': 2147, 'lmafo': 4725, 'omn': 5657, 'schatz': 6860, 'lately': 4541, 'peeps': 5894, 'doubles': 2472, 'rarest': 6413, 'mythical': 5345, 'mew': 5096, 'messing': 5085, '9ft': 334, '3d': 195, 'geoinfo': 3334, 'delft': 2232, 'dickeat': 2325, 'elgano': 2658, 'seventh': 6979, 't20': 7720, 'mor': 5237, 'tweakin': 8198, 'successful': 7608, 'simples': 7134, 'entertained': 2730, '30pm': 174, 'cartel': 1478, 'merchandise': 5070, 'tongues': 8024, 'happyeasterday': 3647, 'winner0404everyd4y': 8667, 'yessssssssss': 8848, 'genius': 3327, 'woooo': 8708, 'camping': 1420, 'burbs': 1357, 'cum': 2073, 'cock': 1754, 'chins': 1642, 'edits': 2623, 'goals': 3410, 'yn': 8859, 'almighty': 534, 'fought': 3173, 'funky': 3251, 'fartin': 2942, 'azz': 824, 'alessia': 509, 'anna': 594, 'yooo': 8868, 'shvt': 7100, 'aggravating': 462, 'raise': 6391, 'recipe': 6464, 'elderflower': 2648, 'sparkling': 7345, 'wizard': 8684, 'oz': 5761, 'adelaide': 407, 'premier': 6169, 'musical': 5321, 'festival': 3013, 'apr': 662, 'ignorance': 3995, 'breast': 1250, 'survivor': 7677, 'experienc': 2855, 'vacationing': 8349, 'shametown': 7008, 'unkind': 8289, 'colors': 1783, 'ehhhh': 2638, 'tx': 8215, 'overboard': 5740, 'tuned': 8180, '10yearsofthetrust': 32, 'curtis': 2089, 'claudia': 1713, 'pledge': 6044, 'wic': 8636, 'bigwig': 1040, 'dinosaur': 2351, 'doug': 2477, 'gettn': 3346, 'seasons': 6899, 'mash': 4979, 'playall': 6033, 'alter': 539, 'ego': 2635, 'idiotic': 3984, 'download': 2481, 'search': 6895, 'com': 1792, 'create': 2009, 'emilee': 2682, '10x': 31, 'awp': 811, 'dragon': 2489, 'lore': 4782, 'tested': 7847, 'struggling': 7569, 'remarkably': 6528, 'monbebe': 5211, 'gap': 3290, '865': 315, '82': 311, 'preferred': 6166, 'method': 5093, 'firing': 3066, 'haunt': 3687, 'cbx': 1514, 'halloween': 3603, 'insta': 4113, 'spoiled': 7385, 'menfess': 5062, 'nomad': 5519, 'iflyalot': 3992, 'traits': 8084, 'entrepreneur': 2738, 'yesss': 8845, 'answering': 610, 'trueeee': 8142, 'thanked': 7862, 'randomly': 6400, 'wyd': 8773, 'wym': 8774, 'zlatan': 8916, 'kay': 4379, 'murray': 5314, 'hosts': 3883, 's9': 6773, 'cases': 1484, 'bluedarkart': 1121, 'redbubble': 6475, 'trevor': 8110, '156': 64, '24k': 142, '512': 239, '573': 254, 'trick': 8114, 'puncture': 6293, 'beans': 946, 'apology': 639, 'crooked': 2036, 'nicer': 5476, 'shifts': 7040, 'highlights': 3779, 'fornite': 3163, 'cof': 1760, 'justright': 4349, 'salam': 6797, 'wbt': 8553, 'hypocrite': 3957, 'waffle': 8473, 'southernprobs': 7326, 'farquaad': 2938, 'hardest': 3654, 'difficult': 2339, 'wks': 8687, 'capitalized': 1443, 'amendment': 556, 'lived': 4710, 'golden': 3426, 'ticket': 7948, 'conditioning': 1851, 'poppets': 6101, 'freebiefriday': 3196, '74k': 291, '249': 140, 'medical': 5029, 'assistant': 739, 'judy': 4329, 'helps': 3755, 'simplythebest': 7138, 'bdaysoon': 942, 'bootech': 1176, 'sweaty': 7695, 'musky': 5324, 'stinky': 7510, 'kirsten': 4438, 'clips': 1729, 'personaltrainer': 5936, 'changeyourmindse': 1571, 'rating': 6419, 'term': 7841, 'lefty': 4591, 'shouldn': 7083, 'dime': 2345, 'swinging': 7702, 'bat': 922, 'aw': 795, 'script': 6881, 'alike': 517, 'watc': 8537, 'minus': 5154, 'douchebaggappaloosa': 2475, 'snatches': 7250, 'neighbour': 5427, 'yard': 8805, 'carries': 1472, 'studying': 7581, 'pencil': 5899, 'thrown': 7937, 'findom': 3051, 'tribute': 8113, 'polite': 6080, '4a': 223, 'sleepybitch': 7195, 'ellenandportiatruelove': 2665, 'gays': 3307, 'dragging': 2488, 'suns': 7638, 'admitted': 413, 'eww': 2820, 'footballs': 3145, 'cafc': 1389, 'disagree': 2367, '34': 182, '167k': 75, '105': 25, '150k': 61, 'millard': 5131, 'fundraising': 3250, 'efforts': 2631, 'attention': 769, 'quirky': 6352, 'cinthia': 1687, 'painful': 5780, 'intervals': 4138, 'finisher': 3060, 'eileen': 2642, 'terrifying': 7844, 'statistic': 7472, 'throats': 7933, 'hmmmmm': 3806, 'pressie': 6184, 'siblings': 7104, 'debating': 2188, 'butter': 1371, 'tarts': 7765, 'nanimo': 5368, 'memphis': 5060, 'zoo': 8920, 'tetley': 7848, 'asimo': 720, '768': 293, '846': 313, 'apreciated': 663, 'hargeysa': 3658, '2k18': 162, 'gti': 3543, 'strikes': 7557, 'cowgirlsfortrump': 1977, 'approve': 658, 'letters': 4623, 'mia': 5104, 'auntie': 776, 'moneyline': 5219, '141': 55, '500': 232, 'braves': 1242, 'legends': 4596, 'awarded': 800, 'isfm': 4175, 'clinic': 1727, 'silver': 7129, 'accreditation': 373, 'visitor': 8431, 'thinkin': 7912, 'swahili': 7685, 'goddess': 3415, 'warrior': 8522, 'nesma': 5439, 'mysterious': 5341, 'grandpa': 3490, 'grandparents': 3491, 'smoking': 7237, 'cked': 1696, 'festive': 3014, 'parade': 5810, 'carlo': 1465, 'boycottcnn': 1218, 'provocations': 6265, 'propagandas': 6250, 'bbc': 933, '4sum': 229, 'anto': 617, 'market': 4961, 'abide': 351, 'happyy': 3649, 'birthdayy': 1067, 'unless': 8291, 'nerdy': 5436, 'average': 791, 'tc': 7787, 'printable': 6206, 'unicorn': 8279, 'planner': 6025, 'millie': 5134, 'stern': 7495, 'sudden': 7615, 'table': 7722, 'benning': 996, 'washes': 8528, 'washing': 8529, 'dir': 2354, 'meatcheese': 5024, 'pressures': 6186, 'shite': 7055, 'rescheduled': 6575, 'biloxi': 1053, 'shoppin': 7074, 'crabs': 1985, 'fil': 3035, 'overpriced': 5743, 'rainy': 6390, 'ddpat': 2172, 'csgogive': 2058, 'okayyyy': 5635, 'coool': 1919, 'aj': 489, 'salute': 6803, 'ofc': 5610, 'ios': 4157, 'delayed': 2229, 'imo': 4035, 'astute': 752, 'mattis': 5000, 'redtsunami': 6482, 'inconvenient': 4061, 'rbc': 6428, 'warns': 8520, 'outflow': 5724, 'underway': 8264, 'depressed': 2273, 'tiddies': 7951, 'cross': 2038, 'sprszn': 7413, 'bagszn': 859, 'flaw': 3086, 'winging': 8664, 'sydney': 7713, 'bham': 1021, 'diet': 2335, '200m': 115, 'executive': 2837, 'director': 2361, 'patchbill': 5848, 'signing': 7120, 'delete': 2230, 'feminists': 3007, 'gooners': 3449, 'stoke': 7517, 'pressure': 6185, 'dese': 2280, 'niggaz': 5491, 'sxvxge1100': 7711, 'rnc': 6676, 'raiser': 6393, 'thewalkingdead': 7902, 'twd': 8196, 'yyfc': 8901, 'tine': 7973, 'yanks': 8803, 'nicomaine': 5483, '13k': 52, 'crows': 2046, 'forcing': 3148, 'holland': 3827, 'vid': 8398, 'sudscribe': 7617, 'johnny': 4292, 'colossous': 1785, 'johnlawrence': 4291, 'harris': 3666, 'dua': 2541, 'lipa': 4686, 'upppppp': 8314, '170517': 80, 'lucas': 4829, 'jungwoo': 4340, 'capt': 1448, 'trans': 8085, 'pretended': 6188, 'hehe': 3738, 'postpone': 6126, 'giadasitalycookbook': 3359, 'positanopizza': 6114, 'vosho': 8454, 'babse': 835, 'wodumo': 8691, 'rouder': 6725, 'prease': 6161, 'peristalsis': 5922, 'bowel': 1209, 'startsomething': 7463, 'inspiredaily': 4112, 'snapchatfun': 7247, 'activewear': 390, 'extraordinarily': 2870, 'vile': 8411, 'peopl': 5909, 'greatly': 3505, 'supportsma': 7659, 'african': 451, 'moms': 5209, 'floral': 3101, 'bodysuit': 1141, 'host': 3880, 'farms': 2936, 'splc': 7381, 'rylie': 6772, 'sweetest': 7698, 'hunter': 3934, 'myundeniableobsession': 5347, 'rooftops': 6713, 'banter': 892, 'cricket': 2025, 'perfection': 5915, 'teammate': 7803, 'captain': 1449, 'shining': 7044, 'milly': 5138, 'micdropremix': 5106, 'demanding': 2246, 'teammiracle': 7804, 'spreading': 7406, 'broadcaster': 1279, 'alt': 538, 'reporters': 6562, 'sajjansinghrangroot': 6793, 'paji': 5788, 'travis': 8100, '5k': 259, '42': 209, '12k': 46, 'roseannecomeback': 6722, 'gelo': 3319, 'proper': 6251, 'sean': 6893, 'loyalty': 4822, 'registration': 6500, 'adults': 423, 'rad': 6374, 'expectations': 2848, 'troublemaker': 8135, 'clueless': 1744, 'wana': 8499, 'cops': 1924, 'checkout': 1607, 'pays': 5877, 'ebt': 2608, 'cart': 1477, 'duffle': 2548, 'glasgow': 3392, 'besties': 1003, 'millionaire': 5136, 'qui': 6344, 'quiere': 6346, 'millonario': 5137, 'escalates': 2770, 'bond': 1154, 'dangerous': 2138, 'poetic': 6067, 'safely': 6787, 'araxie': 674, 'sephora': 6953, 'makeup': 4906, 'yeaaaaahhh': 8820, 'rooted': 6719, 'woohoooo': 8706, 'yell': 8833, 'balling': 874, 'stocks': 7516, 'falling': 2916, 'amazo': 551, 'e18': 2577, 'costume': 1944, 'uput': 8318, 'roach': 6679, 'rightdown': 6655, 'throat': 7932, 'magatrash': 4883, 'boogyman': 1164, 'putin': 6320, 'phora': 5961, 'sinner': 7151, 'sdlive': 6888, 'bras': 1240, 'booksales': 1171, 'writerslife': 8759, 'flush': 3107, 'vusi': 8468, 'accepted': 363, 'perry': 5927, 'outreach': 5731, 'program': 6237, '36k': 187, 'arcade': 675, 'marquee': 4967, 'alien': 514, 'predator': 6164, 'waow': 8509, 'lolu': 4761, 'persistent': 5929, 'av': 786, 'waited': 8481, 'ti': 7947, 'keansburg': 4387, 'amusement': 567, 'rapids': 6407, 'waterpark': 8545, 'stopping': 7529, 'entrapment': 2737, 'op': 5681, 'gnome': 3405, 'ooh': 5670, 'bake': 863, 'roast': 6683, 'swiss': 7705, 'sandwiches': 6814, 'warwick': 8525, 'ri': 6637, 'november': 5559, 'dayday': 2167, 'holiness': 3826, 'dalai': 2125, 'lama': 4523, 'classless': 1708, 'sacked': 6780, 'english': 2715, 'afn': 448, 'peso': 5938, 'np': 5562, 'soundcloud': 7317, 'creat': 2008, '06k': 12, 'starring': 7456, 'natalieslothrichter': 5377, 'smiling': 7234, 'niners': 5502, 'contribution': 1905, 'birthdayyyyy': 1068, 'happybdaykapilsharma': 3641, 'endorsement': 2707, 'chizzholm': 1649, 'brownsville': 1299, 'freakin': 3186, 'intellectual': 4125, 'commissions': 1814, 'commission': 1813, 'slots': 7211, 'interviewing': 4142, 'misogynistic': 5166, 'hims': 3787, 'lows': 4821, 'product': 6229, 'arteza': 707, 'pencils': 5900, 'neeh': 5419, 'xitsonga': 8783, 'elbows': 2647, 'paaaarty': 5765, 'zindabad': 8912, 'rebel': 6457, 'prabhas': 6146, 'arrived': 699, 'stoning': 7523, 'fred': 3191, 'couples': 1959, 'televis': 7829, 'chair': 1552, 'ec3': 2609, 'shiplett': 7046, 'breather': 1254, 'sheeran': 7029, 'mural': 5310, 'dunedin': 2559, 'reveal': 6621, 'adam': 399, 'deed': 2208, 'microchipped': 5113, 'pls': 6049, 'myyyyyyyyyyy': 5348, 'gunna': 3562, 'looooooose': 4777, 'cheats': 1603, 'cheat': 1599, 'exempt': 2838, 'legooooo': 4600, 'headass': 3707, 'jaylon': 4239, 'dws': 2574, 'aha': 469, 'credible': 2018, 'thebeach': 7874, 'respite': 6592, 'violence': 8419, 'elle10': 2664, 'succeed': 7605, 'ndlovu': 5403, 'methinks': 5092, 'anonymous': 605, 'riddance': 6648, '22k': 133, 'yelled': 8834, 'blossoms': 1114, 'ani': 588, 'alre': 536, 'sickening': 7106, 'motivate': 5253, 'tbtuesday': 7786, 'faves': 2958, 'officialplanb': 5620, 'sheener': 7026, 'wiener': 8640, 'northland': 5541, 'mall': 4914, '2008': 113, 'ik': 3999, 'gokingsgo': 3423, 'nipple': 5506, 'clamps': 1701, 'sore': 7307, 'nipples': 5507, 'talaga': 7737, 'northern': 5539, 'division': 2401, 'drank': 2497, 'gbc': 3310, 'bits': 1081, 'coin': 1763, 'ico': 3970, 'extended': 2868, 'aprill': 669, 'hurrayy': 3941, 'thiiiiiiiiiiiiiiiiissssssss': 7906, 'cody': 1758, 'hosting': 3882, '7fm': 302, 'twi': 8204, 'pruitt': 6266, 'condo': 1852, 'mph': 5281, 'tricks': 8115, 'nessie': 5440, 'grabbing': 3478, 'cuppa': 2079, 'nessieland': 5441, 'cafe': 1390, 'fortune': 3167, 'worry': 8735, 'vanjie': 8365, 'cc': 1515, 'specifically': 7354, 'ikr': 4002, 'header': 3710, 'saturdaynighttakeaway': 6827, 'mileycyrus': 5127, 'vacuous': 8352, 'celebjuice': 1523, 'celeb': 1522, 'obliviou': 5600, 'tries': 8118, 'reduce': 6483, 'breathing': 1255, 'coughs': 1948, 'context': 1900, 'selfish': 6929, 'petulant': 5947, 'disruptive': 2390, 'whinging': 8614, 'ascot': 714, 'letting': 4624, 'lovemylife': 4809, 'trumpers': 8149, 'trek': 8106, 'enterprise': 2729, 'seohyun': 6952, 'frommetoyou': 3223, 'americantraitor': 561, 'eline': 2661, 'hq': 3901, '180401': 89, 'marktuan': 4964, 'eyesonmark': 2879, 'lookgot7': 4769, 'crickets': 2026, 'muted': 5328, 'mute': 5327, 'knobs': 4462, 'layed': 4562, 'allways': 532, 'onlyfans': 5666, 'linkedin': 4683, 'symantec': 7715, 'salesforce': 6800, 'ucsf': 8230, 'radiation': 6376, 'oncology': 5658, 'planned': 6024, 'pastor': 5844, 'gray': 3501, 'fuse': 3258, 'nightmare': 5496, 'sincerest': 7141, 'whiper': 8618, 'speaks': 7349, 'matchup': 4991, 'ages': 459, 'storm': 7535, 'seed': 6913, 'exceptionally': 2831, '160k': 71, 'blowjobsforever': 1117, 'justice': 4346, 'department': 2264, 'documents': 2415, 'enoughisenough': 2725, 'thai': 7859, 'sikh': 7123, 'kobe': 4471, 'ambassadors': 554, 'maxcoin': 5002, 'overtakes': 5748, 'stairs': 7437, 'ucla': 8228, 'sweatshirt': 7694, 'education': 2625, 'yrs': 8893, 'merit': 5076, 'jor': 4309, 'umpire': 8249, 'practical': 6148, 'lowest': 4819, 'carson': 1475, 'importantly': 4043, 'feature': 2977, 'tina': 7972, 'addict': 403, 'waking': 8484, 'dreading': 2504, 'gordon': 3457, 'pulling': 6288, 'snack': 7242, 'isthissemsterdone': 4196, 'becauseiam': 959, 'billy': 1052, '250kfollowers': 145, 'rallies': 6395, 'southern': 7325, 'northerners': 5540, 'tmr': 7997, 'spit': 7377, 'drawatog': 2499, 'votenana4missaamu': 8458, 'zink': 8913, 'presidential': 6181, 'tracking': 8067, 'rasmussen': 6415, 'lookout': 4772, '400': 202, 'inna': 4096, 'kcker': 4383, 'eddie': 2618, 'abuse': 356, '796': 300, 'twink': 8207, 'alot': 535, 'ibo': 3965, 'soothing': 7301, 'commands': 1806, 'twisted': 8210, 'eco': 2614, 'cemetery': 1534, 'production': 6230, 'effects': 2628, 'elll': 2667, 'chopped': 1660, 'misspell': 5173, 'raising': 6394, 'bestie': 1002, 'hd': 3703, 'bisaya': 1070, 'deflect': 2222, 'stg': 7499, 'modernfun': 5200, 'sauce': 6830, 'lied': 4648, 'asses': 734, 'bellion': 986, 'jfk': 4270, '4000': 203, 'joined': 4297, 'trumptrain': 8155, 'hadn': 3585, 'issa': 4189, 'dorms': 2468, 'apartments': 632, 'puked': 6285, 'ashamed': 716, 'flake': 3080, 'mccain': 5010, 'rinos': 6662, 'frank': 3182, 'bhakts': 1020, 'super150': 7642, 'wages': 8477, 'cray': 2001, 'messy': 5086, 'bbcan6': 934, 'lockthemallup': 4749, 'nicolas': 5481, 'smashed': 7222, 'stable': 7429, 'shitfest': 7056, 'hacks': 3583, 'skip': 7177, 'judith': 4328, 'henke': 3757, 'trained': 8080, 'elephants': 2654, 'melbourne': 5045, 'petty': 5946, 'openly': 5686, 'engages': 2711, 'surpassed': 7668, 'par': 5808, 'chore': 1661, 'mountain': 5260, 'laundry': 4555, 'soap': 7261, 'diffently': 2336, 'sabs': 6777, 'donghae': 2445, 'numbers': 5580, 'mercury': 5071, 'caca': 1386, 'finishing': 3061, 'dickheads': 2326, 'winterjacket': 8672, 'complements': 1831, 'nooo': 5530, '63k': 271, '576': 255, '229': 132, '469k': 218, 'jayden': 4238, 'lanie': 4530, 'trudeau': 8139, 'polling': 6085, 'minding': 5144, 'memberships': 5052, 'apparel': 642, 'buzz': 1379, 'ireland': 4162, 'yeaaaah': 8821, 'mushed': 5319, 'homework': 3842, 'accountantable': 371, 'popular': 6102, 'ty': 8216, 'gabriella': 3269, 'grom': 3525, 'wrap': 8749, 'yeeeww': 8830, 'moylanbrothers': 5274, 'luke': 4841, 'sk8walker': 7170, 'afcb': 440, 'skyline': 7183, 'missworldbahamas2018': 5174, 'paining': 5781, 'fartfetish': 2941, 'eproctophilia': 2752, 'farts': 2944, 'ongniel': 5664, 'ship': 7045, 'sailed': 6792, 'stylist': 7591, 'broadcast': 1278, 'carnafunk': 1466, 'elites': 2663, 'pice': 5970, 'igot7': 3998, 'neverever': 5448, '100m': 21, 'youare': 8872, '50m': 235, '30m': 173, '1m': 106, 'luckily': 4834, 'freak': 3185, 'tosh': 8043, 'ironing': 4166, 'skeptical': 7173, 'erwin': 2768, 'levi': 4628, 'soulmates': 7315, 'irreplaceable': 4171, 'gigs': 3366, 'servers': 6965, 'xv': 8789, 'hbdff15': 3699, 'ffxv': 3019, 'briefly': 1267, 'mistaken': 5177, 'identity': 3979, 'cya': 2102, 'opps': 5692, 'narrow': 5374, 'minded': 5143, 'nhi': 5467, 'bola': 1149, 'isne': 4184, 'snubs': 7260, 'labor': 4512, 'liberalism': 4639, 'motion': 5252, 'trumps': 8152, 'ideal': 3975, 'annou': 598, 'dreadnoughts': 2505, 'extreme': 2871, 'sport': 7395, 'memo': 5055, 'insan': 4100, 'omm': 5656, 'shi': 7038, 'greeks': 3507, 'trifling': 8119, 'worrying': 8736, 'paaji': 5766, 'raab': 6366, 'hmesha': 3802, 'chadian': 1550, 'kalan': 4356, 'rkhe': 6672, 'referencing': 6490, 'turning': 8186, 'hardman': 3656, 'paula': 5862, 'suits': 7628, 'fanny': 2930, 'dominglunes': 2438, 'walks': 8491, 'lmaaooo': 4724, 'image': 4018, 'imagined': 4021, 'restroom': 6604, 'classroom': 1710, 'fitting': 3073, 'plungers': 6053, 'rolling': 6703, 'branding': 1238, 'rabbit': 6368, 'nude': 5570, 'childhood': 1632, 'statesman': 7468, 'proudparents': 6261, 'livi': 4716, 'rough': 6726, 'sherlene': 7035, 'valentines': 8355, 'brodie': 1284, 'gft': 3349, 'bradford': 1228, 'sentiment': 6950, 'pers': 5928, 'korean': 4480, 'iglesia': 3994, 'rely': 6524, 'individual': 4075, 'zombie': 8919, 'ytpbr': 8894, 'jornal': 4311, 'boa': 1127, 'noite': 5518, 'freakishly': 3188, 'coloured': 1787, 'shade': 6992, 'giothemodest': 3372, 'morrronning': 5245, 'spiked': 7370, 'meeti': 5037, 'woof': 8704, 'mpho': 5282, 'soapie': 7262, '135': 50, 'leslie': 4612, 'bour': 1205, 'bosvsmia': 1193, 'modii': 5201, 'littlebigtown': 4704, 'slap': 7188, 'basis': 917, '7bibty': 301, 'applaud': 646, 'missed': 5170, 'qtips': 6331, 'rangasthalam': 6402, 'rtc': 6737, 'roads': 6681, '301': 172, 'cr': 1982, 'mud': 5298, 'hungover': 3930, 'quiz': 6355, 'kaos': 4363, 'europeforc': 2799, 'filed': 3037, 'bankruptcy': 891, 'cis': 1691, 'heterosexual': 3767, 'sexual': 6984, 'orientation': 5708, 'gender': 3321, 'concepts': 1847, 'realraprec': 6454, 'bvs': 1381, 'comingsoon': 1804, 'tubes': 8175, 'nigerians': 5487, 'hurting': 3944, 'deliberate': 2233, 'misrepresentation': 5168, 'narrative': 5373, 'agee': 456, 'spine': 7373, 'presenting': 6179, 'sunrise': 7637, 'hometovote': 3841, 'coincides': 1764, 'repeal': 6549, 'noel': 5513, 'gallagher': 3280, 'responds': 6596, 'oasis': 5594, 'bug': 1331, 'publix': 6282, 'bam': 876, 'lam': 4522, '1975': 99, 'dakin': 2123, 'hug': 3912, 'dee': 2207, 'frogs': 3221, 'smarter': 7220, 'dreaming': 2508, 'listened': 4694, 'voicemail': 8444, 'lastnight': 4539, 'democrat': 2253, 'strategy': 7546, 'plague': 6019, 'drumpfo': 2534, 'corrutptrump': 1938, 'serial': 6959, 'killers': 4420, 'books': 1170, 'zero': 8910, 'penalties': 5898, 'murdering': 5313, 'blood': 1109, 'jesse': 4263, 'levin': 4629, 'proc': 6224, 'foam': 3116, 'mame': 4918, 'dade': 2115, 'suppression': 7662, 'gopvotercorruption': 3454, 'votersuppression': 8461, 'hoped': 3865, 'tshego': 8169, 'caskale': 1488, 'belhaven': 982, 'grandslam': 3492, 'abv': 357, 'unending': 8268, 'tsunami': 8170, 'humiliation': 3923, 'lastmanstanding': 4538, 'roseanneonabc': 6723, 'confined': 1860, 'dominance': 2437, 'tron': 8129, 'trx': 8161, 'languages': 4529, '07k': 13, '18m': 94, 'tatted': 7773, 'stroking': 7562, 'busting': 1365, 'nutt': 5585, 'roxy': 6730, 'neighbours': 5428, 'miller': 5132, 'unusual': 8300, 'nega': 5421, 'paps': 5806, 'loooooool': 4776, '2a': 159, 'virtue': 8427, 'signalling': 7117, 'liberalismisame': 4640, 'boeing': 1142, 'airlines': 485, 'jetblue': 4266, 'worstever': 8740, 'europeans': 2798, 'africans': 452, 'solution': 7277, 'shine': 7043, 'duopoly': 2564, 'disunomics': 2396, 'enlightening': 2723, 'motivationalmonday': 5257, 'mymancrush365days': 5338, '898': 319, 'piggeries': 5983, 'phasey': 5950, 'fertiliser': 3011, 'douchecanoe': 2476, 'flaunts': 3083, 'yoonmin': 8867, 'suga': 7622, 'rd': 6429, 'position': 6115, 'lunatic': 4843, 'sakes': 6795, 'tjoo': 7992, 'ntwe': 5569, 'ae': 435, 'bose': 1189, 'lena': 4607, 'papago': 5802, 'mashabela': 4980, 'jahhhhhh': 4218, 'forced': 3147, 'carry': 1473, 'casa': 1482, 'proctors': 6226, 'cursing': 2087, 'tout': 8055, 'worldautismawarenessday': 8726, 'virginia': 8425, 'angst': 587, 'um': 8246, 'unite': 8283, 'hanna': 3624, 'france': 3181, 'alucard': 541, 'hellsing': 3749, 'georgina': 3340, 'tie': 7954, 'erica': 2762, 'flipped': 3093, 'wipes': 8675, 'idlib': 3988, 'honeymoon': 3850, 'raqqa': 6411, 'modelmonday': 5198, 'mondayfunday': 5215, 'public': 6280, 'rocky': 6695, 'brexit': 1262, 'bother': 1195, 'remain': 6526, 'stopbre': 7527, 'bus': 1361, 'understanding': 8261, 'rex': 6629, 'georgesoros': 3338, 'nwo': 5587, 'elite': 2662, 'stupidest': 7586, 'grove': 3532, 'nearest': 5407, 'dispensary': 2383, 'mccarran': 5011, 'airport': 487, 'uber': 8226, 'lyft': 4856, '17th': 86, 'imy': 4050, 'asinine': 721, 'feat': 2975, 'daim': 2121, 'mp3': 5279, 'awh': 809, 'awful': 807, 'unblock': 8253, 'airplane': 486, 'argentina': 680, 'budget': 1327, 'intros': 4147, 'plea': 6041, 'bargain': 903, 'deja': 2226, 'vu': 8467, 'address': 405, 'kr': 4485, 'mz': 5349, 'ownership': 5757, 'ronjovi': 6710, 'ploy': 6048, 'betray': 1009, 'foll': 3123, 'bridge': 1266, 'nuked': 5577, 'aprilfool': 666, 'mocks': 5195, 'disabled': 2366, 'proclaiming': 6225, 'liarinchief': 4634, 'sergio': 6958, 'hmmmm': 3805, 'tryingtobuyhiswayout': 8164, 'caitlin': 1394, 'gd': 3313, 'crowd': 2043, 'sonia': 7288, 'jk': 4284, 'uhmmm': 8239, 'nofx': 5514, 'groove': 3527, 'adventuretime': 428, 'panic': 5797, 'sriracha': 7423, 'bcoz': 938, 'jazba': 4241, 'sarbjit': 6821, 'flop': 3099, 'blended': 1092, 'beavers': 958, 'sentence': 6949, 'wildwildcountry': 8651, 'bonkers': 1158, 'doooood': 2460, 'pooper': 6092, 'wedges': 8570, 'churchflow': 1677, 'itsgoingtobeamightymoveofgod': 4203, 'iminthere': 4029, 'blorp': 1112, 'js1': 4321, 'closer': 1734, 'flight': 3090, 'attendant': 767, 'refresh': 6494, 'cocktail': 1755, 'truck': 8138, 'beds': 962, 'scrabble': 6872, 'judgement': 4325, 'compromised': 1841, 'cran': 1993, 'ggdag': 3350, 'tidy': 7953, 'causal': 1508, 'directed': 2357, 'acyclic': 397, 'graphs': 3496, 'ggplot2': 3351, 'demands': 2247, 'buildthewall': 1338, 'kirby': 4437, 'allies': 524, 'scarborough': 6851, 'sandy': 6815, 'any1': 622, 'subscribes': 7600, 'records': 6471, 'te': 7791, 'bone': 1155, 'prepping': 6174, 'nationalbeerday': 5382, 'verified': 8378, 'bands': 883, 'libtards': 4644, 'flys': 3113, 'comradetrump': 1843, 'impeached': 4038, 'boycottsinclairmedia': 1220, 'garcia': 3293, 'bedroom': 961, 'misjudged': 5165, 'banged': 885, 'headboard': 3708, 'fictional': 3021, 'proudly': 6258, 'teamricoswavey': 7806, 'teamrico': 7805, 'utton': 8341, 'roke': 6698, 'permits': 5925, 'warning': 8519, 'raven': 6423, 'sleeve': 7197, 'darkest': 2148, 'chipotle': 1644, 'panther': 5800, 'photoshoot': 5967, 'attending': 768, 'uc': 8227, 'completion': 1836, 'nvm': 5586, 'clothes': 1737, 'teresa': 7840, 'demanded': 2245, 'bae': 853, 'setup': 6975, 'pulled': 6287, 'unlike': 8292, 'velvet': 8375, '75m': 292, 'redvelvet': 6484, 'badboy': 849, 'theperfectredvelvet': 7892, 'unexpectedly': 8269, 'dears': 2185, 'idgaf': 3981, 'newgirl': 5456, 'mightier': 5120, 'sword': 7710, 'kittens': 4447, 'horrible': 3875, 'solo': 7275, 'released': 6520, 'suze': 7681, 'orman': 5712, 'bloggers': 1107, 'entr': 2736, 'coins': 1766, 'underwear': 8265, 'skid': 7175, 'observe': 5602, 'brrrr': 1301, 'hogye': 3817, 'houston': 3897, 'astro': 748, 'atleast': 759, 'feminazis': 3006, 'paint': 5782, 'poems': 6066, 'centre': 1537, 'x100': 8776, 'pale': 5792, 'ahe': 472, 'toady': 8000, 'blackout': 1086, 'brukout': 1307, 'bashme': 914, 'dj': 2405, 'lhhatl': 4632, 'paries': 5819, 'alliance': 522, 'zionist': 8915, 'cor': 1926, 'emoshonal': 2691, 'pringle': 6204, 'basket': 918, 'haul': 3686, 'scary': 6855, 'patience': 5851, 'mbuzzambuzza': 5008, 'javas': 4234, 'plates': 6030, 'sauces': 6831, 'frds': 3184, '89': 318, '166': 74, 'glare': 3391, 'scripted': 6882, 'brocklesnar': 1282, 'expecting': 2850, 'crossover': 2042, 'sachin': 6778, 'tendulkar': 7836, 'pattie': 5859, 'credibility': 2017, 'intervi': 4140, 'wigan': 8644, 'wafc': 8472, '26k': 151, '38k': 191, 'prayed': 6155, 'heals': 3716, 'damaged': 2128, 'cells': 1533, 'digest': 2340, 'balag': 868, 'jan': 4225, 'struggle': 7567, 'condition': 1850, 'jamal': 4222, 'lowe': 4816, 'parentingtips': 5816, 'feedback': 2985, 'streaks': 7550, 'brayden': 1244, 'figuring': 3034, 'fomeeee': 3130, 'companies': 1821, 'opt': 5693, 'advertise': 430, 'knapp': 4456, 'boarder': 1130, 'usa': 8325, 'reserved': 6579, 'couch': 1946, '96': 330, 'doris': 2466, 'cosplay': 1941, 'genocide': 3329, 'yinonplan': 8856, 'zioempire': 8914, 'holocaustofchoice': 3833, 'affirmed': 446, 'bagger': 858, 'purity': 6305, 'bcharity': 937, '000th': 2, 'subscriber': 7598, 'kd': 4385, 'zoos': 8922, 'duplicitous': 2565, 'ganggggggg': 3288, 'goa': 3406, 'pina': 5995, 'colada': 1770, 'vomiting': 8452, 'sample': 6806, 'spark': 7344, 'deylon': 2311, 'drugged': 2532, 'mjiwrds2018': 5186, 'yassss': 8809, 'imvu': 4048, 'ellie22': 2666, 'fernando': 3010, '2013': 117, 'estateagentlife': 2782, 'everytime': 2812, 'tatticoin': 7775, 'vilardi': 8410, 'cupcake': 2078, 'holds': 3820, 'memor': 5056, 'disrespectfully': 2388, 'ogm': 5626, 'plagu': 6018, 'hall': 3602, 'qb': 6329, 'danny': 2145, 'ford': 3149, 'metallica': 5088, 'ozzy': 5762, 'osbourne': 5715, 'sabbath': 6775, 'metallicanight': 5089, 'illeg': 4007, 'intervention': 4139, 'jaws': 4236, 'swimming': 7701, 'outings': 5725, 'insisted': 4108, 'hopeonthestreet': 3867, 'photographers': 5964, 'chasecoleman871': 1591, 'theresa': 7896, 'od': 5608, 'roommates': 6716, 'alexirons': 511, 'alexironsrocks': 512, 'congrants': 1865, 'musik': 5323, 'wareagle': 8513, 'bronze': 1287, 'constructive': 1893, 'criticism': 2033, 'mango': 4928, 'undergrad': 8256, 'ucsb': 8229, 'drill': 2517, '30th': 175, 'harley': 3661, 'proverbial': 6262, 'rug': 6744, 'stubbed': 7572, 'toe': 8006, 'pfrr': 5948, 'legendary': 4595, 'salt': 6802, 'muchas': 5296, 'felicidades': 2996, 'felices': 2995, 'beautifull': 956, 'hypocrites': 3958, 'integrity': 4123, 'springs': 7410, 'diadem': 2317, 'regalness': 6497, 'babysitter': 838, 'cuteness': 2097, 'bulldogs': 1343, 'cartoon': 1480, 'genial': 3326, 'sin': 7140, 'chargers': 1580, 'regretted': 6503, 'searching': 6896, 'alw': 543, 'constant': 1891, 'mambo': 4917, 'jombo': 4305, '801': 309, '84': 312, '71k': 286, '274': 153, '462': 217, 'lorts': 4783, 'whos': 8631, 'teamtobi': 7809, 'buddies': 1325, '600': 264, 'jug': 4330, 'furiously': 3257, 'kits': 4446, 'mancity': 4926, 'huntington': 3935, 'savings': 6840, 'ayyeeyeee': 822, 'horns': 3874, 'organize': 5707, 'ghoul': 3356, 'trooper': 8130, 'fastest': 2949, 'kodi': 4472, 'krypton': 4492, 'builds': 1337, '0neallianc3': 14, 'simplicity': 7136, 'build': 1335, 'feliz': 2997, 'tarde': 7763, 'ayer': 820, 'f5': 2885, '1ing': 104, 'boston': 1191, 'imdians': 4025, 'ml': 5187, 'morocha': 5241, 'coindrop': 1765, 'liveme': 4712, 'hump': 3927, 'oneboobwednesday': 5659, 'penny': 5903, 'auction': 772, 'bare': 900, 'escentuals': 2773, 'minerals': 5148, 'tasking': 7767, 'concealer': 1845, 'spf': 7365, 'bisque': 1072, '1b': 101, '2g': 160, 'dragged': 2487, 'gutter': 3568, 'memorable': 5057, 'snapshots': 7249, 'freshman': 3207, 'wps': 8748, 'brows': 1300, 'erase': 2759, 'remove': 6539, 'permanent': 5923, 'consultation': 1894, 'directioners': 2359, 'onedirectionbestfans': 5660, 'crowning': 2045, 'votered': 8460, 'godblessamerica': 3414, 'justicerising': 4347, 'trumpsarmy': 8153, 'annaloves': 596, 'retrograde': 6613, 'logged': 4753, 'mozilla': 5275, 'reference': 6488, 'logan': 4752, 'obnoxiousness': 5601, 'kwonfused': 4506, 'niggers': 5493, 'hectic': 3734, 'keem': 4389, 'm8': 4864, 'parking': 5824, '15minutes': 68, 'katelyn': 4374, 'tp': 8063, 'indis': 4074, 'gageway': 3272, 'itsdolf': 4202, 'session': 6968, 'ky': 4507, 'voicing': 8446, 'syste': 7717, 'slammed': 7186, 'harsh': 3671, 'inflammatory': 4083, 'bitchhhhh': 1077, 'thelionguard': 7885, '18k': 93, '209': 123, '383k': 190, '100k': 20, 'imbecile': 4024, 'bundle': 1353, 'accessories': 365, 'witnessthetourmnl': 8683, 'cracks': 1991, 'hahahahahahah': 3591, 'bottle': 1199, '3weeks': 200, 'lucozade': 4836, 'ribena': 6640, 'vimto': 8413, 'ginger': 3371, 'washed': 8527, 'dried': 2516, 'yaaayyyyyyy': 8796, '555': 250, 'retweeted': 6618, 'shyloh': 7101, 'myeverything': 5335, 'loveyou': 4812, '38': 189, 'inopportune': 4099, 'payout': 5875, '05k': 11, '61': 266, '64k': 274, 'fear': 2974, 'meek': 5034, 'accidentally': 366, 'aaaand': 344, 'stargate': 7454, 'sgu': 6988, 'sta': 7427, 'diary': 2322, 'gatto': 3301, 'lobe': 4742, 'gorges': 3459, 'falk': 2914, 'monthhhhh': 5230, 'worthy': 8743, 'recipes': 6465, 'whip': 8617, 'eatingfortheinsta': 2605, 'photography': 5965, 'aldi': 504, 'malt': 4915, 'cheap': 1598, 'hemingway': 3756, 'generationgame': 3324, 'mel': 5043, 'sooty': 7302, 'sweep': 7696, 'timbs': 7965, 'swifta': 7700, 'vinny': 8416, 'sopranos': 7305, 'khanya': 4408, 'mpande': 5280, 'rudi': 6742, 'nickel': 5478, 'whinny': 8615, 'pedophiliac': 5891, '2359': 138, '6year': 283, 'workshop': 8722, 'billie': 1048, 'slc': 7191, 'sioux': 7153, 'dakota': 2124, 'cuando': 2066, 'lo': 4738, 'queda': 6339, 'tecsew': 7817, 'associated': 742, 'portsmouth': 6108, 'vast': 8369, 'resources': 6586, 'anointing': 604, 'speech': 7356, 'consequences': 1882, 'argue': 681, 'originality': 5710, 'personality': 5934, 'kama': 4359, 'elders': 2649, 'ssdiski': 7425, 'repitiendo': 6552, 'ustednosabequiensoyyo2': 8336, 'por': 6104, 'netflix': 5443, 'getaway': 3343, 'rivals': 6667, 'trophy': 8133, 'zimbos': 8911, 'opens': 5687, 'congratsssss': 1867, 'youuuu': 8888, 'echo': 2613, 'pub': 6277, 'rag': 6380, 'competitors': 1829, 'ridiculously': 6651, 'biased': 1026, 'crashing': 1999, 'value': 8360, 'indies': 4073, 'louie': 4798, 'consumer': 1895, 'talkinapp': 7744, 'enables': 2699, 'creators': 2014, 'videochat': 8401, 'dur': 2566, 'eniola': 2716, 'sparky': 7346, 'decatur': 2193, 'georgia': 3339, 'midterm': 5118, 'billa': 1046, 'cinestar': 1684, 'autism': 780, 'worldautismawareness': 8725, 'uneducated': 8267, 'coupta': 1961, 'livelihood': 4711, 'guideline': 3556, 'sheringham': 7034, 'norfolk': 5534, 'deceased': 2194, 'yelpreview': 8838, 'liverpool': 4713, 'saving': 6839, 'etsy': 2792, 'kappa': 4365, 'bouta': 1207, 'hunnies': 3932, 'strut': 7570, 'cherie': 1619, 'polishing': 6079, 'crapnation': 1995, 'submissions': 7592, 'despised': 2294, 'reeses': 6486, 'democracy': 2251, 'arm': 689, 'trashbag': 8093, 'vito': 8433, 'beth': 1007, 'worn': 8732, 'betting': 1013, 'kutoa': 4503, 'frustrations': 3226, 'za': 8902, 'lucecelestialemnl': 4830, 'wooooowwwwww': 8711, 'stage': 7435, 'manscaping': 4941, 'athleticism': 757, 'lighter': 4661, 'bets': 1010, 'promote': 6247, 'yessssss': 8847, 'portuguese': 6109, 'iwaly': 4207, 'language': 4528, 'soproudofyoucw': 7306, 'sophomores': 7304, 'addy': 406, 'quiestion': 6348, 'cult': 2072, 'asswipe': 747, 'csgogiveaway': 2059, 'm4a4': 4863, 'poseidon': 6112, 'donation': 2443, 'dt': 2540, 'derrick': 2277, 'ruth': 6768, 'novichok': 5560, 'kozachok': 4483, 'consistent': 1887, 'platinum': 6031, 'emerald': 2679, 'crystal': 2056, 'usum': 8339, 'guna': 3561, 'respond': 6593, 'fuckn': 3237, 'leos': 4610, 'b4': 826, 'oohh': 5671, 'csi': 2060, 'flaming': 3081, 'infrastructure': 4088, 'advice': 433, 'r50k': 6363, 'keyword': 4404, 'bike': 1044, 'cycling': 2103, 'safety': 6790, 'positivity': 6118, 'wnbr': 8689, 'bodypositive': 1140, 'pu': 6276, 'ronnieeeee': 6711, 'duu': 2570, 'needless': 5417, 'bragga': 1229, 'inktopsecret': 4095, 'prune': 6267, 'nastyashell': 5376, 'uhoh': 8240, 'willbepoopingwithinthenexthourorso': 8652, 'lilly': 4675, 'rizakosef': 6671, 'zoetropic': 8917, 'yermseul': 8842, 'eyeing': 2875, 'zeke': 8907, 'prayingforrain': 6158, 'nelson': 5429, 'vie': 8404, 'sought': 7313, 'thy': 7946, 'commandments': 1805, 'hing': 3789, 'proudofjackson': 6259, 'fencer': 3008, 'entertainer': 2731, 'boam': 1128, 'tee': 7820, 'cagaooooo': 1392, '3am': 194, 'cg': 1545, 'nicaii': 5471, 'hadluka': 3584, 'imi': 4028, 'kaugalingon': 4377, 'cautious': 1511, 'ctfu': 2064, 'apps': 661, 'shadow': 6993, 'astros': 751, 'discussion': 2377, 'including': 4058, 'relationships': 6515, 'directly': 2360, 'spanky': 7343, 'striptease': 7561, 'breaking': 1249, 'adulthood': 421, 'embarassment': 2674, 'fawning': 2966, 'confession': 1856, 'mypillow': 5340, 'ditty': 2397, 'catchy': 1499, 'belts': 990, 'stripped': 7560, 'defended': 2216, 'phillip': 5956, 'schofield': 6862, 'somu': 7282, 'thik': 7907, 'ji': 4271, 'haya': 3694, 'shaktiastitvakeehsaaski': 7003, 'sau': 6829, 'manutd': 4943, 'martial': 4973, 'gea': 3314, 'swapped': 7688, 'ronaldo': 6708, 'bale': 870, 'begining': 972, 'robron': 6689, 'emmerdale': 2687, 'sinclairbroadcasting': 7143, 'localnews': 4744, 'hickey': 3772, 'bandit': 882, 'hickies': 3773, 'xfinity': 8780, 'gifted': 3364, 'cable': 1385, 'outage': 5721, 'whyte': 8634, 'eats': 2606, 'josh': 4313, 'treble': 8104, 'convenient': 1907, 'maneuver': 4927, 'neglect': 5423, 'statistics': 7473, 'journalism': 4316, 'woooooooow': 8709, 'eyin': 2883, 'lofas': 4750, 'humour': 3926, 'gaw': 3303, 'bringyourmomtoo': 1275, 'pour': 6135, 'tricksters': 8116, 'elon': 2668, 'thoooo': 7920, 'squeeze': 7419, 'harmful': 3662, 'ribs': 6641, 'marky': 4965, 'dgaf': 2314, 'quietly': 6350, 'bloom': 1111, 'pocket': 6059, 'bakugo': 867, 'changed': 1569}\n",
      "  (0, 4671)\t0.8277507053485362\n",
      "  (0, 1277)\t0.5610960432893826\n",
      "  (1, 1277)\t0.531054985848561\n",
      "  (1, 3638)\t0.3265332454379188\n",
      "  (1, 1063)\t0.3386312923132721\n",
      "  (1, 3864)\t0.4384459012431911\n",
      "  (1, 3436)\t0.3874217176508995\n",
      "  (1, 2164)\t0.39288050838757654\n",
      "  (2, 8417)\t0.4260017541467114\n",
      "  (2, 1129)\t0.41165351135911193\n",
      "  (2, 3287)\t0.3394879270242155\n",
      "  (2, 8418)\t0.4260017541467114\n",
      "  (2, 6469)\t0.39143079896186556\n",
      "  (2, 499)\t0.4462244665439578\n",
      "  (3, 5115)\t0.5175839969599785\n",
      "  (3, 3056)\t0.5001511559468396\n",
      "  (3, 4773)\t0.3606200426477418\n",
      "  (3, 4667)\t0.24078544109450603\n",
      "  (3, 6834)\t0.5421542063782575\n",
      "  (4, 8860)\t0.2694613384111681\n",
      "  (4, 6107)\t0.3730821826094571\n",
      "  (4, 6452)\t0.21925555768830732\n",
      "  (4, 4791)\t0.3103620117705167\n",
      "  (4, 981)\t0.3730821826094571\n",
      "  (4, 951)\t0.2950278533817231\n",
      "  :\t:\n",
      "  (5645, 7408)\t0.4503944307593785\n",
      "  (5645, 1771)\t0.48639671596739326\n",
      "  (5645, 7461)\t0.4788192699163962\n",
      "  (5645, 1111)\t0.5755824860033527\n",
      "  (5646, 2440)\t0.2488504917505693\n",
      "  (5646, 3751)\t0.3471408189269049\n",
      "  (5646, 3154)\t0.35656685179769454\n",
      "  (5646, 7728)\t0.3915253290119504\n",
      "  (5646, 231)\t0.36799081376036014\n",
      "  (5646, 7266)\t0.43415154418170976\n",
      "  (5646, 7922)\t0.46176820939086666\n",
      "  (5647, 385)\t0.6454513422840196\n",
      "  (5647, 6059)\t0.7638013909019526\n",
      "  (5648, 7768)\t0.6516212290338032\n",
      "  (5648, 5030)\t0.7585445101458949\n",
      "  (5649, 4667)\t0.21467521409917448\n",
      "  (5649, 6897)\t0.33190840858216747\n",
      "  (5649, 3676)\t0.433860228099938\n",
      "  (5649, 770)\t0.433860228099938\n",
      "  (5649, 867)\t0.48336423414960383\n",
      "  (5649, 1569)\t0.48336423414960383\n",
      "  (5650, 3638)\t0.4612036643198764\n",
      "  (5650, 1063)\t0.4782912461449479\n",
      "  (5650, 6444)\t0.7473477529765054\n",
      "  (5651, 1775)\t1.0\n"
     ]
    }
   ],
   "source": [
    "from sklearn.feature_extraction.text import TfidfVectorizer\n",
    "\n",
    "vectorizer = TfidfVectorizer(\n",
    "#                ngram_range = (1,4),\n",
    "                stop_words = 'english',\n",
    "                smooth_idf = 1,\n",
    "            )\n",
    "\n",
    "# sparse matrix for NB Classifier\n",
    "train_matrix = vectorizer.fit_transform(trainX)\n",
    "test_matrix = vectorizer.transform(testX)\n",
    "print(vectorizer.vocabulary_)\n",
    "print(train_matrix)"
   ]
  },
  {
   "cell_type": "markdown",
   "metadata": {},
   "source": [
    "[sklearn.naive_bayes.MultinomialNB](http://scikit-learn.org/stable/modules/generated/sklearn.naive_bayes.MultinomialNB.html)."
   ]
  },
  {
   "cell_type": "code",
   "execution_count": null,
   "metadata": {},
   "outputs": [],
   "source": [
    "clf_NB = MultinomialNB()\n",
    "clf_NB.fit(train_matrix, trainY)"
   ]
  },
  {
   "cell_type": "code",
   "execution_count": 354,
   "metadata": {},
   "outputs": [
    {
     "name": "stdout",
     "output_type": "stream",
     "text": [
      "[0.50795053 0.50132626 0.48275862 0.48318584 0.4964539 ]\n",
      "mean score for 10-fold cross validation:  0.49433503041782495\n"
     ]
    }
   ],
   "source": [
    "cross_val = cross_val_score(clf_NB, train_matrix,trainY, cv = 5, scoring= 'accuracy')\n",
    "print(cross_val)\n",
    "print (\"mean score for 10-fold cross validation: \", np.mean(cross_val))"
   ]
  },
  {
   "cell_type": "code",
   "execution_count": 357,
   "metadata": {},
   "outputs": [
    {
     "data": {
      "text/plain": [
       "True     0.835633\n",
       "False    0.164367\n",
       "Name: label, dtype: float64"
      ]
     },
     "execution_count": 357,
     "metadata": {},
     "output_type": "execute_result"
    }
   ],
   "source": [
    "# accuracy on training set\n",
    "\n",
    "pred_train = clf_NB.predict(train_matrix)\n",
    "(pred_train==trainY).value_counts(normalize=True)"
   ]
  },
  {
   "cell_type": "code",
   "execution_count": 355,
   "metadata": {},
   "outputs": [
    {
     "data": {
      "text/plain": [
       "True     0.500707\n",
       "False    0.499293\n",
       "Name: label, dtype: float64"
      ]
     },
     "execution_count": 355,
     "metadata": {},
     "output_type": "execute_result"
    }
   ],
   "source": [
    "# accuracy on test set\n",
    "\n",
    "pred = clf_NB.predict(test_matrix)\n",
    "(pred==testY).value_counts(normalize=True)"
   ]
  },
  {
   "cell_type": "code",
   "execution_count": 350,
   "metadata": {},
   "outputs": [
    {
     "name": "stdout",
     "output_type": "stream",
     "text": [
      "The confusion matrix:\n",
      " [[224  40   8  14  68]\n",
      " [ 96  97  24  27  42]\n",
      " [ 25  32 158   5   8]\n",
      " [ 67  63  17  52  31]\n",
      " [ 83  34  10  12 177]]\n"
     ]
    }
   ],
   "source": [
    "# confusion matrix\n",
    "\n",
    "print('The confusion matrix:\\n',confusion_matrix(testY,pred))"
   ]
  },
  {
   "cell_type": "code",
   "execution_count": 367,
   "metadata": {},
   "outputs": [
    {
     "name": "stdout",
     "output_type": "stream",
     "text": [
      "True     0.812102\n",
      "False    0.187898\n",
      "Name: label, dtype: float64\n",
      "True     0.507779\n",
      "False    0.492221\n",
      "Name: label, dtype: float64\n"
     ]
    }
   ],
   "source": [
    "# comare with CountVectorizer\n",
    "\n",
    "from sklearn.feature_extraction.text import CountVectorizer\n",
    "\n",
    "vectorizer1 = CountVectorizer()\n",
    "\n",
    "data_train_count = vectorizer1.fit_transform(trainX)\n",
    "data_test_count  = vectorizer1.transform(testX)\n",
    "\n",
    "clf_NB1 = MultinomialNB()\n",
    "clf_NB1.fit(data_train_count, trainY)\n",
    "\n",
    "# accuracy on training set\n",
    "pred_train1 = clf_NB1.predict(data_train_count)\n",
    "print((pred_train1==trainY).value_counts(normalize=True))\n",
    "\n",
    "# accuracy on test set\n",
    "pred_test1 = clf_NB1.predict(data_test_count)\n",
    "print((pred_test1==testY).value_counts(normalize=True))"
   ]
  },
  {
   "cell_type": "markdown",
   "metadata": {},
   "source": [
    "The result of CountVectorizer() is close to that of TfidfVectorizer. On the test set, the accuracy reaches **50.8%**."
   ]
  },
  {
   "cell_type": "markdown",
   "metadata": {},
   "source": [
    "### 4.2 - SVM"
   ]
  },
  {
   "cell_type": "markdown",
   "metadata": {},
   "source": [
    "### 4.x - RNN"
   ]
  },
  {
   "cell_type": "code",
   "execution_count": null,
   "metadata": {},
   "outputs": [],
   "source": []
  }
 ],
 "metadata": {
  "celltoolbar": "Raw Cell Format",
  "kernelspec": {
   "display_name": "Python 3",
   "language": "python",
   "name": "python3"
  },
  "language_info": {
   "codemirror_mode": {
    "name": "ipython",
    "version": 3
   },
   "file_extension": ".py",
   "mimetype": "text/x-python",
   "name": "python",
   "nbconvert_exporter": "python",
   "pygments_lexer": "ipython3",
   "version": "3.6.4"
  }
 },
 "nbformat": 4,
 "nbformat_minor": 2
}
