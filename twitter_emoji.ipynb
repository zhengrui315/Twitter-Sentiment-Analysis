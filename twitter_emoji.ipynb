{
 "cells": [
  {
   "cell_type": "code",
   "execution_count": 1,
   "metadata": {},
   "outputs": [],
   "source": [
    "import pandas as pd\n",
    "import numpy as np\n",
    "import matplotlib.pyplot as plt\n",
    "\n",
    "import time"
   ]
  },
  {
   "cell_type": "markdown",
   "metadata": {},
   "source": [
    "## 1 - Twitter API Authorization"
   ]
  },
  {
   "cell_type": "code",
   "execution_count": 2,
   "metadata": {},
   "outputs": [],
   "source": [
    "import tweepy\n",
    "import sys\n",
    "import csv\n",
    "import time"
   ]
  },
  {
   "cell_type": "code",
   "execution_count": 3,
   "metadata": {},
   "outputs": [],
   "source": [
    "consumer_key = \"???\"\n",
    "consumer_secret = \"???\"\n",
    "access_token = \"???\"\n",
    "access_token_secret = \"???\"\n",
    "\n",
    "auth = tweepy.OAuthHandler(consumer_key, consumer_secret)\n",
    "auth.set_access_token(access_token, access_token_secret)\n",
    "\n",
    "api = tweepy.API(auth)"
   ]
  },
  {
   "cell_type": "markdown",
   "metadata": {},
   "source": [
    "check [tweepy API](http://tweepy.readthedocs.io/en/v3.5.0/api.html).\n",
    "\n",
    "- `api.user_timeline`: return my tweets\n",
    "- `api.home_timeline`: return tweets on my home page\n",
    "- `items()`, `pages()`: are iterable. "
   ]
  },
  {
   "cell_type": "markdown",
   "metadata": {},
   "source": [
    "## 2 - Data Scraping"
   ]
  },
  {
   "cell_type": "markdown",
   "metadata": {},
   "source": [
    "According to [Top Emojis of World Emoji Day](https://blog.emojipedia.org/top-emojis-of-world-emoji-day/), we will only search for tweets with the top 9 emojis. If there are two emojis, we will .... Refer to [here](https://unicode.org/emoji/charts/full-emoji-list.html) for unicode.\n",
    "- 😂 Face With Tears Of Joy:     $\\qquad$ `0` - U+1F602\n",
    "- 😍 Smiling Face With Heart-Eyes: \n",
    "- ❤️ Red heart\n",
    "- 😀 Grinning Face: $\\quad$ `1` - U+1F600\n",
    "- 😎 Smiling Face With Sunglasses\n",
    "- 🎉 Party Popper: $\\qquad$ `2` - U+1F389\n",
    "- 😊 Smiling Face With Smiling Eyes\n",
    "- 👍 Thumbs Up: $\\qquad$ `3` - U+1F44D\n",
    "- 💩 Pile Of Poo: $\\quad$ `4` - U+1F4A9\n",
    "\n",
    "I could also extract tweets for bigger categories of emoji, but the procedure is very similar. In this project I will select the above five emojis with the labels in shaded fonts for a test run of the sentiment analysis."
   ]
  },
  {
   "cell_type": "markdown",
   "metadata": {},
   "source": [
    "### 2.1 - No stream"
   ]
  },
  {
   "cell_type": "code",
   "execution_count": 15,
   "metadata": {},
   "outputs": [],
   "source": [
    "# https://stackoverflow.com/questions/38872195/tweepy-exclude-retweets\n",
    "\n",
    "query = [u\"\\U0001F602\",u\"\\U0001F600\",u\"\\U0001F389\",u\"\\U0001F44D\",u\"\\U0001F4A9\"]\n",
    "\n",
    "idx = 2\n",
    "csvFile = open('emoji_new_'+str(idx)+'.csv', 'a')\n",
    "#Use csv Writer\n",
    "csvWriter = csv.writer(csvFile)\n",
    "csvWriter.writerow([\"Time\", \"tweet\", \"retweet num\",\"tweet id\"])\n",
    "for tweet in tweepy.Cursor(api.search,q=[query[idx]+' -filter:retweets'],since=\"2017-01-01\",until=\"2017-12-31\",lang=\"en\").items(100000):\n",
    "    csvWriter.writerow([tweet.created_at, tweet.text, tweet.retweet_count, tweet.id])\n",
    "#    csvWriter.writerow([\"Time\":tweet.created_at, \"tweet\":tweet.text, \"retweet num\":tweet.retweet_count, \"tweet id\":tweet.id])\n",
    "csvFile.close()"
   ]
  },
  {
   "cell_type": "code",
   "execution_count": 38,
   "metadata": {},
   "outputs": [
    {
     "name": "stdout",
     "output_type": "stream",
     "text": [
      "(2586, 5)\n"
     ]
    },
    {
     "data": {
      "text/html": [
       "<div>\n",
       "<style scoped>\n",
       "    .dataframe tbody tr th:only-of-type {\n",
       "        vertical-align: middle;\n",
       "    }\n",
       "\n",
       "    .dataframe tbody tr th {\n",
       "        vertical-align: top;\n",
       "    }\n",
       "\n",
       "    .dataframe thead th {\n",
       "        text-align: right;\n",
       "    }\n",
       "</style>\n",
       "<table border=\"1\" class=\"dataframe\">\n",
       "  <thead>\n",
       "    <tr style=\"text-align: right;\">\n",
       "      <th></th>\n",
       "      <th>2018-04-06 21:07:12</th>\n",
       "      <th>@dkrwilliams @seanhannity @jimmykimmel @colbertlateshow @CBS F\n",
       "U\n",
       "C\n",
       "K\n",
       "\n",
       "O\n",
       "F\n",
       "F\n",
       "\n",
       "V\n",
       "L\n",
       "A\n",
       "D\n",
       "\n",
       "We see you.\n",
       "\n",
       "🇷🇺🇷🇺🇷🇺🇷🇺🇷🇺🇷🇺🇷🇺🇷🇺… https://t.co/op8BvQkZOk</th>\n",
       "      <th>0</th>\n",
       "      <th>982364119507619842</th>\n",
       "      <th>ghostofnero</th>\n",
       "    </tr>\n",
       "  </thead>\n",
       "  <tbody>\n",
       "    <tr>\n",
       "      <th>0</th>\n",
       "      <td>2018-04-06 20:55:54</td>\n",
       "      <td>Just listen to the all scripted 💩in unison wit...</td>\n",
       "      <td>5</td>\n",
       "      <td>982361278550302720</td>\n",
       "      <td>emfvet78</td>\n",
       "    </tr>\n",
       "    <tr>\n",
       "      <th>1</th>\n",
       "      <td>2018-04-06 20:55:30</td>\n",
       "      <td>@President1Trump @GET4208 U know when someone ...</td>\n",
       "      <td>2</td>\n",
       "      <td>982361175575818240</td>\n",
       "      <td>ElaineC26681844</td>\n",
       "    </tr>\n",
       "    <tr>\n",
       "      <th>2</th>\n",
       "      <td>2018-04-06 20:38:56</td>\n",
       "      <td>I Told u Stay Down  Cause  I Know   💩 Could  G...</td>\n",
       "      <td>0</td>\n",
       "      <td>982357008526569472</td>\n",
       "      <td>aaron_w26</td>\n",
       "    </tr>\n",
       "    <tr>\n",
       "      <th>3</th>\n",
       "      <td>2018-04-06 20:38:39</td>\n",
       "      <td>@Egyptiankingsal @EmmaLFC1 Oh my I will let u ...</td>\n",
       "      <td>0</td>\n",
       "      <td>982356936288071680</td>\n",
       "      <td>WilsonFlair</td>\n",
       "    </tr>\n",
       "    <tr>\n",
       "      <th>4</th>\n",
       "      <td>2018-04-06 20:36:23</td>\n",
       "      <td>@joebook73 @beer_mood @WhiteHouse There ya go ...</td>\n",
       "      <td>0</td>\n",
       "      <td>982356366554738688</td>\n",
       "      <td>simply_ss598</td>\n",
       "    </tr>\n",
       "  </tbody>\n",
       "</table>\n",
       "</div>"
      ],
      "text/plain": [
       "   2018-04-06 21:07:12  \\\n",
       "0  2018-04-06 20:55:54   \n",
       "1  2018-04-06 20:55:30   \n",
       "2  2018-04-06 20:38:56   \n",
       "3  2018-04-06 20:38:39   \n",
       "4  2018-04-06 20:36:23   \n",
       "\n",
       "  @dkrwilliams @seanhannity @jimmykimmel @colbertlateshow @CBS F\\nU\\nC\\nK\\n\\nO\\nF\\nF\\n\\nV\\nL\\nA\\nD\\n\\nWe see you.\\n\\n🇷🇺🇷🇺🇷🇺🇷🇺🇷🇺🇷🇺🇷🇺🇷🇺… https://t.co/op8BvQkZOk  \\\n",
       "0  Just listen to the all scripted 💩in unison wit...                                                                                                             \n",
       "1  @President1Trump @GET4208 U know when someone ...                                                                                                             \n",
       "2  I Told u Stay Down  Cause  I Know   💩 Could  G...                                                                                                             \n",
       "3  @Egyptiankingsal @EmmaLFC1 Oh my I will let u ...                                                                                                             \n",
       "4  @joebook73 @beer_mood @WhiteHouse There ya go ...                                                                                                             \n",
       "\n",
       "   0  982364119507619842      ghostofnero  \n",
       "0  5  982361278550302720         emfvet78  \n",
       "1  2  982361175575818240  ElaineC26681844  \n",
       "2  0  982357008526569472        aaron_w26  \n",
       "3  0  982356936288071680      WilsonFlair  \n",
       "4  0  982356366554738688     simply_ss598  "
      ]
     },
     "execution_count": 38,
     "metadata": {},
     "output_type": "execute_result"
    }
   ],
   "source": [
    "import pandas as pd\n",
    "#f = pd.read_json('emoji1 copy.json', lines=True)\n",
    "f = pd.read_csv('e4b.csv')\n",
    "print(f.shape)\n",
    "f.head()"
   ]
  },
  {
   "cell_type": "markdown",
   "metadata": {},
   "source": [
    "### 2.2 - Stream"
   ]
  },
  {
   "cell_type": "markdown",
   "metadata": {},
   "source": [
    "Click [here](https://developer.twitter.com/en/docs/tweets/filter-realtime/guides/basic-stream-parameters) for Standard streaming API request parameters. The github is [here](https://github.com/tweepy/tweepy/blob/v3.4.0/tweepy/streaming.py)."
   ]
  },
  {
   "cell_type": "code",
   "execution_count": 4,
   "metadata": {},
   "outputs": [],
   "source": [
    "import time\n",
    "import json\n",
    "\n",
    "class MyListener(tweepy.StreamListener):\n",
    "    \"\"\"\n",
    "    set a time limit for the stream\n",
    "    \"\"\"\n",
    "    def __init__(self, time_limit=10,label=0):\n",
    "        self.start_time = time.time()\n",
    "        self.limit = time_limit\n",
    "        self.label = label\n",
    "        super(MyListener, self).__init__()\n",
    "        \n",
    "    def on_data(self, data):\n",
    "        if (time.time() - self.start_time) < self.limit:\n",
    "            t = json.loads(data)\n",
    "            with open('emoji_'+str(self.label)+'.csv','a',newline='\\n') as f:\n",
    "                if not t['text'].startswith('RT'):\n",
    "                    writer = csv.DictWriter(f,fieldnames=['tweet','label'])\n",
    "                    writer.writerow({'tweet':t['text'],'label': self.label})              \n",
    "            return True\n",
    "        else:\n",
    "            return False\n",
    "        \n",
    "    def on_error(self, status_code):\n",
    "        if status_code == 420 or status_code == 429:\n",
    "            print('rate limit error: status code is ', status_code)\n",
    "            return False\n",
    "        \n",
    "class MyListener_notimelimit(tweepy.StreamListener):\n",
    "    \"\"\"\n",
    "    there is no time limit, the stream will be stopped by hand\n",
    "    \"\"\"\n",
    "    def __init__(self, label=0):\n",
    "        self.label = label\n",
    "        super(MyListener_notimelimit, self).__init__()\n",
    "        \n",
    "    def on_data(self, data):\n",
    "        t = json.loads(data)\n",
    "        with open('emoji_'+str(self.label)+'.csv','a',newline='\\n') as f:\n",
    "            if not t['text'].startswith('RT'):\n",
    "                writer = csv.DictWriter(f,fieldnames=['tweet','label'])\n",
    "                writer.writerow({'tweet':t['text'],'label': self.label})              \n",
    "        return True\n",
    "        \n",
    "    def on_error(self, status_code):\n",
    "        if status_code == 420 or status_code == 429:\n",
    "            print('rate limit error: status code is ', status_code)\n",
    "            return False\n"
   ]
  },
  {
   "cell_type": "code",
   "execution_count": 5,
   "metadata": {},
   "outputs": [],
   "source": [
    "def scrape_emoji(query,idx,time_limit=0,first=False):    \n",
    "    '''\n",
    "    (1) time_limit indicates the length of running time, \n",
    "    (2) first denotes whether it is the first time to run, because if False, don't write the header\n",
    "    '''\n",
    "    if first:\n",
    "        filename = 'emoji_' + str(idx) + '.csv'\n",
    "        with open(filename,'w',newline='\\n') as f:\n",
    "            writer = csv.DictWriter(f,fieldnames=['tweet','label'])\n",
    "            writer.writeheader()\n",
    "    # if there is NO time limit\n",
    "    if time_limit==0: \n",
    "        twitterStream = tweepy.Stream(auth, MyListener_notimelimit(label=idx))\n",
    "    # if there is time limit\n",
    "    else:\n",
    "        twitterStream = tweepy.Stream(auth, MyListener(time_limit=time_limit,label=idx))\n",
    "    twitterStream.filter(track=[query[idx]+' -filter:retweets'], languages = [\"en\"], stall_warnings = True, async=True)"
   ]
  },
  {
   "cell_type": "code",
   "execution_count": 49,
   "metadata": {},
   "outputs": [],
   "source": [
    "query = [u\"\\U0001F602\",u\"\\U0001F600\",u\"\\U0001F389\",u\"\\U0001F44D\",u\"\\U0001F4A9\"]\n",
    "scrape_emoji(query,idx=4,time_limit=0,first=False)"
   ]
  },
  {
   "cell_type": "markdown",
   "metadata": {},
   "source": [
    "### 2.3 - Concatenation"
   ]
  },
  {
   "cell_type": "code",
   "execution_count": 3,
   "metadata": {
    "scrolled": true
   },
   "outputs": [
    {
     "name": "stdout",
     "output_type": "stream",
     "text": [
      "df0.shape=  (2376, 2)\n",
      "df1.shape=  (1886, 2)\n",
      "df2.shape=  (4607, 2)\n",
      "df3.shape=  (1860, 2)\n",
      "df4.shape=  (2132, 2)\n"
     ]
    }
   ],
   "source": [
    "filenames = ['./inputs/emoji_nostream_' + str(idx) + '.csv' for idx in range(5)]\n",
    "dfs = [pd.read_csv(filename) for filename in filenames]\n",
    "for i in range(5):\n",
    "    print('df{}.shape= '.format(i), dfs[i].shape)"
   ]
  },
  {
   "cell_type": "markdown",
   "metadata": {},
   "source": [
    "[DataFrame.reset_index](https://pandas.pydata.org/pandas-docs/stable/generated/pandas.DataFrame.reset_index.html). I set drop=True to remove the old index. [DataFrame.sample](https://pandas.pydata.org/pandas-docs/stable/generated/pandas.DataFrame.sample.html)."
   ]
  },
  {
   "cell_type": "code",
   "execution_count": 4,
   "metadata": {},
   "outputs": [
    {
     "name": "stdout",
     "output_type": "stream",
     "text": [
      "length of df0 = 2376\n",
      "length of df1 = 1886\n",
      "length of df2 = 2304\n",
      "length of df3 = 1860\n",
      "length of df4 = 2132\n"
     ]
    }
   ],
   "source": [
    "dfs[2] = dfs[2].sample(frac=0.5,random_state=99).reset_index(drop=True)\n",
    "for i in range(5):\n",
    "    print('length of df{} ='.format(i),len(dfs[i]))"
   ]
  },
  {
   "cell_type": "markdown",
   "metadata": {},
   "source": [
    "Now the five categories have similar sizes. We are good to go."
   ]
  },
  {
   "cell_type": "code",
   "execution_count": 5,
   "metadata": {},
   "outputs": [
    {
     "data": {
      "text/html": [
       "<div>\n",
       "<style scoped>\n",
       "    .dataframe tbody tr th:only-of-type {\n",
       "        vertical-align: middle;\n",
       "    }\n",
       "\n",
       "    .dataframe tbody tr th {\n",
       "        vertical-align: top;\n",
       "    }\n",
       "\n",
       "    .dataframe thead th {\n",
       "        text-align: right;\n",
       "    }\n",
       "</style>\n",
       "<table border=\"1\" class=\"dataframe\">\n",
       "  <thead>\n",
       "    <tr style=\"text-align: right;\">\n",
       "      <th></th>\n",
       "      <th>tweet</th>\n",
       "      <th>label</th>\n",
       "    </tr>\n",
       "  </thead>\n",
       "  <tbody>\n",
       "    <tr>\n",
       "      <th>0</th>\n",
       "      <td>RT @denmatai190: | 👑411K FOLLOWERS!!!👑\\n|∧∧\"\"\\...</td>\n",
       "      <td>3</td>\n",
       "    </tr>\n",
       "    <tr>\n",
       "      <th>1</th>\n",
       "      <td>@6CentsRose My nieces and nephews were young, ...</td>\n",
       "      <td>1</td>\n",
       "    </tr>\n",
       "    <tr>\n",
       "      <th>2</th>\n",
       "      <td>@HobiLove94 Happy Birthday 🎉🎈</td>\n",
       "      <td>2</td>\n",
       "    </tr>\n",
       "    <tr>\n",
       "      <th>3</th>\n",
       "      <td>@bravoholclique Me! I never get a chance to wa...</td>\n",
       "      <td>1</td>\n",
       "    </tr>\n",
       "    <tr>\n",
       "      <th>4</th>\n",
       "      <td>RT @RoanhorseBex: 🎉ANNOUNCEMENT🎉That Anasazi-i...</td>\n",
       "      <td>2</td>\n",
       "    </tr>\n",
       "  </tbody>\n",
       "</table>\n",
       "</div>"
      ],
      "text/plain": [
       "                                               tweet label\n",
       "0  RT @denmatai190: | 👑411K FOLLOWERS!!!👑\\n|∧∧\"\"\\...     3\n",
       "1  @6CentsRose My nieces and nephews were young, ...     1\n",
       "2                      @HobiLove94 Happy Birthday 🎉🎈     2\n",
       "3  @bravoholclique Me! I never get a chance to wa...     1\n",
       "4  RT @RoanhorseBex: 🎉ANNOUNCEMENT🎉That Anasazi-i...     2"
      ]
     },
     "execution_count": 5,
     "metadata": {},
     "output_type": "execute_result"
    }
   ],
   "source": [
    "df_raw = pd.concat(dfs)\n",
    "\n",
    "#shuffle the row to mix the five categories\n",
    "df_raw = df_raw.sample(frac=1,random_state=99).reset_index(drop=True)\n",
    "df_raw.head()"
   ]
  },
  {
   "cell_type": "markdown",
   "metadata": {},
   "source": [
    "## 3 - data cleaning"
   ]
  },
  {
   "cell_type": "markdown",
   "metadata": {},
   "source": [
    "**to-do list:**\n",
    "- `duplicates`: there should be some tweets with more than one emoji, I will drop them all duplicate occurences. \n",
    "- `#hashtag`: I will keep them because it's likely they convey useful messages, I will delete only the hashtag symbol.\n",
    "- `@username`, `emoji`, `punctuations`, `r'https?://'`: drop all non-alphanumeric symbols `\\W`, or maybe `r'[^a-zA-Z]*'`\n",
    "- convert to `lowercase`\n",
    "- ...\n",
    "\n",
    "I will be using python3 [regex](https://docs.python.org/3.4/library/re.html) for most of the tasks."
   ]
  },
  {
   "cell_type": "code",
   "execution_count": 10,
   "metadata": {},
   "outputs": [
    {
     "data": {
      "text/plain": [
       "False    7666\n",
       "True     2892\n",
       "Name: tweet, dtype: int64"
      ]
     },
     "execution_count": 10,
     "metadata": {},
     "output_type": "execute_result"
    }
   ],
   "source": [
    "# check duplicates\n",
    "df_raw.tweet.duplicated().value_counts()"
   ]
  },
  {
   "cell_type": "markdown",
   "metadata": {},
   "source": [
    "[DataFrame.drop_duplicates](http://pandas.pydata.org/pandas-docs/version/0.17/generated/pandas.DataFrame.drop_duplicates.html): the default for `keep` is `'first'`, which means drop duplicates except the first occurence. I will drop all occurences, so `keep=False`. "
   ]
  },
  {
   "cell_type": "code",
   "execution_count": 11,
   "metadata": {},
   "outputs": [
    {
     "name": "stdout",
     "output_type": "stream",
     "text": [
      "False    7066\n",
      "Name: tweet, dtype: int64\n"
     ]
    },
    {
     "data": {
      "text/plain": [
       "0    0.236202\n",
       "4    0.221059\n",
       "1    0.207897\n",
       "3    0.173224\n",
       "2    0.161619\n",
       "Name: label, dtype: float64"
      ]
     },
     "execution_count": 11,
     "metadata": {},
     "output_type": "execute_result"
    }
   ],
   "source": [
    "df = df_raw.drop_duplicates(['tweet'],keep=False)\n",
    "\n",
    "print(df.tweet.duplicated().value_counts())\n",
    "df.label.value_counts(normalize=True)"
   ]
  },
  {
   "cell_type": "code",
   "execution_count": 352,
   "metadata": {},
   "outputs": [],
   "source": [
    "df1 = df.copy()"
   ]
  },
  {
   "cell_type": "code",
   "execution_count": 353,
   "metadata": {},
   "outputs": [
    {
     "name": "stdout",
     "output_type": "stream",
     "text": [
      "0\n"
     ]
    },
    {
     "data": {
      "text/html": [
       "<div>\n",
       "<style scoped>\n",
       "    .dataframe tbody tr th:only-of-type {\n",
       "        vertical-align: middle;\n",
       "    }\n",
       "\n",
       "    .dataframe tbody tr th {\n",
       "        vertical-align: top;\n",
       "    }\n",
       "\n",
       "    .dataframe thead th {\n",
       "        text-align: right;\n",
       "    }\n",
       "</style>\n",
       "<table border=\"1\" class=\"dataframe\">\n",
       "  <thead>\n",
       "    <tr style=\"text-align: right;\">\n",
       "      <th></th>\n",
       "      <th>tweet</th>\n",
       "      <th>label</th>\n",
       "    </tr>\n",
       "  </thead>\n",
       "  <tbody>\n",
       "    <tr>\n",
       "      <th>0</th>\n",
       "      <td>@denmatai190: | 👑411K FOLLOWERS!!!👑\\n|∧∧\"\"\\n|...</td>\n",
       "      <td>3</td>\n",
       "    </tr>\n",
       "    <tr>\n",
       "      <th>1</th>\n",
       "      <td>@6CentsRose My nieces and nephews were young, ...</td>\n",
       "      <td>1</td>\n",
       "    </tr>\n",
       "    <tr>\n",
       "      <th>2</th>\n",
       "      <td>@HobiLove94 Happy Birthday 🎉🎈</td>\n",
       "      <td>2</td>\n",
       "    </tr>\n",
       "    <tr>\n",
       "      <th>3</th>\n",
       "      <td>@bravoholclique Me! I never get a chance to wa...</td>\n",
       "      <td>1</td>\n",
       "    </tr>\n",
       "    <tr>\n",
       "      <th>4</th>\n",
       "      <td>@RoanhorseBex: 🎉ANNOUNCEMENT🎉That Anasazi-ins...</td>\n",
       "      <td>2</td>\n",
       "    </tr>\n",
       "  </tbody>\n",
       "</table>\n",
       "</div>"
      ],
      "text/plain": [
       "                                               tweet label\n",
       "0   @denmatai190: | 👑411K FOLLOWERS!!!👑\\n|∧∧\"\"\\n|...     3\n",
       "1  @6CentsRose My nieces and nephews were young, ...     1\n",
       "2                      @HobiLove94 Happy Birthday 🎉🎈     2\n",
       "3  @bravoholclique Me! I never get a chance to wa...     1\n",
       "4   @RoanhorseBex: 🎉ANNOUNCEMENT🎉That Anasazi-ins...     2"
      ]
     },
     "execution_count": 353,
     "metadata": {},
     "output_type": "execute_result"
    }
   ],
   "source": [
    "# remove the leading 'RT'\n",
    "df1['tweet'] = df['tweet'].str.replace(r'^ *RT ', ' ')\n",
    "print(df1['tweet'].str.count(r'^ *RT').sum())\n",
    "df1.head()"
   ]
  },
  {
   "cell_type": "code",
   "execution_count": 354,
   "metadata": {},
   "outputs": [
    {
     "name": "stdout",
     "output_type": "stream",
     "text": [
      "0\n"
     ]
    },
    {
     "data": {
      "text/html": [
       "<div>\n",
       "<style scoped>\n",
       "    .dataframe tbody tr th:only-of-type {\n",
       "        vertical-align: middle;\n",
       "    }\n",
       "\n",
       "    .dataframe tbody tr th {\n",
       "        vertical-align: top;\n",
       "    }\n",
       "\n",
       "    .dataframe thead th {\n",
       "        text-align: right;\n",
       "    }\n",
       "</style>\n",
       "<table border=\"1\" class=\"dataframe\">\n",
       "  <thead>\n",
       "    <tr style=\"text-align: right;\">\n",
       "      <th></th>\n",
       "      <th>tweet</th>\n",
       "      <th>label</th>\n",
       "    </tr>\n",
       "  </thead>\n",
       "  <tbody>\n",
       "    <tr>\n",
       "      <th>0</th>\n",
       "      <td>: | 👑411K FOLLOWERS!!!👑\\n|∧∧\"\"\\n| * ¯ ³¯)Chu...</td>\n",
       "      <td>3</td>\n",
       "    </tr>\n",
       "    <tr>\n",
       "      <th>1</th>\n",
       "      <td>My nieces and nephews were young, so it was ...</td>\n",
       "      <td>1</td>\n",
       "    </tr>\n",
       "    <tr>\n",
       "      <th>2</th>\n",
       "      <td>Happy Birthday 🎉🎈</td>\n",
       "      <td>2</td>\n",
       "    </tr>\n",
       "    <tr>\n",
       "      <th>3</th>\n",
       "      <td>Me! I never get a chance to watch it live! 😀</td>\n",
       "      <td>1</td>\n",
       "    </tr>\n",
       "    <tr>\n",
       "      <th>4</th>\n",
       "      <td>: 🎉ANNOUNCEMENT🎉That Anasazi-inspired epic f...</td>\n",
       "      <td>2</td>\n",
       "    </tr>\n",
       "  </tbody>\n",
       "</table>\n",
       "</div>"
      ],
      "text/plain": [
       "                                               tweet label\n",
       "0    : | 👑411K FOLLOWERS!!!👑\\n|∧∧\"\"\\n| * ¯ ³¯)Chu...     3\n",
       "1    My nieces and nephews were young, so it was ...     1\n",
       "2                                  Happy Birthday 🎉🎈     2\n",
       "3       Me! I never get a chance to watch it live! 😀     1\n",
       "4    : 🎉ANNOUNCEMENT🎉That Anasazi-inspired epic f...     2"
      ]
     },
     "execution_count": 354,
     "metadata": {},
     "output_type": "execute_result"
    }
   ],
   "source": [
    "# remove @\n",
    "df1['tweet'] = df1['tweet'].str.replace(r'@[a-zA-Z0-9_]+', ' ')\n",
    "print(df1.tweet.str.count(r'@[a-zA-Z0-9_]+').sum())\n",
    "df1.head()"
   ]
  },
  {
   "cell_type": "code",
   "execution_count": 265,
   "metadata": {},
   "outputs": [
    {
     "name": "stdout",
     "output_type": "stream",
     "text": [
      "0\n"
     ]
    },
    {
     "data": {
      "text/html": [
       "<div>\n",
       "<style scoped>\n",
       "    .dataframe tbody tr th:only-of-type {\n",
       "        vertical-align: middle;\n",
       "    }\n",
       "\n",
       "    .dataframe tbody tr th {\n",
       "        vertical-align: top;\n",
       "    }\n",
       "\n",
       "    .dataframe thead th {\n",
       "        text-align: right;\n",
       "    }\n",
       "</style>\n",
       "<table border=\"1\" class=\"dataframe\">\n",
       "  <thead>\n",
       "    <tr style=\"text-align: right;\">\n",
       "      <th></th>\n",
       "      <th>tweet</th>\n",
       "      <th>label</th>\n",
       "    </tr>\n",
       "  </thead>\n",
       "  <tbody>\n",
       "    <tr>\n",
       "      <th>0</th>\n",
       "      <td>: | 👑411K FOLLOWERS!!!👑\\n|∧∧\"\"\\n| * ¯ ³¯)Chu...</td>\n",
       "      <td>3</td>\n",
       "    </tr>\n",
       "    <tr>\n",
       "      <th>1</th>\n",
       "      <td>My nieces and nephews were young, so it was ...</td>\n",
       "      <td>1</td>\n",
       "    </tr>\n",
       "    <tr>\n",
       "      <th>2</th>\n",
       "      <td>Happy Birthday 🎉🎈</td>\n",
       "      <td>2</td>\n",
       "    </tr>\n",
       "    <tr>\n",
       "      <th>3</th>\n",
       "      <td>Me! I never get a chance to watch it live! 😀</td>\n",
       "      <td>1</td>\n",
       "    </tr>\n",
       "    <tr>\n",
       "      <th>4</th>\n",
       "      <td>: 🎉ANNOUNCEMENT🎉That Anasazi-inspired epic f...</td>\n",
       "      <td>2</td>\n",
       "    </tr>\n",
       "  </tbody>\n",
       "</table>\n",
       "</div>"
      ],
      "text/plain": [
       "                                               tweet label\n",
       "0    : | 👑411K FOLLOWERS!!!👑\\n|∧∧\"\"\\n| * ¯ ³¯)Chu...     3\n",
       "1    My nieces and nephews were young, so it was ...     1\n",
       "2                                  Happy Birthday 🎉🎈     2\n",
       "3       Me! I never get a chance to watch it live! 😀     1\n",
       "4    : 🎉ANNOUNCEMENT🎉That Anasazi-inspired epic f...     2"
      ]
     },
     "execution_count": 265,
     "metadata": {},
     "output_type": "execute_result"
    }
   ],
   "source": [
    "# remove hashtag symbol\n",
    "df1['tweet'] = df1['tweet'].str.replace(r'#\\S*', ' ')\n",
    "print(df1.tweet.str.count(r'@[a-zA-Z0-9_]+').sum())\n",
    "df1.head()"
   ]
  },
  {
   "cell_type": "code",
   "execution_count": 355,
   "metadata": {},
   "outputs": [
    {
     "name": "stdout",
     "output_type": "stream",
     "text": [
      "0\n"
     ]
    },
    {
     "data": {
      "text/plain": [
       "0       : | 👑411K FOLLOWERS!!!👑\\n|∧∧\"\"\\n| * ¯ ³¯)Chu...\n",
       "1       My nieces and nephews were young, so it was ...\n",
       "2                                     Happy Birthday 🎉🎈\n",
       "3          Me! I never get a chance to watch it live! 😀\n",
       "4       : 🎉ANNOUNCEMENT🎉That Anasazi-inspired epic f...\n",
       "5                           😂😂😂 you shoulda got footage\n",
       "6                              :   happy birthday!!!🎉🎂🎁\n",
       "8         I just had to know that 💩 look sus as hell 😂😂\n",
       "9                                  Absolute class 👍 👍 👍\n",
       "10    The CW officially renewed Supernatural! There’...\n",
       "Name: tweet, dtype: object"
      ]
     },
     "execution_count": 355,
     "metadata": {},
     "output_type": "execute_result"
    }
   ],
   "source": [
    "# remove http:// and https://\n",
    "df1['tweet'] = df1['tweet'].str.replace(r'https?://[a-zA-Z0-9/\\.]*', ' ')\n",
    "print(df1['tweet'].str.count(r'https://[a-zA-Z0-9_]*').sum())\n",
    "df1.tweet.head(10)"
   ]
  },
  {
   "cell_type": "code",
   "execution_count": 356,
   "metadata": {},
   "outputs": [
    {
     "data": {
      "text/plain": [
       "0              FOLLOWERS                    Chu Maki...\n",
       "1       My nieces and nephews were young  so it was ...\n",
       "2                                     Happy Birthday   \n",
       "3          Me  I never get a chance to watch it live   \n",
       "4          ANNOUNCEMENT That Anasazi inspired epic f...\n",
       "5                               you shoulda got footage\n",
       "6                                  happy birthday      \n",
       "8         I just had to know that   look sus as hell   \n",
       "9                                  Absolute class      \n",
       "10    The CW officially renewed Supernatural  There ...\n",
       "Name: tweet, dtype: object"
      ]
     },
     "execution_count": 356,
     "metadata": {},
     "output_type": "execute_result"
    }
   ],
   "source": [
    "# I decide to remove all non alphanumeric characters\n",
    "df1['tweet']= df1['tweet'].str.replace(r'[a-zA-Z]*\\'[a-zA-Z]*','')\n",
    "df1['tweet']= df1['tweet'].str.replace(r'\\d+[a-zA-Z]{,2}',' ')\n",
    "df1['tweet']= df1['tweet'].str.replace(r'[^a-zA-Z]',' ')\n",
    "df1.tweet.head(10)"
   ]
  },
  {
   "cell_type": "code",
   "execution_count": 357,
   "metadata": {},
   "outputs": [
    {
     "data": {
      "text/html": [
       "<div>\n",
       "<style scoped>\n",
       "    .dataframe tbody tr th:only-of-type {\n",
       "        vertical-align: middle;\n",
       "    }\n",
       "\n",
       "    .dataframe tbody tr th {\n",
       "        vertical-align: top;\n",
       "    }\n",
       "\n",
       "    .dataframe thead th {\n",
       "        text-align: right;\n",
       "    }\n",
       "</style>\n",
       "<table border=\"1\" class=\"dataframe\">\n",
       "  <thead>\n",
       "    <tr style=\"text-align: right;\">\n",
       "      <th></th>\n",
       "      <th>tweet</th>\n",
       "      <th>label</th>\n",
       "    </tr>\n",
       "  </thead>\n",
       "  <tbody>\n",
       "    <tr>\n",
       "      <th>0</th>\n",
       "      <td>FOLLOWERS                    Chu Maki...</td>\n",
       "      <td>3</td>\n",
       "    </tr>\n",
       "    <tr>\n",
       "      <th>1</th>\n",
       "      <td>My nieces and nephews were young  so it was ...</td>\n",
       "      <td>1</td>\n",
       "    </tr>\n",
       "    <tr>\n",
       "      <th>2</th>\n",
       "      <td>Happy Birthday</td>\n",
       "      <td>2</td>\n",
       "    </tr>\n",
       "    <tr>\n",
       "      <th>3</th>\n",
       "      <td>Me  I never get a chance to watch it live</td>\n",
       "      <td>1</td>\n",
       "    </tr>\n",
       "    <tr>\n",
       "      <th>4</th>\n",
       "      <td>ANNOUNCEMENT That Anasazi inspired epic f...</td>\n",
       "      <td>2</td>\n",
       "    </tr>\n",
       "    <tr>\n",
       "      <th>5</th>\n",
       "      <td>you shoulda got footage</td>\n",
       "      <td>0</td>\n",
       "    </tr>\n",
       "    <tr>\n",
       "      <th>6</th>\n",
       "      <td>happy birthday</td>\n",
       "      <td>2</td>\n",
       "    </tr>\n",
       "    <tr>\n",
       "      <th>8</th>\n",
       "      <td>I just had to know that   look sus as hell</td>\n",
       "      <td>4</td>\n",
       "    </tr>\n",
       "    <tr>\n",
       "      <th>9</th>\n",
       "      <td>Absolute class</td>\n",
       "      <td>3</td>\n",
       "    </tr>\n",
       "    <tr>\n",
       "      <th>10</th>\n",
       "      <td>The CW officially renewed Supernatural  There ...</td>\n",
       "      <td>2</td>\n",
       "    </tr>\n",
       "  </tbody>\n",
       "</table>\n",
       "</div>"
      ],
      "text/plain": [
       "                                                tweet label\n",
       "0            FOLLOWERS                    Chu Maki...     3\n",
       "1     My nieces and nephews were young  so it was ...     1\n",
       "2                                   Happy Birthday        2\n",
       "3        Me  I never get a chance to watch it live        1\n",
       "4        ANNOUNCEMENT That Anasazi inspired epic f...     2\n",
       "5                             you shoulda got footage     0\n",
       "6                                happy birthday           2\n",
       "8       I just had to know that   look sus as hell        4\n",
       "9                                Absolute class           3\n",
       "10  The CW officially renewed Supernatural  There ...     2"
      ]
     },
     "execution_count": 357,
     "metadata": {},
     "output_type": "execute_result"
    }
   ],
   "source": [
    "# remove emoji\n",
    "\n",
    "# https://stackoverflow.com/questions/33404752/removing-emojis-from-a-string-in-python\n",
    "pattern = \"[\"u\"\\U0001F600-\\U0001F64F\"u\"\\U0001F300-\\U0001F5FF\"u\"\\U0001F680-\\U0001F6FF\"u\"\\U0001F1E0-\\U0001F1FF\"\"]+\"\n",
    "df1['tweet']= df1['tweet'].str.replace(pattern,' ')"
   ]
  },
  {
   "cell_type": "code",
   "execution_count": 358,
   "metadata": {},
   "outputs": [
    {
     "data": {
      "text/plain": [
       "0              followers                    chu maki...\n",
       "1       my nieces and nephews were young  so it was ...\n",
       "2                                     happy birthday   \n",
       "3          me  i never get a chance to watch it live   \n",
       "4          announcement that anasazi inspired epic f...\n",
       "5                               you shoulda got footage\n",
       "6                                  happy birthday      \n",
       "8         i just had to know that   look sus as hell   \n",
       "9                                  absolute class      \n",
       "10    the cw officially renewed supernatural  there ...\n",
       "Name: tweet, dtype: object"
      ]
     },
     "execution_count": 358,
     "metadata": {},
     "output_type": "execute_result"
    }
   ],
   "source": [
    "# convert to lowercase\n",
    "\n",
    "df1['tweet']= df1['tweet'].str.lower()\n",
    "df1.tweet.head(10)"
   ]
  },
  {
   "cell_type": "code",
   "execution_count": 359,
   "metadata": {},
   "outputs": [
    {
     "data": {
      "text/plain": [
       "0    followers chu makina yui thank you guys so muc...\n",
       "1    my nieces and nephews were young so it was my ...\n",
       "2                                       happy birthday\n",
       "3             me i never get a chance to watch it live\n",
       "4    announcement that anasazi inspired epic fantas...\n",
       "Name: tweet, dtype: object"
      ]
     },
     "execution_count": 359,
     "metadata": {},
     "output_type": "execute_result"
    }
   ],
   "source": [
    "# remove extra white space characters\n",
    "\n",
    "df1['tweet'] = df1['tweet'].apply(lambda x: ' '.join(x.split()))\n",
    "df1['tweet'].head()"
   ]
  },
  {
   "cell_type": "code",
   "execution_count": 237,
   "metadata": {},
   "outputs": [
    {
     "name": "stdout",
     "output_type": "stream",
     "text": [
      "RT @mozilla: Twenty years! 🎂 🎉\n",
      "\n",
      "It’s been two decades since we first logged on as the Mozilla project and got started bringing together the… \n",
      " twenty years it s been two decades since we first logged on as the mozilla project and got started bringing together the \n",
      " LABEL=  2\n"
     ]
    }
   ],
   "source": [
    "idx = 99\n",
    "print(df_raw.tweet[idx],'\\n',df1.tweet[idx], '\\n','LABEL= ',df1.label[idx])"
   ]
  },
  {
   "cell_type": "code",
   "execution_count": 272,
   "metadata": {},
   "outputs": [
    {
     "name": "stdout",
     "output_type": "stream",
     "text": [
      "['😂', '😀', '🎉', '👍', '💩']\n"
     ]
    },
    {
     "data": {
      "text/html": [
       "<div>\n",
       "<style scoped>\n",
       "    .dataframe tbody tr th:only-of-type {\n",
       "        vertical-align: middle;\n",
       "    }\n",
       "\n",
       "    .dataframe tbody tr th {\n",
       "        vertical-align: top;\n",
       "    }\n",
       "\n",
       "    .dataframe thead th {\n",
       "        text-align: right;\n",
       "    }\n",
       "</style>\n",
       "<table border=\"1\" class=\"dataframe\">\n",
       "  <thead>\n",
       "    <tr style=\"text-align: right;\">\n",
       "      <th></th>\n",
       "      <th>tweet</th>\n",
       "      <th>label</th>\n",
       "      <th>emoji</th>\n",
       "    </tr>\n",
       "  </thead>\n",
       "  <tbody>\n",
       "    <tr>\n",
       "      <th>0</th>\n",
       "      <td>k followers chu makina yui thank you guys so m...</td>\n",
       "      <td>3</td>\n",
       "      <td>👍</td>\n",
       "    </tr>\n",
       "    <tr>\n",
       "      <th>1</th>\n",
       "      <td>my nieces and nephews were young so it was my ...</td>\n",
       "      <td>1</td>\n",
       "      <td>😀</td>\n",
       "    </tr>\n",
       "    <tr>\n",
       "      <th>2</th>\n",
       "      <td>happy birthday</td>\n",
       "      <td>2</td>\n",
       "      <td>🎉</td>\n",
       "    </tr>\n",
       "    <tr>\n",
       "      <th>3</th>\n",
       "      <td>me i never get a chance to watch it live</td>\n",
       "      <td>1</td>\n",
       "      <td>😀</td>\n",
       "    </tr>\n",
       "    <tr>\n",
       "      <th>4</th>\n",
       "      <td>announcement that anasazi inspired epic fantas...</td>\n",
       "      <td>2</td>\n",
       "      <td>🎉</td>\n",
       "    </tr>\n",
       "  </tbody>\n",
       "</table>\n",
       "</div>"
      ],
      "text/plain": [
       "                                               tweet label emoji\n",
       "0  k followers chu makina yui thank you guys so m...     3     👍\n",
       "1  my nieces and nephews were young so it was my ...     1     😀\n",
       "2                                     happy birthday     2     🎉\n",
       "3           me i never get a chance to watch it live     1     😀\n",
       "4  announcement that anasazi inspired epic fantas...     2     🎉"
      ]
     },
     "execution_count": 272,
     "metadata": {},
     "output_type": "execute_result"
    }
   ],
   "source": [
    "query = [u\"\\U0001F602\",u\"\\U0001F600\",u\"\\U0001F389\",u\"\\U0001F44D\",u\"\\U0001F4A9\"]\n",
    "print(query)\n",
    "df1['emoji'] = df1['label'].apply(lambda i: query[int(i)])\n",
    "df1.head()"
   ]
  },
  {
   "cell_type": "code",
   "execution_count": 348,
   "metadata": {},
   "outputs": [],
   "source": [
    "df1['tweet'] = df_raw['tweet'].apply(lambda x: ' '.join(x.split()))"
   ]
  },
  {
   "cell_type": "code",
   "execution_count": 342,
   "metadata": {},
   "outputs": [],
   "source": [
    "df1['label'] = df1['label'].apply(lambda i: int(i))"
   ]
  },
  {
   "cell_type": "code",
   "execution_count": 13,
   "metadata": {},
   "outputs": [
    {
     "name": "stdout",
     "output_type": "stream",
     "text": [
      "                                               tweet  label\n",
      "0  followers chu makina yui thank you guys so muc...      3\n",
      "1  my nieces and nephews were young so it was my ...      1\n",
      "3           me i never get a chance to watch it live      1\n",
      "4  announcement that anasazi inspired epic fantas...      2\n",
      "5                            you shoulda got footage      0\n"
     ]
    }
   ],
   "source": [
    "# combine all together\n",
    "\n",
    "def preprocessing(df):\n",
    "    df1 = df.copy()\n",
    "    df1['tweet'] = df1['tweet'].str.replace(r'^ *RT ', ' ')\n",
    "    df1['tweet'] = df1['tweet'].str.replace(r'@[a-zA-Z0-9_]+', ' ')\n",
    "    #df1['tweet'] = df1['tweet'].str.replace(r'#\\S*', ' ')\n",
    "    df1['tweet'] = df1['tweet'].str.replace(r'https?://[a-zA-Z0-9/\\.]*', ' ')\n",
    "    df1['tweet']= df1['tweet'].str.replace(r'[a-zA-Z]*\\'[a-zA-Z]*','')\n",
    "    df1['tweet']= df1['tweet'].str.replace(r'\\d+[a-zA-Z]{,2}',' ')\n",
    "    df1['tweet']= df1['tweet'].str.replace(r'[^a-zA-Z]',' ')\n",
    "    pattern = \"[\"u\"\\U0001F600-\\U0001F64F\"u\"\\U0001F300-\\U0001F5FF\"u\"\\U0001F680-\\U0001F6FF\"u\"\\U0001F1E0-\\U0001F1FF\"\"]+\"\n",
    "    df1['tweet']= df1['tweet'].str.replace(pattern,' ')\n",
    "    df1['tweet']= df1['tweet'].str.lower()\n",
    "    df1['tweet'] = df1['tweet'].apply(lambda x: ' '.join(x.split()))\n",
    "    df1['tweet'] = df1['tweet'].apply(lambda x: x.strip())\n",
    "    #df1 = df1.iloc[:,:][len(df1['tweet'])==0]    \n",
    "    df1['label'] = df1['label'].apply(lambda i: int(i))\n",
    "    df1 = df1.drop_duplicates(['tweet'],keep=False)\n",
    "    df1 = df1[df1.notnull().tweet]\n",
    "    return df1\n",
    "\n",
    "df1 = preprocessing(df)\n",
    "print(df1.head())\n"
   ]
  },
  {
   "cell_type": "code",
   "execution_count": 35,
   "metadata": {},
   "outputs": [],
   "source": [
    "df1 = df1[df1.notnull().tweet]\n",
    "df1.to_csv('./inputs/emoji_hashtag.csv',index=False)"
   ]
  },
  {
   "cell_type": "markdown",
   "metadata": {},
   "source": [
    "## 4 - Model"
   ]
  },
  {
   "cell_type": "markdown",
   "metadata": {},
   "source": [
    "There are many ways to represent text with numerical values. First I will use `CountVectorizer` and `TfidfVectorizer` which are based on the frequency of appearance of words. In Neural Network, I will turn to `Word2Vec` embedding, which dig into the meaning of words rather than pure word counting."
   ]
  },
  {
   "cell_type": "code",
   "execution_count": 4,
   "metadata": {},
   "outputs": [
    {
     "data": {
      "text/html": [
       "<div>\n",
       "<style scoped>\n",
       "    .dataframe tbody tr th:only-of-type {\n",
       "        vertical-align: middle;\n",
       "    }\n",
       "\n",
       "    .dataframe tbody tr th {\n",
       "        vertical-align: top;\n",
       "    }\n",
       "\n",
       "    .dataframe thead th {\n",
       "        text-align: right;\n",
       "    }\n",
       "</style>\n",
       "<table border=\"1\" class=\"dataframe\">\n",
       "  <thead>\n",
       "    <tr style=\"text-align: right;\">\n",
       "      <th></th>\n",
       "      <th>tweet</th>\n",
       "      <th>label</th>\n",
       "    </tr>\n",
       "  </thead>\n",
       "  <tbody>\n",
       "    <tr>\n",
       "      <th>0</th>\n",
       "      <td>followers chu makina yui thank you guys so muc...</td>\n",
       "      <td>3</td>\n",
       "    </tr>\n",
       "    <tr>\n",
       "      <th>1</th>\n",
       "      <td>my nieces and nephews were young so it was my ...</td>\n",
       "      <td>1</td>\n",
       "    </tr>\n",
       "    <tr>\n",
       "      <th>2</th>\n",
       "      <td>me i never get a chance to watch it live</td>\n",
       "      <td>1</td>\n",
       "    </tr>\n",
       "    <tr>\n",
       "      <th>3</th>\n",
       "      <td>announcement that anasazi inspired epic fantas...</td>\n",
       "      <td>2</td>\n",
       "    </tr>\n",
       "    <tr>\n",
       "      <th>4</th>\n",
       "      <td>you shoulda got footage</td>\n",
       "      <td>0</td>\n",
       "    </tr>\n",
       "  </tbody>\n",
       "</table>\n",
       "</div>"
      ],
      "text/plain": [
       "                                               tweet  label\n",
       "0  followers chu makina yui thank you guys so muc...      3\n",
       "1  my nieces and nephews were young so it was my ...      1\n",
       "2           me i never get a chance to watch it live      1\n",
       "3  announcement that anasazi inspired epic fantas...      2\n",
       "4                            you shoulda got footage      0"
      ]
     },
     "execution_count": 4,
     "metadata": {},
     "output_type": "execute_result"
    }
   ],
   "source": [
    "df1 = pd.read_csv('./inputs/emoji_hashtag.csv')\n",
    "df1.head()"
   ]
  },
  {
   "cell_type": "code",
   "execution_count": 5,
   "metadata": {},
   "outputs": [
    {
     "data": {
      "text/plain": [
       "False    6229\n",
       "Name: tweet, dtype: int64"
      ]
     },
     "execution_count": 5,
     "metadata": {},
     "output_type": "execute_result"
    }
   ],
   "source": [
    "df1.isnull().tweet.value_counts()"
   ]
  },
  {
   "cell_type": "code",
   "execution_count": 6,
   "metadata": {},
   "outputs": [
    {
     "data": {
      "text/plain": [
       "(4983, 2)"
      ]
     },
     "execution_count": 6,
     "metadata": {},
     "output_type": "execute_result"
    }
   ],
   "source": [
    "# train test split\n",
    "from sklearn.model_selection import train_test_split\n",
    "train, test = train_test_split(df1,test_size=0.2,random_state=99)\n",
    "train.shape"
   ]
  },
  {
   "cell_type": "code",
   "execution_count": 7,
   "metadata": {},
   "outputs": [],
   "source": [
    "trainX, trainY = train['tweet'], train['label']\n",
    "testX, testY = test['tweet'], test['label']"
   ]
  },
  {
   "cell_type": "code",
   "execution_count": 8,
   "metadata": {
    "scrolled": true
   },
   "outputs": [
    {
     "name": "stdout",
     "output_type": "stream",
     "text": [
      "in training set:\n",
      " 0    0.258077\n",
      "4    0.224363\n",
      "1    0.205097\n",
      "3    0.170179\n",
      "2    0.142284\n",
      "Name: label, dtype: float64\n",
      "in testing set:\n",
      " 0    0.252809\n",
      "4    0.210273\n",
      "1    0.206260\n",
      "3    0.179775\n",
      "2    0.150883\n",
      "Name: label, dtype: float64\n"
     ]
    }
   ],
   "source": [
    "# check the distribution, should have been shuffled\n",
    "\n",
    "print('in training set:\\n',trainY.value_counts(normalize=True))\n",
    "print('in testing set:\\n',testY.value_counts(normalize=True))"
   ]
  },
  {
   "cell_type": "markdown",
   "metadata": {},
   "source": [
    "### 4.1 - kNN"
   ]
  },
  {
   "cell_type": "markdown",
   "metadata": {},
   "source": [
    "In this subsection, I will use TF-IDF to implement a kNN alogrithm for our text classification, as introduced in [Procedia Engineering 69 (2014) 1356](https://www.sciencedirect.com/science/article/pii/S1877705814003750)."
   ]
  },
  {
   "cell_type": "code",
   "execution_count": 9,
   "metadata": {},
   "outputs": [],
   "source": [
    "from sklearn.neighbors import KNeighborsClassifier\n",
    "from sklearn.model_selection import cross_val_score\n",
    "from sklearn.feature_extraction.text import TfidfVectorizer\n",
    "from sklearn.metrics import accuracy_score,classification_report,confusion_matrix,mean_squared_error"
   ]
  },
  {
   "cell_type": "code",
   "execution_count": 10,
   "metadata": {},
   "outputs": [],
   "source": [
    "vect = TfidfVectorizer(\n",
    "#                ngram_range = (1,4),\n",
    "                stop_words = 'english',\n",
    "                smooth_idf = 1,\n",
    "                max_features = 1000\n",
    "            )\n",
    "\n",
    "# sparse matrix for NB Classifier\n",
    "train_matrix = vect.fit_transform(trainX)\n",
    "test_matrix = vect.transform(testX)"
   ]
  },
  {
   "cell_type": "code",
   "execution_count": 11,
   "metadata": {},
   "outputs": [
    {
     "name": "stdout",
     "output_type": "stream",
     "text": [
      "The type of vect is:  <class 'dict'> \n",
      " the size of the corpus is:  1000 \n",
      " the size of the stop words is:  7287 \n",
      " The stop words include:\n",
      " {'mfc', 'including', 'lake', 'ch', 'bihh', 'extended', 'candidate', 'pot', 'passion', 'worlds', 'offfffff', 'leftist', 'vit', 'preaching', 'cou', 'desiigner', 'bta', 'philly', 'regina', 'lessons', 'alternate', 'illustrates', 'known', 'wyd', 'smoking', 'bezoz', 'disunomics', 'grats', 'perkins', 'tcrwp', 'happin', 'mortar', 'persona', 'mashup', 'quiz', 'ben', 'steven', 'button', 'officials', 'varchie', 'nickel', 'dressed', 'endless', 'study', 'emoji', 'trumps', 'yaaaaaaaasssss', 'europeforc', 'scream', 'destined', 'eggs', 'nnly', 'ava', 'deleted', 'leaders', 'changes', 'consortium', 'convenient', 'dementia', 'puss', 'september', 'movle', 'yorker', 'goldberg', 'conormcgregor', 'iniesta', 'teddy', 'abv', 'erm', 'lack', 'yesss', 'fossil', 'power', 'phool', 'liverpool', 'mania', 'tu', 'thee', 'rhode', 'moss', 'sheesh', 'cuban', 'ca', 'applaud', 'photocard', 'costumes', 'amigas', 'presenting', 'kwanu', 'shred', 'guessing', 'wnbr', 'plays', 'bleach', 'split', 'comical', 'sight', 'xhosa', 'wrestling', 'cheap', 'grab', 'alw', 'greatness', 'haz', 'outreach', 'model', 'lipped', 'completely', 'outlook', 'catmys', 'hips', 'las', 'legooooo', 'society', 'realist', 'wooow', 'weatherfield', 'identity', 'arabian', 'jeffree', 'hurrayy', 'punk', 'anizi', 'loose', 'cheer', 'doh', 'slight', 'badlands', 'elder', 'doom', 'edgar', 'donthecon', 'dissed', 'graphic', 'nebula', 'duu', 'ho', 'potna', 'mil', 'zoetropic', 'missworldbahamas', 'sippin', 'mia', 'vise', 'offended', 'downtown', 'raped', 'wodumo', 'duplicitous', 'pain', 'isibaya', 'bounce', 'dang', 'farris', 'leafs', 'nikki', 'wallet', 'hs', 'mueller', 'ti', 'dgaf', 'resign', 'justlikeyoustreamingparty', 'lptx', 'confused', 'qotd', 'elected', 'segment', 'advance', 'servant', 'umpire', 'labone', 'barely', 'elle', 'diet', 'smarter', 'challenges', 'mud', 'ewwww', 'pad', 'awh', 'penis', 'yum', 'bailed', 'submitted', 'perfection', 'japan', 'sunset', 'mix', 'swahili', 'duffle', 'microchipped', 'chr', 'initial', 'males', 'realised', 'ambassadors', 'aaron', 'pk', 'added', 'expecting', 'walsh', 'incredibly', 'newelection', 'ucsb', 'bunting', 'overprotective', 'amazo', 'trap', 'sake', 'comingsoon', 'popularity', 'kronos', 'rooted', 'stormi', 'style', 'wherewithal', 'dread', 'fooled', 'horsfield', 'mrandmrslewis', 'hahahha', 'tattoo', 'travel', 'digital', 'kansas', 'rightdown', 'gf', 'net', 'slots', 'kidi', 'timcook', 'indiedevhour', 'cinth', 'fiesta', 'assetintegrity', 'soap', 'tae', 'boybandph', 'stfu', 'demands', 'fing', 'btsarmy', 'awanbrothers', 'viewing', 'gyampo', 'merchandise', 'orangebuffon', 'dancing', 'gwe', 'slapping', 'advocacy', 'provocations', 'machine', 'itsgoingtobeamightymoveofgod', 'likely', 'mentally', 'oklahoma', 'commercials', 'zoocci', 'deadline', 'gitum', 'tubes', 'demanding', 'bested', 'chapter', 'woooooow', 'doooood', 'enderguy', 'mami', 'yaw', 'hh', 'collect', 'arriving', 'prize', 'progressives', 'arse', 'scope', 'evangelicals', 'mairead', 'assure', 'warm', 'ssaamu', 'voltron', 'bruce', 'fest', 'amazingly', 'attacking', 'chileeeeee', 'chips', 'yellowknife', 'justicerising', 'propagandas', 'cuppa', 'tetley', 'src', 'dnc', 'beth', 'pike', 'rag', 'opera', 'festival', 'thousand', 'jared', 'rawthursday', 'hpmm', 'program', 'apologies', 'jawn', 'birthdaaay', 'protect', 'prunes', 'khan', 'hotlight', 'involved', 'vosho', 'yer', 'pruitt', 'manheim', 'audrey', 'yeaaaaahhh', 'stamp', 'crackdown', 'challenge', 'screenshotsaturday', 'learnlap', 'hosted', 'fashion', 'swimming', 'tp', 'directly', 'watches', 'united', 'cody', 'forevs', 'buying', 'krabby', 'secure', 'ofhejdjwksvd', 'whoo', 'sheener', 'marines', 'vlog', 'somethings', 'phora', 'porto', 'hodl', 'gawd', 'challengerbaseball', 'shoreline', 'compliment', 'entrapment', 'jeffbron', 'assured', 'lockscreens', 'precious', 'syd', 'santana', 'eastern', 'votenana', 'ummmm', 'hugest', 'worrying', 'wiff', 'nut', 'seaotters', 'georgegroves', 'formativechat', 'diamonds', 'waterfalls', 'auction', 'humansofbarangay', 'patience', 'kingof', 'cycling', 'alumni', 'happyeaster', 'teamaries', 'ahhhhh', 'explanation', 'speak', 'stands', 'dcth', 'ttg', 'bam', 'leopards', 'miu', 'brotha', 'chloe', 'digest', 'hattiesburg', 'selfish', 'wethepeople', 'dodging', 'traffic', 'badge', 'peak', 'frem', 'bihhh', 'bestie', 'sos', 'chilllllll', 'chin', 'trauma', 'tiffany', 'rehabilitation', 'ooty', 'joseph', 'itni', 'practical', 'adventure', 'india', 'detroit', 'killer', 'flu', 'destruction', 'tribe', 'bopping', 'ward', 'direct', 'carl', 'misrepresentation', 'proactive', 'gr', 'shatner', 'gutter', 'kentucky', 'paddy', 'vid', 'feather', 'ending', 'carnafunk', 'alien', 'test', 'patients', 'yoga', 'amazon', 'choose', 'succesfuul', 'magatrash', 'wannaoneipucom', 'bleep', 'oficial', 'vietnam', 'istrending', 'godblessamerica', 'pretending', 'chicago', 'dogdad', 'ehhhh', 'changmin', 'launch', 'happybirthdayparkjungmin', 'crisis', 'poll', 'transfer', 'pcgaming', 'deadd', 'paypal', 'rm', 'sugars', 'corny', 'gran', 'shackalaka', 'typhoon', 'asses', 'skyler', 'teaching', 'ss', 'childhood', 'heartless', 'prom', 'asks', 'wearepartofbangtan', 'climb', 'greatamericancookies', 'nearest', 'firewood', 'unending', 'katia', 'naked', 'batman', 'sims', 'bone', 'sniper', 'freshen', 'puncture', 'johnston', 'iwaly', 'monsta', 'shallow', 'monkey', 'hrs', 'bunghole', 'bandana', 'bbq', 'mysteryweek', 'princes', 'senses', 'image', 'piles', 'flush', 'shawt', 'daim', 'bullpen', 'ballgame', 'djt', 'sk', 'spouce', 'befriending', 'pete', 'wtftumi', 'training', 'mma', 'nearly', 'madonna', 'near', 'rad', 'bashme', 'claims', 'scamcoin', 'depressed', 'groove', 'statesman', 'hanna', 'kate', 'lovemylife', 'bnai', 'kcker', 'pals', 'homecoming', 'needless', 'pressures', 'wrap', 'meer', 'brian', 'brownsville', 'core', 'buffalo', 'underwear', 'delicate', 'victims', 'cee', 'figured', 'yr', 'openly', 'reminds', 'stockmarket', 'inflammatory', 'surrender', 'goober', 'accent', 'conner', 'adnauseum', 'bestfriends', 'lush', 'worldautismawarenessday', 'plunger', 'anxiety', 'thekingsavatar', 'bradford', 'pledging', 'comme', 'heals', 'heterosexual', 'theisland', 'theories', 'creat', 'connections', 'stillstandingchallenge', 'dj', 'kirsten', 'sell', 'breeches', 'peeps', 'balling', 'starring', 'ure', 'script', 'chale', 'douglamalfa', 'chapters', 'vids', 'robron', 'luckily', 'neta', 'wise', 'quickly', 'platinum', 'evenly', 'certified', 'fi', 'movement', 'ronnieeeee', 'trail', 'hardy', 'skills', 'cryptocurrency', 'arrive', 'kean', 'kevin', 'despised', 'peeing', 'ancestors', 'whistle', 'host', 'vinyl', 'repugnican', 'characters', 'flex', 'distraction', 'striptease', 'ajay', 'ov', 'hiking', 'champion', 'mong', 'youu', 'commandments', 'ugh', 'mena', 'miraculous', 'fade', 'wisdom', 'zero', 'steve', 'fold', 'prove', 'intense', 'sayhi', 'namjoon', 'color', 'southernprobs', 'newgtlds', 'mines', 'packed', 'instantaneous', 'wag', 'mikelindell', 'allways', 'cof', 'pat', 'exempt', 'youth', 'painting', 'changkyun', 'brill', 'range', 'worlddownsyndromeday', 'vibrations', 'mob', 'position', 'pensions', 'honour', 'midterm', 'dab', 'brilliance', 'laundry', 'wake', 'thanking', 'refresh', 'entered', 'individuals', 'dfsarmy', 'belong', 'obvious', 'jean', 'astro', 'insult', 'chamchas', 'trinity', 'asap', 'yaaaaas', 'geocaching', 'stays', 'sucks', 'reminding', 'hotmilf', 'racist', 'sergio', 'unsuspecting', 'chargers', 'oare', 'ii', 'profiting', 'yooo', 'sta', 'neep', 'stylish', 'entry', 'playall', 'scoring', 'stinky', 'quinte', 'finning', 'ne', 'shower', 'themiraclewemet', 'asleep', 'uc', 'dc', 'wheel', 'feliz', 'hypeman', 'lmfaooo', 'gayle', 'divorcee', 'repitiendo', 'gordon', 'thewalkingdead', 'collins', 'raging', 'fortunately', 'beginners', 'easily', 'customer', 'tobi', 'designer', 'khloe', 'estimated', 'hint', 'promisesaudi', 'kewl', 'armys', 'apprecia', 'grew', 'theorists', 'min', 'tubman', 'aye', 'baller', 'banged', 'gamedev', 'loooooool', 'certainly', 'bett', 'iamtheresistance', 'grown', 'nehru', 'jayden', 'france', 'farting', 'sho', 'fifa', 'dresses', 'products', 'supp', 'folk', 'staring', 'boycott', 'crypto', 'acrylic', 'assume', 'leyte', 'tout', 'pitch', 'naona', 'alba', 'clubs', 'victories', 'gud', 'kalan', 'privately', 'revealing', 'lofas', 'mall', 'recruiters', 'rnva', 'slightly', 'savage', 'impeachtrumpnow', 'goals', 'slimeball', 'prosecute', 'stg', 'salesforce', 'average', 'math', 'loss', 'deleting', 'bringyourmomtoo', 'rkhe', 'section', 'woooo', 'according', 'maddy', 'snopes', 'emotions', 'struggle', 'brocklesnar', 'rogue', 'podcasts', 'wirsinddiemillers', 'columbia', 'aidan', 'feign', 'moonbeam', 'websites', 'ei', 'mum', 'lmaooooooo', 'seattle', 'crisisactors', 'kobe', 'mats', 'careful', 'compelling', 'von', 'idiotic', 'shorty', 'fof', 'baking', 'ohnoihcked', 'yho', 'decades', 'seasons', 'zlatan', 'tl', 'manically', 'norfolk', 'neverever', 'jinbei', 'sea', 'washes', 'rug', 'wey', 'ldn', 'uoy', 'sniveling', 'died', 'hardly', 'keepthat', 'qaphela', 'hte', 'persistent', 'supporters', 'attendant', 'baaghi', 'virtuoso', 'bastard', 'freaking', 'budget', 'cheat', 'ba', 'motherfucker', 'mumbai', 'bcoz', 'blockch', 'achieve', 'intervention', 'cough', 'mausi', 'fernando', 'healthy', 'qin', 'kunchakobob', 'mobile', 'marked', 'groups', 'maine', 'scrape', 'dsgt', 'talks', 'bearish', 'bloom', 'butch', 'survivor', 'lasted', 'elf', 'sweep', 'riffing', 'escalates', 'starbucks', 'lee', 'holds', 'childish', 'congressional', 'strategy', 'tribute', 'restful', 'shaktiastitvakeehsaaski', 'sided', 'moved', 'sist', 'water', 'nga', 'stead', 'slower', 'shitpost', 'ooooooh', 'fucccc', 'tracy', 'survived', 'purchases', 'cillizza', 'natalieslothrichter', 'breddah', 'habby', 'dreads', 'rose', 'subscribes', 'cardi', 'toot', 'injured', 'obj', 'bmw', 'ripped', 'cambridgeanalytica', 'linkedin', 'mee', 'fighters', 'demented', 'burger', 'yankees', 'build', 'shoots', 'shearer', 'hat', 'greet', 'labor', 'explains', 'sundaymorning', 'spot', 'bandit', 'domains', 'horse', 'feet', 'studying', 'phase', 'bizimhikaye', 'radios', 'stu', 'ndlovu', 'warframe', 'cock', 'wewait', 'seohyun', 'bluetsunami', 'amine', 'tha', 'pristin', 'lincoln', 'sajjansinghrangroot', 'hurting', 'focus', 'flynn', 'issss', 'onw', 'littlebigtownfan', 'ctfu', 'prayed', 'dhulan', 'solid', 'ruled', 'roseanneonabc', 'knife', 'screen', 'featureme', 'colin', 'misjudged', 'pizza', 'whaaar', 'moyy', 'fish', 'talent', 'iracing', 'toobin', 'thi', 'stoopid', 'entries', 'fbr', 'drawlin', 'beg', 'immigrants', 'jersey', 'sleazy', 'discovery', 'instagram', 'bands', 'brace', 'airwaves', 'en', 'nationwide', 'camp', 'boring', 'starbuckscoffee', 'situations', 'ay', 'muthafuckin', 'lyft', 'showers', 'id', 'sales', 'haw', 'upppppp', 'eww', 'musgraves', 'wherewi', 'iminthere', 'opportunity', 'fault', 'kalinga', 'che', 'cked', 'allies', 'dailylifedrawing', 'colada', 'november', 'renovated', 'teamrico', 'holding', 'adams', 'ordinary', 'chip', 'planner', 'girllll', 'hyped', 'bets', 'scrub', 'gorce', 'building', 'magician', 'proc', 'offensively', 'rolodex', 'minerals', 'twat', 'wifi', 'poured', 'swifta', 'bundle', 'boeing', 'sec', 'oooo', 'tonys', 'dollyfox', 'felices', 'comic', 'stability', 'liarinchief', 'falk', 'parkjungmin', 'amirite', 'fired', 'providence', 'dragon', 'planned', 'saudi', 'rival', 'ave', 'closed', 'portuguese', 'uhm', 'accountantable', 'sooon', 'throat', 'pubfun', 'destroys', 'certain', 'welp', 'festivities', 'awaiting', 'nephews', 'parscale', 'gea', 'otw', 'mccarran', 'calipers', 'semi', 'fuckin', 'passed', 'enuf', 'traded', 'birthdays', 'wander', 'moylanbrothers', 'furious', 'welly', 'coolest', 'lookgot', 'cellent', 'cumplea', 'judge', 'kisses', 'punch', 'snaps', 'disagree', 'fridaymood', 'pastors', 'os', 'larrywahl', 'cici', 'gti', 'traitor', 'lvl', 'latino', 'letz', 'consecutive', 'imma', 'jahhhhhh', 'yaaaa', 'choni', 'owe', 'ftm', 'george', 'sooty', 'cheese', 'sailed', 'wht', 'mxm', 'calif', 'daus', 'owned', 'complimented', 'tendulkar', 'badasses', 'prosecco', 'defence', 'thequeen', 'insert', 'alliance', 'strength', 'superb', 'tight', 'destroy', 'shahid', 'windows', 'indiegame', 'tooooooot', 'hickey', 'english', 'anderson', 'ruth', 'lunatic', 'simples', 'follows', 'captured', 'tech', 'modii', 'doo', 'roommates', 'shift', 'writes', 'retweeting', 'theriver', 'favorited', 'teamtom', 'behavior', 'canals', 'betty', 'xitsonga', 'vilardi', 'goood', 'commissions', 'musky', 'legendary', 'warrant', 'cellphone', 'negative', 'degrees', 'implore', 'liveme', 'pdp', 'guitar', 'annual', 'fashions', 'edge', 'petitions', 'thinks', 'christians', 'darling', 'snatches', 'registration', 'priests', 'lips', 'rai', 'hendrix', 'snatched', 'puro', 'rooftops', 'eyesonmark', 'corporate', 'rhyme', 'updated', 'daz', 'discuss', 'happybirthday', 'netflix', 'meses', 'purpose', 'alden', 'trespassing', 'servers', 'chu', 'privilege', 'horan', 'sheetdong', 'granting', 'thiscountry', 'cosmos', 'grace', 'yanks', 'agregenme', 'nullll', 'chittar', 'lightning', 'doodlebob', 'exist', 'thug', 'ran', 'tiny', 'dreaming', 'icon', 'tee', 'remove', 'illustrated', 'globalists', 'coupon', 'hewitt', 'filiz', 'tongue', 'october', 'zackksterr', 'girllllll', 'stopper', 'bones', 'fell', 'wittier', 'ers', 'cursing', 'nomad', 'responsible', 'astute', 'projet', 'convinced', 'alan', 'omggggg', 'emmerdale', 'lawd', 'evolve', 'tripping', 'seuss', 'periscope', 'cover', 'pockets', 'hysterical', 'counting', 'hated', 'shook', 'sites', 'dice', 'beginning', 'arsehole', 'clock', 'clown', 'importantly', 'booked', 'treloar', 'almighty', 'headfirst', 'yir', 'yaaaay', 'kitchen', 'toady', 'participate', 'inspirational', 'anstruther', 'survive', 'boise', 'pushing', 'tekashi', 'defense', 'costing', 'conae', 'bucks', 'babes', 'sara', 'sprszn', 'spanky', 'fights', 'diy', 'peta', 'slammed', 'scoop', 'wasting', 'acid', 'deceased', 'fortune', 'sink', 'worm', 'bits', 'hates', 'judy', 'jams', 'gi', 'linjani', 'lemme', 'impress', 'journalism', 'reachout', 'gameofthrones', 'rsl', 'broda', 'beds', 'peso', 'efforts', 'hypocrite', 'wrath', 'photos', 'dawn', 'pokemon', 'kisse', 'soupy', 'pretended', 'spaceghostpurrp', 'hardcore', 'reylo', 'diggg', 'ppap', 'thelionguard', 'clash', 'alm', 'yasssss', 'scolding', 'professional', 'guarantee', 'seeking', 'singing', 'poetic', 'version', 'fc', 'belying', 'shits', 'twinning', 'donation', 'swapped', 'gostou', 'princess', 'sinclairstrike', 'gong', 'curve', 'ladies', 'mood', 'soundtracks', 'heeed', 'dontforgetthedollarsign', 'hands', 'humor', 'uglyyy', 'balls', 'fucker', 'sendbeats', 'xplornet', 'advertisement', 'battleofmoet', 'gear', 'roseanne', 'bacho', 'peep', 'aid', 'meltmein', 'sincerest', 'theheartofcaring', 'hella', 'nowadays', 'reduce', 'soproudofyoucw', 'shithead', 'secondary', 'fb', 'hyungs', 'rnwn', 'goin', 'kitkat', 'pastor', 'wrote', 'bacon', 'figure', 'blockchain', 'colluder', 'sms', 'duh', 'realraprec', 'shine', 'lively', 'soapie', 'motivated', 'pooping', 'kidixvivaband', 'awwwwwww', 'sealed', 'pu', 'marriage', 'shill', 'podcasting', 'feed', 'skies', 'allforarendang', 'breathe', 'writerslife', 'humming', 'gen', 'bag', 'soooooo', 'suit', 'simply', 'ping', 'wetter', 'vommited', 'rin', 'usher', 'attitude', 'orgy', 'erentil', 'poorest', 'patties', 'europe', 'alces', 'fandom', 'pal', 'lk', 'spams', 'guests', 'clear', 'jay', 'rainy', 'helps', 'dobbs', 'attack', 'fundraiser', 'billie', 'drunk', 'canadian', 'resources', 'broads', 'fkn', 'policing', 'zari', 'club', 'louisa', 'wbt', 'shitting', 'orientation', 'alive', 'bankholidaymonday', 'ongniel', 'winchesterforever', 'millionaire', 'inners', 'nasty', 'younger', 'thik', 'wormit', 'tricksters', 'ethereal', 'cams', 'olds', 'filecoin', 'nawaz', 'gtlive', 'wrapped', 'volatility', 'productive', 'practically', 'costume', 'sadly', 'fixed', 'approaching', 'computer', 'girlfriend', 'walifungwa', 'obamacare', 'tmgs', 'hotspot', 'honda', 'hungry', 'lucky', 'stickers', 'aha', 'whoop', 'scott', 'finest', 'escentuals', 'yoi', 'expelled', 'pickups', 'barfi', 'pirates', 'coping', 'curse', 'bes', 'classmates', 'wont', 'shoutout', 'gusto', 'tucker', 'fecesbook', 'lucas', 'hehe', 'luxxball', 'pharrah', 'msd', 'gtaphotographers', 'bf', 'bigboobs', 'conservatives', 'lads', 'proctors', 'bound', 'ryan', 'isfm', 'mentalhealth', 'urls', 'homes', 'favor', 'sweetie', 'specifically', 'plunge', 'lyk', 'churchflow', 'stucostrong', 'lien', 'jealousy', 'peop', 'travelbugsworld', 'safely', 'mcgrady', 'pddancing', 'breadsticks', 'fam', 'rds', 'tougher', 'flavor', 'dissertation', 'carpool', 'corey', 'blockbuster', 'hahahahahahah', 'zimbos', 'smith', 'newest', 'nibbles', 'serial', 'trolls', 'term', 'cheek', 'eniola', 'booooo', 'dork', 'easysnackrecipecontest', 'bible', 'hov', 'apology', 'cleaned', 'meara', 'noregretsep', 'helmet', 'disappoint', 'musik', 'pets', 'trust', 'pls', 'refill', 'theatre', 'fraud', 'oml', 'nalang', 'usou', 'irony', 'kon', 'ed', 'pina', 'intelligent', 'bodytekperks', 'jerking', 'jaguarmax', 'gitmo', 'backup', 'shall', 'officialplanb', 'salt', 'boobies', 'remain', 'facetime', 'confirm', 'blah', 'dropped', 'spanish', 'creating', 'anonymous', 'drill', 'oncology', 'democrat', 'realise', 'champ', 'slick', 'nb', 'hwangchiyeol', 'agape', 'briefly', 'nongnong', 'phones', 'revenue', 'pikachu', 'nicer', 'est', 'common', 'predator', 'punches', 'followed', 'spotify', 'omfg', 'twin', 'thinkin', 'embarassment', 'sleeping', 'yeahhhhhhh', 'worn', 'calma', 'estate', 'riding', 'breakfast', 'react', 'fansite', 'technology', 'exchange', 'twee', 'debating', 'creative', 'intelligence', 'banger', 'trumpsarmy', 'thoooo', 'betray', 'feedback', 'alert', 'kaos', 'dictionary', 'robots', 'girlboss', 'memphis', 'stopbre', 'mask', 'gord', 'condoms', 'pushin', 'noite', 'phd', 'hester', 'wilder', 'kinna', 'taken', 'worstever', 'gon', 'exam', 'permits', 'bo', 'patriotic', 'garden', 'underground', 'appliances', 'respite', 'decent', 'finds', 'germs', 'fighting', 'helped', 'resist', 'gray', 'seven', 'camgirls', 'silica', 'condo', 'shazams', 'compromised', 'basement', 'eproctophilia', 'nastyashell', 'finding', 'drew', 'rall', 'weekly', 'difference', 'wages', 'impressed', 'genewilder', 'airport', 'arsforstylishbilla', 'january', 'attached', 'gunnah', 'poison', 'ek', 'dragging', 'stairs', 'behave', 'cave', 'wheels', 'gacnorth', 'posts', 'helpful', 'thatttt', 'usual', 'shitbag', 'documents', 'outstanding', 'lilly', 'embarrassment', 'cf', 'spreading', 'lea', 'celebratory', 'gilligan', 'fowget', 'boogyman', 'bev', 'messing', 'screamers', 'nycc', 'albzzy', 'enjoyyyyy', 'guilty', 'hoes', 'solved', 'boots', 'calm', 'hughhewitt', 'disney', 'awfully', 'hamlet', 'sandwich', 'facetattoos', 'camera', 'mcm', 'brodie', 'tejas', 'max', 'delayed', 'listened', 'barking', 'jaritza', 'voices', 'grove', 'repressive', 'showdown', 'hitting', 'uw', 'ban', 'pen', 'bagszn', 'anthonydavis', 'analyzing', 'analyst', 'solo', 'compassion', 'doris', 'mural', 'locations', 'unbelievable', 'scrap', 'wash', 'kooda', 'release', 'lou', 'babeee', 'katmoonishome', 'tarts', 'supreme', 'fund', 'steffi', 'jokes', 'prob', 'boss', 'concert', 'meanti', 'crenshaw', 'idol', 'koreaaaa', 'daytime', 'confident', 'megan', 'allah', 'goodness', 'bree', 'powerful', 'tweakin', 'weallloveporn', 'olu', 'retiring', 'tools', 'squats', 'switched', 'toronto', 'medium', 'anointing', 'mo', 'tine', 'events', 'unkind', 'vile', 'mandela', 'poseidon', 'incredible', 'unusual', 'hellsing', 'vision', 'ideal', 'biggestpartyoftheyear', 'happyxiuminday', 'chache', 'plugs', 'prod', 'wouldn', 'fiend', 'cra', 'tied', 'everly', 'marvelcomics', 'jeff', 'language', 'lefty', 'pops', 'spandana', 'fullest', 'ser', 'sword', 'department', 'dealing', 'marble', 'coindrop', 'trousers', 'july', 'rabbi', 'williams', 'blender', 'themagicians', 'novel', 'aired', 'marsacrossamerica', 'apple', 'mortgage', 'themselve', 'luc', 'superman', 'consultation', 'monopoly', 'cutestmodels', 'betting', 'evidence', 'warmer', 'bullish', 'sheepdog', 'optimistic', 'horizon', 'coupta', 'rumoaopenta', 'broodal', 'faith', 'athletes', 'credence', 'chizzholm', 'ew', 'bedtime', 'barbecue', 'disrespect', 'cbx', 'gladio', 'dripping', 'gmims', 'bombs', 'planet', 'idols', 'whilst', 'opinion', 'crossover', 'pandastory', 'arrives', 'dearest', 'professor', 'eyesonyou', 'immortals', 'doyers', 'spoil', 'cherie', 'freebeats', 'employment', 'arsenal', 'shep', 'law', 'category', 'spammed', 'que', 'promo', 'vgma', 'twd', 'halftime', 'brains', 'ye', 'intimidated', 'thingspeopletaketooseriously', 'commentators', 'trek', 'unhinged', 'grades', 'adulting', 'ucsf', 'syste', 'experian', 'texter', 'senate', 'opened', 'form', 'cooking', 'regretted', 'political', 'immediate', 'trusted', 'richard', 'cincinnati', 'memory', 'colossal', 'relev', 'entertaining', 'nathanfilliongifs', 'heechul', 'swollen', 'cenosiitit', 'guetta', 'stoked', 'authority', 'leaguer', 'rom', 'cis', 'chippy', 'corru', 'wha', 'collection', 'lookin', 'tch', 'gem', 'manners', 'kung', 'walker', 'homeboy', 'letting', 'damaged', 'cancel', 'raffle', 'supercoach', 'trophy', 'orlando', 'pull', 'oohh', 'fartin', 'bonkers', 'marshall', 'celebrateallsuccesses', 'coloured', 'technically', 'flinging', 'psa', 'ronda', 'hyungwon', 'poles', 'dan', 'gotmyfaith', 'oldsex', 'beats', 'woonsocket', 'carbuncle', 'options', 'kay', 'almonte', 'chadian', 'mixtape', 'risk', 'foster', 'zuckface', 'velocity', 'centers', 'lighten', 'cracks', 'organised', 'yeahh', 'borehamsolid', 'kingsquid', 'century', 'heads', 'nails', 'guuuurrrl', 'diffently', 'rangastalam', 'babyy', 'handled', 'heh', 'revealed', 'diving', 'deport', 'handle', 'shape', 'maniacup', 'quiere', 'flight', 'arabic', 'previews', 'gunna', 'elway', 'saucy', 'sleepybitch', 'youngsta', 'rocketleague', 'expected', 'korean', 'peter', 'belive', 'meetings', 'dough', 'mountain', 'quiestion', 'soothing', 'existential', 'birds', 'op', 'kiss', 'given', 'sony', 'battalions', 'velveta', 'littlebigtown', 'toni', 'shet', 'pappu', 'lights', 'rattled', 'cash', 'capability', 'liberalism', 'embracing', 'december', 'sweetheart', 'bops', 'elhs', 'mtvbrkpopexo', 'stupidity', 'tells', 'spn', 'dogging', 'rivals', 'titan', 'ander', 'arguments', 'promises', 'supporter', 'northland', 'switch', 'moxee', 'rate', 'delete', 'barack', 'physical', 'lesson', 'period', 'milo', 'lately', 'vodu', 'constructive', 'feminazis', 'mirrors', 'enlightening', 'investigation', 'aligned', 'tennessee', 'bobby', 'clutching', 'arsofthetrust', 'accreditation', 'sinclairbroadcasting', 'lamborghini', 'mainly', 'rumours', 'friendships', 'edition', 'jis', 'cryptaldash', 'wipe', 'sparky', 'britain', 'allow', 'path', 'wor', 'ex', 'context', 'springbreak', 'daughter', 'science', 'nae', 'fart', 'benny', 'bvs', 'discovered', 'drops', 'shy', 'invasion', 'songsong', 'funnyjoke', 'bouncer', 'affidavits', 'ajatt', 'raci', 'upgrades', 'bemyself', 'minge', 'subscribers', 'dh', 'respond', 'lma', 'confuse', 'chennaisuperkings', 'statistic', 'chose', 'roads', 'ramone', 'hm', 'essex', 'written', 'align', 'jel', 'mixer', 'tasting', 'honored', 'nesma', 'clever', 'worl', 'nbalivemobile', 'bias', 'remainer', 'click', 'southern', 'kapoor', 'dung', 'tea', 'heather', 'hq', 'dedicacation', 'bandy', 'faces', 'grande', 'misprinted', 'mjiwrds', 'buttt', 'fries', 'malik', 'keyboard', 'jk', 'splash', 'lyric', 'kimmon', 'texting', 'swearing', 'dis', 'normaal', 'assaulting', 'elderflower', 'worried', 'ribena', 'renewal', 'rails', 'vips', 'dry', 'loud', 'pair', 'apartments', 'novichok', 'clip', 'ros', 'files', 'backs', 'town', 'strawberry', 'hargeysa', 'weapon', 'hmu', 'commonplace', 'meek', 'bearings', 'kyle', 'animated', 'mirror', 'ordered', 'discover', 'funky', 'survey', 'concepts', 'bitchslap', 'uhoh', 'consistent', 'diary', 'inopportune', 'goodwillhunting', 'deylon', 'foxnews', 'slandered', 'relation', 'tattooed', 'recognize', 'pads', 'center', 'spinner', 'york', 'grind', 'torch', 'godofwar', 'squids', 'fear', 'inconvenient', 'playstation', 'accessories', 'tuonela', 'guards', 'adults', 'gorges', 'lyn', 'cap', 'lowest', 'theicocleansing', 'rudi', 'knob', 'localnews', 'clinic', 'buh', 'conveniently', 'adele', 'yapping', 'dt', 'delivered', 'waterpark', 'completing', 'uncle', 'spirits', 'brooklyn', 'pst', 'tm', 'jacket', 'niceness', 'str', 'theresa', 'equals', 'custom', 'bullying', 'wong', 'type', 'cafe', 'boycottsinclairmedia', 'versa', 'fytb', 'dubious', 'cost', 'amaz', 'brrrrr', 'hes', 'jays', 'noteworthy', 'willbepoopingwithinthenexthourorso', 'char', 'winging', 'eardrums', 'tokens', 'defeated', 'china', 'signup', 'fellow', 'nil', 'pence', 'valley', 'turns', 'complain', 'comradetrump', 'cuttin', 'suggest', 'hugs', 'blogging', 'puppet', 'cha', 'differences', 'gettn', 'creator', 'raven', 'lisi', 'sars', 'theroyals', 'lent', 'harriet', 'prune', 'ap', 'wood', 'shat', 'afn', 'wk', 'posting', 'felicidades', 'gang', 'lemmee', 'coughs', 'np', 'ship', 'rico', 'yie', 'yodeling', 'gasp', 'improved', 'renews', 'monnie', 'presents', 'absolute', 'eyeshadow', 'originality', 'yelpreview', 'halloween', 'searching', 'losers', 'eminem', 'thanked', 'honorable', 'sling', 'adrian', 'write', 'vets', 'effiqass', 'smug', 'ghetto', 'lefties', 'waow', 'fastest', 'sies', 'dreading', 'johnson', 'ozzy', 'mistress', 'consist', 'earnings', 'trolling', 'buffoonery', 'sucker', 'justify', 'sauce', 'billy', 'youtubegaming', 'island', 'gpa', 'firstbroadcast', 'fbi', 'imessage', 'cartoon', 'mixture', 'contagious', 'remote', 'rings', 'prefer', 'retro', 'reactions', 'honework', 'indica', 'webcam', 'dre', 'shops', 'rep', 'meng', 'rogerstone', 'edm', 'friendsfest', 'lmfaoooo', 'mannnn', 'obligation', 'campaigning', 'product', 'birthdayboy', 'bestintheav', 'nay', 'trum', 'vest', 'boycotted', 'thevoice', 'teams', 'report', 'spelling', 'ayeee', 'rumi', 'opener', 'endorse', 'submit', 'answered', 'booty', 'role', 'jobs', 'millard', 'sarbjit', 'unexpectedly', 'dahlia', 'informative', 'bandwagon', 'psychobilly', 'providers', 'decade', 'stcos', 'ultimate', 'defaulted', 'chanyeol', 'maintenance', 'tear', 'fitted', 'methinks', 'root', 'places', 'sort', 'badboy', 'fakepresident', 'relaxing', 'bridge', 'judged', 'fo', 'sandpaper', 'loaded', 'roy', 'magnificent', 'meeting', 'gic', 'skunk', 'upload', 'nowplaying', 'nacho', 'tome', 'anthony', 'blac', 'funding', 'cw', 'famous', 'conversation', 'tree', 'cowards', 'liberalismisamentaldisorder', 'woo', 'rely', 'ronaldo', 'nuts', 'oval', 'ft', 'progressive', 'trudging', 'offense', 'thesims', 'demon', 'booze', 'states', 'quirky', 'flashbackfriday', 'racism', 'everybodyin', 'leigha', 'thoughts', 'sponsor', 'trailer', 'vast', 'equipped', 'force', 'butter', 'te', 'toyota', 'tape', 'gal', 'whys', 'reham', 'alessia', 'published', 'vijayakanth', 'dez', 'indian', 'tasha', 'forreal', 'lifeisgood', 'benefits', 'ck', 'homeless', 'impeached', 'cage', 'amber', 'winter', 'apart', 'flies', 'katelyn', 'mommas', 'reader', 'banter', 'keenum', 'danielseavey', 'refuse', 'hometovote', 'stunt', 'kristen', 'av', 'windfall', 'grumpy', 'catapult', 'coins', 'tipsy', 'martial', 'nuked', 'forecast', 'reactionary', 'cdn', 'sakes', 'trumptariffeffect', 'exclusive', 'broly', 'roxy', 'unto', 'patient', 'bottle', 'market', 'failed', 'lmaoooooooooo', 'roseannecomeback', 'geniusyonngiday', 'startsomething', 'payout', 'waves', 'racal', 'hows', 'remodsouza', 'rough', 'accepted', 'ntrsbirthdayin', 'arranged', 'hannity', 'cnbc', 'noodle', 'internetbillofrights', 'conditioning', 'communist', 'fave', 'lhhatl', 'igot', 'zee', 'amzn', 'gc', 'includ', 'barbie', 'column', 'bike', 'josh', 'elevator', 'jaspin', 'shiver', 'sabbath', 'breaking', 'brennan', 'atl', 'road', 'robert', 'finisher', 'pesticides', 'votered', 'boyfriends', 'shi', 'noticed', 'ucla', 'todd', 'selca', 'def', 'everest', 'checked', 'milly', 'raggedy', 'colorado', 'delivering', 'cambridge', 'rename', 'charm', 'pod', 'existed', 'crystal', 'bankrupt', 'ou', 'signature', 'shoppin', 'chesney', 'tvxq', 'exols', 'bitchhhhh', 'thankyou', 'miami', 'joshua', 'fia', 'mayflower', 'plant', 'peraza', 'dispensary', 'jornal', 'emergency', 'jou', 'mess', 'cathyandcourtneyshim', 'charmin', 'pc', 'nipple', 'mira', 'sriracha', 'freebiefriday', 'pathetic', 'dakotasoul', 'deserves', 'shooting', 'square', 'adventurous', 'continent', 'jasmine', 'shitassperformer', 'harsh', 'target', 'stinks', 'finish', 'aja', 'allowed', 'wth', 'bus', 'trend', 'metaphysical', 'naughty', 'eod', 'wayz', 'clap', 'foundation', 'rippy', 'mitchell', 'statement', 'mke', 'js', 'issagodsplan', 'ego', 'jail', 'demo', 'mug', 'putin', 'genno', 'paintings', 'snide', 'messenger', 'recently', 'shouldnt', 'subscr', 'teen', 'rejoice', 'desk', 'descriptive', 'gettin', 'nisahc', 'whitehouse', 'liam', 'enemy', 'university', 'wrestlemaina', 'lover', 'moves', 'assignment', 'peice', 'alexirons', 'buddies', 'deadt', 'hoodies', 'token', 'statusupdatemovie', 'social', 'smackdown', 'thief', 'asking', 'bully', 'ndebele', 'tweeted', 'kawasan', 'twba', 'michaelfassbender', 'qanon', 'drugged', 'hush', 'letter', 'elementary', 'goldmaking', 'prease', 'officers', 'wet', 'asinine', 'recommend', 'dropping', 'yn', 'courtesy', 'hunker', 'newsongalert', 'infrared', 'pok', 'shares', 'wena', 'catcher', 'henry', 'bruinfamily', 'codarmy', 'gold', 'teammate', 'allows', 'gee', 'amaze', 'nhc', 'crc', 'maravillosa', 'degi', 'essential', 'indiegamedev', 'boogie', 'price', 'jason', 'insisted', 'dome', 'birzday', 'chair', 'dunedin', 'paste', 'imdians', 'capitol', 'chico', 'beast', 'pizzapizza', 'navy', 'outlander', 'suspect', 'northwest', 'redvelvet', 'design', 'sprays', 'unless', 'sexier', 'bruise', 'lottery', 'por', 'dejavu', 'loveit', 'bulletproof', 'unlinked', 'key', 'kings', 'respeck', 'includes', 'ishouldhaveleftit', 'insta', 'thicc', 'tasted', 'flock', 'announce', 'qt', 'rasmussen', 'sayin', 'wknd', 'stepped', 'combo', 'lullaby', 'enterprise', 'vine', 'served', 'surely', 'seconded', 'suppose', 'smiletaehyung', 'trans', 'slippers', 'equality', 'conservative', 'shady', 'gno', 'marcus', 'gas', 'caba', 'prime', 'appears', 'lightskinato', 'cloudflare', 'blame', 'marley', 'stardust', 'tweak', 'siwon', 'vimto', 'ingram', 'rovers', 'practice', 'legal', 'powerofthepen', 'pinche', 'pleeeeeaaaassssseeee', 'singer', 'library', 'ute', 'beers', 'ahhk', 'bargainprice', 'poetjunhoeday', 'wapo', 'madness', 'evaporates', 'prathi', 'mornin', 'simplest', 'rallies', 'applications', 'skyblues', 'hopping', 'mah', 'forms', 'motivationalmonday', 'rooi', 'sonja', 'inconsistencies', 'convo', 'freakin', 'customers', 'bitchass', 'chocolateeggs', 'maniac', 'harry', 'glitches', 'spokespersons', 'sang', 'marktuan', 'tatiana', 'bodies', 'gus', 'argument', 'dems', 'stanley', 'rican', 'selfie', 'basketball', 'hug', 'facial', 'stud', 'lame', 'robot', 'jd', 'quavo', 'sale', 'responding', 'essence', 'happybirthdaypjm', 'biiiiiiih', 'friendly', 'toy', 'fuel', 'mz', 'milfmonday', 'bigot', 'anime', 'sources', 'chevann', 'missed', 'casuallly', 'members', 'getaway', 'jordan', 'trophies', 'wide', 'ico', 'painter', 'coz', 'cane', 'beautifull', 'kpop', 'deplorable', 'bnday', 'marks', 'mucho', 'personal', 'comics', 'parent', 'popular', 'nick', 'athleticism', 'kama', 'gokingsgo', 'sues', 'rhy', 'chief', 'musicmonday', 'brezeale', 'nerf', 'symantec', 'bikini', 'exploring', 'farm', 'alluayaan', 'falls', 'runners', 'widow', 'fresno', 'cop', 'holidays', 'doctors', 'egomaniac', 'terrifying', 'fee', 'barbarian', 'jamaica', 'wayyy', 'follo', 'dutty', 'lolololol', 'covered', 'kim', 'embarrassed', 'vacationmode', 'kitty', 'grain', 'roadtoaffiliate', 'cautious', 'jenna', 'janitor', 'scentsy', 'antis', 'barossa', 'morris', 'tam', 'natural', 'chore', 'aynrand', 'fa', 'thebeatles', 'buen', 'results', 'crabs', 'bestseatsentry', 'maxcoin', 'stubbed', 'stomper', 'eu', 'subway', 'useful', 'nevvvveeeerrr', 'astroo', 'jihad', 'cookie', 'kinetics', 'punish', 'headshot', 'broadcast', 'leathered', 'posted', 'prank', 'danielseaveybirthday', 'stayblessed', 'enty', 'idkkk', 'sean', 'brad', 'soundcloud', 'auspol', 'positivity', 'selection', 'sooo', 'sudscribe', 'chapel', 'warriors', 'catlife', 'redbubble', 'mondayhibernation', 'thefear', 'spurs', 'antics', 'kcs', 'jogging', 'delreystarwars', 'jaz', 'advantage', 'creepy', 'corrutptrump', 'subscriber', 'momma', 'driver', 'featured', 'habitat', 'dowh', 'leos', 'gettting', 'taxify', 'produced', 'concrete', 'tim', 'identifiable', 'suppo', 'aldubxpatmeng', 'taught', 'train', 'bong', 'expression', 'galaxy', 'deletefacebookimmediately', 'unfortunately', 'tmr', 'yhe', 'annoying', 'fencer', 'paycheck', 'tonyferguson', 'pressie', 'extremely', 'commentary', 'telegram', 'stocking', 'dark', 'streaming', 'groom', 'retrograde', 'excuseme', 'broooo', 'touching', 'legacy', 'access', 'jerseyshorefamilyvacation', 'slaves', 'learning', 'goooooooooo', 'universe', 'polite', 'courage', 'toothbrush', 'gifs', 'dunno', 'strip', 'tom', 'sessions', 'rappin', 'eats', 'ka', 'academy', 'cc', 'vktx', 'procrastinating', 'clark', 'haid', 'boston', 'holepotus', 'board', 'sosad', 'microwave', 'emehahahaha', 'douchecanoe', 'caitlin', 'tickled', 'drug', 'awww', 'rocks', 'napa', 'physically', 'el', 'rinos', 'daca', 'subpoena', 'stain', 'cocktail', 'wig', 'rd', 'soda', 'books', 'iyke', 'eagles', 'hw', 'named', 'paint', 'upped', 'priceless', 'dirty', 'albums', 'stawp', 'damaging', 'older', 'ame', 'anoto', 'inspiration', 'park', 'brick', 'craaappppp', 'anatomy', 'cinnamon', 'drills', 'jai', 'lunch', 'rangasthalam', 'greatly', 'membership', 'ohno', 'rawaftermania', 'itsdolf', 'freaky', 'vanjie', 'pakvwi', 'dare', 'putting', 'dynamic', 'possible', 'sweetest', 'puppies', 'koreanartist', 'exams', 'happiest', 'rooster', 'madewithunity', 'reservation', 'bunch', 'era', 'murtaghmonday', 'antonio', 'itv', 'dryer', 'taurus', 'mikey', 'foul', 'enchants', 'sanam', 'bunches', 'juveniles', 'actively', 'gir', 'trumpy', 'shirts', 'aany', 'escape', 'eiji', 'inshaallah', 'studio', 'connect', 'disrupted', 'maddie', 'hizi', 'awyy', 'district', 'timbers', 'tc', 'kittyloafmonday', 'storm', 'hats', 'flaunts', 'human', 'previewing', 'kicked', 'tally', 'exposes', 'wafc', 'bud', 'fakenewsmsm', 'driving', 'explaining', 'dive', 'dinosaur', 'recharge', 'bootyhole', 'opinions', 'pers', 'escaping', 'skeeps', 'active', 'israel', 'actual', 'mag', 'ineded', 'eggroll', 'amazed', 'needles', 'niii', 'mrpoopy', 'oxycontin', 'joins', 'concealer', 'notebook', 'embarrassing', 'wimpass', 'soulmates', 'reporting', 'soup', 'cabin', 'somethin', 'retrogaming', 'lrt', 'babysitter', 'bots', 'jinyoung', 'souls', 'estateagentlife', 'gays', 'pumper', 'bret', 'mouthwash', 'coast', 'desrve', 'nieces', 'shitcoins', 'researcher', 'bake', 'skeemsaam', 'daaaaaaddy', 'deed', 'drinks', 'bour', 'depression', 'rumbling', 'africa', 'holloway', 'favotire', 'placed', 'autograph', 'fromboytoman', 'millie', 'retired', 'villanova', 'awkward', 'raised', 'doubt', 'listeningto', 'petulant', 'publix', 'stated', 'italian', 'assembly', 'hulya', 'dating', 'england', 'abbott', 'tap', 'bcharity', 'engages', 'disposible', 'rex', 'cs', 'lifted', 'trapter', 'er', 'happer', 'unblock', 'mini', 'ged', 'convention', 'coincides', 'chanting', 'rescheduled', 'confuseeeed', 'yap', 'accumulating', 'knock', 'middle', 'saddle', 'caravan', 'malaia', 'dangerous', 'necmmiiiiiiiiii', 'prizes', 'wearing', 'bottles', 'niall', 'meathead', 'iq', 'tears', 'somu', 'standing', 'metropolitan', 'treble', 'sliding', 'kit', 'duty', 'thebeach', 'yuha', 'crooked', 'responses', 'imo', 'nessie', 'earn', 'rylie', 'stockport', 'sikh', 'buildthewall', 'yess', 'satan', 'email', 'negritud', 'juniorhighschoolrecognition', 'picturebookchallenge', 'mouse', 'international', 'bird', 'greenville', 'vibes', 'lynn', 'boulder', 'repost', 'medical', 'becauseiam', 'hygena', 'problems', 'fortinite', 'lock', 'finallyyyyyy', 'cor', 'kaya', 'espn', 'doug', 'ocean', 'vet', 'site', 'sketch', 'spark', 'commission', 'lucozade', 'brows', 'domestic', 'flunkies', 'hyg', 'hahahaha', 'fawning', 'crappy', 'hiding', 'dudes', 'duke', 'squidward', 'mountains', 'nelson', 'bty', 'festive', 'san', 'kellen', 'brutha', 'aggie', 'modernfun', 'spoke', 'firstlady', 'highlight', 'pedal', 'shametown', 'garage', 'lane', 'dooooooo', 'takayoshi', 'deadites', 'bump', 'memories', 'elucidated', 'vetsresistsquadron', 'description', 'boot', 'skp', 'pooped', 'guna', 'fetish', 'whoohoo', 'ogini', 'mailcall', 'thath', 'ypg', 'welfa', 'mremix', 'butterfly', 'californiasmells', 'judging', 'outfit', 'fyi', 'ideology', 'spnfamily', 'kurt', 'congrants', 'rain', 'morgan', 'vetsagainsttrump', 'insane', 'kashmir', 'awarded', 'jr', 'odyssey', 'commands', 'mega', 'soompi', 'hollyoaks', 'broom', 'swinging', 'kenny', 'moose', 'sorete', 'battle', 'alleges', 'safety', 'released', 'metaphor', 'create', 'knobs', 'random', 'review', 'backwards', 'snubs', 'bright', 'skyrocket', 'entra', 'bryce', 'lmfao', 'contour', 'tysm', 'ellenandportiatruelove', 'casey', 'trip', 'lighter', 'houston', 'ceased', 'loizza', 'teens', 'applying', 'photoshoot', 'onboarding', 'maniya', 'sau', 'exercises', 'loveyou', 'micro', 'washed', 'cardboard', 'gigs', 'beatiful', 'giadasitalycookbook', 'untryescape', 'sexygrannies', 'gaf', 'guns', 'females', 'trynna', 'blackout', 'slow', 'cures', 'whatevershallido', 'coke', 'qb', 'madetobe', 'minus', 'snacks', 'iron', 'boa', 'laughswithpayne', 'hill', 'ring', 'craptastic', 'hanbin', 'tire', 'passive', 'upto', 'delicious', 'realize', 'yrs', 'cineworldunlimited', 'jeopardy', 'kayla', 'namjin', 'waffles', 'hijab', 'blogger', 'sweeter', 'nyc', 'paragraph', 'teacher', 'blow', 'cameron', 'sidewalk', 'honesty', 'goddess', 'stephen', 'terrorists', 'overpriced', 'production', 'vomiting', 'criticism', 'nephew', 'ken', 'freshener', 'featuring', 'hulaloobaaa', 'logging', 'putthepadson', 'dodgy', 'vmin', 'fuckn', 'jack', 'bff', 'trashcan', 'santa', 'seats', 'shortie', 'pihu', 'election', 'una', 'teambamteddy', 'mixup', 'therapeutic', 'melon', 'sneaky', 'netset', 'smashed', 'titions', 'refusing', 'spawned', 'available', 'kushner', 'nose', 'based', 'ddpat', 'csgogive', 'typed', 'scratch', 'bih', 'tracksuit', 'lobbied', 'salute', 'murdered', 'screaming', 'pigs', 'patch', 'species', 'pays', 'theresistance', 'gbc', 'items', 'foll', 'shite', 'niet', 'fmh', 'fooking', 'disruptive', 'whereeeee', 'beeeeeaaaaaannnn', 'actors', 'tank', 'yeezy', 'worry', 'chic', 'ups', 'supported', 'youbetterwriteone', 'exol', 'allan', 'outings', 'jess', 'troublemakers', 'abel', 'cemetery', 'rent', 'bbb', 'asiimov', 'sins', 'airplane', 'soloist', 'goonies', 'picks', 'adam', 'protest', 'grass', 'rims', 'nights', 'kutoa', 'hypocrites', 'joint', 'dank', 'travelled', 'kittens', 'keit', 'virgin', 'complements', 'nominated', 'longs', 'gloom', 'tip', 'theme', 'pannari', 'bye', 'willing', 'earning', 'nwankwo', 'foodies', 'mmmhmmm', 'drinking', 'gvfeeling', 'stilllovehim', 'gardens', 'bookday', 'acre', 'bladdered', 'abenfica', 'exercising', 'bisaya', 'laudable', 'blake', 'derby', 'ilang', 'tons', 'happyjungminday', 'rimmed', 'objections', 'clone', 'atleast', 'spiked', 'blood', 'tragic', 'bubble', 'bants', 'itunes', 'taylor', 'organic', 'sophisticated', 'mode', 'spontaneous', 'gender', 'looooooose', 'feds', 'ranting', 'stopping', 'attending', 'irresistible', 'disco', 'settle', 'history', 'sedin', 'interview', 'wombat', 'pots', 'defending', 'ntwana', 'purty', 'yc', 'nicely', 'northerners', 'burbs', 'expensive', 'entertained', 'christmas', 'wax', 'advertisers', 'takeyouhome', 'backyard', 'sickening', 'activewear', 'gearmeout', 'nuggets', 'voiceknockouts', 'updates', 'tds', 'destination', 'maneuver', 'wrestlemania', 'fav', 'korea', 'propaganda', 'deflect', 'allianc', 'dragged', 'avenues', 'cunt', 'footwork', 'intros', 'mu', 'undoubtedly', 'supply', 'headass', 'condition', 'pretend', 'manutd', 'tan', 'chores', 'throws', 'supposed', 'accounta', 'owns', 'keto', 'sanders', 'lied', 'mansfield', 'muslims', 'gain', 'nonsense', 'pledge', 'yctuvyiojp', 'alicia', 'obvi', 'copies', 'repeat', 'oneofourawardees', 'recovery', 'sack', 'awaited', 'download', 'osbourne', 'launched', 'plain', 'libturds', 'associated', 'changed', 'designs', 'bigotry', 'socil', 'prayingforrain', 'priz', 'stories', 'blockparty', 'sabi', 'creep', 'capitalizing', 'volunteers', 'cz', 'ny', 'valiant', 'investors', 'bigtits', 'frommetoyou', 'corybarlog', 'neck', 'pringle', 'fiyah', 'gimme', 'record', 'governing', 'fictional', 'grinding', 'lo', 'ish', 'flea', 'frustrations', 'liddle', 'chasecoleman', 'sportstour', 'return', 'sane', 'avenue', 'invite', 'action', 'students', 'shiiii', 'butley', 'charting', 'defeat', 'airheads', 'bellah', 'safet', 'graduation', 'important', 'louis', 'visitor', 'cheeses', 'customerservice', 'icymi', 'woohoooo', 'coool', 'continued', 'totals', 'ther', 'yehundinonkibaathai', 'bite', 'forzajuve', 'americanidol', 'archivist', 'argue', 'ourperfectweddin', 'lifejapan', 'bugging', 'keyword', 'suckkkkkksssssss', 'jeremy', 'pilot', 'uni', 'families', 'micdropremix', 'mads', 'billboard', 'nationaldefenseactof', 'understands', 'rebuild', 'dontdothattome', 'perry', 'basically', 'za', 'spit', 'tighten', 'band', 'loyalty', 'georgina', 'spotting', 'nz', 'rejects', 'deontay', 'noodles', 'comatose', 'wo', 'quoting', 'spidermanhomecoming', 'woot', 'stan', 'panchavarnathatha', 'habit', 'tala', 'christmasgift', 'mimi', 'fresh', 'covers', 'andrewstallingimagery', 'serves', 'awake', 'booking', 'address', 'xi', 'dirt', 'ridiculously', 'paaaarty', 'ls', 'tracks', 'veracity', 'hela', 'bastards', 'gtaonline', 'nexxxxxxt', 'meaningful', 'nickelodeon', 'enjoyable', 'felony', 'europeans', 'ahahahaha', 'sarah', 'reveal', 'gogh', 'dirtydishonestdonny', 'organize', 'tuned', 'dickheads', 'bigboy', 'farmville', 'stew', 'bola', 'meat', 'cst', 'contest', 'shaved', 'soonest', 'lantern', 'types', 'hkg', 'bardock', 'virtual', 'ong', 'riley', 'beatla', 'livestream', 'businesswomen', 'audacity', 'nerdy', 'messages', 'mins', 'surrounds', 'crapnation', 'flip', 'regrann', 'panera', 'favorites', 'countries', 'whatsapp', 'pride', 'daveandbusters', 'jax', 'alas', 'attacked', 'sidesssss', 'devastating', 'stargate', 'answering', 'sarahhhhh', 'andre', 'grounds', 'gov', 'noon', 'giveaways', 'jake', 'creation', 'nerd', 'childrensbookday', 'rams', 'treats', 'pv', 'anastasia', 'opt', 'nhi', 'jungmin', 'panic', 'tummy', 'danny', 'adult', 'distance', 'azz', 'di', 'fakenews', 'angels', 'premiosmtvmiaw', 'jones', 'charge', 'gjhtlbmn', 'libras', 'graduate', 'issa', 'ama', 'mt', 'tampons', 'douche', 'iptv', 'bigwig', 'cinthia', 'stacey', 'puppy', 'rage', 'bharatanenenu', 'comebacks', 'lago', 'heat', 'steal', 'disappeared', 'simplicity', 'circuit', 'shaming', 'wowow', 'eastersowetopicnic', 'lolu', 'logged', 'smh', 'penny', 'angell', 'turkey', 'uh', 'utter', 'vickyvette', 'temporary', 'deuce', 'batgot', 'daway', 'permanently', 'shitter', 'krazy', 'iflyalot', 'spill', 'pabus', 'smells', 'panas', 'matthias', 'partner', 'teamz', 'saver', 'carrey', 'leicester', 'chili', 'definition', 'toby', 'charleston', 'hittin', 'aowa', 'competitor', 'mew', 'jungwoo', 'khabib', 'gladly', 'ytpbr', 'drugs', 'animalrights', 'pattie', 'ght', 'darkweb', 'christ', 'yaaayyy', 'duopoly', 'pedophiliac', 'alcatra', 'ignorant', 'fulfilled', 'mcc', 'exposing', 'mondaymotivation', 'bagger', 'trick', 'rosen', 'nd', 'breather', 'itching', 'plenty', 'siri', 'hashtag', 'styles', 'hero', 'tireless', 'gluten', 'awwwww', 'bare', 'tomcatting', 'diadem', 'ustednosabequiensoyyo', 'tux', 'chuffed', 'staffer', 'zara', 'prototype', 'fed', 'bowelmovement', 'jeffrey', 'ml', 'yah', 'wiener', 'buko', 'clean', 'thefoxx', 'daymn', 'ghee', 'delivery', 'cans', 'mta', 'pasqua', 'imagined', 'unicorn', 'concerts', 'replay', 'puke', 'laurel', 'fab', 'tlhemma', 'cringy', 'faithful', 'exact', 'experienc', 'kant', 'nomkhulu', 'transformers', 'rada', 'tweetchoir', 'classless', 'thiiiiiiiiiiiiiiiiissssssss', 'ploy', 'malaysian', 'aunt', 'blunt', 'pavilion', 'yelz', 'smash', 'floats', 'biggavel', 'thaem', 'bbc', 'prints', 'buildthatwall', 'nigerians', 'scrubbed', 'trifling', 'radiation', 'hbo', 'skip', 'zolu', 'yahh', 'abide', 'parentingtips', 'lived', 'spin', 'include', 'cheds', 'aways', 'seed', 'streaks', 'optics', 'imwiththiskid', 'currently', 'fwd', 'trained', 'signs', 'mates', 'glass', 'scat', 'generationgame', 'jetblue', 'antwi', 'flaw', 'cope', 'hook', 'teaml', 'nova', 'generation', 'division', 'partic', 'relationship', 'linda', 'network', 'bakithi', 'jew', 'werey', 'tmx', 'lmaooo', 'miranda', 'teenage', 'succeed', 'treasure', 'perspective', 'homemade', 'evolution', 'citizens', 'peacefulwaters', 'veterans', 'preorder', 'camila', 'wigan', 'handles', 'stalking', 'justright', 'knowledge', 'rubber', 'pipe', 'tie', 'tallest', 'bonafide', 'surveys', 'springsteen', 'moon', 'information', 'ginger', 'travels', 'tusexyboy', 'chairs', 'arielle', 'welovemarklee', 'amendment', 'fail', 'circled', 'fornite', 'trees', 'ik', 'avoid', 'ignorance', 'adulthood', 'misogynistic', 'ollowers', 'kojo', 'salaries', 'establ', 'anti', 'agreed', 'printable', 'farts', 'cowboy', 'whinny', 'mocks', 'coaching', 'din', 'brukout', 'booksales', 'fbrparty', 'bugheads', 'hits', 'amusement', 'laughs', 'entertainer', 'dinners', 'props', 'anna', 'proverbial', 'cohort', 'listed', 'awwww', 'nervous', 'gara', 'vusi', 'waking', 'captain', 'salam', 'managed', 'puck', 'wipes', 'birthdayyyyy', 'poos', 'equipment', 'rizakosef', 'frogs', 'telly', 'alyson', 'reasons', 'shopping', 'canyoneering', 'kissing', 'envious', 'expect', 'bash', 'vandy', 'coluzzi', 'shock', 'laptop', 'judgement', 'mmc', 'claudia', 'troops', 'overnight', 'spinning', 'lucy', 'armon', 'needa', 'porn', 'frequently', 'butterflies', 'pet', 'charles', 'married', 'pro', 'avi', 'melania', 'hop', 'validate', 'ford', 'faves', 'kuya', 'suicide', 'historic', 'source', 'shreya', 'cringe', 'draaag', 'jukebox', 'falice', 'snowing', 'makina', 'collusion', 'begining', 'motion', 'humanity', 'behalf', 'zer', 'elll', 'keeps', 'crooks', 'patriot', 'actor', 'cup', 'awful', 'beef', 'shadows', 'ordere', 'pissed', 'transit', 'asshat', 'header', 'donghyuk', 'bear', 'joy', 'gents', 'wanting', 'career', 'zoos', 'woohoo', 'liars', 'happychanyeolday', 'hump', 'zoo', 'btc', 'reaction', 'notification', 'pocket', 'mentioned', 'rino', 'extreme', 'handful', 'gary', 'gd', 'nun', 'tx', 'competitors', 'grade', 'blackpink', 'carlo', 'concept', 'angel', 'warmup', 'shanatic', 'botox', 'ambassador', 'dakin', 'brudda', 'irreplaceable', 'rocket', 'shuffle', 'goa', 'stomped', 'shadow', 'reportedly', 'jazba', 'farrrr', 'philadelphia', 'eastermonday', 'painful', 'shoulda', 'haven', 'hopeonthestreet', 'hustle', 'marilyn', 'ilovespring', 'hctib', 'stick', 'peppers', 'walls', 'elimination', 'findings', 'tou', 'geeeettttem', 'cast', 'georgia', 'tall', 'haul', 'ages', 'caption', 'alt', 'fartfetish', 'debut', 'swirl', 'publicity', 'chauffeur', 'zuckerberg', 'closer', 'kopa', 'photography', 'lightskin', 'gentlemen', 'restock', 'surrounded', 'kihyun', 'benning', 'earlier', 'comey', 'scares', 'door', 'recap', 'soft', 'thai', 'emerge', 'fellerz', 'tvxqifficial', 'plea', 'forgive', 'nadine', 'inspired', 'drawing', 'jokers', 'japanese', 'anyways', 'posters', 'wung', 'gotcha', 'flaming', 'plate', 'shaken', 'debacle', 'remind', 'foam', 'pensioners', 'splc', 'stormys', 'ahe', 'deliberate', 'experts', 'kitties', 'facetimed', 'cousins', 'trivia', 'sachin', 'probs', 'yoruba', 'daisies', 'aside', 'buybeats', 'missing', 'weirdo', 'permanent', 'ms', 'sunshine', 'yee', 'liar', 'wicked', 'meds', 'viewed', 'smear', 'figures', 'appeal', 'lanie', 'senators', 'poems', 'grom', 'dana', 'jombo', 'fanfics', 'fantasy', 'apologize', 'crossbow', 'snapchatfun', 'istandwithlaura', 'wateva', 'counts', 'virtue', 'til', 'understood', 'yangyang', 'hanging', 'holland', 'turtle', 'seo', 'mahal', 'letsgo', 'castle', 'sample', 'drank', 'verse', 'airing', 'gallery', 'lov', 'pre', 'parties', 'childrensbook', 'sends', 'yellow', 'valid', 'hahah', 'chew', 'argentina', 'blocks', 'depends', 'pedropascal', 'hoo', 'travis', 'kent', 'guru', 'nature', 'ads', 'usually', 'colace', 'happier', 'hubby', 'suppressing', 'bootech', 'prince', 'karius', 'sioux', 'youngsters', 'motivate', 'onesie', 'bisque', 'accounts', 'cross', 'babble', 'responded', 'sisters', 'squirt', 'sentence', 'fashoo', 'botmys', 'sickkkkkkk', 'heading', 'dramatic', 'lobe', 'sought', 'beetow', 'journey', 'sport', 'shooters', 'offset', 'starts', 'hugh', 'defiantly', 'proof', 'matchup', 'drudge', 'reads', 'sibling', 'farrah', 'whale', 'siblings', 'nshit', 'shake', 'goblue', 'majority', 'competition', 'tecsew', 'xyz', 'bio', 'lmaoooo', 'hooray', 'parker', 'nugget', 'tooty', 'conspiracy', 'onlyfans', 'replacement', 'blowjobsforever', 'eh', 'majix', 'falcon', 'sponsored', 'redtsunami', 'akwaabauk', 'chez', 'edits', 'checkout', 'shaku', 'lesbian', 'ntf', 'cia', 'shiro', 'basket', 'hatred', 'wigs', 'expenses', 'alexironsrocks', 'finals', 'possi', 'campaign', 'tracking', 'timing', 'vocals', 'itch', 'caught', 'daughters', 'happily', 'dong', 'com', 'bakugo', 'impact', 'sexual', 'classy', 'givin', 'ayeeee', 'blondes', 'nuff', 'plushies', 'pub', 'jacob', 'cape', 'planning', 'aaaaa', 'livelihood', 'witness', 'joyful', 'ill', 'catsoftwitter', 'changing', 'shed', 'undo', 'stable', 'leader', 'talkin', 'durban', 'carry', 'mona', 'bombscare', 'sun', 'builds', 'cried', 'taxi', 'constant', 'tina', 'bucket', 'isne', 'extraordinarily', 'htownstop', 'highlights', 'cart', 'yeahhhh', 'wym', 'neversettle', 'hack', 'ireland', 'judgment', 'lam', 'bdaysoon', 'sv', 'greeting', 'grandslam', 'admitted', 'screwed', 'yuwei', 'iz', 'bosvsmia', 'hairline', 'revolution', 'muslim', 'atm', 'employers', 'gucci', 'fwa', 'mankell', 'flute', 'poppas', 'pacquaio', 'hussein', 'laughter', 'hny', 'employees', 'breathalise', 'pasta', 'myeverything', 'gals', 'tees', 'mi', 'premiere', 'activism', 'hooping', 'lker', 'uthandonesthembu', 'aries', 'professors', 'tony', 'feeds', 'shouldve', 'scum', 'lions', 'niece', 'yesus', 'ive', 'idiots', 'broadcaster', 'wom', 'mary', 'karlmarx', 'dolly', 'leading', 'sam', 'supporting', 'jane', 'misspe', 'weight', 'gram', 'signing', 'blog', 'moments', 'pool', 'allie', 'anal', 'traits', 'ikr', 'kno', 'frosting', 'nipples', 'wildly', 'dish', 'larwd', 'approved', 'redeem', 'moving', 'approval', 'damnnnn', 'jett', 'adventures', 'pidi', 'biscuit', 'romance', 'dollars', 'bean', 'arrow', 'chopped', 'kr', 'dublin', 'supper', 'doctor', 'eastbound', 'cosplay', 'casio', 'charts', 'sweat', 'bae', 'dickeat', 'babse', 'dick', 'dust', 'vutsek', 'silver', 'sticking', 'strongwriters', 'chan', 'upset', 'repostsaveapp', 'spam', 'healthier', 'knee', 'damon', 'crown', 'shifts', 'scores', 'hasn', 'scandal', 'dawsonscreek', 'honcholee', 'fuse', 'thosfansbts', 'agent', 'hickies', 'relay', 'slowly', 'jealous', 'thou', 'conscience', 'armour', 'dodger', 'fly', 'alike', 'innovation', 'alucard', 'funk', 'failure', 'muscles', 'dr', 'considered', 'adog', 'raising', 'forgotten', 'feat', 'carson', 'hayi', 'names', 'chum', 'crowd', 'robotic', 'pimple', 'factory', 'ehrenfelser', 'sacked', 'hormone', 'elders', 'niggato', 'apga', 'jagoff', 'mccain', 'namhla', 'sy', 'whoopsies', 'unicode', 'happppy', 'ordnance', 'grandparents', 'reaching', 'bathroom', 'jon', 'mccabe', 'continue', 'minded', 'advice', 'patrick', 'hyukjae', 'received', 'rumors', 'large', 'donuts', 'nap', 'hoopin', 'final', 'harvey', 'knc', 'held', 'noises', 'sens', 'janethevirgin', 'errythang', 'jozi', 'bennett', 'cas', 'asscheek', 'finalist', 'uv', 'cancelled', 'musical', 'feminists', 'disabled', 'hamilton', 'giothemodest', 'floor', 'violet', 'mcdavid', 'jaylon', 'stations', 'google', 'yaris', 'mid', 'hectic', 'youngfrankenstein', 'eaten', 'flowers', 'unzip', 'loses', 'breathing', 'knapp', 'burnt', 'dears', 'shirointittyshir', 'haii', 'fatty', 'lizvicious', 'rui', 'hbdadorablealluayaan', 'burb', 'eastenders', 'raining', 'sephora', 'monnnnnthhhhhh', 'engine', 'noooo', 'malt', 'congratulationz', 'hobgoblin', 'opioid', 'pregnant', 'progressivepropaganda', 'spending', 'ove', 'bra', 'monolith', 'docume', 'wawu', 'marswithalden', 'requested', 'bcpoli', 'brrrr', 'baldwin', 'paptingafool', 'walked', 'illegals', 'trips', 'garbage', 'height', 'astrology', 'watc', 'blazingsaddles', 'cali', 'uzalo', 'arms', 'tak', 'aprilfoolsday', 'carpentry', 'ima', 'bragga', 'needing', 'rhfox', 'flights', 'nominees', 'trading', 'frds', 'parise', 'jin', 'spouting', 'trainer', 'lowered', 'overwatch', 'melting', 'um', 'owl', 'titled', 'filthy', 'rhoa', 'erwin', 'ang', 'truck', 'rts', 'vintage', 'brew', 'tactic', 'chunderful', 'handcuffs', 'ruthless', 'girly', 'mat', 'pumped', 'hmmm', 'resort', 'hating', 'salon', 'yt', 'laws', 'speaks', 'gaskets', 'afc', 'observe', 'coxx', 'tieing', 'democraps', 'presidential', 'cheats', 'ebt', 'jfk', 'whip', 'viva', 'stec', 'jolly', 'ad', 'semester', 'dies', 'soniyedilnayilagda', 'pistol', 'wasted', 'samsung', 'ily', 'simple', 'puusay', 'charlie', 'mentors', 'aaaahhhh', 'husband', 'stress', 'tires', 'ngot', 'taker', 'tryna', 'responds', 'doodoo', 'vox', 'swag', 'brainwash', 'metallica', 'penal', 'huncho', 'ince', 'leaf', 'stocks', 'receiving', 'dumbass', 'sudden', 'picked', 'cred', 'sds', 'sue', 'col', 'mackenzie', 'insura', 'nationa', 'missyou', 'chap', 'hoodie', 'woooooooow', 'giggles', 'adulterer', 'retweeet', 'trio', 'companies', 'blush', 'luke', 'buzz', 'freddy', 'northern', 'eks', 'uneducated', 'dedicated', 'loveamuslimday', 'lunes', 'death', 'randomly', 'adjustment', 'slc', 'paaji', 'dave', 'digging', 'clothing', 'picking', 'illgiveathumbsup', 'letsgooakland', 'knocked', 'fashit', 'portsmouth', 'shvt', 'deceiving', 'granted', 'wine', 'vhope', 'deadass', 'pie', 'jesse', 'rattle', 'infectious', 'session', 'headphones', 'isabrother', 'resisters', 'website', 'decide', 'entrepreneur', 'seungkwan', 'oscar', 'xslasvegas', 'dms', 'yzj', 'murtagh', 'marchforourlives', 'nakka', 'daddyman', 'handsome', 'krypton', 'sucked', 'abuse', 'harim', 'likewise', 'current', 'confirmed', 'morocco', 'deaths', 'destinationexcellence', 'grateful', 'pjs', 'mush', 'aeternumico', 'knowing', 'rul', 'shittiest', 'rubbis', 'teamricoswavey', 'janelle', 'annalaan', 'timbs', 'curry', 'sunrise', 'justin', 'svu', 'awp', 'povetkin', 'charming', 'wrestler', 'herocz', 'baptism', 'treated', 'chumps', 'kidding', 'coin', 'clubcuppartner', 'listings', 'traitorous', 'hip', 'whatsoever', 'kkd', 'affirmative', 'geochevel', 'sorted', 'lousy', 'johnlawrence', 'iam', 'apparel', 'promposel', 'kodi', 'inktopsecret', 'dollar', 'ogogo', 'colleen', 'bollocks', 'bush', 'divya', 'minds', 'puts', 'meee', 'easiest', 'guidance', 'bitcoin', 'verified', 'youuuu', 'misaw', 'rightnow', 'bread', 'experiences', 'unlucky', 'selly', 'poem', 'nohedidnt', 'pencils', 'bryant', 'sur', 'sacks', 'fought', 'sonia', 'ecc', 'colourful', 'bayonet', 'lows', 'situation', 'sexygirl', 'kinder', 'didnt', 'hele', 'oneboobwednesday', 'bigoted', 'roa', 'brah', 'lockthemallup', 'facebook', 'specialist', 'som', 'peaceful', 'skyrim', 'mana', 'distract', 'firstdates', 'chat', 'sneak', 'ksazobalit', 'nofx', 'joinme', 'aso', 'ai', 'lisa', 'onmyblock', 'freed', 'related', 'hehehe', 'arteza', 'genuinely', 'audience', 'booster', 'dopemans', 'funniest', 'engineering', 'tasking', 'tito', 'california', 'republicans', 'debu', 'stock', 'tequila', 'value', 'luda', 'shacking', 'emailing', 'interaction', 'chop', 'freinds', 'vampire', 'bi', 'greeks', 'sweatshirt', 'pogo', 'street', 'merit', 'clothes', 'owners', 'sloppy', 'dws', 'soulless', 'syfm', 'raab', 'yall', 'scenes', 'melts', 'search', 'dumps', 'standards', 'hangout', 'regret', 'tarde', 'honest', 'midfield', 'yfm', 'thomas', 'terry', 'broccoli', 'legs', 'leeds', 'office', 'dk', 'phoebe', 'morpinoybiga', 'chameleons', 'cups', 'hmesha', 'headboard', 'cupcake', 'provide', 'horrible', 'temkin', 'wallander', 'easier', 'folding', 'enoughisenough', 'store', 'chick', 'foreign', 'grimm', 'diagnosis', 'tatticoin', 'yui', 'rb', 'secretly', 'attend', 'rotation', 'pups', 'logo', 'gainwithjnshine', 'drawatog', 'ccri', 'putt', 'reworking', 'nyweh', 'bowing', 'queda', 'denver', 'revise', 'decatur', 'eve', 'bust', 'cuh', 'nct', 'kassius', 'phillip', 'warrior', 'tweeting', 'typical', 'traces', 'rolling', 'comedy', 'base', 'carries', 'rarest', 'wic', 'mas', 'gooners', 'johny', 'oxem', 'goodnight', 'teambnn', 'peeeeeeeps', 'yikes', 'wan', 'icdc', 'worthless', 'naw', 'themmahour', 'environment', 'hyperlocal', 'texts', 'voucher', 'flash', 'sza', 'hater', 'ri', 'stayed', 'walmart', 'capitalized', 'neglect', 'bangtan', 'chilling', 'internally', 'seek', 'voicing', 'living', 'stewart', 'map', 'koko', 'purple', 'cush', 'painted', 'boom', 'petty', 'neurologist', 'unhealthy', 'scare', 'harley', 'impeach', 'rating', 'captainkurt', 'bond', 'ga', 'watchin', 'prefiero', 'runaway', 'sacramento', 'workout', 'presence', 'crashing', 'moncarataprilfoolsday', 'annaloves', 'tboss', 'pause', 'successful', 'arrived', 'tact', 'scheduled', 'rank', 'nvm', 'references', 'broth', 'scrabble', 'uve', 'demacrat', 'twtr', 'haircut', 'nje', 'rem', 'piercing', 'mightier', 'bsides', 'amwriting', 'tippy', 'woof', 'comments', 'golfer', 'sugar', 'fully', 'eno', 'secret', 'dump', 'myundeniableobsession', 'develop', 'derrick', 'tory', 'senior', 'gross', 'blast', 'slink', 'dbacks', 'harden', 'bn', 'htctryouts', 'mysticmessenger', 'kasey', 'askheranything', 'creativebizhour', 'tinfoil', 'hustler', 'tonite', 'minhyun', 'rap', 'mythology', 'yasmine', 'ckin', 'nominating', 'killers', 'ua', 'indians', 'table', 'lazar', 'switching', 'standees', 'private', 'worries', 'vlogs', 'favs', 'expose', 'richiee', 'sef', 'helping', 'icloud', 'roke', 'thankyoumaine', 'clickin', 'yard', 'perform', 'fetch', 'fy', 'outs', 'bezos', 'pour', 'kaepernick', 'lurve', 'entertainment', 'examine', 'blended', 'kaala', 'personalities', 'grief', 'gatto', 'reward', 'milfs', 'feldman', 'frames', 'removes', 'glupppp', 'numb', 'referencing', 'keeper', 'bells', 'lucecelestialemnl', 'stormy', 'breast', 'tambokikoy', 'sentiment', 'heeeeeey', 'removals', 'cr', 'boogers', 'stiff', 'morals', 'ticket', 'clarinet', 'bras', 'cinestar', 'goldeneye', 'unity', 'mymixtapez', 'mentioning', 'infrastructure', 'transferable', 'arthur', 'cherry', 'takam', 'twins', 'insan', 'fair', 'logan', 'consider', 'ion', 'sellers', 'monkeys', 'oyster', 'radnor', 'newcastle', 'bughead', 'bobrisky', 'troll', 'muller', 'uhmmm', 'shined', 'eland', 'surpassing', 'ingraham', 'load', 'angrychamp', 'den', 'surprising', 'pulled', 'silliest', 'marital', 'owens', 'pennylane', 'nismonation', 'countdown', 'elgano', 'complexion', 'lastmanstanding', 'pusb', 'kinky', 'losing', 'cutie', 'crushing', 'yeehaw', 'mole', 'iike', 'sdf', 'quarter', 'uuu', 'mp', 'workshop', 'checking', 'creamy', 'dir', 'humiliation', 'graveyard', 'newgirl', 'silly', 'crazeme', 'background', 'hotter', 'hampers', 'askmarkruss', 'dee', 'teachers', 'worthy', 'bryan', 'shoe', 'softcap', 'youare', 'bale', 'neighbours', 'elon', 'savior', 'hersen', 'grocery', 'ascot', 'hyung', 'toilet', 'mango', 'higher', 'facilitate', 'inevitable', 'credible', 'birthdaaaaaayyyyyy', 'tf', 'taco', 'caring', 'humans', 'terrible', 'luxury', 'itsok', 'corn', 'boam', 'positanopizza', 'chowder', 'appropriate', 'uo', 'unit', 'malaysians', 'aka', 'wondering', 'orchestra', 'learnt', 'inning', 'ollie', 'mythical', 'hannah', 'showcasing', 'glitchmys', 'broski', 'effects', 'yyfc', 'sligo', 'ninja', 'wee', 'remembers', 'brassknuckles', 'snack', 'wife', 'kickass', 'feature', 'offline', 'rapping', 'bronze', 'benefit', 'ahahaha', 'delish', 'uniforms', 'ooh', 'acostacrap', 'eastereggs', 'wembley', 'clamps', 'tsunami', 'bostonterrier', 'leg', 'grilled', 'evoke', 'jfc', 'mike', 'sparkling', 'supercard', 'mseleku', 'routine', 'pussey', 'betis', 'nessieland', 'lex', 'volvooceanrace', 'millonario', 'pcgamer', 'talented', 'caca', 'wookie', 'doesnt', 'riddance', 'pig', 'paulie', 'hurry', 'student', 'mysterious', 'shiplett', 'copensen', 'genial', 'besties', 'dressing', 'studios', 'built', 'nail', 'awhile', 'lunges', 'muggy', 'flake', 'attention', 'reporters', 'rapids', 'hangouts', 'snapchat', 'couch', 'roger', 'stern', 'doodle', 'overseas', 'silence', 'supportive', 'micah', 'thegoodplac', 'micheal', 'omgg', 'praisejah', 'jep', 'friendship', 'luz', 'plumbinggimmick', 'mymancrush', 'spongebob', 'escaped', 'taxpayer', 'michelle', 'iran', 'unjaded', 'dungarees', 'fastly', 'ntr', 'chonis', 'kh', 'calculator', 'fridays', 'playlist', 'weee', 'grave', 'squeeze', 'ke', 'zeke', 'mtac', 'reports', 'yeeeeaaaaaahhhh', 'shelter', 'ezrecordsthelabel', 'smack', 'kirby', 'alex', 'rouder', 'ky', 'commend', 'girlll', 'ayer', 'voted', 'performing', 'waffle', 'lp', 'reset', 'event', 'twatter', 'wahala', 'regalness', 'affirmed', 'harder', 'pushed', 'contribution', 'figuredrawing', 'preseason', 'towels', 'inherited', 'morocha', 'rhocheshire', 'peristalsis', 'john', 'patter', 'arkansas', 'tenure', 'hmmmmm', 'spacious', 'swat', 'loads', 'cars', 'stole', 'ji', 'indust', 'ann', 'emmbarradment', 'understanding', 'pity', 'local', 'airlines', 'madden', 'snobs', 'twink', 'foodie', 'dreadnoughts', 'gainwith', 'listing', 'cards', 'boxing', 'spades', 'thieves', 'hesitate', 'shame', 'chizzy', 'rules', 'findom', 'eeeeeeekkkkk', 'statue', 'ways', 'mario', 'gladiators', 'monbebes', 'accolades', 'miles', 'interviewing', 'piling', 'hai', 'eyeing', 'sneaking', 'intellectual', 'distinct', 'idgaf', 'cackled', 'ricky', 'romcom', 'phillies', 'bonehead', 'baseballiscoming', 'pray', 'rush', 'sizzlin', 'thumbs', 'ninth', 'ssdiski', 'ramos', 'minecraftpe', 'valentines', 'americantraitor', 'stray', 'reallly', 'casa', 'shithole', 'tigers', 'slides', 'announced', 'hotfix', 'wereback', 'apply', 'whiny', 'happybdaykapilsharma', 'suggestions', 'sign', 'fea', 'replied', 'gogetemtiger', 'bowel', 'uber', 'ironically', 'autism', 'seniorphotos', 'squad', 'boycottcnn', 'angst', 'goad', 'poster', 'afford', 'bodypositive', 'ns', 'empathy', 'lick', 'vacationwellneeded', 'policies', 'belhaven', 'senile', 'saving', 'development', 'ia', 'bob', 'lmaoooooo', 'chalk', 'heckling', 'scumbag', 'sports', 'fella', 'fosta', 'brothers', 'persons', 'ninokuni', 'terminusvox', 'democracy', 'classic', 'cto', 'reinforce', 'ravetz', 'mick', 'homework', 'perv', 'twisted', 'dried', 'land', 'choices', 'pearl', 'june', 'unite', 'despite', 'jejely', 'looool', 'credit', 'elbows', 'baris', 'clips', 'complicit', 'manchester', 'colossous', 'lt', 'bloody', 'undercover', 'kick', 'energy', 'phelan', 'parody', 'recall', 'jamal', 'pep', 'bamf', 'growing', 'dl', 'mistaken', 'blossom', 'reserved', 'member', 'emotional', 'tbtuesday', 'davis', 'duo', 'fame', 'pakistanzindabad', 'gemini', 'warwick', 'polls', 'enemagram', 'madddddddd', 'sweaty', 'stall', 'discord', 'jihoon', 'shore', 'sha', 'aswell', 'lmfaooooo', 'mcfc', 'impossible', 'mariota', 'machos', 'transfered', 'uhh', 'hartbeeps', 'washingtondc', 'sewage', 'jrm', 'afraid', 'mills', 'rock', 'offer', 'gallagher', 'cats', 'mondayfunday', 'pleasant', 'polishing', 'blorp', 'begins', 'threat', 'rainbow', 'medicine', 'pint', 'arseholes', 'ah', 'reporter', 'rio', 'interested', 'squirrel', 'xddd', 'dah', 'poo', 'dual', 'throwing', 'pips', 'pankaj', 'congratssssss', 'gateway', 'madrid', 'unveiling', 'btsglitchparty', 'gap', 'competitive', 'legend', 'narragansett', 'confidence', 'yungnikka', 'auto', 'klitscko', 'recognition', 'papers', 'hbdgladio', 'poleng', 'scrolls', 'seavey', 'android', 'disgraced', 'celebrates', 'atta', 'arcade', 'ar', 'stopped', 'assault', 'ufc', 'tekapo', 'dorms', 'edges', 'anybody', 'lotta', 'relatable', 'bravo', 'youzhangjing', 'border', 'reeses', 'recipe', 'bedroom', 'vito', 'boost', 'mexican', 'mane', 'apparently', 'heartwarmingly', 'mufc', 'realquicc', 'sophomores', 'og', 'yoka', 'monbebe', 'proclaiming', 'strongest', 'donate', 'bottled', 'advocate', 'instastory', 'miller', 'relax', 'konnor', 'respectthet', 'parts', 'dinnae', 'jaws', 'ruff', 'trumpers', 'neighbors', 'winterjacket', 'hing', 'slam', 'dimple', 'hype', 'seat', 'chelsea', 'payne', 'powerbank', 'combat', 'box', 'lovebychanceseries', 'kozachok', 'utton', 'kat', 'pur', 'merhaba', 'guideline', 'submissions', 'hungover', 'nazi', 'secrets', 'isthissemsterdone', 'matter', 'intervals', 'citizen', 'ordeal', 'overtakes', 'vanessa', 'county', 'invited', 'emptiness', 'onn', 'husbands', 'withdrawals', 'nicola', 'mozlems', 'capitalism', 'cigarette', 'medal', 'van', 'witnessthetourmnl', 'electricity', 'scary', 'protective', 'lord', 'decision', 'headache', 'thalapathy', 'playthrough', 'trending', 'glasgow', 'renad', 'speech', 'founder', 'jor', 'ect', 'memorable', 'ini', 'raise', 'hopeful', 'hyderabad', 'battery', 'ana', 'bonus', 'smind', 'savings', 'crickets', 'sharif', 'imy', 'calvin', 'uncensored', 'sit', 'chivscin', 'warise', 'spiderman', 'glowinthedark', 'wright', 'semen', 'mistakes', 'spreads', 'dayday', 'lowe', 'releasing', 'milk', 'froch', 'theirs', 'larger', 'juice', 'collab', 'slang', 'solution', 'cmon', 'sesh', 'ofc', 'area', 'dalit', 'courtship', 'blower', 'mutuals', 'skeptical', 'makenzie', 'snowflakes', 'vacationing', 'wonderin', 'footage', 'congratsssss', 'confam', 'aspire', 'vishu', 'naturally', 'governments', 'usb', 'sundays', 'illeg', 'ilysm', 'lmk', 'skid', 'ryavjt', 'translation', 'peopl', 'eatingfortheinsta', 'memor', 'maker', 'laying', 'birthay', 'pak', 'discipline', 'africans', 'emojis', 'ecclesiastical', 'checks', 'boarder', 'overstimulation', 'films', 'cumentary', 'smiling', 'incase', 'stitches', 'drooping', 'nfltotalaccess', 'dem', 'vod', 'intelijent', 'sith', 'serve', 'wi', 'arrested', 'blessing', 'hogye', 'dummy', 'oooh', 'csk', 'foolish', 'troia', 'quiet', 'mercury', 'skyline', 'fomeeee', 'fascinating', 'deserved', 'birthdaybitch', 'sashalicious', 'amendmentnow', 'saturday', 'snake', 'mambo', 'lilli', 'beverages', 'liberalismisame', 'tr', 'qui', 'pillows', 'ooooo', 'bolton', 'sheeran', 'buzzing', 'georgeratcliffe', 'accelerate', 'niggers', 'hurley', 'screamed', 'winery', 'alot', 'levin', 'winston', 'islam', 'freestyle', 'comparing', 'renata', 'assistant', 'statistics', 'jc', 'duck', 'finna', 'aim', 'tiger', 'aggravating', 'brought', 'fil', 'lowpoly', 'trumper', 'corbyn', 'rated', 'xiumin', 'result', 'sore', 'lewis', 'hd', 'bother', 'status', 'bailly', 'bop', 'happybirthdaysofi', 'walks', 'bigbang', 'windy', 'atf', 'dam', 'ooo', 'hosts', 'sabs', 'looters', 'taller', 'filming', 'clicked', 'jug', 'redneck', 'lovelife', 'swamp', 'helixstudios', 'st', 'smg', 'modern', 'padron', 'unh', 'keansburg', 'cricket', 'subtle', 'virginia', 'gurl', 'answer', 'bhakts', 'govt', 'birth', 'cops', 'csgogiveaway', 'thy', 'statusupdate', 'reminder', 'bar', 'royal', 'springer', 'cook', 'upgraded', 'playoffs', 'irt', 'ju', 'michigan', 'auntie', 'finger', 'delighting', 'zionist', 'explain', 'nicole', 'sings', 'passport', 'jerk', 'recognized', 'summit', 'sucia', 'mariokart', 'scab', 'proper', 'ferguson', 'eth', 'au', 'beavers', 'punishmuslimday', 'unnecessary', 'effort', 'lays', 'smartcity', 'marcella', 'dime', 'buildthedamnwall', 'supportsma', 'represented', 'kacey', 'missyoustreamingparty', 'wazzaaappp', 'niceview', 'joining', 'motivating', 'household', 'daemon', 'excellent', 'shaker', 'homie', 'gremlins', 'emma', 'holly', 'gloves', 'powerlaunch', 'shatta', 'whyte', 'ment', 'toidymat', 'obinim', 'copy', 'skool', 'bankholiday', 'apartment', 'polished', 'filme', 'lacy', 'ffs', 'volcano', 'motivationmonday', 'ire', 'davidhogg', 'goodammydrpalz', 'trop', 'omelettes', 'moneyline', 'imagining', 'mhmmm', 'completion', 'ccstca', 'minutes', 'torture', 'non', 'gamed', 'sweater', 'housemate', 'ronjovi', 'spankbang', 'giftcard', 'rs', 'multiple', 'exceptionally', 'lamar', 'modelmonday', 'erase', 'drowning', 'newmusic', 'chopchop', 'sox', 'paries', 'garbling', 'roach', 'eli', 'es', 'hoy', 'coffffeeeee', 'troublemaker', 'pa', 'peacock', 'einstein', 'scarborough', 'bat', 'ahh', 'junhoe', 'feelin', 'order', 'xiyeon', 'nutes', 'spoiled', 'soz', 'calendars', 'kimono', 'linkinpark', 'immediately', 'row', 'havent', 'isp', 'shyloh', 'ape', 'snapshots', 'humour', 'gop', 'carried', 'toxic', 'cuddles', 'dookie', 'xd', 'miflavour', 'safecommunities', 'similar', 'muchas', 'sheep', 'stylist', 'durk', 'homebody', 'stack', 'toe', 'straightening', 'welcoming', 'sid', 'harper', 'roles', 'memo', 'matisse', 'lazy', 'coffee', 'apps', 'gazza', 'desperate', 'motived', 'personally', 'moms', 'apne', 'recording', 'niners', 'lest', 'salad', 'sandstorms', 'excuse', 'ibo', 'research', 'dean', 'born', 'viewers', 'duets', 'globe', 'sinner', 'toks', 'mayor', 'mushed', 'chart', 'luv', 'security', 'layout', 'haya', 'readyplayerone', 'deshalb', 'ref', 'drain', 'roof', 'thrilled', 'hentai', 'heavy', 'announcement', 'finale', 'conway', 'limitless', 'sunny', 'causing', 'togethe', 'pooper', 'puked', 'worldofwarcraft', 'centre', 'newjersey', 'managers', 'episodes', 'credited', 'loris', 'senpai', 'cowardly', 'spelt', 'referring', 'solving', 'billion', 'birdman', 'chrabi', 'exploration', 'cheating', 'timeline', 'mersal', 'plzzzz', 'coward', 'umgowo', 'save', 'angrybirds', 'yelled', 'catches', 'suns', 'blair', 'libs', 'rivershark', 'regional', 'struggling', 'cafeteria', 'whinging', 'makeing', 'wana', 'billa', 'measuring', 'condom', 'boobs', 'hollywood', 'oooow', 'ing', 'usmc', 'gila', 'income', 'grammer', 'sob', 'chucky', 'outlets', 'sees', 'education', 'soulfulratchet', 'salmankhan', 'bart', 'anchored', 'able', 'fue', 'nanimo', 'extra', 'catching', 'toppy', 'marriedinmke', 'adoptable', 'waunakee', 'ofcus', 'addict', 'flith', 'martin', 'granny', 'divorce', 'psni', 'ths', 'carter', 'gnome', 'le', 'baddest', 'heaping', 'cream', 'crazies', 'herbs', 'cases', 'moveeee', 'ro', 'trumpass', 'suffering', 'guest', 'gaol', 'artists', 'hardman', 'omm', 'hahn', 'spewing', 'pawsome', 'bagged', 'harianque', 'aliens', 'legitimate', 'stops', 'neeh', 'psst', 'evettt', 'fixing', 'crime', 'threw', 'rockin', 'twitterpolls', 'outttt', 'milf', 'retail', 'eternal', 'zim', 'soydan', 'uper', 'stating', 'trouble', 'doe', 'commies', 'fw', 'prevail', 'sierra', 'blossoms', 'ypj', 'freak', 'affiliate', 'dominglunes', 'yoh', 'halsey', 'nicolas', 'piss', 'khanya', 'hbdprabhudheva', 'tatti', 'lore', 'drains', 'removed', 'jackson', 'advert', 'economy', 'drake', 'gta', 'wareagle', 'weed', 'mayweather', 'aldi', 'freakishly', 'washing', 'web', 'lance', 'ifb', 'brexit', 'alerts', 'repostsave', 'supplies', 'overcast', 'capt', 'substance', 'precinct', 'imaginary', 'rocked', 'versio', 'belenenses', 'heartbreak', 'lana', 'eyin', 'clingy', 'arizona', 'diplomat', 'growup', 'quav', 'draw', 'magazine', 'valentine', 'araxie', 'ohh', 'hims', 'koji', 'goodluck', 'lauren', 'proudly', 'ts', 'track', 'indiedev', 'plague', 'schofield', 'stank', 'confetti', 'socks', 'endorsement', 'falling', 'huh', 'gig', 'paula', 'setups', 'simplythebest', 'reynolds', 'clos', 'paw', 'johnny', 'perthshire', 'hide', 'ibu', 'government', 'spoiler', 'kylie', 'wasserman', 'waited', 'joe', 'flop', 'athol', 'miura', 'chopping', 'eternally', 'smoov', 'nss', 'ios', 'hay', 'justtoclarify', 'nightmare', 'bow', 'hall', 'hijabi', 'bleached', 'ver', 'restroom', 'harujion', 'skin', 'buttecounty', 'signalling', 'theeeennnks', 'scripted', 'winged', 'goodmorning', 'pardew', 'nonstop', 'underestimating', 'boyyy', 'narrative', 'nats', 'quote', 'uso', 'believes', 'fieldofability', 'brainless', 'bowl', 'slice', 'da', 'aggressive', 'tested', 'clam', 'nico', 'voiceblinds', 'rangers', 'awesomeness', 'tooooooooooooooo', 'showed', 'everytime', 'shell', 'cult', 'makechesterproud', 'bin', 'aprill', 'suspended', 'complaining', 'afcb', 'ab', 'prez', 'champions', 'newly', 'repeal', 'himym', 'bamteddy', 'jinhwan', 'ceec', 'booing', 'saturdays', 'wins', 'spain', 'classes', 'cluster', 'yeaaaah', 'alter', 'request', 'draintheswamp', 'shoes', 'los', 'tides', 'decisions', 'opps', 'notifications', 'nooo', 'pursue', 'fourth', 'ate', 'cells', 'cookies', 'proudparents', 'ild', 'eileen', 'purity', 'insider', 'sheringham', 'shipped', 'sticker', 'strong', 'option', 'gummy', 'mass', 'approximately', 'passes', 'earned', 'gown', 'gaw', 'stag', 'ta', 'fort', 'happyanniversary', 'vegan', 'opening', 'east', 'dates', 'hoe', 'erin', 'smelling', 'spouts', 'fingers', 'abeg', 'gag', 'biased', 'rare', 'yawn', 'theperfectgift', 'theperfectredvelvet', 'river', 'bars', 'kudos', 'sooooo', 'deplorables', 'accordingly', 'berkeley', 'spf', 'haitians', 'determined', 'wen', 'mother', 'paji', 'compassionate', 'ko', 'weddingphotography', 'soo', 'goofy', 'colored', 'remate', 'kimmonwolfboyparty', 'fmoig', 'infonya', 'past', 'successfully', 'general', 'keem', 'orelse', 'cancer', 'dirait', 'sammilby', 'lagoon', 'observer', 'oldandtired', 'giant', 'representation', 'wsg', 'bell', 'molina', 'usdlearns', 'lowkey', 'yassssssssssssssss', 'clueless', 'paris', 'levi', 'peersupport', 'pfrr', 'gossiped', 'takes', 'shocked', 'pose', 'kia', 'sc', 'mixed', 'indis', 'tbf', 'doooo', 'voter', 'photographers', 'maryanne', 'yexiu', 'accidentally', 'shagger', 'strings', 'straykids', 'suits', 'looongg', 'info', 'jeez', 'spoken', 'florida', 'outdoor', 'adrenal', 'bellion', 'spirit', 'dental', 'layed', 'grand', 'leia', 'wuth', 'eyh', 'closing', 'jimaccosta', 'richards', 'yahn', 'maris', 'mes', 'patriotism', 'manofthematch', 'yunhyeong', 'strut', 'pt', 'advertise', 'russian', 'newestyoungin', 'gelo', 'kathleen', 'mattis', 'trudeau', 'completer', 'schools', 'female', 'south', 'murray', 'sgu', 'thurgood', 'smiles', 'degree', 'drag', 'prabhudheva', 'casually', 'comeback', 'cakes', 'mozilla', 'fanny', 'bihhhh', 'joey', 'gabriella', 'rupaya', 'outrage', 'relationships', 'ole', 'formal', 'ariesgang', 'witch', 'narrow', 'gft', 'gained', 'turds', 'csi', 'bu', 'enti', 'duggary', 'meaning', 'jessica', 'sat', 'trails', 'grant', 'dabs', 'sticks', 'democrats', 'individual', 'pale', 'abt', 'plane', 'stoke', 'kaia', 'strikes', 'throwback', 'dip', 'kgane', 'contact', 'mata', 'sdp', 'acct', 'adore', 'rivales', 'remembering', 'company', 'happybirthdayjungmin', 'violence', 'accept', 'chase', 'ksnandnf', 'slush', 'yourock', 'unassisted', 'purchasebeats', 'legendsoftomorrow', 'sawyer', 'typing', 'bug', 'camping', 'stoning', 'manipulation', 'defend', 'pens', 'beard', 'actions', 'magoof', 'truuu', 'bringing', 'retirement', 'ruby', 'plantbased', 'potus', 'iknoww', 'emoshonal', 'mv', 'horror', 'championship', 'thx', 'sabrina', 'success', 'mash', 'manscaping', 'tries', 'swank', 'notice', 'myyyyyyyyyyy', 'belated', 'flowerroad', 'ashley', 'ungrateful', 'donald', 'subs', 'liking', 'fate', 'lonelyblond', 'freddie', 'methods', 'maiboc', 'perfectly', 'foot', 'mondaynight', 'readyy', 'yalla', 'boat', 'greasing', 'wires', 'wett', 'traitors', 'yoursel', 'inna', 'pp', 'marchmadness', 'legends', 'mnwild', 'staying', 'letsgochamp', 'armpits', 'twitters', 'maxine', 'wiggins', 'biloxi', 'chs', 'repen', 'onnnnn', 'drumpfo', 'golden', 'kuch', 'supports', 'wing', 'suspects', 'intro', 'ghost', 'eco', 'privateconsulting', 'permitted', 'personality', 'trashed', 'rayzor', 'discussion', 'twist', 'artist', 'obstruct', 'addy', 'cleared', 'calendar', 'kingdom', 'campus', 'unibrow', 'launching', 'wa', 'gawin', 'whats', 'paying', 'ly', 'proudofjackson', 'coiff', 'dae', 'tokyo', 'marquee', 'thumbnail', 'forced', 'riaa', 'mido', 'mel', 'allllll', 'votes', 'crude', 'permeates', 'spaghetti', 'lovin', 'bc', 'steph', 'zombie', 'doubles', 'governor', 'dugonggie', 'democratic', 'arm', 'grainger', 'ruined', 'sd', 'lands', 'commute', 'floating', 'bee', 'tshego', 'mvhs', 'greg', 'morrronning', 'pocketss', 'understandable', 'adorable', 'jealousydeservesbetter', 'celebrated', 'woth', 'douchebaggappaloosa', 'activist', 'hailey', 'flops', 'sooner', 'spoon', 'sinker', 'commotion', 'salvou', 'lng', 'donnie', 'litty', 'highvaluemember', 'flying', 'shining', 'jacquelinefe', 'grin', 'ethanwalli', 'evicted', 'herriman', 'scooper', 'master', 'okayyyy', 'driscoll', 'petrifying', 'inspiredaily', 'youtuber', 'ashamed', 'vegetables', 'hollered', 'chyna', 'selects', 'brand', 'bluewave', 'kaleb', 'kot', 'recipes', 'sleeps', 'sunk', 'dakota', 'mvp', 'capture', 'sing', 'blogs', 'dreaded', 'appreciation', 'ended', 'oasis', 'sponsors', 'worldautismawareness', 'yermseul', 'sps', 'ovarian', 'cuhz', 'unplugged', 'insulted', 'etsy', 'martha', 'yeeeww', 'selling', 'junk', 'struggles', 'mcms', 'edit', 'islanders', 'autocorrect', 'stars', 'purchase', 'marketing', 'instalment', 'underrated', 'seventh', 'replays', 'rats', 'panther', 'mannnnn', 'metallicanight', 'youngster', 'apologizing', 'christian', 'truely', 'blocking', 'ep', 'irrelevant', 'profile', 'esty', 'changbin', 'details', 'comp', 'soulfestszn', 'exceptional', 'shutting', 'idem', 'hotshit', 'spotted', 'payed', 'deployed', 'coyle', 'rtc', 'namjihyun', 'cheeky', 'sleeves', 'bestfriend', 'caskale', 'headed', 'drama', 'oryx', 'gh', 'rappers', 'lebron', 'required', 'immigrant', 'fxkd', 'beans', 'socal', 'aint', 'ownership', 'ec', 'quality', 'matt', 'brownies', 'unlike', 'trial', 'mabao', 'urgent', 'workers', 'libbies', 'shade', 'score', 'aaaand', 'madonsela', 'lmaoo', 'swift', 'nation', 'estelle', 'performance', 'pulling', 'possibly', 'crock', 'learned', 'cosmo', 'eastersunday', 'cereal', 'wazzup', 'hood', 'stone', 'writers', 'mystery', 'lower', 'potw', 'crawfish', 'bargain', 'analytica', 'santamonica', 'titty', 'claimed', 'niel', 'aware', 'grabbing', 'cussing', 'aimed', 'association', 'hospital', 'kanu', 'gosh', 'multi', 'waheeeeey', 'allemand', 'dolla', 'twice', 'echo', 'australia', 'cum', 'thankful', 'noted', 'whoa', 'ohmygod', 'sickest', 'nfl', 'identify', 'bog', 'needed', 'cartel', 'smooth', 'yell', 'frogloons', 'taehyung', 'hahahah', 'naquin', 'undergrad', 'ruin', 'bruv', 'correction', 'eddie', 'unsee', 'discounted', 'tail', 'fakenewsmedia', 'uput', 'adventuretime', 'jerry', 'mermaids', 'leo', 'interacted', 'pack', 'sobering', 'blackness', 'internet', 'glory', 'invulnerable', 'potluck', 'runs', 'jaebum', 'cork', 'aw', 'ng', 'fundraising', 'septic', 'parade', 'mission', 'spittrailsgoldcoast', 'yasss', 'constitution', 'aggrandizing', 'genius', 'thugs', 'kiwi', 'hearts', 'nada', 'nevertrumper', 'vip', 'handy', 'wildwildcountry', 'yessss', 'awareness', 'millers', 'emails', 'stare', 'gillian', 'honor', 'carnivorous', 'qtips', 'oshi', 'gageway', 'mtvbrfandombts', 'realistically', 'cracked', 'yelling', 'hmm', 'dunk', 'aprilfools', 'legit', 'sending', 'migos', 'yoo', 'lifetimes', 'stauffer', 'thanksgiving', 'suey', 'admire', 'roku', 'justice', 'colors', 'exxacctlyy', 'cuando', 'degrassi', 'eringance', 'il', 'remarkably', 'handshake'}\n"
     ]
    }
   ],
   "source": [
    "# attributes of the vectorizer\n",
    "\n",
    "vocab = vect.vocabulary_\n",
    "stopwords = vect.stop_words_\n",
    "print('The type of vect is: ',type(vocab),'\\n','the size of the corpus is: ',len(vocab),'\\n','the size of the stop words is: ',len(stopwords),'\\n','The stop words include:\\n',stopwords)\n",
    "\n"
   ]
  },
  {
   "cell_type": "code",
   "execution_count": 12,
   "metadata": {},
   "outputs": [
    {
     "name": "stdout",
     "output_type": "stream",
     "text": [
      "k = 1 begin \n",
      "Complete time: 0.08065366744995117 Secs.\n",
      "k = 2 begin \n",
      "Complete time: 0.0665128231048584 Secs.\n",
      "k = 3 begin \n",
      "Complete time: 0.07224893569946289 Secs.\n",
      "k = 4 begin \n",
      "Complete time: 0.06606292724609375 Secs.\n",
      "k = 5 begin \n",
      "Complete time: 0.06430411338806152 Secs.\n",
      "k = 6 begin \n",
      "Complete time: 0.061276912689208984 Secs.\n",
      "k = 7 begin \n",
      "Complete time: 0.06363582611083984 Secs.\n",
      "k = 8 begin \n",
      "Complete time: 0.07131791114807129 Secs.\n",
      "k = 9 begin \n",
      "Complete time: 0.06797385215759277 Secs.\n",
      "k = 10 begin \n",
      "Complete time: 0.0611720085144043 Secs.\n",
      "k = 11 begin \n",
      "Complete time: 0.06769919395446777 Secs.\n",
      "k = 12 begin \n",
      "Complete time: 0.06765627861022949 Secs.\n",
      "k = 13 begin \n",
      "Complete time: 0.06452178955078125 Secs.\n",
      "k = 14 begin \n",
      "Complete time: 0.07288599014282227 Secs.\n",
      "k = 15 begin \n",
      "Complete time: 0.06782984733581543 Secs.\n",
      "k = 16 begin \n",
      "Complete time: 0.06703472137451172 Secs.\n",
      "k = 17 begin \n",
      "Complete time: 0.06558394432067871 Secs.\n",
      "k = 18 begin \n",
      "Complete time: 0.07046079635620117 Secs.\n",
      "k = 19 begin \n",
      "Complete time: 0.07326197624206543 Secs.\n"
     ]
    }
   ],
   "source": [
    "k_range = range(1,20)\n",
    "scores = []\n",
    "\n",
    "# find the best k value in k_range\n",
    "for k in k_range:\n",
    "    print(\"k = \" + str(k) + \" begin \")\n",
    "    start = time.time()\n",
    "    knn = KNeighborsClassifier(n_neighbors=k)\n",
    "    knn.fit(train_matrix,trainY)\n",
    "    test_pred = knn.predict(test_matrix)\n",
    "    acc = (test_pred == testY).value_counts(normalize=True)\n",
    "    accuracy = acc.loc[True]\n",
    "    scores.append(accuracy)\n",
    "    end = time.time()\n",
    "    print(\"Complete time: \" + str(end-start) + \" Secs.\")"
   ]
  },
  {
   "cell_type": "code",
   "execution_count": 13,
   "metadata": {},
   "outputs": [
    {
     "data": {
      "image/png": "[encoded data removed]",
      "text/plain": [
       "<matplotlib.figure.Figure at 0x11092c898>"
      ]
     },
     "metadata": {},
     "output_type": "display_data"
    }
   ],
   "source": [
    "k_range = range(1,20)\n",
    "plt.figure(figsize=(8,4))\n",
    "plt.plot(k_range,scores)\n",
    "plt.xlabel('k')\n",
    "plt.ylabel('accuracy')\n",
    "plt.show()"
   ]
  },
  {
   "cell_type": "code",
   "execution_count": 14,
   "metadata": {},
   "outputs": [
    {
     "name": "stdout",
     "output_type": "stream",
     "text": [
      "True     0.510335\n",
      "False    0.489665\n",
      "Name: label, dtype: float64\n",
      "False    0.638844\n",
      "True     0.361156\n",
      "Name: label, dtype: float64\n"
     ]
    }
   ],
   "source": [
    "knn = KNeighborsClassifier(n_neighbors=8)\n",
    "knn.fit(train_matrix,trainY)\n",
    "train_pred = knn.predict(train_matrix)\n",
    "test_pred = knn.predict(test_matrix)\n",
    "\n",
    "print((train_pred == trainY).value_counts(normalize=True))\n",
    "print((test_pred == testY).value_counts(normalize=True))"
   ]
  },
  {
   "cell_type": "markdown",
   "metadata": {},
   "source": [
    "Using kNN, the accuracy on test set can reaches **36%** from **34%** after putting back the hashtag words and choose `max_features=1000`."
   ]
  },
  {
   "cell_type": "markdown",
   "metadata": {},
   "source": [
    "### 4.2 - Naive Bayes"
   ]
  },
  {
   "cell_type": "code",
   "execution_count": 15,
   "metadata": {},
   "outputs": [],
   "source": [
    "from sklearn.naive_bayes import MultinomialNB \n",
    "from sklearn.metrics import confusion_matrix\n",
    "from sklearn.model_selection import cross_val_score"
   ]
  },
  {
   "cell_type": "code",
   "execution_count": 16,
   "metadata": {},
   "outputs": [
    {
     "name": "stdout",
     "output_type": "stream",
     "text": [
      "{'sports': 6835, 'bras': 887, 'cups': 1706, 'asap': 366, 'field': 2600, 'looking': 4277, 'good': 2997, 'ready': 5874, 'bless': 744, 'airwaves': 145, 'sunday': 7062, 'april': 319, 'pm': 5511, 'special': 6793, 'guest': 3107, 'looked': 4274, 'mirror': 4659, 'started': 6899, 'honest': 3383, 'things': 7326, 'fromboytoman': 2790, 'just': 3861, 'passed': 5288, 'revenue': 6050, 'fastest': 2529, 'hit': 3336, 'number': 5048, 'calendar': 1047, 'year': 8190, 'ok': 5102, 'wo': 8059, 'mxm': 4824, 'guys': 3127, 'annoying': 265, 'hai': 3145, 'wishing': 8049, 'cute': 1722, 'little': 4215, 'stylish': 7020, 'star': 6889, 'alluayaan': 189, 'happy': 3190, 'birthday': 708, 'fans': 2508, 'god': 2976, 'customerservice': 1720, 'commonplace': 1456, 'help': 3293, 'dont': 2050, 'like': 4183, 'im': 3553, 'high': 3318, 'problem': 5659, 'says': 6279, 'lol': 4265, 'phone': 5412, 'weird': 7953, 'nope': 5008, 'went': 7964, 'having': 3235, 'passport': 5292, 'kalinga': 3877, 'kingdom': 3953, 'satan': 6259, 'loves': 4315, 'jesus': 3787, 'relate': 5938, 'laugh': 4064, 'years': 8191, 'natural': 4873, 'hair': 3149, 'journey': 3836, 'edges': 2217, 'big': 673, 'chop': 1292, 'watch': 7909, 'ht': 3439, 'got': 3019, 'fortnite': 2737, 'win': 8024, 'yesterday': 8212, 'night': 4973, 'did': 1938, 'carried': 1115, 'btw': 968, 'today': 7410, 'day': 1789, 'learn': 4097, 'make': 4399, 'soupy': 6765, 'spaghetti': 6778, 'yes': 8208, 'lmao': 4233, 'wants': 7882, 'able': 11, 'walk': 7863, 'work': 8088, 'slippers': 6644, 'transformers': 7489, 'pjs': 5465, 'people': 5359, 'start': 6898, 'shit': 6484, 'later': 4060, 'act': 42, 'victims': 7780, 'mannnnn': 4438, 'funny': 2816, 'waiting': 7859, 'winning': 8036, 'actually': 54, 'intervention': 3664, 'diadem': 1929, 'set': 6409, 'crown': 1674, 'let': 4136, 'carry': 1117, 'regalness': 5925, 'going': 2984, 'duopoly': 2165, 'hates': 3227, 'poor': 5549, 'need': 4895, 'edit': 2218, 'button': 1026, 'light': 4176, 'needed': 4897, 'shined': 6475, 'sinclair': 6573, 'thanks': 7279, 'don': 2043, 'stress': 6990, 'micro': 4609, 'exam': 2409, 'lot': 4296, 'irony': 3687, 'tweet': 7597, 'kyle': 4025, 'point': 5525, 'does': 2025, 'ones': 5126, 'calling': 1055, 'th': 7270, 'piece': 5436, 'real': 5877, 'life': 4171, 'ain': 136, 'mood': 4733, 'catch': 1138, 'feelings': 2569, 'anymore': 283, 'pays': 5326, 'paries': 5272, 'bucks': 973, 'ppl': 5594, 'dc': 1796, 'sign': 6551, 'alliance': 182, 'zionist': 8277, 'israel': 3703, 'cor': 1567, 'shot': 6517, 'way': 7923, 'vote': 7837, 'shithole': 6490, 'city': 1333, 'supplies': 7079, 'capitol': 1089, 'hill': 3327, 'afternoon': 107, 'couple': 1601, 'blocks': 754, 'hotel': 3418, 'congratulations': 1513, 'followers': 2702, 'sweet': 7127, 'guy': 3126, 'amazing': 207, 'gonna': 2995, 'epic': 2337, 'hyped': 3488, 'rocketleague': 6123, 'excited': 2417, 'hype': 3487, 'works': 8093, 've': 7756, 'rename': 5970, 'deplorables': 1886, 'bots': 848, 'stay': 6919, 'men': 4559, 'getting': 2907, 'creative': 1645, 'enter': 2317, 'dms': 2014, 'damnnnn': 1755, 'lil': 4189, 'youngster': 8239, 'dick': 1934, 'columbia': 1425, 'paul': 5312, 'ince': 3584, 'share': 6446, 'news': 4940, 'forget': 2725, 'cici': 1319, 'firstdates': 2646, 'know': 3985, 'wednesday': 7944, 'didn': 1939, 'video': 7783, 'mention': 4566, 'thought': 7338, 'hysterical': 3493, 'new': 4930, 'channel': 1209, 'check': 1238, 'hold': 3356, 'em': 2264, 'inning': 3627, 'letsgo': 4138, 'everybodyin': 2393, 'tweets': 7601, 'hbdadorablealluayaan': 3242, 'hey': 3311, 'glad': 2952, 'hear': 3264, 'great': 3061, 'david': 1782, 'hogg': 3354, 'wash': 7898, 'legend': 4115, 'mind': 4642, 'ask': 374, 'think': 7328, 'dog': 2028, 'scrape': 6309, 'shoes': 6502, 'kidi': 3935, 'viva': 7815, 'band': 523, 'kidixvivaband': 3936, 'akwaabauk': 150, 'vgma': 7775, 'space': 6774, 'wow': 8117, 'came': 1062, 'online': 5130, 'dah': 1741, 'mimi': 4640, 'gossiped': 3017, 'forward': 2740, 'giving': 2950, 'sms': 6674, 'votes': 7842, 'bbnaija': 578, 'growing': 3090, 'tail': 7156, 'stalking': 6878, 'page': 5235, 'huh': 3453, 'churchflow': 1316, 'tho': 7333, 'alive': 175, 'center': 1174, 'celebration': 1166, 'itsgoingtobeamightymoveofgod': 3717, 'iminthere': 3562, 'hang': 3172, 'tough': 7452, 'richard': 6070, 'hugh': 3450, 'twitter': 7609, 'shut': 6533, 'account': 28, 'school': 6296, 'pleasure': 5496, 'frogloons': 2788, 'quite': 5793, 'jon': 3826, 'embarrassment': 2271, 'alces': 159, 'rb': 5859, 'talks': 7171, 'asshat': 390, 'wh': 7974, 'release': 5946, 'tax': 7198, 'forms': 2732, 'looks': 4278, 'beautiful': 598, 'ballgame': 516, 'evening': 2386, 'million': 4634, 'dollar': 2035, 'creep': 1653, 'spin': 6810, 'universe': 7678, 'girl': 2935, 'ate': 404, 'grilled': 3075, 'cheese': 1248, 'fucked': 2798, 'worse': 8109, 'better': 658, 'trash': 7494, 'dump': 2157, 'happening': 3181, 'loud': 4301, 'yeah': 8186, 'pat': 5298, 'phelan': 5406, 'man': 4418, 'lives': 4225, 'corrie': 1577, 'memo': 4553, 'person': 5381, 'fox': 2751, 'stuck': 7005, 'foxnews': 2752, 'haha': 3137, 'holy': 3370, 'kids': 3937, 'talking': 7170, 'ass': 383, 'signed': 6554, 'kill': 3939, 'daca': 1735, 'shooting': 6506, 'suspect': 7109, 'article': 363, 'white': 7993, 'crazy': 1637, 'time': 7378, 'finally': 2626, 'diagnosis': 1930, 'really': 5886, 'want': 7879, 'understand': 7653, 'hard': 3202, 'cracking': 1627, 'live': 4219, 'planet': 5474, 'https': 3445, 'bootech': 827, 'smelling': 6661, 'sweaty': 7125, 'musky': 4816, 'stinky': 6949, 'booty': 829, 'hott': 3424, 'hate': 3223, 'try': 7560, 'junk': 3860, 'bs': 961, 'excuseme': 2421, 'keepthat': 3909, 'bday': 584, 'ken': 3912, 'best': 644, 'friends': 2782, 'kickass': 3930, 'love': 4306, 'ha': 3132, 'shutting': 6534, 'xx': 8153, 'lock': 4255, 'play': 5483, 'doh': 2032, 'bong': 806, 'hope': 3400, 'remember': 5956, 'pile': 5443, 'administration': 65, 'doing': 2033, 'zero': 8274, 'putin': 5761, 'omg': 5117, 'hi': 3313, 'saw': 6273, 'art': 360, 'lucecelestialemnl': 4335, 'event': 2388, 'say': 6275, 'walks': 7867, 'dressing': 2113, 'room': 6146, 'bro': 922, 'scared': 6286, 'followed': 2700, 'nose': 5018, 'piercing': 5437, 'wicked': 8005, 'retweet': 6043, 'fucking': 2801, 'hilarious': 3326, 'consistent': 1528, 'rippy': 6095, 'ugly': 7629, 'moveeee': 4765, 'onnnnn': 5134, 'ikr': 3539, 'horrible': 3409, 'earth': 2185, 'near': 4889, 'children': 1267, 'mueller': 4794, 'impeachtrumpnow': 3573, 'africa': 105, 'develop': 1919, 'smell': 6660, 'armpits': 343, 'decide': 1825, 'bath': 568, 'hoping': 3404, 'spring': 6848, 'arrive': 349, 'soonest': 6734, 'days': 1792, 'reality': 5882, 'payed': 5321, 'straight': 6979, 'thug': 7351, 'sucked': 7041, 'hole': 3359, 'rimmed': 6086, 'youngsters': 8240, 'alm': 191, 'manscaping': 4441, 'helps': 3297, 'speed': 6798, 'athleticism': 407, 'gym': 3131, 'feel': 2566, 'lighter': 4178, 'lk': 4229, 'anal': 231, 'fam': 2499, 'dearest': 1809, 'lisi': 4204, 'joy': 3837, 'hours': 3427, 'coloured': 1423, 'makeup': 4405, 'timing': 7381, 'mom': 4705, 'yo': 8222, 'trump': 7548, 'traitor': 7481, 'toxic': 7458, 'said': 6221, 'meant': 4521, 'loser': 4290, 'screwed': 6317, 'ah': 121, 'swear': 7120, 'wanna': 7877, 'use': 7717, 'steph': 6930, 'feet': 2571, 'desk': 1903, 'settle': 6410, 'enjoy': 2309, 'trumper': 7550, 'trumpers': 7551, 'wear': 7933, 'badge': 499, 'yehundinonkibaathai': 8197, 'team': 7217, 'completing': 1478, 'episodes': 2339, 'wanted': 7880, 'beat': 594, 'kid': 3933, 'outside': 5197, 'family': 2502, 'bad': 495, 'yeaaaah': 8185, 'single': 6579, 'forever': 2723, 'leave': 4103, 'quote': 5795, 'stole': 6958, 'lex': 4148, 'bronze': 933, 'players': 5487, 'bigger': 678, 'ego': 2231, 'masters': 4486, 'constructive': 1533, 'criticism': 1666, 'wild': 8016, 'thoughts': 7339, 'ya': 8155, 'called': 1054, 'leaders': 4091, 'turned': 7581, 'brain': 882, 'fart': 2518, 'fakepresident': 2492, 'roxy': 6164, 'weeks': 7951, 'ago': 117, 'moved': 4764, 'away': 454, 'neighbours': 4909, 'week': 7948, 'jin': 3799, 'bihhh': 688, 'turn': 7580, 'upppppp': 7705, 'paragraph': 5266, 'understood': 7657, 'gotta': 3022, 'chores': 1297, 'lit': 4213, 'english': 2307, 'home': 3371, 'pirates': 5457, 'acosta': 38, 'fired': 2643, 'jay': 3756, 'congrats': 1510, 'winners': 8035, 'eastersowetopicnic': 2196, 'save': 6267, 'date': 1774, 'stand': 6882, 'self': 6364, 'half': 3153, 'hands': 3168, 'bull': 994, 'perthshire': 5389, 'misaw': 4661, 'mentions': 4569, 'reach': 5862, 'likes': 4186, 'reply': 5987, 'wit': 8050, 'bts': 965, 'army': 345, 'bombs': 799, 'giveaway': 2945, 'prizes': 5654, 'bomb': 798, 'ver': 7762, 'ga': 2828, 'consist': 1527, 'place': 5467, 'disappeared': 1972, 'season': 6336, 'premiere': 5615, 'buddy': 976, 'shows': 6529, 'look': 4273, 'nights': 4975, 'stop': 6965, 'making': 4407, 'greatamericancookies': 3062, 'gacnorth': 2830, 'american': 219, 'cookies': 1555, 'repen': 5980, 'dat': 1772, 'bruh': 952, 'oh': 5097, 'easy': 2198, 'fix': 2651, 'visit': 7811, 'pr': 5595, 'add': 58, 'confetti': 1501, 'motivationalmonday': 4756, 'mymancrush': 4826, 'ys': 8255, 'old': 5106, 'tape': 7182, 'collection': 1411, 'gnome': 2970, 'ladies': 4032, 'gentlemen': 2893, 'mad': 4367, 'ion': 3677, 'gone': 2993, 'lie': 4167, 'heartless': 3269, 'fell': 2577, 'money': 4721, 'dead': 1799, 'chip': 1277, 'ole': 5111, 'block': 747, 'dems': 1878, 'poster': 5574, 'boy': 866, 'progressives': 5680, 'future': 2820, 'suicide': 7055, 'option': 5161, 'sexy': 6420, 'eyes': 2460, 'kick': 3929, 'ollie': 5112, 'pretend': 5628, 'stardust': 6892, 'arrow': 353, 'wwe': 8141, 'boyfriend': 872, 'shops': 6511, 'dungarees': 2161, 'webcam': 7939, 'calls': 1056, 'movies': 4769, 'shyloh': 6537, 'myeverything': 4825, 'birthdayboy': 710, 'loveyou': 4316, 'true': 7544, 'jealous': 3764, 'yermseul': 8207, 'cutest': 1723, 'eyeing': 2459, 'changes': 1205, 'provide': 5706, 'boost': 824, 'pay': 5319, 'pensions': 5356, 'grove': 3088, 'nearest': 4890, 'dispensary': 1988, 'mccarran': 4511, 'international': 3660, 'airport': 144, 'minute': 4653, 'ride': 6077, 'uber': 7622, 'lyft': 4356, 'spoiled': 6823, 'ungrateful': 7665, 'classy': 1350, 'won': 8066, 'kicked': 3931, 'supposed': 7091, 'undo': 7659, 'progressive': 5678, 'woman': 8063, 'mf': 4595, 'grinding': 3079, 'biloxi': 698, 'shoppin': 6509, 'snow': 6694, 'crabs': 1624, 'beg': 614, 'fw': 2821, 'll': 4231, 'existed': 2426, 'quick': 5785, 'seen': 6357, 'tactic': 7152, 'stormy': 6975, 'russia': 6197, 'ect': 2212, 'fact': 2478, 'tell': 7245, 'killing': 3943, 'killed': 3940, 'evil': 2399, 'prevail': 5632, 'rid': 6075, 'america': 218, 'send': 6376, 'iran': 3682, 'gitmo': 2943, 'thank': 7275, 'clown': 1376, 'tattoo': 7194, 'lucky': 4338, 'nah': 4842, 'probs': 5661, 'keem': 3904, 'invite': 3673, 'bigbang': 674, 'amp': 226, 'vips': 7802, 'flowerroad': 2678, 'melon': 4544, 'popularity': 5556, 'award': 450, 'consecutive': 1522, 'audacity': 424, 'livestream': 4226, 'enjoyed': 2311, 'ed': 2213, 'betting': 659, 'mark': 4459, 'bitchslap': 722, 'awesome': 456, 'inconvenient': 3591, 'manutd': 4443, 'transfer': 7486, 'rumours': 6189, 'martial': 4474, 'gea': 2874, 'swapped': 7118, 'ronaldo': 6139, 'bale': 513, 'monday': 4716, 'aways': 455, 'fowget': 2750, 'tweetchoir': 7598, 'wookie': 8078, 'worth': 8112, 'effort': 2226, 'shill': 6473, 'fish': 2648, 'lipped': 4201, 'ck': 1334, 'eat': 2200, 'plate': 5481, 'skp': 6614, 'greet': 3069, 'nice': 4952, 'presence': 5619, 'kisse': 3962, 'bestfriends': 647, 'jerking': 3780, 'saved': 6268, 'music': 4812, 'yep': 8205, 'demanding': 1867, 'gave': 2863, 'zlatan': 8278, 'imagine': 3557, 'football': 2716, 'typed': 7615, 'words': 8087, 'boo': 809, 'cousin': 1609, 'bud': 974, 'morning': 4740, 'world': 8096, 'managed': 4420, 'screen': 6315, 'capture': 1094, 'removed': 5967, 'bitch': 718, 'soooo': 6737, 'product': 5668, 'review': 6051, 'arteza': 361, 'colored': 1419, 'pens': 5354, 'pencils': 5350, 'damn': 1754, 'edm': 2221, 'trap': 7492, 'yeaaaaahhh': 8184, 'rooted': 6150, 'brother': 941, 'thankful': 7277, 'believe': 626, 'woohoooo': 8077, 'stright': 6991, 'official': 5086, 'hashtag': 3220, 'join': 3816, 'stream': 6986, 'trend': 7512, 'rt': 6169, 'spread': 6845, 'told': 7420, 'heart': 3267, 'heavy': 3274, 'maybe': 4504, 'thing': 7325, 'definitely': 1843, 'complete': 1475, 'brilliant': 916, 'shouldve': 6520, 'honda': 3382, 'safe': 6216, 'tooooooooooooooo': 7437, 'forgot': 2727, 'mixer': 4682, 'swag': 7114, 'hoodie': 3393, 'peop': 5357, 'baby': 485, 'happen': 3179, 'jail': 3735, 'performance': 5367, 'country': 1598, 'radio': 5807, 'takayoshi': 7159, 'cheers': 1247, 'mix': 4680, 'breddah': 901, 'listening': 4209, 'careful': 1105, 'study': 7012, 'photos': 5420, 'hes': 3306, 'gotten': 3023, 'hotter': 3425, 'older': 5108, 'sitting': 6597, 'okay': 5103, 'sound': 6759, 'far': 2512, 'arrested': 348, 'based': 557, 'liverpool': 4224, 'uk': 7636, 'hrs': 3437, 'shet': 6468, 'ang': 244, 'solid': 6711, 'filled': 2617, 'survey': 7104, 'discount': 1977, 'tank': 7180, 'appears': 302, 'mess': 4579, 'kit': 3965, 'bunch': 1002, 'col': 1404, 'tobi': 7408, 'nina': 4979, 'silly': 6562, 'nominating': 4996, 'advance': 81, 'totally': 7448, 'understandable': 7654, 'fan': 2504, 'ig': 3529, 'story': 6977, 'changmin': 1208, 'cooking': 1556, 'hand': 3162, 'proud': 5700, 'mentioning': 4568, 'miracle': 4656, 'nexxxxxxt': 4942, 'tired': 7391, 'bed': 603, 'tonight': 7428, 'hell': 3288, 'latest': 4061, 'game': 2843, 'prototype': 5699, 'delivery': 1863, 'finished': 2639, 'embarrassed': 2269, 'lebron': 4105, 'kobe': 3991, 'bean': 587, 'bryant': 959, 'outta': 5199, 'broom': 936, 'yea': 8183, 'losing': 4293, 'buko': 993, 'right': 6082, 'pockets': 5514, 'sad': 6213, 'blocked': 751, 'pos': 5562, 'telling': 7246, 'shitassperformer': 6485, 'freebiefriday': 2767, 'fabulous': 2469, 'easter': 2192, 'bundle': 1004, 'designer': 1900, 'accessories': 23, 'saving': 6270, 'college': 1413, 'rough': 6159, 'savings': 6271, 'tips': 7388, 'uncle': 7647, 'punish': 5736, 'muslim': 4817, 'asked': 375, 'points': 5526, 'qotd': 5772, 'favourite': 2543, 'answer': 271, 'phoebe': 5411, 'frds': 2757, 'milfs': 4627, 'test': 7261, 'text': 7265, 'result': 6031, 'meme': 4551, 'gives': 2948, 'literally': 4214, 'longer': 4271, 'talk': 7168, 'childhood': 1265, 'probably': 5658, 'vegas': 7758, 'trip': 7525, 'dear': 1808, 'tmgs': 7404, 'flavor': 2661, 'doodoo': 2058, 'mixture': 4684, 'trying': 7561, 'accounts': 31, 'private': 5648, 'grew': 3073, 'hahahahahahah': 3142, 'jess': 3784, 'ing': 3616, 'tomorrow': 7424, 'party': 5285, 'brains': 884, 'wasted': 7906, 'dollars': 2036, 'stupid': 7016, 'formal': 2730, 'haven': 3233, 'texts': 7268, 'facetime': 2474, 'ur': 7710, 'lunch': 4345, 'retweets': 6045, 'follower': 2701, 'fashit': 2526, 'sho': 6498, 'sum': 7058, 'fuck': 2797, 'ted': 7234, 'nuggets': 5044, 'shout': 6521, 'nicole': 4963, 'knowing': 3986, 'helped': 3294, 'options': 5162, 'market': 4461, 'cap': 1083, 'maxcoin': 4502, 'overtakes': 5211, 'eth': 2375, 'list': 4205, 'app': 298, 'plan': 5472, 'sleep': 6629, 'soon': 6732, 'smile': 6665, 'votenana': 7839, 'ssaamu': 6866, 'requested': 6003, 'tried': 7520, 'draw': 2097, 'kitkat': 3967, 'cookie': 1554, 'dough': 2077, 'dude': 2146, 'asshole': 391, 'laughing': 4066, 'stock': 6951, 'entire': 2325, 'drop': 2127, 'hamilton': 3158, 'peraza': 5362, 'nigga': 4969, 'crying': 1679, 'chick': 1260, 'come': 1432, 'gee': 2878, 'rhyme': 6064, 'stuff': 7014, 'yr': 8253, 'mackenzie': 4366, 'divorce': 2005, 'papers': 5262, 'midterm': 4616, 'happens': 3182, 'crooked': 1668, 'nicer': 4955, 'survive': 7106, 'unless': 7682, 'nerdy': 4914, 'trolling': 7531, 'android': 243, 'using': 7722, 'broly': 932, 'lmaooooooo': 4238, 'armour': 342, 'feels': 2570, 'month': 4731, 'powerbank': 5588, 'fast': 2528, 'customer': 1718, 'service': 6405, 'meet': 4537, 'cans': 1081, 'demands': 1868, 'buildthewall': 991, 'doo': 2055, 'beach': 586, 'taehyung': 7154, 'jimin': 3798, 'bangtan': 531, 'vmin': 7819, 'vine': 7796, 'flex': 2664, 'implore': 3574, 'expensive': 2436, 'follow': 2699, 'myundeniableobsession': 4834, 'rooftops': 6144, 'write': 8127, 'post': 5572, 'officially': 5087, 'blogging': 757, 'anniversary': 261, 'sister': 6591, 'dopemans': 2066, 'tch': 7208, 'bout': 858, 'meek': 4535, 'painful': 5238, 'intervals': 3663, 'finisher': 2640, 'trynna': 7563, 'impress': 3578, 'abel': 8, 'snatched': 6684, 'soul': 6753, 'pressures': 5627, 'shite': 6488, 'johnson': 3813, 'sort': 6748, 'mate': 4491, 'overprotective': 5208, 'mines': 4647, 'writing': 8131, 'boot': 826, 'camp': 1067, 'exercising': 2424, 'minds': 4644, 'bodies': 787, 'strongwriters': 6998, 'destinationexcellence': 1909, 'idgaf': 3519, 'liking': 4188, 'sugar': 7051, 'daddy': 1737, 'buttt': 1027, 'mommas': 4709, 'lmfao': 4240, 'tiny': 7385, 'af': 95, 'stockport': 6954, 'county': 1600, 'crap': 1629, 'network': 4924, 'cnn': 1385, 'somebody': 6718, 'apple': 304, 'quiz': 5794, 'effects': 2224, 'accurate': 35, 'assaulting': 385, 'sport': 6834, 'watching': 7913, 'nakka': 4847, 'useful': 7719, 'info': 3610, 'update': 7697, 'secret': 6346, 'deshalb': 1898, 'black': 728, 'sleeps': 6631, 'concerts': 1492, 'vibes': 7777, 'plz': 5509, 'heartbreak': 3268, 'sickkkkkkk': 6543, 'dumb': 2154, 'ended': 2293, 'er': 2345, 'idk': 3523, 'daughter': 1777, 'happybirthday': 3193, 'linda': 4194, 'hunt': 3470, 'academy': 17, 'winner': 8034, 'turns': 7583, 'gallagher': 2840, 'responds': 6023, 'oasis': 5061, 'voted': 7838, 'british': 921, 'song': 6723, 'awwwwwww': 468, 'wedding': 7942, 'pics': 5430, 'cup': 1703, 'collab': 1409, 'starbucks': 6890, 'giftcard': 2924, 'moxee': 4772, 'eyeshadow': 2461, 'choice': 1287, 'privateconsulting': 5649, 'coluzzi': 1427, 'kicking': 3932, 'working': 8091, 'aidan': 133, 'driscoll': 2122, 'waunakee': 7918, 'ama': 203, 'noon': 5005, 'pst': 5716, 'est': 2366, 'tuesday': 7572, 'askheranything': 376, 'sick': 6540, 'casuallly': 1134, 'tree': 7508, 'support': 7082, 'champions': 1198, 'kudos': 4016, 'free': 2765, 'collins': 1414, 'subscriber': 7028, 'mins': 4651, 'reading': 5872, 'blog': 755, 'experience': 2439, 'youbetterwriteone': 8234, 'orelse': 5172, 'baddest': 498, 'wait': 7857, 'makes': 4404, 'sense': 6385, 'internally': 3659, 'died': 1942, 'inside': 3634, 'feliz': 2576, 'tarde': 7183, 'ayer': 474, 'san': 6241, 'louis': 4302, 'toronto': 7444, 'ov': 5201, 'detroit': 1916, 'boston': 841, 'imdians': 3560, 'ml': 4688, 'morocha': 4742, 'sooo': 6735, 'knows': 3989, 'embarrassing': 2270, 'daily': 1743, 'jimaccosta': 3797, 'wha': 7975, 'matt': 4496, 'weekend': 7949, 'truuu': 7559, 'tells': 7247, 'lies': 4170, 'believes': 627, 'mozlems': 4776, 'expelled': 2434, 'east': 2189, 'ldn': 4086, 'inshaallah': 3633, 'jihad': 3794, 'essex': 2365, 'tl': 7401, 'defending': 1840, 'halsey': 3157, 'throwing': 7348, 'shade': 6428, 'confuseeeed': 1508, 'ksnandnf': 4014, 'explain': 2442, 'pfrr': 5402, 'fun': 2808, 'running': 6193, 'pickups': 5429, 'dudes': 2147, 'saucy': 6264, 'boys': 874, 'opener': 5149, 'naturally': 4874, 'mean': 4517, 'cheating': 1236, 'internet': 3661, 'hahah': 3138, 'lesson': 4133, 'wing': 8031, 'conspiracy': 1530, 'smart': 6654, 'organize': 5175, 'spoken': 6826, 'virtuoso': 7807, 'luda': 4341, 'outstanding': 5198, 'snatches': 6685, 'available': 438, 'yard': 8171, 'carries': 1116, 'subway': 7033, 'hypeman': 3489, 'deserves': 1897, 'accolades': 25, 'voiceknockouts': 7825, 'thevoice': 7317, 'forgive': 2726, 'princess': 5643, 'henry': 3299, 'bat': 566, 'evenly': 2387, 'usually': 7728, 'represented': 5998, 'folks': 2696, 'lose': 4289, 'situations': 6599, 'begin': 615, 'clear': 1354, 'essence': 2363, 'shares': 6447, 'customers': 1719, 'continued': 1542, 'supp': 7077, 'annalaan': 259, 'pick': 5425, 'oops': 5144, 'pure': 5747, 'agree': 118, 'barack': 540, 'hussein': 3479, 'obama': 5062, 'plus': 5507, 'driver': 2124, 'packed': 5229, 'sportstour': 6836, 'street': 6988, 'attending': 419, 'uc': 7623, 'santa': 6249, 'cruz': 1678, 'fall': 2496, 'moving': 4770, 'deadass': 1800, 'promise': 5684, 'head': 3248, 'jump': 3854, 'deal': 1805, 'dinners': 1958, 'chowder': 1299, 'salad': 6226, 'clam': 1339, 'cakes': 1045, 'asf': 368, 'pooper': 5546, 'used': 7718, 'wax': 7922, 'niggas': 4970, 'dice': 1933, 'hiding': 3317, 'luxxball': 4352, 'la': 4027, 'wasn': 7903, 'globe': 2961, 'theatre': 7286, 'patience': 5302, 'virtue': 7806, 'tambokikoy': 7177, 'ng': 4945, 'leyte': 4149, 'deserve': 1895, 'happiness': 3188, 'messenger': 4582, 'class': 1345, 'avi': 443, 'double': 2070, 'century': 1177, 'brought': 943, 'rich': 6069, 'lmaooo': 4235, 'idiot': 3520, 'rul': 6182, 'album': 155, 'following': 2703, 'ends': 2299, 'worl': 8095, 'broooo': 937, 'wtf': 8136, 'bugging': 982, 'boogie': 813, 'military': 4628, 'keeping': 3907, 'navy': 4877, 'air': 138, 'force': 2718, 'marines': 4453, 'coast': 1388, 'guard': 3101, 'national': 4869, 'nationa': 4868, 'oryx': 5180, 'awwwww': 467, 'sis': 6589, 'heard': 3265, 'bit': 717, 'warmer': 7891, 'second': 6343, 'row': 6163, 'named': 4849, 'stcos': 6924, 'hot': 3417, 'dugonggie': 2151, 'featured': 2556, 'read': 5870, 'chalk': 1190, 'young': 8235, 'facebook': 2471, 'jaspin': 3752, 'drew': 2114, 'memories': 4556, 'difference': 1946, 'sam': 6237, 'losers': 4291, 'gh': 2912, 'cubs': 1694, 'offense': 5080, 'zuckface': 8286, 'took': 7435, 'tome': 7423, 'dome': 2040, 'fecesbook': 2559, 'emotions': 2284, 'episode': 2338, 'thiscountry': 7332, 'dontdothattome': 2051, 'cause': 1149, 'everybody': 2392, 'inna': 3625, 'relationship': 5941, 'charts': 1228, 'lhhatl': 4150, 'complimented': 1483, 'couldn': 1593, 'happier': 3184, 'pale': 5250, 'face': 2470, 'donald': 2044, 'wall': 7868, 'ahe': 125, 'blended': 742, 'beavers': 601, 'times': 7380, 'sentence': 6388, 'wildwildcountry': 8019, 'bonkers': 807, 'dreams': 2109, 'neurologist': 4925, 'reaction': 5867, 'phora': 5415, 'sinner': 6583, 'aren': 330, 'bright': 913, 'means': 4520, 'dad': 1736, 'takes': 7162, 'advantage': 82, 'design': 1899, 'church': 1315, 'pk': 5466, 'itsok': 3718, 'stilllovehim': 6946, 'buh': 985, 'bye': 1034, 'democratic': 1875, 'rep': 5977, 'esty': 2372, 'seek': 6355, 'election': 2249, 'abuse': 15, 'claims': 1338, 'ex': 2406, 'staffer': 6874, 'total': 7447, 'joke': 3821, 'holepotus': 3360, 'benefits': 638, 'open': 5147, 'close': 1369, 'thumbs': 7354, 'en': 2290, 'los': 4288, 'gifs': 2922, 'thiiiiiiiiiiiiiiiiissssssss': 7323, 'sendbeats': 6377, 'beats': 597, 'freebeats': 2766, 'buybeats': 1029, 'fool': 2710, 'received': 5894, 'listing': 4211, 'wonderful': 8068, 'ahead': 126, 'lots': 4297, 'smiles': 6666, 'ti': 7359, 'job': 3805, 'northern': 5014, 'division': 2004, 'talented': 7167, 'destined': 1910, 'greatness': 3065, 'pretty': 5631, 'sure': 7095, 'girls': 2941, 'dickheads': 1936, 'roll': 6133, 'bladdered': 732, 'nuts': 5052, 'headass': 3250, 'friend': 2780, 'jaylon': 3758, 'females': 2584, 'spill': 6809, 'tea': 7212, 'wonder': 8067, 'bet': 652, 'scrubbed': 6322, 'level': 4144, 'playing': 5488, 'amazon': 210, 'disrupted': 1992, 'brick': 910, 'mortar': 4747, 'bravo': 889, 'capitalism': 1086, 'present': 5620, 'end': 2292, 'discussion': 1983, 'including': 3588, 'relationships': 5942, 'friendships': 2785, 'break': 892, 'taught': 7196, 'stack': 6873, 'dope': 2065, 'results': 6032, 'proc': 5662, 'gen': 2883, 'foam': 2690, 'presents': 5622, 'zim': 8275, 'friday': 2777, 'bailly': 507, 'offfffff': 5083, 'mufc': 4795, 'immigrants': 3567, 'business': 1015, 'insider': 3635, 'cook': 1553, 'themiraclewemet': 7302, 'firstbroadcast': 2645, 'istrending': 3710, 'korea': 4000, 'exo': 2428, 'ls': 4331, 'twee': 7596, 'incase': 3583, 'laughed': 4065, 'holloway': 3366, 'stepped': 6932, 'welcome': 7955, 'quiestion': 5788, 'loooooool': 4281, 'obstruct': 5070, 'justice': 3862, 'spokespersons': 6827, 'bring': 917, 'hoodies': 3394, 'sweat': 7122, 'shirts': 6483, 'movement': 4766, 'proudofjackson': 5702, 'gold': 2986, 'medal': 4527, 'fencer': 2587, 'entertainer': 2321, 'aspire': 382, 'songsong': 6725, 'ght': 2916, 'wins': 8037, 'finning': 2642, 'cat': 1136, 'trusted': 7557, 'partner': 5283, 'killer': 3941, 'humor': 3462, 'showing': 6528, 'mike': 4620, 'decision': 1827, 'case': 1126, 'negative': 4904, 'cautious': 1151, 'confuse': 1506, 'americans': 221, 'exactly': 2408, 'freakishly': 2761, 'unbelievable': 7644, 'agregenme': 120, 'trailer': 7475, 'filming': 2620, 'thekingsavatar': 7298, 'yangyang': 8166, 'yexiu': 8214, 'ava': 437, 'tour': 7454, 'begins': 619, 'keit': 3910, 'note': 5019, 'hotfix': 3419, 'illustrated': 3548, 'fools': 2713, 'spend': 6801, 'weak': 7930, 'ceased': 1158, 'amaze': 205, 'falcon': 2493, 'goal': 2973, 'scoring': 6305, 'celebrations': 1167, 'stitches': 6950, 'foot': 2714, 'leathered': 4102, 'meat': 4525, 'large': 4051, 'bruise': 954, 'slice': 6634, 'cas': 1124, 'blah': 733, 'racist': 5803, 'shithead': 6489, 'racism': 5802, 'bump': 1001, 'sudden': 7045, 'gwe': 3129, 'giant': 2919, 'tm': 7403, 'dhulan': 1927, 'bn': 775, 'itni': 3715, 'koji': 3993, 'lago': 4035, 'gi': 2917, 'crickets': 1658, 'daniel': 1763, 'magazine': 4382, 'sit': 6593, 'dryer': 2139, 'decisions': 1828, 'listeningto': 4210, 'adele': 63, 'iron': 3685, 'nehru': 4907, 'jacket': 3726, 'rainy': 5820, 'jim': 3796, 'lying': 4357, 'shame': 6441, 'allows': 188, 'continue': 1541, 'buffoonery': 980, 'geniusyonngiday': 2891, 'celebrate': 1161, 'micdropremix': 4603, 'shazams': 6455, 'atf': 405, 'rex': 6056, 'built': 992, 'ahhh': 128, 'boss': 840, 'riverdale': 6101, 'renewed': 5973, 'bugheads': 984, 'pink': 5453, 'fave': 2536, 'movle': 4771, 'realise': 5878, 'grass': 3054, 'green': 3067, 'facts': 2480, 'freak': 2758, 'yay': 8179, 'load': 4247, 'fantasy': 2511, 'liberal': 4156, 'commies': 1452, 'shred': 6530, 'evidence': 2398, 'docume': 2019, 'gif': 2921, 'brassknuckles': 888, 'newjersey': 4937, 'york': 8230, 'responded': 6021, 'bc': 580, 'walking': 7866, 'bag': 502, 'coward': 1614, 'spoon': 6833, 'funnyjoke': 2817, 'memes': 4552, 'updated': 7698, 'guessing': 3106, 'tougher': 7453, 'road': 6112, 'honestly': 3384, 'lost': 4295, 'flunkies': 2681, 'genuinely': 2895, 'supportive': 7087, 'reason': 5889, 'bash': 559, 'dogs': 2031, 'conversation': 1549, 'booking': 819, 'blac': 727, 'chyna': 1317, 'picked': 5426, 'toy': 7459, 'car': 1096, 'threw': 7343, 'utton': 7732, 'roke': 6129, 'eileen': 2238, 'chs': 1308, 'calma': 1058, 'picture': 5431, 'thousand': 7340, 'snake': 6678, 'worst': 8110, 'president': 5623, 'lets': 4137, 'delivered': 1861, 'ordered': 5169, 'sending': 6378, 'wishes': 8048, 'positive': 5567, 'listen': 4207, 'doctors': 2018, 'movie': 4768, 'hits': 3337, 'leaving': 4104, 'smiling': 6668, 'realist': 5880, 'ro': 6109, 'awwww': 466, 'sorry': 6747, 'happened': 3180, 'homemade': 3376, 'velveta': 7761, 'insane': 3631, 'slides': 6636, 'successfully': 7038, 'sink': 6581, 'spent': 6803, 'replies': 5986, 'given': 2947, 'ily': 3551, 'youre': 8241, 'id': 3510, 'mornin': 4739, 'fat': 2531, 'babies': 483, 'koko': 3995, 'fbrparty': 2549, 'miss': 4666, 'foul': 2746, 'drive': 2123, 'terry': 7260, 'mills': 4637, 'drills': 2117, 'honcholee': 3381, 'performing': 5368, 'antonio': 279, 'htt': 3443, 'gordon': 3013, 'pulling': 5730, 'dears': 1810, 'league': 4095, 'derby': 1891, 'walker': 7865, 'honour': 3390, 'spurs': 6854, 'translation': 7491, 'deep': 1833, 'pissed': 5459, 'dramatic': 2095, 'seaotters': 6333, 'ingraham': 3617, 'sponsor': 6829, 'colace': 1405, 'creator': 1647, 'oxycontin': 5221, 'btsarmy': 966, 'botmys': 846, 'catmys': 1145, 'glitchmys': 2959, 'mouth': 4762, 'gop': 3010, 'stayed': 6921, 'supported': 7083, 'police': 5532, 'carpentry': 1112, 'cluster': 1381, 'turning': 7582, 'fed': 2560, 'fascinating': 2523, 'science': 6298, 'cosmos': 1583, 'sandstorms': 6245, 'sandpaper': 6244, 'engine': 2304, 'broke': 930, 'animals': 253, 'disrespect': 1990, 'savage': 6266, 'yall': 8164, 'voting': 7843, 'champion': 1197, 'idol': 3525, 'champ': 1196, 'colossal': 1421, 'cunt': 1702, 'colorado': 1418, 'sunshine': 7070, 'ooooooh': 5142, 'denver': 1881, 'boycottcnn': 869, 'advertisers': 90, 'bully': 999, 'fakenewsmedia': 2490, 'okayyyy': 5104, 'coool': 1559, 'brows': 947, 'wish': 8047, 'erase': 2347, 'remove': 5966, 'semi': 6373, 'permanent': 5373, 'contact': 1535, 'consultation': 1534, 'hubby': 3446, 'napa': 4858, 'california': 1051, 'troublemaker': 7538, 'squad': 6855, 'goals': 2974, 'clueless': 1380, 'dress': 2110, 'example': 2411, 'power': 5587, 'petty': 5400, 'child': 1264, 'openly': 5151, 'engages': 2303, 'excellent': 2413, 'ups': 7706, 'background': 489, 'photo': 5416, 'realized': 5884, 'gamedev': 2845, 'unity': 7677, 'madewithunity': 4373, 'screenshotsaturday': 6316, 'indiedevhour': 3599, 'indiedev': 3598, 'tv': 7587, 'kind': 3948, 'wouldn': 8116, 'bestie': 648, 'pretending': 5630, 'pilot': 5448, 'fight': 2605, 'turd': 7577, 'suffering': 7050, 'senile': 6380, 'dementia': 1870, 'gladio': 2954, 'hbdgladio': 3243, 'swinging': 7135, 'marriedinmke': 4469, 'mke': 4687, 'weddingphotography': 7943, 'remembering': 5957, 'youngsta': 8238, 'explaining': 2443, 'toot': 7439, 'tooooooot': 7438, 'stops': 6970, 'knife': 3979, 'gun': 3115, 'momma': 4708, 'ikon': 3538, 'subscribers': 7029, 'jinhwan': 3801, 'yunhyeong': 8262, 'bobby': 785, 'hanbin': 3161, 'donghyuk': 2048, 'junhoe': 3858, 'mnwild': 4692, 'bowl': 863, 'challenge': 1191, 'cool': 1557, 'tummy': 7573, 'rumbling': 6185, 'hungry': 3468, 'mystery': 4829, 'novel': 5028, 'body': 788, 'gitum': 2944, 'buzz': 1031, 'curious': 1708, 'fr': 2753, 'mr': 4778, 'ibu': 3503, 'son': 6722, 'classic': 1347, 'tc': 7207, 'species': 6795, 'butterflies': 1024, 'acre': 40, 'habitat': 3135, 'trails': 7476, 'gardens': 2856, 'pavilion': 5316, 'waterfalls': 7915, 'wirsinddiemillers': 8044, 'thinking': 7330, 'response': 6024, 'sought': 6752, 'thee': 7289, 'wander': 7876, 'thy': 7358, 'commandments': 1443, 'ma': 4362, 'hing': 3330, 'max': 4501, 'votered': 7841, 'godblessamerica': 2977, 'justicerising': 3863, 'trumpsarmy': 7553, 'annaloves': 260, 'adam': 56, 'friendship': 2784, 'mission': 4669, 'thankyou': 7281, 'retweeet': 6042, 'needs': 4901, 'emergency': 2275, 'dental': 1880, 'care': 1103, 'woke': 8061, 'exceptionally': 2415, 'red': 5909, 'riding': 6080, 'hood': 3392, 'twist': 7607, 'neeh': 4902, 'xitsonga': 8148, 'ua': 7621, 'crew': 1656, 'missyoustreamingparty': 4673, 'missyou': 4672, 'grief': 3074, 'arsforstylishbilla': 358, 'softcap': 6709, 'joining': 3817, 'token': 7416, 'sale': 6229, 'purchase': 5744, 'omm': 5121, 'nasty': 4863, 'bitches': 720, 'butch': 1019, 'eaten': 2201, 'candy': 1079, 'feeling': 2568, 'gain': 2834, 'lowest': 4323, 'media': 4528, 'saying': 6278, 'ei': 2236, 'pray': 5603, 'everyday': 2394, 'muller': 4798, 'handcuffs': 3163, 'biggavel': 677, 'pop': 5552, 'spirits': 6814, 'spirit': 6813, 'brutha': 956, 'wave': 7919, 'walked': 7864, 'casa': 1125, 'proctors': 5665, 'student': 7008, 'yelling': 8200, 'cursing': 1713, 'message': 4580, 'lauren': 4076, 'avoid': 444, 'skyler': 6617, 'spending': 6802, 'disney': 1987, 'typhoon': 7617, 'lagoon': 4036, 'disgusting': 1985, 'cheer': 1246, 'coach': 1386, 'wanting': 7881, 'nails': 4845, 'pictures': 5433, 'wawu': 7921, 'john': 3810, 'boring': 838, 'goad': 2972, 'department': 1883, 'website': 7940, 'hide': 3316, 'hooray': 3398, 'adulting': 79, 'nailed': 4844, 'magatrash': 4381, 'boogyman': 814, 'oval': 5202, 'planning': 5477, 'jordan': 3829, 'babyy': 487, 'dealing': 1806, 'actual': 53, 'ward': 7886, 'idea': 3512, 'kuya': 4022, 'butley': 1020, 'freddie': 2763, 'mercury': 4572, 'title': 7396, 'caca': 1038, 'dean': 1807, 'hester': 3308, 'teacher': 7214, 'elhs': 2255, 'freakin': 2759, 'gang': 2848, 'renewal': 5972, 'senses': 6386, 'devastating': 1918, 'duo': 2164, 'blue': 769, 'dresses': 2112, 'count': 1594, 'column': 1426, 'evettt': 2396, 'tech': 7230, 'advocacy': 92, 'alex': 166, 'lazar': 4084, 'opportunity': 5156, 'discuss': 1982, 'discover': 1979, 'avenues': 441, 'vintage': 7797, 'gas': 2858, 'mask': 4482, 'tag': 7155, 'goofy': 3004, 'anoto': 269, 'chu': 1309, 'makina': 4406, 'yui': 8259, 'weallloveporn': 7931, 'greatest': 3063, 'senior': 6381, 'math': 4493, 'walmart': 7872, 'food': 2706, 'ss': 6865, 'blow': 766, 'manofthematch': 4439, 'codarmy': 1391, 'reachout': 5865, 'togethe': 7413, 'congress': 1515, 'thinks': 7331, 'elected': 2248, 'fooled': 2711, 'btsglitchparty': 967, 'prefer': 5612, 'eniola': 2308, 'milfmonday': 4626, 'vickyvette': 7779, 'russian': 6198, 'puppet': 5739, 'colluder': 1415, 'jc': 3762, 'sex': 6417, 'guilty': 3112, 'sounds': 6762, 'disrespectful': 1991, 'seeing': 6354, 'doubles': 2071, 'yup': 8263, 'captured': 1095, 'rarest': 5845, 'mythical': 4832, 'pok': 5528, 'mon': 4711, 'mew': 4592, 'pokemon': 5529, 'rules': 6184, 'syd': 7143, 'equals': 2342, 'cuddles': 1695, 'freddy': 2764, 'lmfaooo': 4241, 'happily': 3186, 'marriage': 4467, 'lowkey': 4324, 'habit': 3134, 'thief': 7321, 'labone': 4028, 'coffee': 1395, 'shop': 6508, 'dey': 1921, 'catapult': 1137, 'plzzzz': 5510, 'truth': 7558, 'blessed': 745, 'treat': 7504, 'ka': 3870, 'kia': 3928, 'scene': 6290, 'jersey': 3782, 'celebrated': 1163, 'instantaneous': 3644, 'issss': 3706, 'herriman': 3304, 'precinct': 5609, 'hooping': 3397, 'community': 1459, 'sc': 6280, 'perfect': 5363, 'dance': 1759, 'june': 3855, 'powerofthepen': 5591, 'celebrating': 1165, 'weekly': 7950, 'giveaways': 2946, 'jessica': 3786, 'nickel': 4958, 'choices': 1288, 'snap': 6679, 'middle': 4613, 'finger': 2636, 'infonya': 3611, 'sist': 6590, 'lord': 4285, 'extraordinarily': 2454, 'vile': 7793, 'peopl': 5358, 'regretted': 5931, 'searching': 6335, 'manager': 4421, 'wont': 8072, 'regret': 5930, 'sophomores': 6743, 'addy': 62, 'late': 4058, 'awareness': 453, 'gud': 3104, 'mondaymotivation': 4719, 'james': 3739, 'seavey': 6341, 'dang': 1761, 'bird': 701, 'run': 6190, 'prayingforrain': 5605, 'aldi': 161, 'malt': 4414, 'cheap': 1234, 'fake': 2488, 'cha': 1184, 'doe': 2024, 'billa': 693, 'cinestar': 1323, 'hanna': 3176, 'supernatural': 7076, 'dying': 2175, 'yodeling': 8223, 'ca': 1035, 'sniveling': 6691, 'type': 7614, 'smack': 6651, 'king': 3952, 'left': 4108, 'proverbial': 5705, 'rug': 6178, 'refuse': 5923, 'address': 61, 'stubbed': 7004, 'toe': 7412, 'gorgeous': 3014, 'reached': 5863, 'word': 8086, 'amwriting': 228, 'wk': 8056, 'core': 1569, 'mma': 4689, 'kinetics': 3951, 'workout': 8092, 'evoke': 2400, 'nationaldefenseactof': 4870, 'immediately': 3565, 'dakin': 1747, 'hug': 3447, 'monkeys': 4725, 'dan': 1757, 'dee': 1831, 'frogs': 2789, 'homeboy': 3373, 'demacrat': 1866, 'horse': 3411, 'apologize': 295, 'sleeping': 6630, 'bih': 686, 'recharge': 5898, 'uhm': 7633, 'alas': 153, 'neighbors': 4908, 'benefit': 637, 'create': 1642, 'sell': 6367, 'solution': 6714, 'bleach': 739, 'finest': 2634, 'retro': 6037, 'isibaya': 3696, 'theriver': 7314, 'gic': 2920, 'ourperfectweddin': 5187, 'coindrop': 1401, 'liveme': 4223, 'smg': 6663, 'dl': 2012, 'elder': 2245, 'brown': 944, 'lantern': 4049, 'garbage': 2853, 'nevertrumper': 4928, 'douche': 2073, 'recent': 5896, 'fights': 2608, 'especially': 2361, 'malik': 4412, 'younger': 8236, 'thats': 7284, 'thugs': 7352, 'famous': 2503, 'mfs': 4597, 'finna': 2641, 'cuh': 1696, 'female': 2583, 'lions': 4200, 'males': 4411, 'wondering': 8070, 'ksazobalit': 4013, 'christ': 1303, 'renews': 5974, 'iam': 3499, 'janethevirgin': 3743, 'deadt': 1804, 'biggest': 679, 'revenge': 6049, 'nun': 5049, 'kant': 3880, 'suck': 7040, 'feelin': 2567, 'attacked': 415, 'lively': 4222, 'motivating': 4755, 'pic': 5424, 'allah': 176, 'spewing': 6804, 'lefty': 4111, 'dime': 1953, 'sabs': 6207, 'clearly': 1356, 'luck': 4336, 'stormys': 6976, 'squirrel': 6861, 'outs': 5196, 'patriotism': 5308, 'maga': 4380, 'missed': 4667, 'outrage': 5194, 'belated': 623, 'legends': 4117, 'cut': 1721, 'yah': 8161, 'washed': 7899, 'dried': 2115, 'bot': 844, 'aware': 452, 'manipulation': 4433, 'resources': 6015, 'issue': 3707, 'whoo': 7996, 'highvaluemember': 3322, 'louisa': 4303, 'rocket': 6122, 'films': 2621, 'chez': 1257, 'hello': 3290, 'newsongalert': 4941, 'hotshit': 3422, 'pull': 5728, 'pocketss': 5515, 'shooters': 6505, 'mcgrady': 4514, 'spades': 6777, 'house': 3428, 'stylist': 7021, 'hitting': 3339, 'flith': 2670, 'nicolas': 4962, 'lovely': 4312, 'smashed': 6658, 'seventh': 6415, 'series': 6398, 'pakvwi': 5248, 'dws': 2174, 'corrupt': 1579, 'yoruba': 8232, 'bhakts': 667, 'gets': 2905, 'rs': 6167, 'super': 7071, 'wages': 7854, 'higher': 3319, 'armys': 346, 'glitches': 2958, 'evolve': 2402, 'slink': 6643, 'shadows': 6430, 'illegal': 3545, 'pt': 5718, 'mixed': 4681, 'boi': 793, 'pussy': 5760, 'dirait': 1963, 'tom': 7421, 'sawyer': 6274, 'surprise': 7098, 'loving': 4318, 'bought': 852, 'msd': 4783, 'lov': 4305, 'wazzup': 7928, 'wi': 8003, 'fi': 2597, 'tokyo': 7419, 'teamz': 7227, 'summit': 7060, 'cryptocurrency': 1682, 'prom': 5683, 'happybirthdaysofi': 3197, 'cutie': 1725, 'lawd': 4078, 'lana': 4042, 'coming': 1441, 'harriet': 3214, 'tubman': 7570, 'thurgood': 7355, 'marshall': 4471, 'lamar': 4039, 'ingram': 3618, 'border': 835, 'caravan': 1097, 'arrives': 351, 'ch': 1183, 'research': 6006, 'appreciated': 311, 'releasing': 5948, 'counting': 1596, 'cafeteria': 1041, 'happiest': 3185, 'birthdays': 711, 'freaking': 2760, 'songs': 6724, 'straightening': 6980, 'girlfriend': 2937, 'mama': 4415, 'madddddddd': 4368, 'bank': 532, 'holiday': 3362, 'wrestlemania': 8123, 'match': 4489, 'scripted': 6319, 'brocklesnar': 927, 'trick': 7518, 'puncture': 5735, 'chili': 1271, 'beans': 588, 'matchup': 4490, 'ages': 112, 'storm': 6973, 'madness': 4374, 'line': 4195, 'seed': 6353, 'ford': 2720, 'everest': 2390, 'politics': 5539, 'low': 4319, 'scum': 6323, 'libturds': 4164, 'interesting': 3658, 'insan': 3630, 'modelmonday': 4699, 'mondayfunday': 4717, 'naughty': 4876, 'buddies': 975, 'heat': 3272, 'reallly': 5885, 'wooow': 8083, 'lyk': 4358, 'invasion': 3670, 'defend': 1839, 'themselve': 7304, 'cake': 1044, 'insulted': 3648, 'compliment': 1482, 'crazies': 1636, 'laptop': 4050, 'comment': 1447, 'youtube': 8245, 'awww': 465, 'mjiwrds': 4686, 'teens': 7239, 'prunes': 5712, 'taste': 7188, 'till': 7373, 'fwa': 2822, 'escape': 2357, 'ar': 323, 'mushed': 4811, 'absolute': 12, 'dublin': 2144, 'kentucky': 3915, 'numb': 5047, 'driving': 2125, 'saturday': 6260, 'hahaha': 3139, 'renad': 5969, 'rylie': 6203, 'ethanwalli': 2376, 'delreystarwars': 1864, 'ek': 2240, 'johnston': 3814, 'birth': 704, 'despised': 1905, 'reeses': 5916, 'round': 6160, 'europeforc': 2382, 'mistakes': 4675, 'favorite': 2539, 'gremlins': 3072, 'reminder': 5960, 'normal': 5012, 'clubcuppartner': 1378, 'dumbass': 2155, 'hctib': 3246, 'uoy': 7696, 'nisahc': 4986, 'cameron': 1064, 'short': 6514, 'entry': 2330, 'pot': 5578, 'known': 3988, 'twtr': 7612, 'trading': 7471, 'wrong': 8133, 'copy': 1566, 'paste': 5295, 'pips': 5456, 'sponsored': 6830, 'silence': 6559, 'needing': 4898, 'freshener': 2775, 'toothbrush': 7440, 'clean': 1352, 'baking': 509, 'soda': 6707, 'water': 7914, 'caught': 1148, 'prank': 5601, 'ohmygod': 5099, 'yassssssssssssssss': 8176, 'lmaoooo': 4236, 'wonderin': 8069, 'schedule': 6293, 'iracing': 3681, 'le': 4087, 'mans': 4440, 'californiasmells': 1052, 'commercials': 1451, 'step': 6929, 'human': 3456, 'needles': 4899, 'nut': 5050, 'matisse': 4494, 'van': 7750, 'gogh': 2982, 'alright': 195, 'dreaming': 2108, 'jacob': 3728, 'fansite': 2509, 'beers': 611, 'gillian': 2929, 'anderson': 240, 'republicans': 6000, 'pants': 5260, 'teachers': 7215, 'buying': 1030, 'tickets': 7361, 'besties': 649, 'hoes': 3353, 'wise': 8046, 'troublemakers': 7539, 'tragic': 7473, 'comic': 1438, 'poos': 5551, 'sales': 6230, 'skyrocket': 6620, 'throw': 7346, 'stick': 6940, 'draft': 2085, 'dodging': 2022, 'poopy': 5548, 'genno': 2892, 'teach': 7213, 'upgrades': 7702, 'definition': 1844, 'meaning': 4518, 'jerk': 3779, 'worked': 8089, 'fine': 2633, 'drink': 2118, 'knee': 3977, 'cowards': 1616, 'woohoo': 8076, 'data': 1773, 'general': 2885, 'link': 4197, 'gyampo': 3130, 'soo': 6730, 'unsuspecting': 7689, 'humans': 3458, 'borehamsolid': 837, 'shirt': 6482, 'mmmhmmm': 4691, 'bleep': 741, 'dissed': 1994, 'relev': 5949, 'knew': 3978, 'grab': 3033, 'waste': 7905, 'arielle': 335, 'beast': 593, 'washingtondc': 7902, 'apartment': 289, 'hughhewitt': 3451, 'games': 2847, 'worried': 8105, 'punishmuslimday': 5737, 'milk': 4629, 'sugars': 7052, 'plenty': 5500, 'historic': 3334, 'locations': 4254, 'alcatra': 158, 'maniya': 4434, 'sippin': 6586, 'teams': 7225, 'dm': 2013, 'sent': 6387, 'messages': 4581, 'charm': 1223, 'faces': 2472, 'fuckin': 2800, 'hte': 3441, 'heads': 3257, 'wide': 8006, 'squidward': 6860, 'krabby': 4008, 'patties': 5311, 'delicate': 1857, 'decent': 1824, 'sabrina': 6206, 'poop': 5544, 'hat': 3222, 'aww': 464, 'played': 5485, 'jeffbron': 3770, 'goodness': 3001, 'volunteers': 7831, 'sweetest': 7129, 'seriously': 6399, 'combo': 1431, 'indiegame': 3600, 'indiegamedev': 3601, 'blender': 743, 'lowpoly': 4325, 'siblings': 6539, 'startsomething': 6902, 'inspiredaily': 3640, 'entrepreneur': 2328, 'snapchatfun': 6681, 'activewear': 48, 'certainly': 1180, 'whats': 7979, 'pal': 5249, 'ball': 514, 'escaped': 2358, 'repeat': 5979, 'challenges': 1193, 'achieve': 36, 'meaningful': 4519, 'harianque': 3210, 'incredibly': 3593, 'tickled': 7362, 'responses': 6025, 'mixup': 4685, 'email': 2265, 'blast': 737, 'ishouldhaveleftit': 3695, 'presidential': 5624, 'tracking': 7465, 'poll': 5540, 'rasmussen': 5846, 'reports': 5993, 'cheats': 1237, 'cheat': 1235, 'exempt': 2422, 'slush': 6650, 'conference': 1500, 'held': 3285, 'bitcoin': 723, 'blockch': 749, 'bucket': 972, 'mistress': 4676, 'lady': 4034, 'estelle': 2370, 'spoil': 6822, 'serve': 6401, 'relaxing': 5944, 'yoga': 8224, 'piss': 5458, 'ignore': 3532, 'idc': 3511, 'thread': 7341, 'funniest': 2815, 'gov': 3024, 'funding': 2810, 'theorists': 7306, 'sticks': 6944, 'scream': 6311, 'videos': 7784, 'bamteddy': 521, 'spittrailsgoldcoast': 6816, 'ns': 5035, 'andrewstallingimagery': 242, 'awake': 448, 'didnt': 1940, 'parody': 5278, 'bunny': 1006, 'standing': 6885, 'darling': 1771, 'convo': 1551, 'chuffed': 1311, 'dynamic': 2176, 'launch': 4070, 'digital': 1952, 'mag': 4379, 'brill': 914, 'jason': 3751, 'insult': 3647, 'malaysian': 4409, 'malaysians': 4410, 'patriotic': 5307, 'duty': 2171, 'main': 4391, 'musik': 4815, 'ultimate': 7637, 'bias': 670, 'upset': 7707, 'eu': 2379, 'dookie': 2059, 'owned': 5216, 'tekashi': 7243, 'promises': 5685, 'billboard': 694, 'charting': 1227, 'na': 4837, 'americanidol': 220, 'nuked': 5045, 'bagger': 504, 'purity': 5748, 'neversettle': 4927, 'basket': 562, 'haul': 3232, 'scary': 6288, 'raw': 5855, 'wrestlemaina': 8122, 'taker': 7161, 'uo': 7695, 'sur': 7094, 'workshop': 8094, 'bands': 526, 'truly': 7546, 'advice': 91, 'interested': 3657, 'halloween': 3156, 'film': 2618, 'belive': 628, 'loris': 4287, 'karius': 3884, 'course': 1605, 'worries': 8106, 'magoof': 4386, 'singing': 6578, 'sza': 7147, 'yellow': 8201, 'conditioning': 1495, 'vutsek': 7848, 'trauma': 7497, 'retrograde': 6039, 'terrible': 7257, 'babysitter': 486, 'lien': 4169, 'thomas': 7334, 'walsh': 7873, 'sd': 6325, 'douchebaggappaloosa': 2074, 'lmaoooooo': 4237, 'applying': 308, 'silver': 6563, 'lake': 4037, 'position': 5566, 'die': 1941, 'hbdprabhudheva': 3244, 'prabhudheva': 5596, 'pddancing': 5330, 'hyg': 3485, 'welly': 7958, 'boycotted': 870, 'attitude': 421, 'dork': 2068, 'imma': 3563, 'ish': 3694, 'yesus': 8213, 'sies': 6549, 'seasons': 6337, 'dvd': 2173, 'mash': 4480, 'playall': 5484, 'expected': 2432, 'phillies': 5408, 'theirs': 7296, 'hesitate': 3307, 'entertained': 2320, 'minutes': 4654, 'yuwei': 8264, 'hearing': 3266, 'experiences': 2440, 'slight': 6638, 'shoot': 6504, 'matthias': 4498, 'williams': 8021, 'kooda': 3998, 'daddyman': 1738, 'newestyoungin': 4934, 'calvin': 1059, 'cambridge': 1060, 'tracy': 7468, 'reynolds': 6058, 'halftime': 3154, 'highlight': 3320, 'graduation': 3039, 'moment': 4706, 'bored': 836, 'sesh': 6406, 'wiff': 8010, 'muggy': 4797, 'anti': 276, 'bff': 666, 'carnafunk': 1110, 'exercises': 2423, 'awaiting': 447, 'bellion': 631, 'jfk': 3792, 'returns': 6041, 'midfield': 4614, 'magician': 4384, 'forzajuve': 2741, 'fornite': 2733, 'kim': 3944, 'rhoa': 6060, 'chap': 1212, 'chum': 1312, 'sliding': 6637, 'woo': 8073, 'hoo': 3391, 'enjoyable': 2310, 'restful': 6028, 'hov': 3432, 'lane': 4046, 'aries': 336, 'gemini': 2882, 'leo': 4129, 'libras': 4162, 'slandered': 6623, 'asses': 388, 'issa': 3704, 'early': 2180, 'sold': 6710, 'da': 1731, 'outttt': 5200, 'details': 1914, 'goodluck': 2999, 'wannaoneipucom': 7878, 'drudge': 2132, 'gelo': 2880, 'chapters': 1215, 'homework': 3379, 'anatomy': 236, 'honework': 3386, 'min': 4641, 'doodle': 2056, 'bob': 784, 'tattooed': 7195, 'butt': 1021, 'cheek': 1244, 'rhfox': 6059, 'farm': 2513, 'technology': 7232, 'yaaaay': 8159, 'ruin': 6180, 'credit': 1651, 'score': 6303, 'bihh': 687, 'wig': 8012, 'hush': 3478, 'ms': 4782, 'soydan': 6772, 'pain': 5237, 'chocolate': 1285, 'eggs': 2230, 'eastereggs': 2193, 'happyeaster': 3199, 'kinder': 3950, 'chocolateeggs': 1286, 'paper': 5261, 'aprilfools': 320, 'heaping': 3263, 'einstein': 2239, 'blorp': 763, 'valiant': 7744, 'leaf': 4093, 'blower': 767, 'gtlive': 3099, 'whaaar': 7976, 'ofcus': 5078, 'mana': 4419, 'moron': 4743, 'sleepybitch': 6632, 'ellenandportiatruelove': 2259, 'battle': 573, 'gays': 2869, 'dragging': 2088, 'plant': 5479, 'grow': 3089, 'bus': 1013, 'wigan': 8013, 'wafc': 7850, 'hangout': 3174, 'spongebob': 6828, 'kewl': 3918, 'marble': 4446, 'skies': 6609, 'previews': 5634, 'sounding': 6761, 'upgraded': 7701, 'flights': 2667, 'miami': 4601, 'orlando': 5179, 'nico': 4960, 'niii': 4976, 'motherfucker': 4751, 'clip': 1364, 'stfu': 6938, 'weirdo': 7954, 'bennett': 639, 'earn': 2181, 'table': 7149, 'pie': 5435, 'chart': 1226, 'kinda': 3949, 'role': 6131, 'different': 1948, 'pig': 5438, 'doesn': 2026, 'capitalized': 1087, 'conveniently': 1547, 'coupon': 1602, 'daveandbusters': 1781, 'technically': 7231, 'brace': 877, 'elimination': 2257, 'hearts': 3270, 'courage': 1604, 'changing': 1206, 'guards': 3102, 'pleeeeeaaaassssseeee': 5499, 'acting': 43, 'mouthwash': 4763, 'witnessthetourmnl': 8054, 'podcasting': 5518, 'ofhejdjwksvd': 5092, 'orchestra': 5165, 'lullaby': 4343, 'meeting': 4538, 'seeking': 6356, 'respite': 6019, 'violence': 7799, 'bullshit': 998, 'questions': 5783, 'bigotry': 683, 'snide': 6689, 'rem': 5951, 'tryna': 7562, 'bottle': 849, 'puke': 5726, 'curve': 1714, 'recognition': 5901, 'local': 4252, 'nationwide': 4871, 'impact': 3570, 'kidding': 3934, 'wa': 7849, 'guess': 3105, 'houston': 3431, 'astro': 399, 'revealing': 6048, 'promisesaudi': 5686, 'findings': 2630, 'employers': 2287, 'artist': 364, 'juice': 3851, 'dream': 2107, 'lurve': 4348, 'moon': 4734, 'comes': 1436, 'closer': 1371, 'joe': 3807, 'jaz': 3760, 'question': 5782, 'lilly': 4191, 'rizakosef': 6103, 'zoetropic': 8279, 'http': 3444, 'runs': 6194, 'dcth': 1797, 'common': 1455, 'setups': 6411, 'rnva': 6107, 'dsgt': 2140, 'long': 4270, 'hpmm': 3435, 'heh': 3280, 'clever': 1357, 'repostsave': 5995, 'nathanfilliongifs': 4866, 'repostsaveapp': 5996, 'stephen': 6931, 'miller': 4631, 'genial': 2889, 'fail': 2482, 'exams': 2412, 'blame': 736, 'wrestler': 8124, 'sweetheart': 7130, 'jerry': 3781, 'sooner': 6733, 'matter': 4497, 'ring': 6089, 'ana': 230, 'prathi': 5602, 'vodu': 7822, 'ne': 4888, 'entra': 2326, 'beatiful': 595, 'airplane': 143, 'pity': 5462, 'argentina': 331, 'lower': 4321, 'budget': 977, 'ppap': 5593, 'thosfansbts': 7336, 'hook': 3395, 'sinker': 6582, 'obviously': 5073, 'awanbrothers': 449, 'scandal': 6283, 'sachin': 6208, 'tendulkar': 7251, 'retired': 6034, 'bastards': 565, 'holes': 3361, 'ummmm': 7640, 'winter': 8039, 'clothing': 1374, 'eastbound': 2190, 'rush': 6196, 'hour': 3426, 'traffic': 7472, 'tip': 7386, 'profile': 5675, 'logo': 4263, 'identifiable': 3515, 'cathyandcourtneyshim': 1143, 'chilllllll': 1274, 'spoke': 6825, 'assembly': 387, 'wethepeople': 7969, 'draintheswamp': 2092, 'criminal': 1661, 'rats': 5850, 'andre': 241, 'master': 4485, 'failure': 2484, 'dreads': 2106, 'cuz': 1727, 'hopeful': 3401, 'humanity': 3457, 'shower': 6526, 'downtown': 2081, 'cincinnati': 1322, 'hint': 3331, 'attacking': 416, 'liberals': 4160, 'solving': 6716, 'problems': 5660, 'governing': 3025, 'liked': 4184, 'kinna': 3958, 'gay': 2867, 'legacy': 4113, 'befriending': 613, 'grade': 3036, 'retweeting': 6044, 'plain': 5471, 'stupidity': 7017, 'permeates': 5375, 'society': 6704, 'types': 7616, 'meltmein': 4546, 'rds': 5861, 'brownies': 945, 'smoov': 6673, 'bruv': 957, 'broken': 931, 'code': 1392, 'finish': 2638, 'thefear': 7291, 'loved': 4309, 'hated': 3224, 'fab': 2468, 'ending': 2295, 'ghost': 2915, 'mob': 4694, 'dimple': 1954, 'mp': 4777, 'rejoice': 5936, 'breath': 896, 'nevvvveeeerrr': 4929, 'headphones': 3256, 'transit': 7490, 'somu': 6721, 'thik': 7324, 'hun': 3465, 'ji': 3793, 'haya': 3238, 'shaktiastitvakeehsaaski': 6437, 'sau': 6262, 'oyster': 5222, 'cast': 1132, 'winchesterforever': 8025, 'cousins': 1610, 'drinking': 2119, 'atleast': 410, 'inspirational': 3638, 'unjaded': 7680, 'vlog': 7817, 'grande': 3046, 'locked': 4256, 'virginia': 7804, 'routine': 6161, 'finds': 2632, 'melts': 4547, 'obvious': 5072, 'small': 6653, 'description': 1893, 'optics': 5159, 'maker': 4403, 'stood': 6963, 'interacted': 3655, 'blackness': 729, 'gmims': 2968, 'dontforgetthedollarsign': 2052, 'optimistic': 5160, 'socks': 6706, 'ineded': 3606, 'complexion': 1480, 'coiff': 1398, 'distinct': 1997, 'referring': 5920, 'aliens': 171, 'marilyn': 4452, 'spontaneous': 6832, 'products': 5671, 'elle': 2258, 'strut': 7002, 'cherie': 1252, 'src': 6863, 'flush': 2682, 'animated': 254, 'starring': 6896, 'anna': 258, 'farris': 2516, 'patrick': 5305, 'stewart': 6937, 'dailylifedrawing': 1744, 'sketch': 6607, 'selection': 6362, 'starbuckscoffee': 6891, 'figuredrawing': 2611, 'nipple': 4984, 'clamps': 1340, 'sore': 6745, 'nipples': 4985, 'mick': 4608, 'bone': 803, 'chapel': 1213, 'range': 5834, 'dancing': 1760, 'demo': 1871, 'amine': 224, 'cryptaldash': 1680, 'exchange': 2416, 'sleeves': 6633, 'produced': 5667, 'anchored': 238, 'mini': 4650, 'weather': 7936, 'forecast': 2721, 'lads': 4033, 'nd': 4885, 'issagodsplan': 3705, 'drill': 2116, 'sidesssss': 6546, 'sheener': 6458, 'wiener': 8008, 'outfit': 5189, 'isn': 3700, 'kiss': 3961, 'wey': 7973, 'wan': 7874, 'bae': 501, 'parents': 5271, 'birthdayyyyy': 712, 'happybdaykapilsharma': 3192, 'estateagentlife': 2369, 'stg': 6939, 'fella': 2578, 'cop': 1560, 'knocked': 3984, 'rap': 5838, 'restock': 6029, 'enchants': 2291, 'reset': 6010, 'worldofwarcraft': 8100, 'goldmaking': 2990, 'italian': 3711, 'painting': 5242, 'etsy': 2378, 'pete': 5395, 'fantastic': 2510, 'ong': 5128, 'disunomics': 2001, 'podcast': 5517, 'enlightening': 2314, 'statusupdate': 6915, 'comedy': 1435, 'noteworthy': 5022, 'section': 6349, 'statusupdatemovie': 6916, 'nail': 4843, 'grand': 3045, 'slam': 6621, 'breakfast': 893, 'truck': 7541, 'beds': 605, 'liars': 4154, 'unhealthy': 7667, 'blackpink': 731, 'reaching': 5864, 'views': 7790, 'yikes': 8219, 'anybody': 282, 'comey': 1437, 'brennan': 904, 'sleazy': 6628, 'traitors': 7483, 'rouder': 6158, 'prease': 5608, 'tee': 7236, 'legendary': 4116, 'ignorance': 3530, 'pannari': 5258, 'flute': 2683, 'poetic': 5522, 'safely': 6218, 'crackdown': 1625, 'moments': 4707, 'interaction': 3656, 'sir': 6587, 'bollocks': 796, 'shell': 6464, 'gummy': 3114, 'worm': 8102, 'affiliate': 99, 'marketing': 4462, 'beginners': 617, 'announced': 263, 'keenum': 3905, 'considered': 1526, 'women': 8065, 'mcms': 4516, 'tears': 7229, 'amen': 215, 'melania': 4543, 'married': 4468, 'dip': 1960, 'success': 7036, 'yie': 8218, 'laura': 4074, 'sentiment': 6389, 'apology': 297, 'pers': 5379, 'size': 6601, 'heeed': 3278, 'richiee': 6072, 'eye': 2458, 'sarah': 6253, 'sanders': 6243, 'robot': 6116, 'spouts': 6843, 'books': 820, 'gal': 2838, 'missing': 4668, 'uuu': 7733, 'zari': 8270, 'eating': 2202, 'princes': 5642, 'cash': 1129, 'request': 6002, 'tout': 7455, 'intelligence': 3652, 'threat': 7342, 'democrats': 1876, 'wth': 8138, 'sunset': 7069, 'appreciation': 312, 'required': 6004, 'coz': 1620, 'ny': 5055, 'bnai': 776, 'lmaoo': 4234, 'rican': 6068, 'taken': 7160, 'anime': 255, 'dab': 1733, 'panchavarnathatha': 5253, 'vishu': 7809, 'kunchakobob': 4017, 'cof': 1394, 'stud': 7007, 'elf': 2253, 'forced': 2719, 'secretly': 6347, 'crush': 1676, 'handle': 3165, 'feedback': 2564, 'brian': 909, 'pass': 5287, 'grin': 3077, 'absolutely': 13, 'pp': 5592, 'investigation': 3671, 'supreme': 7093, 'court': 1606, 'rejects': 5935, 'gag': 2832, 'order': 5167, 'appeal': 301, 'undercover': 7648, 'spit': 6815, 'spotify': 6838, 'atm': 411, 'speak': 6791, 'spanish': 6784, 'asking': 377, 'crenshaw': 1655, 'aggie': 113, 'respeck': 6016, 'bowing': 862, 'apologizing': 296, 'groups': 3087, 'theisland': 7297, 'extra': 2453, 'final': 2623, 'catching': 1141, 'steffi': 6928, 'charleston': 1221, 'debu': 1816, 'campaign': 1068, 'drain': 2090, 'tine': 7383, 'ripped': 6094, 'cellphone': 1170, 'store': 6971, 'analytica': 233, 'po': 5512, 'fia': 2598, 'ooooo': 5141, 'brotha': 940, 'aint': 137, 'godofwar': 2979, 'santamonica': 6250, 'corybarlog': 1581, 'playstation': 5492, 'sony': 6729, 'holidays': 3363, 'bankholidaymonday': 534, 'milf': 4625, 'sexygrannies': 6422, 'hotmilf': 3421, 'oldsex': 5110, 'lisa': 4203, 'chicken': 1261, 'neep': 4903, 'lived': 4220, 'dish': 1986, 'served': 6402, 'velocity': 7760, 'gogetemtiger': 2981, 'summer': 7059, 'warm': 7890, 'tees': 7240, 'showdown': 6524, 'huge': 3448, 'vids': 7785, 'robron': 6119, 'emmerdale': 2279, 'banger': 530, 'report': 5988, 'deleted': 1853, 'northland': 5016, 'mall': 4413, 'spot': 6837, 'studio': 7010, 'rappers': 5841, 'ik': 3536, 'troia': 7529, 'brudda': 951, 'xiumin': 8149, 'happyxiuminday': 3201, 'una': 7642, 'deadd': 1801, 'bacon': 494, 'convention': 1548, 'bett': 657, 'il': 3540, 'north': 5013, 'texas': 7264, 'events': 2389, 'attend': 417, 'stopped': 6967, 'tuonela': 7576, 'brew': 906, 'hbd': 3241, 'photographers': 5418, 'philly': 5410, 'chasecoleman': 1230, 'com': 1428, 'ghetto': 2914, 'digging': 1951, 'wife': 8009, 'balls': 518, 'tennessee': 7252, 'vacationwellneeded': 7741, 'prints': 5646, 'fue': 2803, 'buen': 978, 'brooklyn': 935, 'replied': 5985, 'childish': 1266, 'tact': 7151, 'whatsoever': 7981, 'rude': 6175, 'goes': 2980, 'colin': 1408, 'kaepernick': 3873, 'nfl': 4943, 'handled': 3166, 'shoutout': 6522, 'payout': 5324, 'parise': 5274, 'unassisted': 7643, 'beauty': 600, 'grammer': 3043, 'intelijent': 3650, 'items': 3714, 'ft': 2794, 'burn': 1011, 'jared': 3748, 'oooow': 5143, 'gift': 2923, 'subs': 7026, 'sean': 6332, 'hannity': 3178, 'kissing': 3964, 'loyalty': 4327, 'dirty': 1967, 'gown': 3030, 'ou': 5186, 'campus': 1071, 'south': 6768, 'preaching': 5607, 'sins': 6584, 'sibling': 6538, 'age': 109, 'wearing': 7935, 'uniforms': 7673, 'wearepartofbangtan': 7934, 'bardock': 544, 'disco': 1975, 'vip': 7801, 'bouncer': 855, 'secondary': 6344, 'ros': 6151, 'pooping': 5547, 'peeing': 5342, 'action': 44, 'scat': 6289, 'puro': 5749, 'pinche': 5451, 'doooood': 2062, 'base': 555, 'dunno': 2163, 'queen': 5781, 'teambamteddy': 7219, 'buy': 1028, 'niggato': 4971, 'vs': 7846, 'lightskinato': 4182, 'fastly': 2530, 'cloudflare': 1375, 'cdn': 1157, 'urls': 7713, 'regional': 5927, 'mirrors': 4660, 'neta': 4921, 'tune': 7574, 'skip': 6612, 'yooo': 8229, 'mami': 4417, 'monnie': 4726, 'cenosiitit': 1173, 'jep': 3777, 'jew': 3790, 'insert': 3632, 'blush': 773, 'enjoying': 2312, 'mo': 4693, 'metropolitan': 4591, 'area': 329, 'tries': 7521, 'reduce': 5914, 'breathing': 900, 'coughs': 1592, 'yeahhhhhhh': 8189, 'spnfamily': 6821, 'spn': 6820, 'uso': 7724, 'sierra': 6548, 'tbh': 7204, 'niggers': 4972, 'hectic': 3276, 'babe': 480, 'puppy': 5741, 'mankell': 4435, 'kurt': 4019, 'wallander': 7869, 'mysteryweek': 4830, 'state': 6903, 'eww': 2404, 'mental': 4563, 'hospital': 3413, 'worlddownsyndromeday': 8099, 'wtftumi': 8137, 'uzalo': 7737, 'skeemsaam': 6604, 'thequeen': 7309, 'shortie': 6515, 'twat': 7590, 'oshi': 5184, 'bbb': 576, 'jeez': 3768, 'ordeal': 5166, 'tou': 7450, 'mass': 4483, 'pike': 5442, 'athol': 408, 'pair': 5244, 'grown': 3091, 'rent': 5976, 'bathroom': 569, 'royal': 6166, 'fytb': 2827, 'contagious': 1536, 'desiigner': 1902, 'barely': 546, 'robots': 6118, 'yeeeeaaaaaahhhh': 8193, 'footage': 2715, 'caba': 1036, 'mena': 4560, 'train': 7477, 'cars': 1118, 'smoking': 6671, 'mta': 4786, 'trade': 7469, 'meara': 4523, 'mitchell': 4677, 'treloar': 7511, 'adams': 57, 'leigha': 4125, 'felt': 2582, 'windy': 8028, 'sunny': 7066, 'pillow': 5446, 'dedicated': 1830, 'possi': 5569, 'habby': 3133, 'birzday': 713, 'sharing': 6449, 'lays': 4083, 'chips': 1279, 'strawberry': 6982, 'kiwi': 3972, 'umgowo': 7639, 'yho': 8217, 'hayi': 3239, 'groom': 3082, 'quarter': 5776, 'learning': 4099, 'poorest': 5550, 'continent': 1540, 'bryan': 958, 'bruce': 950, 'springsteen': 6851, 'badlands': 500, 'kitty': 3970, 'born': 839, 'sea': 6330, 'square': 6856, 'philadelphia': 5407, 'finals': 2628, 'kirby': 3959, 'allies': 184, 'content': 1537, 'woof': 8075, 'promposel': 5688, 'nervous': 4916, 'nigerians': 4968, 'letting': 4142, 'linkinpark': 4199, 'makechesterproud': 4400, 'tweeting': 7600, 'sincerest': 6572, 'apologies': 294, 'dgaf': 1925, 'grind': 3078, 'covered': 1612, 'calif': 1050, 'senate': 6374, 'erin': 2349, 'explanation': 2445, 'creepy': 1654, 'kushner': 4020, 'lptx': 4329, 'vktx': 7816, 'eod': 2335, 'shaken': 6435, 'rest': 6027, 'announcement': 264, 'cartel': 1121, 'merchandise': 4571, 'key': 3919, 'supply': 7080, 'pack': 5228, 'opening': 5150, 'gladiators': 2953, 'written': 8132, 'jeffrey': 3772, 'toobin': 7434, 'arrived': 350, 'career': 1104, 'unfortunately': 7664, 'fortunately': 2738, 'intelligent': 3653, 'admire': 66, 'gary': 2857, 'xi': 8147, 'reads': 5873, 'feed': 2563, 'ta': 7148, 'riffing': 6081, 'clubs': 1379, 'swamp': 7116, 'press': 5625, 'identify': 3516, 'illegals': 3546, 'plea': 5494, 'bargain': 548, 'personal': 5383, 'sef': 6359, 'chance': 1201, 'yrs': 8254, 'quit': 5792, 'merit': 4574, 'cost': 1585, 'canadian': 1073, 'spelling': 6799, 'duplicitous': 2166, 'stacey': 6872, 'rhocheshire': 6061, 'observer': 5069, 'observe': 5068, 'handy': 3171, 'recognize': 5902, 'bee': 607, 'recall': 5892, 'pushing': 5757, 'olds': 5109, 'gawd': 2865, 'jr': 3840, 'nesma': 4917, 'mysterious': 4828, 'brand': 886, 'relax': 5943, 'snacks': 6677, 'lotta': 4298, 'chan': 1200, 'seungkwan': 6412, 'screaming': 6314, 'jays': 3759, 'chicago': 1259, 'sox': 6771, 'affirmative': 100, 'professional': 5672, 'shagger': 6432, 'chico': 1262, 'laughter': 4069, 'noodle': 5003, 'kimono': 3947, 'festival': 2591, 'honor': 3387, 'perform': 5366, 'compassion': 1465, 'homeless': 3375, 'veterans': 7771, 'instead': 3646, 'meee': 4534, 'pristin': 5647, 'roa': 6110, 'yuha': 8258, 'xiyeon': 8150, 'secrets': 6348, 'flashbackfriday': 2659, 'mona': 4712, 'aunt': 427, 'pastor': 5296, 'gray': 3059, 'winged': 8032, 'keeps': 3908, 'staring': 6895, 'farting': 2521, 'slowly': 6649, 'bart': 554, 'impossible': 3577, 'rangers': 5835, 'islanders': 3699, 'karlmarx': 3885, 'aynrand': 475, 'bar': 539, 'ahhk': 130, 'flying': 2685, 'corn': 1572, 'irrelevant': 3688, 'teambnn': 7220, 'member': 4548, 'roadtoaffiliate': 6114, 'suppo': 7081, 'afn': 103, 'peso': 5391, 'np': 5033, 'soundcloud': 6760, 'shatta': 6452, 'ctfu': 1690, 'anonymous': 268, 'apps': 318, 'shadow': 6429, 'happybirthdayparkjungmin': 3195, 'happyjungminday': 3200, 'happybirthdayjungmin': 3194, 'happybirthdaypjm': 3196, 'childrensbookday': 1269, 'bookday': 817, 'childrensbook': 1268, 'konnor': 3997, 'dawsonscreek': 1788, 'kevin': 3917, 'mcc': 4508, 'members': 4549, 'lastmanstanding': 4057, 'roseanneonabc': 6155, 'choose': 1291, 'awaited': 446, 'twitterpolls': 7610, 'kaala': 3871, 'thalapathy': 7274, 'important': 3575, 'afcb': 97, 'elll': 2260, 'chopped': 1294, 'fingers': 2637, 'sec': 6342, 'theicocleansing': 7295, 'leg': 4112, 'crooks': 1669, 'scamcoin': 6282, 'smells': 6662, 'appreciate': 310, 'covers': 1613, 'chief': 1263, 'broda': 928, 'usher': 7721, 'htownstop': 3442, 'biggestpartyoftheyear': 680, 'htctryouts': 3440, 'emptiness': 2289, 'gunnah': 3118, 'bacho': 488, 'troops': 7533, 'deployed': 1887, 'wine': 8029, 'tasting': 7190, 'barossa': 552, 'valley': 7747, 'moneyline': 4722, 'fav': 2535, 'championship': 1199, 'igot': 3533, 'neverever': 4926, 'youare': 8233, 'fly': 2684, 'captainkurt': 1092, 'ian': 3501, 'shep': 6466, 'island': 3698, 'mcm': 4515, 'ju': 3843, 'poetjunhoeday': 5523, 'blossoms': 765, 'policing': 5534, 'grandparents': 3047, 'checking': 1240, 'adults': 80, 'bullying': 1000, 'coffffeeeee': 1396, 'camila': 1066, 'agape': 108, 'ooo': 5138, 'competition': 1468, 'tight': 7370, 'whatsapp': 7980, 'group': 3086, 'poems': 5521, 'centre': 1176, 'bush': 1014, 'littlebigtown': 4216, 'rely': 5950, 'certain': 1179, 'individual': 3603, 'zombie': 8281, 'station': 6909, 'hewitt': 3310, 'findom': 2631, 'tribute': 7517, 'polite': 5537, 'chat': 1231, 'wars': 7896, 'references': 5918, 'himym': 3329, 'looool': 4280, 'steven': 6935, 'peace': 5332, 'nz': 5059, 'decade': 1818, 'fair': 2485, 'rehabilitation': 5932, 'widow': 8007, 'divorcee': 2006, 'willing': 8022, 'gr': 3032, 'se': 6329, 'lacy': 4031, 'lasted': 4056, 'india': 3594, 'goa': 2971, 'pina': 5450, 'colada': 1406, 'vomiting': 7833, 'barbarian': 541, 'stomped': 6959, 'concrete': 1493, 'dickeat': 1935, 'elgano': 2254, 'milly': 4638, 'repost': 5994, 'creating': 1643, 'mush': 4810, 'mythology': 4833, 'prove': 5704, 'veracity': 7763, 'hahahah': 3140, 'confidence': 1502, 'booster': 825, 'rin': 6088, 'mi': 4599, 'ute': 7729, 'angry': 248, 'completely': 1476, 'fixed': 2652, 'simple': 6565, 'registration': 5928, 'agenda': 110, 'crystal': 1683, 'sacks': 6211, 'chanyeol': 1211, 'happychanyeolday': 3198, 'context': 1539, 'selfish': 6366, 'petulant': 5401, 'disruptive': 1993, 'whinging': 7988, 'involved': 3675, 'verified': 7764, 'prayed': 5604, 'sealed': 6331, 'putt': 5763, 'ima': 3554, 'shake': 6434, 'errythang': 2352, 'lightskin': 4181, 'pardon': 5268, 'normaal': 5011, 'classless': 1348, 'pardew': 5267, 'sacked': 6210, 'mcfc': 4513, 'hmmmmm': 3346, 'pressie': 5626, 'tetley': 7263, 'sacramento': 6212, 'cleaned': 1353, 'voter': 7840, 'felony': 2581, 'illeg': 3544, 'related': 5939, 'exols': 2430, 'powerful': 5589, 'fandom': 2505, 'saudi': 6265, 'arabian': 324, 'exol': 2429, 'vets': 7772, 'qanon': 5768, 'bonehead': 804, 'permitted': 5377, 'grounds': 3085, 'poo': 5542, 'tieing': 7366, 'haid': 3146, 'frem': 2771, 'thaem': 7272, 'succesfuul': 7035, 'bayonet': 575, 'fade': 2481, 'specialist': 6794, 'gloves': 2964, 'foundation': 2747, 'awp': 463, 'asiimov': 372, 'follo': 2698, 'tomcatting': 7422, 'deleting': 1855, 'traces': 7463, 'bty': 969, 'dogging': 2030, 'stating': 6908, 'aye': 471, 'form': 2729, 'antics': 277, 'liam': 4151, 'payne': 5323, 'georgina': 2902, 'tie': 7364, 'flinging': 2668, 'dragon': 2089, 'nerf': 4915, 'rival': 6097, 'kronos': 4011, 'stare': 6893, 'bitchhhhh': 721, 'dreadnoughts': 2105, 'west': 7967, 'control': 1545, 'rico': 6074, 'las': 4055, 'eastern': 2195, 'ave': 439, 'favorites': 2541, 'seven': 6414, 'amazingly': 208, 'pabus': 5227, 'dare': 1768, 'emoji': 2280, 'mutuals': 4820, 'surprised': 7099, 'stayblessed': 6920, 'cody': 1393, 'falls': 2498, 'asleep': 380, 'cringy': 1663, 'namjoon': 4854, 'previewing': 5633, 'boots': 828, 'dank': 1766, 'beer': 610, 'yeezy': 8196, 'likely': 4185, 'mid': 4612, 'putting': 5765, 'replays': 5984, 'shook': 6503, 'applaud': 303, 'lover': 4314, 'happyanniversary': 3191, 'recently': 5897, 'telegram': 7244, 'bcharity': 581, 'uw': 7736, 'seattle': 6340, 'bestseatsentry': 651, 'penis': 5351, 'advertisement': 89, 'semen': 6371, 'tits': 7399, 'golden': 2988, 'ticket': 7360, 'drake': 2093, 'ye': 8182, 'vommited': 7834, 'fully': 2807, 'accepted': 21, 'falling': 2497, 'clock': 1366, 'studying': 7013, 'isthissemsterdone': 3709, 'becauseiam': 602, 'gettting': 2909, 'fit': 2649, 'jake': 3736, 'leafs': 4094, 'exciting': 2418, 'click': 1358, 'helixstudios': 3287, 'warwick': 7897, 'ri': 6065, 'relatable': 5937, 'awesomeness': 457, 'nikki': 4977, 'reader': 5871, 'player': 5486, 'rapping': 5843, 'anyways': 285, 'kay': 3896, 'murray': 4805, 'hosts': 3416, 'ilysm': 3552, 'taylor': 7202, 'swift': 7132, 'lyric': 4361, 'replacement': 5982, 'phase': 5404, 'athletes': 406, 'track': 7464, 'basketball': 563, 'ignorant': 3531, 'doug': 2076, 'ky': 4024, 'voicing': 7827, 'opinions': 5154, 'syste': 7146, 'yourock': 8242, 'mvhs': 4822, 'bluetsunami': 770, 'theresistance': 7313, 'cmon': 1383, 'verse': 7766, 'allan': 177, 'donate': 2045, 'petrifying': 5398, 'rage': 5812, 'lma': 4232, 'bradford': 879, 'magnificent': 4385, 'inspired': 3639, 'stormi': 6974, 'horizon': 3407, 'prod': 5666, 'dolla': 2034, 'bio': 700, 'notifications': 5026, 'purchasebeats': 5745, 'stunt': 7015, 'tux': 7586, 'mymixtapez': 4827, 'ton': 7425, 'haters': 3226, 'accumulating': 34, 'loaded': 4248, 'warise': 7889, 'reylo': 6057, 'pro': 5655, 'wrestling': 8125, 'au': 422, 'spawned': 6790, 'antis': 278, 'hopping': 3405, 'porn': 5558, 'hbo': 3245, 'nickelodeon': 4959, 'remote': 5964, 'jagoff': 3731, 'st': 6868, 'decided': 1826, 'candidate': 1078, 'thingspeopletaketooseriously': 7327, 'recommend': 5904, 'broads': 925, 'activism': 49, 'guests': 3108, 'includ': 3585, 'hamlet': 3159, 'magic': 4383, 'tipsy': 7389, 'monbebes': 4714, 'jealousydeservesbetter': 3766, 'monsta': 4730, 'dejavu': 1850, 'jealousy': 3765, 'cuando': 1692, 'lo': 4246, 'que': 5779, 'queda': 5780, 'es': 2355, 'mentally': 4565, 'physically': 5423, 'comeback': 1433, 'theories': 7305, 'whiny': 7990, 'major': 4397, 'office': 5084, 'defeated': 1837, 'bsides': 962, 'pruitt': 5710, 'lobbied': 4250, 'lng': 4245, 'morocco': 4741, 'selling': 6369, 'snapchat': 6680, 'war': 7885, 'bars': 553, 'blair': 734, 'nicely': 4953, 'cf': 1182, 'useless': 7720, 'domestic': 2041, 'debacle': 1813, 'obamacare': 5063, 'term': 7255, 'policies': 5533, 'insura': 3649, 'omelettes': 5115, 'constitution': 1532, 'chrabi': 1301, 'playlist': 5489, 'retail': 6033, 'gettn': 2908, 'nra': 5034, 'debating': 1815, 'butter': 1023, 'tarts': 7185, 'nanimo': 4855, 'duh': 2152, 'nb': 4882, 'signs': 6556, 'slow': 6647, 'kitties': 3969, 'homes': 3377, 'quickly': 5786, 'approaching': 313, 'weed': 7946, 'easier': 2186, 'str': 6978, 'stars': 6897, 'sing': 6576, 'jaebum': 3730, 'caring': 1107, 'amaz': 204, 'hahahaha': 3141, 'conservative': 1523, 'afraid': 104, 'jack': 3725, 'dawg': 1786, 'cee': 1159, 'soooooo': 6739, 'lobe': 4251, 'haii': 3147, 'ini': 3620, 'tp': 7461, 'indis': 3602, 'gageway': 2833, 'itsdolf': 3716, 'pusb': 5754, 'skyblues': 6616, 'offline': 5090, 'busy': 1018, 'chew': 1256, 'chopping': 1295, 'sephora': 6392, 'bestfriend': 646, 'paid': 5236, 'ascot': 367, 'skeptical': 6606, 'comparing': 1464, 'plane': 5473, 'weight': 7952, 'yessss': 8211, 'csgogiveaway': 1686, 'poseidon': 5564, 'donation': 2046, 'goodwillhunting': 3003, 'stations': 6910, 'script': 6318, 'alike': 174, 'watc': 7908, 'suit': 7056, 'version': 7768, 'tony': 7431, 'vinyl': 7798, 'stickers': 6942, 'givin': 2949, 'ronda': 6140, 'stairs': 6877, 'bf': 665, 'abide': 10, 'winging': 8033, 'insta': 3641, 'worthy': 8114, 'recipes': 5900, 'tools': 7436, 'whip': 7991, 'eatingfortheinsta': 2203, 'photography': 5419, 'dinnae': 1956, 'rayzor': 5858, 'babes': 482, 'pops': 5554, 'scrap': 6308, 'chris': 1302, 'joyful': 3838, 'exploration': 2446, 'formativechat': 2731, 'mentors': 4570, 'sponsors': 6831, 'husband': 3476, 'active': 46, 'usmc': 7723, 'maniac': 4430, 'deuce': 1917, 'hero': 3302, 'dre': 2101, 'somethin': 6719, 'realquicc': 5887, 'hmm': 3344, 'bringyourmomtoo': 919, 'punk': 5738, 'parts': 5284, 'leader': 4090, 'djt': 2010, 'nazi': 4881, 'morals': 4737, 'adulterer': 77, 'corru': 1578, 'collect': 1410, 'knowledge': 3987, 'quiet': 5789, 'holding': 3357, 'cineworldunlimited': 1324, 'enemy': 2301, 'asks': 379, 'cane': 1080, 'entertaining': 2322, 'kat': 3889, 'toady': 7407, 'convinced': 1550, 'dust': 2169, 'hardcore': 3203, 'beef': 609, 'skunk': 6615, 'creat': 1641, 'pushed': 5755, 'argument': 333, 'signalling': 6552, 'liberalismisame': 4158, 'smarter': 6656, 'shiver': 6497, 'timbers': 7375, 'orange': 5163, 'dragged': 2087, 'gutter': 3124, 'site': 6594, 'selly': 6370, 'quality': 5775, 'assured': 398, 'entrapment': 2327, 'op': 5146, 'constant': 1531, 'mambo': 4416, 'jombo': 3825, 'toilet': 7415, 'race': 5800, 'rocks': 6125, 'supporting': 7086, 'wigs': 8015, 'lesbian': 4132, 'septic': 6394, 'pumper': 5732, 'bisaya': 714, 'kaos': 3882, 'yeahh': 8187, 'raven': 5853, 'picks': 5428, 'boogers': 812, 'nowplaying': 5032, 'killers': 3942, 'ben': 636, 'chase': 1229, 'geeeettttem': 2879, 'chizzy': 1283, 'letsgochamp': 4139, 'angrybirds': 249, 'angrychamp': 250, 'batman': 570, 'nohedidnt': 4991, 'clark': 1343, 'starting': 6900, 'tuned': 7575, 'boat': 783, 'fakenewsmsm': 2491, 'destroy': 1911, 'behave': 621, 'roseannecomeback': 6154, 'dissertation': 1995, 'dodger': 2021, 'pooped': 5545, 'security': 6351, 'goood': 3008, 'whereeeee': 7984, 'treats': 7506, 'chr': 1300, 'imwiththiskid': 3581, 'davidhogg': 1783, 'supporter': 7084, 'crossbow': 1671, 'sniper': 6690, 'mode': 4697, 'saver': 6269, 'liberalismisamentaldisorder': 4159, 'progressivepropaganda': 5679, 'cork': 1571, 'opera': 5152, 'bopping': 833, 'twins': 7606, 'leeds': 4107, 'stag': 6875, 'newcastle': 4931, 'originality': 5178, 'respect': 6017, 'personality': 5385, 'icymi': 3509, 'sellers': 6368, 'comical': 1439, 'lead': 4089, 'donnie': 2049, 'curry': 1711, 'delicious': 1858, 'needless': 4900, 'bragga': 880, 'inktopsecret': 3624, 'climb': 1361, 'roof': 6143, 'blood': 760, 'sidewalk': 6547, 'hny': 3348, 'laws': 4079, 'protect': 5696, 'individuals': 3604, 'cackled': 1039, 'pause': 5315, 'replay': 5983, 'woooo': 8080, 'realised': 5879, 'shitty': 6496, 'paypal': 5325, 'eh': 2233, 'card': 1099, 'pulled': 5729, 'fy': 2825, 'belong': 633, 'caitlin': 1043, 'gd': 2873, 'crc': 1638, 'january': 3745, 'finding': 2629, 'hogye': 3355, 'idkkk': 3524, 'protest': 5698, 'chill': 1272, 'headshot': 3258, 'unlucky': 7685, 'zackksterr': 8268, 'hh': 3312, 'bust': 1017, 'ollowers': 5113, 'teddy': 7235, 'peice': 5346, 'bug': 981, 'memphis': 4558, 'rts': 6171, 'gabriella': 2829, 'cali': 1049, 'uni': 7669, 'manheim': 4428, 'march': 4448, 'mania': 4429, 'megan': 4541, 'auto': 433, 'priz': 5652, 'visitor': 7812, 'information': 3612, 'trolls': 7532, 'responding': 6022, 'dubious': 2143, 'sources': 6767, 'credence': 1649, 'dictionary': 1937, 'wipe': 8041, 'heckling': 3275, 'sun': 7061, 'snowing': 6696, 'enjoyyyyy': 2313, 'pocket': 5513, 'flu': 2680, 'october': 5075, 'completion': 1479, 'board': 781, 'lefties': 4109, 'globalists': 2960, 'wareagle': 7887, 'mt': 4785, 'daymn': 1791, 'regina': 5926, 'diary': 1932, 'gatto': 2862, 'sanam': 6242, 'pursue': 5752, 'nga': 4946, 'heartwarmingly': 3271, 'meng': 4561, 'ddpat': 1798, 'csgogive': 1685, 'escaping': 2359, 'cs': 1684, 'al': 151, 'kirsten': 3960, 'checked': 1239, 'fosta': 2743, 'ridiculous': 6078, 'gf': 2910, 'fa': 2467, 'puss': 5758, 'bound': 856, 'listened': 4208, 'interview': 3665, 'informative': 3613, 'bedroom': 604, 'dark': 1769, 'misjudged': 4662, 'banged': 529, 'headboard': 3251, 'netflix': 4922, 'yt': 8256, 'espn': 2362, 'reporting': 5992, 'greasing': 3060, 'poles': 5531, 'villanova': 7794, 'jfc': 3791, 'booing': 815, 'peppers': 5361, 'gt': 3094, 'lt': 4332, 'misspe': 4670, 'winterjacket': 8040, 'commentary': 1448, 'draaag': 2084, 'cares': 1106, 'cops': 1565, 'checkout': 1241, 'ebt': 2205, 'cart': 1120, 'duffle': 2149, 'sh': 6424, 'serves': 6404, 'switching': 7139, 'feeds': 2565, 'amendment': 216, 'fo': 2689, 'sara': 6252, 'superb': 7072, 'accountantable': 30, 'concert': 1491, 'voice': 7823, 'students': 7009, 'speech': 6797, 'yelpreview': 8203, 'nongnong': 5000, 'fourth': 2749, 'vhope': 7776, 'plans': 5478, 'folding': 2694, 'lips': 4202, 'genius': 2890, 'genewilder': 2888, 'youngfrankenstein': 8237, 'blazingsaddles': 738, 'lent': 4128, 'broski': 938, 'congratulationz': 1514, 'exclusive': 2419, 'uncensored': 7646, 'omggggg': 5119, 'truely': 7545, 'marley': 4465, 'arthur': 362, 'harim': 3211, 'non': 4999, 'fighters': 2606, 'underwear': 7658, 'skid': 6608, 'marks': 4463, 'lick': 4165, 'elbows': 2244, 'discovered': 1980, 'talent': 7166, 'hating': 3228, 'delish': 1860, 'maniacup': 4431, 'polls': 5541, 'superman': 7075, 'alyson': 202, 'conner': 1519, 'boyfriends': 873, 'featuring': 2558, 'marcus': 4451, 'mariota': 4456, 'gosh': 3016, 'freaky': 2762, 'kinky': 3957, 'woooooow': 8082, 'sooooo': 6738, 'rainbow': 5818, 'commend': 1446, 'twatter': 7591, 'employees': 2286, 'oare': 5060, 'ove': 5204, 'cst': 1689, 'theheartofcaring': 7294, 'festive': 2592, 'parade': 5265, 'towels': 7456, 'fold': 2693, 'yir': 8220, 'patter': 5309, 'adog': 69, 'skeeps': 6605, 'echo': 2209, 'adventurous': 86, 'canyoneering': 1082, 'kawasan': 3895, 'cto': 1691, 'sammilby': 6238, 'vacationmode': 7740, 'accept': 20, 'swifta': 7133, 'michigan': 4607, 'vacation': 7738, 'recap': 5893, 'reportedly': 5989, 'personalities': 5384, 'meetings': 4539, 'vox': 7845, 'eno': 2315, 'tripping': 7526, 'affirmed': 101, 'teen': 7237, 'dooooooo': 2063, 'doooo': 2061, 'farrah': 2515, 'botox': 847, 'robotic': 6117, 'according': 26, 'suns': 7068, 'scares': 6287, 'bullpen': 997, 'past': 5293, 'random': 5830, 'broodal': 934, 'mario': 4454, 'odyssey': 5076, 'personally': 5386, 'favor': 2538, 'picking': 5427, 'cigarette': 1320, 'hoe': 3352, 'marked': 4460, 'impressed': 3579, 'lightning': 4179, 'crime': 1660, 'possibly': 5571, 'exceptional': 2414, 'shitter': 6493, 'yelled': 8199, 'hurt': 3474, 'ninja': 4981, 'senpai': 6383, 'warframe': 7888, 'professor': 5673, 'maryanne': 4478, 'gilligan': 2930, 'fbr': 2548, 'bluewave': 771, 'learned': 4098, 'clone': 1367, 'capability': 1084, 'london': 4268, 'announce': 262, 'greeting': 3070, 'cards': 1102, 'moose': 4736, 'carlo': 1109, 'sligo': 6640, 'gaol': 2849, 'organised': 5174, 'association': 395, 'pattie': 5310, 'govt': 3029, 'guns': 3119, 'excuse': 2420, 'rogue': 6128, 'subtle': 7032, 'shifts': 6471, 'highlights': 3321, 'deserved': 1896, 'mvp': 4823, 'dinner': 1957, 'boobies': 810, 'kate': 3890, 'book': 816, 'stands': 6886, 'destruction': 1913, 'conservatives': 1524, 'bigot': 681, 'smug': 6675, 'poppas': 5553, 'hannah': 3177, 'counts': 1599, 'rabbi': 5798, 'linkedin': 4198, 'google': 3005, 'symantec': 7145, 'salesforce': 6231, 'ucsf': 7626, 'radiation': 5806, 'oncology': 5123, 'planned': 5475, 'building': 987, 'pc': 5327, 'bigwig': 685, 'dinosaur': 1959, 'opinion': 5153, 'sens': 6384, 'breathalise': 897, 'adoptable': 70, 'ccstca': 1156, 'hmmm': 3345, 'remind': 5959, 'washing': 7901, 'clothes': 1373, 'betty': 660, 'posted': 5573, 'lately': 4059, 'hulaloobaaa': 3454, 'revise': 6052, 'statement': 6905, 'ffs': 2596, 'mannnn': 4437, 'camping': 1070, 'burbs': 1009, 'plunge': 5505, 'session': 6407, 'mira': 4655, 'earlier': 2179, 'hopefully': 3402, 'header': 3253, 'graphic': 3053, 'designs': 1901, 'voices': 7826, 'condoms': 1498, 'adnauseum': 68, 'audrey': 426, 'makenzie': 4402, 'met': 4584, 'easiest': 2187, 'cams': 1072, 'motived': 4758, 'cred': 1648, 'strip': 6994, 'club': 1377, 'chairs': 1188, 'roy': 6165, 'edgar': 2215, 'wright': 8126, 'europeans': 2381, 'ancestors': 237, 'africans': 106, 'massive': 4484, 'mu': 4790, 'natalieslothrichter': 4865, 'skyline': 6618, 'missworldbahamas': 4671, 'yess': 8209, 'jane': 3741, 'virgin': 7803, 'zara': 8269, 'onboarding': 5122, 'otw': 5185, 'shits': 6492, 'raggedy': 5813, 'caskale': 1131, 'belhaven': 625, 'grandslam': 3048, 'abv': 16, 'pint': 5454, 'abt': 14, 'vise': 7808, 'versa': 7765, 'streaks': 6985, 'health': 3260, 'adventures': 84, 'gir': 2934, 'aim': 134, 'clips': 1365, 'countries': 1597, 'terrorists': 7259, 'scentsy': 6292, 'sprays': 6844, 'shady': 6431, 'creation': 1644, 'kean': 3902, 'coyle': 1619, 'rovers': 6162, 'charlie': 1222, 'rosen': 6156, 'chopchop': 1293, 'ther': 7310, 'coins': 1402, 'anytime': 284, 'baptism': 538, 'shed': 6457, 'tear': 7228, 'pipe': 5455, 'sewage': 6416, 'likewise': 4187, 'catches': 1140, 'edge': 2216, 'seats': 6339, 'finallyyyyyy': 2627, 'depression': 1890, 'judgement': 3846, 'compromised': 1484, 'huncho': 3466, 'bible': 672, 'musicmonday': 4814, 'tracks': 7466, 'stall': 6879, 'blocking': 752, 'shoreline': 6513, 'irt': 3691, 'goooooooooo': 3009, 'mv': 4821, 'correct': 1575, 'representation': 5997, 'cumentary': 1700, 'dnc': 2015, 'wasserman': 7904, 'collusion': 1416, 'foreign': 2722, 'governments': 3027, 'typical': 7618, 'democraps': 1873, 'thrilled': 7344, 'include': 3586, 'sneak': 6686, 'peak': 5336, 'annual': 266, 'nominees': 4997, 'imagining': 3559, 'energy': 2302, 'library': 4161, 'goodmorning': 3000, 'december': 1823, 'avenue': 440, 'ilang': 3541, 'daus': 1779, 'nalang': 4848, 'garbling': 2854, 'egg': 2228, 'proudly': 5701, 'teamricoswavey': 7224, 'teamrico': 7223, 'george': 2898, 'duke': 2153, 'glass': 2957, 'jrm': 3841, 'twitters': 7611, 'broccoli': 926, 'wrapped': 8120, 'tinfoil': 7384, 'jax': 3755, 'lilli': 4190, 'milo': 4639, 'paw': 5317, 'waves': 7920, 'biscuit': 715, 'woooooooow': 8081, 'cock': 1389, 'alan': 152, 'tons': 7430, 'dominglunes': 2042, 'bleached': 740, 'bunghole': 1005, 'barbie': 543, 'bowel': 860, 'reham': 5933, 'khan': 3925, 'yawn': 8178, 'chunderful': 1314, 'orgy': 5176, 'watched': 7910, 'trek': 7510, 'enterprise': 2319, 'brah': 881, 'companies': 1462, 'opt': 5158, 'advertise': 88, 'florida': 2677, 'audience': 425, 'flip': 2669, 'legal': 4114, 'arguments': 334, 'ruled': 6183, 'flynn': 2686, 'hurry': 3473, 'noooo': 5007, 'change': 1203, 'horror': 3410, 'promo': 5687, 'lottery': 4299, 'places': 5469, 'dates': 1775, 'transferable': 7487, 'gara': 2851, 'foodies': 2708, 'fwd': 2823, 'paying': 5322, 'attention': 420, 'uglyyy': 7630, 'justin': 3865, 'torch': 7443, 'jawn': 3753, 'diggg': 1950, 'seconded': 6345, 'owe': 5213, 'alden': 160, 'aja': 146, 'lemmee': 4127, 'everly': 2391, 'stan': 6881, 'damon': 1756, 'fbi': 2547, 'jd': 3763, 'agent': 111, 'brodie': 929, 'gft': 2911, 'transfered': 7488, 'files': 2615, 'infrared': 3614, 'strongest': 6997, 'peristalsis': 5371, 'meathead': 4526, 'stability': 6870, 'causing': 1150, 'wake': 7860, 'tr': 7462, 'image': 3555, 'singer': 6577, 'imagined': 3558, 'hotlight': 3420, 'soapie': 6699, 'cold': 1407, 'bloom': 762, 'depends': 1884, 'drank': 2096, 'lore': 4286, 'tested': 7262, 'paulie': 5314, 'complaining': 1473, 'unicode': 7671, 'consortium': 1529, 'honored': 3389, 'quirky': 5791, 'reminds': 5962, 'potluck': 5579, 'period': 5369, 'hs': 3438, 'niel': 4966, 'credited': 1652, 'chin': 1275, 'stank': 6887, 'fmoig': 2688, 'astroo': 401, 'essential': 2364, 'equipment': 2343, 'whilst': 7987, 'mido': 4615, 'dh': 1926, 'gamed': 2844, 'awyy': 469, 'oxem': 5220, 'bellah': 630, 'ged': 2877, 'jokers': 3822, 'costing': 1586, 'taxpayer': 7201, 'sues': 7048, 'tire': 7390, 'recording': 5906, 'mia': 4600, 'employment': 2288, 'agreed': 119, 'loizza': 4264, 'mentalhealth': 4564, 'hele': 3286, 'ambassador': 211, 'peersupport': 5345, 'korean': 4002, 'ban': 522, 'standees': 6884, 'posters': 5575, 'shipped': 6479, 'centers': 1175, 'bharatanenenu': 668, 'maddy': 4371, 'girly': 2942, 'imy': 3582, 'claudia': 1351, 'goodnight': 3002, 'bret': 905, 'ashamed': 369, 'flake': 2656, 'mccain': 4510, 'rinos': 6092, 'arizona': 338, 'ooh': 5136, 'kitchen': 3966, 'bake': 508, 'persona': 5382, 'airing': 141, 'jaws': 3754, 'ruined': 6181, 'swimming': 7134, 'outings': 5190, 'insisted': 3636, 'switched': 7138, 'netset': 4923, 'xplornet': 8151, 'tweakin': 7595, 'sayin': 6277, 'laughs': 4067, 'giadasitalycookbook': 2918, 'positanopizza': 5565, 'managers': 4422, 'upto': 7708, 'neck': 4893, 'marcella': 4447, 'millionaire': 4635, 'qui': 5784, 'quiere': 5787, 'ser': 6395, 'millonario': 4636, 'escalates': 2356, 'legitimate': 4120, 'spouce': 6841, 'citizen': 1331, 'readyplayerone': 5875, 'erentil': 2348, 'whoopsies': 7999, 'lincoln': 4193, 'freed': 2768, 'slaves': 6626, 'rnwn': 6108, 'gtaonline': 3096, 'gtaphotographers': 3097, 'suggest': 7053, 'malaia': 4408, 'discovery': 1981, 'wrote': 8134, 'overnight': 5206, 'giothemodest': 2933, 'morrronning': 4746, 'bryce': 960, 'harper': 3213, 'guarantee': 3100, 'tap': 7181, 'healthier': 3261, 'bottled': 850, 'purple': 5750, 'psychobilly': 5717, 'supercard': 7073, 'apparently': 300, 'chargers': 1219, 'target': 7184, 'spinner': 6811, 'qaphela': 5769, 'deliberate': 1856, 'misrepresentation': 4665, 'fuel': 2804, 'narrative': 4861, 'sid': 6544, 'legendsoftomorrow': 4118, 'record': 5905, 'albums': 156, 'thursday': 7356, 'economy': 2211, 'appropriate': 314, 'stain': 6876, 'privilege': 5651, 'watchin': 7912, 'rn': 6106, 'alter': 197, 'idiotic': 3521, 'airlines': 142, 'jetblue': 3788, 'worstever': 8111, 'brad': 878, 'parscale': 5279, 'suspended': 7111, 'scare': 6285, 'allowed': 187, 'panther': 5259, 'sorete': 6746, 'handsome': 3170, 'yeahhhh': 8188, 'qt': 5773, 'rate': 5847, 'ts': 7564, 'onn': 5133, 'sauce': 6263, 'iknoww': 3537, 'alw': 201, 'lmfaoooo': 4242, 'semester': 6372, 'joseph': 3831, 'clap': 1341, 'backs': 490, 'eve': 2385, 'sars': 6256, 'sided': 6545, 'strings': 6993, 'atta': 412, 'current': 1709, 'project': 5681, 'fraud': 2756, 'courtesy': 1607, 'feign': 2572, 'shock': 6499, 'gasp': 2860, 'ranting': 5837, 'social': 6703, 'marswithalden': 4472, 'newgirl': 4935, 'return': 6040, 'complain': 1472, 'auntie': 428, 'sling': 6642, 'jeopardy': 3776, 'category': 1142, 'immortals': 3568, 'takeyouhome': 7163, 'commute': 1460, 'calm': 1057, 'panic': 5256, 'sriracha': 6864, 'goblue': 2975, 'nova': 5027, 'fanny': 2507, 'meds': 4532, 'scheduled': 6294, 'production': 5669, 'prob': 5657, 'development': 1920, 'pogo': 5524, 'raped': 5839, 'arkansas': 339, 'twice': 7602, 'kansas': 3879, 'spelt': 6800, 'screamers': 6313, 'owns': 5219, 'envious': 2333, 'bezoz': 664, 'net': 4920, 'suppressing': 7092, 'potw': 5583, 'nbalivemobile': 4883, 'facetimed': 2475, 'clicked': 1359, 'hack': 3136, 'illgiveathumbsup': 3547, 'publix': 5724, 'ice': 3505, 'cream': 1639, 'cz': 1730, 'teammate': 7222, 'captain': 1091, 'shining': 6476, 'enuf': 2332, 'kayla': 3898, 'owens': 5214, 'bruinfamily': 953, 'france': 2755, 'madrid': 4377, 'cardboard': 1100, 'angst': 251, 'um': 7638, 'unite': 7675, 'allow': 186, 'mes': 4577, 'thieves': 7322, 'pumped': 5731, 'funk': 2813, 'sizzlin': 6602, 'ohh': 5098, 'tweak': 7594, 'dae': 1739, 'drunk': 2137, 'rightnow': 6084, 'drawlin': 2100, 'niall': 4950, 'horan': 3406, 'town': 7457, 'aldubxpatmeng': 162, 'offended': 5079, 'fuse': 2819, 'dr': 2083, 'seuss': 6413, 'edition': 2219, 'migos': 4619, 'struggling': 7001, 'smith': 6670, 'aaron': 4, 'easily': 2188, 'nieces': 4965, 'nephews': 4912, 'germs': 2903, 'spreads': 6847, 'multiple': 4800, 'stinks': 6948, 'birds': 703, 'feather': 2554, 'flock': 2673, 'kaia': 3874, 'prince': 5641, 'vijayakanth': 7791, 'ways': 7924, 'learnt': 4101, 'reasons': 5890, 'brainless': 883, 'janelle': 3742, 'guuuurrrl': 3125, 'fiyah': 2654, 'stawp': 6918, 'shiiii': 6472, 'arsenal': 357, 'follows': 2704, 'gooners': 3006, 'stoke': 6956, 'afc': 96, 'vit': 7813, 'dahlia': 1742, 'souls': 6758, 'tysm': 7620, 'claimed': 1337, 'iptv': 3679, 'roku': 6130, 'csk': 1688, 'supports': 7088, 'chennaisuperkings': 1251, 'oficial': 5093, 'doesnt': 2027, 'goober': 2996, 'mfc': 4596, 'logging': 4262, 'taking': 7164, 'itch': 3712, 'united': 7676, 'treble': 7507, 'sheringham': 6467, 'nadine': 4840, 'mikey': 4622, 'peaceful': 5333, 'therapeutic': 7311, 'scumbag': 6324, 'smooth': 6672, 'splash': 6817, 'yum': 8260, 'fundraiser': 2811, 'offset': 5091, 'icdc': 3504, 'gram': 3042, 'blowjobsforever': 768, 'peacock': 5335, 'courtship': 1608, 'fakenews': 2489, 'brainwash': 885, 'viewers': 7788, 'viewing': 7789, 'alternate': 198, 'timeline': 7379, 'approval': 315, 'eternal': 2373, 'arsehole': 355, 'shitbag': 6486, 'wsg': 8135, 'depressed': 1889, 'feature': 2555, 'tina': 7382, 'addict': 60, 'ap': 287, 'crude': 1675, 'pen': 5347, 'owl': 5215, 'trouble': 7537, 'coxx': 1618, 'bu': 970, 'parentingtips': 5270, 'havent': 3234, 'idiots': 3522, 'bear': 589, 'chose': 1298, 'krazy': 4009, 'stoning': 6962, 'death': 1811, 'misprinted': 4664, 'tatticoin': 7193, 'tatti': 7192, 'kimmon': 3945, 'kimmonwolfboyparty': 3946, 'shaku': 6438, 'wittier': 8055, 'blunt': 772, 'dirt': 1966, 'comebacks': 1434, 'posts': 5577, 'vusi': 7847, 'littlebigtownfan': 4217, 'exploring': 2447, 'virtual': 7805, 'usdlearns': 7716, 'ers': 2353, 'anizi': 256, 'phones': 5413, 'crappy': 1631, 'samsung': 6240, 'jackson': 3727, 'barbecue': 542, 'trust': 7556, 'ireland': 3684, 'notification': 5025, 'jasmine': 3750, 'treated': 7505, 'existential': 2427, 'crisis': 1664, 'sarahhhhh': 6254, 'gluten': 2967, 'tasted': 7189, 'hkg': 3341, 'siwon': 6600, 'style': 7018, 'toidymat': 7414, 'disposible': 1989, 'contour': 1543, 'mats': 4495, 'photoshoot': 5421, 'instagram': 3642, 'miles': 4624, 'raised': 5822, 'memory': 4557, 'gran': 3044, 'sparky': 6789, 'decatur': 1820, 'georgia': 2901, 'usa': 7714, 'bcoz': 582, 'jazba': 3761, 'sarbjit': 6255, 'flop': 2675, 'democrat': 1874, 'recipe': 5899, 'elderflower': 2246, 'sparkling': 6788, 'nearly': 4891, 'goodammydrpalz': 2998, 'aowa': 286, 'kgane': 3922, 'wena': 7963, 'thatttt': 7285, 'vosho': 7836, 'babse': 484, 'wodumo': 8060, 'sickening': 6541, 'dropping': 2129, 'gno': 2969, 'micah': 4602, 'jett': 3789, 'riley': 6085, 'brrrr': 948, 'elementary': 2251, 'yer': 8206, 'awfully': 459, 'nofx': 4990, 'blackout': 730, 'brukout': 955, 'bashme': 560, 'whoohoo': 7997, 'generationgame': 2887, 'mel': 4542, 'sue': 7047, 'hosted': 3415, 'sooty': 6741, 'sweep': 7126, 'yaaaaas': 8158, 'richards': 6071, 'grace': 3035, 'bunches': 1003, 'fatty': 2533, 'kaleb': 3876, 'waheeeeey': 7856, 'xd': 8144, 'raffle': 5810, 'prize': 5653, 'bo': 778, 'complicit': 1481, 'bankrupt': 535, 'rams': 5828, 'yaw': 8177, 'needa': 4896, 'rappin': 5842, 'burb': 1008, 'favorited': 2540, 'assume': 396, 'ogogo': 5096, 'nomkhulu': 4998, 'bakithi': 510, 'pensioners': 5355, 'niece': 4964, 'sandwich': 6246, 'scott': 6306, 'foster': 2744, 'reward': 6054, 'behavior': 622, 'saddle': 6214, 'pad': 5231, 'earnings': 2184, 'rattle': 5851, 'peta': 5394, 'latino': 4062, 'compassionate': 1466, 'dogdad': 2029, 'pedropascal': 5340, 'homie': 3380, 'daaaaaaddy': 1732, 'motivate': 4753, 'era': 2346, 'fridays': 2779, 'rated': 5848, 'mightier': 4618, 'sword': 7141, 'randomly': 5831, 'wyd': 8142, 'wym': 8143, 'proof': 5689, 'emmbarradment': 2278, 'worthless': 8113, 'ure': 7711, 'eco': 2210, 'cemetery': 1172, 'beeeeeaaaaaannnn': 608, 'smiletaehyung': 6667, 'tae': 7153, 'corny': 1573, 'omfg': 5116, 'koreaaaa': 4001, 'yoo': 8228, 'alessia': 165, 'faith': 2486, 'vietnam': 7786, 'vet': 7770, 'kenny': 3913, 'treasure': 7503, 'valentine': 7742, 'poem': 5520, 'hickey': 3314, 'bandit': 525, 'puts': 5762, 'hickies': 3315, 'thanked': 7276, 'lance': 4043, 'lynn': 4360, 'rotation': 6157, 'dripping': 2121, 'itching': 3713, 'dk': 2011, 'dressed': 2111, 'martin': 4475, 'brezeale': 908, 'molina': 4704, 'klitscko': 3974, 'takam': 7158, 'parker': 5276, 'povetkin': 5586, 'standards': 6883, 'comments': 1450, 'deletefacebookimmediately': 1854, 'cambridgeanalytica': 1061, 'myyyyyyyyyyy': 4835, 'gunna': 3117, 'looooooose': 4282, 'cowardly': 1615, 'england': 2306, 'knapp': 3975, 'goldeneye': 2989, 'characters': 1217, 'playthrough': 5493, 'waffles': 7852, 'svu': 7113, 'chapter': 1214, 'bulletproof': 995, 'backwards': 492, 'whistle': 7992, 'cra': 1622, 'premiosmtvmiaw': 5616, 'mtvbrfandombts': 4788, 'heather': 3273, 'updates': 7699, 'imo': 3569, 'astute': 402, 'mattis': 4499, 'redtsunami': 5913, 'debate': 1814, 'immigrant': 3566, 'valentines': 7743, 'ran': 5829, 'lockthemallup': 4258, 'effiqass': 2225, 'ngot': 4947, 'batgot': 567, 'confused': 1507, 'rada': 5805, 'adrian': 74, 'te': 7211, 'powerlaunch': 5590, 'xslasvegas': 8152, 'sane': 6247, 'wherewithal': 7986, 'tied': 7365, 'law': 4077, 'aimed': 135, 'trumps': 7552, 'cult': 1698, 'profiting': 5676, 'lands': 4045, 'feds': 2561, 'defeat': 1836, 'witch': 8051, 'ninokuni': 4982, 'pre': 5606, 'ordere': 5168, 'intense': 3654, 'rangasthalam': 5833, 'blockbuster': 748, 'bastard': 564, 'families': 2501, 'mee': 4533, 'paaji': 5226, 'raab': 5797, 'hmesha': 3343, 'chadian': 1186, 'kalan': 3875, 'rkhe': 6104, 'autograph': 435, 'keto': 3916, 'dung': 2160, 'bankholiday': 533, 'kittyloafmonday': 3971, 'catsoftwitter': 1147, 'catlife': 1144, 'christian': 1304, 'kassius': 3888, 'ohno': 5100, 'smackdown': 6652, 'lou': 4300, 'niners': 4980, 'enemagram': 2300, 'metallica': 4585, 'ozzy': 5223, 'osbourne': 5182, 'sabbath': 6204, 'metallicanight': 4586, 'sundays': 7064, 'sonia': 6726, 'jk': 3804, 'uhmmm': 7634, 'piling': 5445, 'moms': 4710, 'chizzholm': 1282, 'brownsville': 946, 'legit': 4119, 'printable': 5645, 'unicorn': 7672, 'planner': 5476, 'millie': 4633, 'soft': 6708, 'bow': 859, 'galaxy': 2839, 'cases': 1127, 'redbubble': 5910, 'dutty': 2170, 'mas': 4479, 'nhc': 4948, 'troll': 7530, 'winston': 8038, 'shahid': 6433, 'kapoor': 3883, 'pankaj': 5257, 'johny': 3815, 'afford': 102, 'bubble': 971, 'madonna': 4375, 'slightly': 6639, 'twisted': 7608, 'methinks': 4589, 'rallies': 5825, 'southern': 6769, 'northerners': 5015, 'groove': 3083, 'adventuretime': 85, 'mah': 4387, 'gayle': 2868, 'simplest': 6567, 'cancel': 1075, 'extreme': 2455, 'hodl': 3351, 'spotted': 6839, 'marchforourlives': 4449, 'succeed': 7034, 'playoffs': 5490, 'congratsssss': 1511, 'youuuu': 8249, 'ehhhh': 2234, 'tx': 7613, 'disagree': 1971, 'vampire': 7749, 'stated': 6904, 'publicity': 5722, 'accelerate': 18, 'tshego': 7565, 'pathetic': 5301, 'wombat': 8064, 'benny': 641, 'chloe': 1284, 'mum': 4801, 'wung': 8139, 'wong': 8071, 'yasss': 8174, 'georgeratcliffe': 2900, 'featureme': 2557, 'relation': 5940, 'wisdom': 8045, 'focus': 2691, 'welfa': 7957, 'pals': 5251, 'passion': 5290, 'salaries': 6228, 'unlinked': 7684, 'gainwithjnshine': 2837, 'gainwith': 2836, 'bigboy': 676, 'dummy': 2156, 'acct': 33, 'haitians': 3152, 'rubber': 6172, 'snobs': 6692, 'defiantly': 1842, 'shallow': 6440, 'friendly': 2781, 'shore': 6512, 'starts': 6901, 'jerseyshorefamilyvacation': 3783, 'campaigning': 1069, 'sdf': 6326, 'mmc': 4690, 'ypg': 8251, 'ypj': 8252, 'carson': 1119, 'importantly': 3576, 'dawn': 1787, 'shoulda': 6518, 'fashoo': 2527, 'emoshonal': 2282, 'pringle': 5644, 'getaway': 2904, 'sucks': 7044, 'obligation': 5067, 'ryan': 6201, 'wetter': 7971, 'mermaids': 4575, 'minge': 4648, 'filecoin': 2614, 'shitcoins': 6487, 'lovemylife': 4313, 'holland': 3364, 'ongniel': 5129, 'ship': 6477, 'sailed': 6222, 'survived': 7107, 'looongg': 4279, 'lush': 4349, 'mads': 4378, 'hm': 3342, 'silliest': 6561, 'mocks': 4696, 'disabled': 1970, 'proclaiming': 5663, 'liarinchief': 4153, 'dt': 2141, 'wheels': 7983, 'derrick': 1892, 'kodi': 3992, 'krypton': 4012, 'builds': 988, 'allianc': 181, 'simplicity': 6568, 'build': 986, 'chesney': 1254, 'surely': 7096, 'bowelmovement': 861, 'nation': 4867, 'phillip': 5409, 'schofield': 6295, 'passes': 5289, 'potna': 5580, 'clutching': 1382, 'amber': 213, 'morris': 4745, 'reservation': 6008, 'contest': 1538, 'salon': 6233, 'mccabe': 4509, 'chache': 1185, 'cross': 1670, 'sprszn': 6852, 'bagszn': 505, 'flaw': 2662, 'governor': 3028, 'citizens': 1332, 'statesman': 6907, 'proudparents': 5703, 'stoopid': 6964, 'scrub': 6321, 'sexier': 6418, 'polishing': 5536, 'youu': 8248, 'waffle': 7851, 'goin': 2983, 'southernprobs': 6770, 'kings': 3955, 'justright': 3867, 'trudging': 7543, 'slower': 6648, 'projet': 5682, 'piles': 5444, 'hump': 3464, 'oneboobwednesday': 5124, 'arriving': 352, 'travel': 7498, 'tboss': 7205, 'fernando': 2589, 'loses': 4292, 'pesticides': 5392, 'poison': 5527, 'tampons': 7178, 'pads': 5234, 'wht': 8000, 'ovarian': 5203, 'cancer': 1077, 'portuguese': 5561, 'iwaly': 3722, 'language': 4047, 'soproudofyoucw': 6744, 'olu': 5114, 'norfolk': 5010, 'larwd': 4054, 'bobrisky': 786, 'commentators': 1449, 'degrees': 1849, 'kot': 4004, 'gila': 2928, 'tak': 7157, 'panas': 5252, 'psa': 5713, 'engineering': 2305, 'floor': 2674, 'sucia': 7039, 'grateful': 3055, 'safecommunities': 6217, 'shape': 6445, 'kristen': 4010, 'raining': 5819, 'nullll': 5046, 'fxkd': 2824, 'slang': 6624, 'backup': 491, 'chale': 1189, 'analyzing': 234, 'tally': 7175, 'apply': 307, 'lousy': 4304, 'manchester': 4423, 'aid': 132, 'beetow': 612, 'tito': 7398, 'twba': 7592, 'mouse': 4761, 'shaker': 6436, 'erwin': 2354, 'levi': 4145, 'soulmates': 6757, 'irreplaceable': 3689, 'mane': 4425, 'nct': 4884, 'empathy': 2285, 'multi': 4799, 'tf': 7269, 'emojis': 2281, 'microwave': 4611, 'burnt': 1012, 'thou': 7337, 'volcano': 7829, 'delete': 1852, 'feminists': 2586, 'facetattoos': 2473, 'jenna': 3775, 'cringe': 1662, 'welcoming': 7956, 'cohort': 1397, 'nss': 5037, 'stocking': 6952, 'pigs': 5439, 'rare': 5844, 'costumes': 1588, 'farmville': 2514, 'untryescape': 7691, 'sundaymorning': 7063, 'timbs': 7376, 'mcdavid': 4512, 'puck': 5725, 'shoots': 6507, 'scores': 6304, 'regrann': 5929, 'jungmin': 3856, 'parkjungmin': 5277, 'koreanartist': 4003, 'tha': 7271, 'bounce': 854, 'carbuncle': 1098, 'meanti': 4522, 'demented': 1869, 'egomaniac': 2232, 'conscience': 1521, 'studios': 7011, 'allways': 190, 'onlyfans': 5131, 'cbx': 1153, 'alot': 194, 'hella': 3289, 'ibo': 3502, 'doctor': 2017, 'soothing': 6740, 'commands': 1444, 'map': 4444, 'youtuber': 8247, 'gta': 3095, 'begining': 616, 'warrant': 7893, 'castle': 1133, 'iz': 3724, 'haz': 3240, 'bin': 699, 'charming': 1225, 'cellent': 1169, 'pups': 5742, 'refill': 5921, 'meses': 4578, 'cracked': 1626, 'endorsement': 2298, 'foolish': 2712, 'sheeran': 6461, 'mural': 4803, 'dunedin': 2159, 'reveal': 6046, 'actively': 47, 'unveiling': 7693, 'hartbeeps': 3217, 'kent': 3914, 'eddie': 2214, 'tmr': 7405, 'romcom': 6138, 'duck': 2145, 'romance': 6137, 'bells': 632, 'perfection': 5364, 'learnlap': 4100, 'disappoint': 1973, 'costume': 1587, 'uput': 7709, 'roach': 6111, 'rightdown': 6083, 'throat': 7345, 'exxacctlyy': 2457, 'humming': 3461, 'wag': 7853, 'nerd': 4913, 'status': 6914, 'dating': 1776, 'jozi': 3839, 'bree': 902, 'taxi': 7199, 'rank': 5836, 'gig': 2925, 'ntwana': 5041, 'usb': 7715, 'nje': 4988, 'countdown': 1595, 'volvooceanrace': 7832, 'gimme': 2931, 'jayden': 3757, 'lanie': 4048, 'lockscreens': 4257, 'gostou': 3018, 'salvou': 6236, 'usou': 7725, 'miu': 4678, 'abbott': 6, 'jaritza': 3749, 'precious': 5610, 'eiji': 2237, 'happppy': 3189, 'sooon': 6736, 'sneaking': 6687, 'poured': 5585, 'cereal': 1178, 'circled': 1328, 'disgraced': 1984, 'buildthedamnwall': 990, 'buildthatwall': 989, 'cou': 1589, 'narragansett': 4860, 'rhode': 6062, 'undergrad': 7650, 'ucsb': 7625, 'hangouts': 3175, 'cancelled': 1076, 'invited': 3674, 'thanksgiving': 7280, 'crushing': 1677, 'pillows': 5447, 'bedtime': 606, 'yaaaa': 8156, 'cinth': 1326, 'tweeted': 7599, 'ceec': 1160, 'yaaayyy': 8160, 'congratssssss': 1512, 'angell': 246, 'thi': 7319, 'miraculous': 4657, 'similar': 6564, 'bolton': 797, 'jeremy': 3778, 'earned': 2182, 'craptastic': 1632, 'crowd': 1673, 'battleofmoet': 574, 'plantbased': 5480, 'cheeses': 1249, 'larger': 4052, 'vegan': 7757, 'boeing': 791, 'source': 6766, 'baseballiscoming': 556, 'gameofthrones': 2846, 'segment': 6360, 'realize': 5883, 'asinine': 373, 'underground': 7651, 'spaceghostpurrp': 6775, 'responsible': 6026, 'hip': 3332, 'hop': 3399, 'footwork': 2717, 'fortinite': 2736, 'trashcan': 7495, 'adjustment': 64, 'cover': 1611, 'floating': 2671, 'nebula': 4892, 'unsee': 7688, 'sang': 6248, 'jams': 3740, 'selca': 6361, 'revealed': 6047, 'names': 4850, 'thoooo': 7335, 'itv': 3720, 'deflect': 1845, 'reworking': 6055, 'ninth': 4983, 'circuit': 1329, 'runners': 6192, 'anstruther': 270, 'wormit': 8103, 'madden': 4369, 'evicted': 2397, 'bev': 661, 'bants': 537, 'rolodex': 6135, 'november': 5029, 'dayday': 1790, 'pose': 5563, 'chic': 1258, 'drugs': 2135, 'grant': 3050, 'receiving': 5895, 'recognized': 5903, 'earning': 2183, 'platinum': 5482, 'bestintheav': 650, 'mahal': 4388, 'forevs': 2724, 'congrants': 1509, 'douchecanoe': 2075, 'flaunts': 2660, 'brothers': 942, 'sisters': 6592, 'booksales': 821, 'writerslife': 8129, 'shearer': 6456, 'soz': 6773, 'gazza': 2870, 'chair': 1187, 'alert': 163, 'applications': 306, 'closed': 1370, 'rivals': 6099, 'trophy': 7536, 'morpinoybiga': 4744, 'tala': 7165, 'maris': 4457, 'racal': 5799, 'rd': 5860, 'lunatic': 4344, 'sakes': 6225, 'almighty': 192, 'offer': 5082, 'benning': 640, 'pitch': 5461, 'overcast': 5205, 'dry': 2138, 'rain': 5817, 'sight': 6550, 'shuffle': 6532, 'accordingly': 27, 'fitted': 2650, 'remate': 5955, 'thebeach': 7287, 'boyyy': 875, 'spammed': 6781, 'berkeley': 642, 'fault': 2534, 'mat': 4487, 'colors': 1420, 'competitor': 1470, 'slapping': 6625, 'tam': 7176, 'traits': 7484, 'successful': 7037, 'punch': 5733, 'strength': 6989, 'generation': 2886, 'modern': 4700, 'teaching': 7216, 'methods': 4590, 'islam': 3697, 'arabic': 325, 'lessons': 4134, 'usual': 7727, 'suspects': 7110, 'ajatt': 147, 'handful': 3164, 'rtc': 6170, 'roads': 6113, 'hyderabad': 3484, 'gross': 3084, 'cr': 1621, 'fc': 2550, 'porto': 5559, 'sabi': 6205, 'springer': 6850, 'tippy': 7387, 'funky': 2814, 'fartin': 2520, 'azz': 476, 'corporate': 1574, 'referencing': 5919, 'readyy': 5876, 'marchmadness': 4450, 'letz': 4143, 'fellerz': 2579, 'gotmyfaith': 3021, 'pizzapizza': 5464, 'teamtom': 7226, 'finalist': 2625, 'fresh': 2773, 'onw': 5135, 'birthdaaaaaayyyyyy': 706, 'tasha': 7186, 'ttg': 7567, 'wuth': 8140, 'ly': 4355, 'expose': 2448, 'comp': 1461, 'underrated': 7652, 'dolly': 2037, 'niceview': 4956, 'dollyfox': 2038, 'fyi': 2826, 'camera': 1063, 'immediate': 3564, 'pussey': 5759, 'puusay': 5766, 'ftm': 2795, 'cried': 1659, 'hittin': 3338, 'cussing': 1716, 'muthafuckin': 4819, 'ariesgang': 337, 'headed': 3252, 'golfer': 2991, 'priceless': 5637, 'fomeeee': 2705, 'nightmare': 4974, 'guna': 3116, 'respond': 6020, 'fuckn': 2802, 'leos': 4131, 'yn': 8221, 'worn': 8104, 'unplugged': 7687, 'soniyedilnayilagda': 6727, 'baaghi': 478, 'aeternumico': 94, 'switch': 7137, 'rag': 5811, 'apart': 288, 'competitors': 1471, 'ridiculously': 6079, 'biased': 671, 'crashing': 1633, 'value': 7748, 'twink': 7604, 'ricky': 6073, 'nomad': 4994, 'iflyalot': 3528, 'emotional': 2283, 'lookin': 4276, 'fucccc': 2796, 'foodie': 2707, 'legs': 4122, 'bunting': 1007, 'leaguer': 4096, 'scab': 6281, 'classes': 1346, 'lazy': 4085, 'tokens': 7417, 'camgirls': 1065, 'signup': 6557, 'thicc': 7320, 'ooty': 5145, 'tooty': 7441, 'directly': 1965, 'impeach': 3571, 'spanky': 6786, 'blessing': 746, 'metaphysical': 4588, 'gained': 2835, 'holly': 3367, 'pawsome': 5318, 'loads': 4249, 'cosplay': 1584, 'inspiration': 3637, 'figure': 2609, 'lmk': 4244, 'freestyle': 2769, 'founder': 2748, 'household': 3429, 'thesims': 7316, 'tall': 7172, 'teenage': 7238, 'comatose': 1429, 'nap': 4857, 'ideology': 3518, 'schools': 6297, 'loss': 4294, 'tiger': 7368, 'thanking': 7278, 'thankyoumaine': 7282, 'embracing': 2272, 'sonja': 6728, 'gotcha': 3020, 'messing': 4583, 'fashion': 2524, 'coolest': 1558, 'kpop': 4006, 'boarder': 782, 'permanently': 5374, 'mainly': 4393, 'bostonterrier': 842, 'pets': 5399, 'phd': 5405, 'mud': 4793, 'prefiero': 5613, 'taxify': 7200, 'runaway': 6191, 'china': 1276, 'mexican': 4593, 'booze': 831, 'potus': 5582, 'rating': 5849, 'grimm': 3076, 'ecc': 2207, 'nyc': 5056, 'keyboard': 3920, 'basement': 558, 'kaya': 3897, 'kung': 4018, 'gusto': 3123, 'gawin': 2866, 'granted': 3051, 'includes': 3587, 'photocard': 5417, 'sweater': 7123, 'medium': 4531, 'vandy': 7751, 'initial': 3622, 'practice': 5599, 'boobs': 811, 'bigtits': 684, 'bigboobs': 675, 'sexygirl': 6421, 'accent': 19, 'curse': 1712, 'talkin': 7169, 'rio': 6093, 'pikachu': 5441, 'ntrsbirthdayin': 5040, 'ntr': 5039, 'deceased': 1821, 'amzn': 229, 'investors': 3672, 'mucho': 4792, 'fea': 2551, 'jahhhhhh': 3733, 'miranda': 4658, 'inherited': 3619, 'cnbc': 1384, 'sophisticated': 6742, 'crock': 1667, 'touching': 7451, 'belenenses': 624, 'luz': 4353, 'rumoaopenta': 6187, 'abenfica': 9, 'stray': 6983, 'deadline': 1803, 'straykids': 6984, 'extremely': 2456, 'butterfly': 1025, 'swirl': 7136, 'omgg': 5118, 'helpful': 3295, 'mersal': 4576, 'dez': 1923, 'recruiters': 5908, 'stomper': 6960, 'letsgooakland': 4140, 'gearmeout': 2876, 'hiking': 3325, 'ntf': 5038, 'training': 7480, 'def': 1834, 'charles': 1220, 'deplorable': 1885, 'throws': 7349, 'yee': 8192, 'haw': 3236, 'hattiesburg': 3231, 'figured': 2610, 'wiggins': 8014, 'suey': 7049, 'eternally': 2374, 'namhla': 4851, 'lucy': 4340, 'cosmo': 1582, 'fooking': 2709, 'fetish': 2595, 'fartfetish': 2519, 'eproctophilia': 2340, 'farts': 2522, 'hay': 3237, 'dobbs': 2016, 'aka': 149, 'laurel': 4075, 'hardy': 3208, 'reminding': 5961, 'cats': 1146, 'noises': 4992, 'commotion': 1457, 'overstimulation': 5210, 'riddance': 6076, 'passive': 5291, 'aggressive': 116, 'araxie': 326, 'hopeonthestreet': 3403, 'wazzaaappp': 7927, 'joinme': 3818, 'roger': 6126, 'stone': 6961, 'decades': 1819, 'smear': 6659, 'bizimhikaye': 726, 'barfi': 547, 'filiz': 2616, 'baris': 550, 'hulya': 3455, 'archivist': 328, 'researcher': 6007, 'attached': 413, 'arms': 344, 'loveamuslimday': 4307, 'pots': 5581, 'fanfics': 2506, 'priests': 5639, 'pastors': 5297, 'glupppp': 2966, 'tigers': 7369, 'intro': 3668, 'theme': 7301, 'respectthet': 6018, 'stucostrong': 7006, 'yahh': 8162, 'dis': 1969, 'colourful': 1424, 'metaphor': 4587, 'aside': 371, 'fing': 2635, 'shawt': 6454, 'tejas': 7241, 'jukebox': 3852, 'pushin': 5756, 'peeps': 5344, 'popular': 5555, 'officers': 5085, 'internetbillofrights': 3662, 'radios': 5808, 'waow': 7883, 'salute': 6235, 'lolu': 4267, 'persistent': 5380, 'av': 436, 'waited': 7858, 'greenville': 3068, 'sobering': 6701, 'throwback': 7347, 'fifa': 2604, 'ref': 5917, 'yelz': 8204, 'box': 864, 'swearing': 7121, 'duets': 2148, 'breast': 895, 'survivor': 7108, 'experienc': 2438, 'procrastinating': 5664, 'suppose': 7090, 'owners': 5217, 'shelter': 6465, 'secure': 6350, 'grain': 3040, 'salt': 6234, 'naked': 4846, 'bike': 691, 'months': 4732, 'cycling': 1729, 'safety': 6220, 'positivity': 5568, 'wnbr': 8058, 'bodypositive': 789, 'pu': 5719, 'leicester': 4124, 'layout': 4082, 'noregretsep': 5009, 'madetobe': 4372, 'erm': 2351, 'actions': 45, 'justtoclarify': 3868, 'joins': 3819, 'assault': 384, 'weapon': 7932, 'yoka': 8227, 'consider': 1525, 'pledging': 5498, 'tubes': 7569, 'sadly': 6215, 'irresistible': 3690, 'cheeky': 1245, 'sorted': 6749, 'newmusic': 4939, 'bargainprice': 549, 'birthdaaay': 707, 'goonies': 3007, 'janitor': 3744, 'corey': 1570, 'feldman': 2573, 'delighting': 1859, 'mexico': 4594, 'wipes': 8042, 'rolling': 6134, 'plays': 5491, 'ruth': 6199, 'favs': 2544, 'adult': 76, 'suckkkkkksssssss': 7043, 'autocorrect': 434, 'ive': 3721, 'elucidated': 2262, 'litty': 4218, 'history': 3335, 'lights': 4180, 'boom': 822, 'shackalaka': 6426, 'company': 1463, 'cardi': 1101, 'redeem': 5911, 'logan': 4260, 'daemon': 1740, 'gear': 2875, 'kojo': 3994, 'antwi': 280, 'travis': 7502, 'hoopin': 3396, 'root': 6149, 'canals': 1074, 'indica': 3597, 'tim': 7374, 'daisies': 1746, 'naw': 4878, 'alucard': 199, 'hellsing': 3291, 'fellow': 2580, 'patriot': 5306, 'snaps': 6682, 'dabs': 1734, 'smind': 6669, 'tusexyboy': 7585, 'lovebychanceseries': 4308, 'ayeee': 472, 'hijabi': 3324, 'babeee': 481, 'ia': 3498, 'steal': 6926, 'delivering': 1862, 'wet': 7968, 'warmup': 7892, 'confident': 1503, 'unending': 7662, 'tsunami': 7566, 'humiliation': 3460, 'rupaya': 6195, 'listed': 4206, 'amendmentnow': 217, 'newelection': 4932, 'intellectual': 3651, 'dumps': 2158, 'conae': 1487, 'signature': 6553, 'buzzing': 1032, 'yyfc': 8265, 'somethings': 6720, 'mango': 4427, 'yellowknife': 8202, 'northwest': 5017, 'ruthless': 6200, 'ahhhhh': 129, 'renata': 5971, 'siri': 6588, 'uthandonesthembu': 7730, 'mseleku': 4784, 'advocate': 93, 'jeff': 3769, 'bezos': 663, 'inners': 3626, 'casey': 1128, 'jones': 3827, 'eyin': 2465, 'lofas': 4259, 'humour': 3463, 'laundry': 4073, 'wires': 8043, 'plushies': 5508, 'rubbis': 6173, 'ths': 7350, 'kutoa': 4021, 'frustrations': 2793, 'za': 8267, 'chelsea': 1250, 'birdman': 702, 'preseason': 5618, 'mixtape': 4683, 'drooping': 2126, 'backyard': 493, 'shine': 6474, 'hungover': 3467, 'heading': 3255, 'bihhhh': 689, 'billy': 697, 'watches': 7911, 'figures': 2612, 'luv': 4350, 'cuban': 1693, 'desperate': 1904, 'libbies': 4155, 'medical': 4529, 'assistant': 393, 'judy': 3849, 'rogerstone': 6127, 'published': 5723, 'thelionguard': 7299, 'robert': 6115, 'adventure': 83, 'kno': 3980, 'unlike': 7683, 'jean': 3767, 'condom': 1497, 'spams': 6782, 'taurus': 7197, 'zimbos': 8276, 'react': 5866, 'overpriced': 5207, 'fries': 2786, 'trending': 7513, 'striptease': 6995, 'justlikeyoustreamingparty': 3866, 'streaming': 6987, 'failed': 2483, 'connections': 1518, 'endorse': 2297, 'entries': 2329, 'scrabble': 6307, 'lucozade': 4339, 'ribena': 6067, 'vimto': 7795, 'ginger': 2932, 'shall': 6439, 'reserved': 6009, 'couch': 1590, 'angels': 247, 'outlets': 5192, 'classmates': 1349, 'submit': 7023, 'celebratory': 1168, 'favotire': 2542, 'resisters': 6013, 'grades': 3037, 'gpa': 3031, 'arranged': 347, 'fetch': 2594, 'damaging': 1753, 'wett': 7970, 'creamy': 1640, 'sloppy': 6645, 'johnny': 3812, 'trainer': 7479, 'hairline': 3151, 'casio': 1130, 'dual': 2142, 'price': 5636, 'rm': 6105, 'lifetimes': 4174, 'ab': 5, 'sample': 6239, 'spark': 6787, 'launching': 4072, 'gokingsgo': 2985, 'shvt': 6535, 'aggravating': 115, 'hugest': 3449, 'battery': 572, 'alerts': 164, 'shocked': 6500, 'dies': 1943, 'voucher': 7844, 'grats': 3056, 'exposing': 2450, 'jogging': 3809, 'squeeze': 6858, 'stoked': 6957, 'aligned': 173, 'yasssss': 8175, 'repitiendo': 5981, 'ustednosabequiensoyyo': 7726, 'por': 5557, 'whoop': 7998, 'husbands': 3477, 'competitive': 1469, 'mrandmrslewis': 4779, 'mariokart': 4455, 'swat': 7119, 'blondes': 759, 'maiboc': 4389, 'dakotasoul': 1749, 'lonelyblond': 4269, 'university': 7679, 'degree': 1848, 'turds': 7578, 'knobs': 3982, 'completer': 1477, 'motion': 4752, 'spinning': 6812, 'snowflakes': 6695, 'creativebizhour': 1646, 'comics': 1440, 'changbin': 1202, 'district': 2000, 'relay': 5945, 'confirmed': 1505, 'bughead': 983, 'varchie': 7754, 'choni': 1289, 'falice': 2494, 'soup': 6764, 'scratch': 6310, 'texting': 7267, 'mysticmessenger': 4831, 'honorable': 3388, 'resign': 6011, 'auspol': 429, 'graveyard': 3058, 'shift': 6470, 'oooh': 5139, 'weee': 7947, 'tighten': 7371, 'smash': 6657, 'baller': 515, 'headache': 3249, 'protective': 5697, 'eardrums': 2178, 'mates': 4492, 'simply': 6569, 'hips': 3333, 'memorable': 4555, 'snapshots': 6683, 'redvelvet': 5915, 'badboy': 497, 'theperfectredvelvet': 7308, 'overwatch': 5212, 'youtubegaming': 8246, 'pharrah': 5403, 'pcgamer': 5328, 'pcgaming': 5329, 'subscr': 7027, 'ahahaha': 123, 'maxine': 4503, 'broadcast': 923, 'ire': 3683, 'rumors': 6188, 'rings': 6090, 'lucas': 4334, 'jungwoo': 3857, 'capt': 1090, 'trans': 7485, 'pretended': 5629, 'hehe': 3281, 'paris': 5273, 'blockchain': 750, 'crypto': 1681, 'ai': 131, 'answered': 272, 'whyte': 8002, 'eats': 2204, 'josh': 3832, 'wallet': 7870, 'til': 7372, 'oohh': 5137, 'csi': 1687, 'access': 22, 'nfltotalaccess': 4944, 'lack': 4030, 'capitalizing': 1088, 'btc': 964, 'volatility': 7828, 'fee': 2562, 'kcs': 3900, 'knc': 3976, 'improved': 3580, 'gucci': 3103, 'flops': 2676, 'anastasia': 235, 'enderguy': 2294, 'monopoly': 4729, 'environment': 2334, 'fossil': 2742, 'indust': 3605, 'guidance': 3110, 'launched': 4071, 'ment': 4562, 'intimidated': 3667, 'bridge': 911, 'psst': 5715, 'walls': 7871, 'durk': 2168, 'chevann': 1255, 'awarded': 451, 'isfm': 3693, 'clinic': 1363, 'accreditation': 32, 'fb': 2546, 'kkd': 3973, 'rangastalam': 5832, 'living': 4227, 'rai': 5815, 'pasta': 5294, 'noodles': 5004, 'bread': 890, 'nshit': 5036, 'alleges': 178, 'conway': 1552, 'hendrix': 3298, 'skool': 6613, 'fiesta': 2603, 'lighten': 4177, 'comradetrump': 1486, 'impeached': 3572, 'boycottsinclairmedia': 871, 'peeeeeeeps': 5341, 'mug': 4796, 'mata': 4488, 'yoi': 8226, 'desrve': 1907, 'noticed': 5024, 'aswell': 403, 'windfall': 8026, 'emerge': 2274, 'defense': 1841, 'fund': 2809, 'direct': 1964, 'hater': 3225, 'hahn': 3144, 'aired': 139, 'affidavits': 98, 'letter': 4141, 'madonsela': 4376, 'rooi': 6145, 'vest': 7769, 'periscope': 5370, 'yasmine': 8173, 'hobgoblin': 3350, 'hollyoaks': 3368, 'pa': 5224, 'europe': 2380, 'makeing': 4401, 'dirtydishonestdonny': 1968, 'cough': 1591, 'ads': 75, 'removes': 5968, 'congressional': 1516, 'rom': 6136, 'beginning': 618, 'hehehe': 3282, 'uve': 7735, 'unhinged': 7668, 'cope': 1561, 'layed': 4080, 'pandastory': 5254, 'frosting': 2792, 'healthy': 3262, 'ping': 5452, 'laying': 4081, 'bikini': 692, 'ilovespring': 3550, 'reinforce': 5934, 'obj': 5065, 'spreading': 6846, 'nnly': 4989, 'jamaica': 3737, 'bombscare': 800, 'quoting': 5796, 'average': 442, 'deport': 1888, 'possible': 5570, 'soulfestszn': 6754, 'unto': 7690, 'onesie': 5127, 'geocaching': 2896, 'trail': 7474, 'banter': 536, 'acid': 37, 'dropped': 2128, 'shatner': 6451, 'wrath': 8121, 'viewed': 7787, 'guetta': 3109, 'wateva': 7917, 'pls': 5502, 'thx': 7357, 'doubt': 2072, 'taco': 7150, 'bell': 629, 'ew': 2403, 'peter': 5396, 'ep': 2336, 'mentioned': 4567, 'ill': 3543, 'deed': 1832, 'pet': 5393, 'microchipped': 4610, 'imaginary': 3556, 'kon': 3996, 'factory': 2479, 'jis': 3803, 'bnday': 777, 'aany': 3, 'sy': 7142, 'yahn': 8163, 'bandy': 528, 'ho': 3349, 'rhy': 6063, 'cherry': 1253, 'convenient': 1546, 'maneuver': 4426, 'neglect': 4905, 'statistics': 6912, 'journalism': 3835, 'sites': 6595, 'pleasant': 5495, 'ayeeee': 473, 'christians': 1305, 'rawthursday': 5857, 'pride': 5638, 'traitorous': 7482, 'liddle': 4166, 'bonafide': 801, 'stable': 6871, 'minhyun': 4649, 'jihoon': 3795, 'jinyoung': 3802, 'drowning': 2131, 'lunges': 4347, 'squats': 6857, 'medicine': 4530, 'tvxqifficial': 7589, 'tequila': 7254, 'fiend': 2602, 'nil': 4978, 'reactions': 5869, 'stead': 6925, 'added': 59, 'xddd': 8145, 'accidentally': 24, 'aaaand': 2, 'stargate': 6894, 'sgu': 6423, 'sta': 6869, 'expression': 2451, 'jai': 3734, 'ahahahaha': 124, 'moyy': 4774, 'dowh': 2079, 'qin': 5771, 'bringing': 918, 'bops': 834, 'seohyun': 6391, 'soompi': 6731, 'drama': 2094, 'frommetoyou': 2791, 'bested': 645, 'herocz': 3303, 'examine': 2410, 'australia': 430, 'stamp': 6880, 'millard': 4630, 'fundraising': 2812, 'efforts': 2227, 'typing': 7619, 'gus': 3122, 'kr': 4007, 'sheep': 6459, 'monkey': 4724, 'land': 4044, 'vast': 7755, 'anointing': 267, 'nacho': 4838, 'mother': 4750, 'fucker': 2799, 'pizza': 5463, 'heeeeeey': 3279, 'booooo': 823, 'motivated': 4754, 'jolly': 3824, 'aha': 122, 'credible': 1650, 'mondaynight': 4720, 'lifeisgood': 4172, 'albzzy': 157, 'selects': 6363, 'instalment': 3643, 'vlogs': 7818, 'showcasing': 6523, 'bi': 669, 'gigs': 2927, 'ordinary': 5170, 'wasting': 7907, 'nature': 4875, 'cheds': 1243, 'bullish': 996, 'chonis': 1290, 'bearish': 592, 'tbtuesday': 7206, 'faves': 2537, 'officialplanb': 5088, 'alicia': 169, 'fil': 2613, 'murtagh': 4806, 'grumpy': 3093, 'outlander': 5191, 'murtaghmonday': 4807, 'fortune': 2739, 'worry': 8107, 'ke': 3901, 'kopa': 3999, 'di': 1928, 'tlhemma': 7402, 'hela': 3284, 'broadcaster': 924, 'alt': 196, 'reporters': 5991, 'mumbai': 4802, 'indians': 3596, 'broth': 939, 'lee': 4106, 'harden': 3204, 'dunk': 2162, 'paddy': 5232, 'brilliance': 915, 'surrounds': 7103, 'authority': 431, 'judge': 3844, 'lest': 4135, 'judged': 3845, 'hurley': 3471, 'hats': 3230, 'allforarendang': 180, 'marital': 4458, 'expenses': 2435, 'garden': 2855, 'ashley': 370, 'mikelindell': 4621, 'giggles': 2926, 'kama': 3878, 'elders': 2247, 'ssdiski': 6867, 'notice': 5023, 'yesss': 8210, 'answering': 273, 'wen': 7962, 'harley': 3212, 'carter': 1122, 'ba': 477, 'drawatog': 2098, 'destroys': 1912, 'xhosa': 8146, 'tribe': 7516, 'pappu': 5263, 'chamchas': 1194, 'barking': 551, 'pidi': 5434, 'ii': 3534, 'trained': 7478, 'christmas': 1306, 'pistol': 5460, 'christmasgift': 1307, 'ame': 214, 'nonsense': 5001, 'government': 3026, 'torture': 7445, 'furious': 2818, 'ndlovu': 4887, 'luxury': 4351, 'nay': 4880, 'iq': 3680, 'amigas': 223, 'rivales': 6098, 'professors': 5674, 'assignment': 392, 'glasgow': 2956, 'dong': 2047, 'dfsarmy': 1924, 'donuts': 2054, 'sheetdong': 6463, 'rad': 5804, 'tallest': 7174, 'rivershark': 6102, 'alumni': 200, 'vibrations': 7778, 'niceness': 4954, 'ecclesiastical': 2208, 'path': 5300, 'peacefulwaters': 5334, 'praisejah': 5600, 'vocals': 7820, 'bets': 656, 'belying': 634, 'hypocrites': 3492, 'wereback': 7965, 'newest': 4933, 'workers': 8090, 'muslims': 4818, 'evangelicals': 2383, 'bigoted': 682, 'stew': 6936, 'ccri': 1155, 'cracks': 1628, 'sack': 6209, 'flaming': 2657, 'infrastructure': 3615, 'colleen': 1412, 'greatly': 3064, 'michaelfassbender': 4604, 'nelson': 4910, 'mandela': 4424, 'valid': 7745, 'welovemarklee': 7959, 'isabrother': 3692, 'travelled': 7500, 'warriors': 7895, 'amazed': 206, 'appliances': 305, 'charge': 1218, 'trespassing': 7514, 'vilardi': 7792, 'cupcake': 1704, 'host': 3414, 'cabin': 1037, 'holds': 3358, 'memor': 4554, 'trivia': 7528, 'pubfun': 5721, 'bloody': 761, 'luckily': 4337, 'emails': 2267, 'jobs': 3806, 'dive': 2002, 'listings': 4212, 'substance': 7031, 'solved': 6715, 'boycott': 868, 'raising': 5823, 'novichok': 5030, 'kozachok': 4005, 'theresa': 7312, 'justify': 3864, 'distraction': 1999, 'hailey': 3148, 'baldwin': 512, 'surrounded': 7102, 'festivities': 2593, 'bandana': 524, 'styles': 7019, 'arcade': 327, 'marquee': 4466, 'alien': 170, 'predator': 5611, 'retrogaming': 6038, 'yankees': 8167, 'logged': 4261, 'mozilla': 4775, 'withdrawals': 8052, 'breadsticks': 891, 'cinnamon': 1325, 'panera': 5255, 'hormone': 3408, 'cis': 1330, 'heterosexual': 3309, 'sexual': 6419, 'orientation': 5177, 'gender': 2884, 'concepts': 1490, 'retirement': 6035, 'deylon': 1922, 'drugged': 2134, 'kuch': 4015, 'din': 1955, 'mausi': 4500, 'apne': 293, 'ko': 3990, 'judgment': 3848, 'bta': 963, 'degi': 1846, 'provocations': 5709, 'propagandas': 5691, 'bbc': 577, 'underestimating': 7649, 'lowered': 4322, 'tecsew': 7233, 'associated': 394, 'portsmouth': 5560, 'happin': 3187, 'katia': 3893, 'temkin': 7249, 'incredible': 3592, 'coping': 1564, 'trinity': 7523, 'ordnance': 5171, 'bond': 802, 'dangerous': 1762, 'admitted': 67, 'shitting': 6495, 'nae': 4841, 'ytpbr': 8257, 'jornal': 3830, 'boa': 779, 'noite': 4993, 'santana': 6251, 'moss': 4749, 'shitpost': 6491, 'wayz': 7926, 'libs': 4163, 'combat': 1430, 'vetsagainsttrump': 7773, 'vetsresistsquadron': 7774, 'accounta': 29, 'struggles': 7000, 'prune': 5711, 'nastyashell': 4864, 'uhoh': 7635, 'willbepoopingwithinthenexthourorso': 8020, 'ugh': 7628, 'shiro': 6480, 'titty': 7400, 'voltron': 7830, 'shirointittyshir': 6481, 'tires': 7393, 'rims': 6087, 'wheel': 7982, 'khanya': 3926, 'rudi': 6176, 'soloist': 6713, 'hwangchiyeol': 3483, 'bemyself': 635, 'thebeatles': 7288, 'dorms': 2069, 'apartments': 290, 'puked': 5727, 'smh': 6664, 'lemme': 4126, 'birthdaybitch': 709, 'von': 7835, 'puppies': 5740, 'adore': 72, 'yapping': 8170, 'moves': 4767, 'infectious': 3608, 'lmfaooooo': 4243, 'pence': 5349, 'cia': 1318, 'dem': 1865, 'officials': 5089, 'toby': 7409, 'gti': 3098, 'strikes': 6992, 'kylie': 4026, 'haircut': 3150, 'facial': 2476, 'refusing': 5924, 'connect': 1517, 'ruff': 6177, 'skin': 6611, 'surpassing': 7097, 'japanese': 3747, 'sweeter': 7128, 'woth': 8115, 'vanessa': 7752, 'japan': 3746, 'concept': 1489, 'edits': 2220, 'nada': 4839, 'niet': 4967, 'unh': 7666, 'entertainment': 2323, 'tan': 7179, 'actors': 52, 'eastersunday': 2197, 'pasqua': 5286, 'ewwww': 2405, 'crapnation': 1630, 'submissions': 7022, 'deontay': 1882, 'wilder': 8017, 'anthony': 274, 'joshua': 3833, 'sosad': 6751, 'kingof': 3954, 'diamonds': 1931, 'lvl': 4354, 'physical': 5422, 'roommates': 6147, 'discounted': 1978, 'purpose': 5751, 'rock': 6120, 'danielseaveybirthday': 1765, 'danielseavey': 1764, 'hurting': 3475, 'som': 6717, 'vod': 7821, 'coaching': 1387, 'discord': 1976, 'worldautismawarenessday': 8098, 'toks': 7418, 'tiffany': 7367, 'assure': 397, 'paycheck': 5320, 'bonus': 808, 'doodlebob': 2057, 'asscheek': 386, 'birthay': 705, 'park': 5275, 'istandwithlaura': 3708, 'americantraitor': 222, 'soulfulratchet': 6755, 'podcasts': 5519, 'pur': 5743, 'descriptive': 1894, 'hq': 3436, 'marktuan': 4464, 'eyesonmark': 2462, 'lookgot': 4275, 'tory': 7446, 'maddie': 4370, 'yctuvyiojp': 8181, 'nonstop': 5002, 'zolu': 8280, 'posting': 5576, 'hd': 3247, 'rall': 5824, 'hasn': 3221, 'objections': 5066, 'chumps': 1313, 'clickin': 1360, 'stories': 6972, 'uhh': 7632, 'dj': 2009, 'raise': 5821, 'nominated': 4995, 'persons': 5387, 'sees': 6358, 'hatred': 3229, 'crazeme': 1635, 'divya': 2007, 'spandana': 6783, 'frequently': 2772, 'handles': 3167, 'speaks': 6792, 'destination': 1908, 'cutestmodels': 1724, 'werey': 7966, 'documents': 2020, 'enoughisenough': 2316, 'moonbeam': 4735, 'crisisactors': 1665, 'deceiving': 1822, 'prosecute': 5695, 'helping': 3296, 'mairead': 4395, 'trees': 7509, 'swank': 7117, 'rumi': 6186, 'nick': 4957, 'uneducated': 7661, 'theroyals': 7315, 'remainer': 5953, 'doom': 2060, 'gloom': 2962, 'britain': 920, 'awkward': 462, 'currently': 1710, 'diy': 2008, 'sos': 6750, 'telly': 7248, 'bour': 857, 'bosvsmia': 843, 'scope': 6302, 'garage': 2852, 'oneofourawardees': 5125, 'juniorhighschoolrecognition': 3859, 'spam': 6780, 'chauffeur': 1232, 'diplomat': 1961, 'emailing': 2266, 'upped': 7704, 'download': 2080, 'tongue': 7426, 'bootyhole': 830, 'chameleons': 1195, 'flies': 2665, 'flash': 2658, 'thegoodplac': 7293, 'yanks': 8168, 'seat': 6338, 'stern': 6933, 'mayweather': 4507, 'pacquaio': 5230, 'carl': 1108, 'froch': 2787, 'georgegroves': 2899, 'wembley': 7961, 'establ': 2367, 'washes': 7900, 'dir': 1962, 'hardly': 3206, 'wewait': 7972, 'boybandph': 867, 'commissions': 1454, 'opened': 5148, 'commission': 1453, 'slots': 6646, 'yalla': 8165, 'blossom': 764, 'ajay': 148, 'brrrrr': 949, 'mondayhibernation': 4718, 'monnnnnthhhhhh': 4727, 'qtips': 5774, 'arse': 354, 'subpoena': 7025, 'income': 3589, 'cures': 1707, 'awhile': 461, 'dana': 1758, 'salam': 6227, 'wbt': 7929, 'forgotten': 2728, 'contribution': 1544, 'diving': 2003, 'headfirst': 3254, 'girlboss': 2936, 'geochevel': 2897, 'thefoxx': 7292, 'loose': 4283, 'yungnikka': 8261, 'apparel': 299, 'seniorphotos': 6382, 'michelle': 4606, 'lame': 4041, 'nats': 4872, 'hustler': 3481, 'chittar': 1280, 'nawaz': 4879, 'sharif': 6448, 'nvm': 5053, 'gon': 2992, 'struggle': 6999, 'ifb': 3527, 'majix': 4396, 'lovin': 4317, 'stauffer': 6917, 'bite': 724, 'hunker': 3469, 'electricity': 2250, 'jinbei': 3800, 'drawing': 2099, 'repugnican': 6001, 'evaporates': 2384, 'gorges': 3015, 'falk': 2495, 'democracy': 1872, 'propaganda': 5690, 'arm': 340, 'longs': 4272, 'certified': 1181, 'bamf': 520, 'betis': 654, 'toni': 7427, 'syfm': 7144, 'springbreak': 6849, 'buffalo': 979, 'temporary': 7250, 'surveys': 7105, 'mashup': 4481, 'lunes': 4346, 'negritud': 4906, 'maravillosa': 4445, 'sickest': 6542, 'titan': 7394, 'filme': 2619, 'custom': 1717, 'zee': 8271, 'allie': 183, 'miflavour': 4617, 'che': 1233, 'complements': 1474, 'distract': 1998, 'prez': 5635, 'rescheduled': 6005, 'tatiana': 7191, 'intros': 3669, 'ryavjt': 6202, 'gjhtlbmn': 2951, 'tu': 7568, 'abeg': 7, 'firewood': 2644, 'penal': 5348, 'battalions': 571, 'musical': 4813, 'drops': 2130, 'fighting': 2607, 'mtvbrkpopexo': 4789, 'luc': 4333, 'lamborghini': 4040, 'miura': 4679, 'sv': 7112, 'hentai': 3300, 'cillizza': 1321, 'icon': 3508, 'adorable': 71, 'spoiler': 6824, 'cinthia': 1327, 'prosecco': 5694, 'comme': 1445, 'yoursel': 8243, 'shouldnt': 6519, 'nycc': 5057, 'fullest': 2806, 'teamaries': 7218, 'oldandtired': 5107, 'twinning': 7605, 'bitchass': 719, 'glory': 2963, 'trumpass': 7549, 'whys': 8001, 'raging': 5814, 'chippy': 1278, 'indian': 3595, 'shy': 6536, 'clos': 1368, 'daughters': 1778, 'savior': 6272, 'dodgy': 2023, 'doyers': 2082, 'chanting': 1210, 'beatla': 596, 'dbacks': 1795, 'faithful': 2487, 'calendars': 1048, 'fieldofability': 2601, 'quinte': 5790, 'challengerbaseball': 1192, 'measuring': 4524, 'calipers': 1053, 'quavo': 5778, 'trio': 7524, 'quav': 5777, 'zoocci': 8283, 'coke': 1403, 'innovation': 3628, 'smartcity': 6655, 'cleared': 1355, 'drains': 2091, 'yhe': 8216, 'aprilfoolsday': 321, 'oklahoma': 5105, 'writes': 8130, 'tonite': 7429, 'restroom': 6030, 'inopportune': 3629, 'ronnieeeee': 6142, 'duu': 2172, 'iyke': 3723, 'ogini': 5095, 'kwanu': 4023, 'tenure': 7253, 'heechul': 3277, 'hyukjae': 3494, 'sweetie': 7131, 'namjihyun': 4852, 'bandwagon': 527, 'sha': 6425, 'nicola': 4961, 'lewis': 4147, 'entered': 2318, 'ucla': 7624, 'sweatshirt': 7124, 'education': 2222, 'tucker': 7571, 'jesse': 3785, 'levin': 4146, 'tmx': 7406, 'wee': 7945, 'pool': 5543, 'kasey': 3886, 'confirm': 1504, 'parent': 5269, 'sds': 6328, 'interviewing': 3666, 'misogynistic': 4663, 'hims': 3328, 'lows': 4326, 'kellen': 3911, 'hugs': 3452, 'kisses': 3963, 'leopards': 4130, 'shittiest': 6494, 'defence': 1838, 'naona': 4856, 'hizi': 3340, 'mabao': 4363, 'walifungwa': 7862, 'machos': 4365, 'renovated': 5975, 'cape': 1085, 'spacious': 6776, 'majority': 4398, 'carpool': 1113, 'distance': 1996, 'ocean': 5074, 'unit': 7674, 'gorce': 3011, 'newly': 4938, 'ckin': 1336, 'computer': 1485, 'goldberg': 2987, 'steve': 6934, 'released': 5947, 'hypocrite': 3491, 'ofc': 5077, 'ios': 3678, 'delayed': 1851, 'mary': 4477, 'ann': 257, 'sends': 6379, 'chilling': 1273, 'yeehaw': 8195, 'servers': 6403, 'bones': 805, 'drug': 2133, 'unexpectedly': 7663, 'iamtheresistance': 3500, 'sinclairstrike': 6575, 'whale': 7977, 'spouting': 6842, 'sedin': 6352, 'retiring': 6036, 'travels': 7501, 'marsacrossamerica': 4470, 'kcker': 3899, 'corbyn': 1568, 'nephew': 4911, 'raci': 5801, 'homebody': 3372, 'victories': 7781, 'signing': 6555, 'animalrights': 252, 'petitions': 5397, 'expecting': 2433, 'crossover': 1672, 'turtle': 7584, 'helmet': 3292, 'minecraftpe': 4645, 'obvi': 5071, 'mremix': 4780, 'preorder': 5617, 'girllll': 2939, 'girlll': 2938, 'chucky': 1310, 'todd': 7411, 'communist': 1458, 'sajjansinghrangroot': 6223, 'paji': 5245, 'pedal': 5338, 'looters': 4284, 'political': 5538, 'parties': 5282, 'pdp': 5331, 'apga': 292, 'lp': 4328, 'sdp': 6327, 'filthy': 2622, 'liar': 4152, 'cowboy': 1617, 'linjani': 4196, 'ndebele': 4886, 'maine': 4392, 'laudable': 4063, 'humansofbarangay': 3459, 'perv': 5390, 'sob': 6700, 'roseanne': 6153, 'revolution': 6053, 'bra': 876, 'permits': 5376, 'tekapo': 7242, 'travelbugsworld': 7499, 'melting': 4545, 'spankbang': 6785, 'lizvicious': 4228, 'solo': 6712, 'billion': 696, 'rockin': 6124, 'sith': 6596, 'utter': 7731, 'juveniles': 3869, 'discipline': 1974, 'manners': 4436, 'skills': 6610, 'micheal': 4605, 'degrassi': 1847, 'jug': 3850, 'feminazis': 2585, 'gettin': 2906, 'door': 2064, 'whinny': 7989, 'pedophiliac': 5339, 'taller': 7173, 'height': 3283, 'knob': 3981, 'rui': 6179, 'paptingafool': 5264, 'keansburg': 3903, 'amusement': 227, 'rapids': 5840, 'waterpark': 7916, 'stopping': 6969, 'shorty': 6516, 'demon': 1877, 'supercoach': 7074, 'teaml': 7221, 'fate': 2532, 'proper': 5692, 'onmyblock': 5132, 'ruby': 6174, 'eland': 2243, 'vegetables': 7759, 'happer': 3183, 'welp': 7960, 'heals': 3259, 'damaged': 1752, 'cells': 1171, 'digest': 1949, 'alexirons': 167, 'alexironsrocks': 168, 'trum': 7547, 'gurl': 3120, 'pour': 5584, 'feat': 2553, 'daim': 1745, 'understanding': 7655, 'aaaaa': 0, 'harujion': 3218, 'pv': 5767, 'elway': 2263, 'eli': 2256, 'honesty': 3385, 'inconsistencies': 3590, 'enty': 2331, 'situation': 6598, 'illustrates': 3549, 'color': 1417, 'den': 1879, 'eastenders': 2191, 'katmoonishome': 3894, 'condo': 1496, 'prime': 5640, 'estate': 2368, 'hyungwon': 3497, 'kihyun': 3938, 'changkyun': 1207, 'hw': 3482, 'kh': 3923, 'flea': 2663, 'river': 6100, 'slimeball': 6641, 'wimpass': 8023, 'acostacrap': 39, 'exact': 2407, 'shi': 6469, 'lrt': 4330, 'gord': 3012, 'millers': 4632, 'babble': 479, 'yorker': 8231, 'charmin': 1224, 'thinkin': 7329, 'swahili': 7115, 'goddess': 2978, 'warrior': 7894, 'remembers': 5958, 'advert': 87, 'yoh': 8225, 'turkey': 7579, 'merhaba': 4573, 'leftist': 4110, 'sunk': 7065, 'yaaaaaaaasssss': 8157, 'differences': 1947, 'search': 6334, 'shaved': 6453, 'fame': 2500, 'gallery': 2841, 'saturdays': 6261, 'expect': 2431, 'jor': 3828, 'umpire': 7641, 'practical': 5597, 'pearl': 5337, 'allemand': 179, 'zoos': 8284, 'zoo': 8282, 'uv': 7734, 'glowinthedark': 2965, 'terminusvox': 7256, 'mailcall': 4390, 'ghee': 2913, 'hustle': 3480, 'serial': 6397, 'hargeysa': 3209, 'crawfish': 1634, 'fresno': 2776, 'splc': 6818, 'worlds': 8101, 'judging': 3847, 'practically': 5598, 'invulnerable': 3676, 'whitehouse': 7994, 'emma': 2277, 'girllllll': 2940, 'bagged': 503, 'hersen': 3305, 'trial': 7515, 'minus': 4652, 'senators': 6375, 'repressive': 5999, 'douglamalfa': 2078, 'larrywahl': 4053, 'buttecounty': 1022, 'texter': 7266, 'eminem': 2276, 'eagles': 2177, 'airheads': 140, 'tricksters': 7519, 'elon': 2261, 'shreya': 6531, 'nibbles': 4951, 'stu': 7003, 'trips': 7527, 'sucker': 7042, 'punches': 5734, 'cuhz': 1697, 'eastermonday': 2194, 'dedicacation': 1829, 'versio': 7767, 'billie': 695, 'wapo': 7884, 'dreaded': 2103, 'bearings': 591, 'rebuild': 5891, 'bmw': 774, 'breeches': 903, 'aaaahhhh': 1, 'screamed': 6312, 'arsofthetrust': 359, 'socal': 6702, 'thewalkingdead': 7318, 'twd': 7593, 'checks': 1242, 'correction': 1576, 'september': 6393, 'deadites': 1802, 'providence': 5707, 'woonsocket': 8079, 'grainger': 3041, 'duggary': 2150, 'ferguson': 2588, 'horsfield': 3412, 'joint': 3820, 'kashmir': 3887, 'apprecia': 309, 'peep': 5343, 'frames': 2754, 'analyst': 232, 'membership': 4550, 'purchases': 5746, 'selfie': 6365, 'emehahahaha': 2273, 'ideal': 3513, 'privately': 5650, 'snopes': 6693, 'polished': 5535, 'paaaarty': 5225, 'farrrr': 2517, 'coupta': 1603, 'livelihood': 4221, 'guideline': 3111, 'experts': 2441, 'alba': 154, 'gaskets': 2859, 'assetintegrity': 389, 'painter': 5241, 'urgent': 7712, 'titions': 7395, 'confam': 1499, 'paint': 5239, 'mortgage': 4748, 'shaming': 6443, 'vid': 7782, 'sudscribe': 7046, 'colossous': 1422, 'johnlawrence': 3811, 'traded': 7470, 'cum': 1699, 'daz': 1794, 'daytime': 1793, 'whoa': 7995, 'firstlady': 2647, 'eggroll': 2229, 'simples': 6566, 'vacationing': 7739, 'shametown': 6442, 'unkind': 7681, 'attack': 414, 'imessage': 3561, 'icloud': 3506, 'keeper': 3906, 'slammed': 6622, 'harsh': 3216, 'inflammatory': 3609, 'clingy': 1362, 'fought': 2745, 'ec': 2206, 'debut': 1817, 'poleng': 5530, 'scrolls': 6320, 'skyrim': 6619, 'gc': 2872, 'itunes': 3719, 'evolution': 2401, 'seo': 6390, 'hyperlocal': 3490, 'fear': 2552, 'char': 1216, 'modii': 4702, 'waking': 7861, 'dreading': 2104, 'hollywood': 3369, 'dread': 2102, 'boam': 780, 'toppy': 7442, 'showers': 6527, 'behalf': 620, 'hijab': 3323, 'servant': 6400, 'gals': 2842, 'nowadays': 5031, 'ander': 239, 'uper': 7700, 'phool': 5414, 'jamal': 3738, 'lowe': 4320, 'deaths': 1812, 'ethereal': 2377, 'guitar': 3113, 'hmu': 3347, 'gaw': 2864, 'spiked': 6808, 'statue': 6913, 'shanatic': 6444, 'sashalicious': 6257, 'weatherfield': 7937, 'aw': 445, 'nugget': 5043, 'soulless': 6756, 'yap': 8169, 'uh': 7631, 'squirt': 6862, 'clash': 1344, 'housemate': 3430, 'gaf': 2831, 'pregnant': 5614, 'props': 5693, 'ahh': 127, 'autism': 432, 'worldautismawareness': 8097, 'providers': 5708, 'patients': 5304, 'witness': 8053, 'martha': 4473, 'radnor': 5809, 'chivscin': 1281, 'boise': 794, 'trashed': 7496, 'granny': 3049, 'shiplett': 6478, 'breather': 899, 'scarborough': 6284, 'joey': 3808, 'ramone': 5826, 'argue': 332, 'plunger': 5506, 'plumbinggimmick': 5504, 'bes': 643, 'eyh': 2464, 'chore': 1296, 'mountain': 4759, 'soap': 6698, 'diffently': 1945, 'askmarkruss': 378, 'silica': 6560, 'windows': 8027, 'oscar': 5183, 'actor': 51, 'wood': 8074, 'reactionary': 5868, 'orangebuffon': 5164, 'davis': 1784, 'unibrow': 7670, 'anthonydavis': 275, 'laughswithpayne': 4068, 'zeke': 8272, 'muscles': 4808, 'spotting': 6840, 'dave': 1780, 'legooooo': 4121, 'lovelife': 4311, 'violet': 7800, 'notebook': 5020, 'youth': 8244, 'fest': 2590, 'ravetz': 5854, 'perry': 5378, 'outreach': 5195, 'program': 5677, 'motivationmonday': 4757, 'bodytekperks': 790, 'determined': 1915, 'drinks': 2120, 'wor': 8085, 'remarkably': 5954, 'recovery': 5907, 'blogger': 756, 'blogs': 758, 'lea': 4088, 'pak': 5246, 'pakistanzindabad': 5247, 'beautifull': 599, 'hometovote': 3378, 'coincides': 1400, 'repeal': 5978, 'moncarataprilfoolsday': 4715, 'arseholes': 356, 'trophies': 7535, 'oml': 5120, 'mountains': 4760, 'mayflower': 4505, 'mansfield': 4442, 'reporter': 5990, 'catcher': 1139, 'shoe': 6501, 'surprising': 7100, 'sheesh': 6462, 'explains': 2444, 'vision': 7810, 'tvxq': 7588, 'fkn': 2655, 'basically': 561, 'pihu': 5440, 'woot': 8084, 'og': 5094, 'handshake': 3169, 'brexit': 907, 'bother': 845, 'remain': 5952, 'stopbre': 6966, 'instastory': 3645, 'kacey': 3872, 'musgraves': 4809, 'namjin': 4853, 'scolding': 6299, 'hyungs': 3496, 'exposes': 2449, 'rawaftermania': 5856, 'lmaoooooooooo': 4239, 'gladly': 2955, 'wknd': 8057, 'tireless': 7392, 'anxiety': 281, 'stiff': 6945, 'toyota': 7460, 'yaris': 8172, 'ad': 55, 'hoy': 3434, 'el': 2242, 'cumplea': 1701, 'os': 5181, 'spain': 6779, 'putthepadson': 5764, 'safet': 6219, 'cked': 1335, 'rsl': 6168, 'yc': 8180, 'strong': 6996, 'presenting': 5621, 'sunrise': 7067, 'dam': 1751, 'risk': 6096, 'cush': 1715, 'armon': 341, 'forreal': 2734, 'padron': 5233, 'proactive': 5656, 'gents': 2894, 'hall': 3155, 'qb': 5770, 'danny': 1767, 'grocery': 3080, 'shopping': 6510, 'allllll': 185, 'modernfun': 4701, 'manically': 4432, 'breathe': 898, 'compelling': 1467, 'ape': 291, 'carnivorous': 1111, 'monolith': 4728, 'fictional': 2599, 'cw': 1728, 'diet': 1944, 'cricket': 1657, 'simplythebest': 6570, 'bdaysoon': 585, 'craaappppp': 1623, 'experian': 2437, 'darkweb': 1770, 'ohnoihcked': 5101, 'whatevershallido': 7978, 'casually': 1135, 'morgan': 4738, 'elevator': 2252, 'staying': 6922, 'jeffree': 3771, 'approved': 316, 'drag': 2086, 'defaulted': 1835, 'stays': 6923, 'trudeau': 7542, 'nuff': 5042, 'jokes': 3823, 'stanley': 6888, 'realistically': 5881, 'stopper': 6968, 'undoubtedly': 7660, 'rocked': 6121, 'herbs': 3301, 'adrenal': 73, 'guru': 3121, 'validate': 7746, 'homecoming': 3374, 'ild': 3542, 'businesswomen': 1016, 'artists': 365, 'writers': 8128, 'thath': 7283, 'purty': 5753, 'astrology': 400, 'wom': 8062, 'supportsma': 7089, 'nessie': 4918, 'grabbing': 3034, 'cuppa': 1705, 'nessieland': 4919, 'cafe': 1040, 'enti': 2324, 'terrifying': 7258, 'statistic': 6911, 'bop': 832, 'freshen': 2774, 'conormcgregor': 1520, 'tonyferguson': 7432, 'injured': 3623, 'ufc': 7627, 'themmahour': 7303, 'khabib': 3924, 'align': 172, 'beverages': 662, 'amirite': 225, 'khloe': 3927, 'overseas': 5209, 'pennylane': 5353, 'flowers': 2679, 'sinclairbroadcasting': 6574, 'localnews': 4253, 'breaking': 894, 'adulthood': 78, 'nutes': 5051, 'katelyn': 3891, 'embarassment': 2268, 'fawning': 2545, 'nooo': 5006, 'websites': 7941, 'lyn': 4359, 'leia': 4123, 'sims': 6571, 'thumbnail': 7353, 'unzip': 7694, 'trousers': 7540, 'showed': 6525, 'everytime': 2395, 'kittens': 3968, 'finale': 2624, 'themagicians': 7300, 'maintenance': 4394, 'wayyy': 7925, 'fixing': 2653, 'trop': 7534, 'fort': 2735, 'jaguarmax': 3732, 'gvfeeling': 3128, 'tcrwp': 7209, 'picturebookchallenge': 5432, 'sat': 6258, 'blockparty': 753, 'timcook': 7377, 'zuckerberg': 8285, 'growup': 3092, 'tds': 7210, 'patient': 5303, 'aggrandizing': 114, 'activist': 50, 'eyesonyou': 2463, 'kathleen': 3892, 'machine': 4364, 'beth': 653, 'gbc': 2871, 'bits': 725, 'coin': 1399, 'ico': 3507, 'extended': 2452, 'aprill': 322, 'hurrayy': 3472, 'rose': 6152, 'ehrenfelser': 2235, 'organic': 5173, 'winery': 8030, 'bottles': 851, 'stocks': 6955, 'amazo': 209, 'snack': 6676, 'idols': 3526, 'iniesta': 3621, 'pep': 5360, 'folk': 2695, 'bbq': 579, 'noted': 5021, 'patch': 5299, 'stec': 6927, 'states': 6906, 'rattled': 5852, 'cage': 1042, 'nismonation': 4987, 'copensen': 1562, 'plugs': 5503, 'exist': 2425, 'equality': 2341, 'easysnackrecipecontest': 2199, 'participate': 5281, 'hampers': 3160, 'partic': 5280, 'fulfilled': 2805, 'lifted': 4175, 'wana': 7875, 'fashions': 2525, 'cave': 1152, 'beard': 590, 'muchas': 4791, 'felicidades': 2575, 'felices': 2574, 'greeks': 3066, 'trifling': 7522, 'worrying': 8108, 'understands': 7656, 'twin': 7603, 'briefly': 912, 'dalit': 1750, 'mistaken': 4674, 'identity': 3517, 'snubs': 6697, 'labor': 4029, 'liberalism': 4157, 'mz': 4836, 'ownership': 5218, 'ronjovi': 6141, 'ploy': 5501, 'betray': 655, 'foll': 2697, 'realraprec': 5888, 'bvs': 1033, 'comingsoon': 1442, 'ay': 470, 'durban': 2167, 'limitless': 4192, 'split': 6819, 'hyung': 3495, 'eks': 2241, 'grom': 3081, 'wrap': 8119, 'yeeeww': 8194, 'moylanbrothers': 4773, 'luke': 4342, 'sk': 6603, 'lker': 4230, 'boxing': 865, 'despite': 1906, 'clarinet': 1342, 'sticking': 6943, 'knock': 3983, 'totals': 7449, 'model': 4698, 'outdoor': 5188, 'boulder': 853, 'roles': 6132, 'hahahha': 3143, 'swollen': 7140, 'pimple': 5449, 'gong': 2994, 'perkins': 5372, 'tracksuit': 7467, 'scenes': 6291, 'caption': 1093, 'leading': 4092, 'scoop': 6300, 'hygena': 3486, 'scooper': 6301, 'equipped': 2344, 'strategy': 6981, 'plague': 5470, 'drumpfo': 2136, 'corrutptrump': 1580, 'theeeennnks': 7290, 'penny': 5352, 'auction': 423, 'bare': 545, 'escentuals': 2360, 'minerals': 4646, 'tasking': 7187, 'concealer': 1488, 'spf': 6805, 'bisque': 716, 'necmmiiiiiiiiii': 4894, 'supporters': 7085, 'sessions': 6408, 'submitted': 7024, 'idem': 3514, 'slick': 6635, 'floats': 2672, 'almonte': 193, 'naquin': 4859, 'offensively': 5081, 'productive': 5670, 'iike': 3535, 'perfectly': 5365, 'condition': 1494, 'sake': 6224, 'jejely': 3773, 'web': 7938, 'meer': 4536, 'sings': 6580, 'chileeeeee': 1270, 'lifejapan': 4173, 'shat': 6450, 'harry': 3215, 'copies': 1563, 'estimated': 2371, 'sps': 6853, 'riaa': 6066, 'unusual': 7692, 'burger': 1010, 'badasses': 496, 'spiderman': 6806, 'spidermanhomecoming': 6807, 'marvelcomics': 4476, 'mong': 4723, 'bailed': 506, 'tonys': 7433, 'eringance': 2350, 'redneck': 5912, 'outlook': 5193, 'socil': 6705, 'nyweh': 5058, 'murdered': 4804, 'jou': 3834, 'harvey': 3219, 'hardman': 3207, 'paula': 5313, 'suits': 7057, 'freinds': 2770, 'bakugo': 511, 'changed': 1204, 'cuttin': 1726, 'rooster': 6148, 'painted': 5240, 'acrylic': 41, 'lolololol': 4266, 'slc': 6627, 'sioux': 6585, 'dakota': 1748, 'monbebe': 4713, 'gap': 2850, 'bam': 519, 'lam': 4038, 'vito': 7814, 'trumpy': 7555, 'opps': 5157, 'narrow': 4862, 'minded': 4643, 'nhi': 4949, 'bola': 795, 'isne': 3701, 'mil': 4623, 'flight': 2666, 'attendant': 418, 'refresh': 5922, 'cocktail': 1390, 'gem': 2881, 'theperfectgift': 7307, 'mrpoopy': 4781, 'sayhi': 6276, 'loveit': 4310, 'subscribes': 7030, 'yell': 8198, 'balling': 517, 'upload': 7703, 'wifi': 8011, 'resort': 6014, 'mobile': 4695, 'hotspot': 3423, 'supper': 7078, 'carrey': 1114, 'rino': 6091, 'paintings': 5243, 'zer': 8273, 'blake': 735, 'voiceblinds': 7824, 'wahala': 7855, 'kanu': 3881, 'nwankwo': 5054, 'aso': 381, 'sergio': 6396, 'ramos': 5827, 'pod': 5516, 'tides': 7363, 'unnecessary': 7686, 'bcpoli': 583, 'wildly': 8018, 'rails': 5816, 'suggestions': 7054, 'removals': 5965, 'eeeeeeekkkkk': 2223, 'july': 3853, 'mega': 4540, 'pub': 5720, 'ironically': 3686, 'harder': 3205, 'celebrates': 1164, 'remodsouza': 5963, 'salmankhan': 6232, 'jacquelinefe': 3729, 'domains': 2039, 'newgtlds': 4936, 'keyword': 3921, 'graduate': 3038, 'celebrateallsuccesses': 1162, 'mayor': 4506, 'wic': 8004, 'jel': 3774, 'tbf': 7203, 'thai': 7273, 'sikh': 6558, 'ambassadors': 212, 'js': 3842, 'cartoon': 1123, 'angel': 245, 'obinim': 5064, 'sticker': 6941, 'placed': 5468, 'calculator': 1046, 'shacking': 6427, 'inevitable': 3607, 'wherewi': 7985, 'awh': 460, 'awful': 458, 'unblock': 7645, 'soundtracks': 6763, 'booked': 818, 'friendsfest': 2783, 'biiiiiiih': 690, 'hollered': 3365, 'oooo': 5140, 'endless': 2296, 'granting': 3052, 'isp': 3702, 'bog': 792, 'stillstandingchallenge': 6947, 'hows': 3433, 'gateway': 2861, 'closing': 1372, 'opioid': 5155, 'mtac': 4787, 'stockmarket': 6953, 'trumptariffeffect': 7554, 'donthecon': 2053, 'resist': 6012, 'vanjie': 7753, 'cc': 1154, 'specifically': 6796, 'psni': 5714, 'facilitate': 2477, 'approximately': 317, 'lied': 4168, 'pledge': 5497, 'yfm': 8215, 'titled': 7397, 'grave': 3057, 'surrender': 7101, 'ezrecordsthelabel': 2466, 'fmh': 2687, 'fof': 2692, 'daway': 1785, 'trapter': 7493, 'mhmmm': 4598, 'wowow': 8118, 'sheepdog': 6460, 'fridaymood': 2778, 'perspective': 5388, 'squids': 6859, 'kingsquid': 3956, 'atl': 409, 'sneaky': 6688, 'xyz': 8154, 'greg': 3071, 'doris': 2067, 'hanging': 3173, 'yzj': 8266, 'mole': 4703, 'youzhangjing': 8250}\n",
      "  (0, 6835)\t0.47479519946044174\n",
      "  (0, 887)\t0.5298331753928474\n",
      "  (0, 1706)\t0.5054784830608154\n",
      "  (0, 366)\t0.4881985538538481\n",
      "  (1, 2600)\t0.7211385050392711\n",
      "  (1, 4277)\t0.5602931712782753\n",
      "  (1, 2997)\t0.4074687948403635\n",
      "  (2, 5874)\t0.3068203150373545\n",
      "  (2, 744)\t0.3350803502392626\n",
      "  (2, 145)\t0.42992294281310534\n",
      "  (2, 7062)\t0.3386923321248914\n",
      "  (2, 319)\t0.2827090917442078\n",
      "  (2, 5511)\t0.3763771828809983\n",
      "  (2, 6793)\t0.3228314229488913\n",
      "  (2, 3107)\t0.4101607959997591\n",
      "  (3, 319)\t0.2966496123975945\n",
      "  (3, 4274)\t0.359487022694799\n",
      "  (3, 4659)\t0.4042609599230084\n",
      "  (3, 6899)\t0.35539341316194123\n",
      "  (3, 3383)\t0.4156731496827707\n",
      "  (3, 7326)\t0.3416736372477455\n",
      "  (3, 2790)\t0.45112264893742626\n",
      "  (4, 3861)\t0.1718518675250546\n",
      "  (4, 5288)\t0.37583604265755177\n",
      "  (4, 6050)\t0.37583604265755177\n",
      "  :\t:\n",
      "  (4979, 7960)\t0.7600672313934533\n",
      "  (4980, 2997)\t0.20190153387852336\n",
      "  (4980, 2309)\t0.28778240821561296\n",
      "  (4980, 495)\t0.29379810483058594\n",
      "  (4980, 2192)\t0.2722202804384164\n",
      "  (4980, 2570)\t0.35732544958034457\n",
      "  (4980, 5684)\t0.35166446191115736\n",
      "  (4980, 6803)\t0.36374334807382647\n",
      "  (4980, 2807)\t0.3906400743920979\n",
      "  (4980, 3173)\t0.42395469920385126\n",
      "  (4981, 2997)\t0.2987354863597329\n",
      "  (4981, 4265)\t0.3658501420318004\n",
      "  (4981, 7275)\t0.3505236244676858\n",
      "  (4981, 7857)\t0.39697131997500296\n",
      "  (4981, 7380)\t0.475098313952438\n",
      "  (4981, 7373)\t0.5203261810168853\n",
      "  (4982, 4306)\t0.19334592370134684\n",
      "  (4982, 866)\t0.2824958999527146\n",
      "  (4982, 2460)\t0.31298210496669493\n",
      "  (4982, 304)\t0.3701275547878613\n",
      "  (4982, 7082)\t0.28454195708700636\n",
      "  (4982, 5884)\t0.33964134977388094\n",
      "  (4982, 8266)\t0.38796084151033705\n",
      "  (4982, 4703)\t0.38796084151033705\n",
      "  (4982, 8250)\t0.38796084151033705\n"
     ]
    }
   ],
   "source": [
    "from sklearn.feature_extraction.text import TfidfVectorizer\n",
    "\n",
    "vectorizer = TfidfVectorizer(\n",
    "#                ngram_range = (1,4),\n",
    "                stop_words = 'english',\n",
    "                smooth_idf = 1,\n",
    "#                max_features = 10000\n",
    "            )\n",
    "\n",
    "# sparse matrix for NB Classifier\n",
    "train_matrix = vectorizer.fit_transform(trainX)\n",
    "test_matrix = vectorizer.transform(testX)\n",
    "print(vectorizer.vocabulary_)\n",
    "print(train_matrix)"
   ]
  },
  {
   "cell_type": "code",
   "execution_count": 17,
   "metadata": {},
   "outputs": [
    {
     "data": {
      "text/plain": [
       "MultinomialNB(alpha=1.0, class_prior=None, fit_prior=True)"
      ]
     },
     "execution_count": 17,
     "metadata": {},
     "output_type": "execute_result"
    }
   ],
   "source": [
    "clf_NB = MultinomialNB()\n",
    "clf_NB.fit(train_matrix, trainY)"
   ]
  },
  {
   "cell_type": "code",
   "execution_count": 18,
   "metadata": {},
   "outputs": [
    {
     "name": "stdout",
     "output_type": "stream",
     "text": [
      "[0.44744745 0.4488978  0.44834504 0.46733668 0.45774648]\n",
      "mean score for 10-fold cross validation:  0.45395468808685413\n"
     ]
    }
   ],
   "source": [
    "cross_val = cross_val_score(clf_NB, train_matrix,trainY, cv = 5, scoring= 'accuracy')\n",
    "print(cross_val)\n",
    "print (\"mean score for 10-fold cross validation: \", np.mean(cross_val))"
   ]
  },
  {
   "cell_type": "code",
   "execution_count": 19,
   "metadata": {},
   "outputs": [
    {
     "data": {
      "text/plain": [
       "True     0.822998\n",
       "False    0.177002\n",
       "Name: label, dtype: float64"
      ]
     },
     "execution_count": 19,
     "metadata": {},
     "output_type": "execute_result"
    }
   ],
   "source": [
    "# accuracy on training set\n",
    "\n",
    "pred_train = clf_NB.predict(train_matrix)\n",
    "(pred_train==trainY).value_counts(normalize=True)"
   ]
  },
  {
   "cell_type": "code",
   "execution_count": 20,
   "metadata": {},
   "outputs": [
    {
     "data": {
      "text/plain": [
       "False    0.540931\n",
       "True     0.459069\n",
       "Name: label, dtype: float64"
      ]
     },
     "execution_count": 20,
     "metadata": {},
     "output_type": "execute_result"
    }
   ],
   "source": [
    "# accuracy on test set\n",
    "\n",
    "pred = clf_NB.predict(test_matrix)\n",
    "(pred==testY).value_counts(normalize=True)"
   ]
  },
  {
   "cell_type": "code",
   "execution_count": 21,
   "metadata": {},
   "outputs": [
    {
     "name": "stdout",
     "output_type": "stream",
     "text": [
      "The confusion matrix:\n",
      " [[224  37   2   7  45]\n",
      " [112  78  12  26  29]\n",
      " [ 35  36 102   8   7]\n",
      " [ 78  56  11  41  38]\n",
      " [101  18   2  14 127]]\n"
     ]
    }
   ],
   "source": [
    "# confusion matrix\n",
    "\n",
    "print('The confusion matrix:\\n',confusion_matrix(testY,pred))"
   ]
  },
  {
   "cell_type": "code",
   "execution_count": 22,
   "metadata": {},
   "outputs": [
    {
     "name": "stdout",
     "output_type": "stream",
     "text": [
      "True     0.81477\n",
      "False    0.18523\n",
      "Name: label, dtype: float64\n",
      "False    0.508828\n",
      "True     0.491172\n",
      "Name: label, dtype: float64\n"
     ]
    }
   ],
   "source": [
    "# comare with CountVectorizer\n",
    "\n",
    "from sklearn.feature_extraction.text import CountVectorizer\n",
    "\n",
    "vectorizer1 = CountVectorizer()\n",
    "\n",
    "data_train_count = vectorizer1.fit_transform(trainX)\n",
    "data_test_count  = vectorizer1.transform(testX)\n",
    "\n",
    "clf_NB1 = MultinomialNB()\n",
    "clf_NB1.fit(data_train_count, trainY)\n",
    "\n",
    "# accuracy on training set\n",
    "pred_train1 = clf_NB1.predict(data_train_count)\n",
    "print((pred_train1==trainY).value_counts(normalize=True))\n",
    "\n",
    "# accuracy on test set\n",
    "pred_test1 = clf_NB1.predict(data_test_count)\n",
    "print((pred_test1==testY).value_counts(normalize=True))"
   ]
  },
  {
   "cell_type": "markdown",
   "metadata": {},
   "source": [
    "The result of CountVectorizer() is close to that of TfidfVectorizer. On the test set, the accuracy reaches **50.8%**."
   ]
  },
  {
   "cell_type": "markdown",
   "metadata": {},
   "source": [
    "### 4.3 - SVM"
   ]
  },
  {
   "cell_type": "markdown",
   "metadata": {},
   "source": [
    "http://scikit-learn.org/stable/modules/svm.html"
   ]
  },
  {
   "cell_type": "code",
   "execution_count": 23,
   "metadata": {},
   "outputs": [],
   "source": [
    "from sklearn.svm import SVC\n",
    "from sklearn.feature_extraction.text import TfidfVectorizer\n",
    "from sklearn.feature_extraction.text import TfidfVectorizer\n",
    "from sklearn.pipeline import Pipeline\n",
    "from sklearn.metrics import accuracy_score"
   ]
  },
  {
   "cell_type": "code",
   "execution_count": 24,
   "metadata": {},
   "outputs": [
    {
     "data": {
      "text/plain": [
       "Pipeline(memory=None,\n",
       "     steps=[('clf_svm', SVC(C=100, cache_size=200, class_weight=None, coef0=1,\n",
       "  decision_function_shape='ovr', degree=20, gamma='auto', kernel='poly',\n",
       "  max_iter=-1, probability=False, random_state=None, shrinking=True,\n",
       "  tol=0.001, verbose=False))])"
      ]
     },
     "execution_count": 24,
     "metadata": {},
     "output_type": "execute_result"
    }
   ],
   "source": [
    "vect = TfidfVectorizer(\n",
    "#                ngram_range = (1,4),\n",
    "                stop_words = 'english',\n",
    "                smooth_idf = 1,\n",
    "                max_features=5000\n",
    "            )\n",
    "\n",
    "# sparse matrix for NB Classifier\n",
    "train_matrix = vect.fit_transform(trainX)\n",
    "test_matrix = vect.transform(testX)\n",
    "\n",
    "clf_svm = Pipeline([(\"clf_svm\",SVC(kernel=\"poly\",degree=20,coef0=1,C=100))])\n",
    "#clf_svm = Pipeline([(\"clf_svm\",SVC(kernel=\"rbf\",gamma=5,C=0.001))])\n",
    "clf_svm.fit(train_matrix,trainY)"
   ]
  },
  {
   "cell_type": "code",
   "execution_count": 25,
   "metadata": {},
   "outputs": [
    {
     "name": "stdout",
     "output_type": "stream",
     "text": [
      "[0.42442442 0.40881764 0.43430291 0.4361809  0.42655936]\n",
      "mean score for 5-fold cross validation:  0.4260570458161156\n"
     ]
    }
   ],
   "source": [
    "cross_val = cross_val_score(clf_svm, train_matrix,trainY, cv = 5, scoring= 'accuracy')\n",
    "print(cross_val)\n",
    "print (\"mean score for 5-fold cross validation: \", np.mean(cross_val))"
   ]
  },
  {
   "cell_type": "code",
   "execution_count": 26,
   "metadata": {},
   "outputs": [
    {
     "name": "stdout",
     "output_type": "stream",
     "text": [
      "True     0.599839\n",
      "False    0.400161\n",
      "Name: label, dtype: float64\n",
      "0.5998394541440899\n",
      "False    0.580257\n",
      "True     0.419743\n",
      "Name: label, dtype: float64\n",
      "0.41974317817014445\n"
     ]
    }
   ],
   "source": [
    "# accuracy on training set\n",
    "pred_train = clf_svm.predict(train_matrix)\n",
    "print((pred_train==trainY).value_counts(normalize=True))\n",
    "print(accuracy_score(pred_train,trainY))\n",
    "\n",
    "# accuracy on test set\n",
    "pred_test = clf_svm.predict(test_matrix)\n",
    "print((pred_test==testY).value_counts(normalize=True))\n",
    "print(accuracy_score(pred_test,testY))"
   ]
  },
  {
   "cell_type": "markdown",
   "metadata": {},
   "source": [
    "It helps to adjust the value of `max_features`."
   ]
  },
  {
   "cell_type": "code",
   "execution_count": 27,
   "metadata": {},
   "outputs": [
    {
     "name": "stdout",
     "output_type": "stream",
     "text": [
      "The confusion matrix:\n",
      " [[224  37   2   7  45]\n",
      " [112  78  12  26  29]\n",
      " [ 35  36 102   8   7]\n",
      " [ 78  56  11  41  38]\n",
      " [101  18   2  14 127]]\n"
     ]
    }
   ],
   "source": [
    "# confusion matrix\n",
    "\n",
    "print('The confusion matrix:\\n',confusion_matrix(testY,pred))"
   ]
  },
  {
   "cell_type": "markdown",
   "metadata": {},
   "source": [
    "## 5 - Neural Network, LSTM"
   ]
  },
  {
   "cell_type": "markdown",
   "metadata": {},
   "source": [
    "`Logistic Regression` (LR) wouldn't be as good as `NN` models. So I will go directly to NN."
   ]
  },
  {
   "cell_type": "markdown",
   "metadata": {},
   "source": [
    "### 5.1 - Embedding"
   ]
  },
  {
   "cell_type": "markdown",
   "metadata": {},
   "source": [
    "The `Embedding` layer in `Keras` is a dictionary that maps integers into corresponding vectors. The input of `Embedding` layer is (samples, sequence_length), where sequence_length is the maximum length for each sample instance. The part longer than it will be truncated. The initial weight(dictionary) is randomlly initialized. Since my data set is not big enough, I will use pretrained [GloVe](https://nlp.stanford.edu/projects/glove/) database.\n"
   ]
  },
  {
   "cell_type": "code",
   "execution_count": 28,
   "metadata": {},
   "outputs": [],
   "source": [
    "max_words = 5000 # I will keep only 1000 most frequent words\n",
    "max_len = 10 # truncated if length of tweet is greater than 20\n",
    "embedding_dim = 25 # choose the GloVe database with embedding_dim = 25"
   ]
  },
  {
   "cell_type": "code",
   "execution_count": 29,
   "metadata": {},
   "outputs": [
    {
     "name": "stderr",
     "output_type": "stream",
     "text": [
      "/Users/ruizheng/anaconda3/lib/python3.6/site-packages/h5py/__init__.py:36: FutureWarning: Conversion of the second argument of issubdtype from `float` to `np.floating` is deprecated. In future, it will be treated as `np.float64 == np.dtype(float).type`.\n",
      "  from ._conv import register_converters as _register_converters\n",
      "Using TensorFlow backend.\n"
     ]
    }
   ],
   "source": [
    "# tokenize\n",
    "from keras.preprocessing.text import Tokenizer\n",
    "from keras.preprocessing.sequence import pad_sequences\n",
    "from keras.utils import to_categorical"
   ]
  },
  {
   "cell_type": "code",
   "execution_count": 25,
   "metadata": {},
   "outputs": [],
   "source": [
    "tokenizer = Tokenizer(num_words=max_words)\n",
    "tokenizer.fit_on_texts(train.tweet) # use words in both train and test samples\n",
    "\n",
    "# dictionary that maps word into index\n",
    "word_index = tokenizer.word_index\n",
    "\n",
    "#dictionary that maps index into word\n",
    "index_word = {}\n",
    "for word,index in word_index.items():\n",
    "    index_word[index] = word"
   ]
  },
  {
   "cell_type": "code",
   "execution_count": 26,
   "metadata": {},
   "outputs": [],
   "source": [
    "trainX, trainY = train['tweet'], train['label']\n",
    "testX, testY = test['tweet'], test['label']"
   ]
  },
  {
   "cell_type": "code",
   "execution_count": 27,
   "metadata": {},
   "outputs": [],
   "source": [
    "# convert tweets into lists of integers\n",
    "train_seq = tokenizer.texts_to_sequences(trainX)\n",
    "test_seq = tokenizer.texts_to_sequences(testX)\n",
    "\n",
    "# convert sequences into the same length, truncate at the end, pad at the beginning with 0 (there is no word with index=0)\n",
    "train_seq_pad = pad_sequences(train_seq,maxlen=max_len, dtype='int32', padding='pre', truncating='post', value=0)\n",
    "test_seq_pad = pad_sequences(test_seq,maxlen=max_len, dtype='int32', padding='pre', truncating='post', value=0)\n",
    "\n",
    "\n",
    "# one-hot encoding for label\n",
    "trainY = to_categorical(trainY)\n",
    "testY = to_categorical(testY)\n",
    "# trainY = np.eye(5)[trainY.values.reshape(-1)]"
   ]
  },
  {
   "cell_type": "code",
   "execution_count": 28,
   "metadata": {},
   "outputs": [
    {
     "name": "stdout",
     "output_type": "stream",
     "text": [
      "(4983,) (4983, 5)\n"
     ]
    }
   ],
   "source": [
    "print(trainX.shape,trainY.shape)"
   ]
  },
  {
   "cell_type": "markdown",
   "metadata": {},
   "source": [
    "It should be emphasized that **word_index starts from 1**. There is no word with index=0. "
   ]
  },
  {
   "cell_type": "markdown",
   "metadata": {},
   "source": [
    "[GloVe](https://nlp.stanford.edu/projects/glove/) is an unsupervised learning algorithm for obtaining vector representations for words. Training is performed on aggregated global word-word co-occurrence statistics from a corpus, and the resulting representations showcase interesting linear substructures of the word vector space. The data trained on twitter can be downloaded at [here](http://nlp.stanford.edu/data/glove.twitter.27B.zip)."
   ]
  },
  {
   "cell_type": "code",
   "execution_count": 46,
   "metadata": {},
   "outputs": [],
   "source": [
    "# read glove\n",
    "def read_glove(embedding_dim = 25):\n",
    "    '''\n",
    "    input: type(embedding_dim) = int, denotes the dimension of embedding vectors\n",
    "    output: dict[word] = vec\n",
    "    '''\n",
    "    \n",
    "    file_path = './glove.twitter.27B/glove.twitter.27B.'+str(embedding_dim)+'d.txt'\n",
    "    with open(file_path,'r') as f:\n",
    "        word_vec = {}\n",
    "        for line in f:\n",
    "            line = line.strip().split()\n",
    "            word = line[0]\n",
    "            vec = np.array(line[1:], dtype=np.float32)\n",
    "            word_vec[word] = vec\n",
    "    return word_vec\n",
    "       \n",
    "word_vec = read_glove(embedding_dim)"
   ]
  },
  {
   "cell_type": "code",
   "execution_count": 47,
   "metadata": {},
   "outputs": [],
   "source": [
    "def initial_embedding_weight(word_index,word_vec,max_words=1000,embedding_dim=25):\n",
    "    '''\n",
    "    set up initial weight for embedding layer, map the max_words words into embedding vectors.\n",
    "    \n",
    "    input: \n",
    "        word_index: a dictionary that maps word into index. It is generated by previous tokenizer\n",
    "        word_vec: a dictionary that maps word into embedding vector. It is read from GloVe.\n",
    "        max_words is the number of words we keep from the GloVe database, embedding_weight is the dim of embedding vectors\n",
    "    output: numpy matrix of shape (max_words+1, embedding_dim). It's max_words+1 because word_index starts from 1\n",
    "    '''\n",
    "    \n",
    "    matrix = np.zeros((max_words+1,embedding_dim))# if a word in not in glove, set the embedding vector to [0...]\n",
    "    for word, i in word_index.items():\n",
    "        if i<=max_words and word in word_vec.keys(): \n",
    "        # keep only the most common max_words words. At first, I thought len(word_index)=max_words since I have set \n",
    "        # num_words=max_words, turns out it's not the case\n",
    "            matrix[i] = word_vec.get(word)\n",
    "    return matrix\n",
    "\n",
    "\n",
    "initial_weight = initial_embedding_weight(word_index,word_vec,max_words,embedding_dim)"
   ]
  },
  {
   "cell_type": "code",
   "execution_count": 48,
   "metadata": {
    "scrolled": true
   },
   "outputs": [
    {
     "data": {
      "text/plain": [
       "False"
      ]
     },
     "execution_count": 48,
     "metadata": {},
     "output_type": "execute_result"
    }
   ],
   "source": [
    "#check whether there are null values\n",
    "def check_null(data):\n",
    "    return pd.DataFrame(data).isnull().any().any()\n",
    "\n",
    "check_null(initial_weight)"
   ]
  },
  {
   "cell_type": "code",
   "execution_count": 49,
   "metadata": {},
   "outputs": [],
   "source": [
    "from keras.models import Sequential\n",
    "from keras.layers import Embedding, Flatten, Dense,LSTM,Dropout\n",
    "from keras.optimizers import Adam"
   ]
  },
  {
   "cell_type": "markdown",
   "metadata": {},
   "source": [
    "### 5.2 - ANN"
   ]
  },
  {
   "cell_type": "code",
   "execution_count": 50,
   "metadata": {},
   "outputs": [],
   "source": [
    "def average(seq,weight,embedding_dim):\n",
    "    ave = []\n",
    "    drop_idx = [] #some sequences are all 0, drop them in trainX and trainY\n",
    "    for i in range(len(seq)):\n",
    "        l = len(seq[i])\n",
    "        vec = np.zeros((embedding_dim,))\n",
    "        for j in range(l):\n",
    "            vec += np.array(weight[seq[i][j]])\n",
    "        if vec.sum()==0:\n",
    "            drop_idx.append(i)\n",
    "        else:\n",
    "#            vec = np.divide(vec,l)\n",
    "            ave.append(vec)\n",
    "    return np.array(ave),drop_idx"
   ]
  },
  {
   "cell_type": "code",
   "execution_count": 61,
   "metadata": {},
   "outputs": [
    {
     "name": "stdout",
     "output_type": "stream",
     "text": [
      "(4983, 5)\n",
      "(4924, 25) (4924, 5)\n"
     ]
    }
   ],
   "source": [
    "train_ave, drop_idx = average(train_seq,initial_weight,embedding_dim)\n",
    "print(trainY.shape)\n",
    "trainY = np.delete(trainY,drop_idx,axis=0)\n",
    "print(train_ave.shape,trainY1.shape)"
   ]
  },
  {
   "cell_type": "code",
   "execution_count": 52,
   "metadata": {},
   "outputs": [
    {
     "name": "stdout",
     "output_type": "stream",
     "text": [
      "_________________________________________________________________\n",
      "Layer (type)                 Output Shape              Param #   \n",
      "=================================================================\n",
      "dense_1 (Dense)              (None, 32)                832       \n",
      "_________________________________________________________________\n",
      "dense_2 (Dense)              (None, 32)                1056      \n",
      "_________________________________________________________________\n",
      "dense_3 (Dense)              (None, 5)                 165       \n",
      "=================================================================\n",
      "Total params: 2,053\n",
      "Trainable params: 2,053\n",
      "Non-trainable params: 0\n",
      "_________________________________________________________________\n"
     ]
    }
   ],
   "source": [
    "clf_nn = Sequential()\n",
    "#clf_nn.add(Embedding(max_words+1,embedding_dim,weights=[initial_weight],trainable=False,input_length=max_len))\n",
    "clf_nn.add(Dense(32,activation='relu',input_shape=(embedding_dim,)))\n",
    "#clf_nn.add(Flatten())\n",
    "#clf_nn.add(Dense(256,activation='relu'))\n",
    "clf_nn.add(Dense(32,activation='relu'))\n",
    "clf_nn.add(Dense(5,activation='softmax'))\n",
    "\n",
    "clf_nn.summary()\n",
    "\n",
    "\n",
    "opt = Adam(lr=1e-4, beta_1=0.9, beta_2=0.999, epsilon=None, decay=0.0, amsgrad=False)\n",
    "clf_nn.compile(optimizer=opt,loss='categorical_crossentropy',metrics=['acc'])"
   ]
  },
  {
   "cell_type": "code",
   "execution_count": 53,
   "metadata": {},
   "outputs": [
    {
     "name": "stdout",
     "output_type": "stream",
     "text": [
      "Train on 4431 samples, validate on 493 samples\n",
      "Epoch 1/300\n",
      "4431/4431 [==============================] - 0s 78us/step - loss: 4.1033 - acc: 0.2449 - val_loss: 3.0457 - val_acc: 0.2008\n",
      "Epoch 2/300\n",
      "4431/4431 [==============================] - 0s 38us/step - loss: 2.2416 - acc: 0.2225 - val_loss: 1.9327 - val_acc: 0.2150\n",
      "Epoch 3/300\n",
      "4431/4431 [==============================] - 0s 38us/step - loss: 1.8078 - acc: 0.2422 - val_loss: 1.7049 - val_acc: 0.2454\n",
      "Epoch 4/300\n",
      "4431/4431 [==============================] - 0s 37us/step - loss: 1.6501 - acc: 0.2785 - val_loss: 1.6172 - val_acc: 0.2860\n",
      "Epoch 5/300\n",
      "4431/4431 [==============================] - 0s 38us/step - loss: 1.5613 - acc: 0.3239 - val_loss: 1.5564 - val_acc: 0.3164\n",
      "Epoch 6/300\n",
      "4431/4431 [==============================] - 0s 39us/step - loss: 1.5060 - acc: 0.3500 - val_loss: 1.5244 - val_acc: 0.3387\n",
      "Epoch 7/300\n",
      "4431/4431 [==============================] - 0s 39us/step - loss: 1.4719 - acc: 0.3676 - val_loss: 1.5022 - val_acc: 0.3448\n",
      "Epoch 8/300\n",
      "4431/4431 [==============================] - 0s 37us/step - loss: 1.4471 - acc: 0.3791 - val_loss: 1.4874 - val_acc: 0.3489\n",
      "Epoch 9/300\n",
      "4431/4431 [==============================] - 0s 37us/step - loss: 1.4292 - acc: 0.3904 - val_loss: 1.4768 - val_acc: 0.3570\n",
      "Epoch 10/300\n",
      "4431/4431 [==============================] - 0s 34us/step - loss: 1.4153 - acc: 0.3947 - val_loss: 1.4672 - val_acc: 0.3611\n",
      "Epoch 11/300\n",
      "4431/4431 [==============================] - 0s 35us/step - loss: 1.4033 - acc: 0.4033 - val_loss: 1.4623 - val_acc: 0.3631\n",
      "Epoch 12/300\n",
      "4431/4431 [==============================] - 0s 36us/step - loss: 1.3944 - acc: 0.4065 - val_loss: 1.4546 - val_acc: 0.3753\n",
      "Epoch 13/300\n",
      "4431/4431 [==============================] - 0s 38us/step - loss: 1.3866 - acc: 0.4107 - val_loss: 1.4479 - val_acc: 0.3712\n",
      "Epoch 14/300\n",
      "4431/4431 [==============================] - 0s 39us/step - loss: 1.3792 - acc: 0.4080 - val_loss: 1.4435 - val_acc: 0.3773\n",
      "Epoch 15/300\n",
      "4431/4431 [==============================] - 0s 37us/step - loss: 1.3725 - acc: 0.4146 - val_loss: 1.4396 - val_acc: 0.3773\n",
      "Epoch 16/300\n",
      "4431/4431 [==============================] - 0s 35us/step - loss: 1.3668 - acc: 0.4144 - val_loss: 1.4353 - val_acc: 0.3753\n",
      "Epoch 17/300\n",
      "4431/4431 [==============================] - 0s 36us/step - loss: 1.3618 - acc: 0.4191 - val_loss: 1.4316 - val_acc: 0.3854\n",
      "Epoch 18/300\n",
      "4431/4431 [==============================] - 0s 36us/step - loss: 1.3575 - acc: 0.4227 - val_loss: 1.4280 - val_acc: 0.3874\n",
      "Epoch 19/300\n",
      "4431/4431 [==============================] - 0s 36us/step - loss: 1.3533 - acc: 0.4252 - val_loss: 1.4267 - val_acc: 0.3854\n",
      "Epoch 20/300\n",
      "4431/4431 [==============================] - 0s 38us/step - loss: 1.3499 - acc: 0.4295 - val_loss: 1.4228 - val_acc: 0.3834\n",
      "Epoch 21/300\n",
      "4431/4431 [==============================] - 0s 38us/step - loss: 1.3464 - acc: 0.4306 - val_loss: 1.4222 - val_acc: 0.3753\n",
      "Epoch 22/300\n",
      "4431/4431 [==============================] - 0s 37us/step - loss: 1.3434 - acc: 0.4311 - val_loss: 1.4194 - val_acc: 0.3895\n",
      "Epoch 23/300\n",
      "4431/4431 [==============================] - 0s 35us/step - loss: 1.3397 - acc: 0.4342 - val_loss: 1.4191 - val_acc: 0.3955\n",
      "Epoch 24/300\n",
      "4431/4431 [==============================] - 0s 36us/step - loss: 1.3368 - acc: 0.4396 - val_loss: 1.4163 - val_acc: 0.3955\n",
      "Epoch 25/300\n",
      "4431/4431 [==============================] - 0s 37us/step - loss: 1.3341 - acc: 0.4401 - val_loss: 1.4150 - val_acc: 0.4037\n",
      "Epoch 26/300\n",
      "4431/4431 [==============================] - 0s 37us/step - loss: 1.3319 - acc: 0.4410 - val_loss: 1.4133 - val_acc: 0.3935\n",
      "Epoch 27/300\n",
      "4431/4431 [==============================] - 0s 36us/step - loss: 1.3290 - acc: 0.4399 - val_loss: 1.4123 - val_acc: 0.3834\n",
      "Epoch 28/300\n",
      "4431/4431 [==============================] - 0s 40us/step - loss: 1.3268 - acc: 0.4423 - val_loss: 1.4118 - val_acc: 0.3935\n",
      "Epoch 29/300\n",
      "4431/4431 [==============================] - 0s 39us/step - loss: 1.3246 - acc: 0.4439 - val_loss: 1.4102 - val_acc: 0.3874\n",
      "Epoch 30/300\n",
      "4431/4431 [==============================] - 0s 36us/step - loss: 1.3226 - acc: 0.4435 - val_loss: 1.4127 - val_acc: 0.3955\n",
      "Epoch 31/300\n",
      "4431/4431 [==============================] - 0s 34us/step - loss: 1.3209 - acc: 0.4471 - val_loss: 1.4109 - val_acc: 0.3976\n",
      "Epoch 32/300\n",
      "4431/4431 [==============================] - 0s 39us/step - loss: 1.3187 - acc: 0.4444 - val_loss: 1.4108 - val_acc: 0.3976\n",
      "Epoch 33/300\n",
      "4431/4431 [==============================] - 0s 38us/step - loss: 1.3166 - acc: 0.4455 - val_loss: 1.4113 - val_acc: 0.3834\n",
      "Epoch 34/300\n",
      "4431/4431 [==============================] - 0s 37us/step - loss: 1.3148 - acc: 0.4489 - val_loss: 1.4104 - val_acc: 0.4016\n",
      "Epoch 35/300\n",
      "4431/4431 [==============================] - 0s 39us/step - loss: 1.3128 - acc: 0.4489 - val_loss: 1.4109 - val_acc: 0.3915\n",
      "Epoch 36/300\n",
      "4431/4431 [==============================] - 0s 38us/step - loss: 1.3113 - acc: 0.4507 - val_loss: 1.4123 - val_acc: 0.3895\n",
      "Epoch 37/300\n",
      "4431/4431 [==============================] - 0s 37us/step - loss: 1.3091 - acc: 0.4507 - val_loss: 1.4102 - val_acc: 0.3895\n",
      "Epoch 38/300\n",
      "4431/4431 [==============================] - 0s 36us/step - loss: 1.3070 - acc: 0.4496 - val_loss: 1.4117 - val_acc: 0.3854\n",
      "Epoch 39/300\n",
      "4431/4431 [==============================] - 0s 38us/step - loss: 1.3059 - acc: 0.4507 - val_loss: 1.4085 - val_acc: 0.3793\n",
      "Epoch 40/300\n",
      "4431/4431 [==============================] - 0s 38us/step - loss: 1.3038 - acc: 0.4502 - val_loss: 1.4086 - val_acc: 0.3874\n",
      "Epoch 41/300\n",
      "4431/4431 [==============================] - 0s 37us/step - loss: 1.3025 - acc: 0.4541 - val_loss: 1.4093 - val_acc: 0.3874\n",
      "Epoch 42/300\n",
      "4431/4431 [==============================] - 0s 37us/step - loss: 1.3014 - acc: 0.4584 - val_loss: 1.4086 - val_acc: 0.3692\n",
      "Epoch 43/300\n",
      "4431/4431 [==============================] - 0s 37us/step - loss: 1.2997 - acc: 0.4523 - val_loss: 1.4084 - val_acc: 0.3834\n",
      "Epoch 44/300\n",
      "4431/4431 [==============================] - 0s 33us/step - loss: 1.2982 - acc: 0.4590 - val_loss: 1.4058 - val_acc: 0.3732\n",
      "Epoch 45/300\n",
      "4431/4431 [==============================] - 0s 36us/step - loss: 1.2974 - acc: 0.4561 - val_loss: 1.4043 - val_acc: 0.3732\n",
      "Epoch 46/300\n",
      "4431/4431 [==============================] - 0s 38us/step - loss: 1.2946 - acc: 0.4613 - val_loss: 1.4035 - val_acc: 0.3874\n",
      "Epoch 47/300\n",
      "4431/4431 [==============================] - 0s 37us/step - loss: 1.2939 - acc: 0.4599 - val_loss: 1.4050 - val_acc: 0.3773\n",
      "Epoch 48/300\n",
      "4431/4431 [==============================] - 0s 38us/step - loss: 1.2919 - acc: 0.4633 - val_loss: 1.4041 - val_acc: 0.3955\n",
      "Epoch 49/300\n",
      "4431/4431 [==============================] - 0s 38us/step - loss: 1.2908 - acc: 0.4667 - val_loss: 1.4021 - val_acc: 0.3854\n",
      "Epoch 50/300\n",
      "4431/4431 [==============================] - 0s 38us/step - loss: 1.2902 - acc: 0.4604 - val_loss: 1.4045 - val_acc: 0.3671\n",
      "Epoch 51/300\n",
      "4431/4431 [==============================] - 0s 38us/step - loss: 1.2882 - acc: 0.4636 - val_loss: 1.4058 - val_acc: 0.3793\n",
      "Epoch 52/300\n",
      "4431/4431 [==============================] - 0s 39us/step - loss: 1.2874 - acc: 0.4636 - val_loss: 1.4035 - val_acc: 0.3793\n",
      "Epoch 53/300\n",
      "4431/4431 [==============================] - 0s 38us/step - loss: 1.2862 - acc: 0.4674 - val_loss: 1.4016 - val_acc: 0.3854\n",
      "Epoch 54/300\n",
      "4431/4431 [==============================] - 0s 37us/step - loss: 1.2853 - acc: 0.4674 - val_loss: 1.4011 - val_acc: 0.3813\n",
      "Epoch 55/300\n",
      "4431/4431 [==============================] - 0s 37us/step - loss: 1.2847 - acc: 0.4676 - val_loss: 1.4034 - val_acc: 0.3874\n",
      "Epoch 56/300\n",
      "4431/4431 [==============================] - 0s 38us/step - loss: 1.2822 - acc: 0.4703 - val_loss: 1.4006 - val_acc: 0.3976\n",
      "Epoch 57/300\n",
      "4431/4431 [==============================] - 0s 37us/step - loss: 1.2809 - acc: 0.4703 - val_loss: 1.4016 - val_acc: 0.3895\n",
      "Epoch 58/300\n",
      "4431/4431 [==============================] - 0s 37us/step - loss: 1.2793 - acc: 0.4739 - val_loss: 1.4084 - val_acc: 0.3753\n",
      "Epoch 59/300\n",
      "4431/4431 [==============================] - 0s 38us/step - loss: 1.2790 - acc: 0.4730 - val_loss: 1.4028 - val_acc: 0.3895\n",
      "Epoch 60/300\n",
      "4431/4431 [==============================] - 0s 37us/step - loss: 1.2794 - acc: 0.4712 - val_loss: 1.3992 - val_acc: 0.3874\n",
      "Epoch 61/300\n",
      "4431/4431 [==============================] - 0s 37us/step - loss: 1.2770 - acc: 0.4744 - val_loss: 1.4029 - val_acc: 0.3793\n",
      "Epoch 62/300\n",
      "4431/4431 [==============================] - 0s 38us/step - loss: 1.2767 - acc: 0.4724 - val_loss: 1.4037 - val_acc: 0.3935\n",
      "Epoch 63/300\n",
      "4431/4431 [==============================] - 0s 36us/step - loss: 1.2755 - acc: 0.4685 - val_loss: 1.4004 - val_acc: 0.3793\n",
      "Epoch 64/300\n",
      "4431/4431 [==============================] - 0s 37us/step - loss: 1.2746 - acc: 0.4728 - val_loss: 1.3977 - val_acc: 0.3935\n",
      "Epoch 65/300\n",
      "4431/4431 [==============================] - 0s 35us/step - loss: 1.2744 - acc: 0.4755 - val_loss: 1.3991 - val_acc: 0.3834\n",
      "Epoch 66/300\n",
      "4431/4431 [==============================] - 0s 36us/step - loss: 1.2727 - acc: 0.4742 - val_loss: 1.3973 - val_acc: 0.3935\n",
      "Epoch 67/300\n",
      "4431/4431 [==============================] - 0s 37us/step - loss: 1.2719 - acc: 0.4751 - val_loss: 1.3997 - val_acc: 0.3895\n",
      "Epoch 68/300\n",
      "4431/4431 [==============================] - 0s 37us/step - loss: 1.2712 - acc: 0.4782 - val_loss: 1.3976 - val_acc: 0.3996\n",
      "Epoch 69/300\n",
      "4431/4431 [==============================] - 0s 38us/step - loss: 1.2699 - acc: 0.4739 - val_loss: 1.3969 - val_acc: 0.3895\n",
      "Epoch 70/300\n",
      "4431/4431 [==============================] - 0s 38us/step - loss: 1.2688 - acc: 0.4764 - val_loss: 1.3989 - val_acc: 0.3834\n",
      "Epoch 71/300\n",
      "4431/4431 [==============================] - 0s 36us/step - loss: 1.2683 - acc: 0.4782 - val_loss: 1.3972 - val_acc: 0.3915\n",
      "Epoch 72/300\n",
      "4431/4431 [==============================] - 0s 38us/step - loss: 1.2666 - acc: 0.4794 - val_loss: 1.4018 - val_acc: 0.3793\n",
      "Epoch 73/300\n",
      "4431/4431 [==============================] - 0s 37us/step - loss: 1.2666 - acc: 0.4816 - val_loss: 1.3966 - val_acc: 0.3854\n",
      "Epoch 74/300\n",
      "4431/4431 [==============================] - 0s 36us/step - loss: 1.2653 - acc: 0.4769 - val_loss: 1.3968 - val_acc: 0.3834\n",
      "Epoch 75/300\n",
      "4431/4431 [==============================] - 0s 37us/step - loss: 1.2649 - acc: 0.4784 - val_loss: 1.3981 - val_acc: 0.3874\n",
      "Epoch 76/300\n",
      "4431/4431 [==============================] - 0s 39us/step - loss: 1.2642 - acc: 0.4800 - val_loss: 1.3988 - val_acc: 0.3895\n",
      "Epoch 77/300\n",
      "4431/4431 [==============================] - 0s 38us/step - loss: 1.2633 - acc: 0.4775 - val_loss: 1.3951 - val_acc: 0.3874\n",
      "Epoch 78/300\n",
      "4431/4431 [==============================] - 0s 37us/step - loss: 1.2627 - acc: 0.4800 - val_loss: 1.3944 - val_acc: 0.3874\n",
      "Epoch 79/300\n",
      "4431/4431 [==============================] - 0s 38us/step - loss: 1.2617 - acc: 0.4762 - val_loss: 1.3949 - val_acc: 0.3895\n",
      "Epoch 80/300\n",
      "4431/4431 [==============================] - 0s 39us/step - loss: 1.2611 - acc: 0.4807 - val_loss: 1.3950 - val_acc: 0.3935\n",
      "Epoch 81/300\n",
      "4431/4431 [==============================] - 0s 38us/step - loss: 1.2599 - acc: 0.4812 - val_loss: 1.3962 - val_acc: 0.3915\n",
      "Epoch 82/300\n",
      "4431/4431 [==============================] - 0s 37us/step - loss: 1.2595 - acc: 0.4827 - val_loss: 1.3954 - val_acc: 0.3854\n",
      "Epoch 83/300\n",
      "4431/4431 [==============================] - 0s 37us/step - loss: 1.2588 - acc: 0.4794 - val_loss: 1.3958 - val_acc: 0.3976\n",
      "Epoch 84/300\n",
      "4431/4431 [==============================] - 0s 37us/step - loss: 1.2572 - acc: 0.4836 - val_loss: 1.3994 - val_acc: 0.3996\n",
      "Epoch 85/300\n",
      "4431/4431 [==============================] - 0s 37us/step - loss: 1.2587 - acc: 0.4789 - val_loss: 1.3945 - val_acc: 0.3834\n",
      "Epoch 86/300\n",
      "4431/4431 [==============================] - 0s 39us/step - loss: 1.2564 - acc: 0.4832 - val_loss: 1.3985 - val_acc: 0.3895\n",
      "Epoch 87/300\n",
      "4431/4431 [==============================] - 0s 38us/step - loss: 1.2557 - acc: 0.4821 - val_loss: 1.3955 - val_acc: 0.3854\n",
      "Epoch 88/300\n",
      "4431/4431 [==============================] - 0s 38us/step - loss: 1.2546 - acc: 0.4807 - val_loss: 1.3949 - val_acc: 0.4037\n",
      "Epoch 89/300\n",
      "4431/4431 [==============================] - 0s 37us/step - loss: 1.2552 - acc: 0.4832 - val_loss: 1.3937 - val_acc: 0.3834\n",
      "Epoch 90/300\n",
      "4431/4431 [==============================] - 0s 38us/step - loss: 1.2530 - acc: 0.4805 - val_loss: 1.3967 - val_acc: 0.3854\n",
      "Epoch 91/300\n",
      "4431/4431 [==============================] - 0s 37us/step - loss: 1.2537 - acc: 0.4821 - val_loss: 1.3983 - val_acc: 0.3895\n",
      "Epoch 92/300\n",
      "4431/4431 [==============================] - 0s 37us/step - loss: 1.2522 - acc: 0.4825 - val_loss: 1.3971 - val_acc: 0.3895\n",
      "Epoch 93/300\n",
      "4431/4431 [==============================] - 0s 38us/step - loss: 1.2527 - acc: 0.4830 - val_loss: 1.3963 - val_acc: 0.3895\n",
      "Epoch 94/300\n",
      "4431/4431 [==============================] - 0s 38us/step - loss: 1.2510 - acc: 0.4861 - val_loss: 1.3972 - val_acc: 0.3955\n",
      "Epoch 95/300\n",
      "4431/4431 [==============================] - 0s 38us/step - loss: 1.2508 - acc: 0.4834 - val_loss: 1.3936 - val_acc: 0.3996\n",
      "Epoch 96/300\n",
      "4431/4431 [==============================] - 0s 38us/step - loss: 1.2507 - acc: 0.4857 - val_loss: 1.3944 - val_acc: 0.3976\n",
      "Epoch 97/300\n",
      "4431/4431 [==============================] - 0s 38us/step - loss: 1.2496 - acc: 0.4863 - val_loss: 1.3981 - val_acc: 0.3935\n",
      "Epoch 98/300\n",
      "4431/4431 [==============================] - 0s 35us/step - loss: 1.2491 - acc: 0.4868 - val_loss: 1.3978 - val_acc: 0.3895\n",
      "Epoch 99/300\n",
      "4431/4431 [==============================] - 0s 38us/step - loss: 1.2480 - acc: 0.4852 - val_loss: 1.3954 - val_acc: 0.3996\n",
      "Epoch 100/300\n",
      "4431/4431 [==============================] - 0s 37us/step - loss: 1.2471 - acc: 0.4875 - val_loss: 1.3928 - val_acc: 0.4118\n",
      "Epoch 101/300\n",
      "4431/4431 [==============================] - 0s 39us/step - loss: 1.2473 - acc: 0.4832 - val_loss: 1.3927 - val_acc: 0.4138\n",
      "Epoch 102/300\n",
      "4431/4431 [==============================] - 0s 40us/step - loss: 1.2469 - acc: 0.4861 - val_loss: 1.3982 - val_acc: 0.4118\n",
      "Epoch 103/300\n",
      "4431/4431 [==============================] - 0s 37us/step - loss: 1.2452 - acc: 0.4879 - val_loss: 1.3969 - val_acc: 0.4037\n",
      "Epoch 104/300\n",
      "4431/4431 [==============================] - 0s 36us/step - loss: 1.2450 - acc: 0.4870 - val_loss: 1.3971 - val_acc: 0.4057\n",
      "Epoch 105/300\n",
      "4431/4431 [==============================] - 0s 36us/step - loss: 1.2448 - acc: 0.4922 - val_loss: 1.3924 - val_acc: 0.3996\n",
      "Epoch 106/300\n",
      "4431/4431 [==============================] - 0s 37us/step - loss: 1.2446 - acc: 0.4906 - val_loss: 1.3965 - val_acc: 0.3996\n",
      "Epoch 107/300\n",
      "4431/4431 [==============================] - 0s 37us/step - loss: 1.2426 - acc: 0.4900 - val_loss: 1.3944 - val_acc: 0.4016\n",
      "Epoch 108/300\n",
      "4431/4431 [==============================] - 0s 38us/step - loss: 1.2436 - acc: 0.4915 - val_loss: 1.3968 - val_acc: 0.4057\n",
      "Epoch 109/300\n",
      "4431/4431 [==============================] - 0s 39us/step - loss: 1.2418 - acc: 0.4882 - val_loss: 1.3967 - val_acc: 0.4077\n",
      "Epoch 110/300\n",
      "4431/4431 [==============================] - 0s 36us/step - loss: 1.2414 - acc: 0.4897 - val_loss: 1.3952 - val_acc: 0.4057\n",
      "Epoch 111/300\n",
      "4431/4431 [==============================] - 0s 38us/step - loss: 1.2410 - acc: 0.4915 - val_loss: 1.3933 - val_acc: 0.4057\n",
      "Epoch 112/300\n",
      "4431/4431 [==============================] - 0s 38us/step - loss: 1.2405 - acc: 0.4900 - val_loss: 1.3947 - val_acc: 0.4016\n",
      "Epoch 113/300\n",
      "4431/4431 [==============================] - 0s 39us/step - loss: 1.2405 - acc: 0.4915 - val_loss: 1.3959 - val_acc: 0.4057\n",
      "Epoch 114/300\n",
      "4431/4431 [==============================] - 0s 38us/step - loss: 1.2399 - acc: 0.4915 - val_loss: 1.3955 - val_acc: 0.4077\n",
      "Epoch 115/300\n",
      "4431/4431 [==============================] - 0s 37us/step - loss: 1.2378 - acc: 0.4933 - val_loss: 1.3968 - val_acc: 0.4077\n",
      "Epoch 116/300\n",
      "4431/4431 [==============================] - 0s 38us/step - loss: 1.2384 - acc: 0.4931 - val_loss: 1.3955 - val_acc: 0.4097\n",
      "Epoch 117/300\n",
      "4431/4431 [==============================] - 0s 34us/step - loss: 1.2373 - acc: 0.4900 - val_loss: 1.3980 - val_acc: 0.4077\n",
      "Epoch 118/300\n",
      "4431/4431 [==============================] - 0s 35us/step - loss: 1.2370 - acc: 0.4913 - val_loss: 1.3989 - val_acc: 0.4057\n",
      "Epoch 119/300\n",
      "4431/4431 [==============================] - 0s 36us/step - loss: 1.2377 - acc: 0.4924 - val_loss: 1.3947 - val_acc: 0.4057\n"
     ]
    },
    {
     "name": "stdout",
     "output_type": "stream",
     "text": [
      "Epoch 120/300\n",
      "4431/4431 [==============================] - 0s 35us/step - loss: 1.2358 - acc: 0.4906 - val_loss: 1.3978 - val_acc: 0.4158\n",
      "Epoch 121/300\n",
      "4431/4431 [==============================] - 0s 35us/step - loss: 1.2355 - acc: 0.4891 - val_loss: 1.3973 - val_acc: 0.4118\n",
      "Epoch 122/300\n",
      "4431/4431 [==============================] - 0s 36us/step - loss: 1.2357 - acc: 0.4949 - val_loss: 1.3947 - val_acc: 0.4057\n",
      "Epoch 123/300\n",
      "4431/4431 [==============================] - 0s 36us/step - loss: 1.2350 - acc: 0.4915 - val_loss: 1.3951 - val_acc: 0.4037\n",
      "Epoch 124/300\n",
      "4431/4431 [==============================] - 0s 36us/step - loss: 1.2338 - acc: 0.4920 - val_loss: 1.3926 - val_acc: 0.4057\n",
      "Epoch 125/300\n",
      "4431/4431 [==============================] - 0s 36us/step - loss: 1.2336 - acc: 0.4924 - val_loss: 1.3919 - val_acc: 0.4016\n",
      "Epoch 126/300\n",
      "4431/4431 [==============================] - 0s 37us/step - loss: 1.2335 - acc: 0.4924 - val_loss: 1.3936 - val_acc: 0.4037\n",
      "Epoch 127/300\n",
      "4431/4431 [==============================] - 0s 38us/step - loss: 1.2327 - acc: 0.4938 - val_loss: 1.3939 - val_acc: 0.4057\n",
      "Epoch 128/300\n",
      "4431/4431 [==============================] - 0s 36us/step - loss: 1.2324 - acc: 0.4940 - val_loss: 1.3968 - val_acc: 0.4138\n",
      "Epoch 129/300\n",
      "4431/4431 [==============================] - 0s 34us/step - loss: 1.2316 - acc: 0.4942 - val_loss: 1.3963 - val_acc: 0.4118\n",
      "Epoch 130/300\n",
      "4431/4431 [==============================] - 0s 36us/step - loss: 1.2316 - acc: 0.4913 - val_loss: 1.3908 - val_acc: 0.4118\n",
      "Epoch 131/300\n",
      "4431/4431 [==============================] - 0s 38us/step - loss: 1.2303 - acc: 0.4922 - val_loss: 1.3945 - val_acc: 0.4219\n",
      "Epoch 132/300\n",
      "4431/4431 [==============================] - 0s 38us/step - loss: 1.2304 - acc: 0.4936 - val_loss: 1.3914 - val_acc: 0.4118\n",
      "Epoch 133/300\n",
      "4431/4431 [==============================] - 0s 37us/step - loss: 1.2293 - acc: 0.4918 - val_loss: 1.3935 - val_acc: 0.4057\n",
      "Epoch 134/300\n",
      "4431/4431 [==============================] - 0s 36us/step - loss: 1.2291 - acc: 0.4933 - val_loss: 1.3951 - val_acc: 0.4057\n",
      "Epoch 135/300\n",
      "4431/4431 [==============================] - 0s 39us/step - loss: 1.2296 - acc: 0.4999 - val_loss: 1.3925 - val_acc: 0.4057\n",
      "Epoch 136/300\n",
      "4431/4431 [==============================] - 0s 38us/step - loss: 1.2286 - acc: 0.4970 - val_loss: 1.3930 - val_acc: 0.4118\n",
      "Epoch 137/300\n",
      "4431/4431 [==============================] - 0s 36us/step - loss: 1.2273 - acc: 0.4915 - val_loss: 1.3920 - val_acc: 0.4138\n",
      "Epoch 138/300\n",
      "4431/4431 [==============================] - 0s 38us/step - loss: 1.2277 - acc: 0.4940 - val_loss: 1.3925 - val_acc: 0.4057\n",
      "Epoch 139/300\n",
      "4431/4431 [==============================] - 0s 37us/step - loss: 1.2263 - acc: 0.4979 - val_loss: 1.3932 - val_acc: 0.4077\n",
      "Epoch 140/300\n",
      "4431/4431 [==============================] - 0s 37us/step - loss: 1.2255 - acc: 0.5001 - val_loss: 1.3949 - val_acc: 0.4138\n",
      "Epoch 141/300\n",
      "4431/4431 [==============================] - 0s 38us/step - loss: 1.2253 - acc: 0.4954 - val_loss: 1.3916 - val_acc: 0.4097\n",
      "Epoch 142/300\n",
      "4431/4431 [==============================] - 0s 39us/step - loss: 1.2252 - acc: 0.4994 - val_loss: 1.3925 - val_acc: 0.4158\n",
      "Epoch 143/300\n",
      "4431/4431 [==============================] - 0s 39us/step - loss: 1.2253 - acc: 0.4958 - val_loss: 1.3889 - val_acc: 0.4118\n",
      "Epoch 144/300\n",
      "4431/4431 [==============================] - 0s 40us/step - loss: 1.2244 - acc: 0.4947 - val_loss: 1.3932 - val_acc: 0.4118\n",
      "Epoch 145/300\n",
      "4431/4431 [==============================] - 0s 38us/step - loss: 1.2234 - acc: 0.4974 - val_loss: 1.3905 - val_acc: 0.4016\n",
      "Epoch 146/300\n",
      "4431/4431 [==============================] - 0s 38us/step - loss: 1.2233 - acc: 0.4965 - val_loss: 1.3917 - val_acc: 0.4077\n",
      "Epoch 147/300\n",
      "4431/4431 [==============================] - 0s 39us/step - loss: 1.2235 - acc: 0.4933 - val_loss: 1.3921 - val_acc: 0.4077\n",
      "Epoch 148/300\n",
      "4431/4431 [==============================] - 0s 39us/step - loss: 1.2228 - acc: 0.4976 - val_loss: 1.3913 - val_acc: 0.4097\n",
      "Epoch 149/300\n",
      "4431/4431 [==============================] - 0s 38us/step - loss: 1.2212 - acc: 0.4970 - val_loss: 1.3976 - val_acc: 0.4077\n",
      "Epoch 150/300\n",
      "4431/4431 [==============================] - 0s 38us/step - loss: 1.2214 - acc: 0.4992 - val_loss: 1.3896 - val_acc: 0.4158\n",
      "Epoch 151/300\n",
      "4431/4431 [==============================] - 0s 38us/step - loss: 1.2214 - acc: 0.5015 - val_loss: 1.3906 - val_acc: 0.4097\n",
      "Epoch 152/300\n",
      "4431/4431 [==============================] - 0s 38us/step - loss: 1.2210 - acc: 0.4954 - val_loss: 1.3932 - val_acc: 0.4077\n",
      "Epoch 153/300\n",
      "4431/4431 [==============================] - 0s 39us/step - loss: 1.2205 - acc: 0.5010 - val_loss: 1.3921 - val_acc: 0.4138\n",
      "Epoch 154/300\n",
      "4431/4431 [==============================] - 0s 40us/step - loss: 1.2203 - acc: 0.4988 - val_loss: 1.3944 - val_acc: 0.4077\n",
      "Epoch 155/300\n",
      "4431/4431 [==============================] - 0s 39us/step - loss: 1.2193 - acc: 0.5006 - val_loss: 1.3976 - val_acc: 0.4037\n",
      "Epoch 156/300\n",
      "4431/4431 [==============================] - 0s 38us/step - loss: 1.2191 - acc: 0.5010 - val_loss: 1.3899 - val_acc: 0.4138\n",
      "Epoch 157/300\n",
      "4431/4431 [==============================] - 0s 40us/step - loss: 1.2178 - acc: 0.4992 - val_loss: 1.3939 - val_acc: 0.4118\n",
      "Epoch 158/300\n",
      "4431/4431 [==============================] - 0s 33us/step - loss: 1.2177 - acc: 0.4997 - val_loss: 1.3925 - val_acc: 0.4057\n",
      "Epoch 159/300\n",
      "4431/4431 [==============================] - 0s 33us/step - loss: 1.2168 - acc: 0.5012 - val_loss: 1.3911 - val_acc: 0.4158\n",
      "Epoch 160/300\n",
      "4431/4431 [==============================] - 0s 32us/step - loss: 1.2167 - acc: 0.5003 - val_loss: 1.3942 - val_acc: 0.4178\n",
      "Epoch 161/300\n",
      "4431/4431 [==============================] - 0s 32us/step - loss: 1.2168 - acc: 0.4972 - val_loss: 1.3917 - val_acc: 0.4118\n",
      "Epoch 162/300\n",
      "4431/4431 [==============================] - 0s 33us/step - loss: 1.2169 - acc: 0.4990 - val_loss: 1.3922 - val_acc: 0.4077\n",
      "Epoch 163/300\n",
      "4431/4431 [==============================] - 0s 32us/step - loss: 1.2153 - acc: 0.5019 - val_loss: 1.3903 - val_acc: 0.4118\n",
      "Epoch 164/300\n",
      "4431/4431 [==============================] - 0s 32us/step - loss: 1.2147 - acc: 0.4981 - val_loss: 1.3924 - val_acc: 0.4118\n",
      "Epoch 165/300\n",
      "4431/4431 [==============================] - 0s 31us/step - loss: 1.2145 - acc: 0.5035 - val_loss: 1.3938 - val_acc: 0.4118\n",
      "Epoch 166/300\n",
      "4431/4431 [==============================] - 0s 31us/step - loss: 1.2138 - acc: 0.4988 - val_loss: 1.3936 - val_acc: 0.4097\n",
      "Epoch 167/300\n",
      "4431/4431 [==============================] - 0s 31us/step - loss: 1.2142 - acc: 0.5001 - val_loss: 1.3905 - val_acc: 0.4178\n",
      "Epoch 168/300\n",
      "4431/4431 [==============================] - 0s 31us/step - loss: 1.2133 - acc: 0.4979 - val_loss: 1.3979 - val_acc: 0.4138\n",
      "Epoch 169/300\n",
      "4431/4431 [==============================] - 0s 31us/step - loss: 1.2134 - acc: 0.5019 - val_loss: 1.3971 - val_acc: 0.4138\n",
      "Epoch 170/300\n",
      "4431/4431 [==============================] - 0s 31us/step - loss: 1.2120 - acc: 0.4970 - val_loss: 1.3938 - val_acc: 0.4077\n",
      "Epoch 171/300\n",
      "4431/4431 [==============================] - 0s 32us/step - loss: 1.2120 - acc: 0.5042 - val_loss: 1.3907 - val_acc: 0.4118\n",
      "Epoch 172/300\n",
      "4431/4431 [==============================] - 0s 32us/step - loss: 1.2114 - acc: 0.5028 - val_loss: 1.3942 - val_acc: 0.4219\n",
      "Epoch 173/300\n",
      "4431/4431 [==============================] - 0s 31us/step - loss: 1.2108 - acc: 0.5024 - val_loss: 1.3984 - val_acc: 0.4239\n",
      "Epoch 174/300\n",
      "4431/4431 [==============================] - 0s 32us/step - loss: 1.2109 - acc: 0.5030 - val_loss: 1.3975 - val_acc: 0.4158\n",
      "Epoch 175/300\n",
      "4431/4431 [==============================] - 0s 32us/step - loss: 1.2105 - acc: 0.5044 - val_loss: 1.3912 - val_acc: 0.4320\n",
      "Epoch 176/300\n",
      "4431/4431 [==============================] - 0s 34us/step - loss: 1.2097 - acc: 0.5039 - val_loss: 1.3936 - val_acc: 0.4138\n",
      "Epoch 177/300\n",
      "4431/4431 [==============================] - 0s 32us/step - loss: 1.2098 - acc: 0.5015 - val_loss: 1.3943 - val_acc: 0.4158\n",
      "Epoch 178/300\n",
      "4431/4431 [==============================] - 0s 32us/step - loss: 1.2088 - acc: 0.5035 - val_loss: 1.3939 - val_acc: 0.4219\n",
      "Epoch 179/300\n",
      "4431/4431 [==============================] - 0s 31us/step - loss: 1.2090 - acc: 0.5033 - val_loss: 1.3936 - val_acc: 0.4077\n",
      "Epoch 180/300\n",
      "4431/4431 [==============================] - 0s 32us/step - loss: 1.2080 - acc: 0.5035 - val_loss: 1.3929 - val_acc: 0.4199\n",
      "Epoch 181/300\n",
      "4431/4431 [==============================] - 0s 31us/step - loss: 1.2072 - acc: 0.5058 - val_loss: 1.3877 - val_acc: 0.4199\n",
      "Epoch 182/300\n",
      "4431/4431 [==============================] - 0s 32us/step - loss: 1.2077 - acc: 0.5035 - val_loss: 1.3912 - val_acc: 0.4239\n",
      "Epoch 183/300\n",
      "4431/4431 [==============================] - 0s 32us/step - loss: 1.2068 - acc: 0.5030 - val_loss: 1.3915 - val_acc: 0.4219\n",
      "Epoch 184/300\n",
      "4431/4431 [==============================] - 0s 33us/step - loss: 1.2074 - acc: 0.5024 - val_loss: 1.3903 - val_acc: 0.4280\n",
      "Epoch 185/300\n",
      "4431/4431 [==============================] - 0s 31us/step - loss: 1.2060 - acc: 0.5033 - val_loss: 1.3913 - val_acc: 0.4118\n",
      "Epoch 186/300\n",
      "4431/4431 [==============================] - 0s 31us/step - loss: 1.2054 - acc: 0.5073 - val_loss: 1.3930 - val_acc: 0.4158\n",
      "Epoch 187/300\n",
      "4431/4431 [==============================] - 0s 32us/step - loss: 1.2052 - acc: 0.5024 - val_loss: 1.3936 - val_acc: 0.4178\n",
      "Epoch 188/300\n",
      "4431/4431 [==============================] - 0s 32us/step - loss: 1.2040 - acc: 0.5058 - val_loss: 1.3939 - val_acc: 0.4178\n",
      "Epoch 189/300\n",
      "4431/4431 [==============================] - 0s 33us/step - loss: 1.2044 - acc: 0.5060 - val_loss: 1.3917 - val_acc: 0.4260\n",
      "Epoch 190/300\n",
      "4431/4431 [==============================] - 0s 34us/step - loss: 1.2036 - acc: 0.5064 - val_loss: 1.3951 - val_acc: 0.4158\n",
      "Epoch 191/300\n",
      "4431/4431 [==============================] - 0s 35us/step - loss: 1.2029 - acc: 0.5073 - val_loss: 1.3889 - val_acc: 0.4219\n",
      "Epoch 192/300\n",
      "4431/4431 [==============================] - 0s 33us/step - loss: 1.2032 - acc: 0.5085 - val_loss: 1.3943 - val_acc: 0.4158\n",
      "Epoch 193/300\n",
      "4431/4431 [==============================] - 0s 33us/step - loss: 1.2025 - acc: 0.5089 - val_loss: 1.3897 - val_acc: 0.4239\n",
      "Epoch 194/300\n",
      "4431/4431 [==============================] - 0s 32us/step - loss: 1.2025 - acc: 0.5055 - val_loss: 1.3936 - val_acc: 0.4097\n",
      "Epoch 195/300\n",
      "4431/4431 [==============================] - 0s 33us/step - loss: 1.2021 - acc: 0.5039 - val_loss: 1.3898 - val_acc: 0.4178\n",
      "Epoch 196/300\n",
      "4431/4431 [==============================] - 0s 34us/step - loss: 1.2016 - acc: 0.5058 - val_loss: 1.3953 - val_acc: 0.4260\n",
      "Epoch 197/300\n",
      "4431/4431 [==============================] - 0s 34us/step - loss: 1.2018 - acc: 0.5080 - val_loss: 1.3932 - val_acc: 0.4178\n",
      "Epoch 198/300\n",
      "4431/4431 [==============================] - 0s 34us/step - loss: 1.2004 - acc: 0.5071 - val_loss: 1.3967 - val_acc: 0.4178\n",
      "Epoch 199/300\n",
      "4431/4431 [==============================] - 0s 32us/step - loss: 1.1995 - acc: 0.5096 - val_loss: 1.3964 - val_acc: 0.4118\n",
      "Epoch 200/300\n",
      "4431/4431 [==============================] - 0s 33us/step - loss: 1.1995 - acc: 0.5082 - val_loss: 1.3915 - val_acc: 0.4219\n",
      "Epoch 201/300\n",
      "4431/4431 [==============================] - 0s 32us/step - loss: 1.1988 - acc: 0.5085 - val_loss: 1.3939 - val_acc: 0.4199\n",
      "Epoch 202/300\n",
      "4431/4431 [==============================] - 0s 33us/step - loss: 1.1979 - acc: 0.5087 - val_loss: 1.3929 - val_acc: 0.4199\n",
      "Epoch 203/300\n",
      "4431/4431 [==============================] - 0s 32us/step - loss: 1.1982 - acc: 0.5096 - val_loss: 1.3934 - val_acc: 0.4199\n",
      "Epoch 204/300\n",
      "4431/4431 [==============================] - 0s 31us/step - loss: 1.1977 - acc: 0.5112 - val_loss: 1.3964 - val_acc: 0.4118\n",
      "Epoch 205/300\n",
      "4431/4431 [==============================] - 0s 32us/step - loss: 1.1965 - acc: 0.5107 - val_loss: 1.3928 - val_acc: 0.4219\n",
      "Epoch 206/300\n",
      "4431/4431 [==============================] - 0s 32us/step - loss: 1.1965 - acc: 0.5107 - val_loss: 1.3955 - val_acc: 0.4138\n",
      "Epoch 207/300\n",
      "4431/4431 [==============================] - 0s 35us/step - loss: 1.1960 - acc: 0.5055 - val_loss: 1.3947 - val_acc: 0.4199\n",
      "Epoch 208/300\n",
      "4431/4431 [==============================] - 0s 33us/step - loss: 1.1963 - acc: 0.5132 - val_loss: 1.3947 - val_acc: 0.4199\n",
      "Epoch 209/300\n",
      "4431/4431 [==============================] - 0s 33us/step - loss: 1.1951 - acc: 0.5105 - val_loss: 1.3958 - val_acc: 0.4280\n",
      "Epoch 210/300\n",
      "4431/4431 [==============================] - 0s 33us/step - loss: 1.1959 - acc: 0.5125 - val_loss: 1.3979 - val_acc: 0.4077\n",
      "Epoch 211/300\n",
      "4431/4431 [==============================] - 0s 32us/step - loss: 1.1953 - acc: 0.5114 - val_loss: 1.3993 - val_acc: 0.4118\n",
      "Epoch 212/300\n",
      "4431/4431 [==============================] - 0s 32us/step - loss: 1.1946 - acc: 0.5134 - val_loss: 1.3920 - val_acc: 0.4280\n",
      "Epoch 213/300\n",
      "4431/4431 [==============================] - 0s 33us/step - loss: 1.1935 - acc: 0.5121 - val_loss: 1.3993 - val_acc: 0.4158\n",
      "Epoch 214/300\n",
      "4431/4431 [==============================] - 0s 32us/step - loss: 1.1927 - acc: 0.5128 - val_loss: 1.3957 - val_acc: 0.4178\n",
      "Epoch 215/300\n",
      "4431/4431 [==============================] - 0s 32us/step - loss: 1.1931 - acc: 0.5107 - val_loss: 1.3979 - val_acc: 0.4178\n",
      "Epoch 216/300\n",
      "4431/4431 [==============================] - 0s 32us/step - loss: 1.1927 - acc: 0.5080 - val_loss: 1.3965 - val_acc: 0.4199\n",
      "Epoch 217/300\n",
      "4431/4431 [==============================] - 0s 32us/step - loss: 1.1921 - acc: 0.5096 - val_loss: 1.3967 - val_acc: 0.4219\n",
      "Epoch 218/300\n",
      "4431/4431 [==============================] - 0s 31us/step - loss: 1.1924 - acc: 0.5112 - val_loss: 1.3982 - val_acc: 0.4178\n",
      "Epoch 219/300\n",
      "4431/4431 [==============================] - 0s 32us/step - loss: 1.1919 - acc: 0.5150 - val_loss: 1.3951 - val_acc: 0.4239\n",
      "Epoch 220/300\n",
      "4431/4431 [==============================] - 0s 32us/step - loss: 1.1906 - acc: 0.5125 - val_loss: 1.3998 - val_acc: 0.4260\n",
      "Epoch 221/300\n",
      "4431/4431 [==============================] - 0s 32us/step - loss: 1.1901 - acc: 0.5143 - val_loss: 1.3961 - val_acc: 0.4239\n",
      "Epoch 222/300\n",
      "4431/4431 [==============================] - 0s 32us/step - loss: 1.1903 - acc: 0.5094 - val_loss: 1.3990 - val_acc: 0.4199\n",
      "Epoch 223/300\n",
      "4431/4431 [==============================] - 0s 32us/step - loss: 1.1899 - acc: 0.5132 - val_loss: 1.4004 - val_acc: 0.4097\n",
      "Epoch 224/300\n",
      "4431/4431 [==============================] - 0s 32us/step - loss: 1.1897 - acc: 0.5150 - val_loss: 1.3930 - val_acc: 0.4260\n",
      "Epoch 225/300\n",
      "4431/4431 [==============================] - 0s 32us/step - loss: 1.1887 - acc: 0.5143 - val_loss: 1.3969 - val_acc: 0.4199\n",
      "Epoch 226/300\n",
      "4431/4431 [==============================] - 0s 31us/step - loss: 1.1880 - acc: 0.5200 - val_loss: 1.4009 - val_acc: 0.4178\n",
      "Epoch 227/300\n",
      "4431/4431 [==============================] - 0s 31us/step - loss: 1.1888 - acc: 0.5146 - val_loss: 1.4022 - val_acc: 0.4178\n",
      "Epoch 228/300\n",
      "4431/4431 [==============================] - 0s 33us/step - loss: 1.1884 - acc: 0.5182 - val_loss: 1.3998 - val_acc: 0.4178\n",
      "Epoch 229/300\n",
      "4431/4431 [==============================] - 0s 32us/step - loss: 1.1875 - acc: 0.5161 - val_loss: 1.3952 - val_acc: 0.4320\n",
      "Epoch 230/300\n",
      "4431/4431 [==============================] - 0s 32us/step - loss: 1.1867 - acc: 0.5175 - val_loss: 1.4005 - val_acc: 0.4158\n",
      "Epoch 231/300\n",
      "4431/4431 [==============================] - 0s 32us/step - loss: 1.1870 - acc: 0.5155 - val_loss: 1.3997 - val_acc: 0.4239\n",
      "Epoch 232/300\n",
      "4431/4431 [==============================] - 0s 32us/step - loss: 1.1862 - acc: 0.5168 - val_loss: 1.3996 - val_acc: 0.4260\n",
      "Epoch 233/300\n",
      "4431/4431 [==============================] - 0s 32us/step - loss: 1.1856 - acc: 0.5141 - val_loss: 1.4039 - val_acc: 0.4199\n",
      "Epoch 234/300\n",
      "4431/4431 [==============================] - 0s 32us/step - loss: 1.1855 - acc: 0.5186 - val_loss: 1.3970 - val_acc: 0.4199\n",
      "Epoch 235/300\n",
      "4431/4431 [==============================] - 0s 31us/step - loss: 1.1848 - acc: 0.5186 - val_loss: 1.4009 - val_acc: 0.4219\n",
      "Epoch 236/300\n",
      "4431/4431 [==============================] - 0s 32us/step - loss: 1.1848 - acc: 0.5173 - val_loss: 1.4003 - val_acc: 0.4219\n",
      "Epoch 237/300\n",
      "4431/4431 [==============================] - 0s 32us/step - loss: 1.1847 - acc: 0.5161 - val_loss: 1.4030 - val_acc: 0.4178\n",
      "Epoch 238/300\n"
     ]
    },
    {
     "name": "stdout",
     "output_type": "stream",
     "text": [
      "4431/4431 [==============================] - 0s 31us/step - loss: 1.1838 - acc: 0.5173 - val_loss: 1.4059 - val_acc: 0.4118\n",
      "Epoch 239/300\n",
      "4431/4431 [==============================] - 0s 32us/step - loss: 1.1837 - acc: 0.5166 - val_loss: 1.4025 - val_acc: 0.4199\n",
      "Epoch 240/300\n",
      "4431/4431 [==============================] - 0s 32us/step - loss: 1.1844 - acc: 0.5150 - val_loss: 1.4009 - val_acc: 0.4219\n",
      "Epoch 241/300\n",
      "4431/4431 [==============================] - 0s 33us/step - loss: 1.1823 - acc: 0.5179 - val_loss: 1.4004 - val_acc: 0.4280\n",
      "Epoch 242/300\n",
      "4431/4431 [==============================] - 0s 40us/step - loss: 1.1824 - acc: 0.5234 - val_loss: 1.4000 - val_acc: 0.4219\n",
      "Epoch 243/300\n",
      "4431/4431 [==============================] - 0s 37us/step - loss: 1.1826 - acc: 0.5143 - val_loss: 1.4030 - val_acc: 0.4138\n",
      "Epoch 244/300\n",
      "4431/4431 [==============================] - 0s 32us/step - loss: 1.1814 - acc: 0.5195 - val_loss: 1.4017 - val_acc: 0.4260\n",
      "Epoch 245/300\n",
      "4431/4431 [==============================] - 0s 32us/step - loss: 1.1811 - acc: 0.5152 - val_loss: 1.4016 - val_acc: 0.4158\n",
      "Epoch 246/300\n",
      "4431/4431 [==============================] - 0s 32us/step - loss: 1.1809 - acc: 0.5177 - val_loss: 1.4033 - val_acc: 0.4138\n",
      "Epoch 247/300\n",
      "4431/4431 [==============================] - 0s 35us/step - loss: 1.1807 - acc: 0.5161 - val_loss: 1.3996 - val_acc: 0.4158\n",
      "Epoch 248/300\n",
      "4431/4431 [==============================] - 0s 35us/step - loss: 1.1798 - acc: 0.5188 - val_loss: 1.4003 - val_acc: 0.4158\n",
      "Epoch 249/300\n",
      "4431/4431 [==============================] - 0s 36us/step - loss: 1.1791 - acc: 0.5204 - val_loss: 1.4060 - val_acc: 0.4138\n",
      "Epoch 250/300\n",
      "4431/4431 [==============================] - 0s 36us/step - loss: 1.1796 - acc: 0.5155 - val_loss: 1.4037 - val_acc: 0.4219\n",
      "Epoch 251/300\n",
      "4431/4431 [==============================] - 0s 32us/step - loss: 1.1795 - acc: 0.5191 - val_loss: 1.3986 - val_acc: 0.4219\n",
      "Epoch 252/300\n",
      "4431/4431 [==============================] - 0s 34us/step - loss: 1.1782 - acc: 0.5173 - val_loss: 1.3991 - val_acc: 0.4077\n",
      "Epoch 253/300\n",
      "4431/4431 [==============================] - 0s 46us/step - loss: 1.1782 - acc: 0.5200 - val_loss: 1.3999 - val_acc: 0.4219\n",
      "Epoch 254/300\n",
      "4431/4431 [==============================] - 0s 35us/step - loss: 1.1784 - acc: 0.5234 - val_loss: 1.4089 - val_acc: 0.4138\n",
      "Epoch 255/300\n",
      "4431/4431 [==============================] - 0s 39us/step - loss: 1.1775 - acc: 0.5175 - val_loss: 1.4028 - val_acc: 0.4239\n",
      "Epoch 256/300\n",
      "4431/4431 [==============================] - 0s 39us/step - loss: 1.1778 - acc: 0.5188 - val_loss: 1.4029 - val_acc: 0.4219\n",
      "Epoch 257/300\n",
      "4431/4431 [==============================] - 0s 33us/step - loss: 1.1760 - acc: 0.5218 - val_loss: 1.4030 - val_acc: 0.4260\n",
      "Epoch 258/300\n",
      "4431/4431 [==============================] - 0s 32us/step - loss: 1.1770 - acc: 0.5188 - val_loss: 1.4042 - val_acc: 0.4118\n",
      "Epoch 259/300\n",
      "4431/4431 [==============================] - 0s 34us/step - loss: 1.1767 - acc: 0.5209 - val_loss: 1.4023 - val_acc: 0.4178\n",
      "Epoch 260/300\n",
      "4431/4431 [==============================] - 0s 33us/step - loss: 1.1752 - acc: 0.5211 - val_loss: 1.4013 - val_acc: 0.4219\n",
      "Epoch 261/300\n",
      "4431/4431 [==============================] - 0s 32us/step - loss: 1.1761 - acc: 0.5213 - val_loss: 1.4033 - val_acc: 0.4138\n",
      "Epoch 262/300\n",
      "4431/4431 [==============================] - 0s 32us/step - loss: 1.1750 - acc: 0.5216 - val_loss: 1.4057 - val_acc: 0.4178\n",
      "Epoch 263/300\n",
      "4431/4431 [==============================] - 0s 32us/step - loss: 1.1742 - acc: 0.5182 - val_loss: 1.4085 - val_acc: 0.4097\n",
      "Epoch 264/300\n",
      "4431/4431 [==============================] - 0s 32us/step - loss: 1.1745 - acc: 0.5229 - val_loss: 1.4077 - val_acc: 0.4158\n",
      "Epoch 265/300\n",
      "4431/4431 [==============================] - 0s 35us/step - loss: 1.1738 - acc: 0.5211 - val_loss: 1.4065 - val_acc: 0.4260\n",
      "Epoch 266/300\n",
      "4431/4431 [==============================] - 0s 32us/step - loss: 1.1725 - acc: 0.5249 - val_loss: 1.4052 - val_acc: 0.4178\n",
      "Epoch 267/300\n",
      "4431/4431 [==============================] - 0s 40us/step - loss: 1.1740 - acc: 0.5234 - val_loss: 1.4108 - val_acc: 0.4097\n",
      "Epoch 268/300\n",
      "4431/4431 [==============================] - 0s 38us/step - loss: 1.1724 - acc: 0.5234 - val_loss: 1.4080 - val_acc: 0.4219\n",
      "Epoch 269/300\n",
      "4431/4431 [==============================] - 0s 38us/step - loss: 1.1723 - acc: 0.5227 - val_loss: 1.4062 - val_acc: 0.4178\n",
      "Epoch 270/300\n",
      "4431/4431 [==============================] - 0s 42us/step - loss: 1.1722 - acc: 0.5209 - val_loss: 1.4063 - val_acc: 0.4219\n",
      "Epoch 271/300\n",
      "4431/4431 [==============================] - 0s 41us/step - loss: 1.1716 - acc: 0.5227 - val_loss: 1.4038 - val_acc: 0.4178\n",
      "Epoch 272/300\n",
      "4431/4431 [==============================] - 0s 39us/step - loss: 1.1704 - acc: 0.5263 - val_loss: 1.4162 - val_acc: 0.4057\n",
      "Epoch 273/300\n",
      "4431/4431 [==============================] - 0s 37us/step - loss: 1.1716 - acc: 0.5179 - val_loss: 1.4112 - val_acc: 0.4077\n",
      "Epoch 274/300\n",
      "4431/4431 [==============================] - 0s 49us/step - loss: 1.1707 - acc: 0.5229 - val_loss: 1.4114 - val_acc: 0.4178\n",
      "Epoch 275/300\n",
      "4431/4431 [==============================] - 0s 40us/step - loss: 1.1702 - acc: 0.5245 - val_loss: 1.4071 - val_acc: 0.4199\n",
      "Epoch 276/300\n",
      "4431/4431 [==============================] - 0s 38us/step - loss: 1.1698 - acc: 0.5234 - val_loss: 1.4102 - val_acc: 0.4199\n",
      "Epoch 277/300\n",
      "4431/4431 [==============================] - 0s 38us/step - loss: 1.1701 - acc: 0.5227 - val_loss: 1.4110 - val_acc: 0.4219\n",
      "Epoch 278/300\n",
      "4431/4431 [==============================] - 0s 35us/step - loss: 1.1691 - acc: 0.5236 - val_loss: 1.4092 - val_acc: 0.4138\n",
      "Epoch 279/300\n",
      "4431/4431 [==============================] - 0s 36us/step - loss: 1.1681 - acc: 0.5279 - val_loss: 1.4092 - val_acc: 0.4178\n",
      "Epoch 280/300\n",
      "4431/4431 [==============================] - 0s 37us/step - loss: 1.1685 - acc: 0.5229 - val_loss: 1.4098 - val_acc: 0.4057\n",
      "Epoch 281/300\n",
      "4431/4431 [==============================] - 0s 38us/step - loss: 1.1679 - acc: 0.5261 - val_loss: 1.4071 - val_acc: 0.4199\n",
      "Epoch 282/300\n",
      "4431/4431 [==============================] - 0s 39us/step - loss: 1.1683 - acc: 0.5245 - val_loss: 1.4069 - val_acc: 0.4219\n",
      "Epoch 283/300\n",
      "4431/4431 [==============================] - 0s 37us/step - loss: 1.1674 - acc: 0.5238 - val_loss: 1.4158 - val_acc: 0.4097\n",
      "Epoch 284/300\n",
      "4431/4431 [==============================] - 0s 40us/step - loss: 1.1668 - acc: 0.5236 - val_loss: 1.4133 - val_acc: 0.4097\n",
      "Epoch 285/300\n",
      "4431/4431 [==============================] - 0s 39us/step - loss: 1.1678 - acc: 0.5249 - val_loss: 1.4108 - val_acc: 0.4138\n",
      "Epoch 286/300\n",
      "4431/4431 [==============================] - 0s 34us/step - loss: 1.1666 - acc: 0.5276 - val_loss: 1.4112 - val_acc: 0.4239\n",
      "Epoch 287/300\n",
      "4431/4431 [==============================] - 0s 32us/step - loss: 1.1669 - acc: 0.5243 - val_loss: 1.4148 - val_acc: 0.4138\n",
      "Epoch 288/300\n",
      "4431/4431 [==============================] - 0s 33us/step - loss: 1.1661 - acc: 0.5236 - val_loss: 1.4152 - val_acc: 0.4138\n",
      "Epoch 289/300\n",
      "4431/4431 [==============================] - 0s 35us/step - loss: 1.1658 - acc: 0.5243 - val_loss: 1.4175 - val_acc: 0.4097\n",
      "Epoch 290/300\n",
      "4431/4431 [==============================] - 0s 36us/step - loss: 1.1650 - acc: 0.5297 - val_loss: 1.4130 - val_acc: 0.4178\n",
      "Epoch 291/300\n",
      "4431/4431 [==============================] - 0s 38us/step - loss: 1.1653 - acc: 0.5252 - val_loss: 1.4128 - val_acc: 0.4138\n",
      "Epoch 292/300\n",
      "4431/4431 [==============================] - 0s 39us/step - loss: 1.1637 - acc: 0.5283 - val_loss: 1.4178 - val_acc: 0.4118\n",
      "Epoch 293/300\n",
      "4431/4431 [==============================] - 0s 38us/step - loss: 1.1645 - acc: 0.5258 - val_loss: 1.4147 - val_acc: 0.4138\n",
      "Epoch 294/300\n",
      "4431/4431 [==============================] - 0s 34us/step - loss: 1.1641 - acc: 0.5258 - val_loss: 1.4162 - val_acc: 0.4138\n",
      "Epoch 295/300\n",
      "4431/4431 [==============================] - 0s 32us/step - loss: 1.1629 - acc: 0.5270 - val_loss: 1.4146 - val_acc: 0.4178\n",
      "Epoch 296/300\n",
      "4431/4431 [==============================] - 0s 34us/step - loss: 1.1629 - acc: 0.5272 - val_loss: 1.4148 - val_acc: 0.4097\n",
      "Epoch 297/300\n",
      "4431/4431 [==============================] - 0s 40us/step - loss: 1.1624 - acc: 0.5285 - val_loss: 1.4178 - val_acc: 0.4178\n",
      "Epoch 298/300\n",
      "4431/4431 [==============================] - 0s 44us/step - loss: 1.1627 - acc: 0.5267 - val_loss: 1.4181 - val_acc: 0.4178\n",
      "Epoch 299/300\n",
      "4431/4431 [==============================] - 0s 40us/step - loss: 1.1628 - acc: 0.5283 - val_loss: 1.4178 - val_acc: 0.4158\n",
      "Epoch 300/300\n",
      "4431/4431 [==============================] - 0s 40us/step - loss: 1.1612 - acc: 0.5281 - val_loss: 1.4147 - val_acc: 0.4016\n"
     ]
    }
   ],
   "source": [
    "history = clf_nn.fit(train_ave,trainY,epochs=300,batch_size=32,validation_split=0.1)"
   ]
  },
  {
   "cell_type": "code",
   "execution_count": 54,
   "metadata": {},
   "outputs": [
    {
     "data": {
      "image/png": "[encoded data removed]",
      "text/plain": [
       "<matplotlib.figure.Figure at 0x13b3073c8>"
      ]
     },
     "metadata": {},
     "output_type": "display_data"
    }
   ],
   "source": [
    "# check the progress with epochs\n",
    "loss = history.history['loss']\n",
    "val_loss = history.history['val_loss']\n",
    "\n",
    "acc = history.history['acc']\n",
    "val_acc = history.history['val_acc']\n",
    "\n",
    "\n",
    "epochs_tick = range(1,len(loss)+1)\n",
    "plt.figure(figsize=(16,5))\n",
    "\n",
    "# plot the learning curves for the loss function \n",
    "plt.subplot(1, 2, 1)\n",
    "plt.plot(epochs_tick,loss,'bo-',label='Training loss')\n",
    "plt.plot(epochs_tick,val_loss,'rd-',label='Validation loss')\n",
    "plt.title('Training and validation loss')\n",
    "plt.xlabel('Epochs')\n",
    "plt.ylabel('Loss')\n",
    "plt.legend(bbox_to_anchor=(1, 0.5))\n",
    "\n",
    "# plot the learning curves for accuracy\n",
    "plt.subplot(1, 2, 2)\n",
    "plt.plot(epochs_tick,acc,'bo-',label='Training accuracy')\n",
    "plt.plot(epochs_tick,val_acc,'rd-',label='Validation accuracy')\n",
    "plt.title('Training and validation accuracy')\n",
    "plt.xlabel('Epochs')\n",
    "plt.ylabel('Accuracy')\n",
    "plt.legend(bbox_to_anchor=(1, 0.5))\n",
    "plt.show()"
   ]
  },
  {
   "cell_type": "code",
   "execution_count": 56,
   "metadata": {},
   "outputs": [
    {
     "name": "stdout",
     "output_type": "stream",
     "text": [
      "(1246, 5)\n",
      "(1219, 25) (1219, 5)\n"
     ]
    }
   ],
   "source": [
    "test_ave, drop_idx_test = average(test_seq,initial_weight,embedding_dim)\n",
    "print(testY.shape)\n",
    "testY = np.delete(testY,drop_idx_test,axis=0)\n",
    "print(test_ave.shape,testY.shape)"
   ]
  },
  {
   "cell_type": "code",
   "execution_count": 60,
   "metadata": {},
   "outputs": [
    {
     "name": "stdout",
     "output_type": "stream",
     "text": [
      "1219/1219 [==============================] - 0s 6us/step\n"
     ]
    },
    {
     "data": {
      "text/plain": [
       "[1.3226758950650448, 0.4257588195839898]"
      ]
     },
     "execution_count": 60,
     "metadata": {},
     "output_type": "execute_result"
    }
   ],
   "source": [
    "clf_nn.evaluate(test_ave, testY, batch_size=128)"
   ]
  },
  {
   "cell_type": "markdown",
   "metadata": {},
   "source": [
    "### 5.3 - LSTM"
   ]
  },
  {
   "cell_type": "code",
   "execution_count": 62,
   "metadata": {},
   "outputs": [
    {
     "name": "stdout",
     "output_type": "stream",
     "text": [
      "(4924, 10) (4924, 5)\n"
     ]
    }
   ],
   "source": [
    "# delete empty sequences\n",
    "\n",
    "train_seq_pad = np.delete(train_seq_pad,drop_idx,axis=0)\n",
    "test_seq_pad = np.delete(test_seq_pad,drop_idx_test,axis=0)\n",
    "print(train_seq_pad.shape,trainY.shape)"
   ]
  },
  {
   "cell_type": "code",
   "execution_count": 81,
   "metadata": {},
   "outputs": [
    {
     "name": "stdout",
     "output_type": "stream",
     "text": [
      "_________________________________________________________________\n",
      "Layer (type)                 Output Shape              Param #   \n",
      "=================================================================\n",
      "embedding_7 (Embedding)      (None, 10, 25)            125025    \n",
      "_________________________________________________________________\n",
      "flatten_7 (Flatten)          (None, 250)               0         \n",
      "_________________________________________________________________\n",
      "dropout_9 (Dropout)          (None, 250)               0         \n",
      "_________________________________________________________________\n",
      "dense_16 (Dense)             (None, 32)                8032      \n",
      "_________________________________________________________________\n",
      "dropout_10 (Dropout)         (None, 32)                0         \n",
      "_________________________________________________________________\n",
      "dense_17 (Dense)             (None, 5)                 165       \n",
      "=================================================================\n",
      "Total params: 133,222\n",
      "Trainable params: 8,197\n",
      "Non-trainable params: 125,025\n",
      "_________________________________________________________________\n"
     ]
    }
   ],
   "source": [
    "clf_lstm = Sequential()\n",
    "clf_lstm.add(Embedding(max_words+1,embedding_dim,weights=[initial_weight],trainable=False,input_length=max_len))\n",
    "#clf_lstm.add(Dense(32,activation='relu',input_shape=(embedding_dim,)))\n",
    "clf_lstm.add(Flatten())\n",
    "clf_lstm.add(Dropout(0.2))\n",
    "#clf_lstm.add(Dense(256,activation='relu'))\n",
    "clf_lstm.add(Dense(32,activation='relu'))\n",
    "clf_lstm.add(Dropout(0.2))\n",
    "clf_lstm.add(Dense(5,activation='softmax'))\n",
    "\n",
    "clf_lstm.summary()\n",
    "\n",
    "\n",
    "opt = Adam(lr=1e-3, beta_1=0.9, beta_2=0.999, epsilon=None, decay=0.0, amsgrad=False)\n",
    "clf_lstm.compile(optimizer=opt,loss='categorical_crossentropy',metrics=['acc'])"
   ]
  },
  {
   "cell_type": "code",
   "execution_count": 82,
   "metadata": {},
   "outputs": [
    {
     "name": "stdout",
     "output_type": "stream",
     "text": [
      "Train on 4431 samples, validate on 493 samples\n",
      "Epoch 1/50\n",
      "4431/4431 [==============================] - 0s 109us/step - loss: 1.6891 - acc: 0.2534 - val_loss: 1.5457 - val_acc: 0.2738\n",
      "Epoch 2/50\n",
      "4431/4431 [==============================] - 0s 46us/step - loss: 1.5049 - acc: 0.3286 - val_loss: 1.4963 - val_acc: 0.3469\n",
      "Epoch 3/50\n",
      "4431/4431 [==============================] - 0s 47us/step - loss: 1.4410 - acc: 0.3627 - val_loss: 1.4661 - val_acc: 0.3489\n",
      "Epoch 4/50\n",
      "4431/4431 [==============================] - 0s 46us/step - loss: 1.3875 - acc: 0.3929 - val_loss: 1.4536 - val_acc: 0.3529\n",
      "Epoch 5/50\n",
      "4431/4431 [==============================] - 0s 45us/step - loss: 1.3651 - acc: 0.4008 - val_loss: 1.4550 - val_acc: 0.3489\n",
      "Epoch 6/50\n",
      "4431/4431 [==============================] - 0s 47us/step - loss: 1.3574 - acc: 0.4195 - val_loss: 1.4413 - val_acc: 0.3550\n",
      "Epoch 7/50\n",
      "4431/4431 [==============================] - 0s 47us/step - loss: 1.3299 - acc: 0.4351 - val_loss: 1.4279 - val_acc: 0.3732\n",
      "Epoch 8/50\n",
      "4431/4431 [==============================] - 0s 47us/step - loss: 1.3160 - acc: 0.4351 - val_loss: 1.4212 - val_acc: 0.3793\n",
      "Epoch 9/50\n",
      "4431/4431 [==============================] - 0s 46us/step - loss: 1.3091 - acc: 0.4315 - val_loss: 1.4174 - val_acc: 0.3773\n",
      "Epoch 10/50\n",
      "4431/4431 [==============================] - 0s 46us/step - loss: 1.2979 - acc: 0.4516 - val_loss: 1.4211 - val_acc: 0.3611\n",
      "Epoch 11/50\n",
      "4431/4431 [==============================] - 0s 46us/step - loss: 1.2771 - acc: 0.4579 - val_loss: 1.4117 - val_acc: 0.3732\n",
      "Epoch 12/50\n",
      "4431/4431 [==============================] - 0s 47us/step - loss: 1.2698 - acc: 0.4502 - val_loss: 1.4108 - val_acc: 0.3753\n",
      "Epoch 13/50\n",
      "4431/4431 [==============================] - 0s 46us/step - loss: 1.2564 - acc: 0.4654 - val_loss: 1.4107 - val_acc: 0.3834\n",
      "Epoch 14/50\n",
      "4431/4431 [==============================] - 0s 46us/step - loss: 1.2535 - acc: 0.4694 - val_loss: 1.4157 - val_acc: 0.3874\n",
      "Epoch 15/50\n",
      "4431/4431 [==============================] - 0s 47us/step - loss: 1.2402 - acc: 0.4771 - val_loss: 1.4182 - val_acc: 0.3874\n",
      "Epoch 16/50\n",
      "4431/4431 [==============================] - 0s 46us/step - loss: 1.2212 - acc: 0.4778 - val_loss: 1.4140 - val_acc: 0.3874\n",
      "Epoch 17/50\n",
      "4431/4431 [==============================] - 0s 47us/step - loss: 1.2230 - acc: 0.4755 - val_loss: 1.4157 - val_acc: 0.3935\n",
      "Epoch 18/50\n",
      "4431/4431 [==============================] - 0s 46us/step - loss: 1.2282 - acc: 0.4803 - val_loss: 1.4097 - val_acc: 0.3996\n",
      "Epoch 19/50\n",
      "4431/4431 [==============================] - 0s 47us/step - loss: 1.2121 - acc: 0.4757 - val_loss: 1.4159 - val_acc: 0.3895\n",
      "Epoch 20/50\n",
      "4431/4431 [==============================] - 0s 47us/step - loss: 1.2173 - acc: 0.4845 - val_loss: 1.4139 - val_acc: 0.4097\n",
      "Epoch 21/50\n",
      "4431/4431 [==============================] - 0s 48us/step - loss: 1.1967 - acc: 0.4965 - val_loss: 1.4211 - val_acc: 0.4097\n",
      "Epoch 22/50\n",
      "4431/4431 [==============================] - 0s 48us/step - loss: 1.1791 - acc: 0.5051 - val_loss: 1.4169 - val_acc: 0.3955\n",
      "Epoch 23/50\n",
      "4431/4431 [==============================] - 0s 47us/step - loss: 1.1876 - acc: 0.4927 - val_loss: 1.4123 - val_acc: 0.3955\n",
      "Epoch 24/50\n",
      "4431/4431 [==============================] - 0s 46us/step - loss: 1.1858 - acc: 0.4985 - val_loss: 1.4134 - val_acc: 0.4016\n",
      "Epoch 25/50\n",
      "4431/4431 [==============================] - 0s 48us/step - loss: 1.1740 - acc: 0.4979 - val_loss: 1.4250 - val_acc: 0.4178\n",
      "Epoch 26/50\n",
      "4431/4431 [==============================] - 0s 48us/step - loss: 1.1683 - acc: 0.5049 - val_loss: 1.4345 - val_acc: 0.3976\n",
      "Epoch 27/50\n",
      "4431/4431 [==============================] - 0s 45us/step - loss: 1.1666 - acc: 0.5012 - val_loss: 1.4341 - val_acc: 0.3935\n",
      "Epoch 28/50\n",
      "4431/4431 [==============================] - 0s 41us/step - loss: 1.1525 - acc: 0.5121 - val_loss: 1.4369 - val_acc: 0.4037\n",
      "Epoch 29/50\n",
      "4431/4431 [==============================] - 0s 44us/step - loss: 1.1461 - acc: 0.5137 - val_loss: 1.4413 - val_acc: 0.4037\n",
      "Epoch 30/50\n",
      "4431/4431 [==============================] - 0s 44us/step - loss: 1.1364 - acc: 0.5134 - val_loss: 1.4345 - val_acc: 0.3955\n",
      "Epoch 31/50\n",
      "4431/4431 [==============================] - 0s 46us/step - loss: 1.1262 - acc: 0.5197 - val_loss: 1.4370 - val_acc: 0.4037\n",
      "Epoch 32/50\n",
      "4431/4431 [==============================] - 0s 43us/step - loss: 1.1313 - acc: 0.5331 - val_loss: 1.4397 - val_acc: 0.4239\n",
      "Epoch 33/50\n",
      "4431/4431 [==============================] - 0s 42us/step - loss: 1.1242 - acc: 0.5301 - val_loss: 1.4388 - val_acc: 0.4037\n",
      "Epoch 34/50\n",
      "4431/4431 [==============================] - 0s 46us/step - loss: 1.1266 - acc: 0.5143 - val_loss: 1.4368 - val_acc: 0.3915\n",
      "Epoch 35/50\n",
      "4431/4431 [==============================] - 0s 46us/step - loss: 1.1250 - acc: 0.5324 - val_loss: 1.4503 - val_acc: 0.4016\n",
      "Epoch 36/50\n",
      "4431/4431 [==============================] - 0s 44us/step - loss: 1.1212 - acc: 0.5261 - val_loss: 1.4670 - val_acc: 0.3955\n",
      "Epoch 37/50\n",
      "4431/4431 [==============================] - 0s 46us/step - loss: 1.1193 - acc: 0.5288 - val_loss: 1.4621 - val_acc: 0.3874\n",
      "Epoch 38/50\n",
      "4431/4431 [==============================] - 0s 44us/step - loss: 1.1076 - acc: 0.5355 - val_loss: 1.4734 - val_acc: 0.3976\n",
      "Epoch 39/50\n",
      "4431/4431 [==============================] - 0s 44us/step - loss: 1.0985 - acc: 0.5396 - val_loss: 1.4647 - val_acc: 0.3874\n",
      "Epoch 40/50\n",
      "4431/4431 [==============================] - 0s 45us/step - loss: 1.1022 - acc: 0.5394 - val_loss: 1.4957 - val_acc: 0.4097\n",
      "Epoch 41/50\n",
      "4431/4431 [==============================] - 0s 44us/step - loss: 1.1119 - acc: 0.5243 - val_loss: 1.4691 - val_acc: 0.3976\n",
      "Epoch 42/50\n",
      "4431/4431 [==============================] - 0s 45us/step - loss: 1.0929 - acc: 0.5437 - val_loss: 1.4885 - val_acc: 0.3813\n",
      "Epoch 43/50\n",
      "4431/4431 [==============================] - 0s 47us/step - loss: 1.0782 - acc: 0.5459 - val_loss: 1.4799 - val_acc: 0.4077\n",
      "Epoch 44/50\n",
      "4431/4431 [==============================] - 0s 46us/step - loss: 1.0826 - acc: 0.5376 - val_loss: 1.4921 - val_acc: 0.3976\n",
      "Epoch 45/50\n",
      "4431/4431 [==============================] - 0s 46us/step - loss: 1.0783 - acc: 0.5434 - val_loss: 1.5028 - val_acc: 0.3976\n",
      "Epoch 46/50\n",
      "4431/4431 [==============================] - 0s 46us/step - loss: 1.0891 - acc: 0.5459 - val_loss: 1.4896 - val_acc: 0.3955\n",
      "Epoch 47/50\n",
      "4431/4431 [==============================] - 0s 46us/step - loss: 1.0876 - acc: 0.5448 - val_loss: 1.5072 - val_acc: 0.3935\n",
      "Epoch 48/50\n",
      "4431/4431 [==============================] - 0s 46us/step - loss: 1.0692 - acc: 0.5574 - val_loss: 1.5105 - val_acc: 0.3895\n",
      "Epoch 49/50\n",
      "4431/4431 [==============================] - 0s 47us/step - loss: 1.0745 - acc: 0.5552 - val_loss: 1.4915 - val_acc: 0.3854\n",
      "Epoch 50/50\n",
      "4431/4431 [==============================] - 0s 48us/step - loss: 1.0665 - acc: 0.5534 - val_loss: 1.5250 - val_acc: 0.3813\n"
     ]
    }
   ],
   "source": [
    "history_lstm = clf_lstm.fit(train_seq_pad,trainY,epochs=50,batch_size=32,validation_split=0.1)"
   ]
  },
  {
   "cell_type": "code",
   "execution_count": 83,
   "metadata": {},
   "outputs": [
    {
     "data": {
      "image/png": "[encoded data removed]",
      "text/plain": [
       "<matplotlib.figure.Figure at 0x13d508cf8>"
      ]
     },
     "metadata": {},
     "output_type": "display_data"
    }
   ],
   "source": [
    "# check the progress with epochs\n",
    "loss = history_lstm.history['loss']\n",
    "val_loss = history_lstm.history['val_loss']\n",
    "\n",
    "acc = history_lstm.history['acc']\n",
    "val_acc = history_lstm.history['val_acc']\n",
    "\n",
    "\n",
    "epochs_tick = range(1,len(loss)+1)\n",
    "plt.figure(figsize=(16,5))\n",
    "\n",
    "# plot the learning curves for the loss function \n",
    "plt.subplot(1, 2, 1)\n",
    "plt.plot(epochs_tick,loss,'bo-',label='Training loss')\n",
    "plt.plot(epochs_tick,val_loss,'rd-',label='Validation loss')\n",
    "plt.title('Training and validation loss')\n",
    "plt.xlabel('Epochs')\n",
    "plt.ylabel('Loss')\n",
    "plt.legend(bbox_to_anchor=(1, 0.5))\n",
    "\n",
    "# plot the learning curves for accuracy\n",
    "plt.subplot(1, 2, 2)\n",
    "plt.plot(epochs_tick,acc,'bo-',label='Training accuracy')\n",
    "plt.plot(epochs_tick,val_acc,'rd-',label='Validation accuracy')\n",
    "plt.title('Training and validation accuracy')\n",
    "plt.xlabel('Epochs')\n",
    "plt.ylabel('Accuracy')\n",
    "plt.legend(bbox_to_anchor=(1, 0.5))\n",
    "plt.show()"
   ]
  },
  {
   "cell_type": "code",
   "execution_count": 84,
   "metadata": {},
   "outputs": [
    {
     "name": "stdout",
     "output_type": "stream",
     "text": [
      "1219/1219 [==============================] - 0s 20us/step\n"
     ]
    },
    {
     "data": {
      "text/plain": [
       "[1.3957427905855655, 0.3945857260049221]"
      ]
     },
     "execution_count": 84,
     "metadata": {},
     "output_type": "execute_result"
    }
   ],
   "source": [
    "clf_lstm.evaluate(test_seq_pad, testY)"
   ]
  }
 ],
 "metadata": {
  "celltoolbar": "Raw Cell Format",
  "kernelspec": {
   "display_name": "Python 3",
   "language": "python",
   "name": "python3"
  },
  "language_info": {
   "codemirror_mode": {
    "name": "ipython",
    "version": 3
   },
   "file_extension": ".py",
   "mimetype": "text/x-python",
   "name": "python",
   "nbconvert_exporter": "python",
   "pygments_lexer": "ipython3",
   "version": "3.6.4"
  }
 },
 "nbformat": 4,
 "nbformat_minor": 2
}
