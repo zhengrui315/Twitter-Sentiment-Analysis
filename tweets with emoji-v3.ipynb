{
 "cells": [
  {
   "cell_type": "code",
   "execution_count": 1,
   "metadata": {},
   "outputs": [],
   "source": [
    "import pandas as pd\n",
    "import numpy as np\n",
    "import matplotlib.pyplot as plt\n",
    "\n",
    "import time"
   ]
  },
  {
   "cell_type": "markdown",
   "metadata": {},
   "source": [
    "## 1 - Twitter API Authorization"
   ]
  },
  {
   "cell_type": "code",
   "execution_count": 2,
   "metadata": {},
   "outputs": [],
   "source": [
    "import tweepy\n",
    "import sys\n",
    "import csv\n",
    "import time"
   ]
  },
  {
   "cell_type": "code",
   "execution_count": 3,
   "metadata": {},
   "outputs": [],
   "source": [
    "consumer_key = \"uUD5gEyrQx0CDfQ7pjzsrABjb\"\n",
    "consumer_secret = \"Gmz3gNv5FG52Y2f2xE9Nmx1cU5EZZJrxXwr03RyVphyw4DLavl\"\n",
    "access_token = \"1547323880-ESPqufpNIBRIbJayqtGoFhkbD2TVeC1OfsWc7fU\"\n",
    "access_token_secret = \"30XYAnJbesYSYT6hehQzJLLRRhz2OU5BO7eTz8YJeqm7C\"\n",
    "\n",
    "auth = tweepy.OAuthHandler(consumer_key, consumer_secret)\n",
    "auth.set_access_token(access_token, access_token_secret)\n",
    "\n",
    "api = tweepy.API(auth)"
   ]
  },
  {
   "cell_type": "markdown",
   "metadata": {},
   "source": [
    "check [tweepy API](http://tweepy.readthedocs.io/en/v3.5.0/api.html).\n",
    "\n",
    "- `api.user_timeline`: return my tweets\n",
    "- `api.home_timeline`: return tweets on my home page\n",
    "- `items()`, `pages()`: are iterable. "
   ]
  },
  {
   "cell_type": "code",
   "execution_count": null,
   "metadata": {},
   "outputs": [],
   "source": [
    "for status in tweepy.Cursor(api.home_timeline).items():\n",
    "    # Process a single status\n",
    "    print(status.text)"
   ]
  },
  {
   "cell_type": "markdown",
   "metadata": {},
   "source": [
    "## 2 - Data Scraping"
   ]
  },
  {
   "cell_type": "markdown",
   "metadata": {},
   "source": [
    "According to [Top Emojis of World Emoji Day](https://blog.emojipedia.org/top-emojis-of-world-emoji-day/), we will only search for tweets with the top 9 emojis. If there are two emojis, we will .... Refer to [here](https://unicode.org/emoji/charts/full-emoji-list.html) for unicode.\n",
    "- 😂 Face With Tears Of Joy:     $\\qquad$ `0` - U+1F602\n",
    "- 😍 Smiling Face With Heart-Eyes: \n",
    "- ❤️ Red heart\n",
    "- 😀 Grinning Face: $\\quad$ `1` - U+1F600\n",
    "- 😎 Smiling Face With Sunglasses\n",
    "- 🎉 Party Popper: $\\qquad$ `2` - U+1F389\n",
    "- 😊 Smiling Face With Smiling Eyes\n",
    "- 👍 Thumbs Up: $\\qquad$ `3` - U+1F44D\n",
    "- 💩 Pile Of Poo: $\\quad$ `4` - U+1F4A9\n",
    "\n",
    "I could also extract tweets for bigger categories of emoji, but the procedure is very similar. In this project I will select the above five emojis with the labels in shaded fonts for a test run of the sentiment analysis."
   ]
  },
  {
   "cell_type": "markdown",
   "metadata": {},
   "source": [
    "### 2.1 - No stream"
   ]
  },
  {
   "cell_type": "code",
   "execution_count": 10,
   "metadata": {
    "collapsed": true
   },
   "outputs": [
    {
     "ename": "TweepError",
     "evalue": "Twitter error response: status code = 429",
     "output_type": "error",
     "traceback": [
      "\u001b[0;31m---------------------------------------------------------------------------\u001b[0m",
      "\u001b[0;31mTweepError\u001b[0m                                Traceback (most recent call last)",
      "\u001b[0;32m<ipython-input-10-c4623a72c108>\u001b[0m in \u001b[0;36m<module>\u001b[0;34m()\u001b[0m\n\u001b[1;32m     10\u001b[0m     \u001b[0mwriter\u001b[0m \u001b[0;34m=\u001b[0m \u001b[0mcsv\u001b[0m\u001b[0;34m.\u001b[0m\u001b[0mDictWriter\u001b[0m\u001b[0;34m(\u001b[0m\u001b[0mf\u001b[0m\u001b[0;34m,\u001b[0m\u001b[0mfieldnames\u001b[0m\u001b[0;34m=\u001b[0m\u001b[0;34m[\u001b[0m\u001b[0;34m'tweet'\u001b[0m\u001b[0;34m,\u001b[0m\u001b[0;34m'label'\u001b[0m\u001b[0;34m]\u001b[0m\u001b[0;34m)\u001b[0m\u001b[0;34m\u001b[0m\u001b[0m\n\u001b[1;32m     11\u001b[0m     \u001b[0mwriter\u001b[0m\u001b[0;34m.\u001b[0m\u001b[0mwriteheader\u001b[0m\u001b[0;34m(\u001b[0m\u001b[0;34m)\u001b[0m\u001b[0;34m\u001b[0m\u001b[0m\n\u001b[0;32m---> 12\u001b[0;31m     \u001b[0;32mfor\u001b[0m \u001b[0mtweet\u001b[0m \u001b[0;32min\u001b[0m \u001b[0msearch\u001b[0m\u001b[0;34m:\u001b[0m\u001b[0;34m\u001b[0m\u001b[0m\n\u001b[0m\u001b[1;32m     13\u001b[0m         \u001b[0mtext\u001b[0m \u001b[0;34m=\u001b[0m \u001b[0mtweet\u001b[0m\u001b[0;34m.\u001b[0m\u001b[0mtext\u001b[0m\u001b[0;34m\u001b[0m\u001b[0m\n\u001b[1;32m     14\u001b[0m         \u001b[0;32mif\u001b[0m \u001b[0mquery\u001b[0m\u001b[0;34m[\u001b[0m\u001b[0midx\u001b[0m\u001b[0;34m]\u001b[0m \u001b[0;32min\u001b[0m \u001b[0mtext\u001b[0m \u001b[0;32mand\u001b[0m \u001b[0;34m(\u001b[0m\u001b[0;32mnot\u001b[0m \u001b[0mtweet\u001b[0m\u001b[0;34m.\u001b[0m\u001b[0mretweeted\u001b[0m\u001b[0;34m)\u001b[0m\u001b[0;34m:\u001b[0m\u001b[0;31m# and ('RT @' not in tweet.text):\u001b[0m\u001b[0;34m\u001b[0m\u001b[0m\n",
      "\u001b[0;32m~/anaconda3/lib/python3.6/site-packages/tweepy/cursor.py\u001b[0m in \u001b[0;36m__next__\u001b[0;34m(self)\u001b[0m\n\u001b[1;32m     47\u001b[0m \u001b[0;34m\u001b[0m\u001b[0m\n\u001b[1;32m     48\u001b[0m     \u001b[0;32mdef\u001b[0m \u001b[0m__next__\u001b[0m\u001b[0;34m(\u001b[0m\u001b[0mself\u001b[0m\u001b[0;34m)\u001b[0m\u001b[0;34m:\u001b[0m\u001b[0;34m\u001b[0m\u001b[0m\n\u001b[0;32m---> 49\u001b[0;31m         \u001b[0;32mreturn\u001b[0m \u001b[0mself\u001b[0m\u001b[0;34m.\u001b[0m\u001b[0mnext\u001b[0m\u001b[0;34m(\u001b[0m\u001b[0;34m)\u001b[0m\u001b[0;34m\u001b[0m\u001b[0m\n\u001b[0m\u001b[1;32m     50\u001b[0m \u001b[0;34m\u001b[0m\u001b[0m\n\u001b[1;32m     51\u001b[0m     \u001b[0;32mdef\u001b[0m \u001b[0mnext\u001b[0m\u001b[0;34m(\u001b[0m\u001b[0mself\u001b[0m\u001b[0;34m)\u001b[0m\u001b[0;34m:\u001b[0m\u001b[0;34m\u001b[0m\u001b[0m\n",
      "\u001b[0;32m~/anaconda3/lib/python3.6/site-packages/tweepy/cursor.py\u001b[0m in \u001b[0;36mnext\u001b[0;34m(self)\u001b[0m\n\u001b[1;32m    195\u001b[0m         \u001b[0;32mif\u001b[0m \u001b[0mself\u001b[0m\u001b[0;34m.\u001b[0m\u001b[0mcurrent_page\u001b[0m \u001b[0;32mis\u001b[0m \u001b[0;32mNone\u001b[0m \u001b[0;32mor\u001b[0m \u001b[0mself\u001b[0m\u001b[0;34m.\u001b[0m\u001b[0mpage_index\u001b[0m \u001b[0;34m==\u001b[0m \u001b[0mlen\u001b[0m\u001b[0;34m(\u001b[0m\u001b[0mself\u001b[0m\u001b[0;34m.\u001b[0m\u001b[0mcurrent_page\u001b[0m\u001b[0;34m)\u001b[0m \u001b[0;34m-\u001b[0m \u001b[0;36m1\u001b[0m\u001b[0;34m:\u001b[0m\u001b[0;34m\u001b[0m\u001b[0m\n\u001b[1;32m    196\u001b[0m             \u001b[0;31m# Reached end of current page, get the next page...\u001b[0m\u001b[0;34m\u001b[0m\u001b[0;34m\u001b[0m\u001b[0m\n\u001b[0;32m--> 197\u001b[0;31m             \u001b[0mself\u001b[0m\u001b[0;34m.\u001b[0m\u001b[0mcurrent_page\u001b[0m \u001b[0;34m=\u001b[0m \u001b[0mself\u001b[0m\u001b[0;34m.\u001b[0m\u001b[0mpage_iterator\u001b[0m\u001b[0;34m.\u001b[0m\u001b[0mnext\u001b[0m\u001b[0;34m(\u001b[0m\u001b[0;34m)\u001b[0m\u001b[0;34m\u001b[0m\u001b[0m\n\u001b[0m\u001b[1;32m    198\u001b[0m             \u001b[0mself\u001b[0m\u001b[0;34m.\u001b[0m\u001b[0mpage_index\u001b[0m \u001b[0;34m=\u001b[0m \u001b[0;34m-\u001b[0m\u001b[0;36m1\u001b[0m\u001b[0;34m\u001b[0m\u001b[0m\n\u001b[1;32m    199\u001b[0m         \u001b[0mself\u001b[0m\u001b[0;34m.\u001b[0m\u001b[0mpage_index\u001b[0m \u001b[0;34m+=\u001b[0m \u001b[0;36m1\u001b[0m\u001b[0;34m\u001b[0m\u001b[0m\n",
      "\u001b[0;32m~/anaconda3/lib/python3.6/site-packages/tweepy/cursor.py\u001b[0m in \u001b[0;36mnext\u001b[0;34m(self)\u001b[0m\n\u001b[1;32m    106\u001b[0m \u001b[0;34m\u001b[0m\u001b[0m\n\u001b[1;32m    107\u001b[0m         \u001b[0;32mif\u001b[0m \u001b[0mself\u001b[0m\u001b[0;34m.\u001b[0m\u001b[0mindex\u001b[0m \u001b[0;34m>=\u001b[0m \u001b[0mlen\u001b[0m\u001b[0;34m(\u001b[0m\u001b[0mself\u001b[0m\u001b[0;34m.\u001b[0m\u001b[0mresults\u001b[0m\u001b[0;34m)\u001b[0m \u001b[0;34m-\u001b[0m \u001b[0;36m1\u001b[0m\u001b[0;34m:\u001b[0m\u001b[0;34m\u001b[0m\u001b[0m\n\u001b[0;32m--> 108\u001b[0;31m             \u001b[0mdata\u001b[0m \u001b[0;34m=\u001b[0m \u001b[0mself\u001b[0m\u001b[0;34m.\u001b[0m\u001b[0mmethod\u001b[0m\u001b[0;34m(\u001b[0m\u001b[0mmax_id\u001b[0m\u001b[0;34m=\u001b[0m\u001b[0mself\u001b[0m\u001b[0;34m.\u001b[0m\u001b[0mmax_id\u001b[0m\u001b[0;34m,\u001b[0m \u001b[0mparser\u001b[0m\u001b[0;34m=\u001b[0m\u001b[0mRawParser\u001b[0m\u001b[0;34m(\u001b[0m\u001b[0;34m)\u001b[0m\u001b[0;34m,\u001b[0m \u001b[0;34m*\u001b[0m\u001b[0mself\u001b[0m\u001b[0;34m.\u001b[0m\u001b[0margs\u001b[0m\u001b[0;34m,\u001b[0m \u001b[0;34m**\u001b[0m\u001b[0mself\u001b[0m\u001b[0;34m.\u001b[0m\u001b[0mkargs\u001b[0m\u001b[0;34m)\u001b[0m\u001b[0;34m\u001b[0m\u001b[0m\n\u001b[0m\u001b[1;32m    109\u001b[0m \u001b[0;34m\u001b[0m\u001b[0m\n\u001b[1;32m    110\u001b[0m             \u001b[0;32mif\u001b[0m \u001b[0mhasattr\u001b[0m\u001b[0;34m(\u001b[0m\u001b[0mself\u001b[0m\u001b[0;34m.\u001b[0m\u001b[0mmethod\u001b[0m\u001b[0;34m,\u001b[0m \u001b[0;34m'__self__'\u001b[0m\u001b[0;34m)\u001b[0m\u001b[0;34m:\u001b[0m\u001b[0;34m\u001b[0m\u001b[0m\n",
      "\u001b[0;32m~/anaconda3/lib/python3.6/site-packages/tweepy/binder.py\u001b[0m in \u001b[0;36m_call\u001b[0;34m(*args, **kwargs)\u001b[0m\n\u001b[1;32m    248\u001b[0m             \u001b[0;32mreturn\u001b[0m \u001b[0mmethod\u001b[0m\u001b[0;34m\u001b[0m\u001b[0m\n\u001b[1;32m    249\u001b[0m         \u001b[0;32melse\u001b[0m\u001b[0;34m:\u001b[0m\u001b[0;34m\u001b[0m\u001b[0m\n\u001b[0;32m--> 250\u001b[0;31m             \u001b[0;32mreturn\u001b[0m \u001b[0mmethod\u001b[0m\u001b[0;34m.\u001b[0m\u001b[0mexecute\u001b[0m\u001b[0;34m(\u001b[0m\u001b[0;34m)\u001b[0m\u001b[0;34m\u001b[0m\u001b[0m\n\u001b[0m\u001b[1;32m    251\u001b[0m \u001b[0;34m\u001b[0m\u001b[0m\n\u001b[1;32m    252\u001b[0m     \u001b[0;31m# Set pagination mode\u001b[0m\u001b[0;34m\u001b[0m\u001b[0;34m\u001b[0m\u001b[0m\n",
      "\u001b[0;32m~/anaconda3/lib/python3.6/site-packages/tweepy/binder.py\u001b[0m in \u001b[0;36mexecute\u001b[0;34m(self)\u001b[0m\n\u001b[1;32m    232\u001b[0m                     \u001b[0;32mraise\u001b[0m \u001b[0mRateLimitError\u001b[0m\u001b[0;34m(\u001b[0m\u001b[0merror_msg\u001b[0m\u001b[0;34m,\u001b[0m \u001b[0mresp\u001b[0m\u001b[0;34m)\u001b[0m\u001b[0;34m\u001b[0m\u001b[0m\n\u001b[1;32m    233\u001b[0m                 \u001b[0;32melse\u001b[0m\u001b[0;34m:\u001b[0m\u001b[0;34m\u001b[0m\u001b[0m\n\u001b[0;32m--> 234\u001b[0;31m                     \u001b[0;32mraise\u001b[0m \u001b[0mTweepError\u001b[0m\u001b[0;34m(\u001b[0m\u001b[0merror_msg\u001b[0m\u001b[0;34m,\u001b[0m \u001b[0mresp\u001b[0m\u001b[0;34m,\u001b[0m \u001b[0mapi_code\u001b[0m\u001b[0;34m=\u001b[0m\u001b[0mapi_error_code\u001b[0m\u001b[0;34m)\u001b[0m\u001b[0;34m\u001b[0m\u001b[0m\n\u001b[0m\u001b[1;32m    235\u001b[0m \u001b[0;34m\u001b[0m\u001b[0m\n\u001b[1;32m    236\u001b[0m             \u001b[0;31m# Parse the response payload\u001b[0m\u001b[0;34m\u001b[0m\u001b[0;34m\u001b[0m\u001b[0m\n",
      "\u001b[0;31mTweepError\u001b[0m: Twitter error response: status code = 429"
     ]
    }
   ],
   "source": [
    "query = [u\"\\U0001F602\",u\"\\U0001F600\",u\"\\U0001F389\",u\"\\U0001F44D\",u\"\\U0001F4A9\"]\n",
    "\n",
    "idx = 1\n",
    "\n",
    "api = tweepy.API(auth)\n",
    "search = tweepy.Cursor(api.search, q=\"trump -filter:retweets\",lang = 'en').items(10000)\n",
    "#filename = 'emoji_nostream_' + str(idx) + '.csv'\n",
    "filename = 'quantum.csv'\n",
    "with open(filename,'a',newline='\\n') as f:\n",
    "    writer = csv.DictWriter(f,fieldnames=['tweet','label'])\n",
    "    writer.writeheader()\n",
    "    for tweet in search:\n",
    "        text = tweet.text        \n",
    "        if query[idx] in text and (not tweet.retweeted):# and ('RT @' not in tweet.text):\n",
    "            writer.writerow({'tweet':text,'label':idx}) "
   ]
  },
  {
   "cell_type": "markdown",
   "metadata": {},
   "source": [
    "#query = 'quantum'\n",
    "query = [u\"\\U0001F602\",u\"\\U0001F600\",u\"\\U0001F389\",u\"\\U0001F44D\",u\"\\U0001F4A9\"]\n",
    "\n",
    "idx = 1\n",
    "\n",
    "api = tweepy.API(auth)\n",
    "search = tweepy.Cursor(api.search, q=query[idx],lang = 'en').items()\n",
    "filename = 'emoji_nostream_' + str(idx) + '.csv'\n",
    "\n",
    "with open(filename,'a',newline='\\n') as f:\n",
    "    writer = csv.DictWriter(f,fieldnames=['tweet','label'])\n",
    "    writer.writeheader()\n",
    "    for tweet in search:\n",
    "        text = tweet.text        \n",
    "        if query[idx] in text and (not tweet.retweeted):# and ('RT @' not in tweet.text):\n",
    "            writer.writerow({'tweet':text,'label':idx}) "
   ]
  },
  {
   "cell_type": "code",
   "execution_count": 68,
   "metadata": {},
   "outputs": [
    {
     "data": {
      "text/html": [
       "<div>\n",
       "<style scoped>\n",
       "    .dataframe tbody tr th:only-of-type {\n",
       "        vertical-align: middle;\n",
       "    }\n",
       "\n",
       "    .dataframe tbody tr th {\n",
       "        vertical-align: top;\n",
       "    }\n",
       "\n",
       "    .dataframe thead th {\n",
       "        text-align: right;\n",
       "    }\n",
       "</style>\n",
       "<table border=\"1\" class=\"dataframe\">\n",
       "  <thead>\n",
       "    <tr style=\"text-align: right;\">\n",
       "      <th></th>\n",
       "      <th>tweet</th>\n",
       "      <th>label</th>\n",
       "    </tr>\n",
       "  </thead>\n",
       "  <tbody>\n",
       "    <tr>\n",
       "      <th>0</th>\n",
       "      <td>@JensenAckles \\n😀HAPPY 14 !!!!!!!!!!!!!!!!!!👍👌...</td>\n",
       "      <td>1</td>\n",
       "    </tr>\n",
       "    <tr>\n",
       "      <th>1</th>\n",
       "      <td>Puppy sitting Rumi tonight! Great way to end a...</td>\n",
       "      <td>1</td>\n",
       "    </tr>\n",
       "    <tr>\n",
       "      <th>2</th>\n",
       "      <td>RT @20KD18: Good Day Everyone 😀 May I ask a li...</td>\n",
       "      <td>1</td>\n",
       "    </tr>\n",
       "    <tr>\n",
       "      <th>3</th>\n",
       "      <td>Habby Birzday @Pali_Mudda 🤓 thanks for sharing...</td>\n",
       "      <td>1</td>\n",
       "    </tr>\n",
       "    <tr>\n",
       "      <th>4</th>\n",
       "      <td>RT @Rohandinho_: Barca, Real, Bayern, Man City...</td>\n",
       "      <td>1</td>\n",
       "    </tr>\n",
       "  </tbody>\n",
       "</table>\n",
       "</div>"
      ],
      "text/plain": [
       "                                               tweet  label\n",
       "0  @JensenAckles \\n😀HAPPY 14 !!!!!!!!!!!!!!!!!!👍👌...      1\n",
       "1  Puppy sitting Rumi tonight! Great way to end a...      1\n",
       "2  RT @20KD18: Good Day Everyone 😀 May I ask a li...      1\n",
       "3  Habby Birzday @Pali_Mudda 🤓 thanks for sharing...      1\n",
       "4  RT @Rohandinho_: Barca, Real, Bayern, Man City...      1"
      ]
     },
     "execution_count": 68,
     "metadata": {},
     "output_type": "execute_result"
    }
   ],
   "source": [
    "df = pd.read_csv(filename)\n",
    "df.head()"
   ]
  },
  {
   "cell_type": "code",
   "execution_count": 60,
   "metadata": {},
   "outputs": [
    {
     "data": {
      "text/plain": [
       "(2132, 2)"
      ]
     },
     "execution_count": 60,
     "metadata": {},
     "output_type": "execute_result"
    }
   ],
   "source": [
    "df.shape"
   ]
  },
  {
   "cell_type": "code",
   "execution_count": 39,
   "metadata": {},
   "outputs": [
    {
     "ename": "AttributeError",
     "evalue": "'_csv.writer' object has no attribute 'writeheader'",
     "output_type": "error",
     "traceback": [
      "\u001b[0;31m---------------------------------------------------------------------------\u001b[0m",
      "\u001b[0;31mAttributeError\u001b[0m                            Traceback (most recent call last)",
      "\u001b[0;32m<ipython-input-39-5d433837ac59>\u001b[0m in \u001b[0;36m<module>\u001b[0;34m()\u001b[0m\n\u001b[1;32m      3\u001b[0m \u001b[0;31m#Use csv Writer\u001b[0m\u001b[0;34m\u001b[0m\u001b[0;34m\u001b[0m\u001b[0m\n\u001b[1;32m      4\u001b[0m \u001b[0mcsvWriter\u001b[0m \u001b[0;34m=\u001b[0m \u001b[0mcsv\u001b[0m\u001b[0;34m.\u001b[0m\u001b[0mwriter\u001b[0m\u001b[0;34m(\u001b[0m\u001b[0mcsvFile\u001b[0m\u001b[0;34m)\u001b[0m\u001b[0;34m\u001b[0m\u001b[0m\n\u001b[0;32m----> 5\u001b[0;31m \u001b[0mcsvWriter\u001b[0m\u001b[0;34m.\u001b[0m\u001b[0mwriteheader\u001b[0m\u001b[0;34m(\u001b[0m\u001b[0;34m)\u001b[0m\u001b[0;34m\u001b[0m\u001b[0m\n\u001b[0m\u001b[1;32m      6\u001b[0m \u001b[0;32mfor\u001b[0m \u001b[0mtweet\u001b[0m \u001b[0;32min\u001b[0m \u001b[0mtweepy\u001b[0m\u001b[0;34m.\u001b[0m\u001b[0mCursor\u001b[0m\u001b[0;34m(\u001b[0m\u001b[0mapi\u001b[0m\u001b[0;34m.\u001b[0m\u001b[0msearch\u001b[0m\u001b[0;34m,\u001b[0m\u001b[0mq\u001b[0m\u001b[0;34m=\u001b[0m\u001b[0;34m'u\\U0001F44D -filter:retweets'\u001b[0m\u001b[0;34m,\u001b[0m\u001b[0mSince\u001b[0m\u001b[0;34m=\u001b[0m\u001b[0;34m\"2016-08-09\"\u001b[0m\u001b[0;34m,\u001b[0m\u001b[0mlang\u001b[0m\u001b[0;34m=\u001b[0m\u001b[0;34m\"en\"\u001b[0m\u001b[0;34m)\u001b[0m\u001b[0;34m.\u001b[0m\u001b[0mitems\u001b[0m\u001b[0;34m(\u001b[0m\u001b[0;36m100000\u001b[0m\u001b[0;34m)\u001b[0m\u001b[0;34m:\u001b[0m\u001b[0;34m\u001b[0m\u001b[0m\n\u001b[1;32m      7\u001b[0m     \u001b[0mcsvWriter\u001b[0m\u001b[0;34m.\u001b[0m\u001b[0mwriterow\u001b[0m\u001b[0;34m(\u001b[0m\u001b[0;34m[\u001b[0m\u001b[0mtweet\u001b[0m\u001b[0;34m.\u001b[0m\u001b[0mcreated_at\u001b[0m\u001b[0;34m,\u001b[0m \u001b[0mtweet\u001b[0m\u001b[0;34m.\u001b[0m\u001b[0mtext\u001b[0m\u001b[0;34m,\u001b[0m \u001b[0mtweet\u001b[0m\u001b[0;34m.\u001b[0m\u001b[0mretweet_count\u001b[0m\u001b[0;34m,\u001b[0m \u001b[0mtweet\u001b[0m\u001b[0;34m.\u001b[0m\u001b[0mid\u001b[0m\u001b[0;34m,\u001b[0m \u001b[0mtweet\u001b[0m\u001b[0;34m.\u001b[0m\u001b[0muser\u001b[0m\u001b[0;34m.\u001b[0m\u001b[0mscreen_name\u001b[0m\u001b[0;34m]\u001b[0m\u001b[0;34m)\u001b[0m\u001b[0;34m\u001b[0m\u001b[0m\n",
      "\u001b[0;31mAttributeError\u001b[0m: '_csv.writer' object has no attribute 'writeheader'"
     ]
    }
   ],
   "source": [
    "# https://stackoverflow.com/questions/38872195/tweepy-exclude-retweets\n",
    "csvFile = open('e3.csv', 'a')\n",
    "#Use csv Writer\n",
    "csvWriter = csv.writer(csvFile)\n",
    "csvWriter.writeheader()\n",
    "for tweet in tweepy.Cursor(api.search,q='u\\U0001F44D -filter:retweets',Since=\"2016-08-09\",lang=\"en\").items(100000):\n",
    "    csvWriter.writerow([tweet.created_at, tweet.text, tweet.retweet_count, tweet.id, tweet.user.screen_name])\n",
    "csvFile.close()"
   ]
  },
  {
   "cell_type": "code",
   "execution_count": 38,
   "metadata": {},
   "outputs": [
    {
     "name": "stdout",
     "output_type": "stream",
     "text": [
      "(2586, 5)\n"
     ]
    },
    {
     "data": {
      "text/html": [
       "<div>\n",
       "<style scoped>\n",
       "    .dataframe tbody tr th:only-of-type {\n",
       "        vertical-align: middle;\n",
       "    }\n",
       "\n",
       "    .dataframe tbody tr th {\n",
       "        vertical-align: top;\n",
       "    }\n",
       "\n",
       "    .dataframe thead th {\n",
       "        text-align: right;\n",
       "    }\n",
       "</style>\n",
       "<table border=\"1\" class=\"dataframe\">\n",
       "  <thead>\n",
       "    <tr style=\"text-align: right;\">\n",
       "      <th></th>\n",
       "      <th>2018-04-06 21:07:12</th>\n",
       "      <th>@dkrwilliams @seanhannity @jimmykimmel @colbertlateshow @CBS F\n",
       "U\n",
       "C\n",
       "K\n",
       "\n",
       "O\n",
       "F\n",
       "F\n",
       "\n",
       "V\n",
       "L\n",
       "A\n",
       "D\n",
       "\n",
       "We see you.\n",
       "\n",
       "🇷🇺🇷🇺🇷🇺🇷🇺🇷🇺🇷🇺🇷🇺🇷🇺… https://t.co/op8BvQkZOk</th>\n",
       "      <th>0</th>\n",
       "      <th>982364119507619842</th>\n",
       "      <th>ghostofnero</th>\n",
       "    </tr>\n",
       "  </thead>\n",
       "  <tbody>\n",
       "    <tr>\n",
       "      <th>0</th>\n",
       "      <td>2018-04-06 20:55:54</td>\n",
       "      <td>Just listen to the all scripted 💩in unison wit...</td>\n",
       "      <td>5</td>\n",
       "      <td>982361278550302720</td>\n",
       "      <td>emfvet78</td>\n",
       "    </tr>\n",
       "    <tr>\n",
       "      <th>1</th>\n",
       "      <td>2018-04-06 20:55:30</td>\n",
       "      <td>@President1Trump @GET4208 U know when someone ...</td>\n",
       "      <td>2</td>\n",
       "      <td>982361175575818240</td>\n",
       "      <td>ElaineC26681844</td>\n",
       "    </tr>\n",
       "    <tr>\n",
       "      <th>2</th>\n",
       "      <td>2018-04-06 20:38:56</td>\n",
       "      <td>I Told u Stay Down  Cause  I Know   💩 Could  G...</td>\n",
       "      <td>0</td>\n",
       "      <td>982357008526569472</td>\n",
       "      <td>aaron_w26</td>\n",
       "    </tr>\n",
       "    <tr>\n",
       "      <th>3</th>\n",
       "      <td>2018-04-06 20:38:39</td>\n",
       "      <td>@Egyptiankingsal @EmmaLFC1 Oh my I will let u ...</td>\n",
       "      <td>0</td>\n",
       "      <td>982356936288071680</td>\n",
       "      <td>WilsonFlair</td>\n",
       "    </tr>\n",
       "    <tr>\n",
       "      <th>4</th>\n",
       "      <td>2018-04-06 20:36:23</td>\n",
       "      <td>@joebook73 @beer_mood @WhiteHouse There ya go ...</td>\n",
       "      <td>0</td>\n",
       "      <td>982356366554738688</td>\n",
       "      <td>simply_ss598</td>\n",
       "    </tr>\n",
       "  </tbody>\n",
       "</table>\n",
       "</div>"
      ],
      "text/plain": [
       "   2018-04-06 21:07:12  \\\n",
       "0  2018-04-06 20:55:54   \n",
       "1  2018-04-06 20:55:30   \n",
       "2  2018-04-06 20:38:56   \n",
       "3  2018-04-06 20:38:39   \n",
       "4  2018-04-06 20:36:23   \n",
       "\n",
       "  @dkrwilliams @seanhannity @jimmykimmel @colbertlateshow @CBS F\\nU\\nC\\nK\\n\\nO\\nF\\nF\\n\\nV\\nL\\nA\\nD\\n\\nWe see you.\\n\\n🇷🇺🇷🇺🇷🇺🇷🇺🇷🇺🇷🇺🇷🇺🇷🇺… https://t.co/op8BvQkZOk  \\\n",
       "0  Just listen to the all scripted 💩in unison wit...                                                                                                             \n",
       "1  @President1Trump @GET4208 U know when someone ...                                                                                                             \n",
       "2  I Told u Stay Down  Cause  I Know   💩 Could  G...                                                                                                             \n",
       "3  @Egyptiankingsal @EmmaLFC1 Oh my I will let u ...                                                                                                             \n",
       "4  @joebook73 @beer_mood @WhiteHouse There ya go ...                                                                                                             \n",
       "\n",
       "   0  982364119507619842      ghostofnero  \n",
       "0  5  982361278550302720         emfvet78  \n",
       "1  2  982361175575818240  ElaineC26681844  \n",
       "2  0  982357008526569472        aaron_w26  \n",
       "3  0  982356936288071680      WilsonFlair  \n",
       "4  0  982356366554738688     simply_ss598  "
      ]
     },
     "execution_count": 38,
     "metadata": {},
     "output_type": "execute_result"
    }
   ],
   "source": [
    "import pandas as pd\n",
    "#f = pd.read_json('emoji1 copy.json', lines=True)\n",
    "f = pd.read_csv('e4b.csv')\n",
    "print(f.shape)\n",
    "f.head()"
   ]
  },
  {
   "cell_type": "markdown",
   "metadata": {},
   "source": [
    "### 2.2 - Stream"
   ]
  },
  {
   "cell_type": "markdown",
   "metadata": {},
   "source": [
    "Click [here](https://developer.twitter.com/en/docs/tweets/filter-realtime/guides/basic-stream-parameters) for Standard streaming API request parameters. The github is [here](https://github.com/tweepy/tweepy/blob/v3.4.0/tweepy/streaming.py)."
   ]
  },
  {
   "cell_type": "markdown",
   "metadata": {},
   "source": [
    "##### 2.2.1 - Filter out retweet"
   ]
  },
  {
   "cell_type": "code",
   "execution_count": 4,
   "metadata": {},
   "outputs": [],
   "source": [
    "import time\n",
    "import json\n",
    "\n",
    "class MyListener(tweepy.StreamListener):\n",
    "    \"\"\"\n",
    "    set a time limit for the stream\n",
    "    \"\"\"\n",
    "    def __init__(self, time_limit=10,label=0):\n",
    "        self.start_time = time.time()\n",
    "        self.limit = time_limit\n",
    "        self.label = label\n",
    "        super(MyListener, self).__init__()\n",
    "        \n",
    "    def on_data(self, data):\n",
    "        if (time.time() - self.start_time) < self.limit:\n",
    "            t = json.loads(data)\n",
    "            with open('emoji_'+str(self.label)+'.csv','a',newline='\\n') as f:\n",
    "                if not t['text'].startswith('RT'):\n",
    "                    writer = csv.DictWriter(f,fieldnames=['tweet','label'])\n",
    "                    writer.writerow({'tweet':t['text'],'label': self.label})              \n",
    "            return True\n",
    "        else:\n",
    "            return False\n",
    "        \n",
    "    def on_error(self, status_code):\n",
    "        if status_code == 420 or status_code == 429:\n",
    "            print('rate limit error: status code is ', status_code)\n",
    "            return False\n",
    "        \n",
    "class MyListener_notimelimit(tweepy.StreamListener):\n",
    "    \"\"\"\n",
    "    there is no time limit, the stream will be stopped by hand\n",
    "    \"\"\"\n",
    "    def __init__(self, label=0):\n",
    "        self.label = label\n",
    "        super(MyListener_notimelimit, self).__init__()\n",
    "        \n",
    "    def on_data(self, data):\n",
    "        t = json.loads(data)\n",
    "        with open('emoji_'+str(self.label)+'.csv','a',newline='\\n') as f:\n",
    "            if not t['text'].startswith('RT'):\n",
    "                writer = csv.DictWriter(f,fieldnames=['tweet','label'])\n",
    "                writer.writerow({'tweet':t['text'],'label': self.label})              \n",
    "        return True\n",
    "        \n",
    "    def on_error(self, status_code):\n",
    "        if status_code == 420 or status_code == 429:\n",
    "            print('rate limit error: status code is ', status_code)\n",
    "            return False\n"
   ]
  },
  {
   "cell_type": "code",
   "execution_count": 5,
   "metadata": {},
   "outputs": [],
   "source": [
    "def scrape_emoji(query,idx,time_limit=0,first=False):    \n",
    "    '''\n",
    "    (1) time_limit indicates the length of running time, \n",
    "    (2) first denotes whether it is the first time to run, because if False, don't write the header\n",
    "    '''\n",
    "    if first:\n",
    "        filename = 'emoji_' + str(idx) + '.csv'\n",
    "        with open(filename,'w',newline='\\n') as f:\n",
    "            writer = csv.DictWriter(f,fieldnames=['tweet','label'])\n",
    "            writer.writeheader()\n",
    "    # if there is NO time limit\n",
    "    if time_limit==0: \n",
    "        twitterStream = tweepy.Stream(auth, MyListener_notimelimit(label=idx))\n",
    "    # if there is time limit\n",
    "    else:\n",
    "        twitterStream = tweepy.Stream(auth, MyListener(time_limit=time_limit,label=idx))\n",
    "    twitterStream.filter(track=[query[idx]], languages = [\"en\"], stall_warnings = True, async=True)"
   ]
  },
  {
   "cell_type": "code",
   "execution_count": 6,
   "metadata": {},
   "outputs": [],
   "source": [
    "twitterStream = tweepy.Stream(auth, MyListener(time_limit=10,label=4))\n",
    "twitterStream.filter(track=[u\"\\U0001F4A9\"+ \"-filter:retweets\"], languages = [\"en\"], stall_warnings = True, async=True)"
   ]
  },
  {
   "cell_type": "code",
   "execution_count": 49,
   "metadata": {},
   "outputs": [],
   "source": [
    "query = [u\"\\U0001F602\",u\"\\U0001F600\",u\"\\U0001F389\",u\"\\U0001F44D\",u\"\\U0001F4A9\"]\n",
    "scrape_emoji(query,idx=4,time_limit=0,first=False)"
   ]
  },
  {
   "cell_type": "code",
   "execution_count": 7,
   "metadata": {},
   "outputs": [
    {
     "name": "stdout",
     "output_type": "stream",
     "text": [
      "test\n"
     ]
    }
   ],
   "source": [
    "print('test')"
   ]
  },
  {
   "cell_type": "code",
   "execution_count": 36,
   "metadata": {},
   "outputs": [
    {
     "name": "stdout",
     "output_type": "stream",
     "text": [
      "(905, 2)\n"
     ]
    },
    {
     "data": {
      "text/html": [
       "<div>\n",
       "<style scoped>\n",
       "    .dataframe tbody tr th:only-of-type {\n",
       "        vertical-align: middle;\n",
       "    }\n",
       "\n",
       "    .dataframe tbody tr th {\n",
       "        vertical-align: top;\n",
       "    }\n",
       "\n",
       "    .dataframe thead th {\n",
       "        text-align: right;\n",
       "    }\n",
       "</style>\n",
       "<table border=\"1\" class=\"dataframe\">\n",
       "  <thead>\n",
       "    <tr style=\"text-align: right;\">\n",
       "      <th></th>\n",
       "      <th>tweet</th>\n",
       "      <th>label</th>\n",
       "    </tr>\n",
       "  </thead>\n",
       "  <tbody>\n",
       "    <tr>\n",
       "      <th>0</th>\n",
       "      <td>I love him so much omg 😂 https://t.co/NZAV825luv</td>\n",
       "      <td>0</td>\n",
       "    </tr>\n",
       "    <tr>\n",
       "      <th>1</th>\n",
       "      <td>@ELYSIIXN My video? AH IM SO CONFUSED in a way...</td>\n",
       "      <td>0</td>\n",
       "    </tr>\n",
       "    <tr>\n",
       "      <th>2</th>\n",
       "      <td>Real deal , if i ever did this I’m having a as...</td>\n",
       "      <td>0</td>\n",
       "    </tr>\n",
       "    <tr>\n",
       "      <th>3</th>\n",
       "      <td>A rare Gordon Ramsay burn 😂</td>\n",
       "      <td>0</td>\n",
       "    </tr>\n",
       "    <tr>\n",
       "      <th>4</th>\n",
       "      <td>@karleybreann7 Drives me crazy 😂</td>\n",
       "      <td>0</td>\n",
       "    </tr>\n",
       "  </tbody>\n",
       "</table>\n",
       "</div>"
      ],
      "text/plain": [
       "                                               tweet  label\n",
       "0   I love him so much omg 😂 https://t.co/NZAV825luv      0\n",
       "1  @ELYSIIXN My video? AH IM SO CONFUSED in a way...      0\n",
       "2  Real deal , if i ever did this I’m having a as...      0\n",
       "3                        A rare Gordon Ramsay burn 😂      0\n",
       "4                   @karleybreann7 Drives me crazy 😂      0"
      ]
     },
     "execution_count": 36,
     "metadata": {},
     "output_type": "execute_result"
    }
   ],
   "source": [
    "filename = 'emoji_' + str(0) + '.csv'\n",
    "f = pd.read_csv(filename)\n",
    "print(f.shape)\n",
    "f.head()"
   ]
  },
  {
   "cell_type": "code",
   "execution_count": 4,
   "metadata": {},
   "outputs": [
    {
     "name": "stdout",
     "output_type": "stream",
     "text": [
      "(172, 35)\n"
     ]
    }
   ],
   "source": [
    "import json\n",
    "import pandas as pd\n",
    "f = pd.read_json('emoji1 copy.json', lines=True)\n",
    "#f = pd.read_csv('emoji_3 copy.csv')\n",
    "print(f.shape)"
   ]
  },
  {
   "cell_type": "code",
   "execution_count": 8,
   "metadata": {},
   "outputs": [
    {
     "data": {
      "text/plain": [
       "'RT @code: Spring has arrived 🌱🌸🌷🐣 and so has another @code release: The March update is here 🎉 Download: https://t.co/jjhF3nxpcc and see wh…'"
      ]
     },
     "execution_count": 8,
     "metadata": {},
     "output_type": "execute_result"
    }
   ],
   "source": [
    "f.text[0]"
   ]
  },
  {
   "cell_type": "markdown",
   "metadata": {},
   "source": [
    "##### 2.2.2 - don't filter out retweet"
   ]
  },
  {
   "cell_type": "code",
   "execution_count": 23,
   "metadata": {},
   "outputs": [],
   "source": [
    "import time\n",
    "import json\n",
    "\n",
    "class MyListener(tweepy.StreamListener):\n",
    "    \"\"\"\n",
    "    set a time limit for the stream\n",
    "    \"\"\"\n",
    "    def __init__(self, label):\n",
    "        self.label = label\n",
    "        super(MyListener, self).__init__()\n",
    "        \n",
    "    def on_data(self, data):\n",
    "        try:\n",
    "            with open('emoji_'+str(self.label)+'.json', 'a') as f: \n",
    "                f.write(data)\n",
    "                return True\n",
    "        except BaseException as e: \n",
    "             print(\"Error on_data: %s\" % str(e))\n",
    "        return True\n",
    "\n",
    "        \n",
    "#     def on_status(self, status):\n",
    "#         print(status.text)\n",
    "#         with open('./json/emoji_'+str(self.label) + '.json','a') as f:\n",
    "#             f.write(status.text)\n",
    "        \n",
    "    def on_error(self, status_code):\n",
    "        if status_code == 420:\n",
    "            print('error: status code rz is 420')\n",
    "            return False\n",
    "        \n",
    "query = [u\"\\U0001F602\",u\"\\U0001F600\",u\"\\U0001F389\",u\"\\U0001F44D\",u\"\\U0001F4A9\"]\n",
    "idx=4\n",
    "\n",
    "twitterStream = tweepy.Stream(auth, MyListener(label=idx))\n",
    "twitterStream.filter(track=[query[idx]], languages = [\"en\"], stall_warnings = True, async=True)"
   ]
  },
  {
   "cell_type": "code",
   "execution_count": 4,
   "metadata": {},
   "outputs": [],
   "source": [
    "import time\n",
    "import json\n",
    "\n",
    "class MyListener(tweepy.StreamListener):\n",
    "        \n",
    "    def on_data(self, data):\n",
    "        try:\n",
    "            with open('./json/emoji_4a.json', 'a') as f: \n",
    "                f.write(data)\n",
    "                return True\n",
    "        except BaseException as e: \n",
    "             print(\"Error on_data: %s\" % str(e))\n",
    "        return True\n",
    "        \n",
    "    def on_error(self, status_code):\n",
    "        if status_code == 420:\n",
    "            print('error: status code rz is 420')\n",
    "            return False\n",
    "        \n",
    "query = [u\"\\U0001F602\",u\"\\U0001F600\",u\"\\U0001F389\",u\"\\U0001F44D\",u\"\\U0001F4A9\"]\n",
    "idx=4\n",
    "\n",
    "twitterStream = tweepy.Stream(auth, MyListener())\n",
    "twitterStream.filter(track=[query[idx]], languages = [\"en\"], stall_warnings = True, async=True)"
   ]
  },
  {
   "cell_type": "code",
   "execution_count": 7,
   "metadata": {},
   "outputs": [
    {
     "data": {
      "text/plain": [
       "(5, 35)"
      ]
     },
     "execution_count": 7,
     "metadata": {},
     "output_type": "execute_result"
    }
   ],
   "source": [
    "import pandas as pd\n",
    "\n",
    "f = pd.read_json('./json/emoji_4a.json',lines=True)\n",
    "f.shape"
   ]
  },
  {
   "cell_type": "markdown",
   "metadata": {},
   "source": [
    "### 2.3 - Concatenation"
   ]
  },
  {
   "cell_type": "code",
   "execution_count": 3,
   "metadata": {
    "scrolled": true
   },
   "outputs": [
    {
     "name": "stdout",
     "output_type": "stream",
     "text": [
      "df0.shape=  (2376, 2)\n",
      "df1.shape=  (1886, 2)\n",
      "df2.shape=  (4607, 2)\n",
      "df3.shape=  (1860, 2)\n",
      "df4.shape=  (2132, 2)\n"
     ]
    }
   ],
   "source": [
    "filenames = ['./inputs/emoji_nostream_' + str(idx) + '.csv' for idx in range(5)]\n",
    "dfs = [pd.read_csv(filename) for filename in filenames]\n",
    "for i in range(5):\n",
    "    print('df{}.shape= '.format(i), dfs[i].shape)"
   ]
  },
  {
   "cell_type": "markdown",
   "metadata": {},
   "source": [
    "[DataFrame.reset_index](https://pandas.pydata.org/pandas-docs/stable/generated/pandas.DataFrame.reset_index.html). I set drop=True to remove the old index. [DataFrame.sample](https://pandas.pydata.org/pandas-docs/stable/generated/pandas.DataFrame.sample.html)."
   ]
  },
  {
   "cell_type": "code",
   "execution_count": 4,
   "metadata": {},
   "outputs": [
    {
     "name": "stdout",
     "output_type": "stream",
     "text": [
      "length of df0 = 2376\n",
      "length of df1 = 1886\n",
      "length of df2 = 2304\n",
      "length of df3 = 1860\n",
      "length of df4 = 2132\n"
     ]
    }
   ],
   "source": [
    "dfs[2] = dfs[2].sample(frac=0.5,random_state=99).reset_index(drop=True)\n",
    "for i in range(5):\n",
    "    print('length of df{} ='.format(i),len(dfs[i]))"
   ]
  },
  {
   "cell_type": "markdown",
   "metadata": {},
   "source": [
    "Now the four categories have similar size. We are good to go."
   ]
  },
  {
   "cell_type": "code",
   "execution_count": 5,
   "metadata": {},
   "outputs": [
    {
     "data": {
      "text/html": [
       "<div>\n",
       "<style scoped>\n",
       "    .dataframe tbody tr th:only-of-type {\n",
       "        vertical-align: middle;\n",
       "    }\n",
       "\n",
       "    .dataframe tbody tr th {\n",
       "        vertical-align: top;\n",
       "    }\n",
       "\n",
       "    .dataframe thead th {\n",
       "        text-align: right;\n",
       "    }\n",
       "</style>\n",
       "<table border=\"1\" class=\"dataframe\">\n",
       "  <thead>\n",
       "    <tr style=\"text-align: right;\">\n",
       "      <th></th>\n",
       "      <th>tweet</th>\n",
       "      <th>label</th>\n",
       "    </tr>\n",
       "  </thead>\n",
       "  <tbody>\n",
       "    <tr>\n",
       "      <th>0</th>\n",
       "      <td>RT @denmatai190: | 👑411K FOLLOWERS!!!👑\\n|∧∧\"\"\\...</td>\n",
       "      <td>3</td>\n",
       "    </tr>\n",
       "    <tr>\n",
       "      <th>1</th>\n",
       "      <td>@6CentsRose My nieces and nephews were young, ...</td>\n",
       "      <td>1</td>\n",
       "    </tr>\n",
       "    <tr>\n",
       "      <th>2</th>\n",
       "      <td>@HobiLove94 Happy Birthday 🎉🎈</td>\n",
       "      <td>2</td>\n",
       "    </tr>\n",
       "    <tr>\n",
       "      <th>3</th>\n",
       "      <td>@bravoholclique Me! I never get a chance to wa...</td>\n",
       "      <td>1</td>\n",
       "    </tr>\n",
       "    <tr>\n",
       "      <th>4</th>\n",
       "      <td>RT @RoanhorseBex: 🎉ANNOUNCEMENT🎉That Anasazi-i...</td>\n",
       "      <td>2</td>\n",
       "    </tr>\n",
       "  </tbody>\n",
       "</table>\n",
       "</div>"
      ],
      "text/plain": [
       "                                               tweet label\n",
       "0  RT @denmatai190: | 👑411K FOLLOWERS!!!👑\\n|∧∧\"\"\\...     3\n",
       "1  @6CentsRose My nieces and nephews were young, ...     1\n",
       "2                      @HobiLove94 Happy Birthday 🎉🎈     2\n",
       "3  @bravoholclique Me! I never get a chance to wa...     1\n",
       "4  RT @RoanhorseBex: 🎉ANNOUNCEMENT🎉That Anasazi-i...     2"
      ]
     },
     "execution_count": 5,
     "metadata": {},
     "output_type": "execute_result"
    }
   ],
   "source": [
    "df_raw = pd.concat(dfs)\n",
    "\n",
    "#shuffle the row to mix the five categories\n",
    "df_raw = df_raw.sample(frac=1,random_state=99).reset_index(drop=True)\n",
    "df_raw.head()"
   ]
  },
  {
   "cell_type": "code",
   "execution_count": 324,
   "metadata": {},
   "outputs": [
    {
     "data": {
      "text/plain": [
       "(10558, 2)"
      ]
     },
     "execution_count": 324,
     "metadata": {},
     "output_type": "execute_result"
    }
   ],
   "source": [
    "df_raw.shape"
   ]
  },
  {
   "cell_type": "code",
   "execution_count": 325,
   "metadata": {},
   "outputs": [
    {
     "data": {
      "text/plain": [
       "'RT @denmatai190: | 👑411K FOLLOWERS!!!👑\\n|∧∧\"\"\\n| * ¯ ³¯)Chu💕Makina Yui🎥💘\\n|⊂ノ\\u3000\\u3000\\u3000\\u3000  \\n \\nTHANK YOU GUYS SO MUCH😉👍\\n\\n👏WeAllLovePorn👏 https://t.co/P…'"
      ]
     },
     "execution_count": 325,
     "metadata": {},
     "output_type": "execute_result"
    }
   ],
   "source": [
    "df_raw.iloc[0].tweet"
   ]
  },
  {
   "cell_type": "markdown",
   "metadata": {},
   "source": [
    "## 3 - data cleaning"
   ]
  },
  {
   "cell_type": "markdown",
   "metadata": {},
   "source": [
    "**to-do list:**\n",
    "- `duplicates`: there should be some tweets with more than one emoji, I will drop them all duplicate occurences. \n",
    "- `#hashtag`: I will keep them because it's likely they convey useful messages. **I have delete them below, take them back?**\n",
    "- `@username`, `emoji`, `punctuations`, `r'https?://'`: drop all non-alphanumeric symbols `\\W`\n",
    "- convert to `lowercase`\n",
    "- `tense`, `plurals`\n",
    "- deal with words such as 'sooooo'\n",
    "- get rid of 'an','the', etc\n",
    "\n",
    "I will be using python3 [regex](https://docs.python.org/3.4/library/re.html)."
   ]
  },
  {
   "cell_type": "markdown",
   "metadata": {},
   "source": [
    "https://web.stanford.edu/~jesszhao/files/twitterSentiment.pdf\n",
    "\n",
    "https://towardsdatascience.com/another-twitter-sentiment-analysis-bb5b01ebad90"
   ]
  },
  {
   "cell_type": "code",
   "execution_count": 246,
   "metadata": {},
   "outputs": [
    {
     "data": {
      "text/html": [
       "<div>\n",
       "<style scoped>\n",
       "    .dataframe tbody tr th:only-of-type {\n",
       "        vertical-align: middle;\n",
       "    }\n",
       "\n",
       "    .dataframe tbody tr th {\n",
       "        vertical-align: top;\n",
       "    }\n",
       "\n",
       "    .dataframe thead th {\n",
       "        text-align: right;\n",
       "    }\n",
       "</style>\n",
       "<table border=\"1\" class=\"dataframe\">\n",
       "  <thead>\n",
       "    <tr style=\"text-align: right;\">\n",
       "      <th></th>\n",
       "      <th>tweet</th>\n",
       "      <th>label</th>\n",
       "    </tr>\n",
       "  </thead>\n",
       "  <tbody>\n",
       "    <tr>\n",
       "      <th>0</th>\n",
       "      <td>RT @denmatai190: | 👑411K FOLLOWERS!!!👑\\n|∧∧\"\"\\...</td>\n",
       "      <td>3</td>\n",
       "    </tr>\n",
       "    <tr>\n",
       "      <th>1</th>\n",
       "      <td>@6CentsRose My nieces and nephews were young, ...</td>\n",
       "      <td>1</td>\n",
       "    </tr>\n",
       "    <tr>\n",
       "      <th>2</th>\n",
       "      <td>@HobiLove94 Happy Birthday 🎉🎈</td>\n",
       "      <td>2</td>\n",
       "    </tr>\n",
       "    <tr>\n",
       "      <th>3</th>\n",
       "      <td>@bravoholclique Me! I never get a chance to wa...</td>\n",
       "      <td>1</td>\n",
       "    </tr>\n",
       "    <tr>\n",
       "      <th>4</th>\n",
       "      <td>RT @RoanhorseBex: 🎉ANNOUNCEMENT🎉That Anasazi-i...</td>\n",
       "      <td>2</td>\n",
       "    </tr>\n",
       "    <tr>\n",
       "      <th>5</th>\n",
       "      <td>@bankkroll_ 😂😂😂 you shoulda got footage</td>\n",
       "      <td>0</td>\n",
       "    </tr>\n",
       "    <tr>\n",
       "      <th>6</th>\n",
       "      <td>RT @Monica_Sheehan: @AtxJecklinx happy birthda...</td>\n",
       "      <td>2</td>\n",
       "    </tr>\n",
       "    <tr>\n",
       "      <th>7</th>\n",
       "      <td>RT @YuhboyYsn: New shit 🔥🔥🔥🔥 or 💩💩💩💩? https://...</td>\n",
       "      <td>4</td>\n",
       "    </tr>\n",
       "    <tr>\n",
       "      <th>8</th>\n",
       "      <td>@yaboy_jody I just had to know that 💩 look sus...</td>\n",
       "      <td>4</td>\n",
       "    </tr>\n",
       "    <tr>\n",
       "      <th>9</th>\n",
       "      <td>@BroadwayBillLee @WCBSFM Absolute class 👍 👍 👍</td>\n",
       "      <td>3</td>\n",
       "    </tr>\n",
       "  </tbody>\n",
       "</table>\n",
       "</div>"
      ],
      "text/plain": [
       "                                               tweet label\n",
       "0  RT @denmatai190: | 👑411K FOLLOWERS!!!👑\\n|∧∧\"\"\\...     3\n",
       "1  @6CentsRose My nieces and nephews were young, ...     1\n",
       "2                      @HobiLove94 Happy Birthday 🎉🎈     2\n",
       "3  @bravoholclique Me! I never get a chance to wa...     1\n",
       "4  RT @RoanhorseBex: 🎉ANNOUNCEMENT🎉That Anasazi-i...     2\n",
       "5            @bankkroll_ 😂😂😂 you shoulda got footage     0\n",
       "6  RT @Monica_Sheehan: @AtxJecklinx happy birthda...     2\n",
       "7  RT @YuhboyYsn: New shit 🔥🔥🔥🔥 or 💩💩💩💩? https://...     4\n",
       "8  @yaboy_jody I just had to know that 💩 look sus...     4\n",
       "9      @BroadwayBillLee @WCBSFM Absolute class 👍 👍 👍     3"
      ]
     },
     "execution_count": 246,
     "metadata": {},
     "output_type": "execute_result"
    }
   ],
   "source": [
    "df_raw.head(10)"
   ]
  },
  {
   "cell_type": "markdown",
   "metadata": {},
   "source": [
    "### 3.1 - Duplicates"
   ]
  },
  {
   "cell_type": "code",
   "execution_count": 10,
   "metadata": {},
   "outputs": [
    {
     "data": {
      "text/plain": [
       "False    7666\n",
       "True     2892\n",
       "Name: tweet, dtype: int64"
      ]
     },
     "execution_count": 10,
     "metadata": {},
     "output_type": "execute_result"
    }
   ],
   "source": [
    "# check duplicates\n",
    "df_raw.tweet.duplicated().value_counts()"
   ]
  },
  {
   "cell_type": "markdown",
   "metadata": {},
   "source": [
    "[DataFrame.drop_duplicates](http://pandas.pydata.org/pandas-docs/version/0.17/generated/pandas.DataFrame.drop_duplicates.html): the default for `keep` is `'first'`, which means drop duplicates except the first occurence. I will drop all occurences, so `keep=False`. "
   ]
  },
  {
   "cell_type": "code",
   "execution_count": 11,
   "metadata": {},
   "outputs": [
    {
     "name": "stdout",
     "output_type": "stream",
     "text": [
      "False    7066\n",
      "Name: tweet, dtype: int64\n"
     ]
    },
    {
     "data": {
      "text/plain": [
       "0    0.236202\n",
       "4    0.221059\n",
       "1    0.207897\n",
       "3    0.173224\n",
       "2    0.161619\n",
       "Name: label, dtype: float64"
      ]
     },
     "execution_count": 11,
     "metadata": {},
     "output_type": "execute_result"
    }
   ],
   "source": [
    "df = df_raw.drop_duplicates(['tweet'],keep=False)\n",
    "\n",
    "print(df.tweet.duplicated().value_counts())\n",
    "df.label.value_counts(normalize=True)"
   ]
  },
  {
   "cell_type": "code",
   "execution_count": 12,
   "metadata": {},
   "outputs": [
    {
     "data": {
      "text/html": [
       "<div>\n",
       "<style scoped>\n",
       "    .dataframe tbody tr th:only-of-type {\n",
       "        vertical-align: middle;\n",
       "    }\n",
       "\n",
       "    .dataframe tbody tr th {\n",
       "        vertical-align: top;\n",
       "    }\n",
       "\n",
       "    .dataframe thead th {\n",
       "        text-align: right;\n",
       "    }\n",
       "</style>\n",
       "<table border=\"1\" class=\"dataframe\">\n",
       "  <thead>\n",
       "    <tr style=\"text-align: right;\">\n",
       "      <th></th>\n",
       "      <th>tweet</th>\n",
       "      <th>label</th>\n",
       "    </tr>\n",
       "  </thead>\n",
       "  <tbody>\n",
       "    <tr>\n",
       "      <th>0</th>\n",
       "      <td>RT @denmatai190: | 👑411K FOLLOWERS!!!👑\\n|∧∧\"\"\\...</td>\n",
       "      <td>3</td>\n",
       "    </tr>\n",
       "    <tr>\n",
       "      <th>1</th>\n",
       "      <td>@6CentsRose My nieces and nephews were young, ...</td>\n",
       "      <td>1</td>\n",
       "    </tr>\n",
       "    <tr>\n",
       "      <th>2</th>\n",
       "      <td>@HobiLove94 Happy Birthday 🎉🎈</td>\n",
       "      <td>2</td>\n",
       "    </tr>\n",
       "    <tr>\n",
       "      <th>3</th>\n",
       "      <td>@bravoholclique Me! I never get a chance to wa...</td>\n",
       "      <td>1</td>\n",
       "    </tr>\n",
       "    <tr>\n",
       "      <th>4</th>\n",
       "      <td>RT @RoanhorseBex: 🎉ANNOUNCEMENT🎉That Anasazi-i...</td>\n",
       "      <td>2</td>\n",
       "    </tr>\n",
       "  </tbody>\n",
       "</table>\n",
       "</div>"
      ],
      "text/plain": [
       "                                               tweet label\n",
       "0  RT @denmatai190: | 👑411K FOLLOWERS!!!👑\\n|∧∧\"\"\\...     3\n",
       "1  @6CentsRose My nieces and nephews were young, ...     1\n",
       "2                      @HobiLove94 Happy Birthday 🎉🎈     2\n",
       "3  @bravoholclique Me! I never get a chance to wa...     1\n",
       "4  RT @RoanhorseBex: 🎉ANNOUNCEMENT🎉That Anasazi-i...     2"
      ]
     },
     "execution_count": 12,
     "metadata": {},
     "output_type": "execute_result"
    }
   ],
   "source": [
    "df.head()"
   ]
  },
  {
   "cell_type": "markdown",
   "metadata": {},
   "source": [
    "### 3.1 - hashtag, @, 'http://'"
   ]
  },
  {
   "cell_type": "code",
   "execution_count": 352,
   "metadata": {},
   "outputs": [],
   "source": [
    "df1 = df.copy()"
   ]
  },
  {
   "cell_type": "code",
   "execution_count": 227,
   "metadata": {},
   "outputs": [
    {
     "data": {
      "text/plain": [
       "4858"
      ]
     },
     "execution_count": 227,
     "metadata": {},
     "output_type": "execute_result"
    }
   ],
   "source": [
    "df_raw['tweet'].str.count(r'#\\S*').sum()"
   ]
  },
  {
   "cell_type": "code",
   "execution_count": 228,
   "metadata": {},
   "outputs": [
    {
     "data": {
      "text/plain": [
       "5124"
      ]
     },
     "execution_count": 228,
     "metadata": {},
     "output_type": "execute_result"
    }
   ],
   "source": [
    "df_raw['tweet'].str.count(r'https://').sum()"
   ]
  },
  {
   "cell_type": "code",
   "execution_count": 14,
   "metadata": {},
   "outputs": [
    {
     "data": {
      "text/plain": [
       "4"
      ]
     },
     "execution_count": 14,
     "metadata": {},
     "output_type": "execute_result"
    }
   ],
   "source": [
    "df_raw['tweet'].str.count(r'http://').sum()"
   ]
  },
  {
   "cell_type": "code",
   "execution_count": 15,
   "metadata": {},
   "outputs": [
    {
     "data": {
      "text/plain": [
       "5249"
      ]
     },
     "execution_count": 15,
     "metadata": {},
     "output_type": "execute_result"
    }
   ],
   "source": [
    "df_raw['tweet'].str.count(r'^ *RT').sum()"
   ]
  },
  {
   "cell_type": "code",
   "execution_count": 16,
   "metadata": {},
   "outputs": [
    {
     "data": {
      "text/plain": [
       "13638"
      ]
     },
     "execution_count": 16,
     "metadata": {},
     "output_type": "execute_result"
    }
   ],
   "source": [
    "df_raw['tweet'].str.count(r'@[a-zA-Z0-9_]+').sum()"
   ]
  },
  {
   "cell_type": "code",
   "execution_count": 353,
   "metadata": {},
   "outputs": [
    {
     "name": "stdout",
     "output_type": "stream",
     "text": [
      "0\n"
     ]
    },
    {
     "data": {
      "text/html": [
       "<div>\n",
       "<style scoped>\n",
       "    .dataframe tbody tr th:only-of-type {\n",
       "        vertical-align: middle;\n",
       "    }\n",
       "\n",
       "    .dataframe tbody tr th {\n",
       "        vertical-align: top;\n",
       "    }\n",
       "\n",
       "    .dataframe thead th {\n",
       "        text-align: right;\n",
       "    }\n",
       "</style>\n",
       "<table border=\"1\" class=\"dataframe\">\n",
       "  <thead>\n",
       "    <tr style=\"text-align: right;\">\n",
       "      <th></th>\n",
       "      <th>tweet</th>\n",
       "      <th>label</th>\n",
       "    </tr>\n",
       "  </thead>\n",
       "  <tbody>\n",
       "    <tr>\n",
       "      <th>0</th>\n",
       "      <td>@denmatai190: | 👑411K FOLLOWERS!!!👑\\n|∧∧\"\"\\n|...</td>\n",
       "      <td>3</td>\n",
       "    </tr>\n",
       "    <tr>\n",
       "      <th>1</th>\n",
       "      <td>@6CentsRose My nieces and nephews were young, ...</td>\n",
       "      <td>1</td>\n",
       "    </tr>\n",
       "    <tr>\n",
       "      <th>2</th>\n",
       "      <td>@HobiLove94 Happy Birthday 🎉🎈</td>\n",
       "      <td>2</td>\n",
       "    </tr>\n",
       "    <tr>\n",
       "      <th>3</th>\n",
       "      <td>@bravoholclique Me! I never get a chance to wa...</td>\n",
       "      <td>1</td>\n",
       "    </tr>\n",
       "    <tr>\n",
       "      <th>4</th>\n",
       "      <td>@RoanhorseBex: 🎉ANNOUNCEMENT🎉That Anasazi-ins...</td>\n",
       "      <td>2</td>\n",
       "    </tr>\n",
       "  </tbody>\n",
       "</table>\n",
       "</div>"
      ],
      "text/plain": [
       "                                               tweet label\n",
       "0   @denmatai190: | 👑411K FOLLOWERS!!!👑\\n|∧∧\"\"\\n|...     3\n",
       "1  @6CentsRose My nieces and nephews were young, ...     1\n",
       "2                      @HobiLove94 Happy Birthday 🎉🎈     2\n",
       "3  @bravoholclique Me! I never get a chance to wa...     1\n",
       "4   @RoanhorseBex: 🎉ANNOUNCEMENT🎉That Anasazi-ins...     2"
      ]
     },
     "execution_count": 353,
     "metadata": {},
     "output_type": "execute_result"
    }
   ],
   "source": [
    "# remove the leading 'RT'\n",
    "df1['tweet'] = df['tweet'].str.replace(r'^ *RT ', ' ')\n",
    "print(df1['tweet'].str.count(r'^ *RT').sum())\n",
    "df1.head()"
   ]
  },
  {
   "cell_type": "code",
   "execution_count": 354,
   "metadata": {},
   "outputs": [
    {
     "name": "stdout",
     "output_type": "stream",
     "text": [
      "0\n"
     ]
    },
    {
     "data": {
      "text/html": [
       "<div>\n",
       "<style scoped>\n",
       "    .dataframe tbody tr th:only-of-type {\n",
       "        vertical-align: middle;\n",
       "    }\n",
       "\n",
       "    .dataframe tbody tr th {\n",
       "        vertical-align: top;\n",
       "    }\n",
       "\n",
       "    .dataframe thead th {\n",
       "        text-align: right;\n",
       "    }\n",
       "</style>\n",
       "<table border=\"1\" class=\"dataframe\">\n",
       "  <thead>\n",
       "    <tr style=\"text-align: right;\">\n",
       "      <th></th>\n",
       "      <th>tweet</th>\n",
       "      <th>label</th>\n",
       "    </tr>\n",
       "  </thead>\n",
       "  <tbody>\n",
       "    <tr>\n",
       "      <th>0</th>\n",
       "      <td>: | 👑411K FOLLOWERS!!!👑\\n|∧∧\"\"\\n| * ¯ ³¯)Chu...</td>\n",
       "      <td>3</td>\n",
       "    </tr>\n",
       "    <tr>\n",
       "      <th>1</th>\n",
       "      <td>My nieces and nephews were young, so it was ...</td>\n",
       "      <td>1</td>\n",
       "    </tr>\n",
       "    <tr>\n",
       "      <th>2</th>\n",
       "      <td>Happy Birthday 🎉🎈</td>\n",
       "      <td>2</td>\n",
       "    </tr>\n",
       "    <tr>\n",
       "      <th>3</th>\n",
       "      <td>Me! I never get a chance to watch it live! 😀</td>\n",
       "      <td>1</td>\n",
       "    </tr>\n",
       "    <tr>\n",
       "      <th>4</th>\n",
       "      <td>: 🎉ANNOUNCEMENT🎉That Anasazi-inspired epic f...</td>\n",
       "      <td>2</td>\n",
       "    </tr>\n",
       "  </tbody>\n",
       "</table>\n",
       "</div>"
      ],
      "text/plain": [
       "                                               tweet label\n",
       "0    : | 👑411K FOLLOWERS!!!👑\\n|∧∧\"\"\\n| * ¯ ³¯)Chu...     3\n",
       "1    My nieces and nephews were young, so it was ...     1\n",
       "2                                  Happy Birthday 🎉🎈     2\n",
       "3       Me! I never get a chance to watch it live! 😀     1\n",
       "4    : 🎉ANNOUNCEMENT🎉That Anasazi-inspired epic f...     2"
      ]
     },
     "execution_count": 354,
     "metadata": {},
     "output_type": "execute_result"
    }
   ],
   "source": [
    "# remove @\n",
    "df1['tweet'] = df1['tweet'].str.replace(r'@[a-zA-Z0-9_]+', ' ')\n",
    "print(df1.tweet.str.count(r'@[a-zA-Z0-9_]+').sum())\n",
    "df1.head()"
   ]
  },
  {
   "cell_type": "code",
   "execution_count": 265,
   "metadata": {},
   "outputs": [
    {
     "name": "stdout",
     "output_type": "stream",
     "text": [
      "0\n"
     ]
    },
    {
     "data": {
      "text/html": [
       "<div>\n",
       "<style scoped>\n",
       "    .dataframe tbody tr th:only-of-type {\n",
       "        vertical-align: middle;\n",
       "    }\n",
       "\n",
       "    .dataframe tbody tr th {\n",
       "        vertical-align: top;\n",
       "    }\n",
       "\n",
       "    .dataframe thead th {\n",
       "        text-align: right;\n",
       "    }\n",
       "</style>\n",
       "<table border=\"1\" class=\"dataframe\">\n",
       "  <thead>\n",
       "    <tr style=\"text-align: right;\">\n",
       "      <th></th>\n",
       "      <th>tweet</th>\n",
       "      <th>label</th>\n",
       "    </tr>\n",
       "  </thead>\n",
       "  <tbody>\n",
       "    <tr>\n",
       "      <th>0</th>\n",
       "      <td>: | 👑411K FOLLOWERS!!!👑\\n|∧∧\"\"\\n| * ¯ ³¯)Chu...</td>\n",
       "      <td>3</td>\n",
       "    </tr>\n",
       "    <tr>\n",
       "      <th>1</th>\n",
       "      <td>My nieces and nephews were young, so it was ...</td>\n",
       "      <td>1</td>\n",
       "    </tr>\n",
       "    <tr>\n",
       "      <th>2</th>\n",
       "      <td>Happy Birthday 🎉🎈</td>\n",
       "      <td>2</td>\n",
       "    </tr>\n",
       "    <tr>\n",
       "      <th>3</th>\n",
       "      <td>Me! I never get a chance to watch it live! 😀</td>\n",
       "      <td>1</td>\n",
       "    </tr>\n",
       "    <tr>\n",
       "      <th>4</th>\n",
       "      <td>: 🎉ANNOUNCEMENT🎉That Anasazi-inspired epic f...</td>\n",
       "      <td>2</td>\n",
       "    </tr>\n",
       "  </tbody>\n",
       "</table>\n",
       "</div>"
      ],
      "text/plain": [
       "                                               tweet label\n",
       "0    : | 👑411K FOLLOWERS!!!👑\\n|∧∧\"\"\\n| * ¯ ³¯)Chu...     3\n",
       "1    My nieces and nephews were young, so it was ...     1\n",
       "2                                  Happy Birthday 🎉🎈     2\n",
       "3       Me! I never get a chance to watch it live! 😀     1\n",
       "4    : 🎉ANNOUNCEMENT🎉That Anasazi-inspired epic f...     2"
      ]
     },
     "execution_count": 265,
     "metadata": {},
     "output_type": "execute_result"
    }
   ],
   "source": [
    "# remove hashtag symbol\n",
    "df1['tweet'] = df1['tweet'].str.replace(r'#\\S*', ' ')\n",
    "print(df1.tweet.str.count(r'@[a-zA-Z0-9_]+').sum())\n",
    "df1.head()"
   ]
  },
  {
   "cell_type": "code",
   "execution_count": 355,
   "metadata": {},
   "outputs": [
    {
     "name": "stdout",
     "output_type": "stream",
     "text": [
      "0\n"
     ]
    },
    {
     "data": {
      "text/plain": [
       "0       : | 👑411K FOLLOWERS!!!👑\\n|∧∧\"\"\\n| * ¯ ³¯)Chu...\n",
       "1       My nieces and nephews were young, so it was ...\n",
       "2                                     Happy Birthday 🎉🎈\n",
       "3          Me! I never get a chance to watch it live! 😀\n",
       "4       : 🎉ANNOUNCEMENT🎉That Anasazi-inspired epic f...\n",
       "5                           😂😂😂 you shoulda got footage\n",
       "6                              :   happy birthday!!!🎉🎂🎁\n",
       "8         I just had to know that 💩 look sus as hell 😂😂\n",
       "9                                  Absolute class 👍 👍 👍\n",
       "10    The CW officially renewed Supernatural! There’...\n",
       "Name: tweet, dtype: object"
      ]
     },
     "execution_count": 355,
     "metadata": {},
     "output_type": "execute_result"
    }
   ],
   "source": [
    "# remove http:// and https://\n",
    "df1['tweet'] = df1['tweet'].str.replace(r'https?://[a-zA-Z0-9/\\.]*', ' ')\n",
    "print(df1['tweet'].str.count(r'https://[a-zA-Z0-9_]*').sum())\n",
    "df1.tweet.head(10)"
   ]
  },
  {
   "cell_type": "code",
   "execution_count": 356,
   "metadata": {},
   "outputs": [
    {
     "data": {
      "text/plain": [
       "0              FOLLOWERS                    Chu Maki...\n",
       "1       My nieces and nephews were young  so it was ...\n",
       "2                                     Happy Birthday   \n",
       "3          Me  I never get a chance to watch it live   \n",
       "4          ANNOUNCEMENT That Anasazi inspired epic f...\n",
       "5                               you shoulda got footage\n",
       "6                                  happy birthday      \n",
       "8         I just had to know that   look sus as hell   \n",
       "9                                  Absolute class      \n",
       "10    The CW officially renewed Supernatural  There ...\n",
       "Name: tweet, dtype: object"
      ]
     },
     "execution_count": 356,
     "metadata": {},
     "output_type": "execute_result"
    }
   ],
   "source": [
    "# I decide to remove all non alphanumeric characters\n",
    "df1['tweet']= df1['tweet'].str.replace(r'[a-zA-Z]*\\'[a-zA-Z]*','')\n",
    "df1['tweet']= df1['tweet'].str.replace(r'\\d+[a-zA-Z]{,2}',' ')\n",
    "df1['tweet']= df1['tweet'].str.replace(r'[^a-zA-Z]',' ')\n",
    "df1.tweet.head(10)"
   ]
  },
  {
   "cell_type": "code",
   "execution_count": 357,
   "metadata": {},
   "outputs": [
    {
     "data": {
      "text/html": [
       "<div>\n",
       "<style scoped>\n",
       "    .dataframe tbody tr th:only-of-type {\n",
       "        vertical-align: middle;\n",
       "    }\n",
       "\n",
       "    .dataframe tbody tr th {\n",
       "        vertical-align: top;\n",
       "    }\n",
       "\n",
       "    .dataframe thead th {\n",
       "        text-align: right;\n",
       "    }\n",
       "</style>\n",
       "<table border=\"1\" class=\"dataframe\">\n",
       "  <thead>\n",
       "    <tr style=\"text-align: right;\">\n",
       "      <th></th>\n",
       "      <th>tweet</th>\n",
       "      <th>label</th>\n",
       "    </tr>\n",
       "  </thead>\n",
       "  <tbody>\n",
       "    <tr>\n",
       "      <th>0</th>\n",
       "      <td>FOLLOWERS                    Chu Maki...</td>\n",
       "      <td>3</td>\n",
       "    </tr>\n",
       "    <tr>\n",
       "      <th>1</th>\n",
       "      <td>My nieces and nephews were young  so it was ...</td>\n",
       "      <td>1</td>\n",
       "    </tr>\n",
       "    <tr>\n",
       "      <th>2</th>\n",
       "      <td>Happy Birthday</td>\n",
       "      <td>2</td>\n",
       "    </tr>\n",
       "    <tr>\n",
       "      <th>3</th>\n",
       "      <td>Me  I never get a chance to watch it live</td>\n",
       "      <td>1</td>\n",
       "    </tr>\n",
       "    <tr>\n",
       "      <th>4</th>\n",
       "      <td>ANNOUNCEMENT That Anasazi inspired epic f...</td>\n",
       "      <td>2</td>\n",
       "    </tr>\n",
       "    <tr>\n",
       "      <th>5</th>\n",
       "      <td>you shoulda got footage</td>\n",
       "      <td>0</td>\n",
       "    </tr>\n",
       "    <tr>\n",
       "      <th>6</th>\n",
       "      <td>happy birthday</td>\n",
       "      <td>2</td>\n",
       "    </tr>\n",
       "    <tr>\n",
       "      <th>8</th>\n",
       "      <td>I just had to know that   look sus as hell</td>\n",
       "      <td>4</td>\n",
       "    </tr>\n",
       "    <tr>\n",
       "      <th>9</th>\n",
       "      <td>Absolute class</td>\n",
       "      <td>3</td>\n",
       "    </tr>\n",
       "    <tr>\n",
       "      <th>10</th>\n",
       "      <td>The CW officially renewed Supernatural  There ...</td>\n",
       "      <td>2</td>\n",
       "    </tr>\n",
       "  </tbody>\n",
       "</table>\n",
       "</div>"
      ],
      "text/plain": [
       "                                                tweet label\n",
       "0            FOLLOWERS                    Chu Maki...     3\n",
       "1     My nieces and nephews were young  so it was ...     1\n",
       "2                                   Happy Birthday        2\n",
       "3        Me  I never get a chance to watch it live        1\n",
       "4        ANNOUNCEMENT That Anasazi inspired epic f...     2\n",
       "5                             you shoulda got footage     0\n",
       "6                                happy birthday           2\n",
       "8       I just had to know that   look sus as hell        4\n",
       "9                                Absolute class           3\n",
       "10  The CW officially renewed Supernatural  There ...     2"
      ]
     },
     "execution_count": 357,
     "metadata": {},
     "output_type": "execute_result"
    }
   ],
   "source": [
    "# remove emoji\n",
    "\n",
    "# https://stackoverflow.com/questions/33404752/removing-emojis-from-a-string-in-python\n",
    "pattern = \"[\"u\"\\U0001F600-\\U0001F64F\"u\"\\U0001F300-\\U0001F5FF\"u\"\\U0001F680-\\U0001F6FF\"u\"\\U0001F1E0-\\U0001F1FF\"\"]+\"\n",
    "df1['tweet']= df1['tweet'].str.replace(pattern,' ')\n",
    "df1.head(10)"
   ]
  },
  {
   "cell_type": "code",
   "execution_count": 358,
   "metadata": {},
   "outputs": [
    {
     "data": {
      "text/plain": [
       "0              followers                    chu maki...\n",
       "1       my nieces and nephews were young  so it was ...\n",
       "2                                     happy birthday   \n",
       "3          me  i never get a chance to watch it live   \n",
       "4          announcement that anasazi inspired epic f...\n",
       "5                               you shoulda got footage\n",
       "6                                  happy birthday      \n",
       "8         i just had to know that   look sus as hell   \n",
       "9                                  absolute class      \n",
       "10    the cw officially renewed supernatural  there ...\n",
       "Name: tweet, dtype: object"
      ]
     },
     "execution_count": 358,
     "metadata": {},
     "output_type": "execute_result"
    }
   ],
   "source": [
    "# convert to lowercase\n",
    "\n",
    "df1['tweet']= df1['tweet'].str.lower()\n",
    "df1.tweet.head(10)"
   ]
  },
  {
   "cell_type": "code",
   "execution_count": 359,
   "metadata": {},
   "outputs": [
    {
     "data": {
      "text/plain": [
       "0    followers chu makina yui thank you guys so muc...\n",
       "1    my nieces and nephews were young so it was my ...\n",
       "2                                       happy birthday\n",
       "3             me i never get a chance to watch it live\n",
       "4    announcement that anasazi inspired epic fantas...\n",
       "Name: tweet, dtype: object"
      ]
     },
     "execution_count": 359,
     "metadata": {},
     "output_type": "execute_result"
    }
   ],
   "source": [
    "# remove extra white space characters\n",
    "\n",
    "df1['tweet'] = df1['tweet'].apply(lambda x: ' '.join(x.split()))\n",
    "df1['tweet'].head()"
   ]
  },
  {
   "cell_type": "code",
   "execution_count": 237,
   "metadata": {},
   "outputs": [
    {
     "name": "stdout",
     "output_type": "stream",
     "text": [
      "RT @mozilla: Twenty years! 🎂 🎉\n",
      "\n",
      "It’s been two decades since we first logged on as the Mozilla project and got started bringing together the… \n",
      " twenty years it s been two decades since we first logged on as the mozilla project and got started bringing together the \n",
      " LABEL=  2\n"
     ]
    }
   ],
   "source": [
    "idx = 99\n",
    "print(df_raw.tweet[idx],'\\n',df1.tweet[idx], '\\n','LABEL= ',df1.label[idx])"
   ]
  },
  {
   "cell_type": "code",
   "execution_count": 272,
   "metadata": {},
   "outputs": [
    {
     "name": "stdout",
     "output_type": "stream",
     "text": [
      "['😂', '😀', '🎉', '👍', '💩']\n"
     ]
    },
    {
     "data": {
      "text/html": [
       "<div>\n",
       "<style scoped>\n",
       "    .dataframe tbody tr th:only-of-type {\n",
       "        vertical-align: middle;\n",
       "    }\n",
       "\n",
       "    .dataframe tbody tr th {\n",
       "        vertical-align: top;\n",
       "    }\n",
       "\n",
       "    .dataframe thead th {\n",
       "        text-align: right;\n",
       "    }\n",
       "</style>\n",
       "<table border=\"1\" class=\"dataframe\">\n",
       "  <thead>\n",
       "    <tr style=\"text-align: right;\">\n",
       "      <th></th>\n",
       "      <th>tweet</th>\n",
       "      <th>label</th>\n",
       "      <th>emoji</th>\n",
       "    </tr>\n",
       "  </thead>\n",
       "  <tbody>\n",
       "    <tr>\n",
       "      <th>0</th>\n",
       "      <td>k followers chu makina yui thank you guys so m...</td>\n",
       "      <td>3</td>\n",
       "      <td>👍</td>\n",
       "    </tr>\n",
       "    <tr>\n",
       "      <th>1</th>\n",
       "      <td>my nieces and nephews were young so it was my ...</td>\n",
       "      <td>1</td>\n",
       "      <td>😀</td>\n",
       "    </tr>\n",
       "    <tr>\n",
       "      <th>2</th>\n",
       "      <td>happy birthday</td>\n",
       "      <td>2</td>\n",
       "      <td>🎉</td>\n",
       "    </tr>\n",
       "    <tr>\n",
       "      <th>3</th>\n",
       "      <td>me i never get a chance to watch it live</td>\n",
       "      <td>1</td>\n",
       "      <td>😀</td>\n",
       "    </tr>\n",
       "    <tr>\n",
       "      <th>4</th>\n",
       "      <td>announcement that anasazi inspired epic fantas...</td>\n",
       "      <td>2</td>\n",
       "      <td>🎉</td>\n",
       "    </tr>\n",
       "  </tbody>\n",
       "</table>\n",
       "</div>"
      ],
      "text/plain": [
       "                                               tweet label emoji\n",
       "0  k followers chu makina yui thank you guys so m...     3     👍\n",
       "1  my nieces and nephews were young so it was my ...     1     😀\n",
       "2                                     happy birthday     2     🎉\n",
       "3           me i never get a chance to watch it live     1     😀\n",
       "4  announcement that anasazi inspired epic fantas...     2     🎉"
      ]
     },
     "execution_count": 272,
     "metadata": {},
     "output_type": "execute_result"
    }
   ],
   "source": [
    "query = [u\"\\U0001F602\",u\"\\U0001F600\",u\"\\U0001F389\",u\"\\U0001F44D\",u\"\\U0001F4A9\"]\n",
    "print(query)\n",
    "df1['emoji'] = df1['label'].apply(lambda i: query[int(i)])\n",
    "df1.head()"
   ]
  },
  {
   "cell_type": "code",
   "execution_count": 348,
   "metadata": {},
   "outputs": [],
   "source": [
    "df1['tweet'] = df_raw['tweet'].apply(lambda x: ' '.join(x.split()))"
   ]
  },
  {
   "cell_type": "code",
   "execution_count": 342,
   "metadata": {},
   "outputs": [],
   "source": [
    "df1['label'] = df1['label'].apply(lambda i: int(i))"
   ]
  },
  {
   "cell_type": "code",
   "execution_count": 13,
   "metadata": {},
   "outputs": [
    {
     "name": "stdout",
     "output_type": "stream",
     "text": [
      "                                               tweet  label\n",
      "0  followers chu makina yui thank you guys so muc...      3\n",
      "1  my nieces and nephews were young so it was my ...      1\n",
      "3           me i never get a chance to watch it live      1\n",
      "4  announcement that anasazi inspired epic fantas...      2\n",
      "5                            you shoulda got footage      0\n"
     ]
    }
   ],
   "source": [
    "def preprocessing(df):\n",
    "    df1 = df.copy()\n",
    "    df1['tweet'] = df1['tweet'].str.replace(r'^ *RT ', ' ')\n",
    "    df1['tweet'] = df1['tweet'].str.replace(r'@[a-zA-Z0-9_]+', ' ')\n",
    "    #df1['tweet'] = df1['tweet'].str.replace(r'#\\S*', ' ')\n",
    "    df1['tweet'] = df1['tweet'].str.replace(r'https?://[a-zA-Z0-9/\\.]*', ' ')\n",
    "    df1['tweet']= df1['tweet'].str.replace(r'[a-zA-Z]*\\'[a-zA-Z]*','')\n",
    "    df1['tweet']= df1['tweet'].str.replace(r'\\d+[a-zA-Z]{,2}',' ')\n",
    "    df1['tweet']= df1['tweet'].str.replace(r'[^a-zA-Z]',' ')\n",
    "    pattern = \"[\"u\"\\U0001F600-\\U0001F64F\"u\"\\U0001F300-\\U0001F5FF\"u\"\\U0001F680-\\U0001F6FF\"u\"\\U0001F1E0-\\U0001F1FF\"\"]+\"\n",
    "    df1['tweet']= df1['tweet'].str.replace(pattern,' ')\n",
    "    df1['tweet']= df1['tweet'].str.lower()\n",
    "    df1['tweet'] = df1['tweet'].apply(lambda x: ' '.join(x.split()))\n",
    "    df1['tweet'] = df1['tweet'].apply(lambda x: x.strip())\n",
    "    #df1 = df1.iloc[:,:][len(df1['tweet'])==0]    \n",
    "    df1['label'] = df1['label'].apply(lambda i: int(i))\n",
    "    df1 = df1.drop_duplicates(['tweet'],keep=False)\n",
    "    df1 = df1[df1.notnull().tweet]\n",
    "    return df1\n",
    "\n",
    "df1 = preprocessing(df)\n",
    "print(df1.head())\n"
   ]
  },
  {
   "cell_type": "code",
   "execution_count": 35,
   "metadata": {},
   "outputs": [],
   "source": [
    "df1 = df1[df1.notnull().tweet]\n",
    "df1.to_csv('./inputs/emoji_hashtag.csv',index=False)"
   ]
  },
  {
   "cell_type": "markdown",
   "metadata": {},
   "source": [
    "## 4 - Model"
   ]
  },
  {
   "cell_type": "markdown",
   "metadata": {},
   "source": [
    "There are many ways to represent text with numerical values. First I will use `CountVectorizer` and `TfidfVectorizer` which are based on the frequency of appearance of words. In logistic regression, I will turn to `Word2Vec` embedding, which dig into the meaning of words rather than pure word counting."
   ]
  },
  {
   "cell_type": "code",
   "execution_count": 36,
   "metadata": {},
   "outputs": [
    {
     "data": {
      "text/html": [
       "<div>\n",
       "<style scoped>\n",
       "    .dataframe tbody tr th:only-of-type {\n",
       "        vertical-align: middle;\n",
       "    }\n",
       "\n",
       "    .dataframe tbody tr th {\n",
       "        vertical-align: top;\n",
       "    }\n",
       "\n",
       "    .dataframe thead th {\n",
       "        text-align: right;\n",
       "    }\n",
       "</style>\n",
       "<table border=\"1\" class=\"dataframe\">\n",
       "  <thead>\n",
       "    <tr style=\"text-align: right;\">\n",
       "      <th></th>\n",
       "      <th>tweet</th>\n",
       "      <th>label</th>\n",
       "    </tr>\n",
       "  </thead>\n",
       "  <tbody>\n",
       "    <tr>\n",
       "      <th>0</th>\n",
       "      <td>followers chu makina yui thank you guys so muc...</td>\n",
       "      <td>3</td>\n",
       "    </tr>\n",
       "    <tr>\n",
       "      <th>1</th>\n",
       "      <td>my nieces and nephews were young so it was my ...</td>\n",
       "      <td>1</td>\n",
       "    </tr>\n",
       "    <tr>\n",
       "      <th>2</th>\n",
       "      <td>me i never get a chance to watch it live</td>\n",
       "      <td>1</td>\n",
       "    </tr>\n",
       "    <tr>\n",
       "      <th>3</th>\n",
       "      <td>announcement that anasazi inspired epic fantas...</td>\n",
       "      <td>2</td>\n",
       "    </tr>\n",
       "    <tr>\n",
       "      <th>4</th>\n",
       "      <td>you shoulda got footage</td>\n",
       "      <td>0</td>\n",
       "    </tr>\n",
       "  </tbody>\n",
       "</table>\n",
       "</div>"
      ],
      "text/plain": [
       "                                               tweet  label\n",
       "0  followers chu makina yui thank you guys so muc...      3\n",
       "1  my nieces and nephews were young so it was my ...      1\n",
       "2           me i never get a chance to watch it live      1\n",
       "3  announcement that anasazi inspired epic fantas...      2\n",
       "4                            you shoulda got footage      0"
      ]
     },
     "execution_count": 36,
     "metadata": {},
     "output_type": "execute_result"
    }
   ],
   "source": [
    "df1 = pd.read_csv('./inputs/emoji_hashtag.csv')\n",
    "df1.head()"
   ]
  },
  {
   "cell_type": "code",
   "execution_count": 38,
   "metadata": {},
   "outputs": [
    {
     "data": {
      "text/plain": [
       "False    6229\n",
       "Name: tweet, dtype: int64"
      ]
     },
     "execution_count": 38,
     "metadata": {},
     "output_type": "execute_result"
    }
   ],
   "source": [
    "df1.isnull().tweet.value_counts()"
   ]
  },
  {
   "cell_type": "code",
   "execution_count": 39,
   "metadata": {},
   "outputs": [
    {
     "data": {
      "text/plain": [
       "(4983, 2)"
      ]
     },
     "execution_count": 39,
     "metadata": {},
     "output_type": "execute_result"
    }
   ],
   "source": [
    "# train test split\n",
    "from sklearn.model_selection import train_test_split\n",
    "train, test = train_test_split(df1,test_size=0.2,random_state=99)\n",
    "train.shape"
   ]
  },
  {
   "cell_type": "code",
   "execution_count": 40,
   "metadata": {},
   "outputs": [],
   "source": [
    "trainX, trainY = train['tweet'], train['label']\n",
    "testX, testY = test['tweet'], test['label']"
   ]
  },
  {
   "cell_type": "code",
   "execution_count": 41,
   "metadata": {
    "scrolled": true
   },
   "outputs": [
    {
     "name": "stdout",
     "output_type": "stream",
     "text": [
      "in training set:\n",
      " 0    0.258077\n",
      "4    0.224363\n",
      "1    0.205097\n",
      "3    0.170179\n",
      "2    0.142284\n",
      "Name: label, dtype: float64\n",
      "in testing set:\n",
      " 0    0.252809\n",
      "4    0.210273\n",
      "1    0.206260\n",
      "3    0.179775\n",
      "2    0.150883\n",
      "Name: label, dtype: float64\n"
     ]
    }
   ],
   "source": [
    "# check the distribution, should have been shuffled\n",
    "\n",
    "print('in training set:\\n',trainY.value_counts(normalize=True))\n",
    "print('in testing set:\\n',testY.value_counts(normalize=True))"
   ]
  },
  {
   "cell_type": "markdown",
   "metadata": {},
   "source": [
    "### 4.x - kNN"
   ]
  },
  {
   "cell_type": "markdown",
   "metadata": {},
   "source": [
    "In this subsection, I will use TF-IDF to implement a kNN alogrithm for our text classification, as introduced in [Procedia Engineering 69 (2014) 1356](https://www.sciencedirect.com/science/article/pii/S1877705814003750)."
   ]
  },
  {
   "cell_type": "code",
   "execution_count": 42,
   "metadata": {},
   "outputs": [],
   "source": [
    "from sklearn.neighbors import KNeighborsClassifier\n",
    "from sklearn.model_selection import cross_val_score\n",
    "from sklearn.feature_extraction.text import TfidfVectorizer\n",
    "from sklearn.metrics import accuracy_score,classification_report,confusion_matrix,mean_squared_error"
   ]
  },
  {
   "cell_type": "code",
   "execution_count": 43,
   "metadata": {},
   "outputs": [],
   "source": [
    "vect = TfidfVectorizer(\n",
    "#                ngram_range = (1,4),\n",
    "                stop_words = 'english',\n",
    "                smooth_idf = 1,\n",
    "                max_features = 1000\n",
    "            )\n",
    "\n",
    "# sparse matrix for NB Classifier\n",
    "train_matrix = vect.fit_transform(trainX)\n",
    "test_matrix = vect.transform(testX)"
   ]
  },
  {
   "cell_type": "code",
   "execution_count": 44,
   "metadata": {},
   "outputs": [
    {
     "name": "stdout",
     "output_type": "stream",
     "text": [
      "The type of vect is:  <class 'dict'> \n",
      " the size of the corpus is:  1000 \n",
      " the size of the stop words is:  7287 \n",
      " The stop words include:\n",
      " {'kaala', 'labor', 'complain', 'festivities', 'weddingphotography', 'paptingafool', 'midterm', 'cursing', 'align', 'photographers', 'nominating', 'jombo', 'jason', 'watches', 'kopa', 'butley', 'sacramento', 'basement', 'minerals', 'comical', 'tboss', 'restock', 'longs', 'publix', 'milfmonday', 'aja', 'miflavour', 'aliens', 'dread', 'bronze', 'thanksgiving', 'hpmm', 'customers', 'footage', 'honda', 'volatility', 'ramone', 'felices', 'harvey', 'modelmonday', 'dave', 'spot', 'vampire', 'security', 'loads', 'kenny', 'unjaded', 'demands', 'bringyourmomtoo', 'avenue', 'lmfao', 'practically', 'handle', 'worlds', 'ibu', 'destined', 'grandparents', 'wym', 'buildthewall', 'miraculous', 'build', 'zoocci', 'aired', 'comparing', 'mysteryweek', 'potna', 'dreads', 'social', 'commands', 'junhoe', 'indis', 'zoo', 'dumbass', 'soniyedilnayilagda', 'stairs', 'neck', 'sriracha', 'pst', 'viewers', 'evettt', 'compelling', 'network', 'shithead', 'yn', 'deadass', 'cto', 'manchester', 'marcus', 'clear', 'foam', 'democrats', 'tubes', 'beautifull', 'constitution', 'sikh', 'facetime', 'tree', 'flynn', 'plunge', 'incredibly', 'coloured', 'subway', 'nipple', 'gained', 'batgot', 'squirrel', 'mvhs', 'wherewithal', 'pannari', 'yoh', 'matthias', 'officers', 'hrs', 'bras', 'translation', 'net', 'xhosa', 'katia', 'anoto', 'weekly', 'released', 'driving', 'dooooooo', 'saddle', 'iptv', 'yc', 'minutes', 'wimpass', 'trial', 'theatre', 'dollar', 'kidixvivaband', 'respeck', 'limitless', 'imma', 'pedal', 'layout', 'shithole', 'lvl', 'glitches', 'brilliance', 'passport', 'guarantee', 'basketball', 'floats', 'edgar', 'barack', 'routine', 'happyanniversary', 'outings', 'southern', 'whats', 'wateva', 'uni', 'hbo', 'rin', 'mess', 'sweetest', 'rush', 'yui', 'dreaming', 'males', 'cartel', 'assaulting', 'rocked', 'putthepadson', 'owners', 'rumors', 'stg', 'ajay', 'taxpayer', 'spurs', 'kickass', 'flinging', 'chs', 'accelerate', 'raggedy', 'pride', 'hat', 'everest', 'voucher', 'thankyou', 'grain', 'gameofthrones', 'degree', 'writerslife', 'tracks', 'puts', 'protest', 'luxury', 'yanks', 'clips', 'planner', 'flights', 'yelled', 'everly', 'mads', 'bucket', 'diggg', 'salaries', 'soap', 'capitalized', 'clever', 'bradford', 'moveeee', 'pretended', 'ape', 'justice', 'cowards', 'leia', 'immediately', 'strength', 'cluster', 'shine', 'um', 'holland', 'usou', 'estate', 'fictional', 'makeing', 'nova', 'internally', 'moss', 'fi', 'belenenses', 'csi', 'stoke', 'bigotry', 'sprszn', 'political', 'roseanne', 'krazy', 'losing', 'deflect', 'husband', 'powerbank', 'gelo', 'dresses', 'commercials', 'filecoin', 'packed', 'trolls', 'yesss', 'destinationexcellence', 'hmesha', 'fish', 'gem', 'arrow', 'practice', 'feign', 'polishing', 'gud', 'precious', 'kinky', 'shock', 'grocery', 'map', 'bonehead', 'artist', 'seek', 'owens', 'hoo', 'duplicitous', 'marks', 'sooty', 'chapel', 'milo', 'whoop', 'member', 'outrage', 'commandments', 'jin', 'losers', 'vosho', 'morpinoybiga', 'owned', 'doubt', 'non', 'disrespect', 'tl', 'casio', 'cuando', 'hopping', 'ia', 'hannity', 'betting', 'airing', 'entertainer', 'ckin', 'confirmed', 'mode', 'grace', 'university', 'guideline', 'payed', 'shore', 'related', 'northern', 'nevvvveeeerrr', 'puck', 'repostsaveapp', 'rs', 'sports', 'loveamuslimday', 'deed', 'rallies', 'jayden', 'flip', 'exceptionally', 'micheal', 'wewait', 'ibo', 'strikes', 'anchored', 'notice', 'yasss', 'hill', 'gyampo', 'ooty', 'misprinted', 'snake', 'steven', 'falls', 'terry', 'listened', 'underestimating', 'fmh', 'centre', 'royal', 'focus', 'carrey', 'sticks', 'lmfaooooo', 'lobbied', 'panic', 'neurologist', 'restroom', 'paint', 'bow', 'sugar', 'poems', 'hips', 'hes', 'forgive', 'shouldve', 'orlando', 'penny', 'xyz', 'fy', 'exchange', 'luxxball', 'haul', 'exact', 'reportedly', 'heaping', 'sack', 'glitchmys', 'bollocks', 'lick', 'weallloveporn', 'cakes', 'mumbai', 'finals', 'drug', 'headass', 'lazar', 'maddie', 'brows', 'chu', 'blair', 'eod', 'advertise', 'playthrough', 'october', 'dabs', 'jc', 'frem', 'nights', 'sd', 'buying', 'rotation', 'bbq', 'screamers', 'suns', 'aaron', 'cryptaldash', 'zari', 'teen', 'judgement', 'peeing', 'avi', 'nuked', 'lottery', 'inners', 'clip', 'zionist', 'jr', 'whiny', 'promises', 'deletefacebookimmediately', 'squeeze', 'gazza', 'grew', 'maiboc', 'sox', 'burbs', 'brukout', 'thousand', 'dem', 'embarassment', 'almonte', 'mountains', 'teamz', 'foul', 'married', 'tan', 'lrt', 'allah', 'incredible', 'babse', 'posts', 'ill', 'freddy', 'ended', 'explains', 'outlook', 'recommend', 'adventures', 'isabrother', 'kitties', 'unveiling', 'memories', 'hardy', 'danielseavey', 'bonkers', 'noteworthy', 'afford', 'plumbinggimmick', 'gosh', 'lesson', 'emerge', 'bigoted', 'likewise', 'hendrix', 'simply', 'development', 'lmaooo', 'jd', 'distraction', 'tou', 'nicole', 'movle', 'demacrat', 'aint', 'brains', 'greeting', 'finna', 'renovated', 'shipped', 'haid', 'sweep', 'lunch', 'straightening', 'guidance', 'daughter', 'tory', 'mass', 'squats', 'grammer', 'secondary', 'pike', 'reaction', 'feather', 'named', 'sec', 'mozlems', 'twins', 'intros', 'booing', 'cambridge', 'toppy', 'hating', 'arsofthetrust', 'hkg', 'thik', 'durban', 'timbers', 'journalism', 'micdropremix', 'written', 'appreciation', 'tout', 'john', 'eland', 'snobs', 'overstimulation', 'recall', 'fashit', 'fakepresident', 'girllll', 'trynna', 'heartwarmingly', 'jack', 'wasserman', 'ttg', 'makechesterproud', 'tu', 'painted', 'holidays', 'htownstop', 'land', 'shouldnt', 'awkward', 'sweater', 'thankyoumaine', 'deployed', 'advantage', 'pal', 'charles', 'ke', 'strings', 'marchforourlives', 'stawp', 'youzhangjing', 'delete', 'degrees', 'physical', 'hip', 'keyboard', 'slowly', 'jungwoo', 'switch', 'yasssss', 'sickkkkkkk', 'connections', 'yunhyeong', 'exol', 'blackout', 'gogetemtiger', 'photoshoot', 'prefer', 'chic', 'bour', 'death', 'sid', 'mistakes', 'asiimov', 'wildwildcountry', 'stillstandingchallenge', 'wallander', 'bikini', 'boycotted', 'confirm', 'retail', 'sunshine', 'newcastle', 'gloom', 'metaphor', 'mas', 'whistle', 'mid', 'aldubxpatmeng', 'info', 'younger', 'cried', 'didnt', 'barbarian', 'ntr', 'haii', 'ship', 'mood', 'gag', 'writers', 'draaag', 'posting', 'lowe', 'bosvsmia', 'ion', 'monkeys', 'tvxq', 'localnews', 'hunker', 'williams', 'choices', 'cases', 'niggato', 'chopped', 'wiener', 'carlo', 'vegetables', 'sundaymorning', 'emoshonal', 'attendant', 'happiest', 'employees', 'putin', 'hall', 'victims', 'warise', 'flake', 'genno', 'jamaica', 'bouncer', 'southernprobs', 'temkin', 'ehhhh', 'welfa', 'dome', 'amber', 'hahahaha', 'andre', 'idiots', 'privateconsulting', 'judged', 'maxcoin', 'amazingly', 'destination', 'representation', 'thaem', 'stoked', 'melon', 'dropped', 'competitor', 'ck', 'hardcore', 'factory', 'mayweather', 'kaos', 'dissed', 'eastern', 'legal', 'load', 'shops', 'pubfun', 'outreach', 'loveit', 'hbdadorablealluayaan', 'adjustment', 'manutd', 'freakishly', 'umgowo', 'mutuals', 'scab', 'justtoclarify', 'ogini', 'democracy', 'ungrateful', 'fwa', 'rehabilitation', 'initial', 'sickening', 'felony', 'honesty', 'supercard', 'similar', 'migos', 'nature', 'collins', 'tuned', 'schools', 'coke', 'drawing', 'niece', 'recognized', 'aidan', 'hopeonthestreet', 'debating', 'descriptive', 'roof', 'caitlin', 'relationships', 'alucard', 'solving', 'meetings', 'fuel', 'letz', 'clean', 'remainer', 'deleted', 'checked', 'botmys', 'writes', 'lighter', 'ugh', 'climb', 'rating', 'productive', 'lobe', 'meaning', 'governments', 'pre', 'knee', 'division', 'prabhudheva', 'lands', 'snack', 'vacationwellneeded', 'que', 'jokers', 'iq', 'cheeses', 'trauma', 'rocket', 'belhaven', 'cosplay', 'ruled', 'grilled', 'issa', 'ad', 'bat', 'chanyeol', 'pusb', 'library', 'lights', 'opinions', 'ko', 'nyc', 'mornin', 'likely', 'echo', 'hated', 'lightning', 'ecclesiastical', 'dark', 'chores', 'rawthursday', 'ordinary', 'mes', 'comatose', 'radiation', 'teaching', 'hatred', 'uhm', 'naona', 'chicago', 'spark', 'iamtheresistance', 'knob', 'revolution', 'medium', 'handled', 'personally', 'apologizing', 'pina', 'sues', 'shining', 'mido', 'sexual', 'aha', 'paying', 'welly', 'assume', 'safecommunities', 'artists', 'ksazobalit', 'arm', 'jai', 'rightdown', 'wormit', 'michelle', 'corey', 'needing', 'district', 'student', 'contact', 'skin', 'taught', 'rivals', 'logan', 'ingraham', 'unlike', 'random', 'wareagle', 'beeeeeaaaaaannnn', 'greasing', 'ehrenfelser', 'homecoming', 'honorable', 'sisters', 'amine', 'mortar', 'wash', 'hangout', 'feeds', 'fieldofability', 'sooo', 'helixstudios', 'mccabe', 'lifted', 'undercover', 'ooooo', 'pulled', 'jealousy', 'gitum', 'patter', 'propagandas', 'flash', 'sudscribe', 'muslim', 'gearmeout', 'ambassadors', 'finning', 'jrm', 'slow', 'liberalismisame', 'damon', 'shoe', 'bargainprice', 'cells', 'cinnamon', 'buzzing', 'crazeme', 'wearing', 'colada', 'lo', 'sentence', 'sabs', 'unexpectedly', 'digging', 'feminazis', 'force', 'concept', 'stress', 'company', 'nwankwo', 'champions', 'fell', 'condoms', 'fortune', 'motivationmonday', 'mega', 'type', 'el', 'rated', 'mirror', 'rumoaopenta', 'jejely', 'blogging', 'enjoyable', 'mini', 'dryer', 'vlogs', 'iron', 'amzn', 'voicing', 'instastory', 'dee', 'keeps', 'wena', 'ridiculously', 'ironically', 'harianque', 'eyeshadow', 'sos', 'formal', 'tendulkar', 'realist', 'kiwi', 'completing', 'theories', 'governor', 'willbepoopingwithinthenexthourorso', 'sincerest', 'storm', 'noticed', 'mats', 'dookie', 'ofhejdjwksvd', 'amwriting', 'whys', 'ferguson', 'pakistanzindabad', 'photocard', 'drew', 'fa', 'digest', 'sundays', 'hd', 'benefit', 'excuseme', 'decent', 'src', 'khanya', 'takayoshi', 'warmer', 'staying', 'hates', 'fully', 'giadasitalycookbook', 'heartless', 'ollowers', 'cutestmodels', 'wana', 'becauseiam', 'excuse', 'knowing', 'eringance', 'delish', 'morgan', 'dump', 'stinks', 'harriet', 'captainkurt', 'painter', 'cuttin', 'greatamericancookies', 'agregenme', 'chocolateeggs', 'cryptocurrency', 'honcholee', 'dc', 'write', 'sugars', 'conspiracy', 'metallica', 'wrapped', 'slink', 'roach', 'cuppa', 'martial', 'uthandonesthembu', 'airwaves', 'pumped', 'wrath', 'base', 'simplythebest', 'hooray', 'needless', 'cricket', 'address', 'sinner', 'wi', 'simples', 'offer', 'happybirthdaysofi', 'uncensored', 'baking', 'results', 'dakota', 'waffles', 'taker', 'rumi', 'kinetics', 'italian', 'motivationalmonday', 'resort', 'throws', 'bowel', 'puke', 'hyungwon', 'ecc', 'roke', 'dressing', 'misogynistic', 'sandpaper', 'carried', 'nearest', 'vibrations', 'christian', 'danielseaveybirthday', 'picked', 'arkansas', 'predator', 'untryescape', 'nacho', 'changmin', 'ny', 'gossiped', 'caring', 'exams', 'yho', 'learnt', 'ana', 'progressive', 'chick', 'ooooooh', 'emehahahaha', 'scratch', 'seungkwan', 'india', 'spelling', 'situation', 'skyrim', 'insider', 'watchin', 'upgraded', 'cancelled', 'appears', 'chizzholm', 'traces', 'sharif', 'animated', 'reminding', 'split', 'subscriber', 'spam', 'gaf', 'blood', 'shady', 'pcgaming', 'fraud', 'thi', 'event', 'seed', 'intimidated', 'adulterer', 'travelled', 'stocking', 'muggy', 'kodi', 'yeaaaah', 'emmerdale', 'kaepernick', 'washed', 'facilitate', 'capture', 'energy', 'chart', 'hype', 'rely', 'promo', 'bennett', 'scripted', 'include', 'erase', 'thanked', 'insane', 'bruv', 'virgin', 'alter', 'skunk', 'halsey', 'wen', 'fartin', 'permeates', 'yehundinonkibaathai', 'escape', 'stardust', 'toot', 'adults', 'jeffree', 'doctors', 'cancer', 'tarde', 'hormone', 'cringe', 'dating', 'remind', 'experian', 'trop', 'tactic', 'comedy', 'slots', 'coins', 'assembly', 'prince', 'lana', 'cock', 'youtuber', 'monsta', 'infectious', 'vickyvette', 'marquee', 'junk', 'bin', 'boom', 'whatevershallido', 'ads', 'ryan', 'begining', 'scrap', 'pardew', 'gamed', 'members', 'blast', 'doom', 'fashion', 'remembering', 'pearl', 'vimto', 'yassssssssssssssss', 'bitchass', 'randomly', 'peersupport', 'microwave', 'yaaaa', 'choose', 'holly', 'congratsssss', 'mariokart', 'godofwar', 'yaaaaaaaasssss', 'awake', 'anyways', 'roxy', 'jaspin', 'thurgood', 'provocations', 'road', 'nisahc', 'letting', 'happybirthdayparkjungmin', 'duo', 'awh', 'consecutive', 'impact', 'affiliate', 'boobies', 'prom', 'perkins', 'liar', 'rai', 'porto', 'mash', 'tome', 'icymi', 'dumps', 'general', 'distinct', 'tm', 'cane', 'fytb', 'kissing', 'happyjungminday', 'picking', 'accidentally', 'flaunts', 'ceased', 'maine', 'exempt', 'libras', 'solution', 'sabi', 'goood', 'ummmm', 'flea', 'rapping', 'wipes', 'cunt', 'biggestpartyoftheyear', 'wipe', 'endless', 'meek', 'claimed', 'liberalism', 'area', 'comradetrump', 'myeverything', 'hizi', 'crisisactors', 'birzday', 'explanation', 'placed', 'uhmmm', 'valentine', 'nycc', 'capitalizing', 'study', 'mush', 'hyukjae', 'moving', 'nehru', 'quavo', 'mario', 'sparkling', 'slang', 'plzzzz', 'deliberate', 'alex', 'ollie', 'edges', 'understanding', 'unblock', 'challenge', 'session', 'exposing', 'bombscare', 'trudeau', 'hte', 'broodal', 'backyard', 'pa', 'stepped', 'tc', 'buildthedamnwall', 'yeahhhhhhh', 'favor', 'yoo', 'attack', 'informative', 'reservation', 'suspect', 'sk', 'gi', 'opioid', 'paris', 'luc', 'tickled', 'nephews', 'hardly', 'validate', 'golfer', 'interaction', 'pu', 'kitty', 'quiz', 'mana', 'cha', 'grounds', 'prank', 'apparently', 'scores', 'jihoon', 'stu', 'jess', 'presence', 'competitive', 'metallicanight', 'punishmuslimday', 'ucsb', 'sims', 'famous', 'metaphysical', 'partner', 'sportstour', 'coupta', 'firstlady', 'creator', 'phd', 'boise', 'monnie', 'dispensary', 'concealer', 'richards', 'kutoa', 'succesfuul', 'accounta', 'majix', 'atl', 'yall', 'intellectual', 'guna', 'bragga', 'dam', 'hotlight', 'tech', 'gran', 'china', 'worldofwarcraft', 'pint', 'cinth', 'chonis', 'broccoli', 'persistent', 'beast', 'povetkin', 'insura', 'served', 'dean', 'buybeats', 'ure', 'hop', 'hiding', 'riaa', 'obj', 'fucker', 'jerk', 'popular', 'unless', 'customerservice', 'unsuspecting', 'sizzlin', 'molina', 'bakithi', 'marvelcomics', 'capability', 'boyyy', 'dunedin', 'solo', 'motived', 'ellenandportiatruelove', 'fort', 'servers', 'shaker', 'yaaaay', 'murray', 'smashed', 'trips', 'athol', 'seo', 'girlll', 'bobrisky', 'gasp', 'guards', 'iam', 'shi', 'box', 'regina', 'bryan', 'juniorhighschoolrecognition', 'giggles', 'broly', 'shallow', 'bias', 'dry', 'vmin', 'sun', 'chap', 'born', 'moylanbrothers', 'rainy', 'perfectly', 'suspended', 'degi', 'missworldbahamas', 'jenna', 'salam', 'za', 'baseballiscoming', 'alien', 'sosad', 'turkey', 'atf', 'lamar', 'jerseyshorefamilyvacation', 'counts', 'immigrant', 'cough', 'panas', 'ss', 'greg', 'banter', 'bes', 'ordeal', 'sy', 'harsh', 'presenting', 'adnauseum', 'polls', 'freebiefriday', 'selca', 'ccstca', 'wrestlemaina', 'rhode', 'newjersey', 'breddah', 'poetjunhoeday', 'requested', 'bostonterrier', 'er', 'fiyah', 'grateful', 'ultimate', 'cross', 'soundtracks', 'rd', 'beds', 'uniforms', 'sens', 'arrive', 'illustrated', 'rogerstone', 'chief', 'families', 'worthless', 'talkin', 'gorce', 'entrapment', 'natalieslothrichter', 'crowd', 'memor', 'lock', 'traitors', 'decade', 'lago', 'childrensbook', 'waited', 'cinthia', 'netset', 'hypeman', 'goals', 'roadtoaffiliate', 'mansfield', 'passes', 'raised', 'itsok', 'horror', 'sooon', 'washes', 'instalment', 'bezos', 'chapters', 'omm', 'lowkey', 'dolly', 'thegoodplac', 'lifeisgood', 'powerful', 'delivered', 'tucker', 'gremlins', 'allowed', 'rudi', 'colace', 'chairs', 'onn', 'savior', 'terrorists', 'domestic', 'horan', 'deadites', 'foodies', 'identifiable', 'pencils', 'pilot', 'peop', 'medicine', 'completion', 'cst', 'resist', 'wong', 'knc', 'ou', 'bigboy', 'shower', 'recognize', 'caught', 'tokyo', 'insan', 'tejas', 'hov', 'seconded', 'websites', 'mightier', 'recording', 'belated', 'verse', 'pensioners', 'celebratory', 'saturdays', 'celebrateallsuccesses', 'delicious', 'sandwich', 'senpai', 'attacking', 'stucostrong', 'peak', 'killers', 'albzzy', 'messing', 'lunes', 'traits', 'caba', 'spirit', 'bullpen', 'babes', 'trek', 'forecast', 'douchecanoe', 'empathy', 'fullest', 'str', 'fear', 'farris', 'daway', 'yaw', 'complexion', 'speech', 'clown', 'haircut', 'theme', 'wee', 'broooo', 'sweeter', 'daughters', 'betray', 'formativechat', 'tallest', 'shvt', 'abenfica', 'deserves', 'indian', 'dcth', 'planning', 'vintage', 'jungmin', 'blockbuster', 'marketing', 'ahhhhh', 'recently', 'investigation', 'launching', 'aswell', 'band', 'peppers', 'bashme', 'verified', 'pain', 'provide', 'kunchakobob', 'mtac', 'sacks', 'coxx', 'spankbang', 'hahah', 'repeat', 'globalists', 'aldi', 'amendment', 'rhy', 'aid', 'ustednosabequiensoyyo', 'workers', 'inshaallah', 'actions', 'bluetsunami', 'aim', 'intelligent', 'frosting', 'chale', 'fakenewsmedia', 'hurrayy', 'btc', 'chalk', 'survivor', 'escaped', 'proudly', 'gear', 'cici', 'fortinite', 'aligned', 'items', 'learning', 'guessing', 'crazies', 'burb', 'wembley', 'aggravating', 'convenient', 'yessss', 'mxm', 'erin', 'guetta', 'parise', 'ing', 'dh', 'cousins', 'category', 'range', 'ts', 'teamrico', 'jor', 'sdf', 'journey', 'lucecelestialemnl', 'sweatshirt', 'fella', 'millionaire', 'punk', 'glasgow', 'farrrr', 'yir', 'extended', 'proctors', 'timcook', 'hurry', 'bisaya', 'jamal', 'adorable', 'obvi', 'fernando', 'nss', 'bailed', 'department', 'crystal', 'walker', 'dre', 'patties', 'payne', 'soundcloud', 'una', 'iyke', 'qt', 'divorcee', 'changkyun', 'hampers', 'unzip', 'purpose', 'silliest', 'neta', 'degrassi', 'sabrina', 'johnson', 'dan', 'peeps', 'dramatic', 'referring', 'arguments', 'somu', 'crime', 'boston', 'usdlearns', 'accumulating', 'prosecco', 'commissions', 'target', 'astroo', 'linkinpark', 'bruinfamily', 'duh', 'blockparty', 'impeachtrumpnow', 'punish', 'captain', 'jacket', 'sith', 'belying', 'nibbles', 'js', 'ed', 'opt', 'decide', 'letsgooakland', 'lmaoooooo', 'valid', 'twba', 'defending', 'surprising', 'manheim', 'doo', 'smarter', 'fwd', 'idol', 'poorest', 'shame', 'funnyjoke', 'pok', 'yhe', 'johnny', 'lane', 'onmyblock', 'pabus', 'piles', 'sawyer', 'bestie', 'chauffeur', 'ninja', 'strut', 'offended', 'issss', 'bankholidaymonday', 'shaku', 'happyxiuminday', 'lightskinato', 'addy', 'submitted', 'urgent', 'greenville', 'lizvicious', 'rocketleague', 'polite', 'revise', 'sucks', 'babyy', 'sending', 'fellerz', 'shoots', 'adrenal', 'shoppin', 'snacks', 'holloway', 'mike', 'snowflakes', 'bound', 'hersen', 'spongebob', 'gawd', 'og', 'employers', 'presents', 'annual', 'le', 'trouble', 'martin', 'nomkhulu', 'bacon', 'held', 'kiss', 'hentai', 'kittyloafmonday', 'jaguarmax', 'trumpy', 'rtc', 'loyalty', 'skeptical', 'exploring', 'hartbeeps', 'creat', 'eeeeeeekkkkk', 'championship', 'concert', 'namjoon', 'modii', 'shoutout', 'emailing', 'header', 'contagious', 'cabin', 'creation', 'moments', 'rom', 'color', 'repressive', 'ethereal', 'autograph', 'wine', 'abv', 'competition', 'draw', 'uo', 'cmon', 'revenue', 'toidymat', 'freakin', 'ros', 'improved', 'hussein', 'collab', 'shahid', 'neglect', 'uber', 'recognition', 'wa', 'ezrecordsthelabel', 'tongue', 'waterfalls', 'mattis', 'douchebaggappaloosa', 'strip', 'reactions', 'gram', 'keem', 'krabby', 'serve', 'foster', 'marriedinmke', 'ayeeee', 'gd', 'onlyfans', 'disagree', 'recipes', 'dies', 'vilardi', 'inktopsecret', 'sweat', 'namjihyun', 'bihh', 'arms', 'americantraitor', 'flies', 'demanding', 'whatsoever', 'amazon', 'policing', 'peter', 'penal', 'nationa', 'lullaby', 'shet', 'indiegamedev', 'kkd', 'yfm', 'suggest', 'thug', 'purty', 'raci', 'mannnnn', 'yelpreview', 'votenana', 'dinnae', 'alm', 'annoying', 'eastbound', 'louisa', 'sliding', 'lewis', 'movement', 'oklahoma', 'known', 'suicide', 'huh', 'lhhatl', 'rappin', 'musky', 'traitorous', 'eproctophilia', 'curve', 'itching', 'africans', 'wom', 'doris', 'dripping', 'bart', 'fowget', 'preorder', 'lolololol', 'tine', 'revealing', 'thelionguard', 'powerlaunch', 'eh', 'skid', 'mixtape', 'everybodyin', 'column', 'language', 'smooth', 'trust', 'grumpy', 'donnie', 'gen', 'bolton', 'struggling', 'katmoonishome', 'spiked', 'source', 'sachin', 'sweaty', 'yer', 'gladly', 'wax', 'dreadnoughts', 'outfit', 'volunteers', 'ascot', 'cash', 'wicked', 'blessing', 'smash', 'handshake', 'pimple', 'agreed', 'prez', 'fulfilled', 'hugest', 'chips', 'duu', 'todd', 'highlights', 'blow', 'asleep', 'pjs', 'search', 'laughs', 'jeremy', 'computer', 'cup', 'argument', 'rough', 'youngster', 'abuse', 'gifs', 'soft', 'mag', 'meara', 'anderson', 'finger', 'ashley', 'terrible', 'clamps', 'determined', 'roseannecomeback', 'phase', 'saucy', 'docume', 'chesney', 'bottle', 'key', 'lockthemallup', 'bcpoli', 'micro', 'eileen', 'closed', 'realraprec', 'tekapo', 'irreplaceable', 'nvm', 'prize', 'forgotten', 'johnlawrence', 'alw', 'funding', 'dirt', 'leaguer', 'zee', 'intense', 'gang', 'qb', 'youbetterwriteone', 'folding', 'transferable', 'email', 'soloist', 'lilly', 'statusupdatemovie', 'costumes', 'listed', 'officials', 'luda', 'desiigner', 'spain', 'notifications', 'replay', 'kanu', 'congratulationz', 'feds', 'complicit', 'accessories', 'stead', 'idols', 'sau', 'europeans', 'groove', 'remate', 'expected', 'codarmy', 'pence', 'skills', 'succeed', 'pcgamer', 'weatherfield', 'bnday', 'bunches', 'bff', 'smiling', 'disappoint', 'stray', 'suckkkkkksssssss', 'cops', 'bants', 'yahn', 'sleeps', 'ahe', 'apartment', 'shawt', 'sunrise', 'ght', 'worries', 'whoohoo', 'acct', 'thoooo', 'donghyuk', 'wins', 'transfered', 'malaysian', 'chameleons', 'eyin', 'stare', 'salt', 'foundation', 'distance', 'yasmine', 'commonplace', 'lucy', 'judgment', 'den', 'allows', 'glowinthedark', 'discussion', 'soooooo', 'ers', 'st', 'tape', 'private', 'pizzapizza', 'lincoln', 'treble', 'schofield', 'beef', 'therapeutic', 'brassknuckles', 'thou', 'countdown', 'blorp', 'mcm', 'millard', 'roger', 'songsong', 'century', 'cover', 'linda', 'bankrupt', 'metropolitan', 'completer', 'adore', 'gord', 'isthissemsterdone', 'dementia', 'street', 'ebt', 'deadline', 'pockets', 'lent', 'ng', 'wigan', 'unplugged', 'worn', 'county', 'ji', 'workshop', 'beers', 'gov', 'hero', 'standards', 'ily', 'lasted', 'reaching', 'puro', 'sees', 'hulya', 'jeffrey', 'managed', 'fornite', 'mmmhmmm', 'multi', 'taxi', 'egomaniac', 'healthy', 'starts', 'kozachok', 'ntwana', 'podcasts', 'designs', 'punch', 'gallagher', 'pooping', 'nae', 'mat', 'gir', 'conscience', 'yeehaw', 'comic', 'orangebuffon', 'finale', 'bathroom', 'newgtlds', 'emojis', 'bio', 'click', 'biggavel', 'gea', 'bellah', 'excellent', 'earlier', 'titions', 'voter', 'overseas', 'shaved', 'difference', 'lovebychanceseries', 'probs', 'champ', 'marswithalden', 'propaganda', 'nephew', 'tambokikoy', 'racist', 'promposel', 'audacity', 'gtlive', 'fromboytoman', 'lions', 'dgaf', 'hele', 'pruitt', 'glupppp', 'nessie', 'unity', 'deport', 'sc', 'wright', 'onw', 'argue', 'hurley', 'buzz', 'hosts', 'bots', 'grainger', 'corru', 'tae', 'leeds', 'knowledge', 'guitar', 'budget', 'carry', 'graduation', 'streaks', 'hypocrite', 'texter', 'unit', 'angel', 'shitassperformer', 'currently', 'examine', 'hint', 'yaris', 'infrared', 'universe', 'built', 'ethanwalli', 'reactionary', 'soo', 'surpassing', 'bop', 'youu', 'hook', 'bleach', 'yexiu', 'boxing', 'charmin', 'memo', 'fucccc', 'san', 'japanese', 'contribution', 'dragged', 'shade', 'spanish', 'snapchat', 'steal', 'shat', 'rolodex', 'ect', 'nationwide', 'lmaoo', 'steve', 'wic', 'tomcatting', 'ik', 'kent', 'accolades', 'ov', 'countries', 'pussey', 'wake', 'classic', 'shaken', 'cherry', 'milf', 'evolution', 'stating', 'tmgs', 'relev', 'lighten', 'bookday', 'nickel', 'methinks', 'poles', 'soulfulratchet', 'swamp', 'thoughts', 'gal', 'bog', 'titled', 'marktuan', 'eli', 'fighting', 'horse', 'ufc', 'justify', 'power', 'quirky', 'mira', 'shuffle', 'splc', 'pacquaio', 'siblings', 'ksnandnf', 'shake', 'nominated', 'hungover', 'colleen', 'biased', 'columbia', 'falice', 'warmup', 'canadian', 'worry', 'mv', 'foreign', 'bbc', 'smiles', 'sellers', 'stars', 'itunes', 'planet', 'goober', 'crude', 'malik', 'smug', 'cis', 'lyft', 'crc', 'hangouts', 'assure', 'oxem', 'lowpoly', 'karius', 'jel', 'pedophiliac', 'numb', 'cautious', 'theperfectredvelvet', 'cars', 'constant', 'quickly', 'ref', 'motivating', 'breadsticks', 'shacking', 'mnwild', 'pressie', 'petitions', 'zoos', 'maniac', 'thebeatles', 'looooooose', 'options', 'sling', 'sgu', 'dick', 'shocked', 'hometovote', 'cafeteria', 'bola', 'equality', 'coz', 'eternal', 'hehehe', 'pesticides', 'apartments', 'coffee', 'yeezy', 'imwiththiskid', 'eniola', 'mexican', 'annaloves', 'pedropascal', 'toyota', 'thumbs', 'butterflies', 'imessage', 'expect', 'successful', 'col', 'corny', 'spouting', 'sign', 'clam', 'campaign', 'kylie', 'compromised', 'dictionary', 'yorker', 'bite', 'depressed', 'sorted', 'mimi', 'tougher', 'mixup', 'id', 'woot', 'splash', 'airheads', 'pursue', 'zara', 'granted', 'justin', 'charleston', 'wooow', 'morocco', 'dawsonscreek', 'musgraves', 'georgegroves', 'possibly', 'transfer', 'eno', 'smelling', 'mremix', 'context', 'whitehouse', 'talks', 'blunt', 'birthay', 'campaigning', 'parscale', 'doh', 'nakka', 'freaky', 'minhyun', 'quav', 'demented', 'ambassador', 'wood', 'jfk', 'jett', 'dawn', 'disco', 'titan', 'babysitter', 'local', 'allemand', 'poll', 'murtagh', 'bharatanenenu', 'lovemylife', 'mersal', 'peice', 'sins', 'technology', 'baller', 'fosta', 'contest', 'walmart', 'insisted', 'spoke', 'romance', 'harry', 'looongg', 'thinks', 'correction', 'compliment', 'appeal', 'bundle', 'despised', 'goooooooooo', 'muslims', 'roads', 'leopards', 'wazzup', 'darkweb', 'aries', 'establ', 'rosen', 'malaysians', 'berkeley', 'dsgt', 'repostsave', 'pocketss', 'attached', 'rb', 'phelan', 'expensive', 'pod', 'outttt', 'cringy', 'igot', 'businesswomen', 'feed', 'breather', 'carnafunk', 'qotd', 'laughter', 'agent', 'entertaining', 'rangastalam', 'exam', 'buko', 'tribute', 'prizes', 'orelse', 'sef', 'trumper', 'twice', 'bodypositive', 'jobs', 'giothemodest', 'inspiration', 'lied', 'takeyouhome', 'paaji', 'xplornet', 'rsl', 'sleepybitch', 'equals', 'girly', 'blush', 'ghee', 'millers', 'shred', 'shits', 'liarinchief', 'vacationmode', 'finish', 'sarahhhhh', 'telly', 'pips', 'bridge', 'morals', 'cumplea', 'brudda', 'prove', 'hehe', 'enjoyyyyy', 'salmankhan', 'peep', 'nelson', 'imagining', 'hood', 'pandastory', 'statue', 'taken', 'leaders', 'racism', 'chowder', 'mueller', 'tripping', 'seuss', 'jaylon', 'yie', 'shape', 'mermaids', 'ai', 'shooting', 'unbelievable', 'vgma', 'larrywahl', 'engages', 'sheepdog', 'citizens', 'hasn', 'unicorn', 'tweeted', 'covered', 'indians', 'fecesbook', 'silly', 'hush', 'bowelmovement', 'chair', 'bops', 'heeeeeey', 'sdp', 'fetch', 'meathead', 'whyte', 'runaway', 'woo', 'pie', 'dollars', 'oyster', 'audrey', 'form', 'claudia', 'dragging', 'vips', 'kojo', 'considered', 'anal', 'temporary', 'teenage', 'boss', 'host', 'complements', 'eggroll', 'johnston', 'interviewing', 'patients', 'script', 'apply', 'afc', 'oficial', 'sweetie', 'gainwithjnshine', 'kidding', 'raise', 'realistically', 'kcs', 'peraza', 'natural', 'bake', 'calendar', 'able', 'ideology', 'gig', 'minecraftpe', 'bullying', 'accounts', 'generation', 'brotha', 'allan', 'pastor', 'classmates', 'laptop', 'magoof', 'salute', 'presidential', 'grass', 'insert', 'govt', 'anstruther', 'warwick', 'intervention', 'tragic', 'battle', 'wifi', 'effort', 'csk', 'graduate', 'themselve', 'arseholes', 'crossbow', 'courtesy', 'kean', 'nonstop', 'chat', 'procrastinating', 'pat', 'goldmaking', 'neverever', 'idkkk', 'ovarian', 'buen', 'depression', 'tested', 'shitcoins', 'nerdy', 'shutting', 'janitor', 'cuban', 'kimmonwolfboyparty', 'jug', 'inherited', 'parentingtips', 'launch', 'mentioning', 'tony', 'harim', 'struggle', 'jams', 'goofy', 'oxycontin', 'fatty', 'trudging', 'answered', 'bopping', 'sample', 'action', 'consortium', 'niet', 'silence', 'americanidol', 'spades', 'volvooceanrace', 'tattooed', 'diagnosis', 'blame', 'unite', 'pharrah', 'cheat', 'speaks', 'enchants', 'samsung', 'beans', 'gogh', 'investors', 'gft', 'detroit', 'woonsocket', 'worldautismawareness', 'mucho', 'parody', 'puppy', 'keansburg', 'pool', 'tied', 'cuhz', 'realize', 'footwork', 'servant', 'banged', 'meeting', 'minus', 'evenly', 'retrograde', 'pads', 'comp', 'en', 'keit', 'nieces', 'frustrations', 'diffently', 'chilling', 'crabs', 'hotshit', 'whatsapp', 'surrounded', 'xd', 'memory', 'conversation', 'rolling', 'tarts', 'trivia', 'repugnican', 'legends', 'deylon', 'crock', 'uglyyy', 'princes', 'dominglunes', 'girlboss', 'nun', 'mixed', 'theeeennnks', 'elbows', 'grades', 'etsy', 'ancestors', 'yr', 'noted', 'collusion', 'doodoo', 'sta', 'noises', 'ndebele', 'childhood', 'myundeniableobsession', 'theriver', 'odyssey', 'russian', 'robots', 'adulting', 'indica', 'gladio', 'dez', 'santana', 'dragon', 'insta', 'outlets', 'truuu', 'rent', 'missyoustreamingparty', 'guuuurrrl', 'nct', 'comme', 'era', 'methods', 'solved', 'mta', 'overcast', 'newly', 'quote', 'starring', 'apps', 'discover', 'throwback', 'secure', 'lunatic', 'friendship', 'foot', 'justright', 'misrepresentation', 'pulling', 'castle', 'engine', 'cherie', 'bett', 'market', 'asking', 'actual', 'chan', 'souls', 'broads', 'ghost', 'homeless', 'mix', 'dakin', 'kung', 'catlife', 'ri', 'circled', 'hwangchiyeol', 'harley', 'sho', 'oooo', 'istandwithlaura', 'biloxi', 'reads', 'yodeling', 'donate', 'dealing', 'renata', 'lien', 'californiasmells', 'unhinged', 'soapie', 'yah', 'northerners', 'painful', 'trio', 'ward', 'isibaya', 'minded', 'serves', 'wethepeople', 'drinks', 'hubby', 'unfortunately', 'washingtondc', 'creative', 'xiumin', 'libs', 'throwing', 'tim', 'phones', 'apparel', 'spidermanhomecoming', 'slimeball', 'alcatra', 'past', 'ngot', 'avenues', 'hela', 'trifling', 'favorites', 'ssdiski', 'drill', 'plane', 'frds', 'omfg', 'poem', 'york', 'weapon', 'deserved', 'yeahh', 'takam', 'warrant', 'sibling', 'lantern', 'headboard', 'ohno', 'professional', 'miles', 'hitting', 'bobby', 'pawsome', 'relation', 'dime', 'yoka', 'joyful', 'homemade', 'shall', 'website', 'jep', 'chopping', 'jinyoung', 'konnor', 'carpool', 'maris', 'suppose', 'humiliation', 'itch', 'recharge', 'wife', 'canals', 'tubman', 'colossous', 'understands', 'wet', 'disrupted', 'jake', 'ohnoihcked', 'barfi', 'carries', 'morrronning', 'tasting', 'proc', 'gaol', 'birdman', 'rightnow', 'missed', 'mcc', 'smackdown', 'gh', 'benning', 'husbands', 'regional', 'elll', 'signature', 'facebook', 'auntie', 'elhs', 'jfc', 'kansas', 'studio', 'vacationing', 'geochevel', 'comey', 'unicode', 'nbalivemobile', 'nofx', 'sesh', 'yeeeww', 'fingers', 'ping', 'bunghole', 'tweeting', 'hows', 'cathyandcourtneyshim', 'stud', 'gas', 'inning', 'ghetto', 'stiff', 'gillian', 'raging', 'prob', 'equipped', 'jaebum', 'kewl', 'outs', 'tetley', 'pasta', 'rex', 'reminder', 'wuth', 'findings', 'interview', 'internet', 'jis', 'rasmussen', 'discounted', 'helping', 'charming', 'announced', 'panchavarnathatha', 'pillows', 'hack', 'cdn', 'nigerians', 'peopl', 'homes', 'utton', 'sars', 'ohh', 'takes', 'rockin', 'shiro', 'chanting', 'teaml', 'cameron', 'retiring', 'bye', 'superman', 'playoffs', 'hahahha', 'giftcard', 'pidi', 'autism', 'ava', 'mcms', 'kant', 'referencing', 'redeem', 'madewithunity', 'zuckface', 'gostou', 'hctib', 'hanbin', 'asshat', 'chasecoleman', 'tenure', 'toothbrush', 'amazo', 'thinkin', 'greeks', 'horrible', 'learnlap', 'jukebox', 'fb', 'needa', 'facial', 'regretted', 'center', 'sur', 'grin', 'darling', 'pour', 'lex', 'unusual', 'nexxxxxxt', 'selects', 'waunakee', 'scandal', 'problems', 'feature', 'tattoo', 'fridaymood', 'shitbag', 'petty', 'genuinely', 'huncho', 'hoes', 'larwd', 'firstdates', 'dunno', 'value', 'infrastructure', 'shaming', 'employment', 'yess', 'bottled', 'judge', 'bones', 'btsglitchparty', 'daz', 'workout', 'voiceblinds', 'joins', 'tak', 'com', 'lifetimes', 'followed', 'mushed', 'khan', 'springer', 'inspired', 'asses', 'oml', 'wahala', 'scrolls', 'ucsf', 'broski', 'billie', 'supreme', 'statistic', 'marble', 'mondayfunday', 'bargain', 'islanders', 'justlikeyoustreamingparty', 'tippy', 'experts', 'ypj', 'nico', 'meaningful', 'honored', 'labone', 'studios', 'desk', 'mel', 'walls', 'woof', 'swahili', 'sheetdong', 'flavor', 'sea', 'doodlebob', 'meer', 'petulant', 'reworking', 'spiderman', 'honework', 'ged', 'gong', 'voltron', 'anatomy', 'bsides', 'nazi', 'robert', 'tighten', 'courtship', 'mob', 'worried', 'marked', 'tee', 'worl', 'grand', 'whale', 'anna', 'ofcus', 'rogue', 'water', 'muthafuckin', 'armys', 'exercises', 'tito', 'jones', 'ky', 'ocean', 'hyungs', 'plenty', 'loose', 'surrounds', 'statusupdate', 'matt', 'cocktail', 'donald', 'violence', 'convention', 'apprecia', 'wrap', 'patch', 'powerofthepen', 'price', 'income', 'bullish', 'legit', 'wowow', 'lowered', 'leigha', 'aspire', 'english', 'plant', 'gbc', 'rejects', 'jazba', 'flu', 'halloween', 'troll', 'butter', 'trespassing', 'snowing', 'moncarataprilfoolsday', 'onesie', 'groups', 'hands', 'friendly', 'pathetic', 'gta', 'mentioned', 'reporting', 'animalrights', 'por', 'moose', 'siri', 'wig', 'dana', 'checks', 'feet', 'clock', 'nismonation', 'salesforce', 'costing', 'eagles', 'billion', 'oncology', 'valley', 'sony', 'wey', 'honour', 'yzj', 'newgirl', 'gray', 'sneak', 'discipline', 'accent', 'musical', 'ooo', 'indiedevhour', 'bruise', 'stockport', 'obvious', 'seventh', 'common', 'decades', 'cz', 'pets', 'versio', 'brownies', 'onnnnn', 'dk', 'machine', 'boa', 'disgraced', 'koreanartist', 'fam', 'sioux', 'spontaneous', 'fund', 'cred', 'twee', 'ineded', 'tch', 'gacnorth', 'winter', 'bootyhole', 'cope', 'legend', 'azz', 'newsongalert', 'law', 'nose', 'opps', 'lurve', 'birthdaybitch', 'panther', 'chippy', 'catmys', 'gladiators', 'usual', 'froch', 'sps', 'colossal', 'sucker', 'lemmee', 'september', 'freebeats', 'dt', 'tshego', 'protect', 'finest', 'bearish', 'booster', 'vise', 'ama', 'coool', 'ben', 'added', 'undoubtedly', 'giant', 'cost', 'immortals', 'poured', 'yapping', 'msd', 'finalist', 'ariesgang', 'musik', 'rada', 'failed', 'jax', 'gettting', 'arcade', 'hamlet', 'gf', 'evolve', 'ive', 'compassionate', 'eve', 'bughead', 'illustrates', 'imo', 'bitcoin', 'gents', 'mah', 'brill', 'classy', 'starbuckscoffee', 'evidence', 'changing', 'bud', 'alive', 'paw', 'perry', 'wk', 'elimination', 'rangasthalam', 'kurt', 'pushed', 'centers', 'swirl', 'ruff', 'jagoff', 'yee', 'sword', 'oasis', 'bubble', 'fawning', 'hq', 'remodsouza', 'heartbreak', 'props', 'upgrades', 'sob', 'incase', 'goa', 'puss', 'warm', 'ronda', 'andrewstallingimagery', 'treasure', 'posters', 'newmusic', 'pappu', 'lyn', 'slight', 'secret', 'afraid', 'ran', 'cups', 'download', 'clap', 'madrid', 'dang', 'billy', 'oshi', 'judy', 'nuff', 'shoulda', 'pensions', 'competitors', 'pipe', 'rino', 'collect', 'leos', 'surveys', 'mrandmrslewis', 'shirts', 'generationgame', 'supercoach', 'sheeran', 'jackson', 'karlmarx', 'fue', 'omelettes', 'valentines', 'kuch', 'fw', 'government', 'cast', 'anime', 'jordan', 'clutching', 'perspective', 'explaining', 'keenum', 'mouthwash', 'selection', 'submissions', 'loses', 'awesomeness', 'sonja', 'kirsten', 'deshalb', 'rage', 'bakugo', 'skeemsaam', 'perform', 'arrives', 'hahahah', 'riding', 'bi', 'betis', 'conae', 'nebula', 'umpire', 'parent', 'zuckerberg', 'fbr', 'bus', 'aaaaa', 'stopped', 'heals', 'iracing', 'hijab', 'virtuoso', 'burnt', 'jimaccosta', 'monnnnnthhhhhh', 'yoi', 'mahal', 'oooh', 'lmaooooooo', 'pretending', 'jerking', 'blazingsaddles', 'disappeared', 'visitor', 'padron', 'doooood', 'approximately', 'washing', 'order', 'jealous', 'registration', 'scentsy', 'slightly', 'arse', 'walifungwa', 'twink', 'ta', 'nfl', 'headshot', 'brodie', 'history', 'phillip', 'kihyun', 'alt', 'goldeneye', 'scolding', 'nfltotalaccess', 'reachout', 'ninth', 'escentuals', 'chase', 'mo', 'cats', 'bandwagon', 'handful', 'humming', 'cutie', 'spoken', 'eternally', 'commend', 'youngsta', 'happybirthdaypjm', 'santa', 'prosecute', 'drumpfo', 'madness', 'rams', 'guns', 'featureme', 'liveme', 'arthur', 'drinking', 'shorty', 'liam', 'cuh', 'acostacrap', 'essence', 'stories', 'gorges', 'lover', 'roku', 'thalapathy', 'bc', 'dolla', 'poo', 'funky', 'motion', 'bellion', 'mythical', 'expecting', 'stew', 'sleeping', 'wrote', 'grab', 'rall', 'master', 'cards', 'shiver', 'harujion', 'pushing', 'congressional', 'sashalicious', 'askheranything', 'misjudged', 'paji', 'chew', 'pumper', 'breathe', 'firstbroadcast', 'nanimo', 'nooo', 'allways', 'showers', 'spin', 'ruined', 'floor', 'itni', 'happybdaykapilsharma', 'tiffany', 'ndlovu', 'cof', 'struggles', 'rose', 'victories', 'estateagentlife', 'cheap', 'linkedin', 'cart', 'debut', 'snatched', 'tracksuit', 'hotmilf', 'earned', 'vodu', 'sophomores', 'ctfu', 'needed', 'emma', 'qtips', 'sang', 'rivershark', 'tracy', 'travel', 'lawd', 'cas', 'eww', 'nicer', 'easier', 'specialist', 'mi', 'lived', 'overpriced', 'creamy', 'rings', 'flop', 'favotire', 'corrutptrump', 'martha', 'medal', 'tha', 'badlands', 'ico', 'ford', 'dontforgetthedollarsign', 'lefty', 'rylie', 'texts', 'toady', 'delayed', 'election', 'spaghetti', 'legacy', 'dunk', 'sprays', 'bestfriends', 'cheer', 'image', 'brrrr', 'conormcgregor', 'forzajuve', 'continue', 'cf', 'pp', 'emoji', 'frames', 'richard', 'yelling', 'lefties', 'almighty', 'lea', 'tire', 'figured', 'subpoena', 'george', 'albums', 'slides', 'kama', 'mjiwrds', 'respectthet', 'rovers', 'athleticism', 'fresh', 'hugs', 'henry', 'arabian', 'multiple', 'dailylifedrawing', 'happily', 'trophies', 'enoughisenough', 'ini', 'negative', 'finding', 'drank', 'wha', 'europe', 'intelligence', 'lookgot', 'drunk', 'cheds', 'perv', 'thingspeopletaketooseriously', 'niners', 'preaching', 'slice', 'retro', 'rubber', 'condo', 'fee', 'notebook', 'mayor', 'reasons', 'boobs', 'northwest', 'unlucky', 'midfield', 'exxacctlyy', 'lptx', 'shook', 'aprilfools', 'travis', 'lastmanstanding', 'alluayaan', 'rappers', 'stephen', 'paycheck', 'awaiting', 'syste', 'sooner', 'mug', 'xitsonga', 'partic', 'mvp', 'allies', 'mondaynight', 'ii', 'pleasant', 'globe', 'zombie', 'files', 'beard', 'haw', 'humor', 'nyweh', 'bike', 'battalions', 'ppap', 'solid', 'gender', 'britain', 'supportsma', 'pristin', 'fansite', 'ave', 'deuce', 'guru', 'levin', 'bush', 'citizen', 'exercising', 'retweeet', 'launched', 'stall', 'tatticoin', 'cult', 'twist', 'eaten', 'buttt', 'bested', 'helmet', 'hotspot', 'hits', 'crapnation', 'invulnerable', 'wtftumi', 'basically', 'tides', 'elgano', 'fastest', 'retired', 'qin', 'fencer', 'issagodsplan', 'bells', 'prints', 'cycling', 'trap', 'environment', 'dish', 'op', 'policies', 'ince', 'everytime', 'teddy', 'trumpers', 'camp', 'lays', 'nathanfilliongifs', 'batman', 'magazine', 'rem', 'himym', 'rocks', 'tools', 'kno', 'flush', 'boyfriends', 'gemini', 'buffoonery', 'kitkat', 'waffle', 'hoodie', 'kimono', 'diadem', 'legendsoftomorrow', 'researcher', 'sacked', 'celebrated', 'stag', 'astute', 'associated', 'yawn', 'chopchop', 'shoreline', 'amendmentnow', 'drowning', 'backs', 'houston', 'escaping', 'nshit', 'newest', 'sparky', 'careful', 'chore', 'immediate', 'clubs', 'combat', 'falk', 'ml', 'resisters', 'ribena', 'dedicacation', 'cooking', 'shitter', 'naughty', 'onboarding', 'goin', 'submit', 'grave', 'georgeratcliffe', 'bunch', 'respite', 'offline', 'fo', 'noodle', 'teammate', 'megan', 'boots', 'science', 'combo', 'hospital', 'hustler', 'jornal', 'krypton', 'sniveling', 'chr', 'pogo', 'birthdayboy', 'plate', 'pinche', 'learned', 'thy', 'pep', 'colors', 'atta', 'rejoice', 'daymn', 'tooty', 'il', 'retirement', 'upped', 'dynamic', 'iminthere', 'bigboobs', 'suits', 'khloe', 'picturebookchallenge', 'myyyyyyyyyyy', 'tequila', 'torture', 'mozilla', 'fellow', 'cheek', 'tonite', 'joy', 'undo', 'thefear', 'jersey', 'passed', 'machos', 'snubs', 'mmc', 'cupcake', 'thefoxx', 'flaming', 'anonymous', 'delivery', 'iniesta', 'queda', 'hattiesburg', 'mccarran', 'caskale', 'chargers', 'unto', 'hollywood', 'di', 'baaghi', 'tds', 'alot', 'scat', 'carnivorous', 'silica', 'esty', 'bread', 'complimented', 'denver', 'sue', 'irony', 'surrender', 'river', 'hearts', 'ploy', 'offense', 'pattie', 'nerd', 'steph', 'hittin', 'mami', 'ne', 'kaleb', 'commentary', 'tatti', 'psst', 'fooled', 'ewwww', 'welovemarklee', 'trading', 'convinced', 'knocked', 'actors', 'imdians', 'drawlin', 'noooo', 'cor', 'gc', 'ajatt', 'skyline', 'arielle', 'credit', 'witch', 'tact', 'trails', 'shaktiastitvakeehsaaski', 'taco', 'jared', 'welcoming', 'dowh', 'staffer', 'dahlia', 'gop', 'jean', 'nikki', 'wetter', 'shyloh', 'remarkably', 'homebody', 'pleeeeeaaaassssseeee', 'references', 'guilty', 'crawfish', 'comments', 'ashamed', 'ann', 'spotting', 'miami', 'arranged', 'kwanu', 'aggie', 'subscribers', 'laurel', 'bar', 'cowboy', 'gimme', 'important', 'texting', 'average', 'fashoo', 'cans', 'hmmmmm', 'jane', 'boycottsinclairmedia', 'noodles', 'bandit', 'received', 'hotter', 'meses', 'hbdgladio', 'mairead', 'overnight', 'thiiiiiiiiiiiiiiiiissssssss', 'din', 'dogging', 'toy', 'spotify', 'badboy', 'theirs', 'hairline', 'springbreak', 'nada', 'namhla', 'isfm', 'treated', 'january', 'quarter', 'reporters', 'trailer', 'smind', 'seniorphotos', 'sane', 'nastyashell', 'withdrawals', 'filthy', 'given', 'lk', 'stack', 'angst', 'bailly', 'nominees', 'assured', 'jacquelinefe', 'chloe', 'admitted', 'mercury', 'runners', 'nz', 'ment', 'featuring', 'absolute', 'isne', 'yankees', 'paula', 'spandana', 'behave', 'libbies', 'entertainment', 'csgogiveaway', 'stan', 'bleached', 'showdown', 'replays', 'hogye', 'nullll', 'plays', 'clarinet', 'prayed', 'sales', 'permitted', 'dakotasoul', 'crashing', 'ruth', 'ame', 'btsarmy', 'idem', 'mocks', 'sv', 'screenshotsaturday', 'majority', 'uzalo', 'meanti', 'ser', 'showcasing', 'haven', 'ilysm', 'drawatog', 'lee', 'wafc', 'squad', 'votes', 'bestintheav', 'advert', 'raven', 'concepts', 'germs', 'gatto', 'churchflow', 'sale', 'commotion', 'kidi', 'bryce', 'dobbs', 'trinity', 'paragraph', 'nongnong', 'fiend', 'shift', 'twinning', 'democrat', 'supportive', 'socal', 'boogie', 'fkn', 'classes', 'vomiting', 'pig', 'sauce', 'depends', 'democratic', 'slaves', 'justicerising', 'hannah', 'bedtime', 'mentalhealth', 'narrow', 'enty', 'lightskin', 'lovin', 'measuring', 'gmims', 'errythang', 'survey', 'vijayakanth', 'psychobilly', 'milfs', 'defend', 'shearer', 'stated', 'consist', 'honest', 'fakenews', 'michigan', 'feldman', 'antonio', 'semi', 'mseleku', 'nay', 'changbin', 'enemy', 'salon', 'slippers', 'perfection', 'fault', 'pokemon', 'humans', 'dreading', 'providence', 'door', 'chum', 'lynn', 'gitmo', 'obamacare', 'mania', 'vid', 'cosmo', 'prime', 'greatness', 'thequeen', 'clicked', 'gateway', 'trained', 'elderflower', 'erwin', 'nerf', 'bets', 'angrybirds', 'imagined', 'eyesonmark', 'ryavjt', 'nowadays', 'magician', 'moyy', 'privately', 'progressivepropaganda', 'illgiveathumbsup', 'underwear', 'eyh', 'yard', 'gpa', 'effects', 'invasion', 'rescheduled', 'wasting', 'crossover', 'fil', 'offensively', 'mystery', 'mikelindell', 'alexironsrocks', 'freak', 'strawberry', 'collection', 'apologies', 'worrying', 'nats', 'tux', 'alas', 'tonyferguson', 'leg', 'figure', 'leftist', 'mandela', 'badge', 'camera', 'seeking', 'wth', 'barbie', 'weirdo', 'dis', 'michaelfassbender', 'fold', 'kittens', 'pops', 'pc', 'libturds', 'clone', 'typing', 'pens', 'chunderful', 'raising', 'bam', 'johny', 'defeated', 'scott', 'boarder', 'uv', 'wayz', 'restful', 'usher', 'boycott', 'naw', 'sponsors', 'knapp', 'juice', 'pdp', 'peeeeeeeps', 'mannnn', 'forevs', 'deontay', 'challenges', 'char', 'putting', 'breathalise', 'kuya', 'grats', 'chrabi', 'okayyyy', 'svu', 'bcoz', 'astrology', 'roseanneonabc', 'ginger', 'bands', 'broadcaster', 'exposes', 'viewing', 'amazed', 'nil', 'sites', 'bust', 'mall', 'supporters', 'dab', 'electricity', 'uuu', 'position', 'saver', 'breast', 'polished', 'valiant', 'laundry', 'removed', 'memphis', 'kassius', 'membership', 'mortgage', 'organize', 'araxie', 'jeopardy', 'titty', 'gardens', 'rds', 'simplicity', 'oohh', 'def', 'toby', 'uve', 'concerts', 'bringing', 'innovation', 'ordered', 'spewing', 'archivist', 'melting', 'tokens', 'legendary', 'recovery', 'ire', 'owe', 'hats', 'scrabble', 'hickey', 'chittar', 'specifically', 'homework', 'leafs', 'signing', 'underrated', 'hella', 'thosfansbts', 'squirt', 'scrub', 'askmarkruss', 'grief', 'blender', 'ba', 'arsenal', 'mysticmessenger', 'loveyou', 'shatner', 'yaaaaas', 'brought', 'attending', 'rnva', 'friendsfest', 'alden', 'weed', 'sarah', 'blocking', 'windows', 'cape', 'resign', 'afn', 'gwe', 'asap', 'xiyeon', 'humour', 'lesbian', 'usb', 'miu', 'blondes', 'werey', 'urls', 'airlines', 'opera', 'cambridgeanalytica', 'beetow', 'lousy', 'versa', 'ronaldo', 'screen', 'hing', 'pen', 'selfie', 'chevann', 'dip', 'upload', 'comics', 'soup', 'van', 'professors', 'fitted', 'pale', 'understood', 'brownsville', 'suspects', 'details', 'stormy', 'virtual', 'neighbours', 'vegan', 'lma', 'offset', 'mausi', 'brand', 'reeses', 'cillizza', 'illeg', 'camgirls', 'katelyn', 'names', 'plugs', 'exclusive', 'backup', 'extremely', 'aware', 'hw', 'sing', 'escalates', 'role', 'fade', 'trophy', 'fundraiser', 'fea', 'nutes', 'ther', 'useful', 'pooped', 'np', 'hahn', 'holding', 'settle', 'soothing', 'twat', 'satan', 'dems', 'possi', 'jay', 'viewed', 'positivity', 'pls', 'thekingsavatar', 'bmw', 'thevoice', 'cuddles', 'uneducated', 'carson', 'lemme', 'elucidated', 'large', 'alerts', 'mrpoopy', 'evangelicals', 'willing', 'napa', 'spaceghostpurrp', 'kon', 'dollyfox', 'research', 'crooks', 'earning', 'kasey', 'greatly', 'peta', 'supported', 'slc', 'releasing', 'fxkd', 'lotta', 'cinestar', 'missyou', 'tells', 'ilovespring', 'waves', 'icon', 'pressures', 'indiegame', 'active', 'casuallly', 'malaia', 'korea', 'mary', 'bedroom', 'alternate', 'marcella', 'spinning', 'vommited', 'duck', 'required', 'chez', 'bigtits', 'segment', 'nick', 'thankful', 'demo', 'refresh', 'current', 'classless', 'betty', 'elle', 'worldautismawarenessday', 'kcker', 'relay', 'luke', 'purchasebeats', 'booking', 'toobin', 'goodmorning', 'makenzie', 'snopes', 'lowest', 'christ', 'deaths', 'swifta', 'jk', 'raped', 'moonbeam', 'bone', 'syfm', 'previews', 'damaging', 'amirite', 'searching', 'kay', 'tricksters', 'store', 'craaappppp', 'milly', 'spouce', 'jeffbron', 'bag', 'uc', 'marriage', 'dice', 'yyfc', 'hickies', 'muscles', 'technically', 'au', 'unnecessary', 'ways', 'jealousydeservesbetter', 'scrubbed', 'kushner', 'iknoww', 'profile', 'stone', 'education', 'updated', 'daisies', 'coindrop', 'theresa', 'es', 'noite', 'joint', 'shagger', 'ken', 'nipples', 'attacked', 'eyesonyou', 'ek', 'gotmyfaith', 'ordere', 'unending', 'trick', 'lovelife', 'falcon', 'leyte', 'magatrash', 'dropping', 'stylish', 'gummy', 'mentors', 'mixer', 'naquin', 'catcher', 'brainless', 'accept', 'dontdothattome', 'repitiendo', 'enuf', 'friendships', 'falling', 'geniusyonngiday', 'oneofourawardees', 'stands', 'befriending', 'produced', 'corybarlog', 'garage', 'stanley', 'filiz', 'opinion', 'marilyn', 'bestfriend', 'pretend', 'kawasan', 'eggs', 'kaya', 'pete', 'rapids', 'headache', 'florida', 'doesnt', 'popularity', 'drains', 'activism', 'bean', 'anti', 'smh', 'neversettle', 'rouder', 'thrilled', 'homie', 'cumentary', 'taxify', 'charlie', 'gnome', 'sheep', 'otw', 'sakes', 'confam', 'answering', 'eu', 'irt', 'mma', 'zoetropic', 'freinds', 'livestream', 'bash', 'hungry', 'stations', 'halftime', 'readyy', 'corbyn', 'ec', 'society', 'crackdown', 'guests', 'bandy', 'tlhemma', 'savings', 'spnfamily', 'pihu', 'crisis', 'happer', 'web', 'joinme', 'mashup', 'closing', 'yctuvyiojp', 'fifa', 'dah', 'hypocrites', 'pays', 'narrative', 'protective', 'bezoz', 'japan', 'mysterious', 'picks', 'reports', 'report', 'tf', 'shopping', 'lmaoooo', 'caravan', 'attend', 'traffic', 'shirointittyshir', 'auspol', 'tribe', 'flight', 'household', 'naturally', 'yt', 'lord', 'core', 'greet', 'surely', 'manofthematch', 'simple', 'minge', 'gold', 'duopoly', 'calif', 'plantbased', 'credible', 'luv', 'mines', 'ka', 'stormys', 'goblue', 'imaginary', 'istrending', 'lauren', 'advertisement', 'blocks', 'arriving', 'experienc', 'roy', 'daveandbusters', 'cams', 'damnnnn', 'armon', 'miura', 'enemagram', 'sleazy', 'brainwash', 'selly', 'kim', 'phool', 'heterosexual', 'permits', 'whaaar', 'fridays', 'teacher', 'mt', 'toronto', 'brexit', 'neeh', 'pot', 'review', 'stain', 'motherfucker', 'bangtan', 'laughswithpayne', 'elementary', 'twd', 'lips', 'hurting', 'adams', 'lush', 'barking', 'blowjobsforever', 'loooooool', 'merit', 'slammed', 'waking', 'sexygirl', 'tigers', 'tooooooooooooooo', 'mikey', 'needles', 'battleofmoet', 'vids', 'potw', 'statistics', 'corporate', 'hewitt', 'voices', 'ongniel', 'disabled', 'patriot', 'maker', 'trumpsarmy', 'checkout', 'granting', 'seavey', 'stickers', 'swearing', 'bestseatsentry', 'antics', 'campus', 'carpentry', 'europeforc', 'dust', 'nickelodeon', 'robron', 'lyric', 'alan', 'duets', 'tipsy', 'sought', 'elf', 'dfsarmy', 'cork', 'babble', 'pers', 'robotic', 'theroyals', 'managers', 'subs', 'whilst', 'economy', 'stays', 'lebron', 'ohmygod', 'loizza', 'annalaan', 'agape', 'ong', 'jew', 'wide', 'endorsement', 'posted', 'armour', 'manipulation', 'ofc', 'poleng', 'films', 'inna', 'billa', 'screaming', 'standees', 'riley', 'birthdaaaaaayyyyyy', 'dummy', 'stauffer', 'payout', 'felicidades', 'insulted', 'rebuild', 'dhulan', 'dedicated', 'counting', 'claims', 'zolu', 'plain', 'yalla', 'senior', 'woooo', 'seohyun', 'release', 'bty', 'gurl', 'coiff', 'subscribes', 'est', 'skyrocket', 'starbucks', 'gap', 'wigs', 'jetblue', 'chyna', 'clinic', 'olds', 'pro', 'exploration', 'fbrparty', 'option', 'existed', 'graveyard', 'goodwillhunting', 'missing', 'stylist', 'jogging', 'dreaded', 'precinct', 'graphic', 'ay', 'haya', 'spoil', 'douche', 'nails', 'angrychamp', 'lame', 'wheels', 'allow', 'rarest', 'salad', 'supporter', 'dir', 'bisque', 'jon', 'chip', 'shametown', 'humanity', 'calma', 'jaz', 'lazy', 'merhaba', 'clash', 'sheringham', 'adam', 'aunt', 'eddie', 'shadows', 'tweetchoir', 'bigot', 'booze', 'exceptional', 'nicely', 'bee', 'obstruct', 'childrensbookday', 'balling', 'cave', 'ypg', 'kot', 'bugging', 'premiosmtvmiaw', 'rare', 'striptease', 'confuse', 'enterprise', 'tx', 'erm', 'diy', 'farrah', 'towels', 'ldn', 'thumbnail', 'fc', 'blended', 'israel', 'dms', 'calm', 'manscaping', 'pet', 'kirby', 'drugs', 'seaotters', 'viva', 'feedback', 'turds', 'sanders', 'mitchell', 'fries', 'entries', 'tail', 'beg', 'follo', 'dearest', 'buddies', 'awyy', 'analyzing', 'ownership', 'cked', 'koji', 'chilllllll', 'rename', 'curry', 'tasha', 'ffs', 'grom', 'aggressive', 'osbourne', 'taehyung', 'eks', 'rooster', 'gaw', 'trail', 'stoning', 'spf', 'paste', 'gageway', 'mtvbrkpopexo', 'maniacup', 'swag', 'worthy', 'humansofbarangay', 'farting', 'believes', 'sms', 'momma', 'entra', 'wont', 'flunkies', 'proof', 'adventurous', 'coping', 'mask', 'ireland', 'pistol', 'alumni', 'endorse', 'awfully', 'duke', 'psa', 'inflammatory', 'ishouldhaveleftit', 'math', 'vod', 'demon', 'persona', 'bug', 'milk', 'tap', 'strategy', 'ignorant', 'wages', 'tries', 'governing', 'bamteddy', 'supplies', 'singer', 'lookin', 'swat', 'delreystarwars', 'quinte', 'sickest', 'smack', 'kpop', 'tr', 'creativebizhour', 'delighting', 'plague', 'scenes', 'supports', 'beginning', 'advocate', 'trapter', 'tusexyboy', 'supposed', 'certainly', 'funniest', 'hester', 'laying', 'injured', 'playall', 'passion', 'condom', 'guest', 'coin', 'boeing', 'tasted', 'lucozade', 'iflyalot', 'ruthless', 'apologize', 'fresno', 'stopper', 'sergio', 'scamcoin', 'lucas', 'sort', 'laudable', 'klitscko', 'usmc', 'career', 'shiplett', 'aprilfoolsday', 'ar', 'cellphone', 'puppies', 'stoopid', 'curse', 'wo', 'unkind', 'abeg', 'christmas', 'creating', 'findom', 'lyk', 'kingsquid', 'maniya', 'yellow', 'earnings', 'acre', 'typed', 'doodle', 'path', 'capt', 'episodes', 'stern', 'circuit', 'june', 'crooked', 'prease', 'wnbr', 'anizi', 'lately', 'vanessa', 'twitters', 'vine', 'pocket', 'hashtag', 'daca', 'blac', 'gays', 'individuals', 'wag', 'standing', 'expelled', 'cures', 'trending', 'board', 'proclaiming', 'gunna', 'sippin', 'hai', 'conditioning', 'bihhhh', 'acid', 'constructive', 'scrape', 'varchie', 'rinos', 'spacious', 'permanently', 'nje', 'importantly', 'wbt', 'moved', 'sniper', 'lmfaooo', 'proactive', 'orientation', 'simplest', 'atleast', 'mcdavid', 'rawaftermania', 'broadcast', 'novel', 'promisesaudi', 'alert', 'dimple', 'score', 'sneaky', 'paulie', 'herocz', 'gvfeeling', 'grown', 'tons', 'eth', 'gutter', 'divorce', 'instantaneous', 'kisse', 'priceless', 'gee', 'nap', 'hardman', 'oryx', 'parkjungmin', 'uper', 'nhc', 'manically', 'bitchhhhh', 'copies', 'wilder', 'healthier', 'boring', 'gilligan', 'liars', 'qanon', 'levi', 'jesse', 'joseph', 'villanova', 'headphones', 'physically', 'thee', 'suppressing', 'grant', 'coast', 'dare', 'chapter', 'fascinating', 'timeline', 'sunset', 'approved', 'rules', 'papers', 'covers', 'substance', 'blockch', 'dnc', 'wherewi', 'santamonica', 'poison', 'totals', 'snaps', 'matchup', 'prunes', 'gunnah', 'ute', 'seven', 'dickeat', 'summit', 'podcasting', 'hyung', 'teams', 'pfrr', 'utter', 'josh', 'daytime', 'decision', 'oldandtired', 'unlinked', 'kr', 'advice', 'dirait', 'catsoftwitter', 'legs', 'statement', 'craptastic', 'los', 'sammilby', 'stick', 'flute', 'spreading', 'removals', 'upset', 'harden', 'doe', 'coffffeeeee', 'explain', 'coolest', 'booty', 'helped', 'characters', 'melts', 'cafe', 'fab', 'hulaloobaaa', 'woooooow', 'gentlemen', 'geocaching', 'monolith', 'nowplaying', 'foodie', 'passive', 'baris', 'fof', 'proverbial', 'goodness', 'nawaz', 'keepthat', 'heechul', 'heh', 'nevertrumper', 'certified', 'arsforstylishbilla', 'freed', 'shooters', 'emergency', 'essential', 'pikachu', 'bowl', 'discovered', 'dj', 'blossoms', 'getaway', 'cenosiitit', 'straykids', 'responds', 'gokingsgo', 'mymancrush', 'trousers', 'dental', 'oare', 'spill', 'talented', 'microchipped', 'confidence', 'ahh', 'intervals', 'includ', 'frequently', 'cracks', 'trees', 'sidewalk', 'died', 'deceased', 'rubbis', 'objections', 'elway', 'tummy', 'clothing', 'flops', 'lisa', 'remote', 'lker', 'bta', 'wearepartofbangtan', 'motivate', 'chache', 'harder', 'accepted', 'paintings', 'courage', 'smoking', 'implore', 'estelle', 'domains', 'ove', 'pair', 'thiscountry', 'casa', 'supporting', 'shatta', 'ideal', 'mud', 'owl', 'yikes', 'sweetheart', 'gti', 'savage', 'fyi', 'navy', 'layed', 'playlist', 'warframe', 'record', 'vision', 'eyeing', 'parts', 'cheating', 'stayed', 'forms', 'twin', 'wise', 'ladies', 'customer', 'ch', 'gtaphotographers', 'tryna', 'arsehole', 'pooper', 'living', 'projet', 'rep', 'makina', 'bird', 'te', 'zimbos', 'hh', 'brezeale', 'calipers', 'remain', 'millie', 'worstever', 'fartfetish', 'semen', 'plea', 'anthony', 'heads', 'apart', 'invited', 'gainwith', 'published', 'aso', 'smoov', 'spoiler', 'mixture', 'embarrassment', 'audience', 'thomas', 'middle', 'blah', 'choni', 'edits', 'korean', 'blockchain', 'downtown', 'goodammydrpalz', 'chili', 'fate', 'ikr', 'rippy', 'shined', 'higher', 'communist', 'cosmos', 'sinclairstrike', 'appropriate', 'fart', 'destroys', 'divya', 'bible', 'airplane', 'meat', 'puppet', 'anybody', 'tiger', 'places', 'description', 'colin', 'biscuit', 'boycottcnn', 'amaze', 'teamricoswavey', 'bret', 'thieves', 'headfirst', 'information', 'credited', 'ye', 'gals', 'spammed', 'sanam', 'playstation', 'peaceful', 'mural', 'liverpool', 'chucky', 'mission', 'christmasgift', 'robot', 'adulthood', 'notification', 'cra', 'ab', 'coward', 'sit', 'garden', 'habby', 'springsteen', 'mona', 'chose', 'hug', 'crypto', 'lolu', 'youth', 'including', 'uncle', 'priests', 'stubbed', 'ahahahaha', 'auto', 'spirits', 'travelbugsworld', 'gluten', 'deplorables', 'fia', 'theperfectgift', 'yoga', 'joey', 'geeeettttem', 'bearings', 'coyle', 'dayday', 'mates', 'gain', 'imy', 'wallet', 'lp', 'africa', 'violet', 'kisses', 'ages', 'relationship', 'bacho', 'bell', 'tonys', 'senile', 'tweak', 'highvaluemember', 'musicmonday', 'ms', 'bih', 'indust', 'colourful', 'honor', 'kingdom', 'logo', 'crenshaw', 'scream', 'debu', 'sake', 'apne', 'hesitate', 'stitches', 'france', 'lam', 'paddy', 'islam', 'startsomething', 'jaritza', 'irresistible', 'bvs', 'liberalismisamentaldisorder', 'sore', 'shoes', 'paaaarty', 'spotted', 'genial', 'rizakosef', 'signalling', 'antwi', 'letsgochamp', 'kicked', 'existential', 'juveniles', 'kacey', 'discuss', 'janethevirgin', 'stupidity', 'ho', 'lucky', 'rails', 'yermseul', 'hahahahahahah', 'girllllll', 'older', 'hollyoaks', 'kobe', 'celebrates', 'result', 'sexier', 'flowers', 'fuse', 'wung', 'ilang', 'relax', 'maryanne', 'spokespersons', 'confused', 'ep', 'ring', 'bulletproof', 'amusement', 'chileeeeee', 'periscope', 'tekashi', 'involved', 'recruiters', 'essex', 'inconsistencies', 'vinyl', 'follows', 'receiving', 'bree', 'expression', 'wknd', 'identity', 'holds', 'smg', 'balls', 'ca', 'training', 'ap', 'edge', 'clingy', 'aprill', 'transit', 'caca', 'morris', 'pose', 'priz', 'moms', 'accreditation', 'extraordinarily', 'sunny', 'rattle', 'builds', 'carbuncle', 'affirmative', 'judging', 'til', 'rnwn', 'pause', 'emotional', 'bump', 'wsg', 'yesus', 'analyst', 'kat', 'blower', 'donuts', 'yeaaaaahhh', 'suppo', 'mainly', 'dangerous', 'loud', 'lance', 'piss', 'adult', 'dried', 'alicia', 'final', 'eco', 'breakfast', 'version', 'announcement', 'east', 'definition', 'fashions', 'maravillosa', 'socil', 'mena', 'ah', 'obligation', 'bemyself', 'opener', 'suit', 'shiiii', 'figuredrawing', 'shadow', 'finisher', 'legitimate', 'housemate', 'spawned', 'safet', 'wirsinddiemillers', 'mommas', 'soulless', 'perthshire', 'boot', 'interacted', 'fourth', 'drugged', 'renewal', 'commute', 'aka', 'thewalkingdead', 'awwwww', 'festive', 'nicola', 'shortie', 'colored', 'drills', 'sligo', 'youngsters', 'ticket', 'recipe', 'sinclairbroadcasting', 'waterpark', 'csgogive', 'fought', 'alike', 'richiee', 'cemetery', 'soonest', 'club', 'smear', 'grabbing', 'canyoneering', 'buh', 'naked', 'rimmed', 'republicans', 'vusi', 'production', 'dirtydishonestdonny', 'festival', 'conservatives', 'asks', 'hmm', 'symantec', 'aimed', 'responsible', 'ending', 'cee', 'paypal', 'skyler', 'vibes', 'aaaand', 'calvin', 'kinna', 'donthecon', 'switching', 'sha', 'tampons', 'entered', 'hellsing', 'ups', 'shitpost', 'booked', 'olu', 'wisdom', 'happier', 'bodytekperks', 'kapoor', 'lively', 'glory', 'brrrrr', 'request', 'adele', 'attention', 'mhmmm', 'nervous', 'emails', 'sonia', 'mong', 'pringle', 'association', 'armpits', 'granny', 'originality', 'dl', 'cancel', 'spittrailsgoldcoast', 'elder', 'pickups', 'actively', 'wett', 'admire', 'folk', 'som', 'blackpink', 'spn', 'aeternumico', 'negritud', 'airport', 'chop', 'listeningto', 'ronjovi', 'leathered', 'awp', 'skies', 'whinny', 'uhoh', 'growing', 'boost', 'drake', 'bare', 'rayzor', 'flith', 'billboard', 'illegals', 'garbling', 'kate', 'riddance', 'performance', 'rank', 'soulfestszn', 'redtsunami', 'prune', 'whereeeee', 'preseason', 'phora', 'banger', 'diving', 'understandable', 'diary', 'regrann', 'kentucky', 'prathi', 'kimmon', 'wrestling', 'georgina', 'seattle', 'swollen', 'badasses', 'shares', 'zlatan', 'linjani', 'scumbag', 'estimated', 'weight', 'flowerroad', 'sadly', 'allianc', 'bunting', 'identify', 'available', 'kings', 'recap', 'impossible', 'leaf', 'singing', 'founder', 'childish', 'chizzy', 'gtaonline', 'adventuretime', 'vit', 'pull', 'parade', 'iike', 'volcano', 'feminists', 'freshen', 'yungnikka', 'rate', 'supply', 'wht', 'expose', 'sza', 'relatable', 'beginners', 'driver', 'ifb', 'romcom', 'madden', 'mountain', 'gusto', 'impressed', 'sticker', 'nohedidnt', 'sponsored', 'adventure', 'normaal', 'rivales', 'novichok', 'youngfrankenstein', 'weee', 'wookie', 'authority', 'donation', 'photography', 'tank', 'grinding', 'hyperlocal', 'wittier', 'overwatch', 'patient', 'fighters', 'hump', 'ua', 'catches', 'bloody', 'pk', 'heading', 'sources', 'trainer', 'toks', 'misspe', 'mee', 'progressives', 'av', 'ole', 'fail', 'differences', 'kevin', 'bn', 'eatingfortheinsta', 'espn', 'earn', 'welp', 'scope', 'bankholiday', 'suey', 'enti', 'uhh', 'doctor', 'garbage', 'mum', 'ripped', 'charting', 'pastors', 'contour', 'crappy', 'dinosaur', 'costume', 'advertisers', 'vast', 'trusted', 'females', 'rock', 'assault', 'flashbackfriday', 'kudos', 'drudge', 'diamonds', 'calculator', 'announce', 'ft', 'cincinnati', 'micah', 'capitalism', 'efforts', 'niii', 'taurus', 'virginia', 'pddancing', 'chumps', 'softcap', 'intro', 'organised', 'thicc', 'baptism', 'shreya', 'adog', 'cookies', 'serial', 'breathing', 'stability', 'filme', 'spending', 'stomped', 'elon', 'offfffff', 'concrete', 'anointing', 'tvxqifficial', 'foolish', 'herbs', 'gus', 'wan', 'reynolds', 'liddle', 'ahahaha', 'bbb', 'mick', 'witness', 'commission', 'cohort', 'bcharity', 'react', 'floating', 'screwed', 'baddest', 'scooper', 'psni', 'test', 'janelle', 'cracked', 'usually', 'clickin', 'hide', 'hijabi', 'edit', 'pt', 'touching', 'heavy', 'virtue', 'kashmir', 'cheese', 'lunges', 'dissertation', 'mistress', 'sell', 'jawn', 'arabic', 'manners', 'supper', 'worm', 'flock', 'logging', 'mole', 'rag', 'pankaj', 'companies', 'gayle', 'genius', 'internetbillofrights', 'nonsense', 'cw', 'purity', 'alces', 'realised', 'hmu', 'ayer', 'roommates', 'salvou', 'misaw', 'plushies', 'faith', 'dive', 'ogogo', 'hyped', 'bombs', 'haitians', 'boulder', 'daddyman', 'winged', 'respond', 'nessieland', 'sidesssss', 'mondayhibernation', 'continent', 'shite', 'grove', 'bastards', 'skp', 'wayyy', 'kooda', 'matisse', 'mata', 'mentally', 'cali', 'dogdad', 'theheartofcaring', 'aw', 'nationaldefenseactof', 'flaw', 'buttecounty', 'desrve', 'soda', 'documents', 'fakenewsmsm', 'congrants', 'norfolk', 'birds', 'legooooo', 'teambnn', 'custom', 'jozi', 'wouldn', 'fetish', 'astro', 'shy', 'saving', 'creep', 'bravo', 'kalan', 'lanie', 'happin', 'conway', 'scum', 'blossom', 'mz', 'toni', 'clark', 'slower', 'quoting', 'entrepreneur', 'brutha', 'seats', 'dancing', 'zeke', 'racal', 'hygena', 'tiny', 'jasmine', 'somethin', 'bright', 'observe', 'growup', 'xslasvegas', 'sobering', 'farm', 'edition', 'fixed', 'swank', 'walks', 'eats', 'iz', 'poseidon', 'thx', 'skyblues', 'qaphela', 'brah', 'nadine', 'rattled', 'infonya', 'responding', 'farmville', 'quiere', 'awareness', 'yrs', 'theorists', 'success', 'actor', 'spams', 'cia', 'trans', 'ruin', 'according', 'gigs', 'swapped', 'wondering', 'stacey', 'webcam', 'twtr', 'nhi', 'pushin', 'loris', 'bale', 'bonafide', 'patrick', 'ddpat', 'pack', 'height', 'mackenzie', 'chennaisuperkings', 'exist', 'knock', 'effiqass', 'lower', 'chelsea', 'states', 'lads', 'consultation', 'gordon', 'knobs', 'rhfox', 'rainbow', 'jaws', 'nalang', 'commentators', 'fave', 'pub', 'steffi', 'ntf', 'south', 'candidate', 'squids', 'dejavu', 'niel', 'cap', 'tcrwp', 'disposible', 'durk', 'refill', 'kristen', 'convo', 'extra', 'freddie', 'vandy', 'basket', 'tom', 'dubious', 'daaaaaaddy', 'daemon', 'portuguese', 'overprotective', 'grande', 'charge', 'maddy', 'joshua', 'deceiving', 'tinfoil', 'featured', 'create', 'gawin', 'dbacks', 'clubcuppartner', 'pray', 'killer', 'raining', 'atm', 'argentina', 'turns', 'tmr', 'larger', 'sudden', 'ronnieeeee', 'brace', 'vip', 'vetsagainsttrump', 'product', 'invite', 'riffing', 'fuckin', 'wildly', 'happychanyeolday', 'hotfix', 'survived', 'ro', 'teambamteddy', 'lifejapan', 'camping', 'congratssssss', 'awwwwwww', 'lows', 'keeper', 'inopportune', 'prototype', 'kh', 'hughhewitt', 'eminem', 'scheduled', 'gon', 'rkhe', 'senses', 'embarrassing', 'cookie', 'os', 'drops', 'miranda', 'stec', 'develop', 'waow', 'bastard', 'shazams', 'democraps', 'bleep', 'yap', 'ooh', 'elevator', 'damaged', 'madonna', 'cussing', 'woohoo', 'logged', 'muchas', 'akwaabauk', 'gross', 'indiedev', 'madonsela', 'vito', 'individual', 'horizon', 'rabbi', 'bluewave', 'kgane', 'awaited', 'corn', 'woth', 'itv', 'ei', 'easily', 'jays', 'modernfun', 'cleaned', 'eastermonday', 'treats', 'nugget', 'snatches', 'background', 'listings', 'abel', 'repen', 'birthdayyyyy', 'omggggg', 'traded', 'chadian', 'gown', 'toe', 'shitting', 'skeeps', 'emptiness', 'dual', 'openly', 'babeee', 'beatla', 'max', 'pledging', 'tobi', 'danny', 'sticking', 'tooooooot', 'joe', 'goldberg', 'murdered', 'bnai', 'sport', 'extreme', 'allllll', 'gara', 'meltmein', 'vocals', 'youtubegaming', 'rhyme', 'rican', 'jail', 'bihhh', 'yeahhhh', 'nnly', 'ti', 'aany', 'bra', 'marines', 'meee', 'colorado', 'shep', 'raab', 'fanfics', 'fantasy', 'mcgrady', 'interested', 'zero', 'dugonggie', 'kalinga', 'doooo', 'resources', 'monbebe', 'cardboard', 'facetattoos', 'mew', 'terminusvox', 'supp', 'battery', 'sunk', 'mtvbrfandombts', 'lofas', 'underground', 'connect', 'xddd', 'activist', 'littlebigtown', 'destroy', 'achieve', 'tam', 'yourock', 'sponsor', 'leo', 'creepy', 'ns', 'xi', 'brocklesnar', 'aowa', 'behavior', 'pity', 'sendbeats', 'wannaoneipucom', 'fundraising', 'captured', 'fuckn', 'addict', 'mufc', 'participate', 'fiesta', 'stank', 'cop', 'unassisted', 'teamaries', 'gary', 'highlight', 'stocks', 'dickheads', 'publicity', 'benefits', 'zackksterr', 'thebeach', 'spouts', 'deleting', 'rival', 'rooted', 'yuwei', 'duffle', 'coincides', 'yuha', 'bowing', 'speak', 'newestyoungin', 'hayi', 'ima', 'performing', 'hmmm', 'sophisticated', 'awww', 'lessons', 'millonario', 'hay', 'troublemaker', 'plunger', 'niggers', 'mirrors', 'giveaways', 'decatur', 'bootech', 'roles', 'directly', 'deplorable', 'zer', 'delivering', 'unsee', 'reallly', 'einstein', 'potus', 'cloudflare', 'human', 'cou', 'pigs', 'stomper', 'conveniently', 'hny', 'davidhogg', 'smiletaehyung', 'arteza', 'drag', 'november', 'pennylane', 'acrylic', 'heeed', 'rooftops', 'trolling', 'furious', 'broda', 'eastersunday', 'near', 'faces', 'oval', 'opened', 'lacy', 'niall', 'skip', 'twisted', 'status', 'isp', 'whoa', 'iran', 'letsgo', 'activewear', 'defense', 'awful', 'velocity', 'miller', 'alexirons', 'galaxy', 'conner', 'approval', 'nasty', 'alessia', 'madetobe', 'habitat', 'eastersowetopicnic', 'muller', 'hamilton', 'godblessamerica', 'cush', 'slick', 'sean', 'goddess', 'products', 'kyle', 'represented', 'sleeves', 'youare', 'cs', 'princess', 'gettn', 'access', 'windy', 'clueless', 'awarded', 'dirty', 'swimming', 'fired', 'discovery', 'dong', 'tie', 'shittiest', 'vet', 'wander', 'engineering', 'mango', 'disney', 'barbecue', 'philly', 'golden', 'haz', 'selfish', 'seat', 'pups', 'casually', 'smells', 'answer', 'ignorance', 'nut', 'walsh', 'lack', 'benny', 'persons', 'rts', 'gabriella', 'bounce', 'ga', 'soompi', 'wodumo', 'hoopin', 'intelijent', 'rico', 'reward', 'spinner', 'handles', 'vetsresistsquadron', 'suggestions', 'purple', 'amaz', 'yeeeeaaaaaahhhh', 'praisejah', 'mins', 'nesma', 'strongwriters', 'signs', 'finallyyyyyy', 'risk', 'arizona', 'stable', 'abt', 'gamedev', 'puncture', 'traitor', 'runs', 'vhope', 'hosted', 'colluder', 'cellent', 'ver', 'nightmare', 'period', 'marley', 'swift', 'continued', 'dears', 'dae', 'soulmates', 'broth', 'themagicians', 'jerry', 'butch', 'outstanding', 'birth', 'lmfaoooo', 'theisland', 'stargate', 'vox', 'tweakin', 'liking', 'rap', 'accountantable', 'proudparents', 'ios', 'sedin', 'program', 'rain', 'luckily', 'mke', 'kathleen', 'vets', 'goodnight', 'changed', 'crickets', 'talent', 'narragansett', 'modern', 'office', 'transformers', 'beats', 'oneboobwednesday', 'rims', 'winchesterforever', 'turtle', 'ntrsbirthdayin', 'lt', 'walked', 'raffle', 'frogloons', 'booksales', 'jahhhhhh', 'species', 'carter', 'groom', 'keyword', 'ranting', 'soproudofyoucw', 'casey', 'brothers', 'fair', 'hectic', 'bo', 'happybirthdayjungmin', 'hailey', 'strongest', 'wrestler', 'whinging', 'sided', 'teamtom', 'smith', 'mythology', 'tp', 'shill', 'gaskets', 'pur', 'australia', 'joining', 'foll', 'impeach', 'tsunami', 'horsfield', 'optimistic', 'itsdolf', 'cc', 'itsgoingtobeamightymoveofgod', 'handy', 'stopbre', 'mcfc', 'coluzzi', 'maintenance', 'embracing', 'nb', 'facetimed', 'lest', 'tall', 'warrior', 'inconvenient', 'brooklyn', 'tears', 'criticism', 'camila', 'blogs', 'failure', 'devastating', 'lmk', 'widow', 'alyson', 'taller', 'united', 'koreaaaa', 'rangers', 'sist', 'dorms', 'wing', 'homeboy', 'troops', 'throat', 'buildthatwall', 'google', 'hanna', 'hollered', 'wheel', 'minds', 'maxine', 'seasons', 'emotions', 'reham', 'destruction', 'yoruba', 'confuseeeed', 'suffering', 'comebacks', 'advocacy', 'tbtuesday', 'ego', 'glass', 'purchases', 'scoop', 'setups', 'senators', 'proudofjackson', 'disunomics', 'fomeeee', 'coupon', 'inspirational', 'leading', 'poos', 'adrian', 'upto', 'dopemans', 'drain', 'slapping', 'avoid', 'helpful', 'checking', 'tecsew', 'mobile', 'beatiful', 'ozzy', 'northland', 'rm', 'optics', 'prefiero', 'niceness', 'hanging', 'statesman', 'ahhk', 'brick', 'amigas', 'students', 'abide', 'planned', 'medical', 'moon', 'thugs', 'condition', 'gr', 'winery', 'hooping', 'bonus', 'latino', 'tasking', 'woooooooow', 'uso', 'louis', 'ccri', 'soydan', 'puked', 'brad', 'buffalo', 'patience', 'troublemakers', 'spanky', 'vanjie', 'togethe', 'roa', 'angels', 'nicolas', 'georgia', 'borehamsolid', 'fights', 'hugh', 'oldsex', 'timbs', 'closer', 'hobgoblin', 'replied', 'deadt', 'includes', 'freshener', 'affirmed', 'namjin', 'impeached', 'rhoa', 'lonelyblond', 'vktx', 'jou', 'forreal', 'cage', 'historic', 'putt', 'wereback', 'knife', 'ls', 'backwards', 'iwaly', 'gallery', 'oscar', 'poppas', 'wiggins', 'wanting', 'troia', 'pak', 'complaining', 'selling', 'dates', 'lisi', 'academy', 'pissed', 'bagger', 'streaming', 'pledge', 'advance', 'ex', 'tip', 'certain', 'bruce', 'idiotic', 'vile', 'wor', 'bucks', 'phillies', 'ruby', 'refusing', 'dudes', 'puusay', 'finds', 'rupaya', 'chico', 'rooi', 'barossa', 'ftm', 'types', 'bob', 'bdaysoon', 'bladdered', 'renad', 'charts', 'mil', 'capitol', 'unibrow', 'table', 'squidward', 'firewood', 'gotcha', 'jinbei', 'skool', 'bigbang', 'jolly', 'behalf', 'trashed', 'digital', 'styles', 'antis', 'che', 'button', 'unhealthy', 'professor', 'reserved', 'spreads', 'ingram', 'previewing', 'ourperfectweddin', 'genewilder', 'easiest', 'shackalaka', 'lockscreens', 'niceview', 'obinim', 'entry', 'section', 'hodl', 'town', 'envious', 'immigrants', 'tbf', 'wires', 'irrelevant', 'afcb', 'boam', 'sara', 'saturday', 'icdc', 'overtakes', 'rats', 'voiceknockouts', 'female', 'bev', 'instagram', 'rumours', 'grandslam', 'eardrums', 'mccain', 'dung', 'kick', 'assistant', 'ander', 'hopeful', 'copy', 'monopoly', 'pirates', 'building', 'neep', 'hs', 'beavers', 'meng', 'insult', 'lmaoooooooooo', 'upppppp', 'parker', 'ju', 'asinine', 'updates', 'brennan', 'nearly', 'chivscin', 'marital', 'stamp', 'slush', 'awanbrothers', 'heckling', 'ytpbr', 'dublin', 'treloar', 'boat', 'challengerbaseball', 'caption', 'happybirthday', 'da', 'arrived', 'snide', 'doyers', 'icloud', 'painting', 'sings', 'train', 'syd', 'tatiana', 'evoke', 'slandered', 'kit', 'gila', 'watc', 'yellowknife', 'driscoll', 'hargeysa', 'defiantly', 'analytica', 'mankell', 'terrifying', 'debacle', 'kingof', 'tysm', 'pals', 'photos', 'profiting', 'sajjansinghrangroot', 'uh', 'sooooo', 'rug', 'adoptable', 'token', 'direct', 'loaded', 'catapult', 'bully', 'staring', 'spelt', 'track', 'fandom', 'cartoon', 'voted', 'nail', 'grade', 'autocorrect', 'djt', 'whoo', 'anxiety', 'site', 'ild', 'radios', 'yangyang', 'feat', 'leicester', 'paries', 'beth', 'stalking', 'luz', 'litty', 'clothes', 'themmahour', 'kia', 'tally', 'swinging', 'goonies', 'veracity', 'windfall', 'madddddddd', 'sucia', 'california', 'fav', 'bond', 'dws', 'android', 'vietnam', 'gloves', 'hater', 'travels', 'eastenders', 'sies', 'equipment', 'figures', 'stockmarket', 'fossil', 'model', 'jokes', 'affidavits', 'givin', 'vishu', 'anthonydavis', 'fastly', 'hyderabad', 'panera', 'design', 'quality', 'embarrassed', 'bhakts', 'bu', 'favorited', 'noregretsep', 'monkey', 'typhoon', 'blog', 'somethings', 'stops', 'relaxing', 'fmoig', 'strong', 'mariota', 'pasqua', 'aways', 'erentil', 'redneck', 'fest', 'thatttt', 'dank', 'fixing', 'showed', 'cereal', 'yaaayyy', 'coughs', 'birthdays', 'reinforce', 'biiiiiiih', 'tireless', 'reminds', 'torch', 'oooow', 'retrogaming', 'reylo', 'bagged', 'besties', 'bitchslap', 'waheeeeey', 'cardi', 'dutty', 'lamborghini', 'abbott', 'sandstorms', 'crown', 'desperate', 'subtle', 'rhocheshire', 'lore', 'timing', 'fing', 'apple', 'jeez', 'wyd', 'superb', 'kinder', 'threat', 'allforarendang', 'begins', 'stopping', 'prevail', 'dodging', 'organic', 'tight', 'helps', 'hustle', 'appliances', 'thesims', 'siwon', 'thath', 'shed', 'lilli', 'cody', 'daus', 'keto', 'permanent', 'enderguy', 'taylor', 'removes', 'trashcan', 'causing', 'teachers', 'listing', 'birthdaaay', 'blake', 'youuuu', 'style', 'pitch', 'trumps', 'yoursel', 'return', 'looters', 'sayin', 'blackness', 'bottles', 'dodgy', 'december', 'safety', 'mfc', 'dungarees', 'shelter', 'personal', 'aaaahhhh', 'switched', 'davis', 'mambo', 'drooping', 'boogers', 'gjhtlbmn', 'diet', 'international', 'auction', 'grind', 'silver', 'cbx', 'dork', 'brian', 'douglamalfa', 'nuggets', 'studying', 'khabib', 'pv', 'tea', 'frommetoyou', 'penis', 'positanopizza', 'cowardly', 'root', 'nation', 'wasted', 'bardock', 'maneuver', 'faithful', 'sat', 'diplomat', 'thief', 'ricky', 'murtaghmonday', 'nuts', 'trumpass', 'semester', 'confident', 'elders', 'theresistance', 'impress', 'booooo', 'trumptariffeffect', 'carl', 'decisions', 'foxnews', 'feelin', 'winging', 'sheener', 'screamed', 'readyplayerone', 'dr', 'deadd', 'truely', 'wawu', 'zim', 'providers', 'magnificent', 'applaud', 'sexygrannies', 'ew', 'tennessee', 'duty', 'freestyle', 'sink', 'pots', 'funk', 'opportunity', 'brew', 'mane', 'sds', 'feliz', 'scary', 'wazzaaappp', 'bayonet', 'thai', 'ballgame', 'tuonela', 'officialplanb', 'peristalsis', 'grimm', 'piling', 'bandana', 'trend', 'neighbors', 'las', 'dressed', 'sayhi', 'septic', 'retweeting', 'chamchas', 'premiere', 'chuffed', 'rul', 'petrifying', 'faves', 'sessions', 'nga', 'drama', 'observer', 'forced', 'jessica', 'mayflower', 'flying', 'sailed', 'twatter', 'breaking', 'successfully', 'compassion', 'looool', 'tala', 'philadelphia', 'wombat', 'inevitable', 'park', 'cleared', 'applying', 'angell', 'veterans', 'mp', 'books', 'possible', 'freaking', 'revealed', 'bae', 'scoring', 'witnessthetourmnl', 'loss', 'messenger', 'whip', 'ban', 'confetti', 'frogs', 'champion', 'ate', 'comeback', 'locations', 'sinker', 'bits', 'ayeee', 'gno', 'teens', 'bars', 'uput', 'patriotic', 'catching', 'alliance', 'headed', 'mother', 'cackled', 'velveta', 'alleges', 'sketch', 'yell', 'merchandise', 'regret', 'stunt', 'awhile', 'hm', 'happppy', 'allie', 'stock', 'holepotus', 'votered', 'repeal', 'secretly', 'woohoooo', 'fooking', 'platinum', 'completely', 'telegram', 'happyeaster', 'applications', 'girlfriend', 'sealed', 'fed', 'lagoon', 'socks', 'mouse', 'tires', 'duggary', 'snapchatfun', 'worlddownsyndromeday', 'pavilion', 'themiraclewemet', 'htctryouts', 'outdoor', 'sabbath', 'bugheads', 'toxic', 'senate', 'fortunately', 'gooners', 'doubles', 'filming', 'hysterical', 'defaulted', 'mymixtapez', 'botox', 'lng', 'toilet', 'unh', 'stfu', 'cr', 'dinners', 'marchmadness', 'livelihood', 'mills', 'discord', 'edm', 'snapshots', 'ly', 'subscr', 'idgaf', 'reveal', 'hbdprabhudheva', 'england', 'expenses', 'favs', 'monbebes', 'moves', 'pregnant', 'vutsek', 'radnor', 'scarborough', 'fbi', 'scare', 'nomad', 'spoon', 'evaporates', 'poster', 'threw', 'distract', 'approaching', 'based', 'delicate', 'kitchen', 'ceec', 'jeff', 'sorete', 'consider', 'fame', 'breeches', 'dodger', 'havent', 'derby', 'mondaymotivation', 'owns', 'letter', 'stinky', 'blogger', 'responses', 'theicocleansing', 'portsmouth', 'cook', 'anastasia', 'stormi', 'ravetz', 'entertained', 'gucci', 'tieing', 'draintheswamp', 'crushing', 'inspiredaily', 'meds', 'kayla', 'wonderin', 'sucked', 'stilllovehim', 'patriotism', 'netflix', 'gic', 'signup', 'elected', 'bamf', 'kronos', 'dalit', 'sheesh', 'coaching', 'winterjacket', 'habit', 'poetic', 'leader', 'peso', 'orchestra', 'hoe', 'sephora', 'remembers', 'commies', 'baldwin', 'opening', 'exols', 'phoebe', 'cineworldunlimited', 'cigarette', 'hims', 'pizza', 'comingsoon', 'hoy', 'redvelvet', 'soz', 'von', 'tracking', 'asscheek', 'couch', 'shifts', 'regalness', 'printable', 'dough', 'outlander', 'reader', 'nd', 'consistent', 'reduce', 'evicted', 'july', 'undergrad', 'flex', 'apology', 'typical', 'chin', 'noon', 'island', 'peacock', 'shanatic', 'alba', 'privilege', 'smartcity', 'enlightening', 'morocha', 'events', 'bagszn', 'thanking', 'term', 'cheats', 'aside', 'whoopsies', 'sentiment', 'redbubble', 'barely', 'spit', 'moneyline', 'responded', 'handcuffs', 'defeat', 'punches', 'quiet', 'sneaking', 'apga', 'survive', 'orgy', 'scares', 'boogyman', 'piercing', 'doug', 'yahh', 'shell', 'trum', 'melania', 'cnbc', 'sloppy', 'assetintegrity', 'reset', 'parties', 'sends', 'tmx', 'ang', 'stole', 'stcos', 'prayingforrain', 'pad', 'quiestion', 'cheeky', 'bryant', 'potluck', 'goodluck', 'arrested', 'min', 'newelection', 'heather', 'uoy', 'border', 'belive', 'bong', 'hyg', 'save', 'bizimhikaye', 'repost', 'kellen', 'mabao', 'cum', 'disruptive', 'row', 'mistaken', 'ssaamu', 'marshall', 'handsome', 'replacement', 'stayblessed', 'gettin', 'attitude', 'sam', 'koko', 'ordnance', 'winston', 'harper', 'ths', 'lov', 'charm', 'ish', 'refuse', 'broom', 'rui', 'sarbjit', 'matter', 'bear', 'personality', 'designer', 'clos', 'laws', 'emmbarradment', 'belong', 'jihad', 'boybandph', 'reporter', 'wapo', 'easysnackrecipecontest', 'yum', 'rumbling', 'athletes', 'malt', 'stewart', 'jinhwan', 'tina', 'soupy', 'square', 'messages', 'sight', 'jacob', 'ninokuni', 'hoodies', 'changes', 'bf', 'experiences', 'ucla', 'fly', 'saudi', 'mia', 'qui', 'accordingly', 'bloom', 'ramos', 'wiff', 'personalities', 'sewage', 'bother', 'lipped', 'defence', 'mailcall', 'vlog', 'memorable', 'sierra', 'porn', 'kaia', 'vest', 'bigwig', 'truck', 'prod', 'trip', 'heat', 'spoiled', 'christians', 'assignment', 'calendars', 'yelz', 'copensen', 'twitterpolls', 'mu', 'hiking', 'beverages', 'realise', 'goad', 'wrestlemania', 'remove', 'renews', 'conservative', 'peacefulwaters', 'aggrandizing', 'fanny', 'derrick', 'secrets', 'slam', 'proper', 'cream', 'motivated', 'omgg', 'realquicc', 'tear', 'warriors', 'briefly', 'rio', 'awwww', 'herriman', 'rad', 'necmmiiiiiiiiii', 'burger', 'pakvwi', 'uw', 'lou', 'situations', 'eastereggs', 'tees', 'farts', 'marsacrossamerica', 'despite', 'aynrand', 'credence', 'safely', 'moxee', 'aye', 'yooo', 'eiji', 'littlebigtownfan', 'butterfly', 'daim', 'lake', 'bodies', 'practical', 'purchase'}\n"
     ]
    }
   ],
   "source": [
    "# attributes of the vectorizer\n",
    "\n",
    "vocab = vect.vocabulary_\n",
    "stopwords = vect.stop_words_\n",
    "print('The type of vect is: ',type(vocab),'\\n','the size of the corpus is: ',len(vocab),'\\n','the size of the stop words is: ',len(stopwords),'\\n','The stop words include:\\n',stopwords)\n",
    "\n"
   ]
  },
  {
   "cell_type": "code",
   "execution_count": 45,
   "metadata": {},
   "outputs": [
    {
     "name": "stdout",
     "output_type": "stream",
     "text": [
      "k = 1 begin \n",
      "Complete time: 0.08069896697998047 Secs.\n",
      "k = 2 begin \n",
      "Complete time: 0.07427406311035156 Secs.\n",
      "k = 3 begin \n",
      "Complete time: 0.06793379783630371 Secs.\n",
      "k = 4 begin \n",
      "Complete time: 0.06390690803527832 Secs.\n",
      "k = 5 begin \n",
      "Complete time: 0.07281684875488281 Secs.\n",
      "k = 6 begin \n",
      "Complete time: 0.06396698951721191 Secs.\n",
      "k = 7 begin \n",
      "Complete time: 0.0669393539428711 Secs.\n",
      "k = 8 begin \n",
      "Complete time: 0.06887698173522949 Secs.\n",
      "k = 9 begin \n",
      "Complete time: 0.06222391128540039 Secs.\n",
      "k = 10 begin \n",
      "Complete time: 0.06927084922790527 Secs.\n",
      "k = 11 begin \n",
      "Complete time: 0.06475496292114258 Secs.\n",
      "k = 12 begin \n",
      "Complete time: 0.06891775131225586 Secs.\n",
      "k = 13 begin \n",
      "Complete time: 0.0653221607208252 Secs.\n",
      "k = 14 begin \n",
      "Complete time: 0.0666508674621582 Secs.\n",
      "k = 15 begin \n",
      "Complete time: 0.06546616554260254 Secs.\n",
      "k = 16 begin \n",
      "Complete time: 0.0707540512084961 Secs.\n",
      "k = 17 begin \n",
      "Complete time: 0.06589484214782715 Secs.\n",
      "k = 18 begin \n",
      "Complete time: 0.0655519962310791 Secs.\n",
      "k = 19 begin \n",
      "Complete time: 0.0658118724822998 Secs.\n"
     ]
    }
   ],
   "source": [
    "k_range = range(1,20)\n",
    "scores = []\n",
    "\n",
    "# find the best k value in k_range\n",
    "for k in k_range:\n",
    "    print(\"k = \" + str(k) + \" begin \")\n",
    "    start = time.time()\n",
    "    knn = KNeighborsClassifier(n_neighbors=k)\n",
    "    knn.fit(train_matrix,trainY)\n",
    "    test_pred = knn.predict(test_matrix)\n",
    "    acc = (test_pred == testY).value_counts(normalize=True)\n",
    "    accuracy = acc.loc[True]\n",
    "    scores.append(accuracy)\n",
    "    end = time.time()\n",
    "    print(\"Complete time: \" + str(end-start) + \" Secs.\")"
   ]
  },
  {
   "cell_type": "code",
   "execution_count": 425,
   "metadata": {},
   "outputs": [
    {
     "data": {
      "image/png": "[encoded data removed]",
      "text/plain": [
       "<matplotlib.figure.Figure at 0x136347908>"
      ]
     },
     "metadata": {},
     "output_type": "display_data"
    }
   ],
   "source": [
    "k_range = range(1,20)\n",
    "plt.figure(figsize=(8,4))\n",
    "plt.plot(k_range,scores)\n",
    "plt.xlabel('k')\n",
    "plt.ylabel('accuracy')\n",
    "plt.show()"
   ]
  },
  {
   "cell_type": "code",
   "execution_count": 426,
   "metadata": {},
   "outputs": [
    {
     "name": "stdout",
     "output_type": "stream",
     "text": [
      "True     0.507223\n",
      "False    0.492777\n",
      "Name: label, dtype: float64\n",
      "False    0.667737\n",
      "True     0.332263\n",
      "Name: label, dtype: float64\n"
     ]
    }
   ],
   "source": [
    "knn = KNeighborsClassifier(n_neighbors=6)\n",
    "knn.fit(train_matrix,trainY)\n",
    "train_pred = knn.predict(train_matrix)\n",
    "test_pred = knn.predict(test_matrix)\n",
    "\n",
    "print((train_pred == trainY).value_counts(normalize=True))\n",
    "print((test_pred == testY).value_counts(normalize=True))"
   ]
  },
  {
   "cell_type": "markdown",
   "metadata": {},
   "source": [
    "Using kNN, the accuracy on test set can reaches **38%** from **34%** after putting back the hashtag words and choose `max_features=1000`."
   ]
  },
  {
   "cell_type": "markdown",
   "metadata": {},
   "source": [
    "### 4.1 - Naive Bayes\n",
    "why multinomial NB?"
   ]
  },
  {
   "cell_type": "code",
   "execution_count": 427,
   "metadata": {},
   "outputs": [],
   "source": [
    "from sklearn.naive_bayes import MultinomialNB \n",
    "from sklearn.metrics import confusion_matrix\n",
    "from sklearn.model_selection import cross_val_score"
   ]
  },
  {
   "cell_type": "code",
   "execution_count": 428,
   "metadata": {},
   "outputs": [
    {
     "name": "stdout",
     "output_type": "stream",
     "text": [
      "{'kinda': 3945, 'scared': 6268, 'renewal': 5963, 'legendsoftomorrow': 4105, 'april': 300, 'fools': 2713, 'joke': 3814, 'field': 2602, 'looking': 4269, 'good': 2997, 'happy': 3176, 'liars': 4140, 'unhealthy': 7621, 'relationship': 5932, 'love': 4299, 'little': 4200, 'friendly': 2776, 'weekly': 7914, 'maintenance': 4386, 'wayyy': 7887, 'better': 646, 'fixing': 2656, 'broke': 922, 'fool': 2710, 'lie': 4153, 'future': 2815, 'kappa': 3877, 'bouta': 840, 'hunnies': 3462, 'loving': 4309, 'going': 2984, 'light': 4162, 'outside': 5195, 'bday': 570, 'know': 3976, 'end': 2300, 'discussion': 1985, 'life': 4157, 'private': 5663, 'including': 3572, 'relationships': 5933, 'amp': 208, 'friendships': 2779, 'lol': 4256, 'phone': 5422, 'weird': 7918, 'nope': 4993, 'grave': 3051, 'need': 4882, 'guy': 3116, 'like': 4168, 'parliament': 5282, 'lion': 4185, 'got': 3018, 'mice': 4589, 'instead': 3632, 'men': 4543, 'apologies': 276, 'sorry': 6716, 'lady': 4028, 'just': 3856, 'getting': 2904, 'worn': 8064, 'draft': 2096, 'talk': 7131, 'tl': 7363, 'point': 5534, 'll': 4217, 'politics': 5547, 'people': 5368, 'mads': 4369, 'time': 7339, 'outfit': 5184, 'hm': 3334, 'tbh': 7172, 'wasn': 7868, 'sure': 7058, 'guess': 3100, 'redneck': 5904, 'understandable': 7607, 'outlook': 5188, 'media': 4515, 'socil': 6674, 'birthday': 693, 'beautiful': 585, 'hope': 3395, 'today': 7371, 'perfect': 5371, 'footballs': 2717, 'cafc': 1027, 'awesome': 437, 'texas': 7228, 'proud': 5709, 'ashamed': 353, 'flake': 2659, 'mccain': 4496, 'rinos': 6086, 'arizona': 321, 'bull': 983, 'hogg': 3348, 'didnt': 1948, 'repeat': 5970, 'didn': 1947, 'stop': 6928, 'spreading': 6814, 'bs': 952, 'lies': 4156, 'rock': 6111, 'sir': 6564, 'duopoly': 2171, 'hates': 3213, 'poor': 5558, 'edit': 2223, 'button': 1015, 'freddie': 2761, 'mercury': 4556, 'actual': 47, 'working': 8052, 'title': 7358, 'song': 6691, 'radio': 5810, 'caca': 1025, 'nelson': 4893, 'illgiveathumbsup': 3535, 'badasses': 480, 'twitter': 7563, 'spiderman': 6776, 'spidermanhomecoming': 6777, 'marvelcomics': 4463, 'police': 5541, 'friend': 2775, 'sars': 6237, 'friends': 2777, 'benefits': 627, 'sided': 6523, 'say': 6257, 'nah': 4827, 'strings': 6959, 'atta': 394, 'yess': 8165, 'jane': 3732, 'virgin': 7770, 'renewed': 5964, 'brum': 946, 'distracting': 2002, 'doing': 2039, 'work': 8049, 'check': 1233, 'privately': 5665, 'owned': 5213, 'snopes': 6665, 'liberal': 4143, 'wet': 7932, 'dreams': 2116, 'come': 1423, 'remembers': 5951, 'advert': 80, 'used': 7674, 'hate': 3209, 'yoh': 8178, 'congratulations': 1494, 'followers': 2703, 'cute': 1719, 'sweet': 7088, 'funny': 2811, 'amazing': 192, 'drink': 2126, 'left': 4097, 'wing': 7994, 'cool': 1542, 'aid': 123, 'dip': 1964, 'asking': 362, 'dm': 2017, 'shit': 6464, 'therapeutic': 7273, 'gt': 3089, 'follow': 2700, 'likes': 4171, 'gnome': 2968, 'ladies': 4026, 'gentlemen': 2888, 'turned': 7538, 'make': 4390, 'videos': 7748, 'substance': 7000, 'problem': 5673, 'solved': 6684, 'rattled': 5848, 'cage': 1031, 'facts': 2486, 'great': 3055, 'stuff': 6981, 'haha': 3126, 'told': 7384, 'way': 7885, 'tv': 7543, 'takes': 7124, 'catches': 1134, 'wish': 8010, 'came': 1053, 'true': 7502, 'hbd': 3228, 'reham': 5924, 'khan': 3921, 'wishing': 8012, 'day': 1785, 'health': 3246, 'happiness': 3174, 'forever': 2724, 'days': 1789, 'godofwar': 2979, 'santamonica': 6232, 'corybarlog': 1564, 'playstation': 5503, 'sony': 6697, 'yalla': 8125, 'night': 4958, 'locked': 4245, 'trust': 7513, 'dodgy': 2028, 'leader': 4080, 'watch': 7873, 'ifb': 3517, 'thank': 7236, 'majix': 4387, 'uncle': 7600, 'punish': 5746, 'muslim': 4801, 'asked': 360, 'gonna': 2995, 'points': 5535, 'imagine': 3543, 'movie': 4747, 'hits': 3331, 'smile': 6640, 'goal': 2972, 'grow': 3083, 'comic': 1429, 'helped': 3283, 'consider': 1509, 'pledging': 5509, 'stalking': 6845, 'page': 5233, 'huh': 3446, 'showing': 6506, 'socks': 6675, 'hang': 3158, 'tough': 7415, 'richard': 6065, 'hugh': 3443, 'rt': 6152, 'bunny': 996, 'mouth': 4744, 'agape': 104, 'ha': 3119, 'wow': 8076, 'really': 5878, 'deleting': 1858, 'traces': 7428, 'kid': 3929, 'want': 7843, 'ceased': 1153, 'amaze': 190, 'falcon': 2501, 'fans': 2517, 'scoring': 6285, 'celebrations': 1162, 'look': 4265, 'jordan': 3823, 'hi': 3304, 'forget': 2726, 'university': 7633, 'actually': 48, 'degree': 1850, 'sucks': 7010, 'right': 6076, 'argument': 316, 'girl': 2933, 'talking': 7136, 'jason': 3743, 'grown': 3085, 'rent': 5967, 'car': 1090, 'ate': 389, 'grilled': 3070, 'cheese': 1241, 'fucked': 2792, 'negative': 4890, 'ppl': 5603, 'gotta': 3021, 'cautious': 1146, 'sister': 6568, 'brother': 932, 'aim': 125, 'head': 3235, 'clips': 1359, 'deleted': 1856, 'gorgeous': 3014, 'women': 8027, 'mission': 4653, 'feel': 2571, 'answer': 254, 'enjoy': 2316, 'giving': 2948, 'jinkx': 3793, 'live': 4206, 'america': 202, 'granny': 3044, 'cancer': 1069, 'close': 1363, 'help': 3282, 'gym': 3118, 'girls': 2940, 'smart': 6630, 'crickets': 1646, 'bro': 915, 'fight': 2607, 'place': 5477, 'thanks': 7240, 'wrote': 8092, 'don': 2050, 'tweet': 7552, 'middle': 4599, 'season': 6317, 'inappropriate': 3569, 'delusional': 1870, 'dirtydishonestdonny': 1972, 'oh': 5088, 'god': 2975, 'terrible': 7221, 'babysitter': 470, 'thing': 7286, 'im': 3539, 'shutting': 6513, 'xx': 8113, 'lock': 4244, 'crazeme': 1622, 'hilarious': 3319, 'jokes': 3816, 'iran': 3673, 'old': 5098, 'fart': 2527, 'neslihanatag': 4902, 'works': 8054, 'personally': 5392, 'best': 634, 'diet': 1952, 'plan': 5482, 'fun': 2802, 'spring': 6816, 'break': 882, 'fucking': 2795, 'consistent': 1513, 'rippy': 6090, 'calling': 1046, 'ugly': 7582, 'moveeee': 4745, 'onnnnn': 5129, 'ikr': 3528, 'horrible': 3404, 'earth': 2190, 'let': 4125, 'near': 4876, 'children': 1262, 'mueller': 4777, 'impeachtrumpnow': 3559, 'niggas': 4953, 'fuck': 2791, 'wit': 8013, 'cuz': 1724, 'dickeat': 1943, 'elgano': 2262, 'yes': 8164, 'hoping': 3399, 'arrive': 331, 'soonest': 6703, 'hahaha': 3128, 'style': 6987, 'drop': 2135, 'lmk': 4233, 'freestyle': 2766, 'fix': 2654, 'pink': 5462, 'fave': 2545, 'reason': 5879, 'excited': 2420, 'boise': 781, 'trashed': 7456, 'formal': 2731, 'thursday': 7318, 'white': 7956, 'castle': 1127, 'free': 2763, 'ucla': 7577, 'sweatshirt': 7085, 'think': 7289, 'received': 5886, 'quality': 5782, 'education': 2227, 'trump': 7506, 'traitor': 7445, 'administration': 61, 'toxic': 7422, 'fortnite': 2736, 'yeah': 8144, 'picked': 5436, 'duke': 2159, 'beat': 580, 'nova': 5014, 'lost': 4287, 'kansas': 3873, 'blown': 752, 'foh': 2695, 'swear': 7081, 'wanna': 7841, 'play': 5494, 'thought': 7300, 'charlotte': 1216, 'city': 1322, 'candy': 1072, 'red': 5901, 'exposing': 2450, 'wild': 7980, 'hot': 3412, 'bush': 1003, 'hey': 3301, 'tonight': 7392, 'truly': 7504, 'florida': 2680, 'plumbing': 5514, 'wide': 7970, 'world': 8057, 'chick': 1254, 'fil': 2616, 'overpriced': 5205, 'ass': 369, 'yeaaaah': 8143, 'single': 6558, 'beg': 599, 'gainwithjnshine': 2832, 'gainwith': 2831, 'bigboy': 664, 'arielle': 318, 'stupid': 6984, 'bitch': 703, 'care': 1097, 'share': 6427, 'news': 4924, 'cici': 1309, 'firstdates': 2648, 'wednesday': 7908, 'ya': 8115, 'called': 1045, 'leaders': 4081, 'africa': 99, 'shithole': 6469, 'yelled': 8156, 'yo': 8176, 'bf': 652, 'hurt': 3470, 'feelings': 2574, 've': 7712, 'followed': 2701, 'especially': 2366, 'follower': 2702, 'chr': 1292, 'alot': 181, 'hella': 3278, 'totally': 7411, 'relate': 5929, 'fine': 2636, 'ibo': 3496, 'doctor': 2020, 'soothing': 6709, 'voice': 7791, 'commands': 1434, 'skunk': 6591, 'khanya': 3922, 'mom': 4688, 'rudi': 6159, 'dream': 2114, 'changeyourmindse': 1198, 'involved': 3667, 'main': 4383, 'musik': 4799, 'gone': 2993, 'dat': 1769, 'clingy': 1357, 'stand': 6849, 'self': 6346, 'half': 3140, 'school': 6278, 'hands': 3154, 'https': 3438, 'perthshire': 5396, 'cause': 1144, 'chris': 1294, 'believe': 613, 'suck': 7007, 'worse': 8068, 'puro': 5758, 'pinche': 5459, 'party': 5290, 'celebrated': 1158, 'birthdays': 696, 'wonder': 8029, 'bhakts': 653, 'gets': 2902, 'rs': 6151, 'super': 7035, 'wages': 7818, 'higher': 3310, 'theeeennnks': 7253, 'wait': 7822, 'crackdown': 1607, 'looks': 4270, 'means': 4506, 'apology': 279, 'needed': 4884, 'soooooo': 6708, 'iso': 3690, 'dd': 1796, 'weekend': 7913, 'hmu': 3339, 'add': 52, 'confetti': 1484, 'motivationalmonday': 4739, 'mymancrush': 4812, 'ys': 8210, 'ht': 3432, 'mlk': 4672, 'wisdom': 8008, 'courage': 1588, 'words': 8048, 'guiding': 3105, 'lolololol': 4257, 'soon': 6701, 'fast': 2536, 'recovery': 5899, 'shoulda': 6496, 'doubled': 2079, 'veggies': 7717, 'added': 53, 'avocado': 427, 'big': 661, 'episode': 2345, 'hooked': 3389, 'ripped': 6089, 'pants': 5259, 'cheek': 1237, 'line': 4181, 'cellphone': 1164, 'store': 6934, 'lets': 4126, 'gladly': 2953, 'guys': 3117, 'stream': 6951, 'hell': 3277, 'exactly': 2411, 'tboss': 7173, 'ppap': 5602, 'funniest': 2810, 'things': 7287, 'seen': 6339, 'thosfansbts': 7298, 'publix': 5736, 'moose': 4720, 'tracks': 7431, 'ice': 3499, 'cream': 1626, 'gallagher': 2835, 'responds': 6013, 'oasis': 5053, 'voted': 7806, 'british': 914, 'spoiled': 6794, 'ungrateful': 7619, 'piece': 5445, 'classy': 1341, 'bombs': 786, 'won': 8028, 'wittier': 8018, 'liked': 4169, 'video': 7746, 'tickets': 7323, 'special': 6759, 'regina': 5917, 'perkins': 5380, 'explain': 2442, 'vinnie': 7761, 'johnson': 3805, 'taking': 7126, 'chair': 1181, 'nap': 4843, 'workout': 8053, 'leaving': 4093, 'studio': 6978, 'wearing': 7899, 'fav': 2544, 'eyes': 2460, 'hny': 3340, 'rage': 5815, 'kevin': 3915, 'lma': 4218, 'march': 4436, 'madness': 4366, 'saddle': 6198, 'pad': 5228, 'series': 6377, 'champions': 1190, 'earnings': 2189, 'open': 5140, 'rattle': 5847, 'tap': 7148, 'lptx': 4322, 'vktx': 7783, 'eod': 2342, 'shaken': 6415, 'rest': 6017, 'biggest': 667, 'dork': 2075, 'mark': 4447, 'june': 3850, 'calendars': 1039, 'fieldofability': 2603, 'quinte': 5795, 'challengerbaseball': 1186, 'strategy': 6945, 'rid': 6069, 'nation': 4851, 'plague': 5480, 'donnie': 2057, 'drumpfo': 2144, 'corrutptrump': 1563, 'hamlet': 3145, 'audacity': 407, 'second': 6324, 'nice': 4935, 'warwick': 7861, 'ri': 6059, 'countries': 1581, 'terrorists': 7223, 'away': 436, 'michaelfassbender': 4590, 'retweeting': 6038, 'thread': 7302, 'thanking': 7239, 'universe': 7632, 'thankyoumaine': 7244, 'embracing': 2280, 'magic': 4374, 'bless': 727, 'saw': 6255, 'nico': 4943, 'niii': 4961, 'motherfucker': 4735, 'clip': 1358, 'worth': 8071, 'effort': 2231, 'shill': 6455, 'fish': 2649, 'lipped': 4187, 'ck': 1323, 'eat': 2205, 'plate': 5491, 'skp': 6590, 'greet': 3062, 'presence': 5633, 'kisse': 3953, 'remember': 5949, 'phil': 5415, 'finished': 2642, 'jaspin': 3744, 'drew': 2122, 'memories': 4541, 'difference': 1953, 'sam': 6218, 'couple': 1585, 'losers': 4283, 'gh': 2909, 'fake': 2495, 'fakecases': 2496, 'cares': 1100, 'apnidukaan': 275, 'maunsarkaar': 4485, 'genderneutralla': 2880, 'ah': 115, 'forward': 2739, 'tweeting': 7554, 'pause': 5321, 'tf': 7232, 'guna': 3108, 'respond': 6010, 'morning': 4725, 'text': 7229, 'fuckn': 2796, 'leos': 4119, 'managed': 4411, 'screen': 6295, 'capture': 1088, 'removed': 5959, 'soooo': 6706, 'brassknuckles': 875, 'newjersey': 4921, 'new': 4914, 'york': 8185, 'pandastory': 5254, 'pity': 5472, 'frosting': 2785, 'healthy': 3249, 'food': 2706, 'group': 3080, 'ping': 5460, 'realized': 5876, 'chapters': 1207, 'homework': 3372, 'anatomy': 219, 'hours': 3421, 'honework': 3378, 'min': 4623, 'suggest': 7020, 'voting': 7810, 'sessions': 6386, 'submitted': 6992, 'writers': 8086, 'liberals': 4146, 'amen': 199, 'charlie': 1215, 'said': 6204, 'clean': 1344, 'keeps': 3906, 'brilliant': 908, 'yep': 8162, 'read': 5864, 'bio': 686, 'pro': 5669, 'gun': 3107, 'pre': 5618, 'marital': 4446, 'expenses': 2437, 'spent': 6772, 'sex': 6398, 'expected': 2434, 'baby': 468, 'did': 1946, 'happen': 3165, 'job': 3797, 'northern': 4999, 'division': 2008, 'hump': 3456, 'starting': 6868, 'oneboobwednesday': 5118, 'later': 4052, 'bruh': 941, 'dailylifedrawing': 1743, 'sketch': 6583, 'selection': 6344, 'starbuckscoffee': 6857, 'figuredrawing': 2613, 'cleaned': 1345, 'bowled': 846, 'padmaawards': 5229, 'padmabhushan': 5230, 'msdhoni': 4764, 'presidentkovind': 5638, 'jimin': 3789, 'lmao': 4221, 'omg': 5110, 'hyung': 3489, 'consistency': 1512, 'swamp': 7077, 'appreciate': 292, 'kind': 3944, 'hes': 3296, 'craig': 1613, 'cnn': 1381, 'acosta': 35, 'referencing': 5912, 'campaign': 1058, 'started': 6866, 'david': 1778, 'motion': 4736, 'youu': 8202, 'miss': 4650, 'soul': 6722, 'holy': 3365, 'terrifying': 7222, 'statistic': 6877, 'sinclair': 6552, 'monopoly': 4711, 'twink': 7559, 'teen': 7204, 'jerking': 3770, 'doubles': 2080, 'dollars': 2043, 'welcome': 7919, 'poleng': 5539, 'nexxxxxxt': 4926, 'moron': 4727, 'spouting': 6810, 'wh': 7938, 'competitor': 1459, 'latest': 4053, 'listening': 4194, 'dust': 2175, 'went': 7928, 'hardcore': 3188, 'beef': 593, 'music': 4797, 'losing': 4285, 'buko': 982, 'money': 4704, 'em': 2273, 'pockets': 5525, 'omfg': 5108, 'forgot': 2728, 'koreaaaa': 3993, 'yoo': 8181, 'pastor': 5302, 'gray': 3053, 'hearing': 3253, 'spread': 6813, 'word': 8047, 'pt': 5730, 'mixed': 4664, 'boy': 849, 'playing': 5499, 'boi': 779, 'pussy': 5768, 'stephen': 6893, 'miller': 4616, 'qotd': 5779, 'favourite': 2549, 'phoebe': 5421, 'yea': 8141, 'maybe': 4489, 'milfs': 4612, 'test': 7225, 'result': 6022, 'sucker': 7009, 'beard': 575, 'times': 7341, 'ran': 5830, 'base': 536, 'killed': 3937, 'dear': 1808, 'tmgs': 7366, 'flavor': 2663, 'doodoo': 2066, 'mixture': 4667, 'trying': 7518, 'stg': 6903, 'spurs': 6823, 'jess': 3774, 'ing': 3602, 'tomorrow': 7388, 'honestly': 3376, 'person': 5387, 'dunno': 2169, 'boyyy': 860, 'yesterday': 8168, 'gosh': 3016, 'spammed': 6748, 'death': 1811, 'iam': 3493, 'soo': 6698, 'yay': 8138, 'leave': 4092, 'ted': 7201, 'nuggets': 5034, 'shout': 6499, 'nicole': 4945, 'knowing': 3977, 'wanted': 7844, 'options': 5154, 'bombscare': 787, 'app': 281, 'sleep': 6603, 'ethanwalli': 2382, 'delreystarwars': 1869, 'ek': 2246, 'johnston': 3806, 'yeaaaaahhh': 8142, 'rooted': 6138, 'thankful': 7238, 'woohoooo': 8039, 'says': 6261, 'asshole': 377, 'laughing': 4057, 'stock': 6915, 'entire': 2331, 'surprised': 7064, 'founder': 2747, 'pillow': 5454, 'tells': 7214, 'taller': 7139, 'mirror': 4643, 'pics': 5440, 'idk': 3515, 'pretty': 5645, 'height': 3270, 'door': 2071, 'knob': 3972, 'probably': 5672, 'hold': 3351, 'win': 7987, 'inning': 3612, 'letsgo': 4127, 'everybodyin': 2397, 'accurate': 31, 'americans': 205, 'president': 5636, 'trum': 7505, 'oohh': 5132, 'csi': 1682, 'meat': 4511, 'tweeted': 7553, 'yr': 8208, 'happens': 3168, 'crooked': 1658, 'nicer': 4938, 'anybody': 263, 'does': 2030, 'mr': 4757, 'shatner': 6434, 'wrath': 8080, 'vocals': 7788, 'bad': 479, 'loser': 4282, 'ones': 5121, 'meet': 4522, 'preferred': 5625, 'platinum': 5493, 'emerald': 2282, 'crystal': 1679, 'usum': 7684, 'rumors': 6170, 'air': 129, 'boo': 793, 'easter': 2197, 'sunday': 7028, 'damn': 1751, 'flex': 2667, 'implore': 3560, 'responded': 6011, 'bc': 565, 'wants': 7846, 'mcm': 4501, 'lot': 4288, 'crazy': 1624, 'chew': 1250, 'chopping': 1288, 'opps': 5149, 'narrow': 4847, 'minded': 4626, 'nhi': 4930, 'mind': 4625, 'bola': 782, 'tha': 7234, 'isne': 3689, 'ain': 127, 'dopemans': 2073, 'tch': 7175, 'hear': 3251, 'saying': 6260, 'poop': 5552, 'painful': 5236, 'intervals': 3650, 'finisher': 2643, 'afford': 97, 'huncho': 3458, 'man': 4409, 'writing': 8089, 'boot': 809, 'camp': 1057, 'exercising': 2426, 'minds': 4629, 'bodies': 773, 'strongwriters': 6967, 'destinationexcellence': 1919, 'cheers': 1240, 'story': 6939, 'finds': 2635, 'returns': 6034, 'ring': 6083, 'vs': 7813, 'tuesday': 7529, 'readyplayerone': 5869, 'crying': 1675, 'thinking': 7291, 'response': 6014, 'zero': 8229, 'tired': 7354, 'woke': 8022, 'aaaahhhh': 0, 'screamed': 6292, 'loud': 4293, 'family': 2510, 'example': 2414, 'abuse': 14, 'power': 5598, 'petty': 5407, 'child': 1259, 'openly': 5144, 'engages': 2310, 'understand': 7606, 'nina': 4964, 'senses': 6366, 'start': 6865, 'having': 3222, 'withdrawals': 8015, 'dawg': 1782, 'disrespectful': 1995, 'finally': 2629, 'yanks': 8127, 'sounds': 6728, 'sleeps': 6605, 'concerts': 1477, 'send': 6358, 'vibes': 7735, 'plz': 5520, 'recent': 5888, 'victories': 7743, 'direct': 1967, 'signing': 6532, 'sharing': 6431, 'animalrights': 235, 'petitions': 5404, 'dumb': 2160, 'ended': 2301, 'er': 2352, 'bts': 956, 'army': 327, 'giveaway': 2943, 'prizes': 5668, 'bomb': 785, 'ver': 7719, 'ga': 2821, 'consist': 1511, 'winners': 7998, 'happybirthday': 3178, 'star': 6855, 'linda': 4180, 'hunt': 3463, 'academy': 17, 'award': 433, 'winner': 7997, 'turns': 7540, 'years': 8148, 'congrats': 1492, 'balag': 496, 'ko': 3981, 'jan': 3731, 'anniversary': 243, 'awwwwwww': 449, 'wedding': 7905, 'paul': 5318, 'tipsy': 7352, 'collab': 1401, 'starbucks': 6856, 'giftcard': 2922, 'moxee': 4750, 'eyeshadow': 2461, 'choice': 1280, 'sick': 6517, 'casuallly': 1128, 'shot': 6495, 'tree': 7468, 'high': 3309, 'heard': 3252, 'kno': 3971, 'athletes': 391, 'track': 7429, 'basketball': 546, 'felt': 2585, 'pooping': 5556, 'subscriber': 6996, 'cookies': 1540, 'connecticut': 1499, 'dying': 2181, 'democrat': 1879, 'tvxq': 7544, 'official': 5078, 'arrived': 332, 'max': 4487, 'baddest': 482, 'meatcheese': 4512, 'shyloh': 6515, 'myeverything': 4810, 'birthdayboy': 694, 'loveyou': 4307, 'loss': 4286, 'memes': 4538, 'fantastic': 2519, 'bryan': 949, 'adams': 51, 'bruce': 939, 'springsteen': 6820, 'performing': 5376, 'knife': 3970, 'badlands': 484, 'youtube': 8199, 'sooo': 6704, 'truuu': 7516, 'lesbian': 4120, 'yall': 8124, 'crawfish': 1619, 'ckin': 1325, 'computer': 1470, 'blame': 720, 'dr': 2094, 'goldberg': 2987, 'clattenburg': 1342, 'isn': 3688, 'officiating': 5081, 'hanzi': 3164, 'brotha': 931, 'gabby': 2822, 'smokin': 6644, 'jake': 3725, 'omm': 5115, 'shi': 6451, 'filled': 2620, 'survey': 7067, 'discount': 1980, 'tank': 7147, 'run': 6172, 'hiding': 3308, 'invite': 3665, 'geoinfo': 2893, 'conference': 1483, 'delft': 1859, 'october': 5067, 'warrant': 7857, 'ima': 3540, 'idc': 3505, 'doodlebob': 2065, 'tattoo': 7162, 'asscheek': 372, 'mean': 4503, 'glare': 2954, 'mad': 4358, 'react': 5861, 'lmaooooooooo': 4227, 'hearts': 3257, 'mysticmessenger': 4818, 'dad': 1734, 'iz': 3711, 'haz': 3227, 'bin': 685, 'charming': 1219, 'clear': 1346, 'essence': 2368, 'customer': 1715, 'shares': 6429, 'experience': 2438, 'customers': 1716, 'continued': 1528, 'supp': 7041, 'deal': 1804, 'rules': 6166, 'startin': 6867, 'bobbin': 770, 'wrong': 8091, 'duplicitous': 2172, 'course': 1589, 'facial': 2480, 'expressions': 2452, 'outnumber': 5189, 'hubby': 3439, 'street': 6954, 'count': 1578, 'inevitable': 3594, 'west': 7931, 'wherewi': 7947, 'week': 7912, 'till': 7334, 'apps': 299, 'artists': 349, 'applying': 290, 'artist': 348, 'scat': 6271, 'online': 5125, 'ama': 188, 'finna': 2644, 'summer': 7026, 'mane': 4417, 'pooper': 5555, 'charleneee': 1213, 'johnny': 3804, 'superman': 7039, 'bleep': 724, 'dissed': 1998, 'dead': 1798, 'korea': 3992, 'relev': 5941, 'support': 7045, 'sharon': 6432, 'glad': 2950, 'lastmanstanding': 4048, 'roseanneonabc': 6143, 'double': 2078, 'century': 1171, 'brought': 934, 'rich': 6064, 'wall': 7832, 'prints': 5660, 'youtuber': 8201, 'bugging': 973, 'boogie': 797, 'annoying': 248, 'game': 2838, 'pleeeeeaaaassssseeee': 5510, 'acting': 40, 'promise': 5694, 'cum': 1696, 'daddy': 1735, 'cock': 1386, 'retweet': 6036, 'confused': 1490, 'husband': 3472, 'wtf': 8094, 'idea': 3506, 'inspirational': 3624, 'dogs': 2036, 'scenes': 6273, 'chelsea': 1244, 'babylon': 469, 'preparations': 5630, 'europa': 2385, 'league': 4084, 'clash': 1335, 'osteoporosis': 5177, 'fc': 2555, 'cubs': 1690, 'offense': 5072, 'straight': 6941, 'draw': 2107, 'btw': 959, 'thicc': 7282, 'tiny': 7347, 'moppet': 4721, 'hoodwink': 3387, 'miracle': 4640, 'moon': 4718, 'teammiracle': 7190, 'votes': 7809, 'bbnaija': 563, 'trolling': 7491, 'android': 227, 'players': 5498, 'hard': 3187, 'using': 7678, 'broly': 924, 'lmaooooooo': 4226, 'armour': 325, 'feels': 2575, 'ok': 5092, 'seriously': 6378, 'lt': 4325, 'quite': 5797, 'imo': 3555, 'astute': 387, 'fan': 2512, 'mattis': 4484, 'redtsunami': 5905, 'tell': 7211, 'pale': 5250, 'face': 2474, 'loves': 4306, 'donald': 2051, 'ahe': 117, 'blended': 725, 'beavers': 588, 'sentence': 6368, 'wildwildcountry': 7982, 'bonkers': 791, 'obviously': 5065, 'awanbrothers': 432, 'scandal': 6265, 'matter': 4482, 'deserved': 1904, 'project': 5692, 'wrapped': 8079, 'fuse': 2814, 'offline': 5082, 'busy': 1008, 'aren': 312, 'bright': 905, 'revenge': 6044, 'escaped': 2364, 'total': 7410, 'holepotus': 3354, 'sad': 6197, 'blocked': 736, 'pos': 5571, 'telling': 7212, 'shitassperformer': 6465, 'motivating': 4738, 'maddy': 4362, 'girly': 2941, 'imy': 3568, 'boeing': 778, 'source': 6731, 'ingraham': 3603, 'sponsor': 6799, 'colace': 1397, 'creator': 1634, 'oxycontin': 5218, 'listing': 4197, 'wonderful': 8030, 'year': 8147, 'ahead': 118, 'lots': 4289, 'smiles': 6641, 'ti': 7321, 'rupaya': 6177, 'listed': 4191, 'hair': 3136, 'secrets': 6330, 'flashbackfriday': 2661, 'mona': 4695, 'lmfao': 4229, 'af': 88, 'respect': 6006, 'butch': 1009, 'lmfaoooo': 4231, 'semester': 6354, 'joseph': 3826, 'ken': 3910, 'kickass': 3926, 'luck': 4330, 'stormys': 6938, 'daniel': 1760, 'niel': 4949, 'danielseaveybirthday': 1762, 'danielseavey': 1761, 'james': 3728, 'harden': 3189, 'dunk': 2168, 'celebration': 1161, 'queen': 5788, 'clap': 1332, 'backs': 474, 'gus': 3113, 'sc': 6262, 'large': 4041, 'spades': 6745, 'genuinely': 2890, 'try': 7517, 'supportive': 7050, 'bash': 541, 'fastly': 2538, 'cloudflare': 1370, 'cdn': 1152, 'urls': 7669, 'regional': 5918, 'mirrors': 4644, 'insane': 3616, 'spotify': 6807, 'google': 3006, 'gc': 2868, 'itunes': 3709, 'happybirthdaypjm': 3181, 'regrann': 5919, 'jungmin': 3851, 'parkjungmin': 5281, 'ss': 6833, 'singer': 6556, 'koreanartist': 3995, 'bailly': 491, 'offfffff': 5075, 'zlatan': 8234, 'legend': 4103, 'mufc': 4778, 'ig': 3519, 'opportunity': 5148, 'tetley': 7227, 'kaleb': 3870, 'brian': 899, 'ur': 7665, 'finger': 2639, 'spinner': 6782, 'imessage': 3546, 'loooooool': 4272, 'wax': 7884, 'dice': 1941, 'king': 3947, 'greatest': 3057, 'covers': 1597, 'fw': 2816, 'glasses': 2956, 'pouches': 5594, 'ght': 2914, 'wins': 8000, 'finning': 2645, 'cat': 1130, 'trusted': 7514, 'partner': 5288, 'watched': 7874, 'guessing': 3101, 'folks': 2698, 'pissed': 5469, 'aprilfools': 301, 'shitty': 6475, 'competition': 1457, 'nicola': 4944, 'lewis': 4135, 'entered': 2326, 'aunt': 410, 'rocks': 6115, 'confuse': 1489, 'freakishly': 2759, 'unbelievable': 7598, 'making': 4397, 'wellies': 7921, 'tshirts': 7523, 'winter': 8002, 'jumpers': 3849, 'warm': 7854, 'jackets': 3715, 'trailer': 7440, 'trash': 7455, 'filters': 2624, 'similar': 6542, 'wig': 7976, 'craze': 1621, 'case': 1120, 'wondering': 8032, 'ksazobalit': 4005, 'grace': 3032, 'bunches': 993, 'cake': 1035, 'fatty': 2542, 'took': 7399, 'minutes': 4638, 'drive': 2131, 'home': 3366, 'minute': 4637, 'normally': 4997, 'stole': 6922, 'spend': 6770, 'strongest': 6965, 'eyesonyou': 2464, 'lookgot': 4267, 'pay': 5326, 'jai': 3723, 'da': 1728, 'eh': 2237, 'fair': 2492, 'xddd': 8103, 'real': 5870, 'bump': 991, 'trap': 7453, 'sudden': 7011, 'bloated': 731, 'importance': 3561, 'mrs': 4761, 'bucket': 964, 'needs': 4887, 'goodmorning': 3000, 'quarter': 5783, 'undergrad': 7603, 'ucsb': 7578, 'bitches': 705, 'picture': 5441, 'player': 5497, 'shearer': 6439, 'soz': 6739, 'al': 141, 'throw': 7308, 'gazza': 2866, 'htt': 3436, 'propaganda': 5700, 'stir': 6913, 'crock': 1657, 'crap': 1614, 'insecure': 3617, 'team': 7183, 'issue': 3698, 'bigot': 669, 'racist': 5807, 'laura': 4064, 'vacationing': 7695, 'shametown': 6423, 'unkind': 7635, 'cold': 1399, 'attack': 396, 'student': 6976, 'goonies': 3008, 'die': 1949, 'janitor': 3735, 'boots': 811, 'corey': 1554, 'feldman': 2578, 'delighting': 1863, 'changmin': 1201, 'takayoshi': 7121, 'freak': 2756, 'dolly': 2044, 'fox': 2749, 'niceview': 4939, 'dollyfox': 2045, 'shouldnt': 6497, 'bed': 590, 'nikki': 4962, 'regret': 5920, 'elf': 2261, 'row': 6149, 'named': 4835, 'stcos': 6888, 'learn': 4086, 'dan': 1754, 'shes': 6449, 'survive': 7069, 'fail': 2488, 'exams': 2415, 'saved': 6250, 'website': 7903, 'exo': 2430, 'cbx': 1148, 'sweetest': 7090, 'inside': 3620, 'babe': 463, 'winning': 7999, 'movies': 4748, 'monday': 4699, 'afternoon': 103, 'dick': 1942, 'conversation': 1533, 'black': 713, 'vutsek': 7814, 'simba': 6541, 'easy': 2203, 'utton': 7688, 'roke': 6119, 'eileen': 2243, 'corrie': 1560, 'thousand': 7301, 'ohh': 5089, 'played': 5496, 'rusty': 6181, 'snake': 6650, 'worst': 8069, 'nug': 5032, 'ordered': 5160, 'sending': 6359, 'wishes': 8011, 'positive': 5576, 'listen': 4192, 'doctors': 2021, 'oloshi': 5106, 'nicely': 4936, 'cf': 1175, 'gateway': 2858, 'drug': 2141, 'closing': 1367, 'opioid': 5147, 'nugent': 5033, 'tape': 7149, 'collection': 1403, 'adnauseum': 64, 'sis': 6566, 'awwww': 447, 'happened': 3166, 'broadcast': 916, 'ire': 3674, 'slides': 6612, 'successfully': 7006, 'sink': 6560, 'brain': 867, 'smiletaehyung': 6642, 'tae': 7116, 'bring': 909, 'lovely': 4304, 'moments': 4690, 'suits': 7024, 'ily': 3537, 'heart': 3254, 'youre': 8195, 'watching': 7877, 'american': 203, 'id': 3504, 'trynna': 7520, 'impress': 3564, 'abel': 7, 'snatched': 6656, 'nigga': 4952, 'dont': 2058, 'koko': 3986, 'throwing': 7310, 'fbrparty': 2554, 'requested': 5991, 'tried': 7481, 'kitkat': 3958, 'cookie': 1539, 'dough': 2086, 'dude': 2154, 'dears': 1810, 'derby': 1898, 'kyle': 4018, 'walker': 7829, 'guard': 3096, 'honour': 3383, 'pray': 5614, 'everyday': 2398, 'muller': 4781, 'handcuffs': 3149, 'deep': 1834, 'dramatic': 2105, 'dodger': 2026, 'piss': 5468, 'vote': 7805, 'cover': 1595, 'month': 4714, 'silas': 6534, 'kane': 3872, 'scrolls': 6302, 'butterfly': 1014, 'swirl': 7095, 'btsglitchparty': 958, 'boss': 822, 'obama': 5054, 'gop': 3011, 'stayed': 6885, 'supported': 7046, 'talks': 7137, 'use': 7673, 'emotions': 2291, 'thiscountry': 7294, 'dontdothattome': 2059, 'fed': 2565, 'fascinating': 2531, 'science': 6280, 'cosmos': 1566, 'fernando': 2591, 'reminds': 5954, 'wsg': 8093, 'load': 4236, 'towels': 7419, 'dryer': 2147, 'fold': 2696, 'yah': 8122, 'cruel': 1670, 'bit': 702, 'colossal': 1412, 'cunt': 1699, 'vosho': 7804, 'babse': 467, 'wodumo': 8021, 'comedy': 1426, 'wcc': 7891, 'enter': 2325, 'roger': 6116, 'stone': 6924, 'past': 5299, 'decades': 1818, 'spewing': 6773, 'conspiracy': 1516, 'theories': 7268, 'smear': 6634, 'reply': 5978, 'ball': 499, 'court': 1590, 'troublemaker': 7498, 'squad': 6824, 'goals': 2973, 'clueless': 1376, 'dress': 2118, 'boys': 859, 'fakenews': 2497, 'brainwash': 870, 'viewers': 7753, 'reading': 5866, 'viewing': 7754, 'alternate': 184, 'excuse': 2422, 'rude': 6158, 'comment': 1436, 'walk': 7827, 'unsuspecting': 7644, 'humans': 3451, 'prototype': 5708, 'gamedev': 2840, 'unity': 7631, 'madewithunity': 4364, 'screenshotsaturday': 6298, 'indiedevhour': 3584, 'indiedev': 3583, 'magnificent': 4376, 'sexy': 6402, 'gassed': 2857, 'yooooo': 8184, 'turd': 7534, 'dearest': 1809, 'lisi': 4189, 'joy': 3830, 'major': 4388, 'hats': 3216, 'painter': 5240, 'gladio': 2952, 'hbdgladio': 3230, 'swinging': 7094, 'marriedinmke': 4457, 'mke': 4670, 'weddingphotography': 7906, 'ignorant': 3522, 'complain': 1461, 'useless': 7676, 'puppy': 5749, 'column': 1417, 'rooster': 6136, 'painted': 5239, 'country': 1582, 'kitchen': 3957, 'acrylic': 38, 'animals': 236, 'disrespect': 1994, 'savage': 6248, 'trumpy': 7512, 'doesn': 2031, 'join': 3808, 'overwatch': 5209, 'youtubegaming': 8200, 'pharrah': 5410, 'pcgamer': 5336, 'pcgaming': 5337, 'subscr': 6995, 'kd': 3898, 'pull': 5740, 'england': 2313, 'challenge': 1185, 'sexier': 6399, 'mummy': 4787, 'equally': 2349, 'jealous': 3757, 'extra': 2454, 'kisses': 3954, 'dump': 2163, 'waiting': 7824, 'pic': 5433, 'bruhh': 942, 'highlight': 3311, 'fashoo': 2535, 'aldubxpatmeng': 151, 'tactic': 7115, 'stormy': 6937, 'russia': 6179, 'ect': 2218, 'species': 6762, 'butterflies': 1013, 'acre': 37, 'habitat': 3122, 'trails': 7441, 'gardens': 2852, 'pavilion': 5322, 'jeez': 3761, 'floor': 2676, 'cough': 1574, 'lucky': 4332, 'receive': 5885, 'cracking': 1610, 'rada': 5808, 'reaching': 5859, 'pleasure': 5507, 'adrian': 67, 'cousin': 1593, 'gave': 2860, 'egg': 2233, 'broccoli': 918, 'tinfoil': 7345, 'reach': 5857, 'rai': 5819, 'adam': 50, 'friendship': 2778, 'complete': 1463, 'thankyou': 7243, 'retweeet': 6035, 'webcam': 7902, 'calls': 1047, 'headass': 3237, 'jaylon': 3752, 'expecting': 2435, 'crossover': 1664, 'employment': 2295, 'tax': 7166, 'blue': 754, 'riding': 6074, 'hood': 3385, 'twist': 7561, 'neeh': 4888, 'xitsonga': 8107, 'laugh': 4055, 'taken': 7122, 'grief': 3069, 'chunderful': 1305, 'exist': 2427, 'absolutely': 12, 'agree': 112, 'estate': 2373, 'usually': 7683, 'safest': 6202, 'investment': 3663, 'maga': 4371, 'eaten': 2206, 'feeling': 2573, 'begins': 604, 'hole': 3353, 'awaiting': 430, 'humansofbarangay': 3452, 'ka': 3864, 'talaga': 7128, 'stunning': 6982, 'box': 847, 'okay': 5093, 'woman': 8025, 'mf': 4581, 'grinding': 3074, 'tho': 7295, 'number': 5038, 'leafs': 4083, 'short': 6492, 'disgusting': 1987, 'heeeeeey': 3266, 'booooo': 806, 'youngsters': 8194, 'doesnt': 2032, 'thumbs': 7316, 'ahhh': 120, 'chs': 1300, 'calma': 1049, 'funky': 2809, 'fartin': 2529, 'azz': 457, 'bud': 966, 'hooray': 3393, 'adulting': 72, 'nailed': 4829, 'mans': 4430, 'inna': 3611, 'electric': 2256, 'forest': 2723, 'cleared': 1347, 'depends': 1889, 'oval': 5199, 'office': 5076, 'congress': 1496, 'hasn': 3207, 'raised': 5825, 'objections': 5058, 'chumps': 1304, 'literally': 4199, 'kick': 3925, 'kuya': 4015, 'butley': 1010, 'btsarmy': 957, 'botmys': 828, 'catmys': 1140, 'glitchmys': 2957, 'ready': 5868, 'ex': 2409, 'united': 7630, 'treble': 7467, 'teddy': 7202, 'sheringham': 6448, 'freakin': 2757, 'stan': 6848, 'yoonmin': 8182, 'suga': 7018, 'senators': 6357, 'repressive': 5989, 'douglamalfa': 2087, 'larrywahl': 4043, 'buttecounty': 1012, 'chico': 1256, 'slight': 6614, 'shoot': 6483, 'matthias': 4483, 'williams': 7984, 'kooda': 3990, 'daddyman': 1736, 'newestyoungin': 4918, 'pm': 5522, 'national': 4853, 'championship': 1191, 'prunes': 5721, 'taste': 7155, 'popularity': 5567, 'reality': 5874, 'based': 539, 'originality': 5169, 'personality': 5391, 'weallloveporn': 7895, 'thx': 7319, 'outdoor': 5183, 'milf': 4610, 'advantage': 75, 'design': 1907, 'church': 1306, 'pk': 5475, 'itsok': 3708, 'stilllovehim': 6910, 'insult': 3633, 'malaysian': 4399, 'malaysians': 4400, 'patriotic': 5313, 'duty': 2176, 'struggling': 6970, 'instagram': 3629, 'rn': 6099, 'content': 1523, 'fo': 2691, 'estateagentlife': 2374, 'anoto': 252, 'chu': 1301, 'makina': 4396, 'yui': 8214, 'level': 4132, 'dancing': 1757, 'yikes': 8172, 'fat': 2539, 'podcast': 5528, 'poo': 5550, 'peace': 5340, 'ofcus': 5070, 'thinks': 7292, 'elected': 2254, 'mexico': 4580, 'english': 2314, 'pirates': 5466, 'milfmonday': 4611, 'vickyvette': 7740, 'faces': 2476, 'madi': 4365, 'havin': 3221, 'hit': 3330, 'eye': 2459, 'retrograde': 6032, 'intervention': 3651, 'maddie': 4361, 'yctuvyiojp': 8139, 'nonstop': 4987, 'zolu': 8236, 'posting': 5586, 'gives': 2946, 'lemme': 4114, 'seeing': 6336, 'yup': 8218, 'captured': 1089, 'rarest': 5843, 'mythical': 4819, 'pok': 5537, 'mon': 4694, 'mew': 4578, 'pokemon': 5538, 'chase': 1223, 'coping': 1548, 'fighting': 2609, 'premiosmtvmiaw': 5628, 'mtvbrkpopexo': 4772, 'females': 2587, 'spill': 6779, 'tea': 7177, 'hat': 3208, 'brigade': 904, 'loose': 4274, 'lowkey': 4316, 'habit': 3121, 'gitum': 2942, 'victim': 7741, 'update': 7650, 'eventually': 2392, 'apple': 285, 'dirty': 1971, 'far': 2521, 'myyyyyyyyyyy': 4821, 'gunna': 3109, 'looooooose': 4273, 'tambokikoy': 7143, 'ng': 4928, 'leyte': 4136, 'deserve': 1903, 'messenger': 4567, 'hyg': 3480, 'herriman': 3294, 'precinct': 5621, 'hooping': 3392, 'community': 1448, 'keeping': 3905, 'safe': 6200, 'screaming': 6294, 'shakes': 6417, 'georgemichael': 2896, 'cuttin': 1723, 'ties': 7327, 'disloyalty': 1989, 'hungry': 3460, 'pannari': 5258, 'flute': 2684, 'wife': 7973, 'pays': 5333, 'pipe': 5464, 'sewage': 6397, 'homes': 3370, 'ayeeee': 454, 'asf': 352, 'definitely': 1845, 'dance': 1756, 'mood': 4717, 'princes': 5656, 'nasty': 4848, 'infonya': 3598, 'sist': 6567, 'gf': 2907, 'chicken': 1255, 'grew': 3068, 'gluten': 2965, 'tasted': 7156, 'regretted': 5921, 'searching': 6316, 'meltmein': 4532, 'rds': 5856, 'homemade': 3369, 'brownies': 936, 'struggles': 6969, 'daily': 1742, 'random': 5831, 'bored': 817, 'stain': 6843, 'georgesoros': 2898, 'nwo': 5046, 'elite': 2267, 'novichok': 5018, 'kozachok': 3997, 'bar': 520, 'theresa': 7274, 'attacked': 397, 'expression': 2451, 'coming': 1432, 'trumps': 7508, 'mention': 4551, 'twftd': 7556, 'aldi': 150, 'malt': 4404, 'cheap': 1229, 'opinion': 5145, 'vegas': 7715, 'convention': 1532, 'completely': 1464, 'babies': 466, 'fixed': 2655, 'simple': 6543, 'millard': 4615, 'north': 4998, 'drama': 2103, 'running': 6175, 'fundraiser': 2806, 'fundraising': 2807, 'link': 4182, 'efforts': 2232, 'small': 6629, 'visit': 7778, 'jamaica': 3726, 'yodeling': 8177, 'walmart': 7836, 'aww': 445, 'alex': 156, 'tvxqifficial': 7545, 'henry': 3289, 'type': 7568, 'smack': 6627, 'outta': 5196, 'dome': 2047, 'kings': 3949, 'streamer': 6952, 'channel': 1202, 'room': 6135, 'proverbial': 5714, 'rug': 6160, 'refuse': 5915, 'address': 56, 'county': 1584, 'stubbed': 6972, 'toe': 7374, 'reached': 5858, 'amwriting': 210, 'stay': 6883, 'calm': 1048, 'panic': 5256, 'sriracha': 6832, 'walks': 7831, 'dressing': 2121, 'deport': 1892, 'gaw': 2861, 'apologize': 277, 'sleeping': 6604, 'bih': 671, 'bout': 839, 'recharge': 5890, 'blow': 749, 'bty': 960, 'sing': 6555, 'robron': 6110, 'eggs': 2234, 'emmerdale': 2286, 'uni': 7623, 'python': 5774, 'foot': 2714, 'carried': 1109, 'freaky': 2760, 'interaction': 3642, 'experts': 2441, 'alba': 143, 'gaskets': 2855, 'assetintegrity': 375, 'gearmeout': 2871, 'hiking': 3318, 'snow': 6666, 'ntf': 5024, 'affirmative': 95, 'neck': 4880, 'worried': 8065, 'elder': 2251, 'brown': 935, 'lantern': 4040, 'garbage': 2849, 'nevertrumper': 4913, 'douche': 2083, 'looked': 4266, 'fights': 2610, 'malik': 4402, 'younger': 8191, 'jagoff': 3720, 'st': 6835, 'decided': 1825, 'candidate': 1070, 'hijabi': 3317, 'fandom': 2513, 'babeee': 464, 'blessed': 728, 'ia': 3492, 'favor': 2546, 'jesus': 3777, 'sellers': 6350, 'comical': 1430, 'midfield': 4600, 'magician': 4375, 'forzajuve': 2740, 'checked': 1234, 'paid': 5234, 'fosta': 2742, 'ridiculous': 6072, 'bought': 833, 'fa': 2470, 'sum': 7025, 'janethevirgin': 3734, 'northland': 5001, 'mall': 4403, 'spot': 6806, 'local': 4241, 'rappers': 5839, 'ik': 3525, 'scream': 6291, 'brodie': 921, 'mate': 4476, 'lively': 4208, 'watches': 7875, 'cook': 1538, 'poured': 5596, 'cereal': 1172, 'milk': 4614, 'allah': 166, 'yeeeeaaaaaahhhh': 8150, 'tune': 7531, 'album': 144, 'freaking': 2758, 'joe': 3798, 'elll': 2270, 'chopped': 1287, 'fingers': 2640, 'fakenewsmsm': 2499, 'destroy': 1921, 'behave': 606, 'roseannecomeback': 6142, 'belated': 610, 'duck': 2153, 'bear': 574, 'celebrating': 1160, 'arsofthetrust': 342, 'alan': 142, 'awww': 446, 'somebody': 6687, 'quiz': 5798, 'deaths': 1812, 'stopping': 6932, 'dana': 1755, 'ridiculously': 6073, 'broda': 920, 'usher': 7677, 'thats': 7247, 'draaag': 2095, 'age': 105, 'lord': 4276, 'truth': 7515, 'extraordinarily': 2455, 'vile': 7757, 'peopl': 5367, 'adoptable': 65, 'pearl': 5345, 'ccstca': 1151, 'article': 346, 'pete': 5402, 'mp': 4755, 'freebiefriday': 2764, 'fabulous': 2473, 'bundle': 994, 'designer': 1908, 'accessories': 21, 'hello': 3279, 'house': 3422, 'crenshaw': 1643, 'aggie': 109, 'respeck': 6005, 'dreadnoughts': 2112, 'jim': 3787, 'carrey': 1108, 'comes': 1427, 'rino': 6085, 'paintings': 5242, 'ian': 3495, 'loved': 4301, 'network': 4910, 'hook': 3388, 'sinker': 6561, 'squirrel': 6829, 'hand': 3148, 'outs': 5193, 'billion': 680, 'views': 7755, 'fam': 2507, 'son': 6689, 'entertained': 2328, 'evolve': 2405, 'nessie': 4904, 'grabbing': 3031, 'cuppa': 1701, 'nessieland': 4905, 'cafe': 1028, 'happening': 3167, 'sa': 6188, 'hunker': 3461, 'turning': 7539, 'eternally': 2380, 'twins': 7560, 'seaotters': 6314, 'stick': 6904, 'rain': 5821, 'apparently': 282, 'holly': 3362, 'pawsome': 5325, 'epic': 2344, 'hour': 3420, 'loads': 4238, 'treats': 7466, 'happybirthdaysofi': 3182, 'cutie': 1722, 'lawd': 4069, 'lana': 4035, 'harriet': 3198, 'tubman': 7527, 'thurgood': 7317, 'marshall': 4459, 'lamar': 4033, 'ingram': 3605, 'border': 816, 'caravan': 1091, 'arrives': 333, 'ch': 1177, 'mins': 4636, 'counting': 1580, 'peta': 5401, 'latino': 4054, 'compassionate': 1455, 'dogdad': 2034, 'pedropascal': 5348, 'enjoying': 2319, 'happiest': 3171, 'songs': 6692, 'straightening': 6942, 'rogerstone': 6117, 'published': 5735, 'amaz': 189, 'daughter': 1774, 'shows': 6507, 'gang': 2843, 'wrestlemania': 8082, 'match': 4475, 'scripted': 6301, 'brocklesnar': 919, 'lose': 4281, 'aidan': 124, 'creating': 1630, 'memorable': 4540, 'snapshots': 6655, 'ford': 2721, 'everest': 2393, 'crapnation': 1615, 'submissions': 6990, 'info': 3597, 'com': 1419, 'lit': 4198, 'delivered': 1866, 'pledge': 5508, 'roseanne': 6141, 'exploring': 2447, 'international': 3646, 'space': 6742, 'station': 6875, 'virtual': 7772, 'usdlearns': 7672, 'reallly': 5877, 'wooow': 8044, 'lyk': 4352, 'chevann': 1249, 'nongnong': 4985, 'opening': 5143, 'fourth': 2748, 'gift': 2921, 'ma': 4355, 'unplugged': 7642, 'version': 7726, 'soniyedilnayilagda': 6695, 'baaghi': 460, 'green': 3060, 'indies': 3587, 'pakistan': 5246, 'zindabad': 8231, 'steve': 6897, 'products': 5684, 'mouse': 4743, 'pads': 5232, 'shaker': 6416, 'cups': 1702, 'code': 1388, 'rejects': 5926, 'delicate': 1861, 'decent': 1822, 'sabrina': 6191, 'angry': 230, 'battles': 557, 'escape': 2363, 'ar': 305, 'dublin': 2152, 'zzz': 8244, 'long': 4261, 'travel': 7458, 'doubletree': 2081, 'hilton': 3321, 'hotel': 3413, 'resort': 6003, 'spa': 6741, 'reserva': 5997, 'del': 1853, 'higueron': 3315, 'kentucky': 3913, 'numb': 5037, 'driving': 2133, 'saturday': 6241, 'guilty': 3106, 'featuring': 2563, 'book': 800, 'suze': 7075, 'orman': 5171, 'bloggers': 740, 'entr': 2332, 'act': 39, 'victims': 7742, 'mannnnn': 4428, 'late': 4050, 'keem': 3902, 'anyways': 267, 'hay': 3224, 'evening': 2389, 'esther': 2376, 'catch': 1132, 'highway': 3314, 'alces': 148, 'rb': 5854, 'finest': 2637, 'secret': 6328, 'round': 6146, 'europeforc': 2387, 'mistakes': 4660, 'andre': 225, 'london': 4259, 'domains': 2046, 'newgtlds': 4920, 'keyword': 3918, 'brand': 872, 'worldautismawarenessday': 8059, 'normal': 4996, 'clubcuppartner': 1373, 'dumbass': 2161, 'hctib': 3233, 'uoy': 7649, 'nisahc': 4971, 'bringyourmomtoo': 912, 'punk': 5747, 'bes': 632, 'eyh': 2466, 'seasons': 6318, 'dvd': 2178, 'mash': 4466, 'playall': 5495, 'phones': 5423, 'crappy': 1616, 'samsung': 6221, 'flip': 2671, 'backup': 475, 'chale': 1184, 'force': 2718, 'coach': 1382, 'collect': 1402, 'thieves': 7284, 'bigger': 666, 'tires': 7355, 'rims': 6081, 'wheel': 7944, 'sliding': 6613, 'friday': 2772, 'woo': 8035, 'hoo': 3384, 'enjoyable': 2317, 'restful': 6019, 'yassssssssssssssss': 8135, 'possibly': 5581, 'mcfc': 4499, 'breathalise': 887, 'californiasmells': 1043, 'commercials': 1440, 'step': 6891, 'human': 3449, 'needles': 4885, 'nut': 5040, 'littlebigtown': 4201, 'dreaming': 2115, 'jacob': 3717, 'fansite': 2518, 'beers': 596, 'military': 4613, 'navy': 4863, 'marines': 4441, 'coast': 1385, 'nationa': 4852, 'closer': 1365, 'coffee': 1391, 'bot': 826, 'fantasy': 2520, 'commies': 1441, 'shred': 6509, 'evidence': 2401, 'docume': 2022, 'jealousy': 3758, 'melon': 4530, 'monsta': 4712, 'pattie': 5316, 'djt': 2014, 'nazi': 4868, 'morals': 4722, 'adulterer': 70, 'dodging': 2027, 'corru': 1561, 'grocery': 3075, 'nofx': 4975, 'missed': 4651, 'outrage': 5190, 'trading': 7436, 'begin': 600, 'copy': 1550, 'paste': 5301, 'pips': 5465, 'young': 8190, 'poopy': 5557, 'click': 1351, 'details': 1924, 'breaking': 884, 'carries': 1110, 'adulthood': 71, 'bare': 527, 'muslims': 4802, 'planning': 5487, 'tmr': 7367, 'yards': 8130, 'itching': 3705, 'recording': 5897, 'jerk': 3769, 'stauffer': 6881, 'board': 766, 'woohoo': 8038, 'advocacy': 85, 'po': 5523, 'ml': 4671, 'sens': 6364, 'master': 4471, 'failure': 2491, 'bamteddy': 504, 'football': 2716, 'scare': 6267, 'business': 1004, 'shut': 6512, 'mmmhmmm': 4674, 'settle': 6390, 'pie': 5444, 'hack': 3123, 'knew': 3969, 'bound': 837, 'nacho': 4823, 'fries': 2780, 'unless': 7637, 'nerdy': 4898, 'gotten': 3022, 'books': 803, 'offer': 5074, 'sort': 6717, 'spelling': 6768, 'note': 5005, 'plenty': 5511, 'historic': 3328, 'locations': 4243, 'alcatra': 147, 'chuffed': 1303, 'dynamic': 2182, 'crew': 1644, 'featured': 2561, 'launch': 4060, 'digital': 1959, 'mag': 4370, 'brill': 906, 'laughter': 4059, 'cup': 1700, 'noodle': 4988, 'sippin': 6563, 'teambamteddy': 7185, 'lmaooo': 4223, 'idiot': 3513, 'charm': 1217, 'attending': 402, 'uc': 7576, 'santa': 6231, 'cruz': 1674, 'fall': 2504, 'college': 1405, 'erase': 2354, 'texts': 7231, 'figure': 2611, 'moving': 4749, 'poorest': 5559, 'continent': 1526, 'island': 3687, 'ny': 5047, 'teaching': 7181, 'grade': 3033, 'innovation': 3613, 'lab': 4021, 'class': 1336, 'facs': 2483, 'lurking': 4342, 'learnlap': 4089, 'wtg': 8095, 'lib': 4141, 'advertisers': 83, 'ingrahamangle': 3604, 'foxnews': 2750, 'armys': 328, 'sack': 6193, 'treated': 7465, 'siblings': 6516, 'duo': 2170, 'snap': 6651, 'startsomething': 6870, 'inspiredaily': 3626, 'entrepreneur': 2334, 'snapchatfun': 6653, 'activewear': 44, 'cluster': 1377, 'shite': 6467, 'whats': 7941, 'tips': 7351, 'masters': 4472, 'pal': 5249, 'guns': 3111, 'amendment': 200, 'tine': 7344, 'goodluck': 2999, 'wannaoneipucom': 7842, 'slush': 6626, 'held': 3274, 'tokyo': 7383, 'bitcoin': 707, 'blockch': 734, 'wic': 7968, 'mess': 4565, 'rocked': 6112, 'trip': 7484, 'stuck': 6973, 'yellowknife': 8159, 'northwest': 5002, 'sequel': 6374, 'beret': 631, 'rush': 6178, 'certainly': 1174, 'strongly': 6966, 'smiling': 6643, 'trauma': 7457, 'giant': 2917, 'floating': 2673, 'nebula': 4879, 'unsee': 7643, 'goes': 2980, 'shirt': 6462, 'strayquiz': 6949, 'askstra': 365, 'teammate': 7189, 'captain': 1085, 'sun': 7027, 'shining': 6458, 'grande': 3042, 'parentingtips': 5272, 'sophomores': 6712, 'addy': 57, 'til': 7333, 'exciting': 2421, 'surprise': 7063, 'lil': 4174, 'ft': 2788, 'camera': 1054, 'talkin': 7134, 'cuhz': 1693, 'stockmarket': 6917, 'trumptariffeffect': 7510, 'donthecon': 2061, 'resist': 6002, 'signed': 6531, 'fr': 2751, 'speak': 6756, 'attitude': 404, 'uhhh': 7586, 'general': 2881, 'oml': 5114, 'ay': 451, 'durban': 2174, 'bobby': 771, 'limitless': 4178, 'paint': 5238, 'dookie': 2067, 'quick': 5791, 'lunch': 4339, 'msd': 4763, 'lov': 4298, 'ure': 7667, 'nuked': 5035, 'bagger': 488, 'purity': 5757, 'weeks': 7915, 'basket': 545, 'haul': 3218, 'scary': 6270, 'emergency': 2284, 'beach': 572, 'huntington': 3464, 'savings': 6253, 'account': 25, 'hewitt': 3300, 'common': 1444, 'knowledge': 3978, 'msnbc': 4767, 'balanced': 497, 'notification': 5012, 'advice': 84, 'state': 6871, 'demonic': 1883, 'democrats': 1881, 'meant': 4507, 'records': 5898, 'chargers': 1212, 'cas': 1118, 'nipple': 4969, 'clamps': 1331, 'sore': 6714, 'nipples': 4970, 'magoof': 4377, 'singing': 6557, 'sza': 7110, 'mike': 4605, 'decision': 1826, 'theorists': 7269, 'sticks': 6908, 'pleasant': 5506, 'alden': 149, 'bardock': 526, 'disco': 1978, 'vip': 7768, 'bouncer': 836, 'secondary': 6325, 'ros': 6139, 'bae': 485, 'sd': 6306, 'makes': 4394, 'happier': 3170, 'hahahah': 3129, 'confidence': 1485, 'booster': 808, 'na': 4822, 'rin': 6082, 'lmafo': 4220, 'chill': 1266, 'tome': 7387, 'lying': 4351, 'visitor': 7779, 'uh': 7584, 'bihh': 672, 'squirt': 6830, 'pass': 5292, 'reporter': 5981, 'catcher': 1133, 'shoe': 6480, 'walking': 7830, 'phillies': 5417, 'manager': 4412, 'theirs': 7260, 'jersey': 3772, 'cray': 1620, 'messy': 4569, 'bbcan': 562, 'yuwei': 8219, 'experiences': 2439, 'benny': 630, 'hill': 3320, 'bringing': 910, 'childhood': 1260, 'en': 2297, 'los': 4280, 'gifs': 2920, 'sesh': 6384, 'wiff': 7974, 'muggy': 4780, 'scene': 6272, 'carnafunk': 1104, 'final': 2626, 'product': 5682, 'messing': 4568, 'lame': 4034, 'mother': 4734, 'raped': 5838, 'modii': 4685, 'looool': 4271, 'stopped': 6930, 'steven': 6898, 'louis': 4295, 'ua': 7574, 'missyoustreamingparty': 4658, 'missyou': 4657, 'pr': 5604, 'aries': 319, 'gemini': 2877, 'leo': 4118, 'libras': 4148, 'slandered': 6598, 'asses': 374, 'dayan': 1786, 'bath': 551, 'laughs': 4058, 'bite': 708, 'ibu': 3497, 'pawpaw': 5324, 'father': 2541, 'combo': 1422, 'rap': 5837, 'rhfox': 6053, 'poppets': 5564, 'bankholiday': 515, 'chance': 1194, 'ultimate': 7591, 'bias': 657, 'japanese': 3739, 'teacher': 7179, 'tech': 7198, 'generationgame': 2883, 'mel': 4527, 'sue': 7014, 'hosted': 3410, 'sooty': 6710, 'sweep': 7087, 'sacramento': 6196, 'voter': 7807, 'felony': 2584, 'illeg': 3532, 'nae': 4826, 'pulled': 5741, 'fy': 2819, 'satan': 6240, 'belong': 620, 'heaping': 3250, 'pile': 5452, 'shat': 6433, 'martin': 4462, 'brezeale': 898, 'molina': 4687, 'klitscko': 3965, 'takam': 7120, 'parker': 5279, 'povetkin': 5597, 'valiant': 7701, 'leaf': 4082, 'blower': 750, 'following': 2704, 'teambnn': 7186, 'member': 4534, 'roadtoaffiliate': 6107, 'suppo': 7044, 'tickled': 7324, 'enemy': 2308, 'asks': 364, 'cane': 1073, 'forcing': 2720, 'obstruct': 5062, 'justice': 3857, 'blossoms': 748, 'dripping': 2129, 'buying': 1018, 'celebrate': 1156, 'haitians': 3138, 'target': 7152, 'welovemarklee': 7923, 'blackpink': 716, 'million': 4619, 'talked': 7133, 'expect': 2433, 'demanding': 1872, 'chocolate': 1278, 'eastereggs': 2198, 'happyeaster': 3184, 'kinder': 3946, 'chocolateeggs': 1279, 'ask': 359, 'lovemylife': 4305, 'role': 6121, 'different': 1955, 'pig': 5447, 'capitalized': 1080, 'conveniently': 1531, 'coupon': 1586, 'daveandbusters': 1777, 'technically': 7199, 'lower': 4313, 'dog': 2033, 'witch': 8014, 'fitting': 2653, 'plungers': 5517, 'emoji': 2287, 'rolling': 6124, 'branding': 873, 'gotcha': 3019, 'witnessthetourmnl': 8017, 'dirait': 1966, 'tom': 7385, 'sawyer': 6256, 'popular': 5566, 'suffering': 7017, 'senile': 6361, 'dementia': 1875, 'whoooooo': 7961, 'fridayyy': 2774, 'niccccceee': 4934, 'tony': 7395, 'explanation': 2445, 'creepy': 1642, 'bullshit': 988, 'kushner': 4013, 'ocean': 5066, 'unit': 7628, 'la': 4020, 'gorce': 3012, 'newly': 4922, 'renovated': 5966, 'excellent': 2416, 'ups': 7660, 'hero': 3291, 'rico': 6068, 'jejely': 3764, 'waste': 7869, 'web': 7901, 'bow': 841, 'tryna': 7519, 'bottle': 830, 'puke': 5738, 'service': 6383, 'recognition': 5893, 'nationwide': 4857, 'impact': 3556, 'houston': 3425, 'astro': 384, 'pain': 5235, 'vandy': 7707, 'initial': 3608, 'absolute': 11, 'vicfabe': 7738, 'vicfabebabies': 7739, 'hur': 3465, 'din': 1961, 'orchestra': 5157, 'lullaby': 4337, 'rag': 5814, 'set': 6387, 'apart': 269, 'competitors': 1460, 'biased': 658, 'crashing': 1618, 'value': 7704, 'lurve': 4343, 'question': 5789, 'lilly': 4176, 'rizakosef': 6096, 'zoetropic': 8235, 'http': 3437, 'create': 1629, 'buy': 1017, 'important': 3562, 'hh': 3302, 'heavy': 3261, 'bust': 1006, 'taught': 7164, 'stack': 6840, 'dope': 2072, 'results': 6023, 'sell': 6349, 'smells': 6637, 'sugar': 7019, 'road': 6105, 'greatly': 3058, 'appreciated': 293, 'supportsma': 7052, 'nvm': 5044, 'gon': 2992, 'clothes': 1368, 'laundry': 4063, 'mat': 4473, 'genial': 2885, 'corrupt': 1562, 'doj': 2040, 'fbi': 2552, 'cia': 1308, 'funding': 2805, 'es': 2362, 'interesting': 3644, 'gov': 3023, 'jerry': 3771, 'sooner': 6702, 'stops': 6933, 'kiss': 3952, 'wcw': 7892, 'youuu': 8203, 'mythology': 4820, 'prove': 5713, 'veracity': 7720, 'mbuzzambuzza': 4494, 'wat': 7871, 'javas': 3745, 'plates': 5492, 'goaaaals': 2970, 'protective': 5706, 'eardrums': 2183, 'agreed': 113, 'cowboy': 1601, 'raising': 5826, 'harry': 3199, 'styles': 6988, 'officially': 5079, 'sold': 6679, 'pure': 5756, 'copies': 1547, 'estimated': 2377, 'sps': 6822, 'riaa': 6060, 'streaks': 6950, 'kaos': 3875, 'snapchat': 6652, 'yeahh': 8145, 'fictional': 2601, 'characters': 1210, 'shake': 6414, 'percent': 5370, 'claim': 1326, 'independent': 3578, 'spoke': 6796, 'assembly': 373, 'cans': 1074, 'date': 1771, 'lisa': 4188, 'mata': 4474, 'smarter': 6632, 'uk': 7589, 'shower': 6504, 'downtown': 2091, 'cincinnati': 1312, 'liberalismisamentaldisorder': 4145, 'libtards': 4150, 'flys': 2688, 'translation': 7452, 'fly': 2685, 'hypocrite': 3485, 'horror': 3405, 'jayden': 3750, 'lanie': 4039, 'recall': 5883, 'pushing': 5765, 'olds': 5101, 'gawd': 2862, 'jr': 3833, 'pushes': 5763, 'smoov': 6647, 'bruv': 948, 'broken': 923, 'carter': 1116, 'ba': 459, 'kissing': 3955, 'beast': 579, 'rejoice': 5927, 'breath': 886, 'restock': 6020, 'enchants': 2299, 'reset': 6000, 'worldofwarcraft': 8060, 'goldmaking': 2990, 'mvp': 4808, 'ads': 68, 'wave': 7881, 'removes': 5960, 'congressional': 1497, 'purple': 5759, 'psychobilly': 5729, 'managers': 4413, 'upto': 7662, 'marcella': 4435, 'disprove': 1993, 'art': 343, 'lucecelestialemnl': 4328, 'event': 2390, 'kicked': 3927, 'reunions': 6040, 'wa': 7815, 'sp': 6740, 'vanjie': 7709, 'cc': 1149, 'surely': 7059, 'specifically': 6763, 'championsleague': 1192, 'aporla': 280, 'halamadridynadam': 3139, 'vamos': 7705, 'unjaded': 7634, 'vlog': 7784, 'bcs': 569, 'psycho': 5728, 'dressed': 2119, 'vest': 7727, 'melts': 4533, 'afcb': 90, 'idol': 3516, 'interacted': 3641, 'noticed': 5011, 'believing': 615, 'una': 7596, 'dey': 1930, 'referring': 5913, 'illegal': 3533, 'aliens': 161, 'prime': 5654, 'membership': 4535, 'amazon': 195, 'newest': 4917, 'workers': 8051, 'tammy': 7144, 'momma': 4692, 'grin': 3072, 'ccri': 1150, 'nra': 5021, 'murdering': 4791, 'cult': 1694, 'asswipe': 383, 'exceptional': 2417, 'town': 7421, 'tix': 7361, 'chaifetz': 1180, 'arena': 313, 'brah': 866, 'body': 774, 'wallet': 7834, 'ghoul': 2913, 'trooper': 7493, 'menfess': 4546, 'joins': 3812, 'assault': 370, 'weapon': 7896, 'proc': 5676, 'gen': 2878, 'foam': 2692, 'grimm': 3071, 'ecc': 2214, 'detroit': 1926, 'catherine': 1137, 'karaoke': 3879, 'wey': 7937, 'wan': 7838, 'updates': 7652, 'trending': 7473, 'treat': 7464, 'kia': 3924, 'genno': 2887, 'ehhhhh': 2239, 'customerservice': 1717, 'commonplace': 1445, 'stud': 6975, 'italian': 3702, 'suspects': 7073, 'frank': 2754, 'stallone': 6846, 'shined': 6457, 'disunomics': 2005, 'enlightening': 2321, 'figured': 2612, 'grand': 3041, 'slam': 6596, 'breakfast': 883, 'mankell': 4425, 'kurt': 4012, 'wallander': 7833, 'mysteryweek': 4817, 'constitution': 1518, 'belying': 623, 'clark': 1334, 'photo': 5425, 'square': 6825, 'situvieraquedecirte': 6575, 'manchester': 4414, 'aligned': 163, 'routine': 6147, 'tee': 7203, 'legendary': 4104, 'cardi': 1095, 'feet': 2576, 'fact': 2484, 'knows': 3980, 'blondes': 742, 'naturally': 4860, 'northerners': 5000, 'maiboc': 4381, 'dakotasoul': 1747, 'lonelyblond': 4260, 'climb': 1356, 'roof': 6133, 'blood': 743, 'sidewalk': 6524, 'poetic': 5532, 'safely': 6201, 'retail': 6024, 'bollocks': 783, 'pillows': 5455, 'affiliate': 94, 'marketing': 4450, 'beginners': 602, 'announced': 246, 'keenum': 3903, 'considered': 1510, 'female': 2586, 'melania': 4528, 'married': 4456, 'stockport': 6918, 'indochinenantes': 3591, 'insert': 3618, 'taylor': 7170, 'swift': 7091, 'lyric': 4354, 'mix': 4663, 'breddah': 891, 'weather': 7900, 'wetter': 7935, 'mermaids': 4561, 'minge': 4633, 'destroys': 1922, 'xhosa': 8105, 'tribe': 7477, 'martha': 4461, 'kicking': 3928, 'butt': 1011, 'gal': 2833, 'missing': 4652, 'uuu': 7689, 'zari': 8225, 'eating': 2207, 'accept': 19, 'nd': 4873, 'republicans': 5990, 'tout': 7418, 'intelligence': 3638, 'threat': 7304, 'periscope': 5378, 'scope': 6282, 'garage': 2848, 'trevor': 7475, 'setup': 6391, 'crows': 1668, 'bank': 514, 'holiday': 3356, 'dab': 1730, 'tekashi': 7208, 'promises': 5695, 'billboard': 678, 'charting': 1221, 'fastest': 2537, 'kodi': 3983, 'krypton': 4004, 'builds': 978, 'allianc': 169, 'simplicity': 6546, 'build': 976, 'auntie': 411, 'damnnnn': 1752, 'youngster': 8193, 'columbia': 1416, 'brace': 862, 'elimination': 2265, 'changing': 1199, 'guards': 3097, 'marky': 4453, 'murtagh': 4793, 'grumpy': 3087, 'outlander': 5186, 'murtaghmonday': 4794, 'asskisser': 379, 'cracklicker': 1611, 'honorable': 3381, 'resign': 6001, 'auspol': 412, 'pp': 5601, 'investigation': 3662, 'supreme': 7056, 'gag': 2826, 'order': 5159, 'appeal': 283, 'undercover': 7601, 'sus': 7070, 'pot': 5588, 'washed': 7863, 'dried': 2123, 'spanish': 6751, 'pens': 5364, 'jump': 3847, 'ong': 5123, 'bowing': 844, 'apologizing': 278, 'tmx': 7368, 'moment': 4689, 'captainkurt': 1086, 'shep': 6447, 'th': 7233, 'screwed': 6299, 'burn': 1000, 'jacket': 3714, 'playlist': 5500, 'pinged': 5461, 'wee': 7909, 'chip': 1271, 'kept': 3914, 'staring': 6862, 'bu': 961, 'heh': 3267, 'clever': 1350, 'repostsave': 5986, 'nathanfilliongifs': 4850, 'repostsaveapp': 5987, 'jail': 3724, 'cambridge': 1051, 'analytica': 216, 'billo': 682, 'buffalo': 971, 'aint': 128, 'unfortunately': 7618, 'fortunately': 2737, 'intelligent': 3639, 'admire': 62, 'bastards': 548, 'holes': 3355, 'understands': 7609, 'twin': 7558, 'retarded': 6025, 'stitches': 6914, 'leathered': 4091, 'bruise': 944, 'slice': 6609, 'sticking': 6907, 'knock': 3974, 'totals': 7412, 'cuh': 1692, 'blac': 712, 'chyna': 1307, 'violent': 7766, 'documented': 2023, 'dickheads': 1944, 'lacey': 4023, 'shade': 6410, 'stamp': 6847, 'yehundinonkibaathai': 8154, 'completing': 1465, 'episodes': 2346, 'letting': 4131, 'karamay': 3878, 'pooped': 5554, 'affirmed': 96, 'argentina': 314, 'buddies': 967, 'troia': 7489, 'noon': 4990, 'pst': 5727, 'est': 2371, 'askheranything': 361, 'windfall': 7989, 'reports': 5984, 'mccabe': 4495, 'emerge': 2283, 'donate': 2052, 'nearly': 4878, 'legal': 4102, 'defense': 1843, 'fund': 2803, 'whys': 7965, 'raging': 5817, 'eastenders': 2196, 'katmoonishome': 3891, 'posted': 5583, 'niece': 4947, 'born': 820, 'einstein': 2244, 'purchase': 5752, 'purchased': 5754, 'unto': 7645, 'iglesia': 3520, 'shitpost': 6470, 'teach': 7178, 'wayz': 7888, 'events': 2391, 'attend': 400, 'sign': 6528, 'tuonela': 7533, 'brew': 896, 'necmmiiiiiiiiii': 4881, 'hugs': 3445, 'ghetto': 2911, 'gold': 2986, 'digging': 1958, 'balls': 503, 'parade': 5265, 'psni': 5724, 'facilitate': 2481, 'wouldn': 8075, 'awkward': 443, 'awwwww': 448, 'warmer': 7855, 'bees': 597, 'hollen': 3359, 'anytime': 266, 'mentions': 4553, 'replies': 5977, 'meatloaf': 4514, 'swishers': 7096, 'feedback': 2569, 'nnly': 4974, 'deserves': 1905, 'putting': 5771, 'runners': 6174, 'anstruther': 253, 'wormit': 8063, 'mi': 4584, 'oooow': 5137, 'badge': 483, 'subs': 6994, 'subscribers': 6997, 'ikon': 3527, 'honor': 3380, 'sedin': 6334, 'retiring': 6028, 'present': 5634, 'favorite': 2547, 'report': 5979, 'perfection': 5372, 'control': 1530, 'fi': 2599, 'company': 1452, 'peeing': 5350, 'action': 41, 'met': 4570, 'longtime': 4264, 'honey': 3379, 'dayy': 1791, 'woooooow': 8043, 'sooooo': 6707, 'immigrants': 3553, 'facing': 2482, 'deportation': 1893, 'california': 1042, 'pardoned': 5270, 'governor': 3025, 'pestilence': 5399, 'kitty': 3962, 'sea': 6311, 'exchange': 2419, 'honest': 3375, 'review': 6046, 'buddy': 968, 'smell': 6635, 'monnie': 4708, 'monbebes': 4697, 'jealousydeservesbetter': 3759, 'dejavu': 1852, 'gigs': 2926, 'data': 1770, 'tries': 7482, 'reduce': 5906, 'breathing': 890, 'coughs': 1575, 'pictures': 5443, 'uso': 7680, 'sierra': 6525, 'mannnn': 4427, 'shirts': 6463, 'passes': 5295, 'potna': 5591, 'clutching': 1378, 'slick': 6610, 'clearly': 1349, 'retweets': 6039, 'gain': 2828, 'kylie': 4019, 'mayweather': 4492, 'pacquaio': 5227, 'carl': 1102, 'froch': 2781, 'georgegroves': 2895, 'wembley': 7926, 'michigan': 4593, 'owe': 5210, 'gucci': 3098, 'flops': 2678, 'colorado': 1409, 'mountains': 4742, 'mayflower': 4490, 'available': 421, 'insan': 3615, 'waow': 7847, 'salute': 6217, 'lolu': 4258, 'persistent': 5386, 'av': 420, 'waited': 7823, 'sligo': 6616, 'gaol': 2845, 'organised': 5164, 'students': 6977, 'association': 381, 'wi': 7967, 'holloway': 3361, 'stepped': 6894, 'aye': 453, 'rappin': 5840, 'dealers': 1805, 'drugs': 2143, 'brainwashed': 871, 'sheep': 6441, 'facebook': 2475, 'zzzuckerberg': 8245, 'sound': 6726, 'verified': 7721, 'reserved': 5999, 'couch': 1573, 'december': 1821, 'realised': 5872, 'eco': 2216, 'cemetery': 1166, 'list': 4190, 'oky': 5096, 'hahn': 3132, 'aired': 130, 'bat': 549, 'bearthdayshenanigans': 578, 'flags': 2658, 'emoshonal': 2289, 'pringle': 5658, 'pls': 5512, 'tweets': 7555, 'site': 6571, 'changes': 1197, 'hint': 3325, 'selly': 6352, 'assured': 382, 'reminder': 5952, 'prom': 5693, 'fear': 2557, 'sponsors': 6800, 'boycott': 851, 'facetime': 2478, 'windy': 7991, 'sunny': 7032, 'whoop': 7962, 'husbands': 3473, 'competitive': 1458, 'mrandmrslewis': 4758, 'mariokart': 4443, 'relaxing': 5935, 'enjoyed': 2318, 'pocketbook': 5524, 'period': 5377, 'kst': 4006, 'imfact': 3547, 'jian': 3784, 'jeup': 3780, 'voiceknockouts': 7793, 'thevoice': 7279, 'critter': 1656, 'criticalrole': 1654, 'learning': 4088, 'stayblessed': 6884, 'bleach': 722, 'retro': 6029, 'isibaya': 3685, 'theriver': 7276, 'gic': 2918, 'ourperfectweddin': 5181, 'coz': 1604, 'govt': 3026, 'feed': 2568, 'rubber': 6155, 'delicious': 1862, 'philadelphia': 5416, 'finals': 2631, 'reaction': 5862, 'backyard': 477, 'shine': 6456, 'cap': 1076, 'gown': 3027, 'woof': 8037, 'promposel': 5698, 'nervous': 4901, 'priests': 5653, 'pastors': 5303, 'bulls': 987, 'dang': 1758, 'bird': 687, 'prayingforrain': 5617, 'texting': 7230, 'nullll': 5036, 'everybody': 2396, 'fxkd': 2818, 'slang': 6599, 'justlikeyoustreamingparty': 3861, 'streaming': 6953, 'rouder': 6144, 'prease': 5620, 'attention': 403, 'block': 732, 'scumbag': 6305, 'dgaf': 1934, 'conormcgregor': 1503, 'tonyferguson': 7396, 'injured': 3609, 'ahahahaha': 116, 'ufc': 7580, 'themmahour': 7266, 'khabib': 3920, 'diary': 1940, 'gatto': 2859, 'bailed': 490, 'early': 2185, 'erin': 2357, 'tonys': 7397, 'eringance': 2358, 'ruined': 6163, 'breeches': 893, 'nerikull': 4900, 'pubg': 5734, 'console': 1514, 'ting': 7346, 'pitch': 5471, 'halsey': 3144, 'daz': 1792, 'daytime': 1790, 'cracked': 1608, 'endorsement': 2305, 'gladiators': 2951, 'homie': 3373, 'plain': 5481, 'stupidity': 6986, 'permeates': 5382, 'society': 6673, 'types': 7570, 'whinny': 7952, 'pedophiliac': 5347, 'xi': 8106, 'reads': 5867, 'ta': 7111, 'riffing': 6075, 'clubs': 1374, 'mt': 4768, 'daymn': 1788, 'press': 5639, 'identify': 3509, 'yorker': 8186, 'charmin': 1218, 'debate': 1814, 'lovelife': 4303, 'violet': 7767, 'notebook': 5006, 'youth': 8198, 'fest': 2593, 'ravetz': 5850, 'overprotective': 5206, 'mines': 4632, 'ion': 3669, 'minhyun': 4634, 'jihoon': 3786, 'jinyoung': 3794, 'drowning': 2139, 'argue': 315, 'non': 4984, 'trouble': 7497, 'observer': 5061, 'observe': 5060, 'handy': 3157, 'post': 5582, 'supposed': 7054, 'sling': 6618, 'airwaves': 135, 'guest': 3102, 'te': 7176, 'banger': 513, 'listened': 4193, 'voicemail': 7794, 'lastnight': 4049, 'chan': 1193, 'seungkwan': 6393, 'toyota': 7424, 'yaris': 8131, 'ad': 49, 'kacey': 3866, 'musgraves': 4795, 'slow': 6623, 'sinclairbroadcasting': 6553, 'bankrupt': 517, 'aprilfoolsday': 302, 'localnews': 4242, 'meee': 4520, 'pristin': 5661, 'roa': 6103, 'yuha': 8213, 'xiyeon': 8109, 'talented': 7130, 'destined': 1920, 'greatness': 3059, 'doodle': 2064, 'bob': 769, 'tattooed': 7163, 'abbott': 4, 'winged': 7995, 'majority': 4389, 'september': 6372, 'mame': 4407, 'dade': 1737, 'dawsonscreek': 1784, 'sean': 6313, 'hannity': 3163, 'loyalty': 4319, 'leg': 4100, 'bunch': 992, 'crooks': 1659, 'scamcoin': 6264, 'sought': 6721, 'thee': 7252, 'wander': 7840, 'thy': 7320, 'commandments': 1433, 'hing': 3324, 'cenosiitit': 1167, 'jep': 3767, 'jew': 3781, 'teams': 7193, 'shared': 6428, 'specially': 6761, 'suppose': 7053, 'belts': 622, 'stripped': 6961, 'defended': 1841, 'belt': 621, 'invest': 3661, 'urban': 7666, 'sanitation': 6230, 'ensure': 2324, 'toilets': 7379, 'corbyn': 1552, 'beauty': 587, 'allforarendang': 168, 'vhope': 7734, 'choose': 1284, 'awaited': 429, 'twitterpolls': 7564, 'kaala': 3865, 'thalapathy': 7235, 'ana': 213, 'prathi': 5613, 'vodu': 7790, 'billa': 677, 'ne': 4875, 'entra': 2333, 'arsforstylishbilla': 340, 'commentary': 1437, 'hott': 3418, 'drake': 2102, 'micheal': 4591, 'jackson': 3716, 'degrassi': 1849, 'holidays': 3357, 'curve': 1711, 'bankholidaymonday': 516, 'kill': 3936, 'daca': 1733, 'sec': 6323, 'theicocleansing': 7259, 'somu': 6688, 'thik': 7285, 'hun': 3457, 'ji': 3783, 'haya': 3225, 'shaktiastitvakeehsaaski': 6418, 'sau': 6243, 'atf': 390, 'ronnieeeee': 6131, 'duu': 2177, 'flash': 2660, 'upped': 7657, 'thegoodplac': 7257, 'recently': 5889, 'telegram': 7209, 'bcharity': 566, 'htownstop': 3435, 'biggestpartyoftheyear': 668, 'htctryouts': 3433, 'underestimating': 7602, 'costume': 1570, 'driver': 2132, 'intros': 3659, 'crc': 1625, 'january': 3736, 'finding': 2632, 'cafeteria': 1029, 'campus': 1061, 'magatrash': 4372, 'boogyman': 798, 'sitting': 6574, 'wethepeople': 7933, 'draintheswamp': 2101, 'criminal': 1649, 'rats': 5846, 'sanders': 6224, 'slap': 6600, 'basis': 544, 'ascot': 351, 'showusurcurvesladies': 6508, 'waheeeeey': 7821, 'xd': 8102, 'raffle': 5813, 'prize': 5667, 'bo': 763, 'standards': 6850, 'mania': 4419, 'starts': 6869, 'approximately': 298, 'wrestling': 8083, 'rely': 5943, 'certain': 1173, 'individual': 3589, 'zombie': 8237, 'onmyblock': 5127, 'kids': 3933, 'organize': 5165, 'spoken': 6797, 'articulate': 347, 'abt': 13, 'vise': 7775, 'versa': 7722, 'cmon': 1379, 'supper': 7042, 'lives': 4211, 'sid': 6522, 'rogue': 6118, 'spin': 6780, 'wars': 7860, 'awake': 431, 'inspiration': 3623, 'birth': 689, 'issss': 3697, 'barbarian': 522, 'stomped': 6923, 'concrete': 1478, 'herocz': 3292, 'caskale': 1125, 'belhaven': 612, 'grandslam': 3043, 'abv': 15, 'pint': 5463, 'sanam': 6223, 'dreads': 2113, 'hitting': 3333, 'boulder': 834, 'hank': 3160, 'gsd': 3088, 'rescue': 5994, 'foster': 2743, 'cross': 1660, 'sprszn': 6821, 'bagszn': 489, 'flaw': 2664, 'embarrassed': 2277, 'lebron': 4094, 'kobe': 3982, 'bean': 573, 'bryant': 950, 'broom': 928, 'babes': 465, 'cagaooooo': 1030, 'seventh': 6396, 'consecutive': 1505, 'pakvwi': 5248, 'jor': 3822, 'sha': 6407, 'umpire': 7595, 'practical': 5607, 'weak': 7894, 'knee': 3968, 'cowards': 1600, 'sealed': 6312, 'putt': 5770, 'ghost': 2912, 'mob': 4677, 'dimple': 1960, 'pushin': 5764, 'peeps': 5352, 'lou': 4292, 'dobbs': 2019, 'shopping': 6490, 'naked': 4832, 'allllll': 173, 'ive': 3710, 'multitasking': 4784, 'holding': 3352, 'pool': 5551, 'kasey': 3883, 'confirm': 1487, 'vets': 7730, 'qanon': 5775, 'bonehead': 789, 'permitted': 5383, 'grounds': 3079, 'dedicated': 1831, 'possi': 5579, 'bayonet': 559, 'marble': 4434, 'fade': 2487, 'specialist': 6760, 'gloves': 2962, 'foundation': 2746, 'awp': 444, 'asiimov': 357, 'follo': 2699, 'chucky': 1302, 'todd': 7373, 'communist': 1447, 'gregg': 3065, 'deployed': 1891, 'mondaynight': 4703, 'wigs': 7978, 'mfs': 4582, 'dogging': 2035, 'stating': 6874, 'form': 2730, 'antics': 259, 'disingenuous': 1988, 'georgina': 2899, 'tie': 7326, 'flinging': 2670, 'dragon': 2098, 'nerf': 4899, 'rival': 6091, 'kronos': 4003, 'stare': 6859, 'embarrassing': 2278, 'jimaccosta': 3788, 'wha': 7939, 'issajoke': 3696, 'wise': 8009, 'growing': 3084, 'older': 5100, 'autumn': 419, 'plans': 5488, 'woth': 8074, 'favorites': 2548, 'band': 506, 'seven': 6395, 'amazingly': 193, 'pabus': 5224, 'shame': 6422, 'allows': 176, 'continue': 1527, 'buffoonery': 972, 'manteb': 4431, 'cak': 1034, 'muchas': 4774, 'felicidades': 2580, 'felices': 2579, 'stress': 6956, 'micro': 4595, 'exam': 2412, 'ordeal': 5158, 'sucked': 7008, 'toks': 7382, 'tiffany': 7328, 'grass': 3048, 'cody': 1389, 'falls': 2506, 'asleep': 366, 'nooo': 4991, 'previewing': 5647, 'dank': 1763, 'beer': 595, 'springbreak': 6817, 'yeezy': 8153, 'likely': 4170, 'mid': 4598, 'dc': 1794, 'replays': 5975, 'wo': 8020, 'lacy': 4025, 'chief': 1257, 'flith': 2672, 'write': 8085, 'pen': 5355, 'mightier': 4603, 'sword': 7101, 'poll': 5548, 'doi': 2038, 'golden': 2988, 'ticket': 7322, 'mv': 4806, 'correct': 1558, 'representation': 5988, 'cumentary': 1697, 'ye': 8140, 'vommited': 7802, 'atleast': 392, 'wine': 7992, 'tasting': 7157, 'barossa': 533, 'valley': 7703, 'quoting': 5800, 'gettting': 2906, 'fit': 2651, 'catching': 1135, 'miles': 4609, 'christ': 1295, 'renews': 5965, 'spirit': 6784, 'helixstudios': 3276, 'turn': 7537, 'slug': 6625, 'relatable': 5928, 'helps': 3286, 'silliest': 6537, 'collins': 1406, 'douchecanoe': 2084, 'flaunts': 2662, 'steph': 6892, 'replacement': 5973, 'wag': 7817, 'embarrassment': 2279, 'lead': 4079, 'pub': 5732, 'attendance': 401, 'dooooouchebaggg': 2070, 'stocks': 6919, 'falling': 2505, 'amazo': 194, 'petrifying': 5405, 'graduation': 3036, 'dare': 1765, 'businesswomen': 1005, 'horizon': 3401, 'prod': 5680, 'dolla': 2041, 'notifications': 5013, 'purchasebeats': 5753, 'seconded': 6326, 'christian': 1296, 'kassius': 3885, 'ohno': 5091, 'smackdown': 6628, 'orange': 5155, 'cheeto': 1243, 'remark': 5946, 'despise': 1913, 'mindless': 4628, 'babbling': 462, 'warise': 7853, 'reylo': 6051, 'au': 405, 'spawned': 6755, 'antis': 260, 'hopping': 3400, 'porn': 5569, 'hbo': 3232, 'nickelodeon': 4942, 'remote': 5956, 'thingspeopletaketooseriously': 7288, 'sports': 6805, 'pat': 5304, 'phelan': 5414, 'typing': 7573, 'typed': 7569, 'joey': 3800, 'ramone': 5828, 'anal': 214, 'rabbit': 5803, 'laying': 4073, 'nude': 5030, 'legacy': 4101, 'gord': 3013, 'millers': 4617, 'trivia': 7488, 'babble': 461, 'whiny': 7953, 'runs': 6176, 'defeated': 1839, 'bsides': 953, 'pruitt': 5719, 'lobbied': 4239, 'lng': 4234, 'morocco': 4726, 'iq': 3672, 'kenny': 3911, 'logan': 4251, 'cosplay': 1567, 'xmen': 8110, 'logankenny': 4252, 'laurakenny': 4065, 'wolverine': 8023, 'wolverineclaws': 8024, 'monthhhhh': 4715, 'awhile': 442, 'harujion': 3204, 'pv': 5773, 'career': 1098, 'exols': 2432, 'powerful': 5599, 'saudi': 6246, 'arabian': 306, 'exol': 2431, 'reh': 5922, 'heat': 3258, 'brayden': 878, 'figuring': 2615, 'breast': 885, 'updated': 7651, 'psa': 5723, 'goodwill': 3003, 'moscow': 4732, 'niggato': 4954, 'lightskinato': 4167, 'technology': 7200, 'rings': 6084, 'theroyals': 7277, 'hurry': 3469, 'errythang': 2359, 'painting': 5241, 'mandela': 4416, 'south': 6733, 'hbdadorablealluayaan': 3229, 'praying': 5616, 'vain': 7698, 'pick': 5435, 'pace': 5225, 'blindeye': 730, 'bisaya': 699, 'sense': 6365, 'sephora': 6371, 'makeup': 4395, 'bestfriend': 635, 'iamtheresistance': 3494, 'sinclairstrike': 6554, 'haven': 3219, 'ignore': 3523, 'possible': 5580, 'ago': 111, 'undiagnosed': 7613, 'condition': 1479, 'tradition': 7437, 'screening': 6296, 'toady': 7369, 'louisa': 4296, 'rocket': 6113, 'films': 2623, 'chez': 1251, 'skeptical': 6582, 'anti': 257, 'approval': 297, 'eternal': 2379, 'arsehole': 337, 'shitbag': 6466, 'eric': 2356, 'goodwillhunting': 3004, 'swifta': 7092, 'magazine': 4373, 'sit': 6570, 'decisions': 1827, 'umgowo': 7593, 'yho': 8170, 'hayi': 3226, 'neep': 4889, 'ronda': 6130, 'reportedly': 5980, 'personalities': 5390, 'meetings': 4525, 'vox': 7812, 'alright': 182, 'east': 2194, 'volcano': 7798, 'winging': 7996, 'interested': 3643, 'halloween': 3143, 'film': 2621, 'yaaaay': 8119, 'airlines': 132, 'jetblue': 3778, 'worstever': 8070, 'dem': 1871, 'officials': 5080, 'flush': 2683, 'pops': 5565, 'scrap': 6288, 'cats': 1141, 'owners': 5215, 'shelter': 6446, 'active': 42, 'usmc': 7679, 'retired': 6026, 'maniac': 4420, 'deuce': 1927, 'yankees': 8126, 'games': 2842, 'playoffs': 5501, 'lightskin': 4166, 'oops': 5138, 'supporting': 7049, 'pfrr': 5409, 'shall': 6420, 'delivery': 1868, 'mana': 4410, 'entertaining': 2329, 'kat': 3886, 'circled': 1317, 'lmfaooo': 4230, 'convinced': 1535, 'jeffbron': 3762, 'opener': 5142, 'pushed': 5762, 'discover': 1982, 'evolution': 2404, 'seo': 6370, 'hyperlocal': 3484, 'wires': 8006, 'plushies': 5519, 'rubbis': 6156, 'motivationmonday': 4740, 'bodytekperks': 777, 'determined': 1925, 'hypeman': 3483, 'accolades': 23, 'mama': 4405, 'constant': 1517, 'mambo': 4406, 'jombo': 3818, 'toilet': 7378, 'roll': 6123, 'race': 5805, 'covered': 1596, 'calif': 1041, 'senate': 6356, 'niggers': 4957, 'hectic': 3263, 'france': 2753, 'surveys': 7068, 'julia': 3845, 'naughty': 4862, 'booty': 812, 'raven': 5849, 'cop': 1544, 'picks': 5438, 'nose': 5003, 'boogers': 796, 'cultures': 1695, 'ben': 625, 'piling': 5453, 'batman': 552, 'nohedidnt': 4976, 'buck': 963, 'bluetsunami': 755, 'theresistance': 7275, 'democratic': 1880, 'verse': 7724, 'allan': 167, 'lrt': 4323, 'yapping': 8128, 'expose': 2448, 'agenda': 107, 'zer': 8228, 'disappoint': 1976, 'dissertation': 1999, 'soulfulratchet': 6724, 'podcasts': 5529, 'girllllll': 2939, 'success': 7004, 'yie': 8171, 'security': 6333, 'voucher': 7811, 'annou': 244, 'stood': 6926, 'adults': 73, 'bullying': 990, 'parents': 5274, 'eastersowetopicnic': 2201, 'ogogo': 5087, 'nomkhulu': 4983, 'bakithi': 495, 'pensioners': 5365, 'imwiththiskid': 3567, 'davidhogg': 1779, 'supporter': 7047, 'crossbow': 1661, 'sniper': 6661, 'mode': 4680, 'saver': 6251, 'states': 6872, 'progressivepropaganda': 5690, 'lien': 4155, 'thomas': 7296, 'walsh': 7837, 'fraud': 2755, 'courtesy': 1591, 'dems': 1884, 'feign': 2577, 'shock': 6478, 'gasp': 2856, 'ntrsbirthdayin': 5027, 'trend': 7472, 'haters': 3212, 'ntr': 5026, 'card': 1093, 'sent': 6367, 'misspe': 4654, 'keyboard': 3917, 'basement': 540, 'thanksfor': 7241, 'joining': 3810, 'boyfriend': 857, 'ju': 3835, 'decide': 1824, 'childrensbookday': 1264, 'bookday': 801, 'childrensbook': 1263, 'whereeeee': 7946, 'ton': 7389, 'accumulating': 30, 'packed': 5226, 'loaded': 4237, 'ths': 7313, 'invasion': 3660, 'defend': 1840, 'themselve': 7267, 'references': 5911, 'himym': 3323, 'subtle': 7001, 'shifts': 6453, 'highlights': 3312, 'woooo': 8041, 'naw': 4864, 'alucard': 185, 'hellsing': 3280, 'medicine': 4516, 'caitlin': 1033, 'gd': 2870, 'spite': 6787, 'sphincter': 6775, 'clown': 1371, 'owner': 5214, 'owns': 5216, 'washingtonpost': 7867, 'seeking': 6338, 'respite': 6009, 'violence': 7765, 'hogye': 3349, 'sincerest': 6551, 'boring': 819, 'anymore': 265, 'replay': 5974, 'headshot': 3244, 'unlucky': 7640, 'zackksterr': 8223, 'pride': 5652, 'deed': 1833, 'pet': 5400, 'microchipped': 4596, 'ollowers': 5105, 'volunteers': 7799, 'district': 2004, 'polling': 5549, 'places': 5479, 'lmaoo': 4222, 'deadd': 1800, 'bacon': 478, 'prank': 5612, 'confam': 1482, 'bi': 656, 'ooo': 5134, 'suit': 7023, 'iron': 3676, 'vinyl': 7764, 'stickers': 6906, 'givin': 2947, 'swollen': 7100, 'pimple': 5457, 'gong': 2994, 'pop': 5560, 'sleeve': 6607, 'darkest': 1767, 'companies': 1451, 'opt': 5150, 'advertise': 81, 'dictionary': 1945, 'wipe': 8004, 'heckling': 3262, 'protect': 5705, 'environment': 2340, 'auto': 416, 'fossil': 2741, 'fuel': 2799, 'indust': 3592, 'discovered': 1983, 'size': 6577, 'heeed': 3265, 'bagged': 487, 'hersen': 3295, 'trial': 7476, 'stfu': 6902, 'wareagle': 7851, 'yoi': 8179, 'desrve': 1916, 'pizza': 5473, 'breadsticks': 881, 'cinnamon': 1314, 'tougher': 7416, 'lucozade': 4333, 'ribena': 6062, 'vimto': 7759, 'ginger': 2930, 'cha': 1178, 'solo': 6681, 'released': 5938, 'ends': 2306, 'irony': 3680, 'triple': 7485, 'penetrated': 5361, 'buttt': 1016, 'mommas': 4693, 'learned': 4087, 'avi': 426, 'bryce': 951, 'slightly': 6615, 'nats': 4858, 'interview': 3653, 'informative': 3600, 'bedroom': 591, 'dark': 1766, 'misjudged': 4646, 'position': 5575, 'fell': 2581, 'banged': 512, 'headboard': 3238, 'coins': 1395, 'ecactly': 2213, 'meredith': 4558, 'rip': 6088, 'whoohoo': 7960, 'supernatural': 7040, 'finale': 2627, 'themagicians': 7263, 'jamie': 3729, 'char': 1208, 'cricket': 1645, 'slide': 6611, 'evil': 2402, 'serves': 6382, 'switching': 7099, 'feeds': 2570, 'ilysm': 3538, 'tons': 7394, 'suspected': 7072, 'ou': 5180, 'pathetic': 5308, 'sicking': 6520, 'azzholes': 458, 'accountantable': 27, 'dummy': 2162, 'acct': 29, 'speech': 6765, 'yelpreview': 8160, 'luv': 4344, 'credibility': 1638, 'intervi': 3652, 'eiji': 2242, 'luc': 4326, 'bret': 895, 'paris': 5276, 'blockchain': 735, 'crypto': 1677, 'ai': 122, 'stars': 6864, 'lent': 4117, 'champion': 1189, 'broski': 930, 'congratulationz': 1495, 'spittrailsgoldcoast': 6788, 'ns': 5022, 'andrewstallingimagery': 226, 'omggggg': 5113, 'truely': 7503, 'cheer': 1239, 'wanting': 7845, 'nails': 4830, 'marley': 4454, 'cancelled': 1067, 'underwear': 7612, 'skid': 6584, 'marks': 4451, 'arsenal': 339, 'supporters': 7048, 'lick': 4152, 'elbows': 2250, 'talent': 7129, 'lmaoooo': 4224, 'fuckin': 2794, 'delish': 1864, 'decentralized': 1823, 'beatings': 582, 'kathleen': 3889, 'machine': 4356, 'confident': 1486, 'elle': 2269, 'sacks': 6195, 'monbebe': 4696, 'gap': 2846, 'closet': 1366, 'poshmark': 5574, 'floral': 2679, 'bodysuit': 776, 'host': 3409, 'shopmycloset': 6488, 'yelling': 8157, 'muted': 4804, 'mute': 4803, 'deliberate': 1860, 'misrepresentation': 4649, 'narrative': 4846, 'existential': 2429, 'war': 7849, 'lifetimes': 4160, 'ab': 3, 'trade': 7434, 'harvey': 3205, 'hardman': 3192, 'paula': 5319, 'cst': 1685, 'theheartofcaring': 7258, 'festive': 2594, 'germs': 2900, 'spreads': 6815, 'multiple': 4783, 'stinks': 6911, 'birds': 688, 'feather': 2559, 'flock': 2675, 'carpentry': 1106, 'mondaymotivation': 4702, 'thegoldbergs': 7256, 'birthdayboysig': 695, 'feature': 2560, 'tina': 7343, 'addict': 54, 'release': 5937, 'ap': 268, 'ajay': 138, 'appreciation': 294, 'mahi': 4380, 'unknowingly': 7636, 'strength': 6955, 'zoya': 8241, 'adi': 59, 'intimidates': 3656, 'lift': 4161, 'cabin': 1023, 'gif': 2919, 'battery': 554, 'alerts': 154, 'shocked': 6479, 'dies': 1951, 'vacation': 7694, 'recap': 5884, 'hahahaha': 3130, 'conservative': 1507, 'afraid': 98, 'jack': 3713, 'tripping': 7486, 'whoo': 7959, 'highvaluemember': 3313, 'bras': 874, 'asap': 350, 'omfsm': 5109, 'claire': 1329, 'chatting': 1226, 'tallest': 7140, 'rivershark': 6095, 'alumni': 186, 'land': 4036, 'versatile': 7723, 'actor': 45, 'broodal': 926, 'mario': 4442, 'odyssey': 5068, 'john': 3802, 'wowow': 8077, 'sheepdog': 6442, 'fridaymood': 2773, 'hoe': 3345, 'marked': 4448, 'dealing': 1806, 'impressed': 3565, 'lightning': 4164, 'kudos': 4009, 'beverages': 649, 'amirite': 207, 'oomf': 5133, 'blessing': 729, 'metaphysical': 4574, 'ninja': 4966, 'senpai': 6363, 'warframe': 7852, 'kristen': 4002, 'raining': 5823, 'polishing': 5544, 'announce': 245, 'greeting': 3063, 'cards': 1096, 'map': 4432, 'allow': 174, 'usa': 7670, 'dun': 2165, 'bet': 642, 'gainst': 2830, 'billlionaire': 681, 'sleepz': 6606, 'factory': 2485, 'goin': 2983, 'cait': 1032, 'puts': 5769, 'citizens': 1321, 'neurologist': 4911, 'nawalelzoghbi': 4865, 'pictureoftheday': 5442, 'behbo': 608, 'ktir': 4007, 'performance': 5375, 'buzzing': 1019, 'yyfc': 8220, 'wear': 7897, 'dinner': 1962, 'tits': 7360, 'boobies': 794, 'manila': 4422, 'harrystylesliveontour': 3200, 'harrystylesmnl': 3201, 'stands': 6853, 'destruction': 1923, 'conservatives': 1508, 'spell': 6767, 'hashtag': 3206, 'hannah': 3162, 'flies': 2668, 'fresh': 2769, 'teachers': 7180, 'shaping': 6426, 'generation': 2882, 'wipes': 8005, 'paper': 5261, 'farms': 2523, 'se': 6310, 'fue': 2798, 'anderson': 224, 'insulted': 3634, 'compliment': 1467, 'caught': 1143, 'cheating': 1231, 'deeply': 1835, 'fucks': 2797, 'pirince': 5467, 'bel': 609, 'caps': 1083, 'thou': 7299, 'hhay': 3303, 'betty': 648, 'lately': 4051, 'parts': 5289, 'hulaloobaaa': 3447, 'tou': 7413, 'connections': 1501, 'camping': 1060, 'burbs': 999, 'avenue': 423, 'ilang': 3530, 'daus': 1776, 'nalang': 4834, 'providers': 5717, 'patients': 5310, 'matisse': 4479, 'van': 7706, 'gogh': 2981, 'audrey': 409, 'makenzie': 4392, 'easiest': 2192, 'cams': 1062, 'ban': 505, 'standees': 6851, 'posters': 5585, 'shipped': 6461, 'centers': 1169, 'bharatanenenu': 655, 'strip': 6960, 'club': 1372, 'chairs': 1182, 'roy': 6150, 'sleeves': 6608, 'europeans': 2386, 'ancestors': 220, 'africans': 101, 'massive': 4470, 'mu': 4773, 'mia': 4585, 'popped': 5563, 'arkansas': 322, 'twice': 7557, 'spelt': 6769, 'area': 311, 'expertise': 2440, 'phd': 5413, 'deliver': 1865, 'anyday': 264, 'ute': 7685, 'tongues': 7390, 'gas': 2854, 'blunt': 757, 'dirt': 1970, 'patch': 5306, 'stec': 6890, 'zink': 8232, 'paragraph': 5266, 'depressed': 1895, 'research': 5995, 'alec': 152, 'smooth': 6646, 'convincing': 1536, 'dabbles': 1731, 'dent': 1886, 'chin': 1269, 'hopefully': 3397, 'quit': 5796, 'rapping': 5841, 'mass': 4469, 'creation': 1631, 'ttg': 7524, 'wuth': 8098, 'ly': 4349, 'comp': 1450, 'underrated': 7605, 'sh': 6406, 'dae': 1739, 'drunk': 2145, 'rightnow': 6078, 'drawlin': 2109, 'gft': 2908, 'chopchop': 1286, 'monkeys': 4707, 'ther': 7272, 'concert': 1476, 'longer': 4262, 'compassion': 1454, 'homeless': 3368, 'veterans': 7729, 'drain': 2099, 'likewise': 4172, 'edge': 2222, 'seats': 6320, 'besties': 638, 'hoes': 3346, 'obvious': 5064, 'judgement': 3838, 'compromised': 1469, 'sarahhhhh': 6235, 'bible': 660, 'litty': 4204, 'history': 3329, 'lights': 4165, 'apartment': 270, 'tr': 7427, 'defending': 1842, 'careful': 1099, 'freinds': 2767, 'bike': 676, 'ride': 6071, 'months': 4716, 'cycling': 1726, 'safety': 6203, 'positivity': 5578, 'wnbr': 8019, 'bodypositive': 775, 'pu': 5731, 'springer': 6818, 'neversettle': 4912, 'stright': 6957, 'mug': 4779, 'dinners': 1963, 'chowder': 1291, 'salad': 6208, 'clam': 1330, 'cakes': 1036, 'dudes': 2155, 'fakepresident': 2500, 'dah': 1740, 'mimi': 4622, 'gossiped': 3017, 'sms': 6648, 'connection': 1500, 'wikileaks': 7979, 'buen': 970, 'brooklyn': 927, 'horse': 3406, 'arguments': 317, 'ruled': 6165, 'flynn': 2687, 'succeed': 7003, 'ndlovu': 4874, 'warmup': 7856, 'den': 1885, 'quiet': 5794, 'silence': 6535, 'practice': 5609, 'boobs': 795, 'bigtits': 670, 'bigboobs': 663, 'sexygirl': 6403, 'yourock': 8196, 'mvhs': 4807, 'movement': 4746, 'bleached': 723, 'bunghole': 995, 'barbie': 524, 'bowel': 842, 'gay': 2864, 'matt': 4481, 'mud': 4776, 'change': 1196, 'peeeeeeeps': 5349, 'trek': 7469, 'enterprise': 2327, 'arteza': 344, 'colored': 1410, 'pencils': 5360, 'fornite': 2734, 'brudda': 940, 'amused': 209, 'hopeonthestreet': 3398, 'travis': 7462, 'ms': 4762, 'soydan': 6738, 'promo': 5697, 'lottery': 4291, 'poster': 5584, 'penalties': 5357, 'kate': 3887, 'calendar': 1038, 'dates': 1772, 'transferable': 7449, 'gara': 2847, 'bend': 626, 'der': 1897, 'killing': 3940, 'yaaay': 8120, 'csnt': 1684, 'eza': 2468, 'hek': 3271, 'schedule': 6276, 'tito': 7359, 'twba': 7548, 'hush': 3474, 'bowl': 845, 'shore': 6491, 'jerseyshorefamilyvacation': 3773, 'everly': 2394, 'damon': 1753, 'scrub': 6303, 'transfered': 7450, 'files': 2618, 'infrared': 3601, 'journey': 3829, 'mental': 4548, 'image': 3541, 'imagined': 3544, 'comments': 1439, 'bloom': 745, 'betting': 647, 'kutoa': 4014, 'frustrations': 2787, 'za': 8222, 'exercises': 2425, 'lore': 4278, 'tested': 7226, 'tag': 7117, 'walked': 7828, 'casa': 1119, 'proctors': 5679, 'cursing': 1709, 'extreme': 2456, 'sport': 6804, 'tummy': 7530, 'rumbling': 6167, 'mystery': 4816, 'novel': 5016, 'credited': 1640, 'paypal': 5332, 'stank': 6854, 'fmoig': 2690, 'astroo': 386, 'mcms': 4502, 'tears': 7196, 'essential': 2369, 'equipment': 2351, 'whilst': 7950, 'mido': 4601, 'dh': 1935, 'gamed': 2839, 'awyy': 450, 'oxem': 5217, 'bellah': 618, 'ged': 2872, 'dollar': 2042, 'creep': 1641, 'raw': 5851, 'erentil': 2355, 'winterjacket': 8003, 'tire': 7353, 'lay': 4071, 'weibo': 7916, 'yixing': 8174, 'sosad': 6720, 'ignorance': 3521, 'loizza': 4255, 'mentalhealth': 4549, 'hele': 3275, 'ambassador': 196, 'peersupport': 5353, 'korean': 3994, 'helping': 3285, 'mtvbrkpopbts': 4771, 'voices': 7795, 'condoms': 1481, 'dcth': 1795, 'setups': 6392, 'rnva': 6100, 'dsgt': 2148, 'hpmm': 3428, 'revealed': 6042, 'ooh': 5131, 'bake': 492, 'persona': 5388, 'anime': 238, 'airing': 131, 'jaws': 3747, 'swimming': 7093, 'outings': 5185, 'insisted': 3622, 'tracksuit': 7432, 'candles': 1071, 'naona': 4842, 'uko': 7590, 'msimamizi': 4766, 'fyi': 2820, 'immediate': 3550, 'pose': 5572, 'pussey': 5767, 'puusay': 5772, 'ftm': 2789, 'cried': 1647, 'aspire': 368, 'repen': 5971, 'prefer': 5624, 'eniola': 2315, 'stays': 6887, 'degrees': 1851, 'kot': 3996, 'gila': 2927, 'tak': 7119, 'panas': 5252, 'demo': 1876, 'amine': 206, 'cryptaldash': 1676, 'legitimate': 4107, 'spouce': 6809, 'citizen': 1320, 'hollywood': 3364, 'yn': 8175, 'whoopsies': 7963, 'lincoln': 4179, 'freed': 2765, 'slaves': 6602, 'sayin': 6259, 'impossible': 3563, 'rnwn': 6101, 'gtaonline': 3091, 'gtaphotographers': 3092, 'malaia': 4398, 'socal': 6671, 'adjustment': 60, 'giothemodest': 2931, 'morrronning': 4730, 'madrid': 4368, 'guarantee': 3095, 'water': 7878, 'healthier': 3247, 'bottled': 831, 'mazy': 4493, 'rahi': 5818, 'thi': 7281, 'fully': 2801, 'teachwrite': 7182, 'vast': 7711, 'natural': 4859, 'resources': 6004, 'anointing': 250, 'supercard': 7037, 'nesma': 4903, 'mysterious': 4815, 'edm': 2226, 'enemagram': 2307, 'solid': 6680, 'comradetrump': 1471, 'impeached': 3558, 'boycottsinclairmedia': 856, 'reeks': 5908, 'particular': 5286, 'desperation': 1912, 'potato': 5589, 'wedges': 7907, 'vintage': 7763, 'record': 5896, 'albums': 145, 'chesney': 1247, 'economy': 2217, 'appropriate': 296, 'intimidated': 3655, 'despised': 1914, 'reeses': 5909, 'quote': 5799, 'kinna': 3950, 'officers': 5077, 'arrested': 330, 'internetbillofrights': 3648, 'allowed': 175, 'sorete': 6715, 'handsome': 3156, 'yeahhhh': 8146, 'qt': 5780, 'rate': 5845, 'ts': 7521, 'onn': 5128, 'sauce': 6244, 'sonja': 6696, 'message': 4566, 'paw': 5323, 'waves': 7882, 'biscuit': 700, 'fanned': 2515, 'hodakotb': 3343, 'instafitness': 3628, 'spit': 6786, 'eve': 2388, 'pasta': 5300, 'noodles': 4989, 'bread': 880, 'nshit': 5023, 'scratch': 6290, 'crowd': 1665, 'goad': 2971, 'department': 1888, 'classic': 1338, 'ranting': 5836, 'social': 6672, 'marswithalden': 4460, 'toidymat': 7377, 'disposible': 1992, 'contour': 1529, 'mats': 4480, 'jadis': 3719, 'luxury': 4345, 'nay': 4867, 'worked': 8050, 'paaji': 5223, 'raab': 5801, 'hmesha': 3335, 'chadian': 1179, 'kalan': 3869, 'rkhe': 6097, 'bihhhh': 674, 'junk': 3855, 'domestic': 2048, 'debacle': 1813, 'obamacare': 5055, 'term': 7219, 'policies': 5542, 'insura': 3635, 'takeyouhome': 7125, 'commute': 1449, 'incredibly': 3577, 'cherry': 1246, 'blossom': 747, 'low': 4311, 'skeeps': 6580, 'goblue': 2974, 'fanny': 2516, 'meds': 4518, 'showdown': 6502, 'huge': 3441, 'vids': 7749, 'production': 5683, 'privilege': 5666, 'probs': 5675, 'sundays': 7030, 'fooled': 2711, 'envious': 2339, 'bezoz': 651, 'net': 4906, 'suppressing': 7055, 'underway': 7611, 'pair': 5243, 'uv': 7690, 'glowinthedark': 2963, 'terminusvox': 7220, 'mailcall': 4382, 'original': 5168, 'ebay': 2210, 'insider': 3621, 'floats': 2674, 'brilliance': 907, 'surrounds': 7066, 'ireland': 3675, 'bestie': 637, 'gained': 2829, 'responses': 6015, 'angst': 233, 'um': 7592, 'unite': 7629, 'mes': 4563, 'christmas': 1298, 'pistol': 5470, 'christmasgift': 1299, 'ame': 198, 'drudge': 2140, 'pumped': 5742, 'funk': 2808, 'sizzlin': 6578, 'hotter': 3419, 'curious': 1704, 'forced': 2719, 'carry': 1111, 'cast': 1126, 'winchesterforever': 7988, 'boxing': 848, 'despite': 1915, 'clarinet': 1333, 'skills': 6585, 'hugest': 3442, 'able': 10, 'radios': 5811, 'backwards': 476, 'sims': 6549, 'thumbnail': 7315, 'elites': 2268, 'pice': 5434, 'whale': 7940, 'restroom': 6021, 'inopportune': 3614, 'giggles': 2925, 'og': 5086, 'seein': 6335, 'easily': 2193, 'ahh': 119, 'nieces': 4948, 'nephews': 4896, 'kittens': 3960, 'planet': 5484, 'fellow': 2583, 'stfffffu': 6901, 'charley': 1214, 'ways': 7886, 'learnt': 4090, 'wwe': 8099, 'reasons': 5880, 'brainless': 868, 'actors': 46, 'janelle': 3733, 'guuuurrrl': 3115, 'fiyah': 2657, 'stawp': 6882, 'shiiii': 6454, 'dessert': 1917, 'rehabilitation': 5923, 'widow': 7971, 'divorcee': 2010, 'willing': 7985, 'gr': 3029, 'creat': 1628, 'claimed': 1327, 'boycottcnn': 853, 'bully': 989, 'fakenewsmedia': 2498, 'entries': 2335, 'doubt': 2082, 'csk': 1683, 'supports': 7051, 'chennaisuperkings': 1245, 'emotional': 2290, 'geniusyonngiday': 2886, 'micdropremix': 4588, 'shazams': 6438, 'ehhhh': 2238, 'tx': 7566, 'uglyyy': 7583, 'justin': 3860, 'broooo': 929, 'kellen': 3909, 'peaceful': 5341, 'header': 3240, 'yum': 8215, 'offset': 5083, 'cost': 1568, 'icdc': 3498, 'average': 425, 'blowjobsforever': 751, 'forgotten': 2729, 'wth': 8096, 'picking': 5437, 'arrow': 335, 'shreya': 6510, 'secretly': 6329, 'crush': 1672, 'joined': 3809, 'trumptrain': 7511, 'colleen': 1404, 'crude': 1669, 'owl': 5212, 'modelmonday': 4682, 'mondayfunday': 4700, 'themiraclewemet': 7265, 'firstbroadcast': 2647, 'istrending': 3701, 'ls': 4324, 'twee': 7551, 'leftist': 4099, 'puppet': 5748, 'democraps': 1878, 'sunk': 7031, 'finish': 2641, 'thefear': 7254, 'hated': 3210, 'fab': 2472, 'ending': 2303, 'abby': 5, 'chose': 1290, 'krazy': 4001, 'amendmentnow': 201, 'newelection': 4916, 'habby': 3120, 'birzday': 698, 'lays': 4075, 'chips': 1273, 'strawberry': 6946, 'kiwi': 3964, 'juice': 3843, 'madden': 4360, 'lesson': 4122, 'orgy': 5166, 'waffle': 7816, 'southernprobs': 6735, 'shaku': 6419, 'godfather': 2978, 'daikh': 1741, 'lo': 4235, 'iss': 3693, 'acha': 32, 'phir': 5420, 'pata': 5305, 'chal': 1183, 'jaye': 3751, 'color': 1408, 'vito': 7781, 'yaaaaaaaasssss': 8117, 'dt': 2149, 'wheels': 7945, 'derrick': 1899, 'littlebigtownfan': 4202, 'gee': 2873, 'rhyme': 6058, 'hitters': 3332, 'chili': 1265, 'davis': 1780, 'hanging': 3159, 'barbecue': 523, 'secure': 6332, 'interpretation': 3649, 'crisis': 1652, 'carpool': 1107, 'lane': 4038, 'amzn': 212, 'investors': 3664, 'mnwild': 4675, 'memory': 4542, 'gran': 3040, 'patience': 5309, 'virtue': 7773, 'countdown': 1579, 'volvooceanrace': 7800, 'veehrry': 7713, 'clock': 1360, 'relax': 5934, 'goodammydrpalz': 2998, 'rhode': 6056, 'providence': 5716, 'woonsocket': 8040, 'thatttt': 7248, 'askmarkruss': 363, 'silica': 6536, 'windows': 7990, 'blog': 739, 'dropping': 2137, 'silly': 6538, 'gno': 2967, 'micah': 4587, 'jett': 3779, 'riley': 6079, 'crime': 1648, 'clients': 1355, 'personaltrainer': 5393, 'elementary': 2257, 'oooh': 5135, 'weee': 7911, 'tighten': 7332, 'smash': 6633, 'baller': 501, 'headache': 3236, 'nfl': 4927, 'blackout': 715, 'brukout': 945, 'bashme': 542, 'hanna': 3161, 'yaaaaas': 8118, 'twisted': 7562, 'methinks': 4575, 'moonbeam': 4719, 'entertainment': 2330, 'hotfix': 3414, 'illustrated': 3536, 'description': 1900, 'optics': 5151, 'maker': 4393, 'dakin': 1746, 'hug': 3440, 'dee': 1832, 'frogs': 2783, 'sheener': 6440, 'wiener': 7972, 'jokers': 3815, 'costing': 1569, 'taxpayer': 7169, 'sues': 7015, 'cinthia': 1316, 'lmaoooooo': 4225, 'silver': 6539, 'lake': 4032, 'cut': 1718, 'cush': 1712, 'armon': 324, 'forreal': 2735, 'legit': 4106, 'js': 3834, 'illegals': 3534, 'plea': 5505, 'bargain': 530, 'shits': 6471, 'lighten': 4163, 'motivate': 4737, 'redvelvet': 5907, 'icecreamcake': 3500, 'information': 3599, 'trolls': 7492, 'responding': 6012, 'dubious': 2151, 'sources': 6732, 'credence': 1637, 'angel': 229, 'obinim': 5056, 'sticker': 6905, 'placed': 5478, 'calculator': 1037, 'siri': 6565, 'context': 1525, 'key': 3916, 'selfish': 6348, 'petulant': 5408, 'disruptive': 1997, 'whinging': 7951, 'upper': 7658, 'respiratory': 6008, 'infection': 3595, 'antibiotics': 258, 'steroids': 6896, 'buh': 975, 'bye': 1020, 'rep': 5968, 'esty': 2378, 'seek': 6337, 'election': 2255, 'claims': 1328, 'staffer': 6841, 'boston': 823, 'accent': 18, 'betis': 644, 'reader': 5865, 'brrrr': 937, 'statusupdate': 6879, 'noteworthy': 5008, 'section': 6331, 'statusupdatemovie': 6880, 'contagious': 1522, 'died': 1950, 'immediately': 3551, 'fetish': 2597, 'mremix': 4759, 'preorder': 5629, 'yasss': 8133, 'girllll': 2938, 'girlll': 2937, 'nakalimutan': 4831, 'oficial': 5085, 'alessia': 155, 'anna': 240, 'faith': 2493, 'embarassment': 2276, 'fawning': 2550, 'vietnam': 7751, 'vet': 7728, 'questions': 5790, 'bcpoli': 568, 'dk': 2015, 'uzalo': 7693, 'blorp': 746, 'comparing': 1453, 'deadass': 1799, 'richards': 6066, 'namhla': 4837, 'lucy': 4334, 'cosmo': 1565, 'deletefacebookimmediately': 1857, 'cambridgeanalytica': 1052, 'strong': 6964, 'threads': 7303, 'mainly': 4385, 'chapter': 1206, 'sigh': 6526, 'worries': 8066, 'mtvbrfandombts': 4770, 'footage': 2715, 'workshop': 8055, 'watchin': 7876, 'reworking': 6050, 'ninth': 4968, 'circuit': 1318, 'immigrant': 3552, 'valentines': 7700, 'lockthemallup': 4248, 'mahal': 4379, 'forevs': 2725, 'omelettes': 5107, 'jahhhhhh': 3722, 'fashion': 2532, 'sane': 6228, 'wherewithal': 7948, 'joyful': 3831, 'exploration': 2446, 'formativechat': 2732, 'stew': 6899, 'sandstorms': 6226, 'sandpaper': 6225, 'engine': 2311, 'intense': 3640, 'rangasthalam': 5833, 'blockbuster': 733, 'bastard': 547, 'families': 2509, 'hating': 3214, 'gti': 3093, 'strikes': 6958, 'finallyyyyyy': 2630, 'girlfriends': 2936, 'snitch': 6662, 'tour': 7417, 'keit': 3908, 'turtle': 7541, 'written': 8090, 'fullest': 2800, 'cali': 1040, 'shook': 6482, 'eddie': 2220, 'hahahahahahah': 3131, 'arranged': 329, 'metallica': 4571, 'ozzy': 5220, 'osbourne': 5174, 'sabbath': 6189, 'metallicanight': 4572, 'timcook': 7338, 'zuckerberg': 8242, 'growup': 3086, 'precious': 5622, 'drinks': 2128, 'wor': 8046, 'smug': 6649, 'poppas': 5562, 'asshat': 376, 'afff': 92, 'fwa': 2817, 'printable': 5659, 'unicorn': 7625, 'planner': 5486, 'millie': 4618, 'soft': 6677, 'galaxy': 2834, 'plus': 5518, 'cases': 1121, 'redbubble': 5902, 'shop': 6487, 'beth': 643, 'authority': 414, 'judge': 3836, 'lest': 4124, 'judged': 3837, 'winston': 8001, 'heaven': 3260, 'choices': 1281, 'shahid': 6413, 'kapoor': 3876, 'pankaj': 5257, 'johny': 3807, 'comebacks': 1425, 'posts': 5587, 'lee': 4095, 'integrity': 3636, 'springs': 6819, 'rallies': 5827, 'southern': 6734, 'pl': 5476, 'counts': 1583, 'mah': 4378, 'gayle': 2865, 'simplest': 6545, 'cancel': 1065, 'worldwide': 8062, 'congratsssss': 1493, 'youuuu': 8204, 'depression': 1896, 'utter': 7687, 'juveniles': 3863, 'lack': 4024, 'discipline': 1977, 'serve': 6380, 'manners': 4426, 'tshego': 7522, 'sounding': 6727, 'yer': 8163, 'awfully': 440, 'chloe': 1277, 'mum': 4785, 'cooking': 1541, 'wung': 8097, 'wong': 8033, 'georgeratcliffe': 2897, 'featureme': 2562, 'relation': 5931, 'focus': 2693, 'welfa': 7920, 'pals': 5251, 'passion': 5296, 'salaries': 6210, 'unlinked': 7639, 'unveiling': 7647, 'hartbeeps': 3203, 'kent': 3912, 'haii': 3134, 'ini': 3607, 'agee': 106, 'spine': 6781, 'mee': 4519, 'snobs': 6664, 'defiantly': 1844, 'shallow': 6421, 'theisland': 7261, 'cartoon': 1117, 'sdf': 6307, 'mmc': 4673, 'ypg': 8206, 'ypj': 8207, 'justright': 3862, 'igot': 3524, 'teamgot': 7187, 'soompiaward': 6700, 'jean': 3760, 'condom': 1480, 'couldn': 1576, 'releasing': 5940, 'bbb': 560, 'tuned': 7532, 'july': 3846, 'obligation': 5059, 'coindrop': 1394, 'liveme': 4209, 'smg': 6638, 'holland': 3358, 'parise': 5277, 'unassisted': 7597, 'plays': 5502, 'jukebox': 3844, 'okemah': 5094, 'baseball': 537, 'anxiety': 262, 'stiff': 6909, 'welly': 7922, 'mocks': 4679, 'disabled': 1973, 'proclaiming': 5677, 'liarinchief': 4139, 'chanyeol': 1204, 'happychanyeolday': 3183, 'mince': 4624, 'bowelmovement': 843, 'phillip': 5418, 'schofield': 6277, 'amber': 197, 'morris': 4729, 'reservation': 5998, 'contest': 1524, 'salon': 6215, 'pur': 5751, 'descriptive': 1901, 'tim': 7335, 'daisies': 1745, 'pc': 5334, 'cardboard': 1094, 'tc': 7174, 'statesman': 6873, 'proudparents': 5712, 'stoopid': 6927, 'fella': 2582, 'knocked': 3975, 'serial': 6376, 'killers': 3939, 'uthandonesthembu': 7686, 'mseleku': 4765, 'advocate': 86, 'studying': 6980, 'isthissemsterdone': 3700, 'becauseiam': 589, 'travelled': 7460, 'warriors': 7859, 'amazed': 191, 'perform': 5374, 'energy': 2309, 'uninstall': 7627, 'cuban': 1689, 'desperate': 1911, 'libbies': 4142, 'swearing': 7082, 'syd': 7104, 'idgaf': 3512, 'liking': 4173, 'vine': 7760, 'passed': 5293, 'revenue': 6045, 'pesticides': 5398, 'poison': 5536, 'tampons': 7145, 'wht': 7964, 'ovarian': 5200, 'tjoo': 7362, 'ntwe': 5029, 'ae': 87, 'bose': 821, 'lena': 4116, 'papago': 5260, 'mashabela': 4467, 'indian': 3580, 'joint': 3813, 'kashmir': 3884, 'apprecia': 291, 'larwd': 4044, 'bobrisky': 772, 'commentators': 1438, 'prosecco': 5703, 'comme': 1435, 'disappeared': 1975, 'premiere': 5627, 'nights': 4960, 'mersal': 4562, 'shape': 6425, 'plant': 5489, 'jeffrey': 3763, 'toobin': 7398, 'hysterical': 3487, 'payed': 5329, 'thug': 7314, 'rimmed': 6080, 'alm': 179, 'generous': 2884, 'lousy': 4297, 'ole': 5103, 'progressives': 5691, 'gross': 3078, 'astrology': 385, 'faaark': 2471, 'shouldve': 6498, 'daaaaaaays': 1729, 'meathead': 4513, 'stability': 6837, 'causing': 1145, 'wake': 7825, 'cuando': 1688, 'que': 5786, 'queda': 5787, 'nct': 4871, 'empathy': 2292, 'multi': 4782, 'issa': 3694, 'outttt': 5197, 'kean': 3900, 'coyle': 1603, 'rovers': 6148, 'microwave': 4597, 'burnt': 1001, 'lasted': 4046, 'delete': 1855, 'feminists': 2589, 'facetattoos': 2477, 'jenna': 3765, 'bucks': 965, 'hmm': 3336, 'shy': 6514, 'clos': 1362, 'misprinted': 4648, 'konnor': 3989, 'modernfun': 4684, 'timbs': 7337, 'jinbei': 3791, 'drawing': 2108, 'bounce': 835, 'carbuncle': 1092, 'meanti': 4508, 'claudia': 1343, 'goodnight': 3002, 'ofc': 5069, 'ios': 3670, 'delayed': 1854, 'cash': 1123, 'audience': 408, 'fitted': 2652, 'remate': 5948, 'flunkies': 2682, 'retirement': 6027, 'hd': 3234, 'associate': 380, 'tonite': 7393, 'xfinity': 8104, 'gifted': 2923, 'cable': 1024, 'internet': 3647, 'outage': 5182, 'sergio': 6375, 'ramos': 5829, 'cope': 1545, 'amy': 211, 'begining': 601, 'fashions': 2533, 'cave': 1147, 'rhoa': 6054, 'prez': 5649, 'refill': 5914, 'assaulting': 371, 'nakka': 4833, 'arriving': 334, 'meses': 4564, 'era': 2353, 'lunes': 4340, 'negritud': 4891, 'maravillosa': 4433, 'sheeran': 6443, 'mural': 4788, 'dunedin': 2166, 'reveal': 6041, 'classes': 1337, 'graduate': 3035, 'stoning': 6925, 'manically': 4421, 'breathe': 888, 'kit': 3956, 'blowout': 753, 'surpise': 7062, 'momlife': 4691, 'parentlife': 5273, 'jd': 3756, 'agent': 108, 'uput': 7663, 'roach': 6104, 'rightdown': 6077, 'throat': 7307, 'exxacctlyy': 2458, 'humming': 3453, 'proper': 5702, 'hyungwon': 3491, 'kihyun': 3934, 'changkyun': 1200, 'hw': 3477, 'kh': 3919, 'nerd': 4897, 'status': 6878, 'dating': 1773, 'adult': 69, 'hbdprabhudheva': 3231, 'prabhudheva': 5606, 'pddancing': 5338, 'jaritza': 3741, 'demands': 1873, 'buildthewall': 981, 'doo': 2063, 'garden': 2851, 'sneaking': 6659, 'hype': 3481, 'disgraced': 1986, 'rescheduled': 5993, 'immortals': 3554, 'tellinggggggg': 7213, 'tm': 7365, 'dhulan': 1936, 'bn': 760, 'itni': 3706, 'koji': 3984, 'lago': 4030, 'gi': 2916, 'spontaneous': 6801, 'piercing': 5446, 'vie': 7750, 'mentally': 4550, 'physically': 5432, 'comeback': 1424, 'yaaaa': 8116, 'cinth': 1315, 'recipe': 5891, 'elderflower': 2252, 'sparkling': 6754, 'maniya': 4424, 'ceec': 1155, 'toys': 7425, 'pooparoos': 5553, 'nothankyou': 5009, 'miraculous': 4641, 'bolton': 784, 'jeremy': 3768, 'nycc': 5049, 'accepted': 20, 'perry': 5384, 'outreach': 5192, 'program': 5689, 'gettin': 2903, 'plantbased': 5490, 'cheeses': 1242, 'market': 4449, 'larger': 4042, 'vegan': 7714, 'baseballiscoming': 538, 'gameofthrones': 2841, 'parking': 5280, 'blackness': 714, 'gmims': 2966, 'dontforgetthedollarsign': 2060, 'optimistic': 5152, 'limited': 4177, 'releases': 5939, 'ol': 5097, 'mates': 4477, 'underground': 7604, 'spaceghostpurrp': 6743, 'responsible': 6016, 'hip': 3326, 'hop': 3394, 'tatted': 7160, 'stroking': 6963, 'busting': 1007, 'nutt': 5043, 'sang': 6229, 'jams': 3730, 'selca': 6343, 'cellent': 1163, 'pups': 5750, 'thoooo': 7297, 'lemans': 4113, 'deflect': 1847, 'raggedy': 5816, 'tip': 7348, 'profile': 5687, 'logo': 4254, 'identifiable': 3508, 'cathyandcourtneyshim': 1138, 'splash': 6789, 'hometovote': 3371, 'coincides': 1393, 'repeal': 5969, 'evicted': 2400, 'rolodex': 6125, 'november': 5017, 'dayday': 1787, 'eastbound': 2195, 'traffic': 7438, 'attached': 395, 'congrants': 1491, 'laughed': 4056, 'brothers': 933, 'sisters': 6569, 'booksales': 804, 'writerslife': 8087, 'crown': 1666, 'prince': 5655, 'israelis': 3692, 'girlfriend': 2935, 'madddddddd': 4359, 'thebeach': 7250, 'applications': 288, 'closed': 1364, 'intellectual': 3637, 'excuseme': 2423, 'keepthat': 3907, 'align': 162, 'successful': 7005, 'simples': 6544, 'pigs': 5449, 'rd': 5855, 'lunatic': 4338, 'sakes': 6207, 'ganggggggg': 2844, 'overcast': 5203, 'dry': 2146, 'sight': 6527, 'shuffle': 6511, 'accordingly': 24, 'compelling': 1456, 'ape': 272, 'carnivorous': 1105, 'touching': 7414, 'monolith': 4710, 'clearl': 1348, 'diagnosis': 1938, 'porto': 5570, 'belenenses': 611, 'luz': 4347, 'rumoaopenta': 6169, 'abenfica': 8, 'prob': 5671, 'development': 1929, 'pogo': 5533, 'alert': 153, 'colors': 1411, 'flying': 2686, 'inconvenient': 3575, 'slapping': 6601, 'peep': 5351, 'traits': 7446, 'mph': 4756, 'tricks': 7479, 'wonderin': 8031, 'saving': 6252, 'rough': 6145, 'modern': 4683, 'methods': 4576, 'islam': 3686, 'arabic': 307, 'lessons': 4123, 'usual': 7682, 'scum': 6304, 'dominglunes': 2049, 'napa': 4844, 'prepping': 5631, 'nationalbeerday': 4854, 'tippy': 7350, 'corporate': 1557, 'smelling': 6636, 'scares': 6269, 'bullpen': 986, 'bops': 815, 'bcoz': 567, 'jazba': 3754, 'sarbjit': 6236, 'flop': 2677, 'votered': 7808, 'godblessamerica': 2976, 'justicerising': 3858, 'trumpsarmy': 7509, 'annaloves': 242, 'borehamsolid': 818, 'paulie': 5320, 'complaining': 1462, 'unicode': 7624, 'consortium': 1515, 'honored': 3382, 'libturds': 4151, 'tasha': 7153, 'pretend': 5643, 'clickin': 1353, 'stories': 6935, 'uhh': 7585, 'ctfu': 1686, 'anonymous': 251, 'shadow': 6411, 'cussing': 1713, 'muthafuckin': 4805, 'ariesgang': 320, 'headed': 3239, 'golfer': 2991, 'priceless': 5651, 'smoking': 6645, 'ps': 5722, 'mini': 4635, 'nightmare': 4959, 'ummmm': 7594, 'clothing': 1369, 'harder': 3190, 'flawless': 2665, 'carrying': 1112, 'nancy': 4841, 'spector': 6764, 'jinhwan': 3792, 'yunhyeong': 8217, 'hanbin': 3147, 'donghyuk': 2055, 'junhoe': 3853, 'switch': 7097, 'switched': 7098, 'netset': 4909, 'xplornet': 8111, 'tail': 7118, 'hurley': 3466, 'crisisactors': 1653, 'deceiving': 1820, 'prosecute': 5704, 'remove': 5958, 'jin': 3790, 'foodie': 2707, 'legs': 4109, 'bunting': 997, 'leaguer': 4085, 'scab': 6263, 'psst': 5726, 'walls': 7835, 'mercy': 4557, 'hospital': 3408, 'joplin': 3821, 'sara': 6233, 'superb': 7036, 'lazy': 4077, 'nowplaying': 5020, 'mxm': 4809, 'hai': 3133, 'directly': 1969, 'impeach': 3557, 'spanky': 6752, 'fartfetish': 2528, 'eproctophilia': 2347, 'farts': 2530, 'blogging': 741, 'wildly': 7981, 'rails': 5820, 'alluayaan': 177, 'stylish': 6989, 'icon': 3503, 'adorable': 66, 'currently': 1706, 'shoutout': 6500, 'kayla': 3896, 'owens': 5211, 'bruinfamily': 943, 'affidavits': 93, 'letter': 4130, 'madonsela': 4367, 'rooi': 6134, 'groove': 3077, 'adventuretime': 78, 'distract': 2001, 'baking': 494, 'kidi': 3931, 'viva': 7782, 'kidixvivaband': 3932, 'akwaabauk': 140, 'vgma': 7733, 'stoked': 6921, 'boarder': 767, 'permanently': 5381, 'coolest': 1543, 'kpop': 3998, 'meaningful': 4505, 'engineering': 2312, 'correction': 1559, 'chipotle': 1272, 'mexican': 4579, 'nigger': 4956, 'uppercuts': 7659, 'hooks': 3390, 'seconds': 6327, 'plugs': 5513, 'wana': 7839, 'stopper': 6931, 'undoubtedly': 7614, 'helpful': 3284, 'analyzing': 217, 'tally': 7141, 'charts': 1222, 'apply': 289, 'revealing': 6043, 'promisesaudi': 5696, 'findings': 2633, 'employers': 2294, 'rio': 6087, 'san': 6222, 'pikachu': 5451, 'happily': 3172, 'solution': 6683, 'hov': 3426, 'tbf': 7171, 'suggestions': 7021, 'removals': 5957, 'eeeeeeekkkkk': 2228, 'namjin': 4839, 'scolding': 6281, 'hyungs': 3490, 'exposes': 2449, 'stray': 6947, 'deadline': 1802, 'straykids': 6948, 'extremely': 2457, 'challenges': 1187, 'achieve': 33, 'harianque': 3195, 'looters': 4275, 'wont': 8034, 'personal': 5389, 'names': 4836, 'political': 5546, 'parties': 5287, 'pdp': 5339, 'apga': 273, 'lp': 4320, 'sdp': 6308, 'yessss': 8167, 'omgg': 5111, 'preaching': 5619, 'sins': 6562, 'eww': 2407, 'dez': 1932, 'passer': 5294, 'sim': 6540, 'roo': 6132, 'improved': 3566, 'training': 7444, 'def': 1836, 'speed': 6766, 'dorms': 2076, 'apartments': 271, 'puked': 5739, 'smh': 6639, 'boing': 780, 'application': 287, 'chop': 1285, 'suey': 7016, 'humor': 3454, 'session': 6385, 'aka': 139, 'laurel': 4066, 'hardy': 3193, 'reminding': 5953, 'noises': 4977, 'commotion': 1446, 'overstimulation': 5207, 'riddance': 6070, 'passive': 5297, 'aggressive': 110, 'araxie': 308, 'skyrim': 6595, 'wazzaaappp': 7889, 'joinme': 3811, 'longs': 4263, 'archivist': 310, 'researcher': 5996, 'mary': 4464, 'ann': 239, 'softcap': 6678, 'hesitate': 3297, 'token': 7380, 'sale': 6211, 'leslie': 4121, 'glupppp': 2964, 'welp': 7925, 'omn': 5116, 'fu': 2790, 'kedup': 3901, 'sob': 6670, 'sexton': 6400, 'penis': 5362, 'advertisement': 82, 'semen': 6353, 'fing': 2638, 'shawt': 6437, 'stupidest': 6985, 'rockin': 6114, 'lookin': 4268, 'sith': 6573, 'ofhejdjwksvd': 5084, 'copensen': 1546, 'caba': 1022, 'mena': 4544, 'patriotism': 5314, 'greenville': 3061, 'depot': 1894, 'definition': 1846, 'voa': 7787, 'dou': 2077, 'blake': 719, 'voiceblinds': 7792, 'endless': 2304, 'cz': 1727, 'braves': 876, 'examine': 2413, 'duets': 2156, 'tosh': 7409, 'ironing': 3678, 'yell': 8155, 'balling': 502, 'grain': 3037, 'salt': 6216, 'establ': 2372, 'thrilled': 7306, 'include': 3570, 'sneak': 6658, 'peak': 5344, 'annual': 249, 'nominees': 4982, 'cillizza': 1311, 'proudly': 5710, 'teamricoswavey': 7192, 'teamrico': 7191, 'leicester': 4111, 'tigers': 7330, 'creative': 1632, 'layout': 4074, 'spnfamily': 6792, 'noregretsep': 4994, 'madetobe': 4363, 'sonia': 6694, 'jk': 3796, 'uhmmm': 7587, 'sarah': 6234, 'robot': 6109, 'spouts': 6811, 'tubes': 7526, 'sadly': 6199, 'cringy': 1651, 'namjoon': 4840, 'cheeky': 1238, 'sorted': 6718, 'newmusic': 4923, 'bargainprice': 531, 'birthdaaay': 692, 'ruth': 6182, 'lowered': 4314, 'chapel': 1205, 'range': 5834, 'khloe': 3923, 'rican': 6063, 'provocations': 5718, 'propagandas': 5701, 'bbc': 561, 'lifeisgood': 4159, 'industry': 3593, 'hoopin': 3391, 'livi': 4213, 'stable': 6838, 'shitfest': 6468, 'hacks': 3124, 'atm': 393, 'autocorrect': 417, 'slowly': 6624, 'patriot': 5312, 'snaps': 6654, 'dabs': 1732, 'bars': 534, 'booking': 802, 'ty': 7567, 'equality': 2348, 'doris': 2074, 'background': 473, 'gabriella': 2823, 'understood': 7610, 'folk': 2697, 'proof': 5699, 'dumps': 2164, 'conae': 1472, 'signature': 6530, 'nostalgia': 5004, 'ruthless': 6183, 'mango': 4418, 'burthday': 1002, 'emojis': 2288, 'carlo': 1103, 'heather': 3259, 'shortie': 6493, 'twat': 7546, 'oshi': 5176, 'monster': 4713, 'leeds': 4096, 'stag': 6842, 'newcastle': 4915, 'lotta': 4290, 'unfinished': 7617, 'bizz': 711, 'morpinoybiga': 4728, 'tala': 7127, 'maris': 4445, 'racal': 5804, 'preseason': 5632, 'mixtape': 4666, 'drooping': 2134, 'afc': 89, 'hungover': 3459, 'heading': 3242, 'belive': 616, 'loris': 4279, 'karius': 3881, 'hentai': 3290, 'believes': 614, 'problems': 5674, 'vibrant': 7736, 'yellow': 8158, 'bag': 486, 'forgetting': 2727, 'wdyt': 7893, 'las': 4045, 'eastern': 2200, 'ave': 422, 'thelionguard': 7262, 'bennett': 628, 'earn': 2186, 'table': 7112, 'chart': 1220, 'adventure': 76, 'doe': 2029, 'downhill': 2089, 'rumours': 6171, 'ashby': 354, 'crossed': 1662, 'gurl': 3112, 'pour': 5595, 'kon': 3987, 'jis': 3795, 'bnday': 762, 'aany': 2, 'sy': 7103, 'yahn': 8123, 'bandy': 511, 'shift': 6452, 'ho': 3341, 'rhy': 6057, 'current': 1705, 'household': 3423, 'thesims': 7278, 'arseholes': 338, 'trophies': 7495, 'ricky': 6067, 'spams': 6749, 'invited': 3666, 'skip': 6588, 'taurus': 7165, 'cures': 1703, 'aj': 136, 'striptease': 6962, 'buildthedamnwall': 980, 'buildthatwall': 979, 'cou': 1572, 'raci': 5806, 'rivals': 6092, 'trophy': 7496, 'seat': 6319, 'rts': 6154, 'getaway': 2901, 'wena': 7927, 'yir': 8173, 'patter': 5315, 'interviewing': 3654, 'misogynistic': 4647, 'hims': 3322, 'lows': 4318, 'retrogaming': 6031, 'pcengine': 5335, 'retrogamelovers': 6030, 'monnnnnthhhhhh': 4709, 'pots': 5592, 'fanfics': 2514, 'peice': 5354, 'throwback': 7309, 'fifa': 2606, 'ref': 5910, 'swank': 7079, 'fetch': 2596, 'foul': 2745, 'damaging': 1750, 'hailey': 3135, 'baldwin': 498, 'surrounded': 7065, 'trainer': 7443, 'weight': 7917, 'hairline': 3137, 'rare': 5842, 'costumes': 1571, 'farmville': 2524, 'untryescape': 7646, 'sundaymorning': 7029, 'alicia': 159, 'dean': 1807, 'hester': 3298, 'elhs': 2263, 'demented': 1874, 'egomaniac': 2236, 'conscience': 1504, 'elway': 2272, 'eli': 2264, 'simply': 6547, 'clicking': 1354, 'purpose': 5760, 'library': 4147, 'reinforce': 5925, 'obj': 5057, 'jogging': 3801, 'squeeze': 6827, 'tall': 7138, 'trips': 7487, 'punches': 5745, 'shaved': 6435, 'tools': 7400, 'yasssss': 8134, 'congressman': 1498, 'funded': 2804, 'schatz': 6275, 'camgirls': 1056, 'signup': 6533, 'coward': 1599, 'unlike': 7638, 'cg': 1176, 'nicaii': 4933, 'hadluka': 3125, 'pa': 5221, 'imi': 3548, 'kaugalingon': 3892, 'netflix': 4908, 'turds': 7535, 'hahah': 3127, 'knobs': 3973, 'creativebizhour': 1633, 'comics': 1431, 'leigha': 4112, 'imma': 3549, 'ish': 3684, 'niners': 4965, 'riverdale': 6094, 'confirmed': 1488, 'bughead': 974, 'varchie': 7710, 'choni': 1282, 'falice': 2502, 'soup': 6730, 'linkinpark': 4184, 'makechesterproud': 4391, 'trio': 7483, 'caption': 1087, 'graveyard': 3052, 'istandwithlaura': 3699, 'coached': 1383, 'handlers': 3152, 'oklahoma': 5095, 'writes': 8088, 'ohmygod': 5090, 'nonsense': 4986, 'wasting': 7870, 'badboy': 481, 'theperfectredvelvet': 7271, 'wombat': 8026, 'terry': 7224, 'mills': 4620, 'drills': 2125, 'boat': 768, 'omggg': 5112, 'admitted': 63, 'shitting': 6473, 'avoid': 428, 'pusb': 5761, 'skyblues': 6592, 'insta': 3627, 'lucas': 4327, 'jungwoo': 3852, 'capt': 1084, 'trans': 7447, 'pretended': 5644, 'hehe': 3268, 'imaginary': 3542, 'answered': 255, 'signalling': 6529, 'liberalismisame': 4144, 'whyte': 7966, 'eats': 2209, 'josh': 3827, 'struggle': 6968, 'perfectly': 5373, 'farrrr': 2526, 'mackenzie': 4357, 'divorce': 2009, 'papers': 5262, 'return': 6033, 'katia': 3890, 'temkin': 7216, 'incredible': 3576, 'capitalizing': 1081, 'btc': 955, 'volatility': 7797, 'fee': 2567, 'kcs': 3897, 'knc': 3967, 'nada': 4824, 'niet': 4950, 'unh': 7620, 'layed': 4072, 'anastasia': 218, 'notice': 5010, 'payback': 5327, 'gettn': 2905, 'prune': 5720, 'drank': 2106, 'nastyashell': 4849, 'uhoh': 7588, 'willbepoopingwithinthenexthourorso': 7983, 'ugh': 7581, 'enderguy': 2302, 'pak': 5245, 'pakistanzindabad': 5247, 'soundtracks': 6729, 'hickey': 3305, 'bandit': 508, 'hickies': 3306, 'hopeful': 3396, 'humanity': 3450, 'produced': 5681, 'anchored': 221, 'forecast': 2722, 'kaia': 3868, 'suddenly': 7012, 'smartcity': 6631, 'starehe': 6860, 'dodged': 2025, 'bullet': 984, 'jeopardy': 3766, 'category': 1136, 'daughters': 1775, 'savior': 6254, 'billy': 683, 'hendrix': 3287, 'skool': 6589, 'oyster': 5219, 'clicked': 1352, 'piggeries': 5448, 'phasey': 5412, 'fertiliser': 2592, 'zaddy': 8224, 'todayyy': 7372, 'quavo': 5785, 'mixup': 4668, 'email': 2274, 'blast': 721, 'remainer': 5945, 'doom': 2068, 'gloom': 2960, 'britain': 913, 'jays': 3753, 'chicago': 1253, 'sox': 6736, 'toronto': 7407, 'farm': 2522, 'emmbarradment': 2285, 'worthless': 8072, 'hater': 3211, 'grades': 3034, 'gpa': 3028, 'overboard': 5202, 'virginia': 7771, 'philly': 5419, 'lhhatl': 4137, 'yasmine': 8132, 'hobgoblin': 3342, 'hollyoaks': 3363, 'brb': 879, 'practicing': 5610, 'debut': 1816, 'ac': 16, 'trudeau': 7501, 'nuff': 5031, 'chilllllll': 1268, 'teamaries': 7184, 'simplythebest': 6548, 'bdaysoon': 571, 'goi': 2982, 'waterfalls': 7879, 'wirsinddiemillers': 8007, 'ironically': 3677, 'cops': 1549, 'standing': 6852, 'checkout': 1235, 'ebt': 2211, 'cart': 1114, 'duffle': 2157, 'gokingsgo': 2985, 'findom': 2634, 'tribute': 7478, 'polite': 5545, 'chat': 1225, 'pardon': 5269, 'normaal': 4995, 'chores': 1289, 'vinny': 7762, 'sopranos': 6713, 'soapie': 6669, 'nigerians': 4951, 'dms': 2018, 'opened': 5141, 'fresno': 2771, 'supercoach': 7038, 'teaml': 7188, 'skyline': 6594, 'designs': 1909, 'missworldbahamas': 4656, 'opinions': 5146, 'cringe': 1650, 'onesie': 5122, 'geocaching': 2891, 'trail': 7439, 'ryan': 6185, 'banter': 519, 'acid': 34, 'dropped': 2136, 'canceled': 1066, 'subscriptions': 6999, 'guetta': 3103, 'senior': 6362, 'analyst': 215, 'grats': 3050, 'cruise': 1671, 'runaway': 6173, 'procrastinating': 5678, 'gta': 3090, 'clone': 1361, 'capability': 1077, 'peacock': 5343, 'courtship': 1592, 'sites': 6572, 'jessica': 3776, 'nickel': 4941, 'espn': 2367, 'reporting': 5983, 'greasing': 3054, 'poles': 5540, 'villanova': 7758, 'jfc': 3782, 'booing': 799, 'rawthursday': 5853, 'taray': 7151, 'ni': 4931, 'tatay': 7158, 'mainefortaraynitatay': 4384, 'mhmmm': 4583, 'meme': 4537, 'lunges': 4341, 'squats': 6826, 'core': 1553, 'arthur': 345, 'harim': 3196, 'fighters': 2608, 'stocking': 6916, 'polished': 5543, 'tp': 7426, 'indis': 3588, 'gageway': 2827, 'itsdolf': 3707, 'wapo': 7848, 'equals': 2350, 'cuddles': 1691, 'freddy': 2762, 'bizimhikaye': 710, 'barfi': 529, 'filiz': 2619, 'baris': 532, 'hulya': 3448, 'television': 7210, 'recruiters': 5900, 'moyy': 4752, 'dowh': 2088, 'qin': 5778, 'rainbow': 5822, 'groups': 3081, 'iptv': 3671, 'roku': 6120, 'gtlive': 3094, 'hall': 3142, 'fame': 2508, 'qb': 5777, 'danny': 1764, 'australia': 413, 'colourful': 1415, 'metaphor': 4573, 'aside': 356, 'tees': 7206, 'furiously': 2813, 'washing': 7865, 'kits': 3959, 'mancity': 4415, 'upset': 7661, 'spokespersons': 6798, 'hoodies': 3386, 'sweat': 7083, 'helmet': 3281, 'minecraftpe': 4630, 'obvi': 5063, 'bevin': 650, 'campaigning': 1059, 'vit': 7780, 'casey': 1122, 'uw': 7692, 'seattle': 6321, 'bestseatsentry': 641, 'rylie': 6187, 'jolly': 3817, 'puss': 5766, 'shiplett': 6460, 'breather': 889, 'feelin': 2572, 'mushed': 4796, 'mo': 4676, 'metropolitan': 4577, 'ordinary': 5161, 'nature': 4861, 'quickly': 5792, 'approaching': 295, 'weed': 7910, 'mixer': 4665, 'shittttt': 6474, 'stacey': 6839, 'rhocheshire': 6055, 'maxcoin': 4488, 'overtakes': 5208, 'eth': 2381, 'nicomaine': 4946, 'carsy': 1113, 'brrrrr': 938, 'mondayhibernation': 4701, 'septic': 6373, 'pumper': 5743, 'ooty': 5139, 'tooty': 7404, 'crazies': 1623, 'thewalkingdead': 7280, 'twd': 7549, 'miranda': 4642, 'subpoena': 6993, 'income': 3573, 'hel': 3272, 'ashley': 355, 'eu': 2383, 'penny': 5363, 'auction': 406, 'save': 6249, 'escentuals': 2365, 'minerals': 4631, 'tasking': 7154, 'concealer': 1473, 'spf': 6774, 'bisque': 701, 'tan': 7146, 'yesss': 8166, 'answering': 256, 'nz': 5051, 'emptiness': 2296, 'gunnah': 3110, 'bacho': 472, 'purchases': 5755, 'eks': 2247, 'csgogiveaway': 1681, 'poseidon': 5573, 'donation': 2053, 'lowest': 4315, 'aya': 452, 'mumbai': 4786, 'indians': 3581, 'mick': 4594, 'werey': 7930, 'swampman': 7078, 'brings': 911, 'listers': 4196, 'diving': 2007, 'headfirst': 3241, 'girlboss': 2934, 'judging': 3840, 'practically': 5608, 'invulnerable': 3668, 'dong': 2054, 'dfsarmy': 1933, 'donuts': 2062, 'sheetdong': 6445, 'lauren': 4067, 'neta': 4907, 'bart': 535, 'toy': 7423, 'threw': 7305, 'kirby': 3951, 'allies': 172, 'alive': 165, 'outrageous': 5191, 'canberra': 1064, 'rw': 6184, 'dredge': 2117, 'ancient': 222, 'coxx': 1602, 'score': 6283, 'hypocrites': 3486, 'wereback': 7929, 'marilyn': 4439, 'protest': 5707, 'grind': 3073, 'ke': 3899, 'kopa': 3991, 'di': 1937, 'tlhemma': 7364, 'hela': 3273, 'tatiana': 7159, 'cracks': 1612, 'needless': 4886, 'bragga': 865, 'inktopsecret': 3610, 'revord': 6048, 'realise': 5871, 'bestiesforlife': 639, 'subscribes': 6998, 'pubfun': 5733, 'killer': 3938, 'woooooooow': 8042, 'roman': 6127, 'reloaded': 5942, 'arsofpfrr': 341, 'siwon': 6576, 'heechul': 3264, 'hyukjae': 3488, 'sickest': 6519, 'justify': 3859, 'distraction': 2003, 'hehehe': 3269, 'uve': 7691, 'unhinged': 7622, 'luxxball': 4346, 'globe': 2959, 'theatre': 7249, 'selling': 6351, 'easier': 2191, 'str': 6940, 'punch': 5744, 'logged': 4253, 'mozilla': 4753, 'eland': 2249, 'vegetables': 7716, 'panera': 5255, 'tequila': 7218, 'fiend': 2604, 'deylon': 1931, 'drugged': 2142, 'scarborough': 6266, 'kuch': 4008, 'mausi': 4486, 'apne': 274, 'judgment': 3841, 'bta': 954, 'kr': 3999, 'degi': 1848, 'sample': 6220, 'spark': 6753, 'frames': 2752, 'known': 3979, 'yrs': 8209, 'merit': 4560, 'swat': 7080, 'christians': 1297, 'yaw': 8136, 'needa': 4883, 'burb': 998, 'biiiiiiih': 675, 'hollered': 3360, 'allways': 178, 'onlyfans': 5126, 'ytpbr': 8212, 'jornal': 3825, 'boa': 764, 'noite': 4978, 'happer': 3169, 'turkey': 7536, 'merhaba': 4559, 'bett': 645, 'il': 3529, 'libs': 4149, 'combat': 1421, 'vetsagainsttrump': 7731, 'vetsresistsquadron': 7732, 'bluewave': 756, 'accounta': 26, 'animal': 234, 'crossing': 1663, 'eugene': 2384, 'ncu': 4872, 'jordanyear': 3824, 'mysisisflyerthanyours': 4814, 'knapp': 3966, 'goofy': 3005, 'heartbreak': 3255, 'sickkkkkkk': 6521, 'soloist': 6682, 'hwangchiyeol': 3478, 'bemyself': 624, 'ajatt': 137, 'handful': 3150, 'grab': 3030, 'uneducated': 7615, 'nomad': 4979, 'iflyalot': 3518, 'von': 7803, 'dl': 2016, 'pence': 5358, 'marine': 4440, 'disses': 2000, 'gregorysalcido': 3066, 'deadites': 1801, 'decade': 1817, 'classmates': 1340, 'submit': 6991, 'goodmorningggg': 3001, 'cinestar': 1313, 'lions': 4186, 'males': 4401, 'whileeeee': 7949, 'cousins': 1594, 'battle': 555, 'surpassing': 7061, 'sweeter': 7089, 'nail': 4828, 'broadcaster': 917, 'alt': 183, 'reporters': 5982, 'tapes': 7150, 'dvds': 2179, 'dws': 2180, 'cutest': 1720, 'tight': 7331, 'whatsapp': 7942, 'poems': 5531, 'centre': 1170, 'concept': 1474, 'edits': 2225, 'beautifull': 586, 'greatamericancookies': 3056, 'gacnorth': 2824, 'quiestion': 5793, 'beefin': 594, 'havent': 3220, 'idiots': 3514, 'festivities': 2595, 'bandana': 507, 'eastersunday': 2202, 'pasqua': 5291, 'ewwww': 2408, 'eno': 2322, 'river': 6093, 'slimeball': 6617, 'wimpass': 7986, 'acostacrap': 36, 'earned': 2187, 'craptastic': 1617, 'livestream': 4212, 'jozi': 3832, 'bree': 892, 'taxi': 7167, 'rank': 5835, 'gig': 2924, 'ntwana': 5028, 'usb': 7671, 'nje': 4973, 'physical': 5431, 'benning': 629, 'recognize': 5894, 'timing': 7342, 'sabs': 6192, 'regardless': 5916, 'hurting': 3471, 'potw': 5593, 'nbalivemobile': 4870, 'fiesta': 2605, 'actively': 43, 'babyy': 471, 'shawn': 6436, 'mendes': 4545, 'lockscreen': 4247, 'screenshot': 6297, 'bibika': 659, 'beatiful': 581, 'airplane': 133, 'budget': 969, 'ghee': 2910, 'hustle': 3476, 'rename': 5962, 'deplorables': 1890, 'bots': 829, 'garbling': 2850, 'effect': 2229, 'evoke': 2403, 'nationaldefenseactof': 4856, 'birthay': 690, 'park': 5278, 'thedifference': 7251, 'ruin': 6162, 'credit': 1639, 'enty': 2337, 'ayyeeyeee': 456, 'horns': 3403, 'bloody': 744, 'segment': 6342, 'setting': 6388, 'timer': 7340, 'battleofmoet': 556, 'raise': 5824, 'cee': 1154, 'nominated': 4980, 'persons': 5394, 'sees': 6340, 'hatred': 3215, 'stunt': 6983, 'gram': 3039, 'sho': 6477, 'divya': 2011, 'spandana': 6750, 'frequently': 2768, 'handles': 3153, 'speaks': 6757, 'spinning': 6783, 'snowflakes': 6667, 'inspired': 3625, 'destination': 1918, 'cutestmodels': 1721, 'documents': 2024, 'enoughisenough': 2323, 'nibbles': 4932, 'stu': 6971, 'barely': 528, 'selfie': 6347, 'emehahahaha': 2281, 'hrs': 3430, 'shet': 6450, 'ang': 228, 'tu': 7525, 'abeg': 6, 'firewood': 2646, 'nick': 4940, 'meeti': 4523, 'chittar': 1274, 'nawaz': 4866, 'sharif': 6430, 'giveaways': 2944, 'tact': 7114, 'whatsoever': 7943, 'calvin': 1050, 'tracy': 7433, 'reynolds': 6052, 'halftime': 3141, 'jax': 3748, 'lilli': 4175, 'milo': 4621, 'positively': 5577, 'diy': 2012, 'sos': 6719, 'telly': 7215, 'funnyjoke': 2812, 'hoy': 3427, 'el': 2248, 'cumplea': 1698, 'os': 5173, 'spain': 6746, 'hol': 3350, 'othercall': 5178, 'italians': 3703, 'lifedoneright': 4158, 'dp': 2093, 'togeth': 7375, 'hog': 3347, 'happppy': 3175, 'sooon': 6705, 'thief': 7283, 'lasting': 4047, 'declaring': 1829, 'affection': 91, 'donkey': 2056, 'kong': 3988, 'housemate': 3424, 'gaf': 2825, 'george': 2894, 'glass': 2955, 'kama': 3871, 'elders': 2253, 'ssdiski': 6834, 'shooting': 6485, 'suspect': 7071, 'deshalb': 1906, 'peter': 5403, 'judith': 3842, 'henke': 3288, 'introduced': 3658, 'trained': 7442, 'elephants': 2258, 'melbourne': 4529, 'zoo': 8238, 'gremlins': 3067, 'convo': 1537, 'washes': 7864, 'dir': 1965, 'laws': 4070, 'individuals': 3590, 'hardly': 3191, 'wewait': 7936, 'boybandph': 850, 'commissions': 1443, 'commission': 1442, 'slots': 6622, 'suicide': 7022, 'option': 5153, 'oneofourawardees': 5120, 'juniorhighschoolrecognition': 3854, 'criticism': 1655, 'eith': 2245, 'healthwise': 3248, 'gary': 2853, 'listeningto': 4195, 'adele': 58, 'nehru': 4892, 'arse': 336, 'wahala': 7820, 'kanu': 3874, 'nwankwo': 5045, 'aso': 367, 'gbc': 2867, 'bits': 709, 'coin': 1392, 'ico': 3502, 'extended': 2453, 'aprill': 303, 'hurrayy': 3468, 'salam': 6209, 'wbt': 7890, 'cnbc': 1380, 'sophisticated': 6711, 'gem': 2876, 'theperfectgift': 7270, 'mrpoopy': 4760, 'sayhi': 6258, 'loveit': 4302, 'hmmmmm': 3338, 'pressie': 5640, 'geochevel': 2892, 'thefoxx': 7255, 'yungnikka': 8216, 'studios': 6979, 'shanatic': 6424, 'sashalicious': 6238, 'yt': 8211, 'celebrateallsuccesses': 1157, 'mayor': 4491, 'grateful': 3049, 'greg': 3064, 'almonte': 180, 'naquin': 4845, 'offensively': 5073, 'wash': 7862, 'scrape': 6289, 'shoes': 6481, 'twitters': 7565, 'champ': 1188, 'jones': 3820, 'liza': 4215, 'vidcon': 7745, 'jawn': 3746, 'diggg': 1957, 'launched': 4061, 'consumer': 1520, 'talkinapp': 7135, 'enables': 2298, 'creators': 1635, 'videochat': 7747, 'dur': 2173, 'morgan': 4723, 'kojo': 3985, 'antwi': 261, 'tam': 7142, 'professors': 5686, 'assignment': 378, 'jay': 3749, 'appliances': 286, 'charge': 1211, 'trespassing': 7474, 'directioners': 1968, 'onedirectionbestfans': 5119, 'crowning': 1667, 'happybirthdayparkjungmin': 3180, 'happyjungminday': 3185, 'happybirthdayjungmin': 3179, 'gorges': 3015, 'falk': 2503, 'toni': 7391, 'syfm': 7106, 'thanx': 7245, 'fia': 2600, 'ooooo': 5136, 'musical': 4798, 'puck': 5737, 'drops': 2138, 'lobe': 4240, 'mistress': 4661, 'estelle': 2375, 'spoil': 6793, 'rul': 6164, 'worl': 8056, 'fbr': 2553, 'theme': 7264, 'ep': 2343, 'mentioned': 4552, 'ill': 3531, 'provide': 5715, 'boost': 807, 'pensions': 5366, 'thirstorder': 7293, 'titan': 7356, 'filme': 2622, 'bestfriends': 636, 'iknoww': 3526, 'spooo': 6803, 'newgirl': 4919, 'tear': 7195, 'dung': 2167, 'typical': 7572, 'kittyloafmonday': 3963, 'catsoftwitter': 1142, 'catlife': 1139, 'oryx': 5172, 'coulson': 1577, 'weloveyou': 7924, 'screamers': 6293, 'lordy': 4277, 'penal': 5356, 'battalions': 553, 'instantaneous': 3631, 'lied': 4154, 'stations': 6876, 'script': 6300, 'alike': 164, 'watc': 7872, 'bands': 509, 'dramas': 2104, 'peristalsis': 5379, 'drains': 2100, 'yhe': 8169, 'bour': 838, 'bosvsmia': 825, 'joethecop': 3799, 'gotham': 3020, 'gcpd': 2869, 'gooood': 3009, 'spoiler': 6795, 'potluck': 5590, 'hs': 3431, 'homeboy': 3367, 'hips': 3327, 'newsongalert': 4925, 'hotshit': 3416, 'pocketss': 5526, 'shooters': 6484, 'mcgrady': 4500, 'mcdavid': 4498, 'shoots': 6486, 'scores': 6284, 'offended': 5071, 'paries': 5275, 'alliance': 170, 'zionist': 8233, 'israel': 3691, 'cor': 1551, 'lefties': 4098, 'globalists': 2958, 'oldandtired': 5099, 'erwin': 2361, 'levi': 4133, 'soulmates': 6725, 'irreplaceable': 3682, 'labone': 4022, 'hide': 3307, 'catapult': 1131, 'bitchass': 704, 'glory': 2961, 'trumpass': 7507, 'bootech': 810, 'sweaty': 7086, 'musky': 4800, 'stinky': 6912, 'pickups': 5439, 'saucy': 6245, 'rebel': 5881, 'prabhas': 5605, 'pedal': 5346, 'doyers': 2092, 'chanting': 1203, 'beatla': 583, 'dbacks': 1793, 'faithful': 2494, 'birthdayyyyy': 697, 'happybdaykapilsharma': 3177, 'classless': 1339, 'pardew': 5268, 'sacked': 6194, 'hmmm': 3337, 'feat': 2558, 'daim': 1744, 'repost': 5985, 'zoocci': 8239, 'coke': 1396, 'previews': 5648, 'splc': 6790, 'faceyourselftomorrow': 2479, 'hq': 3429, 'marktuan': 4452, 'eyesonmark': 2463, 'brains': 869, 'filed': 2617, 'bankruptcy': 518, 'appears': 284, 'rtc': 6153, 'roads': 6106, 'hyderabad': 3479, 'cr': 1605, 'sandwich': 6227, 'meara': 4509, 'mitchell': 4662, 'treloar': 7470, 'namjihyun': 4838, 'soompi': 6699, 'bandwagon': 510, 'pimp': 5456, 'goooooooooo': 3010, 'tucker': 7528, 'jesse': 3775, 'levin': 4134, 'ribe': 6061, 'parent': 5271, 'vijayakanth': 7756, 'ward': 7850, 'download': 2090, 'search': 6315, 'redeem': 5903, 'plzzzz': 5521, 'paramore': 5267, 'accounts': 28, 'lemmee': 4115, 'manofthematch': 4429, 'codarmy': 1387, 'reachout': 5860, 'togethe': 7376, 'declare': 1828, 'measuring': 4510, 'calipers': 1044, 'romcom': 6129, 'romance': 6128, 'bells': 619, 'paaaarty': 5222, 'virtuoso': 7774, 'luda': 4335, 'meeting': 4524, 'intro': 3657, 'respectthet': 6007, 'stucostrong': 6974, 'servers': 6381, 'revolution': 6047, 'bra': 861, 'photos': 5429, 'sunset': 7034, 'required': 5992, 'bnai': 761, 'unexpectedly': 7616, 'doug': 2085, 'ky': 4017, 'voicing': 7796, 'syste': 7109, 'karlmarx': 3882, 'aynrand': 455, 'ahhk': 121, 'corn': 1555, 'irrelevant': 3681, 'travels': 7461, 'marsacrossamerica': 4458, 'scentsy': 6274, 'sprays': 6812, 'contact': 1521, 'nephew': 4895, 'hyped': 3482, 'wrestlemaina': 8081, 'taker': 7123, 'uo': 7648, 'sur': 7057, 'celebrates': 1159, 'remodsouza': 5955, 'salmankhan': 6214, 'jacquelinefe': 3718, 'boycotted': 854, 'dj': 2013, 'outlets': 5187, 'sajjansinghrangroot': 6206, 'paji': 5244, 'rui': 6161, 'bubble': 962, 'beats': 584, 'seavey': 6322, 'filthy': 2625, 'liar': 4138, 'chest': 1248, 'fruit': 2786, 'ironsight': 3679, 'arcade': 309, 'marquee': 4455, 'alien': 160, 'predator': 5623, 'desiigner': 1910, 'perv': 5397, 'prevail': 5646, 'frogloons': 2782, 'jon': 3819, 'kimmon': 3942, 'kimmonwolfboyparty': 3943, 'tekapo': 7207, 'travelbugsworld': 7459, 'honda': 3374, 'melting': 4531, 'vod': 7789, 'sydney': 7105, 'tory': 7408, 'troll': 7490, 'envy': 2341, 'pressures': 5642, 'privateconsulting': 5664, 'coluzzi': 1418, 'driscoll': 2130, 'waunakee': 7880, 'yorkers': 8187, 'restaurant': 6018, 'feminazis': 2588, 'existed': 2428, 'mega': 4526, 'soulfestszn': 6723, 'taco': 7113, 'bell': 617, 'ew': 2406, 'randomly': 5832, 'wyd': 8100, 'wym': 8101, 'employees': 2293, 'paptingafool': 5263, 'colin': 1400, 'kaepernick': 3867, 'handled': 3151, 'shorty': 6494, 'demon': 1882, 'hormone': 3402, 'torch': 7406, 'fooking': 2709, 'ruby': 6157, 'heroes': 3293, 'ladybug': 4029, 'happin': 3173, 'alexirons': 157, 'alexironsrocks': 158, 'ryavjt': 6186, 'gjhtlbmn': 2949, 'bessyful': 633, 'nth': 5025, 'uniforms': 7626, 'wearepartofbangtan': 7898, 'surpassed': 7060, 'coupons': 1587, 'par': 5264, 'attacking': 398, 'solving': 6685, 'governing': 3024, 'chic': 1252, 'honesty': 3377, 'inconsistencies': 3574, 'gelo': 2875, 'african': 100, 'dads': 1738, 'living': 4214, 'cameron': 1055, 'edgar': 2221, 'wright': 8084, 'ninokuni': 4967, 'ehrenfelser': 2240, 'organic': 5163, 'winery': 7993, 'bottles': 832, 'phase': 5411, 'troops': 7494, 'showed': 6503, 'exact': 2410, 'caring': 1101, 'worlds': 8061, 'goldeneye': 2989, 'playthrough': 5504, 'fromboytoman': 2784, 'americanidol': 204, 'disrupted': 1996, 'brick': 900, 'mortar': 4731, 'bravo': 877, 'capitalism': 1079, 'treasure': 7463, 'valentine': 7699, 'poem': 5530, 'thinkin': 7290, 'swahili': 7076, 'goddess': 2977, 'warrior': 7858, 'princess': 5657, 'adventures': 77, 'gir': 2932, 'irresistible': 3683, 'louie': 4294, 'lazar': 4076, 'discuss': 1984, 'avenues': 424, 'whoa': 7958, 'worry': 8067, 'differences': 1954, 'psssssssst': 5725, 'albzzy': 146, 'selects': 6345, 'instalment': 3630, 'vlogs': 7785, 'showcasing': 6501, 'misaw': 4645, 'gallery': 2836, 'saturdays': 6242, 'famous': 2511, 'yelz': 8161, 'goober': 2996, 'yaaayyyyyyy': 8121, 'retweeted': 6037, 'announcement': 247, 'cartel': 1115, 'merchandise': 4555, 'murderer': 4790, 'zoos': 8240, 'steal': 6889, 'delivering': 1867, 'popeye': 5561, 'attempt': 399, 'sabi': 6190, 'plunger': 5516, 'plumbinggimmick': 5515, 'zuckface': 8243, 'fecesbook': 2564, 'coloured': 1414, 'law': 4068, 'aimed': 126, 'profiting': 5688, 'lands': 4037, 'given': 2945, 'feds': 2566, 'defeat': 1838, 'doooood': 2069, 'bond': 788, 'dangerous': 1759, 'discounted': 1981, 'failed': 2489, 'som': 6686, 'coaching': 1384, 'discord': 1979, 'drill': 2124, 'sausage': 6247, 'tricksters': 7480, 'elon': 2271, 'eyin': 2467, 'lofas': 4249, 'humour': 3455, 'devastating': 1928, 'dresses': 2120, 'eastermonday': 2199, 'dedicacation': 1830, 'versio': 7725, 'prefiero': 5626, 'taxify': 7168, 'dreaded': 2111, 'bearings': 576, 'rebuild': 5882, 'bmw': 759, 'throws': 7312, 'yee': 8149, 'haw': 3223, 'hattiesburg': 3217, 'wiggins': 7977, 'overnight': 5204, 'misspell': 4655, 'monkey': 4706, 'conner': 1502, 'boyfriends': 858, 'marcus': 4438, 'mariota': 4444, 'realist': 5873, 'ro': 6102, 'hijab': 3316, 'servant': 6379, 'gals': 2837, 'internally': 3645, 'panchavarnathatha': 5253, 'vishu': 7776, 'kunchakobob': 4010, 'spending': 6771, 'lived': 4207, 'bradford': 864, 'cometh': 1428, 'curry': 1707, 'woot': 8045, 'blush': 758, 'rumi': 6168, 'fashit': 2534, 'consequences': 1506, 'fault': 2543, 'traded': 7435, 'ongniel': 5124, 'ship': 6459, 'sailed': 6205, 'qtips': 5781, 'mozlems': 4754, 'expelled': 2436, 'ldn': 4078, 'inshaallah': 3619, 'jihad': 3785, 'essex': 2370, 'bladdered': 717, 'bridge': 902, 'nba': 4869, 'urgent': 7668, 'titions': 7357, 'skelton': 6581, 'nuts': 5042, 'vid': 7744, 'sudscribe': 7013, 'colossous': 1413, 'johnlawrence': 3803, 'cheds': 1236, 'bullish': 985, 'chonis': 1283, 'bearish': 577, 'vanessa': 7708, 'japan': 3738, 'snowing': 6668, 'enjoyyyyy': 2320, 'skinny': 6587, 'china': 1270, 'booze': 813, 'icloud': 3501, 'mira': 4639, 'slammed': 6597, 'harsh': 3202, 'inflammatory': 3596, 'harper': 3197, 'professor': 5685, 'maryanne': 4465, 'gilligan': 2928, 'fought': 2744, 'kaya': 3895, 'kung': 4011, 'gusto': 3114, 'gawin': 2863, 'granted': 3046, 'bostonterrier': 824, 'pets': 5406, 'cheats': 1232, 'cheat': 1230, 'exempt': 2424, 'adventurous': 79, 'canyoneering': 1075, 'kawasan': 3893, 'cto': 1687, 'sammilby': 6219, 'vacationmode': 7696, 'briefly': 903, 'dalit': 1748, 'mistaken': 4659, 'identity': 3510, 'bronze': 925, 'ego': 2235, 'constructive': 1519, 'chauffeur': 1227, 'lmaoooooooooo': 4228, 'quav': 5784, 'handshake': 3155, 'dread': 2110, 'boam': 765, 'sloppy': 6621, 'toppy': 7405, 'showers': 6505, 'behalf': 605, 'ei': 2241, 'jamal': 3727, 'lowe': 4312, 'kitties': 3961, 'lmaaooo': 4219, 'ddpat': 1797, 'csgogive': 1680, 'sickening': 6518, 'autograph': 418, 'sales': 6212, 'casio': 1124, 'dual': 2150, 'price': 5650, 'rm': 6098, 'rabbi': 5802, 'lpool': 4321, 'everton': 2395, 'kilkenny': 3935, 'tipp': 7349, 'bricks': 901, 'kwonfused': 4016, 'deadt': 1803, 'zim': 8230, 'drinking': 2127, 'grom': 3076, 'wrap': 8078, 'yeeeww': 8151, 'moylanbrothers': 4751, 'luke': 4336, 'sk': 6579, 'lker': 4216, 'graphic': 3047, 'witness': 8016, 'ers': 2360, 'radnor': 5812, 'linkedin': 4183, 'symantec': 7108, 'salesforce': 6213, 'ucsf': 7579, 'radiation': 5809, 'oncology': 5117, 'planned': 5485, 'building': 977, 'cackled': 1026, 'issagodsplan': 3695, 'upgraded': 7654, 'flights': 2669, 'miami': 4586, 'orlando': 5170, 'src': 6831, 'animated': 237, 'starring': 6863, 'farris': 2525, 'patrick': 5311, 'stewart': 6900, 'pressure': 5641, 'dese': 1902, 'niggaz': 4955, 'sxvxge': 7102, 'wett': 7934, 'creamy': 1627, 'upgrades': 7655, 'nationalchampionship': 4855, 'afte': 102, 'eline': 2266, 'velveta': 7718, 'payout': 5331, 'nowadays': 5019, 'ander': 223, 'tatti': 7161, 'uper': 7653, 'phool': 5424, 'worthy': 8073, 'recipes': 5892, 'whip': 7954, 'eatingfortheinsta': 2208, 'photography': 5428, 'zeke': 8227, 'custom': 1714, 'zee': 8226, 'allie': 171, 'miflavour': 4602, 'che': 1228, 'legooooo': 4108, 'reward': 6049, 'behavior': 607, 'diversity': 2006, 'fb': 2551, 'remarkably': 5947, 'yzj': 8221, 'mole': 4686, 'youzhangjing': 8205, 'troublemakers': 7499, 'truck': 7500, 'beds': 592, 'tweakin': 7550, 'aware': 434, 'manipulation': 4423, 'russian': 6180, 'mornin': 4724, 'cis': 1319, 'heterosexual': 3299, 'sexual': 6401, 'orientation': 5167, 'gender': 2879, 'concepts': 1475, 'yooo': 8183, 'geeeettttem': 2874, 'chizzy': 1276, 'letsgochamp': 4128, 'angrybirds': 231, 'angrychamp': 232, 'itch': 3704, 'cape': 1078, 'spacious': 6744, 'liverpool': 4210, 'mtac': 4769, 'biloxi': 684, 'shoppin': 6489, 'crabs': 1606, 'split': 6791, 'cancelroseanne': 1068, 'boycottabc': 852, 'boycottroseanneshow': 855, 'ideology': 3511, 'schools': 6279, 'mashup': 4468, 'sheesh': 6444, 'explains': 2444, 'vision': 7777, 'jasmine': 3742, 'youbetterwriteone': 8189, 'orelse': 5162, 'sends': 6360, 'chilling': 1267, 'yeehaw': 8152, 'democracy': 1877, 'arm': 323, 'basically': 543, 'pihu': 5450, 'uber': 7575, 'brexit': 897, 'bother': 827, 'remain': 5944, 'stopbre': 6929, 'mong': 4705, 'annalaan': 241, 'cked': 1324, 'understanding': 7608, 'billie': 679, 'walas': 7826, 'indiegame': 3585, 'indiegamedev': 3586, 'blender': 726, 'lowpoly': 4317, 'fucker': 2793, 'aswell': 388, 'vibrations': 7737, 'niceness': 4937, 'ecclesiastical': 2215, 'path': 5307, 'peacefulwaters': 5342, 'praisejah': 5611, 'stairs': 6844, 'slippers': 6620, 'transformers': 7451, 'pjs': 5474, 'inherited': 3606, 'tux': 7542, 'mymixtapez': 4813, 'padron': 5231, 'grove': 3082, 'nearest': 4877, 'dispensary': 1991, 'mccarran': 4497, 'airport': 134, 'lyft': 4350, 'cigarette': 1310, 'ots': 5179, 'motha': 4733, 'repitiendo': 5972, 'ustednosabequiensoyyo': 7681, 'por': 5568, 'rawaftermania': 5852, 'paying': 5330, 'debating': 1815, 'stern': 6895, 'moncarataprilfoolsday': 4698, 'cw': 1725, 'toothbrush': 7403, 'soda': 6676, 'presenting': 5635, 'sunrise': 7033, 'seuss': 6394, 'edition': 2224, 'migos': 4604, 'tremehumiliation': 7471, 'strap': 6944, 'ballbusting': 500, 'teas': 7197, 'clue': 1375, 'character': 1209, 'bham': 654, 'beginning': 603, 'drag': 2097, 'related': 5930, 'skin': 6586, 'defaulted': 1837, 'luckily': 4331, 'mucho': 4775, 'fea': 2556, 'shiver': 6476, 'timbers': 7336, 'follows': 2705, 'gooners': 3007, 'stoke': 6920, 'upload': 7656, 'wifi': 7975, 'mobile': 4678, 'hotspot': 3417, 'india': 3579, 'goa': 2969, 'pina': 5458, 'colada': 1398, 'vomiting': 7801, 'ollie': 5104, 'stardust': 6858, 'teamtom': 7194, 'finalist': 2628, 'onw': 5130, 'peppers': 5369, 'elevenses': 2260, 'baker': 493, 'sonar': 6690, 'abide': 9, 'wawu': 7883, 'wicked': 7969, 'stormi': 6936, 'brad': 863, 'parscale': 5283, 'suspended': 7074, 'yawn': 8137, 'thath': 7246, 'photoshoot': 5430, 'sin': 6550, 'whiper': 7955, 'teenage': 7205, 'comatose': 1420, 'noted': 5007, 'cursive': 1710, 'gud': 3099, 'slink': 6619, 'shadows': 6412, 'nadine': 4825, 'mikey': 4607, 'transfer': 7448, 'bop': 814, 'freshen': 2770, 'prayed': 5615, 'cow': 1598, 'rom': 6126, 'nutes': 5041, 'katelyn': 3888, 'valid': 7702, 'roles': 6122, 'supplies': 7043, 'capitol': 1082, 'blocks': 738, 'kidding': 3930, 'rose': 6140, 'websites': 7904, 'mami': 4408, 'lyn': 4353, 'leia': 4110, 'jumped': 3848, 'oscar': 5175, 'wood': 8036, 'reactionary': 5863, 'orangebuffon': 5156, 'everytime': 2399, 'root': 6137, 'canals': 1063, 'indica': 3582, 'effiqass': 2230, 'ngot': 4929, 'batgot': 550, 'ideal': 3507, 'kim': 3941, 'fate': 2540, 'soy': 6737, 'siniestro': 6559, 'lucha': 4329, 'scraggy': 6287, 'sat': 6239, 'sentiment': 6369, 'pers': 5385, 'blockparty': 737, 'flea': 2666, 'chrabi': 1293, 'lockie': 4246, 'myles': 4811, 'littleboys': 4203, 'towie': 7420, 'birthdaaaaaayyyyyy': 691, 'noooo': 4992, 'awh': 441, 'awful': 439, 'unblock': 7599, 'tomcatting': 7386, 'launching': 4062, 'novanation': 5015, 'letsmarchnova': 4129, 'photographers': 5427, 'chasecoleman': 1224, 'fetus': 2598, 'remembering': 5950, 'youngsta': 8192, 'explaining': 2443, 'toot': 7402, 'tooooooot': 7401, 'bbq': 564, 'foolish': 2712, 'pencil': 5359, 'thrown': 7311, 'nismonation': 4972, 'corner': 1556, 'settings': 6389, 'privacy': 5662, 'log': 4250, 'fishes': 2650, 'chikaroo': 1258, 'emailing': 2275, 'tokens': 7381, 'easysnackrecipecontest': 2204, 'participate': 5285, 'hampers': 3146, 'partic': 5284, 'autism': 415, 'awareness': 435, 'dawn': 1783, 'includes': 3571, 'photocard': 5426, 'sweater': 7084, 'medium': 4517, 'mjiwrds': 4669, 'realize': 5875, 'asinine': 358, 'proactive': 5670, 'gents': 2889, 'additional': 55, 'sef': 6341, 'viewed': 7752, 'memo': 4539, 'lovin': 4308, 'ec': 2212, 'jahan': 3721, 'kare': 3880, 'waha': 7819, 'ghus': 2915, 'jao': 3737, 'imbecile': 3545, 'qaphela': 5776, 'tiger': 7329, 'mil': 4608, 'barack': 521, 'hussein': 3475, 'mentors': 4554, 'scrabble': 6286, 'hodl': 3344, 'spotted': 6808, 'marchforourlives': 4437, 'keeper': 3904, 'gimme': 2929, 'plane': 5483, 'cof': 1390, 'guidance': 3104, 'ment': 4547, 'complimented': 1468, 'sexygrannies': 6404, 'hotmilf': 3415, 'oldsex': 5102, 'worldautismawareness': 8058, 'robert': 6108, 'sds': 6309, 'accidentally': 22, 'aaaand': 1, 'stargate': 6861, 'sgu': 6405, 'sta': 6836, 'strangers': 6943, 'darling': 1768, 'doh': 2037, 'bong': 790, 'motived': 4741, 'cred': 1636, 'dental': 1887, 'ca': 1021, 'sniveling': 6663, 'barca': 525, 'bayern': 558, 'semi': 6355, 'liv': 4205, 'cracker': 1609, 'specia': 6758, 'shitter': 6472, 'disagree': 1974, 'upwards': 7664, 'math': 4478, 'whitehouse': 7957, 'outsid': 5194, 'conversations': 1534, 'kingof': 3948, 'diamonds': 1939, 'lvl': 4348, 'bihhh': 673, 'heartless': 3256, 'hargeysa': 3194, 'twatter': 7547, 'oare': 5052, 'ove': 5201, 'hurray': 3467, 'fails': 2490, 'earlier': 2184, 'passport': 5298, 'heals': 3245, 'damaged': 1749, 'cells': 1165, 'digest': 1956, 'snatches': 6657, 'yard': 8129, 'exceptionally': 2418, 'yoursel': 8197, 'ed': 2219, 'bitchslap': 706, 'enuf': 2338, 'spoon': 6802, 'nil': 4963, 'fortune': 2738, 'boom': 805, 'shackalaka': 6408, 'presidential': 5637, 'tracking': 7430, 'rasmussen': 5844, 'paining': 5237, 'chivscin': 1275, 'useful': 7675, 'loses': 4284, 'talkative': 7132, 'breed': 894, 'aquatic': 304, 'center': 1168, 'entry': 2336, 'meaning': 4504, 'skyler': 6593, 'disney': 1990, 'typhoon': 7571, 'lagoon': 4031, 'colluder': 1407, 'bigbang': 662, 'vips': 7769, 'flowerroad': 2681, 'pod': 5527, 'tides': 7325, 'unnecessary': 7641, 'jc': 3755, 'foodies': 2708, 'blair': 718, 'grainger': 3038, 'duggary': 2158, 'ferguson': 2590, 'horsfield': 3407, 'spiked': 6778, 'lmfaooooo': 4232, 'judges': 3839, 'casually': 1129, 'elevator': 2259, 'staying': 6886, 'figures': 2614, 'yoruba': 8188, 'songsong': 6693, 'model': 4681, 'biggavel': 665, 'spirits': 6785, 'brutha': 947, 'ov': 5198, 'yoka': 8180, 'beetow': 598, 'numbers': 5039, 'cryptocurrency': 1678, 'powerlaunch': 5600, 'alyson': 187, 'nyweh': 5050, 'murdered': 4789, 'jou': 3828, 'kay': 3894, 'murray': 4792, 'hosts': 3411, 'meek': 4521, 'thanksgiving': 7242, 'crushing': 1673, 'thanked': 7237, 'vmin': 7786, 'shacking': 6409, 'jared': 3740, 'washingtondc': 7866, 'hughhewitt': 3444, 'nelsons': 4894, 'renad': 5961, 'complicit': 1466, 'subway': 7002, 'mikelindell': 4606, 'lads': 4027, 'lovvvvveeeeee': 4310, 'curse': 1708, 'xiumin': 8108, 'happyxiuminday': 3186, 'spam': 6747, 'tennessee': 7217, 'vacationwellneeded': 7697, 'changbin': 1195, 'relay': 5936, 'paycheck': 5328, 'bonus': 792, 'xslasvegas': 8112, 'tobi': 7370, 'nominating': 4981, 'advance': 74, 'forms': 2733, 'awesomeness': 438, 'agregenme': 114, 'michelle': 4592, 'grant': 3045, 'receiving': 5887, 'recognized': 5895, 'earning': 2188, 'bestintheav': 640, 'replied': 5976, 'childish': 1261, 'ezrecordsthelabel': 2469, 'fmh': 2689, 'fof': 2694, 'daway': 1781, 'trapter': 7454, 'sylvester': 7107, 'perspective': 5395, 'nyc': 5048, 'minding': 4627, 'memberships': 4536, 'sneaky': 6660, 'xyz': 8114, 'deceased': 1819, 'arms': 326, 'loveamuslimday': 4300, 'jabbo': 3712, 'proudofjinyoung': 5711, 'eyesonigot': 2462, 'eyesonyougot': 2465, 'hte': 3434, 'heads': 3243, 'squidward': 6828, 'krabby': 4000, 'patties': 5317}\n",
      "  (1, 3945)\t0.37981632031972534\n",
      "  (1, 6268)\t0.37981632031972534\n",
      "  (1, 5963)\t0.40790080590387795\n",
      "  (1, 4105)\t0.4426866043388179\n",
      "  (1, 300)\t0.2923448847797617\n",
      "  (1, 2713)\t0.3731150074689379\n",
      "  (1, 3814)\t0.35276661982685326\n",
      "  (2, 2602)\t0.7101501486717424\n",
      "  (2, 4269)\t0.5729437174483057\n",
      "  (2, 2997)\t0.4091726566842146\n",
      "  (3, 3176)\t1.0\n",
      "  (4, 4140)\t0.549802754910028\n",
      "  (4, 7621)\t0.5762924239508684\n",
      "  (4, 5932)\t0.5310080356213885\n",
      "  (4, 4299)\t0.28919619446958583\n",
      "  (5, 4200)\t0.26399759241544746\n",
      "  (5, 2776)\t0.3683486057369158\n",
      "  (5, 7914)\t0.3683486057369158\n",
      "  (5, 4386)\t0.3997613908246094\n",
      "  (5, 7887)\t0.3997613908246094\n",
      "  (5, 646)\t0.24874898381774765\n",
      "  (5, 2656)\t0.3997613908246094\n",
      "  (5, 922)\t0.34298733908082857\n",
      "  (6, 2710)\t0.6828506828536552\n",
      "  (6, 4153)\t0.7305579682176473\n",
      "  :\t:\n",
      "  (4979, 326)\t0.4501189305793903\n",
      "  (4979, 4300)\t0.4501189305793903\n",
      "  (4981, 3176)\t0.3559481734930437\n",
      "  (4981, 693)\t0.3747706138881109\n",
      "  (4981, 3712)\t0.8560653507489334\n",
      "  (4982, 3018)\t0.3815102353180774\n",
      "  (4982, 1494)\t0.23405273429229959\n",
      "  (4982, 4265)\t0.43878187545887554\n",
      "  (4982, 2464)\t0.3437502605032765\n",
      "  (4982, 6957)\t0.315437342559572\n",
      "  (4982, 5711)\t0.3603122557863388\n",
      "  (4982, 2462)\t0.3603122557863388\n",
      "  (4982, 2465)\t0.3603122557863388\n",
      "  (4983, 4269)\t0.22121230479373266\n",
      "  (4983, 4168)\t0.15083757397093142\n",
      "  (4983, 389)\t0.289381333074642\n",
      "  (4983, 7970)\t0.2962134390994294\n",
      "  (4983, 88)\t0.26666770475644946\n",
      "  (4983, 705)\t0.27023924761246293\n",
      "  (4983, 4174)\t0.25763067825063246\n",
      "  (4983, 3434)\t0.33054945256803453\n",
      "  (4983, 3243)\t0.33054945256803453\n",
      "  (4983, 6828)\t0.33054945256803453\n",
      "  (4983, 4000)\t0.33054945256803453\n",
      "  (4983, 5317)\t0.33054945256803453\n"
     ]
    }
   ],
   "source": [
    "from sklearn.feature_extraction.text import TfidfVectorizer\n",
    "\n",
    "vectorizer = TfidfVectorizer(\n",
    "#                ngram_range = (1,4),\n",
    "                stop_words = 'english',\n",
    "                smooth_idf = 1,\n",
    "#                max_features = 10000\n",
    "            )\n",
    "\n",
    "# sparse matrix for NB Classifier\n",
    "train_matrix = vectorizer.fit_transform(trainX)\n",
    "test_matrix = vectorizer.transform(testX)\n",
    "print(vectorizer.vocabulary_)\n",
    "print(train_matrix)"
   ]
  },
  {
   "cell_type": "markdown",
   "metadata": {},
   "source": [
    "[sklearn.naive_bayes.MultinomialNB](http://scikit-learn.org/stable/modules/generated/sklearn.naive_bayes.MultinomialNB.html)."
   ]
  },
  {
   "cell_type": "code",
   "execution_count": 429,
   "metadata": {},
   "outputs": [
    {
     "data": {
      "text/plain": [
       "MultinomialNB(alpha=1.0, class_prior=None, fit_prior=True)"
      ]
     },
     "execution_count": 429,
     "metadata": {},
     "output_type": "execute_result"
    }
   ],
   "source": [
    "clf_NB = MultinomialNB()\n",
    "clf_NB.fit(train_matrix, trainY)"
   ]
  },
  {
   "cell_type": "code",
   "execution_count": 430,
   "metadata": {},
   "outputs": [
    {
     "name": "stdout",
     "output_type": "stream",
     "text": [
      "[0.45190381 0.47695391 0.46593186 0.43373494 0.46277666]\n",
      "mean score for 10-fold cross validation:  0.4582602357754223\n"
     ]
    }
   ],
   "source": [
    "cross_val = cross_val_score(clf_NB, train_matrix,trainY, cv = 5, scoring= 'accuracy')\n",
    "print(cross_val)\n",
    "print (\"mean score for 10-fold cross validation: \", np.mean(cross_val))"
   ]
  },
  {
   "cell_type": "code",
   "execution_count": 431,
   "metadata": {},
   "outputs": [
    {
     "data": {
      "text/plain": [
       "True     0.824438\n",
       "False    0.175562\n",
       "Name: label, dtype: float64"
      ]
     },
     "execution_count": 431,
     "metadata": {},
     "output_type": "execute_result"
    }
   ],
   "source": [
    "# accuracy on training set\n",
    "\n",
    "pred_train = clf_NB.predict(train_matrix)\n",
    "(pred_train==trainY).value_counts(normalize=True)"
   ]
  },
  {
   "cell_type": "code",
   "execution_count": 432,
   "metadata": {},
   "outputs": [
    {
     "data": {
      "text/plain": [
       "False    0.541734\n",
       "True     0.458266\n",
       "Name: label, dtype: float64"
      ]
     },
     "execution_count": 432,
     "metadata": {},
     "output_type": "execute_result"
    }
   ],
   "source": [
    "# accuracy on test set\n",
    "\n",
    "pred = clf_NB.predict(test_matrix)\n",
    "(pred==testY).value_counts(normalize=True)"
   ]
  },
  {
   "cell_type": "code",
   "execution_count": 433,
   "metadata": {},
   "outputs": [
    {
     "name": "stdout",
     "output_type": "stream",
     "text": [
      "The confusion matrix:\n",
      " [[244  31   4  10  38]\n",
      " [108  82  15  25  34]\n",
      " [ 36  27  95   9  12]\n",
      " [ 90  59   8  37  26]\n",
      " [104  25   6   8 113]]\n"
     ]
    }
   ],
   "source": [
    "# confusion matrix\n",
    "\n",
    "print('The confusion matrix:\\n',confusion_matrix(testY,pred))"
   ]
  },
  {
   "cell_type": "code",
   "execution_count": 434,
   "metadata": {},
   "outputs": [
    {
     "name": "stdout",
     "output_type": "stream",
     "text": [
      "True     0.808387\n",
      "False    0.191613\n",
      "Name: label, dtype: float64\n",
      "False    0.52809\n",
      "True     0.47191\n",
      "Name: label, dtype: float64\n"
     ]
    }
   ],
   "source": [
    "# comare with CountVectorizer\n",
    "\n",
    "from sklearn.feature_extraction.text import CountVectorizer\n",
    "\n",
    "vectorizer1 = CountVectorizer()\n",
    "\n",
    "data_train_count = vectorizer1.fit_transform(trainX)\n",
    "data_test_count  = vectorizer1.transform(testX)\n",
    "\n",
    "clf_NB1 = MultinomialNB()\n",
    "clf_NB1.fit(data_train_count, trainY)\n",
    "\n",
    "# accuracy on training set\n",
    "pred_train1 = clf_NB1.predict(data_train_count)\n",
    "print((pred_train1==trainY).value_counts(normalize=True))\n",
    "\n",
    "# accuracy on test set\n",
    "pred_test1 = clf_NB1.predict(data_test_count)\n",
    "print((pred_test1==testY).value_counts(normalize=True))"
   ]
  },
  {
   "cell_type": "markdown",
   "metadata": {},
   "source": [
    "The result of CountVectorizer() is close to that of TfidfVectorizer. On the test set, the accuracy reaches **50.8%**."
   ]
  },
  {
   "cell_type": "markdown",
   "metadata": {},
   "source": [
    "### 4.2 - SVM"
   ]
  },
  {
   "cell_type": "markdown",
   "metadata": {},
   "source": [
    "http://scikit-learn.org/stable/modules/svm.html"
   ]
  },
  {
   "cell_type": "code",
   "execution_count": 435,
   "metadata": {},
   "outputs": [],
   "source": [
    "from sklearn.svm import SVC\n",
    "from sklearn.feature_extraction.text import TfidfVectorizer\n",
    "from sklearn.feature_extraction.text import TfidfVectorizer\n",
    "from sklearn.pipeline import Pipeline\n",
    "from sklearn.metrics import accuracy_score"
   ]
  },
  {
   "cell_type": "code",
   "execution_count": 436,
   "metadata": {},
   "outputs": [
    {
     "data": {
      "text/plain": [
       "Pipeline(memory=None,\n",
       "     steps=[('clf_svm', SVC(C=100, cache_size=200, class_weight=None, coef0=1,\n",
       "  decision_function_shape='ovr', degree=20, gamma='auto', kernel='poly',\n",
       "  max_iter=-1, probability=False, random_state=None, shrinking=True,\n",
       "  tol=0.001, verbose=False))])"
      ]
     },
     "execution_count": 436,
     "metadata": {},
     "output_type": "execute_result"
    }
   ],
   "source": [
    "vect = TfidfVectorizer(\n",
    "#                ngram_range = (1,4),\n",
    "                stop_words = 'english',\n",
    "                smooth_idf = 1,\n",
    "                max_features=5000\n",
    "            )\n",
    "\n",
    "# sparse matrix for NB Classifier\n",
    "train_matrix = vect.fit_transform(trainX)\n",
    "test_matrix = vect.transform(testX)\n",
    "\n",
    "clf_svm = Pipeline([(\"clf_svm\",SVC(kernel=\"poly\",degree=20,coef0=1,C=100))])\n",
    "#clf_svm = Pipeline([(\"clf_svm\",SVC(kernel=\"rbf\",gamma=5,C=0.001))])\n",
    "clf_svm.fit(train_matrix,trainY)"
   ]
  },
  {
   "cell_type": "code",
   "execution_count": 437,
   "metadata": {},
   "outputs": [
    {
     "name": "stdout",
     "output_type": "stream",
     "text": [
      "[0.42084168 0.43687375 0.43186373 0.41465863 0.42756539]\n",
      "mean score for 5-fold cross validation:  0.4263606370417821\n"
     ]
    }
   ],
   "source": [
    "cross_val = cross_val_score(clf_svm, train_matrix,trainY, cv = 5, scoring= 'accuracy')\n",
    "print(cross_val)\n",
    "print (\"mean score for 5-fold cross validation: \", np.mean(cross_val))"
   ]
  },
  {
   "cell_type": "code",
   "execution_count": 438,
   "metadata": {},
   "outputs": [
    {
     "name": "stdout",
     "output_type": "stream",
     "text": [
      "True     0.620787\n",
      "False    0.379213\n",
      "Name: label, dtype: float64\n",
      "0.6207865168539326\n",
      "False    0.565008\n",
      "True     0.434992\n",
      "Name: label, dtype: float64\n",
      "0.434991974317817\n"
     ]
    }
   ],
   "source": [
    "# accuracy on training set\n",
    "pred_train = clf_svm.predict(train_matrix)\n",
    "print((pred_train==trainY).value_counts(normalize=True))\n",
    "print(accuracy_score(pred_train,trainY))\n",
    "\n",
    "# accuracy on test set\n",
    "pred_test = clf_svm.predict(test_matrix)\n",
    "print((pred_test==testY).value_counts(normalize=True))\n",
    "print(accuracy_score(pred_test,testY))"
   ]
  },
  {
   "cell_type": "markdown",
   "metadata": {},
   "source": [
    "It helps to adjust the value of `max_features`."
   ]
  },
  {
   "cell_type": "code",
   "execution_count": 105,
   "metadata": {},
   "outputs": [
    {
     "data": {
      "text/plain": [
       "1964"
      ]
     },
     "execution_count": 105,
     "metadata": {},
     "output_type": "execute_result"
    }
   ],
   "source": [
    "pred_test.sum()"
   ]
  },
  {
   "cell_type": "markdown",
   "metadata": {},
   "source": [
    "### 4.x - Logistic Regression"
   ]
  },
  {
   "cell_type": "markdown",
   "metadata": {},
   "source": [
    "`Logistic Regression` (LR) wouldn't be as good as `NN` models. So I wouldn't try LR at all."
   ]
  },
  {
   "cell_type": "markdown",
   "metadata": {},
   "source": [
    "The input of the model is a string corresponding to a sentence (e.g. \"I love you). In the code, the output will be a probability vector of shape (1,5), that you then pass in an argmax layer to extract the index of the most likely emoji output.\n",
    "\n",
    "To get our labels into a format suitable for training a softmax classifier, lets convert $Y$ from its current shape  current shape $(m, 1)$ into a \"one-hot representation\" $(m, 5)$, where each row is a one-hot vector giving the label of one example, You can do so using this next code snipper. Here, `Y_oh` stands for \"Y-one-hot\" in the variable names `Y_oh_train` and `Y_oh_test`: \n",
    "\n",
    "The `Embedding` layer in `Keras` is a dictionary that maps integers into corresponding vectors. The input of `Embedding` layer is (samples, sequence_length), where sequence_length is the maximum length for each sample instance. The part longer than it will be truncated. The initial weight(dictionary) is randomlly initialized. Since my data set is not big enough, I will use pretrained GloVe databases.\n"
   ]
  },
  {
   "cell_type": "code",
   "execution_count": 164,
   "metadata": {},
   "outputs": [],
   "source": [
    "max_words = 5000 # I will keep only 1000 most frequent words\n",
    "max_len = 10 # truncated if length of tweet is greater than 20\n",
    "embedding_dim = 25 # choose the GloVe database with embedding_dim = 25"
   ]
  },
  {
   "cell_type": "code",
   "execution_count": 47,
   "metadata": {},
   "outputs": [],
   "source": [
    "# tokenize\n",
    "from keras.preprocessing.text import Tokenizer\n",
    "from keras.preprocessing.sequence import pad_sequences\n",
    "from keras.utils import to_categorical"
   ]
  },
  {
   "cell_type": "code",
   "execution_count": 124,
   "metadata": {},
   "outputs": [],
   "source": [
    "tokenizer = Tokenizer(num_words=max_words)\n",
    "tokenizer.fit_on_texts(train.tweet) # use words in both train and test samples\n",
    "\n",
    "# dictionary that maps word into index\n",
    "word_index = tokenizer.word_index\n",
    "\n",
    "#dictionary that maps index into word\n",
    "index_word = {}\n",
    "for word,index in word_index.items():\n",
    "    index_word[index] = word"
   ]
  },
  {
   "cell_type": "code",
   "execution_count": 125,
   "metadata": {},
   "outputs": [],
   "source": [
    "trainX, trainY = train['tweet'], train['label']\n",
    "testX, testY = test['tweet'], test['label']"
   ]
  },
  {
   "cell_type": "code",
   "execution_count": 165,
   "metadata": {},
   "outputs": [],
   "source": [
    "# convert tweets into lists of integers\n",
    "train_seq = tokenizer.texts_to_sequences(trainX)\n",
    "test_seq = tokenizer.texts_to_sequences(testX)\n",
    "\n",
    "# convert sequences into the same length, truncate at the end, pad at the beginning with 0 (there is no word with index=0)\n",
    "train_seq_pad = pad_sequences(train_seq,maxlen=max_len, dtype='int32', padding='pre', truncating='post', value=0)\n",
    "test_seq_pad = pad_sequences(test_seq,maxlen=max_len, dtype='int32', padding='pre', truncating='post', value=0)\n",
    "\n",
    "\n",
    "# one-hot encoding for label\n",
    "trainY = to_categorical(trainY)\n",
    "testY = to_categorical(testY)\n",
    "# trainY = np.eye(5)[trainY.values.reshape(-1)]"
   ]
  },
  {
   "cell_type": "code",
   "execution_count": 166,
   "metadata": {},
   "outputs": [
    {
     "name": "stdout",
     "output_type": "stream",
     "text": [
      "(4983,) (4983, 5, 2)\n"
     ]
    }
   ],
   "source": [
    "print(trainX.shape,trainY.shape)"
   ]
  },
  {
   "cell_type": "code",
   "execution_count": 71,
   "metadata": {
    "scrolled": true
   },
   "outputs": [
    {
     "data": {
      "text/plain": [
       "0    False\n",
       "dtype: bool"
      ]
     },
     "execution_count": 71,
     "metadata": {},
     "output_type": "execute_result"
    }
   ],
   "source": [
    "ttry = pd.DataFrame(train_seq[1])\n",
    "ttry.isnull().any()"
   ]
  },
  {
   "cell_type": "markdown",
   "metadata": {},
   "source": [
    "It should be emphasized that **word_index starts from 1**. There is no word with index=0. "
   ]
  },
  {
   "cell_type": "markdown",
   "metadata": {},
   "source": [
    "why isn't **len(word_index)=max_words**?"
   ]
  },
  {
   "cell_type": "markdown",
   "metadata": {},
   "source": [
    "[GloVe](https://nlp.stanford.edu/projects/glove/) is an unsupervised learning algorithm for obtaining vector representations for words. Training is performed on aggregated global word-word co-occurrence statistics from a corpus, and the resulting representations showcase interesting linear substructures of the word vector space. The data trained on twitter can be downloaded at [here](http://nlp.stanford.edu/data/glove.twitter.27B.zip)."
   ]
  },
  {
   "cell_type": "code",
   "execution_count": 95,
   "metadata": {},
   "outputs": [],
   "source": [
    "# read glove\n",
    "def read_glove(embedding_dim = 25):\n",
    "    '''\n",
    "    input: type(embedding_dim) = int, denotes the dimension of embedding vectors\n",
    "    output: dict[word] = vec\n",
    "    '''\n",
    "    \n",
    "    file_path = './glove.twitter.27B/glove.twitter.27B.'+str(embedding_dim)+'d.txt'\n",
    "    with open(file_path,'r') as f:\n",
    "        word_vec = {}\n",
    "        for line in f:\n",
    "            line = line.strip().split()\n",
    "            word = line[0]\n",
    "            vec = np.array(line[1:], dtype=np.float32)\n",
    "            word_vec[word] = vec\n",
    "    return word_vec\n",
    "       \n",
    "word_vec = read_glove(embedding_dim)"
   ]
  },
  {
   "cell_type": "code",
   "execution_count": 114,
   "metadata": {},
   "outputs": [],
   "source": [
    "def initial_embedding_weight(word_index,word_vec,max_words=1000,embedding_dim=25):\n",
    "    '''\n",
    "    set up initial weight for embedding layer, map the max_words words into embedding vectors.\n",
    "    \n",
    "    input: \n",
    "        word_index: a dictionary that maps word into index. It is generated by previous tokenizer\n",
    "        word_vec: a dictionary that maps word into embedding vector. It is read from GloVe.\n",
    "        max_words is the number of words we keep from the GloVe database, embedding_weight is the dim of embedding vectors\n",
    "    output: numpy matrix of shape (max_words+1, embedding_dim). It's max_words+1 because word_index starts from 1\n",
    "    '''\n",
    "    \n",
    "    matrix = np.zeros((max_words+1,embedding_dim))# if a word in not in glove, set the embedding vector to [0...]\n",
    "    for word, i in word_index.items():\n",
    "        if i<=max_words and word in word_vec.keys(): \n",
    "        # keep only the most common max_words words. At first, I thought len(word_index)=max_words since I have set \n",
    "        # num_words=max_words, turns out it's not the case\n",
    "            matrix[i] = word_vec.get(word)\n",
    "    return matrix\n",
    "\n",
    "\n",
    "initial_weight = initial_embedding_weight(word_index,word_vec,max_words,embedding_dim)"
   ]
  },
  {
   "cell_type": "code",
   "execution_count": 129,
   "metadata": {},
   "outputs": [],
   "source": [
    "from keras.models import Sequential\n",
    "from keras.layers import Embedding, Flatten, Dense,LSTM,Dropout\n",
    "from keras.optimizers import Adam"
   ]
  },
  {
   "cell_type": "code",
   "execution_count": 144,
   "metadata": {},
   "outputs": [],
   "source": [
    "def average(seq,weight,embedding_dim):\n",
    "    ave = []\n",
    "    drop_idx = [] #some sequences are all 0, drop them in trainX and trainY\n",
    "    for i in range(len(seq)):\n",
    "        l = len(seq[i])\n",
    "        vec = np.zeros((embedding_dim,))\n",
    "        for j in range(l):\n",
    "            vec += np.array(weight[seq[i][j]])\n",
    "        if vec.sum()==0:\n",
    "            drop_idx.append(i)\n",
    "        else:\n",
    "#            vec = np.divide(vec,l)\n",
    "            ave.append(vec)\n",
    "    return np.array(ave),drop_idx"
   ]
  },
  {
   "cell_type": "code",
   "execution_count": 146,
   "metadata": {},
   "outputs": [
    {
     "name": "stdout",
     "output_type": "stream",
     "text": [
      "(4983, 5)\n",
      "(4924, 25) (4924, 5)\n"
     ]
    }
   ],
   "source": [
    "train_ave, drop_idx = average(train_seq,initial_weight,embedding_dim)\n",
    "print(trainY.shape)\n",
    "trainY1 = np.delete(trainY,drop_idx,axis=0)\n",
    "print(train_ave.shape,trainY1.shape)"
   ]
  },
  {
   "cell_type": "code",
   "execution_count": 167,
   "metadata": {},
   "outputs": [
    {
     "name": "stdout",
     "output_type": "stream",
     "text": [
      "_________________________________________________________________\n",
      "Layer (type)                 Output Shape              Param #   \n",
      "=================================================================\n",
      "dense_36 (Dense)             (None, 32)                832       \n",
      "_________________________________________________________________\n",
      "dense_37 (Dense)             (None, 32)                1056      \n",
      "_________________________________________________________________\n",
      "dense_38 (Dense)             (None, 5)                 165       \n",
      "=================================================================\n",
      "Total params: 2,053\n",
      "Trainable params: 2,053\n",
      "Non-trainable params: 0\n",
      "_________________________________________________________________\n"
     ]
    }
   ],
   "source": [
    "clf_nn = Sequential()\n",
    "#clf_nn.add(Embedding(max_words+1,embedding_dim,weights=[initial_weight],trainable=False,input_length=max_len))\n",
    "clf_nn.add(Dense(32,activation='relu',input_shape=(embedding_dim,)))\n",
    "#clf_nn.add(Flatten())\n",
    "#clf_nn.add(Dense(256,activation='relu'))\n",
    "clf_nn.add(Dense(32,activation='relu'))\n",
    "clf_nn.add(Dense(5,activation='softmax'))\n",
    "\n",
    "clf_nn.summary()\n",
    "\n",
    "\n",
    "opt = Adam(lr=1e-4, beta_1=0.9, beta_2=0.999, epsilon=None, decay=0.0, amsgrad=False)\n",
    "clf_nn.compile(optimizer=opt,loss='categorical_crossentropy',metrics=['acc'])"
   ]
  },
  {
   "cell_type": "code",
   "execution_count": 155,
   "metadata": {},
   "outputs": [
    {
     "name": "stdout",
     "output_type": "stream",
     "text": [
      "Train on 4431 samples, validate on 493 samples\n",
      "Epoch 1/300\n",
      "4431/4431 [==============================] - 0s 107us/step - loss: 8.5405 - acc: 0.1688 - val_loss: 5.2836 - val_acc: 0.2130\n",
      "Epoch 2/300\n",
      "4431/4431 [==============================] - 0s 40us/step - loss: 3.6603 - acc: 0.2085 - val_loss: 2.3742 - val_acc: 0.2292\n",
      "Epoch 3/300\n",
      "4431/4431 [==============================] - 0s 41us/step - loss: 1.9049 - acc: 0.2349 - val_loss: 1.7667 - val_acc: 0.2252\n",
      "Epoch 4/300\n",
      "4431/4431 [==============================] - 0s 41us/step - loss: 1.6993 - acc: 0.2564 - val_loss: 1.6996 - val_acc: 0.2556\n",
      "Epoch 5/300\n",
      "4431/4431 [==============================] - 0s 41us/step - loss: 1.6363 - acc: 0.2767 - val_loss: 1.6603 - val_acc: 0.2718\n",
      "Epoch 6/300\n",
      "4431/4431 [==============================] - 0s 42us/step - loss: 1.5870 - acc: 0.2995 - val_loss: 1.6255 - val_acc: 0.2941\n",
      "Epoch 7/300\n",
      "4431/4431 [==============================] - 0s 41us/step - loss: 1.5482 - acc: 0.3218 - val_loss: 1.5993 - val_acc: 0.3063\n",
      "Epoch 8/300\n",
      "4431/4431 [==============================] - 0s 42us/step - loss: 1.5180 - acc: 0.3428 - val_loss: 1.5773 - val_acc: 0.3022\n",
      "Epoch 9/300\n",
      "4431/4431 [==============================] - 0s 40us/step - loss: 1.4929 - acc: 0.3514 - val_loss: 1.5574 - val_acc: 0.3185\n",
      "Epoch 10/300\n",
      "4431/4431 [==============================] - 0s 41us/step - loss: 1.4722 - acc: 0.3649 - val_loss: 1.5425 - val_acc: 0.3205\n",
      "Epoch 11/300\n",
      "4431/4431 [==============================] - 0s 41us/step - loss: 1.4542 - acc: 0.3708 - val_loss: 1.5285 - val_acc: 0.3205\n",
      "Epoch 12/300\n",
      "4431/4431 [==============================] - 0s 41us/step - loss: 1.4391 - acc: 0.3780 - val_loss: 1.5202 - val_acc: 0.3327\n",
      "Epoch 13/300\n",
      "4431/4431 [==============================] - 0s 43us/step - loss: 1.4276 - acc: 0.3852 - val_loss: 1.5154 - val_acc: 0.3185\n",
      "Epoch 14/300\n",
      "4431/4431 [==============================] - 0s 42us/step - loss: 1.4157 - acc: 0.3882 - val_loss: 1.5023 - val_acc: 0.3611\n",
      "Epoch 15/300\n",
      "4431/4431 [==============================] - 0s 41us/step - loss: 1.4063 - acc: 0.3940 - val_loss: 1.4920 - val_acc: 0.3448\n",
      "Epoch 16/300\n",
      "4431/4431 [==============================] - 0s 42us/step - loss: 1.3962 - acc: 0.4004 - val_loss: 1.4899 - val_acc: 0.3428\n",
      "Epoch 17/300\n",
      "4431/4431 [==============================] - 0s 40us/step - loss: 1.3894 - acc: 0.4062 - val_loss: 1.4836 - val_acc: 0.3469\n",
      "Epoch 18/300\n",
      "4431/4431 [==============================] - 0s 41us/step - loss: 1.3808 - acc: 0.4092 - val_loss: 1.4777 - val_acc: 0.3550\n",
      "Epoch 19/300\n",
      "4431/4431 [==============================] - 0s 41us/step - loss: 1.3754 - acc: 0.4112 - val_loss: 1.4741 - val_acc: 0.3550\n",
      "Epoch 20/300\n",
      "4431/4431 [==============================] - 0s 41us/step - loss: 1.3673 - acc: 0.4162 - val_loss: 1.4688 - val_acc: 0.3529\n",
      "Epoch 21/300\n",
      "4431/4431 [==============================] - 0s 39us/step - loss: 1.3645 - acc: 0.4175 - val_loss: 1.4628 - val_acc: 0.3611\n",
      "Epoch 22/300\n",
      "4431/4431 [==============================] - 0s 41us/step - loss: 1.3588 - acc: 0.4207 - val_loss: 1.4627 - val_acc: 0.3651\n",
      "Epoch 23/300\n",
      "4431/4431 [==============================] - 0s 39us/step - loss: 1.3543 - acc: 0.4261 - val_loss: 1.4587 - val_acc: 0.3631\n",
      "Epoch 24/300\n",
      "4431/4431 [==============================] - 0s 42us/step - loss: 1.3503 - acc: 0.4243 - val_loss: 1.4543 - val_acc: 0.3732\n",
      "Epoch 25/300\n",
      "4431/4431 [==============================] - 0s 41us/step - loss: 1.3468 - acc: 0.4259 - val_loss: 1.4502 - val_acc: 0.3529\n",
      "Epoch 26/300\n",
      "4431/4431 [==============================] - 0s 40us/step - loss: 1.3433 - acc: 0.4288 - val_loss: 1.4499 - val_acc: 0.3550\n",
      "Epoch 27/300\n",
      "4431/4431 [==============================] - 0s 42us/step - loss: 1.3401 - acc: 0.4254 - val_loss: 1.4433 - val_acc: 0.3651\n",
      "Epoch 28/300\n",
      "4431/4431 [==============================] - 0s 38us/step - loss: 1.3365 - acc: 0.4297 - val_loss: 1.4457 - val_acc: 0.3692\n",
      "Epoch 29/300\n",
      "4431/4431 [==============================] - 0s 39us/step - loss: 1.3337 - acc: 0.4322 - val_loss: 1.4426 - val_acc: 0.3732\n",
      "Epoch 30/300\n",
      "4431/4431 [==============================] - 0s 39us/step - loss: 1.3309 - acc: 0.4349 - val_loss: 1.4436 - val_acc: 0.3773\n",
      "Epoch 31/300\n",
      "4431/4431 [==============================] - 0s 36us/step - loss: 1.3267 - acc: 0.4317 - val_loss: 1.4360 - val_acc: 0.3651\n",
      "Epoch 32/300\n",
      "4431/4431 [==============================] - 0s 39us/step - loss: 1.3257 - acc: 0.4390 - val_loss: 1.4354 - val_acc: 0.3651\n",
      "Epoch 33/300\n",
      "4431/4431 [==============================] - 0s 41us/step - loss: 1.3217 - acc: 0.4419 - val_loss: 1.4339 - val_acc: 0.3773\n",
      "Epoch 34/300\n",
      "4431/4431 [==============================] - 0s 38us/step - loss: 1.3215 - acc: 0.4401 - val_loss: 1.4354 - val_acc: 0.3773\n",
      "Epoch 35/300\n",
      "4431/4431 [==============================] - 0s 39us/step - loss: 1.3179 - acc: 0.4426 - val_loss: 1.4362 - val_acc: 0.3793\n",
      "Epoch 36/300\n",
      "4431/4431 [==============================] - 0s 40us/step - loss: 1.3160 - acc: 0.4423 - val_loss: 1.4317 - val_acc: 0.3834\n",
      "Epoch 37/300\n",
      "4431/4431 [==============================] - 0s 40us/step - loss: 1.3130 - acc: 0.4469 - val_loss: 1.4304 - val_acc: 0.3671\n",
      "Epoch 38/300\n",
      "4431/4431 [==============================] - 0s 40us/step - loss: 1.3143 - acc: 0.4450 - val_loss: 1.4298 - val_acc: 0.3712\n",
      "Epoch 39/300\n",
      "4431/4431 [==============================] - 0s 40us/step - loss: 1.3100 - acc: 0.4480 - val_loss: 1.4300 - val_acc: 0.3773\n",
      "Epoch 40/300\n",
      "4431/4431 [==============================] - 0s 40us/step - loss: 1.3078 - acc: 0.4500 - val_loss: 1.4296 - val_acc: 0.3773\n",
      "Epoch 41/300\n",
      "4431/4431 [==============================] - 0s 40us/step - loss: 1.3062 - acc: 0.4561 - val_loss: 1.4283 - val_acc: 0.3813\n",
      "Epoch 42/300\n",
      "4431/4431 [==============================] - 0s 42us/step - loss: 1.3047 - acc: 0.4548 - val_loss: 1.4304 - val_acc: 0.3834\n",
      "Epoch 43/300\n",
      "4431/4431 [==============================] - 0s 40us/step - loss: 1.3030 - acc: 0.4520 - val_loss: 1.4290 - val_acc: 0.3753\n",
      "Epoch 44/300\n",
      "4431/4431 [==============================] - 0s 41us/step - loss: 1.3029 - acc: 0.4520 - val_loss: 1.4315 - val_acc: 0.3732\n",
      "Epoch 45/300\n",
      "4431/4431 [==============================] - 0s 41us/step - loss: 1.3017 - acc: 0.4545 - val_loss: 1.4288 - val_acc: 0.3813\n",
      "Epoch 46/300\n",
      "4431/4431 [==============================] - 0s 40us/step - loss: 1.3007 - acc: 0.4520 - val_loss: 1.4230 - val_acc: 0.3834\n",
      "Epoch 47/300\n",
      "4431/4431 [==============================] - 0s 41us/step - loss: 1.2979 - acc: 0.4548 - val_loss: 1.4249 - val_acc: 0.3793\n",
      "Epoch 48/300\n",
      "4431/4431 [==============================] - 0s 42us/step - loss: 1.2974 - acc: 0.4566 - val_loss: 1.4216 - val_acc: 0.3976\n",
      "Epoch 49/300\n",
      "4431/4431 [==============================] - 0s 41us/step - loss: 1.2956 - acc: 0.4602 - val_loss: 1.4240 - val_acc: 0.3874\n",
      "Epoch 50/300\n",
      "4431/4431 [==============================] - 0s 41us/step - loss: 1.2945 - acc: 0.4552 - val_loss: 1.4246 - val_acc: 0.3874\n",
      "Epoch 51/300\n",
      "4431/4431 [==============================] - 0s 41us/step - loss: 1.2929 - acc: 0.4593 - val_loss: 1.4256 - val_acc: 0.3895\n",
      "Epoch 52/300\n",
      "4431/4431 [==============================] - 0s 41us/step - loss: 1.2923 - acc: 0.4606 - val_loss: 1.4223 - val_acc: 0.4037\n",
      "Epoch 53/300\n",
      "4431/4431 [==============================] - 0s 42us/step - loss: 1.2897 - acc: 0.4636 - val_loss: 1.4218 - val_acc: 0.4077\n",
      "Epoch 54/300\n",
      "4431/4431 [==============================] - 0s 41us/step - loss: 1.2898 - acc: 0.4559 - val_loss: 1.4260 - val_acc: 0.3976\n",
      "Epoch 55/300\n",
      "4431/4431 [==============================] - 0s 42us/step - loss: 1.2881 - acc: 0.4649 - val_loss: 1.4252 - val_acc: 0.3813\n",
      "Epoch 56/300\n",
      "4431/4431 [==============================] - 0s 42us/step - loss: 1.2871 - acc: 0.4615 - val_loss: 1.4215 - val_acc: 0.4037\n",
      "Epoch 57/300\n",
      "4431/4431 [==============================] - 0s 41us/step - loss: 1.2875 - acc: 0.4566 - val_loss: 1.4191 - val_acc: 0.3955\n",
      "Epoch 58/300\n",
      "4431/4431 [==============================] - 0s 42us/step - loss: 1.2864 - acc: 0.4602 - val_loss: 1.4176 - val_acc: 0.4016\n",
      "Epoch 59/300\n",
      "4431/4431 [==============================] - 0s 41us/step - loss: 1.2852 - acc: 0.4636 - val_loss: 1.4197 - val_acc: 0.3935\n",
      "Epoch 60/300\n"
     ]
    },
    {
     "name": "stdout",
     "output_type": "stream",
     "text": [
      "4431/4431 [==============================] - 0s 42us/step - loss: 1.2837 - acc: 0.4624 - val_loss: 1.4179 - val_acc: 0.3976\n",
      "Epoch 61/300\n",
      "4431/4431 [==============================] - 0s 40us/step - loss: 1.2834 - acc: 0.4654 - val_loss: 1.4199 - val_acc: 0.3935\n",
      "Epoch 62/300\n",
      "4431/4431 [==============================] - 0s 39us/step - loss: 1.2835 - acc: 0.4629 - val_loss: 1.4233 - val_acc: 0.4016\n",
      "Epoch 63/300\n",
      "4431/4431 [==============================] - 0s 38us/step - loss: 1.2812 - acc: 0.4667 - val_loss: 1.4186 - val_acc: 0.3955\n",
      "Epoch 64/300\n",
      "4431/4431 [==============================] - 0s 40us/step - loss: 1.2798 - acc: 0.4665 - val_loss: 1.4219 - val_acc: 0.3976\n",
      "Epoch 65/300\n",
      "4431/4431 [==============================] - 0s 44us/step - loss: 1.2790 - acc: 0.4636 - val_loss: 1.4153 - val_acc: 0.3955\n",
      "Epoch 66/300\n",
      "4431/4431 [==============================] - 0s 43us/step - loss: 1.2790 - acc: 0.4692 - val_loss: 1.4153 - val_acc: 0.3996\n",
      "Epoch 67/300\n",
      "4431/4431 [==============================] - 0s 43us/step - loss: 1.2782 - acc: 0.4681 - val_loss: 1.4159 - val_acc: 0.3976\n",
      "Epoch 68/300\n",
      "4431/4431 [==============================] - 0s 41us/step - loss: 1.2773 - acc: 0.4654 - val_loss: 1.4147 - val_acc: 0.4057\n",
      "Epoch 69/300\n",
      "4431/4431 [==============================] - 0s 42us/step - loss: 1.2763 - acc: 0.4696 - val_loss: 1.4217 - val_acc: 0.4077\n",
      "Epoch 70/300\n",
      "4431/4431 [==============================] - 0s 42us/step - loss: 1.2766 - acc: 0.4692 - val_loss: 1.4151 - val_acc: 0.4097\n",
      "Epoch 71/300\n",
      "4431/4431 [==============================] - 0s 40us/step - loss: 1.2746 - acc: 0.4674 - val_loss: 1.4167 - val_acc: 0.4158\n",
      "Epoch 72/300\n",
      "4431/4431 [==============================] - 0s 41us/step - loss: 1.2741 - acc: 0.4678 - val_loss: 1.4174 - val_acc: 0.4097\n",
      "Epoch 73/300\n",
      "4431/4431 [==============================] - 0s 41us/step - loss: 1.2741 - acc: 0.4681 - val_loss: 1.4144 - val_acc: 0.4118\n",
      "Epoch 74/300\n",
      "4431/4431 [==============================] - 0s 42us/step - loss: 1.2732 - acc: 0.4681 - val_loss: 1.4148 - val_acc: 0.4037\n",
      "Epoch 75/300\n",
      "4431/4431 [==============================] - 0s 41us/step - loss: 1.2720 - acc: 0.4694 - val_loss: 1.4184 - val_acc: 0.3955\n",
      "Epoch 76/300\n",
      "4431/4431 [==============================] - 0s 40us/step - loss: 1.2707 - acc: 0.4708 - val_loss: 1.4144 - val_acc: 0.4097\n",
      "Epoch 77/300\n",
      "4431/4431 [==============================] - 0s 42us/step - loss: 1.2699 - acc: 0.4678 - val_loss: 1.4171 - val_acc: 0.4178\n",
      "Epoch 78/300\n",
      "4431/4431 [==============================] - 0s 42us/step - loss: 1.2702 - acc: 0.4710 - val_loss: 1.4136 - val_acc: 0.4118\n",
      "Epoch 79/300\n",
      "4431/4431 [==============================] - 0s 41us/step - loss: 1.2681 - acc: 0.4719 - val_loss: 1.4148 - val_acc: 0.3976\n",
      "Epoch 80/300\n",
      "4431/4431 [==============================] - 0s 42us/step - loss: 1.2678 - acc: 0.4692 - val_loss: 1.4129 - val_acc: 0.3996\n",
      "Epoch 81/300\n",
      "4431/4431 [==============================] - 0s 42us/step - loss: 1.2665 - acc: 0.4694 - val_loss: 1.4129 - val_acc: 0.4057\n",
      "Epoch 82/300\n",
      "4431/4431 [==============================] - 0s 42us/step - loss: 1.2671 - acc: 0.4708 - val_loss: 1.4162 - val_acc: 0.4118\n",
      "Epoch 83/300\n",
      "4431/4431 [==============================] - 0s 41us/step - loss: 1.2666 - acc: 0.4735 - val_loss: 1.4163 - val_acc: 0.3935\n",
      "Epoch 84/300\n",
      "4431/4431 [==============================] - 0s 41us/step - loss: 1.2658 - acc: 0.4724 - val_loss: 1.4118 - val_acc: 0.4077\n",
      "Epoch 85/300\n",
      "4431/4431 [==============================] - 0s 39us/step - loss: 1.2651 - acc: 0.4728 - val_loss: 1.4185 - val_acc: 0.4178\n",
      "Epoch 86/300\n",
      "4431/4431 [==============================] - 0s 40us/step - loss: 1.2649 - acc: 0.4703 - val_loss: 1.4193 - val_acc: 0.3996\n",
      "Epoch 87/300\n",
      "4431/4431 [==============================] - 0s 41us/step - loss: 1.2649 - acc: 0.4742 - val_loss: 1.4110 - val_acc: 0.4158\n",
      "Epoch 88/300\n",
      "4431/4431 [==============================] - 0s 40us/step - loss: 1.2622 - acc: 0.4753 - val_loss: 1.4150 - val_acc: 0.4057\n",
      "Epoch 89/300\n",
      "4431/4431 [==============================] - 0s 40us/step - loss: 1.2641 - acc: 0.4766 - val_loss: 1.4111 - val_acc: 0.4138\n",
      "Epoch 90/300\n",
      "4431/4431 [==============================] - 0s 40us/step - loss: 1.2613 - acc: 0.4769 - val_loss: 1.4127 - val_acc: 0.4077\n",
      "Epoch 91/300\n",
      "4431/4431 [==============================] - 0s 40us/step - loss: 1.2606 - acc: 0.4769 - val_loss: 1.4123 - val_acc: 0.4037\n",
      "Epoch 92/300\n",
      "4431/4431 [==============================] - 0s 40us/step - loss: 1.2606 - acc: 0.4746 - val_loss: 1.4102 - val_acc: 0.4118\n",
      "Epoch 93/300\n",
      "4431/4431 [==============================] - 0s 40us/step - loss: 1.2593 - acc: 0.4742 - val_loss: 1.4159 - val_acc: 0.4077\n",
      "Epoch 94/300\n",
      "4431/4431 [==============================] - 0s 41us/step - loss: 1.2596 - acc: 0.4773 - val_loss: 1.4106 - val_acc: 0.4097\n",
      "Epoch 95/300\n",
      "4431/4431 [==============================] - 0s 38us/step - loss: 1.2598 - acc: 0.4764 - val_loss: 1.4124 - val_acc: 0.4097\n",
      "Epoch 96/300\n",
      "4431/4431 [==============================] - 0s 39us/step - loss: 1.2576 - acc: 0.4719 - val_loss: 1.4115 - val_acc: 0.4280\n",
      "Epoch 97/300\n",
      "4431/4431 [==============================] - 0s 40us/step - loss: 1.2569 - acc: 0.4787 - val_loss: 1.4113 - val_acc: 0.4057\n",
      "Epoch 98/300\n",
      "4431/4431 [==============================] - 0s 41us/step - loss: 1.2568 - acc: 0.4764 - val_loss: 1.4129 - val_acc: 0.4118\n",
      "Epoch 99/300\n",
      "4431/4431 [==============================] - 0s 41us/step - loss: 1.2559 - acc: 0.4771 - val_loss: 1.4125 - val_acc: 0.4037\n",
      "Epoch 100/300\n",
      "4431/4431 [==============================] - 0s 38us/step - loss: 1.2565 - acc: 0.4717 - val_loss: 1.4127 - val_acc: 0.4077\n",
      "Epoch 101/300\n",
      "4431/4431 [==============================] - 0s 40us/step - loss: 1.2568 - acc: 0.4805 - val_loss: 1.4103 - val_acc: 0.3996\n",
      "Epoch 102/300\n",
      "4431/4431 [==============================] - 0s 42us/step - loss: 1.2544 - acc: 0.4751 - val_loss: 1.4119 - val_acc: 0.4097\n",
      "Epoch 103/300\n",
      "4431/4431 [==============================] - 0s 41us/step - loss: 1.2537 - acc: 0.4807 - val_loss: 1.4118 - val_acc: 0.4077\n",
      "Epoch 104/300\n",
      "4431/4431 [==============================] - 0s 41us/step - loss: 1.2530 - acc: 0.4796 - val_loss: 1.4106 - val_acc: 0.4118\n",
      "Epoch 105/300\n",
      "4431/4431 [==============================] - 0s 41us/step - loss: 1.2529 - acc: 0.4845 - val_loss: 1.4105 - val_acc: 0.4057\n",
      "Epoch 106/300\n",
      "4431/4431 [==============================] - 0s 40us/step - loss: 1.2519 - acc: 0.4821 - val_loss: 1.4131 - val_acc: 0.4118\n",
      "Epoch 107/300\n",
      "4431/4431 [==============================] - 0s 41us/step - loss: 1.2519 - acc: 0.4857 - val_loss: 1.4084 - val_acc: 0.4138\n",
      "Epoch 108/300\n",
      "4431/4431 [==============================] - 0s 40us/step - loss: 1.2516 - acc: 0.4816 - val_loss: 1.4102 - val_acc: 0.4057\n",
      "Epoch 109/300\n",
      "4431/4431 [==============================] - 0s 40us/step - loss: 1.2508 - acc: 0.4821 - val_loss: 1.4137 - val_acc: 0.4077\n",
      "Epoch 110/300\n",
      "4431/4431 [==============================] - 0s 40us/step - loss: 1.2503 - acc: 0.4809 - val_loss: 1.4124 - val_acc: 0.4219\n",
      "Epoch 111/300\n",
      "4431/4431 [==============================] - 0s 40us/step - loss: 1.2505 - acc: 0.4800 - val_loss: 1.4092 - val_acc: 0.4138\n",
      "Epoch 112/300\n",
      "4431/4431 [==============================] - 0s 41us/step - loss: 1.2484 - acc: 0.4843 - val_loss: 1.4103 - val_acc: 0.4219\n",
      "Epoch 113/300\n",
      "4431/4431 [==============================] - 0s 43us/step - loss: 1.2488 - acc: 0.4848 - val_loss: 1.4086 - val_acc: 0.4097\n",
      "Epoch 114/300\n",
      "4431/4431 [==============================] - 0s 41us/step - loss: 1.2480 - acc: 0.4832 - val_loss: 1.4090 - val_acc: 0.4138\n",
      "Epoch 115/300\n",
      "4431/4431 [==============================] - 0s 41us/step - loss: 1.2469 - acc: 0.4850 - val_loss: 1.4106 - val_acc: 0.4016\n",
      "Epoch 116/300\n",
      "4431/4431 [==============================] - 0s 41us/step - loss: 1.2473 - acc: 0.4823 - val_loss: 1.4113 - val_acc: 0.4016\n",
      "Epoch 117/300\n",
      "4431/4431 [==============================] - 0s 38us/step - loss: 1.2476 - acc: 0.4821 - val_loss: 1.4093 - val_acc: 0.4118\n",
      "Epoch 118/300\n",
      "4431/4431 [==============================] - 0s 36us/step - loss: 1.2452 - acc: 0.4857 - val_loss: 1.4095 - val_acc: 0.4138\n",
      "Epoch 119/300\n",
      "4431/4431 [==============================] - 0s 36us/step - loss: 1.2465 - acc: 0.4877 - val_loss: 1.4104 - val_acc: 0.4097\n"
     ]
    },
    {
     "name": "stdout",
     "output_type": "stream",
     "text": [
      "Epoch 120/300\n",
      "4431/4431 [==============================] - 0s 38us/step - loss: 1.2446 - acc: 0.4850 - val_loss: 1.4116 - val_acc: 0.4178\n",
      "Epoch 121/300\n",
      "4431/4431 [==============================] - 0s 38us/step - loss: 1.2453 - acc: 0.4834 - val_loss: 1.4115 - val_acc: 0.4037\n",
      "Epoch 122/300\n",
      "4431/4431 [==============================] - 0s 38us/step - loss: 1.2455 - acc: 0.4827 - val_loss: 1.4115 - val_acc: 0.4158\n",
      "Epoch 123/300\n",
      "4431/4431 [==============================] - 0s 38us/step - loss: 1.2447 - acc: 0.4888 - val_loss: 1.4102 - val_acc: 0.4219\n",
      "Epoch 124/300\n",
      "4431/4431 [==============================] - 0s 39us/step - loss: 1.2418 - acc: 0.4866 - val_loss: 1.4107 - val_acc: 0.4057\n",
      "Epoch 125/300\n",
      "4431/4431 [==============================] - 0s 37us/step - loss: 1.2426 - acc: 0.4863 - val_loss: 1.4092 - val_acc: 0.4158\n",
      "Epoch 126/300\n",
      "4431/4431 [==============================] - 0s 37us/step - loss: 1.2429 - acc: 0.4857 - val_loss: 1.4136 - val_acc: 0.4057\n",
      "Epoch 127/300\n",
      "4431/4431 [==============================] - 0s 36us/step - loss: 1.2408 - acc: 0.4868 - val_loss: 1.4117 - val_acc: 0.4158\n",
      "Epoch 128/300\n",
      "4431/4431 [==============================] - 0s 38us/step - loss: 1.2418 - acc: 0.4882 - val_loss: 1.4109 - val_acc: 0.4057\n",
      "Epoch 129/300\n",
      "4431/4431 [==============================] - 0s 38us/step - loss: 1.2409 - acc: 0.4918 - val_loss: 1.4137 - val_acc: 0.3996\n",
      "Epoch 130/300\n",
      "4431/4431 [==============================] - 0s 39us/step - loss: 1.2407 - acc: 0.4897 - val_loss: 1.4096 - val_acc: 0.4057\n",
      "Epoch 131/300\n",
      "4431/4431 [==============================] - 0s 36us/step - loss: 1.2389 - acc: 0.4872 - val_loss: 1.4109 - val_acc: 0.4077\n",
      "Epoch 132/300\n",
      "4431/4431 [==============================] - 0s 36us/step - loss: 1.2395 - acc: 0.4904 - val_loss: 1.4099 - val_acc: 0.4199\n",
      "Epoch 133/300\n",
      "4431/4431 [==============================] - 0s 37us/step - loss: 1.2387 - acc: 0.4841 - val_loss: 1.4143 - val_acc: 0.4037\n",
      "Epoch 134/300\n",
      "4431/4431 [==============================] - 0s 39us/step - loss: 1.2390 - acc: 0.4891 - val_loss: 1.4102 - val_acc: 0.4037\n",
      "Epoch 135/300\n",
      "4431/4431 [==============================] - 0s 43us/step - loss: 1.2384 - acc: 0.4909 - val_loss: 1.4150 - val_acc: 0.4097\n",
      "Epoch 136/300\n",
      "4431/4431 [==============================] - 0s 40us/step - loss: 1.2382 - acc: 0.4893 - val_loss: 1.4169 - val_acc: 0.4239\n",
      "Epoch 137/300\n",
      "4431/4431 [==============================] - 0s 42us/step - loss: 1.2373 - acc: 0.4900 - val_loss: 1.4106 - val_acc: 0.4097\n",
      "Epoch 138/300\n",
      "4431/4431 [==============================] - 0s 41us/step - loss: 1.2366 - acc: 0.4872 - val_loss: 1.4133 - val_acc: 0.4138\n",
      "Epoch 139/300\n",
      "4431/4431 [==============================] - 0s 40us/step - loss: 1.2371 - acc: 0.4929 - val_loss: 1.4107 - val_acc: 0.4097\n",
      "Epoch 140/300\n",
      "4431/4431 [==============================] - 0s 42us/step - loss: 1.2358 - acc: 0.4922 - val_loss: 1.4112 - val_acc: 0.4097\n",
      "Epoch 141/300\n",
      "4431/4431 [==============================] - 0s 40us/step - loss: 1.2351 - acc: 0.4863 - val_loss: 1.4113 - val_acc: 0.4077\n",
      "Epoch 142/300\n",
      "4431/4431 [==============================] - 0s 40us/step - loss: 1.2347 - acc: 0.4900 - val_loss: 1.4117 - val_acc: 0.4178\n",
      "Epoch 143/300\n",
      "4431/4431 [==============================] - 0s 42us/step - loss: 1.2343 - acc: 0.4913 - val_loss: 1.4114 - val_acc: 0.4178\n",
      "Epoch 144/300\n",
      "4431/4431 [==============================] - 0s 40us/step - loss: 1.2335 - acc: 0.4924 - val_loss: 1.4122 - val_acc: 0.4138\n",
      "Epoch 145/300\n",
      "4431/4431 [==============================] - 0s 40us/step - loss: 1.2334 - acc: 0.4938 - val_loss: 1.4119 - val_acc: 0.4260\n",
      "Epoch 146/300\n",
      "4431/4431 [==============================] - 0s 41us/step - loss: 1.2323 - acc: 0.4913 - val_loss: 1.4129 - val_acc: 0.4219\n",
      "Epoch 147/300\n",
      "4431/4431 [==============================] - 0s 41us/step - loss: 1.2333 - acc: 0.4870 - val_loss: 1.4125 - val_acc: 0.4158\n",
      "Epoch 148/300\n",
      "4431/4431 [==============================] - 0s 39us/step - loss: 1.2321 - acc: 0.4918 - val_loss: 1.4136 - val_acc: 0.4097\n",
      "Epoch 149/300\n",
      "4431/4431 [==============================] - 0s 39us/step - loss: 1.2320 - acc: 0.4911 - val_loss: 1.4119 - val_acc: 0.4057\n",
      "Epoch 150/300\n",
      "4431/4431 [==============================] - 0s 39us/step - loss: 1.2323 - acc: 0.4924 - val_loss: 1.4134 - val_acc: 0.3976\n",
      "Epoch 151/300\n",
      "4431/4431 [==============================] - 0s 38us/step - loss: 1.2316 - acc: 0.4915 - val_loss: 1.4195 - val_acc: 0.4158\n",
      "Epoch 152/300\n",
      "4431/4431 [==============================] - 0s 36us/step - loss: 1.2316 - acc: 0.4902 - val_loss: 1.4168 - val_acc: 0.3976\n",
      "Epoch 153/300\n",
      "4431/4431 [==============================] - 0s 39us/step - loss: 1.2305 - acc: 0.4947 - val_loss: 1.4146 - val_acc: 0.4097\n",
      "Epoch 154/300\n",
      "4431/4431 [==============================] - 0s 40us/step - loss: 1.2318 - acc: 0.4940 - val_loss: 1.4172 - val_acc: 0.4016\n",
      "Epoch 155/300\n",
      "4431/4431 [==============================] - 0s 38us/step - loss: 1.2281 - acc: 0.5006 - val_loss: 1.4131 - val_acc: 0.4118\n",
      "Epoch 156/300\n",
      "4431/4431 [==============================] - 0s 41us/step - loss: 1.2283 - acc: 0.4965 - val_loss: 1.4145 - val_acc: 0.4037\n",
      "Epoch 157/300\n",
      "4431/4431 [==============================] - 0s 41us/step - loss: 1.2283 - acc: 0.4915 - val_loss: 1.4124 - val_acc: 0.4097\n",
      "Epoch 158/300\n",
      "4431/4431 [==============================] - 0s 42us/step - loss: 1.2292 - acc: 0.4879 - val_loss: 1.4119 - val_acc: 0.4016\n",
      "Epoch 159/300\n",
      "4431/4431 [==============================] - 0s 41us/step - loss: 1.2279 - acc: 0.4954 - val_loss: 1.4162 - val_acc: 0.4097\n",
      "Epoch 160/300\n",
      "4431/4431 [==============================] - 0s 40us/step - loss: 1.2275 - acc: 0.4911 - val_loss: 1.4160 - val_acc: 0.4138\n",
      "Epoch 161/300\n",
      "4431/4431 [==============================] - 0s 44us/step - loss: 1.2264 - acc: 0.4929 - val_loss: 1.4120 - val_acc: 0.4178\n",
      "Epoch 162/300\n",
      "4431/4431 [==============================] - 0s 41us/step - loss: 1.2273 - acc: 0.4949 - val_loss: 1.4126 - val_acc: 0.4178\n",
      "Epoch 163/300\n",
      "4431/4431 [==============================] - 0s 52us/step - loss: 1.2270 - acc: 0.4967 - val_loss: 1.4134 - val_acc: 0.4097\n",
      "Epoch 164/300\n",
      "4431/4431 [==============================] - 0s 44us/step - loss: 1.2250 - acc: 0.4938 - val_loss: 1.4138 - val_acc: 0.4037\n",
      "Epoch 165/300\n",
      "4431/4431 [==============================] - 0s 39us/step - loss: 1.2252 - acc: 0.4949 - val_loss: 1.4188 - val_acc: 0.4037\n",
      "Epoch 166/300\n",
      "4431/4431 [==============================] - 0s 37us/step - loss: 1.2252 - acc: 0.4909 - val_loss: 1.4195 - val_acc: 0.4118\n",
      "Epoch 167/300\n",
      "4431/4431 [==============================] - 0s 38us/step - loss: 1.2252 - acc: 0.4933 - val_loss: 1.4182 - val_acc: 0.4077\n",
      "Epoch 168/300\n",
      "4431/4431 [==============================] - 0s 40us/step - loss: 1.2242 - acc: 0.4913 - val_loss: 1.4130 - val_acc: 0.4057\n",
      "Epoch 169/300\n",
      "4431/4431 [==============================] - 0s 41us/step - loss: 1.2239 - acc: 0.4940 - val_loss: 1.4128 - val_acc: 0.4118\n",
      "Epoch 170/300\n",
      "4431/4431 [==============================] - 0s 44us/step - loss: 1.2230 - acc: 0.4992 - val_loss: 1.4156 - val_acc: 0.4077\n",
      "Epoch 171/300\n",
      "4431/4431 [==============================] - 0s 42us/step - loss: 1.2232 - acc: 0.4963 - val_loss: 1.4135 - val_acc: 0.4199\n",
      "Epoch 172/300\n",
      "4431/4431 [==============================] - 0s 42us/step - loss: 1.2240 - acc: 0.4972 - val_loss: 1.4139 - val_acc: 0.4219\n",
      "Epoch 173/300\n",
      "4431/4431 [==============================] - 0s 44us/step - loss: 1.2219 - acc: 0.4938 - val_loss: 1.4148 - val_acc: 0.4077\n",
      "Epoch 174/300\n",
      "4431/4431 [==============================] - 0s 43us/step - loss: 1.2218 - acc: 0.4938 - val_loss: 1.4169 - val_acc: 0.4199\n",
      "Epoch 175/300\n",
      "4431/4431 [==============================] - 0s 41us/step - loss: 1.2222 - acc: 0.4922 - val_loss: 1.4149 - val_acc: 0.4077\n",
      "Epoch 176/300\n",
      "4431/4431 [==============================] - 0s 45us/step - loss: 1.2203 - acc: 0.4974 - val_loss: 1.4187 - val_acc: 0.4280\n",
      "Epoch 177/300\n",
      "4431/4431 [==============================] - 0s 46us/step - loss: 1.2211 - acc: 0.4945 - val_loss: 1.4142 - val_acc: 0.4118\n",
      "Epoch 178/300\n",
      "4431/4431 [==============================] - 0s 43us/step - loss: 1.2193 - acc: 0.4976 - val_loss: 1.4139 - val_acc: 0.4219\n",
      "Epoch 179/300\n"
     ]
    },
    {
     "name": "stdout",
     "output_type": "stream",
     "text": [
      "4431/4431 [==============================] - 0s 46us/step - loss: 1.2200 - acc: 0.4956 - val_loss: 1.4189 - val_acc: 0.4077\n",
      "Epoch 180/300\n",
      "4431/4431 [==============================] - 0s 38us/step - loss: 1.2193 - acc: 0.4929 - val_loss: 1.4187 - val_acc: 0.4097\n",
      "Epoch 181/300\n",
      "4431/4431 [==============================] - 0s 37us/step - loss: 1.2195 - acc: 0.4929 - val_loss: 1.4191 - val_acc: 0.4219\n",
      "Epoch 182/300\n",
      "4431/4431 [==============================] - 0s 41us/step - loss: 1.2185 - acc: 0.4967 - val_loss: 1.4155 - val_acc: 0.4077\n",
      "Epoch 183/300\n",
      "4431/4431 [==============================] - 0s 42us/step - loss: 1.2184 - acc: 0.4983 - val_loss: 1.4181 - val_acc: 0.4300\n",
      "Epoch 184/300\n",
      "4431/4431 [==============================] - 0s 41us/step - loss: 1.2179 - acc: 0.4981 - val_loss: 1.4149 - val_acc: 0.4138\n",
      "Epoch 185/300\n",
      "4431/4431 [==============================] - 0s 42us/step - loss: 1.2177 - acc: 0.4965 - val_loss: 1.4191 - val_acc: 0.4138\n",
      "Epoch 186/300\n",
      "4431/4431 [==============================] - 0s 41us/step - loss: 1.2174 - acc: 0.4994 - val_loss: 1.4171 - val_acc: 0.4097\n",
      "Epoch 187/300\n",
      "4431/4431 [==============================] - 0s 41us/step - loss: 1.2163 - acc: 0.4994 - val_loss: 1.4217 - val_acc: 0.4280\n",
      "Epoch 188/300\n",
      "4431/4431 [==============================] - 0s 42us/step - loss: 1.2168 - acc: 0.4970 - val_loss: 1.4191 - val_acc: 0.4037\n",
      "Epoch 189/300\n",
      "4431/4431 [==============================] - 0s 43us/step - loss: 1.2162 - acc: 0.4958 - val_loss: 1.4188 - val_acc: 0.4199\n",
      "Epoch 190/300\n",
      "4431/4431 [==============================] - 0s 44us/step - loss: 1.2151 - acc: 0.4951 - val_loss: 1.4154 - val_acc: 0.4178\n",
      "Epoch 191/300\n",
      "4431/4431 [==============================] - 0s 41us/step - loss: 1.2156 - acc: 0.4983 - val_loss: 1.4171 - val_acc: 0.4118\n",
      "Epoch 192/300\n",
      "4431/4431 [==============================] - 0s 42us/step - loss: 1.2149 - acc: 0.4988 - val_loss: 1.4153 - val_acc: 0.4219\n",
      "Epoch 193/300\n",
      "4431/4431 [==============================] - 0s 43us/step - loss: 1.2153 - acc: 0.4956 - val_loss: 1.4185 - val_acc: 0.4138\n",
      "Epoch 194/300\n",
      "4431/4431 [==============================] - 0s 41us/step - loss: 1.2145 - acc: 0.4958 - val_loss: 1.4150 - val_acc: 0.4158\n",
      "Epoch 195/300\n",
      "4431/4431 [==============================] - 0s 45us/step - loss: 1.2146 - acc: 0.4992 - val_loss: 1.4168 - val_acc: 0.4118\n",
      "Epoch 196/300\n",
      "4431/4431 [==============================] - 0s 43us/step - loss: 1.2129 - acc: 0.5028 - val_loss: 1.4150 - val_acc: 0.4138\n",
      "Epoch 197/300\n",
      "4431/4431 [==============================] - 0s 40us/step - loss: 1.2135 - acc: 0.4990 - val_loss: 1.4203 - val_acc: 0.4118\n",
      "Epoch 198/300\n",
      "4431/4431 [==============================] - 0s 42us/step - loss: 1.2124 - acc: 0.5015 - val_loss: 1.4151 - val_acc: 0.4219\n",
      "Epoch 199/300\n",
      "4431/4431 [==============================] - 0s 40us/step - loss: 1.2123 - acc: 0.5030 - val_loss: 1.4194 - val_acc: 0.4178\n",
      "Epoch 200/300\n",
      "4431/4431 [==============================] - 0s 41us/step - loss: 1.2119 - acc: 0.4997 - val_loss: 1.4217 - val_acc: 0.4199\n",
      "Epoch 201/300\n",
      "4431/4431 [==============================] - 0s 43us/step - loss: 1.2133 - acc: 0.5028 - val_loss: 1.4154 - val_acc: 0.4138\n",
      "Epoch 202/300\n",
      "4431/4431 [==============================] - 0s 40us/step - loss: 1.2107 - acc: 0.4981 - val_loss: 1.4180 - val_acc: 0.4138\n",
      "Epoch 203/300\n",
      "4431/4431 [==============================] - 0s 40us/step - loss: 1.2112 - acc: 0.4997 - val_loss: 1.4172 - val_acc: 0.4199\n",
      "Epoch 204/300\n",
      "4431/4431 [==============================] - 0s 40us/step - loss: 1.2110 - acc: 0.5053 - val_loss: 1.4170 - val_acc: 0.4158\n",
      "Epoch 205/300\n",
      "4431/4431 [==============================] - 0s 41us/step - loss: 1.2097 - acc: 0.5012 - val_loss: 1.4194 - val_acc: 0.4016\n",
      "Epoch 206/300\n",
      "4431/4431 [==============================] - 0s 42us/step - loss: 1.2102 - acc: 0.5039 - val_loss: 1.4222 - val_acc: 0.4118\n",
      "Epoch 207/300\n",
      "4431/4431 [==============================] - 0s 42us/step - loss: 1.2094 - acc: 0.5012 - val_loss: 1.4231 - val_acc: 0.4057\n",
      "Epoch 208/300\n",
      "4431/4431 [==============================] - 0s 43us/step - loss: 1.2094 - acc: 0.5028 - val_loss: 1.4227 - val_acc: 0.4158\n",
      "Epoch 209/300\n",
      "4431/4431 [==============================] - 0s 43us/step - loss: 1.2090 - acc: 0.5006 - val_loss: 1.4178 - val_acc: 0.4158\n",
      "Epoch 210/300\n",
      "4431/4431 [==============================] - 0s 42us/step - loss: 1.2084 - acc: 0.5024 - val_loss: 1.4175 - val_acc: 0.4178\n",
      "Epoch 211/300\n",
      "4431/4431 [==============================] - 0s 42us/step - loss: 1.2078 - acc: 0.5006 - val_loss: 1.4188 - val_acc: 0.4016\n",
      "Epoch 212/300\n",
      "4431/4431 [==============================] - 0s 42us/step - loss: 1.2078 - acc: 0.5019 - val_loss: 1.4197 - val_acc: 0.4239\n",
      "Epoch 213/300\n",
      "4431/4431 [==============================] - 0s 43us/step - loss: 1.2084 - acc: 0.5033 - val_loss: 1.4181 - val_acc: 0.4239\n",
      "Epoch 214/300\n",
      "4431/4431 [==============================] - 0s 39us/step - loss: 1.2067 - acc: 0.5019 - val_loss: 1.4189 - val_acc: 0.4118\n",
      "Epoch 215/300\n",
      "4431/4431 [==============================] - 0s 37us/step - loss: 1.2076 - acc: 0.4983 - val_loss: 1.4215 - val_acc: 0.4097\n",
      "Epoch 216/300\n",
      "4431/4431 [==============================] - 0s 40us/step - loss: 1.2067 - acc: 0.5044 - val_loss: 1.4219 - val_acc: 0.4158\n",
      "Epoch 217/300\n",
      "4431/4431 [==============================] - 0s 42us/step - loss: 1.2067 - acc: 0.5046 - val_loss: 1.4223 - val_acc: 0.4097\n",
      "Epoch 218/300\n",
      "4431/4431 [==============================] - 0s 46us/step - loss: 1.2060 - acc: 0.5049 - val_loss: 1.4215 - val_acc: 0.4037\n",
      "Epoch 219/300\n",
      "4431/4431 [==============================] - 0s 38us/step - loss: 1.2054 - acc: 0.5017 - val_loss: 1.4209 - val_acc: 0.4097\n",
      "Epoch 220/300\n",
      "4431/4431 [==============================] - 0s 41us/step - loss: 1.2054 - acc: 0.5053 - val_loss: 1.4237 - val_acc: 0.4158\n",
      "Epoch 221/300\n",
      "4431/4431 [==============================] - 0s 40us/step - loss: 1.2050 - acc: 0.5071 - val_loss: 1.4184 - val_acc: 0.4097\n",
      "Epoch 222/300\n",
      "4431/4431 [==============================] - 0s 41us/step - loss: 1.2039 - acc: 0.5096 - val_loss: 1.4301 - val_acc: 0.4077\n",
      "Epoch 223/300\n",
      "4431/4431 [==============================] - 0s 43us/step - loss: 1.2038 - acc: 0.4979 - val_loss: 1.4201 - val_acc: 0.4178\n",
      "Epoch 224/300\n",
      "4431/4431 [==============================] - 0s 45us/step - loss: 1.2036 - acc: 0.5019 - val_loss: 1.4277 - val_acc: 0.4300\n",
      "Epoch 225/300\n",
      "4431/4431 [==============================] - 0s 44us/step - loss: 1.2034 - acc: 0.5026 - val_loss: 1.4220 - val_acc: 0.4178\n",
      "Epoch 226/300\n",
      "4431/4431 [==============================] - 0s 42us/step - loss: 1.2017 - acc: 0.5044 - val_loss: 1.4273 - val_acc: 0.4300\n",
      "Epoch 227/300\n",
      "4431/4431 [==============================] - 0s 45us/step - loss: 1.2029 - acc: 0.5019 - val_loss: 1.4216 - val_acc: 0.4239\n",
      "Epoch 228/300\n",
      "4431/4431 [==============================] - 0s 43us/step - loss: 1.2022 - acc: 0.5067 - val_loss: 1.4209 - val_acc: 0.4178\n",
      "Epoch 229/300\n",
      "4431/4431 [==============================] - 0s 44us/step - loss: 1.2018 - acc: 0.5046 - val_loss: 1.4239 - val_acc: 0.3996\n",
      "Epoch 230/300\n",
      "4431/4431 [==============================] - 0s 43us/step - loss: 1.2012 - acc: 0.5085 - val_loss: 1.4227 - val_acc: 0.4037\n",
      "Epoch 231/300\n",
      "4431/4431 [==============================] - 0s 40us/step - loss: 1.2011 - acc: 0.5044 - val_loss: 1.4222 - val_acc: 0.4138\n",
      "Epoch 232/300\n",
      "4431/4431 [==============================] - 0s 37us/step - loss: 1.2011 - acc: 0.5060 - val_loss: 1.4221 - val_acc: 0.4199\n",
      "Epoch 233/300\n",
      "4431/4431 [==============================] - 0s 39us/step - loss: 1.1999 - acc: 0.5107 - val_loss: 1.4241 - val_acc: 0.3996\n",
      "Epoch 234/300\n",
      "4431/4431 [==============================] - 0s 40us/step - loss: 1.2005 - acc: 0.5069 - val_loss: 1.4223 - val_acc: 0.4097\n",
      "Epoch 235/300\n",
      "4431/4431 [==============================] - 0s 37us/step - loss: 1.1988 - acc: 0.5069 - val_loss: 1.4204 - val_acc: 0.4057\n",
      "Epoch 236/300\n",
      "4431/4431 [==============================] - 0s 40us/step - loss: 1.1992 - acc: 0.5091 - val_loss: 1.4254 - val_acc: 0.4077\n",
      "Epoch 237/300\n",
      "4431/4431 [==============================] - 0s 40us/step - loss: 1.2000 - acc: 0.5044 - val_loss: 1.4226 - val_acc: 0.4138\n",
      "Epoch 238/300\n"
     ]
    },
    {
     "name": "stdout",
     "output_type": "stream",
     "text": [
      "4431/4431 [==============================] - 0s 39us/step - loss: 1.1986 - acc: 0.5121 - val_loss: 1.4246 - val_acc: 0.4057\n",
      "Epoch 239/300\n",
      "4431/4431 [==============================] - 0s 40us/step - loss: 1.1989 - acc: 0.5051 - val_loss: 1.4229 - val_acc: 0.4138\n",
      "Epoch 240/300\n",
      "4431/4431 [==============================] - 0s 41us/step - loss: 1.1989 - acc: 0.5064 - val_loss: 1.4220 - val_acc: 0.4097\n",
      "Epoch 241/300\n",
      "4431/4431 [==============================] - 0s 41us/step - loss: 1.1987 - acc: 0.5067 - val_loss: 1.4260 - val_acc: 0.4097\n",
      "Epoch 242/300\n",
      "4431/4431 [==============================] - 0s 41us/step - loss: 1.1977 - acc: 0.5091 - val_loss: 1.4215 - val_acc: 0.4178\n",
      "Epoch 243/300\n",
      "4431/4431 [==============================] - 0s 43us/step - loss: 1.1976 - acc: 0.5062 - val_loss: 1.4255 - val_acc: 0.4138\n",
      "Epoch 244/300\n",
      "4431/4431 [==============================] - 0s 42us/step - loss: 1.1964 - acc: 0.5071 - val_loss: 1.4220 - val_acc: 0.4138\n",
      "Epoch 245/300\n",
      "4431/4431 [==============================] - 0s 40us/step - loss: 1.1971 - acc: 0.5089 - val_loss: 1.4256 - val_acc: 0.4077\n",
      "Epoch 246/300\n",
      "4431/4431 [==============================] - 0s 42us/step - loss: 1.1960 - acc: 0.5071 - val_loss: 1.4222 - val_acc: 0.4199\n",
      "Epoch 247/300\n",
      "4431/4431 [==============================] - 0s 42us/step - loss: 1.1958 - acc: 0.5114 - val_loss: 1.4238 - val_acc: 0.4280\n",
      "Epoch 248/300\n",
      "4431/4431 [==============================] - 0s 42us/step - loss: 1.1957 - acc: 0.5103 - val_loss: 1.4197 - val_acc: 0.4097\n",
      "Epoch 249/300\n",
      "4431/4431 [==============================] - 0s 42us/step - loss: 1.1957 - acc: 0.5114 - val_loss: 1.4249 - val_acc: 0.4239\n",
      "Epoch 250/300\n",
      "4431/4431 [==============================] - 0s 43us/step - loss: 1.1954 - acc: 0.5123 - val_loss: 1.4259 - val_acc: 0.4260\n",
      "Epoch 251/300\n",
      "4431/4431 [==============================] - 0s 40us/step - loss: 1.1951 - acc: 0.5087 - val_loss: 1.4224 - val_acc: 0.4300\n",
      "Epoch 252/300\n",
      "4431/4431 [==============================] - 0s 43us/step - loss: 1.1954 - acc: 0.5105 - val_loss: 1.4259 - val_acc: 0.4118\n",
      "Epoch 253/300\n",
      "4431/4431 [==============================] - 0s 42us/step - loss: 1.1950 - acc: 0.5082 - val_loss: 1.4248 - val_acc: 0.4118\n",
      "Epoch 254/300\n",
      "4431/4431 [==============================] - 0s 41us/step - loss: 1.1943 - acc: 0.5109 - val_loss: 1.4228 - val_acc: 0.4118\n",
      "Epoch 255/300\n",
      "4431/4431 [==============================] - 0s 41us/step - loss: 1.1938 - acc: 0.5107 - val_loss: 1.4209 - val_acc: 0.4178\n",
      "Epoch 256/300\n",
      "4431/4431 [==============================] - 0s 41us/step - loss: 1.1931 - acc: 0.5103 - val_loss: 1.4241 - val_acc: 0.4138\n",
      "Epoch 257/300\n",
      "4431/4431 [==============================] - 0s 42us/step - loss: 1.1934 - acc: 0.5107 - val_loss: 1.4253 - val_acc: 0.4280\n",
      "Epoch 258/300\n",
      "4431/4431 [==============================] - 0s 43us/step - loss: 1.1931 - acc: 0.5085 - val_loss: 1.4236 - val_acc: 0.4280\n",
      "Epoch 259/300\n",
      "4431/4431 [==============================] - 0s 37us/step - loss: 1.1925 - acc: 0.5096 - val_loss: 1.4202 - val_acc: 0.4178\n",
      "Epoch 260/300\n",
      "4431/4431 [==============================] - 0s 41us/step - loss: 1.1923 - acc: 0.5125 - val_loss: 1.4240 - val_acc: 0.4239\n",
      "Epoch 261/300\n",
      "4431/4431 [==============================] - 0s 40us/step - loss: 1.1919 - acc: 0.5096 - val_loss: 1.4256 - val_acc: 0.4118\n",
      "Epoch 262/300\n",
      "4431/4431 [==============================] - 0s 41us/step - loss: 1.1932 - acc: 0.5033 - val_loss: 1.4218 - val_acc: 0.4118\n",
      "Epoch 263/300\n",
      "4431/4431 [==============================] - 0s 42us/step - loss: 1.1906 - acc: 0.5125 - val_loss: 1.4229 - val_acc: 0.4077\n",
      "Epoch 264/300\n",
      "4431/4431 [==============================] - 0s 41us/step - loss: 1.1914 - acc: 0.5087 - val_loss: 1.4269 - val_acc: 0.4178\n",
      "Epoch 265/300\n",
      "4431/4431 [==============================] - 0s 43us/step - loss: 1.1907 - acc: 0.5100 - val_loss: 1.4251 - val_acc: 0.4239\n",
      "Epoch 266/300\n",
      "4431/4431 [==============================] - 0s 42us/step - loss: 1.1914 - acc: 0.5121 - val_loss: 1.4219 - val_acc: 0.4239\n",
      "Epoch 267/300\n",
      "4431/4431 [==============================] - 0s 42us/step - loss: 1.1915 - acc: 0.5091 - val_loss: 1.4252 - val_acc: 0.4118\n",
      "Epoch 268/300\n",
      "4431/4431 [==============================] - 0s 40us/step - loss: 1.1911 - acc: 0.5091 - val_loss: 1.4245 - val_acc: 0.4199\n",
      "Epoch 269/300\n",
      "4431/4431 [==============================] - 0s 40us/step - loss: 1.1895 - acc: 0.5094 - val_loss: 1.4239 - val_acc: 0.4199\n",
      "Epoch 270/300\n",
      "4431/4431 [==============================] - 0s 40us/step - loss: 1.1901 - acc: 0.5121 - val_loss: 1.4237 - val_acc: 0.4219\n",
      "Epoch 271/300\n",
      "4431/4431 [==============================] - 0s 40us/step - loss: 1.1881 - acc: 0.5100 - val_loss: 1.4300 - val_acc: 0.4260\n",
      "Epoch 272/300\n",
      "4431/4431 [==============================] - 0s 41us/step - loss: 1.1891 - acc: 0.5087 - val_loss: 1.4236 - val_acc: 0.4118\n",
      "Epoch 273/300\n",
      "4431/4431 [==============================] - 0s 42us/step - loss: 1.1887 - acc: 0.5109 - val_loss: 1.4217 - val_acc: 0.4178\n",
      "Epoch 274/300\n",
      "4431/4431 [==============================] - 0s 43us/step - loss: 1.1887 - acc: 0.5094 - val_loss: 1.4247 - val_acc: 0.4097\n",
      "Epoch 275/300\n",
      "4431/4431 [==============================] - 0s 43us/step - loss: 1.1878 - acc: 0.5125 - val_loss: 1.4237 - val_acc: 0.4239\n",
      "Epoch 276/300\n",
      "4431/4431 [==============================] - 0s 43us/step - loss: 1.1875 - acc: 0.5137 - val_loss: 1.4267 - val_acc: 0.4280\n",
      "Epoch 277/300\n",
      "4431/4431 [==============================] - 0s 43us/step - loss: 1.1871 - acc: 0.5125 - val_loss: 1.4271 - val_acc: 0.4178\n",
      "Epoch 278/300\n",
      "4431/4431 [==============================] - 0s 44us/step - loss: 1.1867 - acc: 0.5112 - val_loss: 1.4226 - val_acc: 0.4097\n",
      "Epoch 279/300\n",
      "4431/4431 [==============================] - 0s 44us/step - loss: 1.1866 - acc: 0.5118 - val_loss: 1.4258 - val_acc: 0.4077\n",
      "Epoch 280/300\n",
      "4431/4431 [==============================] - 0s 45us/step - loss: 1.1872 - acc: 0.5130 - val_loss: 1.4236 - val_acc: 0.4118\n",
      "Epoch 281/300\n",
      "4431/4431 [==============================] - 0s 44us/step - loss: 1.1863 - acc: 0.5100 - val_loss: 1.4261 - val_acc: 0.4260\n",
      "Epoch 282/300\n",
      "4431/4431 [==============================] - 0s 45us/step - loss: 1.1858 - acc: 0.5103 - val_loss: 1.4286 - val_acc: 0.4239\n",
      "Epoch 283/300\n",
      "4431/4431 [==============================] - 0s 45us/step - loss: 1.1852 - acc: 0.5141 - val_loss: 1.4268 - val_acc: 0.4097\n",
      "Epoch 284/300\n",
      "4431/4431 [==============================] - 0s 46us/step - loss: 1.1843 - acc: 0.5141 - val_loss: 1.4282 - val_acc: 0.4138\n",
      "Epoch 285/300\n",
      "4431/4431 [==============================] - 0s 46us/step - loss: 1.1845 - acc: 0.5114 - val_loss: 1.4261 - val_acc: 0.4219\n",
      "Epoch 286/300\n",
      "4431/4431 [==============================] - 0s 46us/step - loss: 1.1855 - acc: 0.5132 - val_loss: 1.4274 - val_acc: 0.4118\n",
      "Epoch 287/300\n",
      "4431/4431 [==============================] - 0s 46us/step - loss: 1.1846 - acc: 0.5100 - val_loss: 1.4235 - val_acc: 0.4037\n",
      "Epoch 288/300\n",
      "4431/4431 [==============================] - 0s 46us/step - loss: 1.1832 - acc: 0.5132 - val_loss: 1.4275 - val_acc: 0.4097\n",
      "Epoch 289/300\n",
      "4431/4431 [==============================] - 0s 45us/step - loss: 1.1834 - acc: 0.5157 - val_loss: 1.4273 - val_acc: 0.4219\n",
      "Epoch 290/300\n",
      "4431/4431 [==============================] - 0s 45us/step - loss: 1.1844 - acc: 0.5132 - val_loss: 1.4251 - val_acc: 0.4178\n",
      "Epoch 291/300\n",
      "4431/4431 [==============================] - 0s 46us/step - loss: 1.1833 - acc: 0.5139 - val_loss: 1.4279 - val_acc: 0.4138\n",
      "Epoch 292/300\n",
      "4431/4431 [==============================] - 0s 45us/step - loss: 1.1823 - acc: 0.5096 - val_loss: 1.4245 - val_acc: 0.4016\n",
      "Epoch 293/300\n",
      "4431/4431 [==============================] - 0s 44us/step - loss: 1.1841 - acc: 0.5125 - val_loss: 1.4277 - val_acc: 0.4138\n",
      "Epoch 294/300\n",
      "4431/4431 [==============================] - 0s 44us/step - loss: 1.1831 - acc: 0.5112 - val_loss: 1.4252 - val_acc: 0.4219\n",
      "Epoch 295/300\n",
      "4431/4431 [==============================] - 0s 44us/step - loss: 1.1816 - acc: 0.5134 - val_loss: 1.4262 - val_acc: 0.4239\n",
      "Epoch 296/300\n",
      "4431/4431 [==============================] - 0s 43us/step - loss: 1.1807 - acc: 0.5137 - val_loss: 1.4325 - val_acc: 0.4260\n",
      "Epoch 297/300\n"
     ]
    },
    {
     "name": "stdout",
     "output_type": "stream",
     "text": [
      "4431/4431 [==============================] - 0s 42us/step - loss: 1.1827 - acc: 0.5123 - val_loss: 1.4266 - val_acc: 0.4138\n",
      "Epoch 298/300\n",
      "4431/4431 [==============================] - 0s 42us/step - loss: 1.1826 - acc: 0.5146 - val_loss: 1.4318 - val_acc: 0.4361\n",
      "Epoch 299/300\n",
      "4431/4431 [==============================] - 0s 41us/step - loss: 1.1809 - acc: 0.5116 - val_loss: 1.4291 - val_acc: 0.4239\n",
      "Epoch 300/300\n",
      "4431/4431 [==============================] - 0s 42us/step - loss: 1.1805 - acc: 0.5103 - val_loss: 1.4289 - val_acc: 0.4138\n"
     ]
    }
   ],
   "source": [
    "history = clf_nn.fit(train_ave,trainY1,epochs=300,batch_size=32,validation_split=0.1)"
   ]
  },
  {
   "cell_type": "code",
   "execution_count": 168,
   "metadata": {},
   "outputs": [
    {
     "name": "stdout",
     "output_type": "stream",
     "text": [
      "(4924, 10) (4924, 5)\n"
     ]
    }
   ],
   "source": [
    "train_seq_pad = np.delete(train_seq_pad,drop_idx,axis=0)\n",
    "print(train_seq_pad.shape,trainY1.shape)"
   ]
  },
  {
   "cell_type": "code",
   "execution_count": 169,
   "metadata": {},
   "outputs": [
    {
     "name": "stdout",
     "output_type": "stream",
     "text": [
      "_________________________________________________________________\n",
      "Layer (type)                 Output Shape              Param #   \n",
      "=================================================================\n",
      "embedding_5 (Embedding)      (None, 10, 25)            125025    \n",
      "_________________________________________________________________\n",
      "flatten_5 (Flatten)          (None, 250)               0         \n",
      "_________________________________________________________________\n",
      "dense_39 (Dense)             (None, 32)                8032      \n",
      "_________________________________________________________________\n",
      "dense_40 (Dense)             (None, 5)                 165       \n",
      "=================================================================\n",
      "Total params: 133,222\n",
      "Trainable params: 8,197\n",
      "Non-trainable params: 125,025\n",
      "_________________________________________________________________\n"
     ]
    }
   ],
   "source": [
    "clf_nn = Sequential()\n",
    "clf_nn.add(Embedding(max_words+1,embedding_dim,weights=[initial_weight],trainable=False,input_length=max_len))\n",
    "#clf_nn.add(Dense(32,activation='relu',input_shape=(embedding_dim,)))\n",
    "clf_nn.add(Flatten())\n",
    "#clf_nn.add(Dense(256,activation='relu'))\n",
    "clf_nn.add(Dense(32,activation='relu'))\n",
    "clf_nn.add(Dense(5,activation='softmax'))\n",
    "\n",
    "clf_nn.summary()\n",
    "\n",
    "\n",
    "opt = Adam(lr=1e-3, beta_1=0.9, beta_2=0.999, epsilon=None, decay=0.0, amsgrad=False)\n",
    "clf_nn.compile(optimizer=opt,loss='categorical_crossentropy',metrics=['acc'])"
   ]
  },
  {
   "cell_type": "code",
   "execution_count": 170,
   "metadata": {},
   "outputs": [
    {
     "name": "stdout",
     "output_type": "stream",
     "text": [
      "Train on 4431 samples, validate on 493 samples\n",
      "Epoch 1/50\n",
      "4431/4431 [==============================] - 1s 123us/step - loss: 1.5861 - acc: 0.3067 - val_loss: 1.4954 - val_acc: 0.3327\n",
      "Epoch 2/50\n",
      "4431/4431 [==============================] - 0s 42us/step - loss: 1.3825 - acc: 0.4033 - val_loss: 1.4583 - val_acc: 0.3773\n",
      "Epoch 3/50\n",
      "4431/4431 [==============================] - 0s 40us/step - loss: 1.3112 - acc: 0.4478 - val_loss: 1.4404 - val_acc: 0.3834\n",
      "Epoch 4/50\n",
      "4431/4431 [==============================] - 0s 43us/step - loss: 1.2633 - acc: 0.4724 - val_loss: 1.4323 - val_acc: 0.3854\n",
      "Epoch 5/50\n",
      "4431/4431 [==============================] - 0s 40us/step - loss: 1.2312 - acc: 0.4893 - val_loss: 1.4325 - val_acc: 0.4016\n",
      "Epoch 6/50\n",
      "4431/4431 [==============================] - 0s 41us/step - loss: 1.1998 - acc: 0.5123 - val_loss: 1.4403 - val_acc: 0.3955\n",
      "Epoch 7/50\n",
      "4431/4431 [==============================] - 0s 41us/step - loss: 1.1753 - acc: 0.5272 - val_loss: 1.4456 - val_acc: 0.3874\n",
      "Epoch 8/50\n",
      "4431/4431 [==============================] - 0s 40us/step - loss: 1.1462 - acc: 0.5383 - val_loss: 1.4510 - val_acc: 0.4037\n",
      "Epoch 9/50\n",
      "4431/4431 [==============================] - 0s 39us/step - loss: 1.1242 - acc: 0.5527 - val_loss: 1.4522 - val_acc: 0.4057\n",
      "Epoch 10/50\n",
      "4431/4431 [==============================] - 0s 40us/step - loss: 1.0950 - acc: 0.5617 - val_loss: 1.4737 - val_acc: 0.4077\n",
      "Epoch 11/50\n",
      "4431/4431 [==============================] - 0s 40us/step - loss: 1.0719 - acc: 0.5741 - val_loss: 1.4925 - val_acc: 0.3793\n",
      "Epoch 12/50\n",
      "4431/4431 [==============================] - 0s 40us/step - loss: 1.0453 - acc: 0.5820 - val_loss: 1.4977 - val_acc: 0.4057\n",
      "Epoch 13/50\n",
      "4431/4431 [==============================] - 0s 42us/step - loss: 1.0193 - acc: 0.6048 - val_loss: 1.4970 - val_acc: 0.3976\n",
      "Epoch 14/50\n",
      "4431/4431 [==============================] - 0s 39us/step - loss: 0.9952 - acc: 0.6073 - val_loss: 1.5200 - val_acc: 0.4118\n",
      "Epoch 15/50\n",
      "4431/4431 [==============================] - 0s 52us/step - loss: 0.9712 - acc: 0.6263 - val_loss: 1.5165 - val_acc: 0.3874\n",
      "Epoch 16/50\n",
      "4431/4431 [==============================] - 0s 45us/step - loss: 0.9466 - acc: 0.6315 - val_loss: 1.5355 - val_acc: 0.3976\n",
      "Epoch 17/50\n",
      "4431/4431 [==============================] - 0s 39us/step - loss: 0.9261 - acc: 0.6455 - val_loss: 1.5958 - val_acc: 0.4300\n",
      "Epoch 18/50\n",
      "4431/4431 [==============================] - 0s 41us/step - loss: 0.9028 - acc: 0.6592 - val_loss: 1.5716 - val_acc: 0.3834\n",
      "Epoch 19/50\n",
      "4431/4431 [==============================] - 0s 42us/step - loss: 0.8799 - acc: 0.6696 - val_loss: 1.5984 - val_acc: 0.4016\n",
      "Epoch 20/50\n",
      "4431/4431 [==============================] - 0s 40us/step - loss: 0.8589 - acc: 0.6782 - val_loss: 1.6086 - val_acc: 0.3996\n",
      "Epoch 21/50\n",
      "4431/4431 [==============================] - 0s 40us/step - loss: 0.8379 - acc: 0.6849 - val_loss: 1.6388 - val_acc: 0.3874\n",
      "Epoch 22/50\n",
      "4431/4431 [==============================] - 0s 40us/step - loss: 0.8217 - acc: 0.6910 - val_loss: 1.6614 - val_acc: 0.4016\n",
      "Epoch 23/50\n",
      "4431/4431 [==============================] - 0s 41us/step - loss: 0.7983 - acc: 0.7046 - val_loss: 1.6798 - val_acc: 0.4057\n",
      "Epoch 24/50\n",
      "4431/4431 [==============================] - 0s 41us/step - loss: 0.7797 - acc: 0.7093 - val_loss: 1.7033 - val_acc: 0.3753\n",
      "Epoch 25/50\n",
      "4431/4431 [==============================] - 0s 44us/step - loss: 0.7613 - acc: 0.7197 - val_loss: 1.7451 - val_acc: 0.4016\n",
      "Epoch 26/50\n",
      "4431/4431 [==============================] - 0s 42us/step - loss: 0.7447 - acc: 0.7276 - val_loss: 1.7318 - val_acc: 0.3895\n",
      "Epoch 27/50\n",
      "4431/4431 [==============================] - 0s 43us/step - loss: 0.7316 - acc: 0.7348 - val_loss: 1.7646 - val_acc: 0.3895\n",
      "Epoch 28/50\n",
      "4431/4431 [==============================] - 0s 45us/step - loss: 0.7139 - acc: 0.7407 - val_loss: 1.7995 - val_acc: 0.3834\n",
      "Epoch 29/50\n",
      "4431/4431 [==============================] - 0s 43us/step - loss: 0.6958 - acc: 0.7567 - val_loss: 1.8289 - val_acc: 0.3834\n",
      "Epoch 30/50\n",
      "4431/4431 [==============================] - 0s 42us/step - loss: 0.6836 - acc: 0.7569 - val_loss: 1.8416 - val_acc: 0.3854\n",
      "Epoch 31/50\n",
      "4431/4431 [==============================] - 0s 42us/step - loss: 0.6660 - acc: 0.7671 - val_loss: 1.8460 - val_acc: 0.3753\n",
      "Epoch 32/50\n",
      "4431/4431 [==============================] - 0s 40us/step - loss: 0.6499 - acc: 0.7768 - val_loss: 1.8882 - val_acc: 0.3854\n",
      "Epoch 33/50\n",
      "4431/4431 [==============================] - 0s 40us/step - loss: 0.6342 - acc: 0.7872 - val_loss: 1.9387 - val_acc: 0.3834\n",
      "Epoch 34/50\n",
      "4431/4431 [==============================] - 0s 38us/step - loss: 0.6205 - acc: 0.7870 - val_loss: 1.9378 - val_acc: 0.3895\n",
      "Epoch 35/50\n",
      "4431/4431 [==============================] - 0s 39us/step - loss: 0.6082 - acc: 0.8000 - val_loss: 1.9825 - val_acc: 0.3854\n",
      "Epoch 36/50\n",
      "4431/4431 [==============================] - 0s 42us/step - loss: 0.5934 - acc: 0.8025 - val_loss: 2.0021 - val_acc: 0.3874\n",
      "Epoch 37/50\n",
      "4431/4431 [==============================] - 0s 39us/step - loss: 0.5834 - acc: 0.8037 - val_loss: 1.9959 - val_acc: 0.3895\n",
      "Epoch 38/50\n",
      "4431/4431 [==============================] - 0s 40us/step - loss: 0.5686 - acc: 0.8120 - val_loss: 2.0579 - val_acc: 0.3955\n",
      "Epoch 39/50\n",
      "4431/4431 [==============================] - 0s 43us/step - loss: 0.5575 - acc: 0.8149 - val_loss: 2.0745 - val_acc: 0.3854\n",
      "Epoch 40/50\n",
      "4431/4431 [==============================] - 0s 43us/step - loss: 0.5444 - acc: 0.8222 - val_loss: 2.1027 - val_acc: 0.3753\n",
      "Epoch 41/50\n",
      "4431/4431 [==============================] - 0s 43us/step - loss: 0.5343 - acc: 0.8265 - val_loss: 2.1325 - val_acc: 0.3854\n",
      "Epoch 42/50\n",
      "4431/4431 [==============================] - 0s 43us/step - loss: 0.5230 - acc: 0.8307 - val_loss: 2.1539 - val_acc: 0.3854\n",
      "Epoch 43/50\n",
      "4431/4431 [==============================] - 0s 39us/step - loss: 0.5135 - acc: 0.8368 - val_loss: 2.1806 - val_acc: 0.3915\n",
      "Epoch 44/50\n",
      "4431/4431 [==============================] - 0s 41us/step - loss: 0.5040 - acc: 0.8402 - val_loss: 2.2023 - val_acc: 0.3895\n",
      "Epoch 45/50\n",
      "4431/4431 [==============================] - 0s 42us/step - loss: 0.4932 - acc: 0.8441 - val_loss: 2.2724 - val_acc: 0.3753\n",
      "Epoch 46/50\n",
      "4431/4431 [==============================] - 0s 42us/step - loss: 0.4844 - acc: 0.8477 - val_loss: 2.2763 - val_acc: 0.3753\n",
      "Epoch 47/50\n",
      "4431/4431 [==============================] - 0s 43us/step - loss: 0.4752 - acc: 0.8504 - val_loss: 2.2851 - val_acc: 0.3753\n",
      "Epoch 48/50\n",
      "4431/4431 [==============================] - 0s 42us/step - loss: 0.4660 - acc: 0.8520 - val_loss: 2.2977 - val_acc: 0.3753\n",
      "Epoch 49/50\n",
      "4431/4431 [==============================] - 0s 43us/step - loss: 0.4563 - acc: 0.8592 - val_loss: 2.3189 - val_acc: 0.3732\n",
      "Epoch 50/50\n",
      "4431/4431 [==============================] - 0s 42us/step - loss: 0.4453 - acc: 0.8689 - val_loss: 2.3526 - val_acc: 0.3773\n"
     ]
    }
   ],
   "source": [
    "history = clf_nn.fit(train_seq_pad,trainY1,epochs=50,batch_size=32,validation_split=0.1)"
   ]
  },
  {
   "cell_type": "code",
   "execution_count": null,
   "metadata": {},
   "outputs": [],
   "source": []
  }
 ],
 "metadata": {
  "celltoolbar": "Raw Cell Format",
  "kernelspec": {
   "display_name": "Python 3",
   "language": "python",
   "name": "python3"
  },
  "language_info": {
   "codemirror_mode": {
    "name": "ipython",
    "version": 3
   },
   "file_extension": ".py",
   "mimetype": "text/x-python",
   "name": "python",
   "nbconvert_exporter": "python",
   "pygments_lexer": "ipython3",
   "version": "3.6.4"
  }
 },
 "nbformat": 4,
 "nbformat_minor": 2
}
